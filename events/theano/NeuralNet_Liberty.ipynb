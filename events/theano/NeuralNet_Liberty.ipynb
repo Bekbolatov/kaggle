{
 "cells": [
  {
   "cell_type": "code",
   "execution_count": 1,
   "metadata": {
    "collapsed": false
   },
   "outputs": [
    {
     "name": "stderr",
     "output_type": "stream",
     "text": [
      "Using gpu device 0: GeForce GT 750M\n"
     ]
    }
   ],
   "source": [
    "import pandas as pd\n",
    "import numpy as np\n",
    "import theano\n",
    "from sklearn import datasets\n",
    "from sklearn.cross_validation import train_test_split\n",
    "from nolearn.lasagne import NeuralNet, TrainSplit\n",
    "import warnings\n",
    "from lasagne.layers import DenseLayer\n",
    "from lasagne.layers import InputLayer\n",
    "from lasagne.layers import DropoutLayer\n",
    "from lasagne.updates import nesterov_momentum, sgd\n",
    "from lasagne.objectives import squared_error, categorical_crossentropy, binary_crossentropy\n",
    "from lasagne.nonlinearities import sigmoid, rectify, softmax, linear, tanh, rectify, leaky_rectify, very_leaky_rectify\n",
    "from sklearn import preprocessing\n",
    "from sklearn.cross_validation import train_test_split\n",
    "from sklearn.utils.validation import NonBLASDotWarning\n",
    "import theano\n",
    "import numpy as np\n",
    "import matplotlib.pyplot as plt\n",
    "\n",
    "from dataset import get_data\n",
    "from gini import normalized_gini\n",
    "from numpy import log\n",
    "from sklearn.metrics import confusion_matrix\n",
    "from lasagne.layers import DenseLayer\n",
    "from lasagne.layers import InputLayer\n",
    "from lasagne.layers import DropoutLayer\n",
    "from lasagne.updates import nesterov_momentum, sgd\n",
    "from lasagne.objectives import squared_error, categorical_crossentropy, binary_crossentropy\n",
    "from lasagne.nonlinearities import sigmoid, rectify, softmax, linear, tanh\n",
    "from nolearn.lasagne import NeuralNet, TrainSplit\n",
    "\n",
    "warnings.simplefilter('always', NonBLASDotWarning)\n",
    "%matplotlib inline\n",
    "\n",
    "dat_x_orig, dat_y_orig, lb_x_orig, lb_ind = get_data()"
   ]
  },
  {
   "cell_type": "markdown",
   "metadata": {},
   "source": [
    "Load data"
   ]
  },
  {
   "cell_type": "code",
   "execution_count": 2,
   "metadata": {
    "collapsed": true
   },
   "outputs": [],
   "source": [
    "dat_x_orig, dat_y_orig, lb_x_orig, lb_ind = get_data()"
   ]
  },
  {
   "cell_type": "markdown",
   "metadata": {},
   "source": [
    "Relabel and scale"
   ]
  },
  {
   "cell_type": "code",
   "execution_count": 3,
   "metadata": {
    "collapsed": false
   },
   "outputs": [],
   "source": [
    "def labels(n):\n",
    "    if n <= 2:\n",
    "        return 0\n",
    "    else:\n",
    "        return 1\n",
    "    \n",
    "#     elif n == 2:\n",
    "#         return 1\n",
    "#     elif n == 3:\n",
    "#         return 2\n",
    "#     elif n <= 5:\n",
    "#         return 3\n",
    "#     elif n <= 9:\n",
    "#         return 4\n",
    "#     elif n <= 16:\n",
    "#         return 5\n",
    "#     elif n <= 40:\n",
    "#         return 6\n",
    "#     else:\n",
    "#         return 7\n",
    "\n",
    "nplabels = np.vectorize(labels)\n",
    "\n",
    "scaler = preprocessing.StandardScaler().fit(dat_x_orig)\n",
    "dat_x = scaler.transform(dat_x_orig)\n",
    "lb_x = scaler.transform(lb_x_orig)\n",
    "dat_y = nplabels(dat_y_orig) #** 0.75"
   ]
  },
  {
   "cell_type": "code",
   "execution_count": 4,
   "metadata": {
    "collapsed": false
   },
   "outputs": [
    {
     "data": {
      "text/plain": [
       "(50999,)"
      ]
     },
     "execution_count": 4,
     "metadata": {},
     "output_type": "execute_result"
    }
   ],
   "source": [
    "dat_y.shape"
   ]
  },
  {
   "cell_type": "code",
   "execution_count": 5,
   "metadata": {
    "collapsed": false
   },
   "outputs": [],
   "source": [
    "#pd.Series(dat_y).value_counts()\n",
    "\n",
    "#numpy.random.choice(a, size=None, replace=True, p=None)¶\n",
    "#0    18981\n",
    "#1     6145 *3\n",
    "#2     2025 *9\n",
    "#3    11918 *1.5\n",
    "#4     7213 *2.5\n",
    "#5     3848 * 4.5\n",
    "#6      854 *20\n",
    "#7       15 *1000\n",
    "\n",
    "#dat_x_1 = dat_x[dat_y == 1]\n",
    "#dat_y_1 = dat_y[dat_y == 1]\n",
    "#pick_1 = np.random.choice(range(dat_x_1.shape[0]), 13000)\n",
    "#dat_x = np.vstack( (dat_x, dat_x_1[pick_1]))\n",
    "#dat_y = np.hstack( (dat_y, dat_y_1[pick_1]))\n",
    "\n",
    "def addmore(label, amt, orig_x, orig_y):    \n",
    "    dat_x_2 = orig_x[orig_y == label]\n",
    "    dat_y_2 = orig_y[orig_y == label]\n",
    "    pick_2 = np.random.choice(range(dat_x_2.shape[0]), amt)\n",
    "    new_dat_x = np.vstack( (orig_x, dat_x_2[pick_2]))\n",
    "    new_dat_y = np.hstack( (orig_y, dat_y_2[pick_2]))\n",
    "    return new_dat_x, new_dat_y\n",
    "\n",
    "# dat_x, dat_y = addmore(1, 17000, dat_x, dat_y)\n",
    "# dat_x, dat_y = addmore(2, 17000, dat_x, dat_y)\n",
    "# dat_x, dat_y = addmore(3, 7000, dat_x, dat_y)\n",
    "# dat_x, dat_y = addmore(4, 10000, dat_x, dat_y)\n",
    "# dat_x, dat_y = addmore(5, 15000, dat_x, dat_y)\n",
    "# dat_x, dat_y = addmore(6, 17000, dat_x, dat_y)\n",
    "# dat_x, dat_y = addmore(7, 17000, dat_x, dat_y)\n",
    "dat_y_orig = dat_y"
   ]
  },
  {
   "cell_type": "markdown",
   "metadata": {},
   "source": [
    "Split dataset into train/test"
   ]
  },
  {
   "cell_type": "code",
   "execution_count": 6,
   "metadata": {
    "collapsed": false
   },
   "outputs": [
    {
     "data": {
      "text/plain": [
       "1    21999\n",
       "0    21350\n",
       "dtype: int64"
      ]
     },
     "execution_count": 6,
     "metadata": {},
     "output_type": "execute_result"
    }
   ],
   "source": [
    "train_index, test_index = train_test_split(range(dat_x.shape[0]), test_size=0.15, random_state=103)\n",
    "\n",
    "cv_x = dat_x[test_index, :]\n",
    "cv_y = dat_y[test_index]\n",
    "cv_y_true = dat_y_orig[test_index]\n",
    "train_x = dat_x[train_index, :]\n",
    "train_y = dat_y[train_index]\n",
    "\n",
    "pd.Series(train_y).value_counts()\n",
    "\n",
    "# train_x, train_y = addmore(1, 80, train_x, train_y) #11K\n",
    "# train_x, train_y = addmore(2, 100, train_x, train_y) #14K\n",
    "# train_x, train_y = addmore(3, 20, train_x, train_y) #6K\n",
    "# train_x, train_y = addmore(4, 30, train_x, train_y) #10K\n",
    "# train_x, train_y = addmore(5, 100, train_x, train_y) #13K\n",
    "# train_x, train_y = addmore(6, 250, train_x, train_y) #15K\n",
    "# train_x, train_y = addmore(7, 300, train_x, train_y) #15000\n",
    "\n",
    "# pd.Series(train_y).value_counts()\n",
    "\n",
    "# 0    16118\n",
    "# 1     5232\n",
    "# 2     1728\n",
    "# 3    10126\n",
    "# 4     6157\n",
    "# 5     3259\n",
    "# 6      717\n",
    "# 7       12\n",
    "\n"
   ]
  },
  {
   "cell_type": "markdown",
   "metadata": {},
   "source": [
    "Prepare for Theano"
   ]
  },
  {
   "cell_type": "code",
   "execution_count": 7,
   "metadata": {
    "collapsed": false
   },
   "outputs": [],
   "source": [
    "train_x = np.asarray(train_x, dtype = theano.config.floatX)\n",
    "train_y = np.asarray(train_y, dtype = 'int32')\n",
    "cv_x = np.asarray(cv_x, dtype = theano.config.floatX)\n",
    "cv_y = np.asarray(cv_y, dtype = 'int32')"
   ]
  },
  {
   "cell_type": "code",
   "execution_count": 8,
   "metadata": {
    "collapsed": false
   },
   "outputs": [
    {
     "name": "stdout",
     "output_type": "stream",
     "text": [
      "# Neural Network with 1142 learnable parameters\n",
      "\n",
      "## Layer information\n",
      "\n",
      "  #  name       size\n",
      "---  -------  ------\n",
      "  0  input       111\n",
      "  1  hidden1      10\n",
      "  2  output        2\n",
      "\n",
      "  epoch    train loss    valid loss    train/val    valid acc  dur\n",
      "-------  ------------  ------------  -----------  -----------  -----\n",
      "      1       \u001b[36m0.69256\u001b[0m       \u001b[32m0.67933\u001b[0m      1.01948      0.56271  0.26s\n",
      "      2       \u001b[36m0.67824\u001b[0m       \u001b[32m0.67461\u001b[0m      1.00538      0.57768  0.25s\n",
      "      3       \u001b[36m0.67415\u001b[0m       \u001b[32m0.67234\u001b[0m      1.00269      0.58112  0.30s\n",
      "      4       \u001b[36m0.67187\u001b[0m       \u001b[32m0.67127\u001b[0m      1.00088      0.58425  0.32s\n",
      "      5       \u001b[36m0.67059\u001b[0m       \u001b[32m0.67083\u001b[0m      0.99965      0.58384  0.25s\n",
      "      6       \u001b[36m0.66987\u001b[0m       \u001b[32m0.67067\u001b[0m      0.99881      0.58533  0.25s\n",
      "      7       \u001b[36m0.66942\u001b[0m       \u001b[32m0.67062\u001b[0m      0.99822      0.58518  0.32s\n",
      "      8       \u001b[36m0.66912\u001b[0m       \u001b[32m0.67061\u001b[0m      0.99778      0.58530  0.26s\n",
      "      9       \u001b[36m0.66890\u001b[0m       0.67061      0.99744      0.58514  0.25s\n",
      "     10       \u001b[36m0.66871\u001b[0m       \u001b[32m0.67061\u001b[0m      0.99716      0.58537  0.27s\n",
      "     11       \u001b[36m0.66854\u001b[0m       \u001b[32m0.67061\u001b[0m      0.99692      0.58549  0.36s\n",
      "     12       \u001b[36m0.66838\u001b[0m       \u001b[32m0.67060\u001b[0m      0.99670      0.58560  0.35s\n",
      "     13       \u001b[36m0.66823\u001b[0m       \u001b[32m0.67059\u001b[0m      0.99648      0.58541  0.35s\n",
      "     14       \u001b[36m0.66809\u001b[0m       \u001b[32m0.67058\u001b[0m      0.99628      0.58564  0.36s\n",
      "     15       \u001b[36m0.66794\u001b[0m       \u001b[32m0.67057\u001b[0m      0.99608      0.58530  0.32s\n",
      "     16       \u001b[36m0.66779\u001b[0m       \u001b[32m0.67056\u001b[0m      0.99587      0.58518  0.25s\n",
      "     17       \u001b[36m0.66765\u001b[0m       \u001b[32m0.67055\u001b[0m      0.99567      0.58453  0.26s\n",
      "     18       \u001b[36m0.66750\u001b[0m       \u001b[32m0.67054\u001b[0m      0.99546      0.58499  0.28s\n",
      "     19       \u001b[36m0.66735\u001b[0m       \u001b[32m0.67054\u001b[0m      0.99525      0.58419  0.31s\n",
      "     20       \u001b[36m0.66720\u001b[0m       \u001b[32m0.67053\u001b[0m      0.99503      0.58442  0.25s\n",
      "     21       \u001b[36m0.66704\u001b[0m       \u001b[32m0.67053\u001b[0m      0.99480      0.58499  0.25s\n",
      "     22       \u001b[36m0.66689\u001b[0m       0.67053      0.99457      0.58511  0.31s\n",
      "     23       \u001b[36m0.66673\u001b[0m       0.67053      0.99432      0.58534  0.30s\n",
      "     24       \u001b[36m0.66656\u001b[0m       0.67054      0.99407      0.58522  0.25s\n",
      "Stopping early\n"
     ]
    },
    {
     "data": {
      "text/plain": [
       "1    3874\n",
       "0    3776\n",
       "dtype: int64"
      ]
     },
     "execution_count": 8,
     "metadata": {},
     "output_type": "execute_result"
    }
   ],
   "source": [
    "\n",
    "def on_epoch_finished(obj, train_history):\n",
    "    if (len(train_history) > 5):\n",
    "        inLastEight = any([h['valid_loss_best'] for h in  train_history[-4:-1]] +\n",
    "                          [train_history[-1]['valid_loss'] < train_history[-2]['valid_loss'],\n",
    "                           train_history[-1]['valid_loss'] < train_history[-3]['valid_loss'],\n",
    "                           ])\n",
    "        if not inLastEight:\n",
    "            print(\"Stopping early\")\n",
    "            raise StopIteration\n",
    "\n",
    "def NeuralNetConstructor(num_features, max_epochs=5, update_learning_rate=0.2, verbose=1):\n",
    "    layers0 = [\n",
    "        ('input', InputLayer),\n",
    "#         ('dropout0', DropoutLayer),\n",
    "        ('hidden1', DenseLayer),\n",
    "#         ('hidden2', DenseLayer),\n",
    "        ('output', DenseLayer)]\n",
    "\n",
    "    #LSTMLayer\n",
    "    net0 = NeuralNet(\n",
    "        layers=layers0,\n",
    "\n",
    "        input_shape=(None, num_features),\n",
    "        input_nonlinearity=None,\n",
    "\n",
    "#         dropout0_p=0.2,\n",
    "\n",
    "        hidden1_num_units=10, #75, #20,\n",
    "        hidden1_nonlinearity=sigmoid,\n",
    "\n",
    "#         hidden2_num_units=10, #70, #24,\n",
    "#         hidden2_nonlinearity=rectify,\n",
    "\n",
    "        output_num_units=2,\n",
    "        output_nonlinearity=softmax,\n",
    "\n",
    "        on_epoch_finished=[on_epoch_finished],\n",
    "\n",
    "        objective_loss_function=categorical_crossentropy, #binary_crossentropy, #squared_error, categorical_crossentropy\n",
    "        update=nesterov_momentum,\n",
    "        update_learning_rate=update_learning_rate, #0.02,\n",
    "        update_momentum=0.9,\n",
    "        train_split=TrainSplit(eval_size=0.2),\n",
    "        verbose=verbose,\n",
    "        regression=False,\n",
    "        max_epochs=max_epochs)\n",
    "\n",
    "    return net0\n",
    "\n",
    "network = NeuralNetConstructor(111, max_epochs=200, update_learning_rate=0.01, verbose=1)\n",
    "network.fit(train_x, train_y)\n",
    "cv_preds = network.predict(cv_x)\n",
    "\n",
    "pd.Series(cv_y).value_counts()"
   ]
  },
  {
   "cell_type": "code",
   "execution_count": 9,
   "metadata": {
    "collapsed": false
   },
   "outputs": [
    {
     "name": "stdout",
     "output_type": "stream",
     "text": [
      "[[2091 1685]\n",
      " [1464 2410]]\n"
     ]
    },
    {
     "name": "stderr",
     "output_type": "stream",
     "text": [
      "/usr/local/lib/python2.7/site-packages/numpy/core/fromnumeric.py:2507: VisibleDeprecationWarning: `rank` is deprecated; use the `ndim` attribute or function instead. To find the rank of a matrix see `numpy.linalg.matrix_rank`.\n",
      "  VisibleDeprecationWarning)\n"
     ]
    },
    {
     "data": {
      "image/png": "[encoded data removed]",
      "text/plain": [
       "<matplotlib.figure.Figure at 0x1104b8590>"
      ]
     },
     "metadata": {},
     "output_type": "display_data"
    },
    {
     "name": "stdout",
     "output_type": "stream",
     "text": [
      "0.179644500932\n"
     ]
    }
   ],
   "source": [
    "cm = confusion_matrix(cv_y, cv_preds)\n",
    "print(cm)\n",
    "\n",
    "#pd.DataFrame(cv_preds).hist()\n",
    "\n",
    "plt.matshow(cm)\n",
    "plt.title('Confusion matrix')\n",
    "plt.colorbar()\n",
    "plt.ylabel('True label')\n",
    "plt.xlabel('Predicted label')\n",
    "plt.show()\n",
    "print(normalized_gini(cv_y_true, cv_preds))"
   ]
  },
  {
   "cell_type": "markdown",
   "metadata": {},
   "source": [
    "## PREV"
   ]
  },
  {
   "cell_type": "code",
   "execution_count": 12,
   "metadata": {
    "collapsed": true
   },
   "outputs": [],
   "source": []
  },
  {
   "cell_type": "code",
   "execution_count": 10,
   "metadata": {
    "collapsed": false
   },
   "outputs": [
    {
     "name": "stdout",
     "output_type": "stream",
     "text": [
      "[[2091 1685]\n",
      " [1464 2410]]\n"
     ]
    },
    {
     "data": {
      "image/png": "[encoded data removed]",
      "text/plain": [
       "<matplotlib.figure.Figure at 0x11f1db890>"
      ]
     },
     "metadata": {},
     "output_type": "display_data"
    },
    {
     "name": "stdout",
     "output_type": "stream",
     "text": [
      "0.179644500932\n"
     ]
    }
   ],
   "source": [
    "\n",
    "#cm = confusion_matrix(cv_y, cv_preds)\n",
    "#prev_cm = cm\n",
    "print(prev_cm)\n",
    "\n",
    "#pd.DataFrame(cv_preds).hist()\n",
    "\n",
    "plt.matshow(prev_cm)\n",
    "plt.title('Confusion matrix')\n",
    "plt.colorbar()\n",
    "plt.ylabel('True label')\n",
    "plt.xlabel('Predicted label')\n",
    "plt.show()\n",
    "print(normalized_gini(cv_y_true, cv_preds))"
   ]
  },
  {
   "cell_type": "code",
   "execution_count": 11,
   "metadata": {
    "collapsed": false
   },
   "outputs": [
    {
     "data": {
      "text/plain": [
       "array([0, 1, 0, ..., 1, 1, 1])"
      ]
     },
     "execution_count": 11,
     "metadata": {},
     "output_type": "execute_result"
    }
   ],
   "source": [
    "dat_y_orig"
   ]
  },
  {
   "cell_type": "code",
   "execution_count": null,
   "metadata": {
    "collapsed": true
   },
   "outputs": [],
   "source": []
  }
 ],
 "metadata": {
  "kernelspec": {
   "display_name": "Python 2",
   "language": "python",
   "name": "python2"
  },
  "language_info": {
   "codemirror_mode": {
    "name": "ipython",
    "version": 2
   },
   "file_extension": ".py",
   "mimetype": "text/x-python",
   "name": "python",
   "nbconvert_exporter": "python",
   "pygments_lexer": "ipython2",
   "version": "2.7.6"
  }
 },
 "nbformat": 4,
 "nbformat_minor": 0
}
