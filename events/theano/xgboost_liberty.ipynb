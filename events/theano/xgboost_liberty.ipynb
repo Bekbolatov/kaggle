{
 "cells": [
  {
   "cell_type": "code",
   "execution_count": 23,
   "metadata": {
    "collapsed": false
   },
   "outputs": [
    {
     "name": "stderr",
     "output_type": "stream",
     "text": [
      "Will train until cv error hasn't decreased in 50 rounds.\n",
      "[0]\tcv_low-Gini:0.284154\tcv-Gini:0.290463\n",
      "[1]\tcv_low-Gini:0.310975\tcv-Gini:0.317337\n",
      "[2]\tcv_low-Gini:0.323623\tcv-Gini:0.329907\n",
      "[3]\tcv_low-Gini:0.334340\tcv-Gini:0.340558\n",
      "[4]\tcv_low-Gini:0.338806\tcv-Gini:0.344777\n",
      "[5]\tcv_low-Gini:0.344009\tcv-Gini:0.349737\n",
      "[6]\tcv_low-Gini:0.346637\tcv-Gini:0.352327\n",
      "[7]\tcv_low-Gini:0.347452\tcv-Gini:0.353062\n",
      "[8]\tcv_low-Gini:0.351561\tcv-Gini:0.357162\n",
      "[9]\tcv_low-Gini:0.354310\tcv-Gini:0.360077\n",
      "[10]\tcv_low-Gini:0.356343\tcv-Gini:0.361970\n",
      "[11]\tcv_low-Gini:0.357056\tcv-Gini:0.362753\n",
      "[12]\tcv_low-Gini:0.358029\tcv-Gini:0.363851\n",
      "[13]\tcv_low-Gini:0.357240\tcv-Gini:0.363134\n",
      "[14]\tcv_low-Gini:0.357671\tcv-Gini:0.363771\n",
      "[15]\tcv_low-Gini:0.358489\tcv-Gini:0.364673\n",
      "[16]\tcv_low-Gini:0.359024\tcv-Gini:0.365324\n",
      "[17]\tcv_low-Gini:0.361285\tcv-Gini:0.367435\n",
      "[18]\tcv_low-Gini:0.361337\tcv-Gini:0.367568\n",
      "[19]\tcv_low-Gini:0.362700\tcv-Gini:0.368906\n",
      "[20]\tcv_low-Gini:0.362817\tcv-Gini:0.368991\n",
      "[21]\tcv_low-Gini:0.363156\tcv-Gini:0.369287\n",
      "[22]\tcv_low-Gini:0.363555\tcv-Gini:0.369554\n",
      "[23]\tcv_low-Gini:0.364647\tcv-Gini:0.370633\n",
      "[24]\tcv_low-Gini:0.365522\tcv-Gini:0.371840\n",
      "[25]\tcv_low-Gini:0.366789\tcv-Gini:0.373166\n",
      "[26]\tcv_low-Gini:0.368208\tcv-Gini:0.374525\n",
      "[27]\tcv_low-Gini:0.368388\tcv-Gini:0.374692\n",
      "[28]\tcv_low-Gini:0.368385\tcv-Gini:0.374674\n",
      "[29]\tcv_low-Gini:0.368492\tcv-Gini:0.374807\n",
      "[30]\tcv_low-Gini:0.369081\tcv-Gini:0.375326\n",
      "[31]\tcv_low-Gini:0.369624\tcv-Gini:0.375904\n",
      "[32]\tcv_low-Gini:0.369198\tcv-Gini:0.375509\n",
      "[33]\tcv_low-Gini:0.369438\tcv-Gini:0.375895\n",
      "[34]\tcv_low-Gini:0.369236\tcv-Gini:0.375658\n",
      "[35]\tcv_low-Gini:0.369495\tcv-Gini:0.375868\n",
      "[36]\tcv_low-Gini:0.369868\tcv-Gini:0.376247\n",
      "[37]\tcv_low-Gini:0.371198\tcv-Gini:0.377569\n",
      "[38]\tcv_low-Gini:0.372014\tcv-Gini:0.378320\n",
      "[39]\tcv_low-Gini:0.371819\tcv-Gini:0.378236\n",
      "[40]\tcv_low-Gini:0.372262\tcv-Gini:0.378677\n",
      "[41]\tcv_low-Gini:0.372641\tcv-Gini:0.379041\n",
      "[42]\tcv_low-Gini:0.373685\tcv-Gini:0.380051\n",
      "[43]\tcv_low-Gini:0.374690\tcv-Gini:0.381040\n",
      "[44]\tcv_low-Gini:0.375200\tcv-Gini:0.381567\n",
      "[45]\tcv_low-Gini:0.375165\tcv-Gini:0.381743\n",
      "[46]\tcv_low-Gini:0.375463\tcv-Gini:0.382021\n",
      "[47]\tcv_low-Gini:0.376349\tcv-Gini:0.383005\n",
      "[48]\tcv_low-Gini:0.376030\tcv-Gini:0.382683\n",
      "[49]\tcv_low-Gini:0.376071\tcv-Gini:0.382672\n",
      "[50]\tcv_low-Gini:0.375983\tcv-Gini:0.382609\n",
      "[51]\tcv_low-Gini:0.376233\tcv-Gini:0.382857\n",
      "[52]\tcv_low-Gini:0.376123\tcv-Gini:0.382701\n",
      "[53]\tcv_low-Gini:0.376687\tcv-Gini:0.383231\n",
      "[54]\tcv_low-Gini:0.377494\tcv-Gini:0.384065\n",
      "[55]\tcv_low-Gini:0.377742\tcv-Gini:0.384315\n",
      "[56]\tcv_low-Gini:0.378290\tcv-Gini:0.384849\n",
      "[57]\tcv_low-Gini:0.378716\tcv-Gini:0.385295\n",
      "[58]\tcv_low-Gini:0.379165\tcv-Gini:0.385727\n",
      "[59]\tcv_low-Gini:0.379001\tcv-Gini:0.385568\n",
      "[60]\tcv_low-Gini:0.379431\tcv-Gini:0.385942\n",
      "[61]\tcv_low-Gini:0.379906\tcv-Gini:0.386415\n",
      "[62]\tcv_low-Gini:0.379547\tcv-Gini:0.386061\n",
      "[63]\tcv_low-Gini:0.379873\tcv-Gini:0.386388\n",
      "[64]\tcv_low-Gini:0.380070\tcv-Gini:0.386551\n",
      "[65]\tcv_low-Gini:0.380058\tcv-Gini:0.386587\n",
      "[66]\tcv_low-Gini:0.380561\tcv-Gini:0.387068\n",
      "[67]\tcv_low-Gini:0.380831\tcv-Gini:0.387295\n",
      "[68]\tcv_low-Gini:0.381236\tcv-Gini:0.387726\n",
      "[69]\tcv_low-Gini:0.381496\tcv-Gini:0.387954\n",
      "[70]\tcv_low-Gini:0.381626\tcv-Gini:0.388138\n",
      "[71]\tcv_low-Gini:0.382257\tcv-Gini:0.388797\n",
      "[72]\tcv_low-Gini:0.382298\tcv-Gini:0.388836\n",
      "[73]\tcv_low-Gini:0.382705\tcv-Gini:0.389437\n",
      "[74]\tcv_low-Gini:0.383033\tcv-Gini:0.389774\n",
      "[75]\tcv_low-Gini:0.383564\tcv-Gini:0.390285\n",
      "[76]\tcv_low-Gini:0.383819\tcv-Gini:0.390534\n",
      "[77]\tcv_low-Gini:0.383901\tcv-Gini:0.390603\n",
      "[78]\tcv_low-Gini:0.383801\tcv-Gini:0.390507\n",
      "[79]\tcv_low-Gini:0.384039\tcv-Gini:0.390752\n",
      "[80]\tcv_low-Gini:0.383979\tcv-Gini:0.390681\n",
      "[81]\tcv_low-Gini:0.383921\tcv-Gini:0.390622\n",
      "[82]\tcv_low-Gini:0.384060\tcv-Gini:0.390779\n",
      "[83]\tcv_low-Gini:0.384081\tcv-Gini:0.390792\n",
      "[84]\tcv_low-Gini:0.384195\tcv-Gini:0.390951\n",
      "[85]\tcv_low-Gini:0.384442\tcv-Gini:0.391198\n",
      "[86]\tcv_low-Gini:0.384318\tcv-Gini:0.391064\n",
      "[87]\tcv_low-Gini:0.384604\tcv-Gini:0.391383\n",
      "[88]\tcv_low-Gini:0.384686\tcv-Gini:0.391464\n",
      "[89]\tcv_low-Gini:0.384836\tcv-Gini:0.391612\n",
      "[90]\tcv_low-Gini:0.385334\tcv-Gini:0.392087\n",
      "[91]\tcv_low-Gini:0.385118\tcv-Gini:0.391822\n",
      "[92]\tcv_low-Gini:0.385146\tcv-Gini:0.391875\n",
      "[93]\tcv_low-Gini:0.385183\tcv-Gini:0.391916\n",
      "[94]\tcv_low-Gini:0.385450\tcv-Gini:0.392174\n",
      "[95]\tcv_low-Gini:0.385386\tcv-Gini:0.392059\n",
      "[96]\tcv_low-Gini:0.385100\tcv-Gini:0.391773\n",
      "[97]\tcv_low-Gini:0.384742\tcv-Gini:0.391399\n",
      "[98]\tcv_low-Gini:0.384796\tcv-Gini:0.391461\n",
      "[99]\tcv_low-Gini:0.384622\tcv-Gini:0.391266\n",
      "[100]\tcv_low-Gini:0.385054\tcv-Gini:0.391683\n",
      "[101]\tcv_low-Gini:0.384828\tcv-Gini:0.391425\n",
      "[102]\tcv_low-Gini:0.384953\tcv-Gini:0.391511\n",
      "[103]\tcv_low-Gini:0.384885\tcv-Gini:0.391438\n",
      "[104]\tcv_low-Gini:0.385457\tcv-Gini:0.392009\n",
      "[105]\tcv_low-Gini:0.385489\tcv-Gini:0.392062\n",
      "[106]\tcv_low-Gini:0.385646\tcv-Gini:0.392226\n",
      "[107]\tcv_low-Gini:0.385758\tcv-Gini:0.392370\n",
      "[108]\tcv_low-Gini:0.385788\tcv-Gini:0.392435\n",
      "[109]\tcv_low-Gini:0.385839\tcv-Gini:0.392457\n",
      "[110]\tcv_low-Gini:0.385716\tcv-Gini:0.392358\n",
      "[111]\tcv_low-Gini:0.386030\tcv-Gini:0.392623\n",
      "[112]\tcv_low-Gini:0.385988\tcv-Gini:0.392594\n",
      "[113]\tcv_low-Gini:0.385856\tcv-Gini:0.392487\n",
      "[114]\tcv_low-Gini:0.386306\tcv-Gini:0.392910\n",
      "[115]\tcv_low-Gini:0.386158\tcv-Gini:0.392781\n",
      "[116]\tcv_low-Gini:0.386275\tcv-Gini:0.392873\n",
      "[117]\tcv_low-Gini:0.386254\tcv-Gini:0.392817\n",
      "[118]\tcv_low-Gini:0.386107\tcv-Gini:0.392680\n",
      "[119]\tcv_low-Gini:0.386091\tcv-Gini:0.392654\n",
      "[120]\tcv_low-Gini:0.386113\tcv-Gini:0.392664\n",
      "[121]\tcv_low-Gini:0.386315\tcv-Gini:0.392862\n",
      "[122]\tcv_low-Gini:0.386331\tcv-Gini:0.392807\n",
      "[123]\tcv_low-Gini:0.386035\tcv-Gini:0.392510\n",
      "[124]\tcv_low-Gini:0.385811\tcv-Gini:0.392264\n",
      "[125]\tcv_low-Gini:0.385846\tcv-Gini:0.392283\n",
      "[126]\tcv_low-Gini:0.385662\tcv-Gini:0.392092\n",
      "[127]\tcv_low-Gini:0.386136\tcv-Gini:0.392577\n",
      "[128]\tcv_low-Gini:0.385980\tcv-Gini:0.392424\n",
      "[129]\tcv_low-Gini:0.386043\tcv-Gini:0.392491\n",
      "[130]\tcv_low-Gini:0.385942\tcv-Gini:0.392397\n",
      "[131]\tcv_low-Gini:0.386122\tcv-Gini:0.392583\n",
      "[132]\tcv_low-Gini:0.385979\tcv-Gini:0.392399\n",
      "[133]\tcv_low-Gini:0.386108\tcv-Gini:0.392530\n",
      "[134]\tcv_low-Gini:0.385922\tcv-Gini:0.392358\n",
      "[135]\tcv_low-Gini:0.385788\tcv-Gini:0.392214\n",
      "[136]\tcv_low-Gini:0.385824\tcv-Gini:0.392253\n",
      "[137]\tcv_low-Gini:0.385536\tcv-Gini:0.391970\n",
      "[138]\tcv_low-Gini:0.385552\tcv-Gini:0.391984\n",
      "[139]\tcv_low-Gini:0.385676\tcv-Gini:0.392098\n",
      "[140]\tcv_low-Gini:0.385540\tcv-Gini:0.391958\n",
      "[141]\tcv_low-Gini:0.385552\tcv-Gini:0.391952\n",
      "[142]\tcv_low-Gini:0.385547\tcv-Gini:0.391928\n",
      "[143]\tcv_low-Gini:0.385368\tcv-Gini:0.391754\n",
      "[144]\tcv_low-Gini:0.385292\tcv-Gini:0.391676\n",
      "[145]\tcv_low-Gini:0.385091\tcv-Gini:0.391480\n",
      "[146]\tcv_low-Gini:0.384863\tcv-Gini:0.391239\n",
      "[147]\tcv_low-Gini:0.384963\tcv-Gini:0.391330\n",
      "[148]\tcv_low-Gini:0.385003\tcv-Gini:0.391358\n",
      "[149]\tcv_low-Gini:0.385077\tcv-Gini:0.391442\n",
      "[150]\tcv_low-Gini:0.384965\tcv-Gini:0.391329\n",
      "[151]\tcv_low-Gini:0.384898\tcv-Gini:0.391257\n",
      "[152]\tcv_low-Gini:0.384721\tcv-Gini:0.391066\n",
      "[153]\tcv_low-Gini:0.384665\tcv-Gini:0.391014\n",
      "[154]\tcv_low-Gini:0.384708\tcv-Gini:0.391037\n",
      "[155]\tcv_low-Gini:0.384507\tcv-Gini:0.390805\n",
      "[156]\tcv_low-Gini:0.384438\tcv-Gini:0.390735\n",
      "[157]\tcv_low-Gini:0.384957\tcv-Gini:0.391255\n",
      "[158]\tcv_low-Gini:0.384887\tcv-Gini:0.391207\n",
      "[159]\tcv_low-Gini:0.384591\tcv-Gini:0.390906\n",
      "[160]\tcv_low-Gini:0.384497\tcv-Gini:0.390814\n",
      "[161]\tcv_low-Gini:0.384673\tcv-Gini:0.390977\n",
      "[162]\tcv_low-Gini:0.384533\tcv-Gini:0.390841\n",
      "[163]\tcv_low-Gini:0.384896\tcv-Gini:0.391191\n",
      "[164]\tcv_low-Gini:0.384773\tcv-Gini:0.391070\n",
      "Stopping. Best iteration:\n",
      "[114]\tcv_low-Gini:0.386306\tcv-Gini:0.392910\n",
      "\n"
     ]
    }
   ],
   "source": [
    "import pandas as pd\n",
    "from sklearn.cluster import KMeans\n",
    "import xgboost as xgb\n",
    "from sklearn.cross_validation import train_test_split\n",
    "\n",
    "from gini import normalized_gini, gini_eval\n",
    "from dataset import get_data\n",
    "\n",
    "from time import time\n",
    "import numpy as np\n",
    "import matplotlib.pyplot as plt\n",
    "from sklearn.neighbors import KernelDensity, KNeighborsRegressor\n",
    "\n",
    "from sklearn import metrics\n",
    "from sklearn.cluster import KMeans\n",
    "from sklearn.datasets import load_digits\n",
    "from sklearn.decomposition import PCA\n",
    "from sklearn.preprocessing import scale\n",
    "#import pylab as pl\n",
    "\n",
    "%matplotlib inline\n",
    "plt.rcParams['figure.figsize'] = (10, 6)\n",
    "\n",
    "params = pd.DataFrame({\n",
    "    \"objective\": \"reg:linear\",\n",
    "    \"eta\": [0.04, 0.03, 0.03, 0.03, 0.02],\n",
    "    \"min_child_weight\": 5,\n",
    "    \"subsample\": [1, 0.9, 0.95, 1, 0.6],\n",
    "    \"colsample_bytree\": [0.7, 0.6, 0.65, 0.6, 0.85],\n",
    "    \"max_depth\": [8, 7, 9, 10, 10],\n",
    "    \"eval_metric\": \"auc\",\n",
    "    \"scale_pos_weight\": 1,\n",
    "    \"silent\": 1\n",
    "})\n",
    "\n",
    "\n",
    "dat_x, dat_y, lb_x, lb_ind = get_data()\n",
    "\n",
    "dat_y = dat_y ** 0.75\n",
    "dat_x['label'] = dat_y\n",
    "#dat_x = dat_x[dat_x['label'] < 6]\n",
    "dat_y = np.asarray(dat_x['label'])\n",
    "dat_x = dat_x.drop('label', axis=1)\n",
    "\n",
    "seen_index, unseen_index = train_test_split(range(dat_x.shape[0]), test_size=0.1, random_state=101)\n",
    "train_index, test_index = train_test_split(range(dat_x.shape[0]), test_size=0.1, random_state=103)\n",
    "\n",
    "train_x = dat_x.iloc[train_index, :]\n",
    "train_y = dat_y[train_index]\n",
    "cv_x = dat_x.iloc[test_index, :]\n",
    "cv_y = dat_y[test_index] ** (4./3)\n",
    "\n",
    "cv_x_low = cv_x[cv_y < 40]\n",
    "cv_y_low = cv_y[cv_y < 40]\n",
    "\n",
    "# model 1\n",
    "xgb_train = xgb.DMatrix(train_x, label=train_y)\n",
    "xgb_cv = xgb.DMatrix(cv_x, label=cv_y)\n",
    "xgb_cv_low = xgb.DMatrix(cv_x_low, label=cv_y_low)\n",
    "watchlist = [(xgb_cv_low, 'cv_low'), (xgb_cv, 'cv')]\n",
    "model = xgb.train(params.iloc[0,:].to_dict(), xgb_train, num_boost_round = 3000,\n",
    "                  evals = watchlist,\n",
    "                  feval = gini_eval,\n",
    "                  verbose_eval = True,\n",
    "                  early_stopping_rounds=50)\n",
    "cv_y_preds = model.predict(xgb_cv, ntree_limit=model.best_iteration)\n",
    "cv_y_low_preds = model.predict(xgb_cv_low, ntree_limit=model.best_iteration)"
   ]
  },
  {
   "cell_type": "code",
   "execution_count": 24,
   "metadata": {
    "collapsed": false
   },
   "outputs": [
    {
     "name": "stdout",
     "output_type": "stream",
     "text": [
      "CV MSE=18.379\n",
      "CV: 0.3924873483 (normalized gini).\n"
     ]
    }
   ],
   "source": [
    "cv_y_FF = cv_y ** 0.75\n",
    "cv_y_corr = cv_y_FF ** (4./3)\n",
    "print(\"CV MSE=%0.3f\"%(sum(np.power( cv_y_preds - cv_y, 2 ))/cv_y.shape[0]))\n",
    "#print(\"CV LOW MSE=%0.3f\"%(sum(np.power( cv_y_low_preds - cv_y_low, 2 ))/cv_y_low.shape[0]))\n",
    "cv_error = normalized_gini(cv_y, cv_y_preds)\n",
    "cv_low_error = normalized_gini(cv_y_low, cv_y_low_preds)\n",
    "print(\"CV: {:.10f} (normalized gini).\".format(cv_error))\n",
    "#print(\"CV LOW: {:.10f} (normalized gini).\".format(cv_low_error))"
   ]
  },
  {
   "cell_type": "code",
   "execution_count": 10,
   "metadata": {
    "collapsed": false
   },
   "outputs": [
    {
     "name": "stdout",
     "output_type": "stream",
     "text": [
      "CV MSE=15.552\n"
     ]
    },
    {
     "ename": "ValueError",
     "evalue": "operands could not be broadcast together with shapes (5097,) (5050,) ",
     "output_type": "error",
     "traceback": [
      "\u001b[0;31m---------------------------------------------------------------------------\u001b[0m",
      "\u001b[0;31mValueError\u001b[0m                                Traceback (most recent call last)",
      "\u001b[0;32m<ipython-input-10-2ac33c13fe41>\u001b[0m in \u001b[0;36m<module>\u001b[0;34m()\u001b[0m\n\u001b[1;32m      1\u001b[0m \u001b[0;32mprint\u001b[0m\u001b[0;34m(\u001b[0m\u001b[0;34m\"CV MSE=%0.3f\"\u001b[0m\u001b[0;34m%\u001b[0m\u001b[0;34m(\u001b[0m\u001b[0msum\u001b[0m\u001b[0;34m(\u001b[0m\u001b[0mnp\u001b[0m\u001b[0;34m.\u001b[0m\u001b[0mpower\u001b[0m\u001b[0;34m(\u001b[0m \u001b[0mcv_y_preds\u001b[0m \u001b[0;34m-\u001b[0m \u001b[0mcv_y\u001b[0m\u001b[0;34m,\u001b[0m \u001b[0;36m2\u001b[0m \u001b[0;34m)\u001b[0m\u001b[0;34m)\u001b[0m\u001b[0;34m/\u001b[0m\u001b[0mcv_y\u001b[0m\u001b[0;34m.\u001b[0m\u001b[0mshape\u001b[0m\u001b[0;34m[\u001b[0m\u001b[0;36m0\u001b[0m\u001b[0;34m]\u001b[0m\u001b[0;34m)\u001b[0m\u001b[0;34m)\u001b[0m\u001b[0;34m\u001b[0m\u001b[0m\n\u001b[0;32m----> 2\u001b[0;31m \u001b[0;32mprint\u001b[0m\u001b[0;34m(\u001b[0m\u001b[0;34m\"CV LOW MSE=%0.3f\"\u001b[0m\u001b[0;34m%\u001b[0m\u001b[0;34m(\u001b[0m\u001b[0msum\u001b[0m\u001b[0;34m(\u001b[0m\u001b[0mnp\u001b[0m\u001b[0;34m.\u001b[0m\u001b[0mpower\u001b[0m\u001b[0;34m(\u001b[0m \u001b[0mcv_y_low_preds\u001b[0m \u001b[0;34m-\u001b[0m \u001b[0mcv_y_low\u001b[0m\u001b[0;34m,\u001b[0m \u001b[0;36m2\u001b[0m \u001b[0;34m)\u001b[0m\u001b[0;34m)\u001b[0m\u001b[0;34m/\u001b[0m\u001b[0mcv_y_low\u001b[0m\u001b[0;34m.\u001b[0m\u001b[0mshape\u001b[0m\u001b[0;34m[\u001b[0m\u001b[0;36m0\u001b[0m\u001b[0;34m]\u001b[0m\u001b[0;34m)\u001b[0m\u001b[0;34m)\u001b[0m\u001b[0;34m\u001b[0m\u001b[0m\n\u001b[0m\u001b[1;32m      3\u001b[0m \u001b[0mcv_error\u001b[0m \u001b[0;34m=\u001b[0m \u001b[0mnormalized_gini\u001b[0m\u001b[0;34m(\u001b[0m\u001b[0mcv_y\u001b[0m\u001b[0;34m,\u001b[0m \u001b[0mcv_y_preds\u001b[0m\u001b[0;34m)\u001b[0m\u001b[0;34m\u001b[0m\u001b[0m\n\u001b[1;32m      4\u001b[0m \u001b[0mcv_low_error\u001b[0m \u001b[0;34m=\u001b[0m \u001b[0mnormalized_gini\u001b[0m\u001b[0;34m(\u001b[0m\u001b[0mcv_y_low\u001b[0m\u001b[0;34m,\u001b[0m \u001b[0mcv_y_low_preds\u001b[0m\u001b[0;34m)\u001b[0m\u001b[0;34m\u001b[0m\u001b[0m\n\u001b[1;32m      5\u001b[0m \u001b[0;32mprint\u001b[0m\u001b[0;34m(\u001b[0m\u001b[0;34m\"CV: {:.10f} (normalized gini).\"\u001b[0m\u001b[0;34m.\u001b[0m\u001b[0mformat\u001b[0m\u001b[0;34m(\u001b[0m\u001b[0mcv_error\u001b[0m\u001b[0;34m)\u001b[0m\u001b[0;34m)\u001b[0m\u001b[0;34m\u001b[0m\u001b[0m\n",
      "\u001b[0;31mValueError\u001b[0m: operands could not be broadcast together with shapes (5097,) (5050,) "
     ]
    }
   ],
   "source": [
    "print(\"CV MSE=%0.3f\"%(sum(np.power( cv_y_preds - cv_y, 2 ))/cv_y.shape[0]))\n",
    "print(\"CV LOW MSE=%0.3f\"%(sum(np.power( cv_y_low_preds - cv_y_low, 2 ))/cv_y_low.shape[0]))\n",
    "cv_error = normalized_gini(cv_y, cv_y_preds)\n",
    "cv_low_error = normalized_gini(cv_y_low, cv_y_low_preds)\n",
    "print(\"CV: {:.10f} (normalized gini).\".format(cv_error))\n",
    "print(\"CV LOW: {:.10f} (normalized gini).\".format(cv_low_error))\n",
    "\n",
    "max_cy = max(cv_y) * 1.1\n",
    "\n",
    "#plt.subplot(1, 2, 1)\n",
    "plt.scatter(cv_y, cv_y_preds, s=1)\n",
    "plt.xlim(0, 70)\n",
    "\n",
    "preds = pd.DataFrame({\"actual\": cv_y, \"pred\": cv_y_preds})\n",
    "preds.boxplot('pred', 'actual')\n",
    "\n",
    "plt.show()"
   ]
  },
  {
   "cell_type": "code",
   "execution_count": 4,
   "metadata": {
    "collapsed": false
   },
   "outputs": [
    {
     "data": {
      "image/png": "[encoded data removed]",
      "text/plain": [
       "<matplotlib.figure.Figure at 0x104db8710>"
      ]
     },
     "metadata": {},
     "output_type": "display_data"
    },
    {
     "data": {
      "image/png": "[encoded data removed]",
      "text/plain": [
       "<matplotlib.figure.Figure at 0x107462450>"
      ]
     },
     "metadata": {},
     "output_type": "display_data"
    }
   ],
   "source": [
    "max_cy = max(cv_y_low) * 1.1\n",
    "\n",
    "#plt.subplot(1, 2, 1)\n",
    "plt.scatter(cv_y_low, cv_y_low_preds, s=1)\n",
    "plt.xlim(0, 70)\n",
    "\n",
    "preds = pd.DataFrame({\"actual\": cv_y_low, \"pred\": cv_y_low_preds})\n",
    "preds.boxplot('pred', 'actual')\n",
    "\n",
    "plt.show()"
   ]
  },
  {
   "cell_type": "code",
   "execution_count": 5,
   "metadata": {
    "collapsed": false
   },
   "outputs": [
    {
     "data": {
      "text/plain": [
       "5100"
      ]
     },
     "execution_count": 5,
     "metadata": {},
     "output_type": "execute_result"
    }
   ],
   "source": [
    "len(cv_y)"
   ]
  },
  {
   "cell_type": "code",
   "execution_count": 6,
   "metadata": {
    "collapsed": false
   },
   "outputs": [
    {
     "data": {
      "text/plain": [
       "5097"
      ]
     },
     "execution_count": 6,
     "metadata": {},
     "output_type": "execute_result"
    }
   ],
   "source": [
    "len(cv_y_low)"
   ]
  },
  {
   "cell_type": "code",
   "execution_count": 7,
   "metadata": {
    "collapsed": false
   },
   "outputs": [
    {
     "data": {
      "text/plain": [
       "(69, 64)"
      ]
     },
     "execution_count": 7,
     "metadata": {},
     "output_type": "execute_result"
    }
   ],
   "source": [
    "max(train_y), max(cv_y)"
   ]
  },
  {
   "cell_type": "code",
   "execution_count": 8,
   "metadata": {
    "collapsed": false
   },
   "outputs": [
    {
     "data": {
      "text/plain": [
       "1.9881768219176266"
      ]
     },
     "execution_count": 8,
     "metadata": {},
     "output_type": "execute_result"
    }
   ],
   "source": [
    "2.5 ** (3./4)"
   ]
  },
  {
   "cell_type": "code",
   "execution_count": 9,
   "metadata": {
    "collapsed": true
   },
   "outputs": [],
   "source": [
    "cv_y_low = cv_y[cv_y < 19.5]"
   ]
  },
  {
   "cell_type": "code",
   "execution_count": null,
   "metadata": {
    "collapsed": true
   },
   "outputs": [],
   "source": []
  }
 ],
 "metadata": {
  "kernelspec": {
   "display_name": "Python 2",
   "language": "python",
   "name": "python2"
  },
  "language_info": {
   "codemirror_mode": {
    "name": "ipython",
    "version": 2
   },
   "file_extension": ".py",
   "mimetype": "text/x-python",
   "name": "python",
   "nbconvert_exporter": "python",
   "pygments_lexer": "ipython2",
   "version": "2.7.6"
  }
 },
 "nbformat": 4,
 "nbformat_minor": 0
}
