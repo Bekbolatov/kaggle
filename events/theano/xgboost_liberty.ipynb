{
 "cells": [
  {
   "cell_type": "code",
   "execution_count": 28,
   "metadata": {
    "collapsed": false
   },
   "outputs": [
    {
     "name": "stderr",
     "output_type": "stream",
     "text": [
      "Will train until cv error hasn't decreased in 50 rounds.\n",
      "[0]\tcv_low-Gini:0.316072\tcv-Gini:0.318457\n",
      "[1]\tcv_low-Gini:0.326703\tcv-Gini:0.331077\n",
      "[2]\tcv_low-Gini:0.330463\tcv-Gini:0.334866\n",
      "[3]\tcv_low-Gini:0.336266\tcv-Gini:0.340446\n",
      "[4]\tcv_low-Gini:0.344822\tcv-Gini:0.348706\n",
      "[5]\tcv_low-Gini:0.350213\tcv-Gini:0.353484\n",
      "[6]\tcv_low-Gini:0.352862\tcv-Gini:0.356804\n",
      "[7]\tcv_low-Gini:0.355800\tcv-Gini:0.359608\n",
      "[8]\tcv_low-Gini:0.355785\tcv-Gini:0.359634\n",
      "[9]\tcv_low-Gini:0.362218\tcv-Gini:0.365965\n",
      "[10]\tcv_low-Gini:0.364404\tcv-Gini:0.368314\n",
      "[11]\tcv_low-Gini:0.365975\tcv-Gini:0.369666\n",
      "[12]\tcv_low-Gini:0.367439\tcv-Gini:0.371034\n",
      "[13]\tcv_low-Gini:0.370238\tcv-Gini:0.373907\n",
      "[14]\tcv_low-Gini:0.371089\tcv-Gini:0.374718\n",
      "[15]\tcv_low-Gini:0.372760\tcv-Gini:0.376059\n",
      "[16]\tcv_low-Gini:0.372764\tcv-Gini:0.375905\n",
      "[17]\tcv_low-Gini:0.372543\tcv-Gini:0.375667\n",
      "[18]\tcv_low-Gini:0.372699\tcv-Gini:0.374794\n",
      "[19]\tcv_low-Gini:0.374036\tcv-Gini:0.375855\n",
      "[20]\tcv_low-Gini:0.374118\tcv-Gini:0.374804\n",
      "[21]\tcv_low-Gini:0.373774\tcv-Gini:0.374189\n",
      "[22]\tcv_low-Gini:0.373647\tcv-Gini:0.372964\n",
      "[23]\tcv_low-Gini:0.373733\tcv-Gini:0.373943\n",
      "[24]\tcv_low-Gini:0.375000\tcv-Gini:0.375113\n",
      "[25]\tcv_low-Gini:0.376607\tcv-Gini:0.377117\n",
      "[26]\tcv_low-Gini:0.377703\tcv-Gini:0.379045\n",
      "[27]\tcv_low-Gini:0.379610\tcv-Gini:0.381117\n",
      "[28]\tcv_low-Gini:0.379840\tcv-Gini:0.381556\n",
      "[29]\tcv_low-Gini:0.379996\tcv-Gini:0.381521\n",
      "[30]\tcv_low-Gini:0.380420\tcv-Gini:0.382479\n",
      "[31]\tcv_low-Gini:0.381275\tcv-Gini:0.383440\n",
      "[32]\tcv_low-Gini:0.380971\tcv-Gini:0.383018\n",
      "[33]\tcv_low-Gini:0.382136\tcv-Gini:0.383185\n",
      "[34]\tcv_low-Gini:0.382135\tcv-Gini:0.382535\n",
      "[35]\tcv_low-Gini:0.381732\tcv-Gini:0.381421\n",
      "[36]\tcv_low-Gini:0.382278\tcv-Gini:0.382203\n",
      "[37]\tcv_low-Gini:0.381909\tcv-Gini:0.381783\n",
      "[38]\tcv_low-Gini:0.382971\tcv-Gini:0.382148\n",
      "[39]\tcv_low-Gini:0.382673\tcv-Gini:0.381856\n",
      "[40]\tcv_low-Gini:0.382630\tcv-Gini:0.381680\n",
      "[41]\tcv_low-Gini:0.382709\tcv-Gini:0.381954\n",
      "[42]\tcv_low-Gini:0.382813\tcv-Gini:0.382703\n",
      "[43]\tcv_low-Gini:0.383206\tcv-Gini:0.383157\n",
      "[44]\tcv_low-Gini:0.383112\tcv-Gini:0.383153\n",
      "[45]\tcv_low-Gini:0.383189\tcv-Gini:0.383092\n",
      "[46]\tcv_low-Gini:0.383549\tcv-Gini:0.383469\n",
      "[47]\tcv_low-Gini:0.384397\tcv-Gini:0.384081\n",
      "[48]\tcv_low-Gini:0.384235\tcv-Gini:0.384131\n",
      "[49]\tcv_low-Gini:0.384063\tcv-Gini:0.383528\n",
      "[50]\tcv_low-Gini:0.384953\tcv-Gini:0.384316\n",
      "[51]\tcv_low-Gini:0.385245\tcv-Gini:0.385134\n",
      "[52]\tcv_low-Gini:0.385809\tcv-Gini:0.385624\n",
      "[53]\tcv_low-Gini:0.385469\tcv-Gini:0.385331\n",
      "[54]\tcv_low-Gini:0.386038\tcv-Gini:0.386073\n",
      "[55]\tcv_low-Gini:0.386808\tcv-Gini:0.386857\n",
      "[56]\tcv_low-Gini:0.387179\tcv-Gini:0.387277\n",
      "[57]\tcv_low-Gini:0.387327\tcv-Gini:0.386785\n",
      "[58]\tcv_low-Gini:0.387427\tcv-Gini:0.386936\n",
      "[59]\tcv_low-Gini:0.387910\tcv-Gini:0.387061\n",
      "[60]\tcv_low-Gini:0.388180\tcv-Gini:0.387096\n",
      "[61]\tcv_low-Gini:0.388531\tcv-Gini:0.386910\n",
      "[62]\tcv_low-Gini:0.388694\tcv-Gini:0.387107\n",
      "[63]\tcv_low-Gini:0.389256\tcv-Gini:0.387230\n",
      "[64]\tcv_low-Gini:0.390026\tcv-Gini:0.387893\n",
      "[65]\tcv_low-Gini:0.390618\tcv-Gini:0.388921\n",
      "[66]\tcv_low-Gini:0.390581\tcv-Gini:0.388809\n",
      "[67]\tcv_low-Gini:0.390798\tcv-Gini:0.389000\n",
      "[68]\tcv_low-Gini:0.391278\tcv-Gini:0.388602\n",
      "[69]\tcv_low-Gini:0.390988\tcv-Gini:0.388289\n",
      "[70]\tcv_low-Gini:0.391478\tcv-Gini:0.388733\n",
      "[71]\tcv_low-Gini:0.391675\tcv-Gini:0.389010\n",
      "[72]\tcv_low-Gini:0.392239\tcv-Gini:0.389531\n",
      "[73]\tcv_low-Gini:0.392749\tcv-Gini:0.389953\n",
      "[74]\tcv_low-Gini:0.392705\tcv-Gini:0.389843\n",
      "[75]\tcv_low-Gini:0.393338\tcv-Gini:0.390784\n",
      "[76]\tcv_low-Gini:0.392851\tcv-Gini:0.390265\n",
      "[77]\tcv_low-Gini:0.393538\tcv-Gini:0.391027\n",
      "[78]\tcv_low-Gini:0.393552\tcv-Gini:0.390978\n",
      "[79]\tcv_low-Gini:0.393286\tcv-Gini:0.391075\n",
      "[80]\tcv_low-Gini:0.393539\tcv-Gini:0.390891\n",
      "[81]\tcv_low-Gini:0.393467\tcv-Gini:0.390864\n",
      "[82]\tcv_low-Gini:0.393675\tcv-Gini:0.391120\n",
      "[83]\tcv_low-Gini:0.394062\tcv-Gini:0.391523\n",
      "[84]\tcv_low-Gini:0.394021\tcv-Gini:0.391474\n",
      "[85]\tcv_low-Gini:0.394097\tcv-Gini:0.391609\n",
      "[86]\tcv_low-Gini:0.394557\tcv-Gini:0.392124\n",
      "[87]\tcv_low-Gini:0.394508\tcv-Gini:0.392105\n",
      "[88]\tcv_low-Gini:0.393807\tcv-Gini:0.391451\n",
      "[89]\tcv_low-Gini:0.393779\tcv-Gini:0.390838\n",
      "[90]\tcv_low-Gini:0.393645\tcv-Gini:0.391376\n",
      "[91]\tcv_low-Gini:0.393552\tcv-Gini:0.391246\n",
      "[92]\tcv_low-Gini:0.393705\tcv-Gini:0.390845\n",
      "[93]\tcv_low-Gini:0.393780\tcv-Gini:0.390658\n",
      "[94]\tcv_low-Gini:0.394117\tcv-Gini:0.391339\n",
      "[95]\tcv_low-Gini:0.393673\tcv-Gini:0.390867\n",
      "[96]\tcv_low-Gini:0.393844\tcv-Gini:0.390889\n",
      "[97]\tcv_low-Gini:0.394476\tcv-Gini:0.391461\n",
      "[98]\tcv_low-Gini:0.394775\tcv-Gini:0.391599\n",
      "[99]\tcv_low-Gini:0.393791\tcv-Gini:0.390653\n",
      "[100]\tcv_low-Gini:0.394257\tcv-Gini:0.391566\n",
      "[101]\tcv_low-Gini:0.394116\tcv-Gini:0.391179\n",
      "[102]\tcv_low-Gini:0.394586\tcv-Gini:0.391647\n",
      "[103]\tcv_low-Gini:0.395147\tcv-Gini:0.392007\n",
      "[104]\tcv_low-Gini:0.394854\tcv-Gini:0.391763\n",
      "[105]\tcv_low-Gini:0.394754\tcv-Gini:0.392272\n",
      "[106]\tcv_low-Gini:0.394511\tcv-Gini:0.392147\n",
      "[107]\tcv_low-Gini:0.394679\tcv-Gini:0.392267\n",
      "[108]\tcv_low-Gini:0.394414\tcv-Gini:0.392649\n",
      "[109]\tcv_low-Gini:0.394321\tcv-Gini:0.392480\n",
      "[110]\tcv_low-Gini:0.394525\tcv-Gini:0.392841\n",
      "[111]\tcv_low-Gini:0.394290\tcv-Gini:0.392613\n",
      "[112]\tcv_low-Gini:0.394434\tcv-Gini:0.392955\n",
      "[113]\tcv_low-Gini:0.394420\tcv-Gini:0.392911\n",
      "[114]\tcv_low-Gini:0.394068\tcv-Gini:0.392520\n",
      "[115]\tcv_low-Gini:0.393919\tcv-Gini:0.392553\n",
      "[116]\tcv_low-Gini:0.393856\tcv-Gini:0.392271\n",
      "[117]\tcv_low-Gini:0.393569\tcv-Gini:0.391999\n",
      "[118]\tcv_low-Gini:0.393905\tcv-Gini:0.392345\n",
      "[119]\tcv_low-Gini:0.393625\tcv-Gini:0.392059\n",
      "[120]\tcv_low-Gini:0.393639\tcv-Gini:0.392081\n",
      "[121]\tcv_low-Gini:0.393620\tcv-Gini:0.392054\n",
      "[122]\tcv_low-Gini:0.393675\tcv-Gini:0.392039\n",
      "[123]\tcv_low-Gini:0.393764\tcv-Gini:0.392107\n",
      "[124]\tcv_low-Gini:0.393886\tcv-Gini:0.392228\n",
      "[125]\tcv_low-Gini:0.393476\tcv-Gini:0.391843\n",
      "[126]\tcv_low-Gini:0.393636\tcv-Gini:0.392129\n",
      "[127]\tcv_low-Gini:0.394020\tcv-Gini:0.392586\n",
      "[128]\tcv_low-Gini:0.393888\tcv-Gini:0.392505\n",
      "[129]\tcv_low-Gini:0.393958\tcv-Gini:0.392478\n",
      "[130]\tcv_low-Gini:0.393689\tcv-Gini:0.392577\n",
      "[131]\tcv_low-Gini:0.393756\tcv-Gini:0.392636\n",
      "[132]\tcv_low-Gini:0.393804\tcv-Gini:0.393123\n",
      "[133]\tcv_low-Gini:0.393957\tcv-Gini:0.393306\n",
      "[134]\tcv_low-Gini:0.393407\tcv-Gini:0.392760\n",
      "[135]\tcv_low-Gini:0.393293\tcv-Gini:0.392458\n",
      "[136]\tcv_low-Gini:0.393040\tcv-Gini:0.392181\n",
      "[137]\tcv_low-Gini:0.392648\tcv-Gini:0.391657\n",
      "[138]\tcv_low-Gini:0.392605\tcv-Gini:0.391707\n",
      "[139]\tcv_low-Gini:0.392213\tcv-Gini:0.391414\n",
      "[140]\tcv_low-Gini:0.392200\tcv-Gini:0.391437\n",
      "[141]\tcv_low-Gini:0.392334\tcv-Gini:0.391559\n",
      "[142]\tcv_low-Gini:0.392131\tcv-Gini:0.391201\n",
      "[143]\tcv_low-Gini:0.392169\tcv-Gini:0.391239\n",
      "[144]\tcv_low-Gini:0.392514\tcv-Gini:0.391568\n",
      "[145]\tcv_low-Gini:0.392804\tcv-Gini:0.391995\n",
      "[146]\tcv_low-Gini:0.392894\tcv-Gini:0.392050\n",
      "[147]\tcv_low-Gini:0.392928\tcv-Gini:0.392243\n",
      "[148]\tcv_low-Gini:0.392811\tcv-Gini:0.392170\n",
      "[149]\tcv_low-Gini:0.392502\tcv-Gini:0.391863\n",
      "[150]\tcv_low-Gini:0.392459\tcv-Gini:0.391821\n",
      "[151]\tcv_low-Gini:0.392087\tcv-Gini:0.391389\n",
      "[152]\tcv_low-Gini:0.392625\tcv-Gini:0.391944\n",
      "[153]\tcv_low-Gini:0.392762\tcv-Gini:0.392072\n",
      "[154]\tcv_low-Gini:0.392765\tcv-Gini:0.392070\n",
      "[155]\tcv_low-Gini:0.392661\tcv-Gini:0.391925\n",
      "[156]\tcv_low-Gini:0.392740\tcv-Gini:0.392026\n",
      "[157]\tcv_low-Gini:0.392691\tcv-Gini:0.392466\n",
      "[158]\tcv_low-Gini:0.392628\tcv-Gini:0.392399\n",
      "[159]\tcv_low-Gini:0.392441\tcv-Gini:0.392190\n",
      "[160]\tcv_low-Gini:0.392843\tcv-Gini:0.392559\n",
      "[161]\tcv_low-Gini:0.392632\tcv-Gini:0.392597\n",
      "[162]\tcv_low-Gini:0.392494\tcv-Gini:0.392474\n",
      "[163]\tcv_low-Gini:0.392715\tcv-Gini:0.392819\n",
      "[164]\tcv_low-Gini:0.392661\tcv-Gini:0.392779\n",
      "[165]\tcv_low-Gini:0.392609\tcv-Gini:0.393013\n",
      "[166]\tcv_low-Gini:0.392218\tcv-Gini:0.392613\n",
      "[167]\tcv_low-Gini:0.392024\tcv-Gini:0.392442\n",
      "[168]\tcv_low-Gini:0.391922\tcv-Gini:0.392220\n",
      "[169]\tcv_low-Gini:0.392048\tcv-Gini:0.392482\n",
      "[170]\tcv_low-Gini:0.391951\tcv-Gini:0.392723\n",
      "[171]\tcv_low-Gini:0.391875\tcv-Gini:0.392651\n",
      "[172]\tcv_low-Gini:0.391744\tcv-Gini:0.392522\n",
      "[173]\tcv_low-Gini:0.391446\tcv-Gini:0.392213\n",
      "[174]\tcv_low-Gini:0.391657\tcv-Gini:0.392443\n",
      "[175]\tcv_low-Gini:0.391513\tcv-Gini:0.391982\n",
      "[176]\tcv_low-Gini:0.391107\tcv-Gini:0.391514\n",
      "[177]\tcv_low-Gini:0.390853\tcv-Gini:0.391262\n",
      "[178]\tcv_low-Gini:0.390913\tcv-Gini:0.391333\n",
      "[179]\tcv_low-Gini:0.390761\tcv-Gini:0.390770\n",
      "[180]\tcv_low-Gini:0.390496\tcv-Gini:0.390533\n",
      "[181]\tcv_low-Gini:0.390136\tcv-Gini:0.390204\n",
      "[182]\tcv_low-Gini:0.390264\tcv-Gini:0.389927\n",
      "[183]\tcv_low-Gini:0.390348\tcv-Gini:0.390011\n",
      "Stopping. Best iteration:\n",
      "[133]\tcv_low-Gini:0.393957\tcv-Gini:0.393306\n",
      "\n"
     ]
    }
   ],
   "source": [
    "import pandas as pd\n",
    "from sklearn.cluster import KMeans\n",
    "import xgboost as xgb\n",
    "from sklearn.cross_validation import train_test_split\n",
    "\n",
    "from gini import normalized_gini, gini_eval\n",
    "from dataset import get_data\n",
    "\n",
    "from time import time\n",
    "import numpy as np\n",
    "import matplotlib.pyplot as plt\n",
    "from sklearn.neighbors import KernelDensity, KNeighborsRegressor\n",
    "\n",
    "from sklearn import metrics\n",
    "from sklearn.cluster import KMeans\n",
    "from sklearn.datasets import load_digits\n",
    "from sklearn.decomposition import PCA\n",
    "from sklearn.preprocessing import scale\n",
    "#import pylab as pl\n",
    "\n",
    "%matplotlib inline\n",
    "plt.rcParams['figure.figsize'] = (10, 6)\n",
    "\n",
    "params = pd.DataFrame({\n",
    "    \"objective\": \"reg:linear\",\n",
    "    \"eta\": [0.04, 0.03, 0.03, 0.03, 0.02],\n",
    "    \"min_child_weight\": 5,\n",
    "    \"subsample\": [1, 0.9, 0.95, 1, 0.6],\n",
    "    \"colsample_bytree\": [0.7, 0.6, 0.65, 0.6, 0.85],\n",
    "    \"max_depth\": [8, 7, 9, 10, 10],\n",
    "    \"eval_metric\": \"auc\",\n",
    "    \"scale_pos_weight\": 1,\n",
    "    \"silent\": 1\n",
    "})\n",
    "\n",
    "\n",
    "dat_x, dat_y, lb_x, lb_ind = get_data()\n",
    "\n",
    "dat_x = dat_x.iloc[:35000,:]\n",
    "dat_y = dat_y[:35000]\n",
    "\n",
    "dat_y = dat_y ** 0.50\n",
    "dat_x['label'] = dat_y\n",
    "#dat_x = dat_x[dat_x['label'] < 6]\n",
    "dat_y = np.asarray(dat_x['label'])\n",
    "dat_x = dat_x.drop('label', axis=1)\n",
    "\n",
    "seen_index, unseen_index = train_test_split(range(dat_x.shape[0]), test_size=0.1, random_state=101)\n",
    "train_index, test_index = train_test_split(range(dat_x.shape[0]), test_size=0.1, random_state=103)\n",
    "\n",
    "train_x = dat_x.iloc[train_index, :]\n",
    "train_y = dat_y[train_index]\n",
    "cv_x = dat_x.iloc[test_index, :]\n",
    "cv_y = dat_y[test_index] ** 2.0\n",
    "\n",
    "cv_x_low = cv_x[cv_y < 40]\n",
    "cv_y_low = cv_y[cv_y < 40]\n",
    "\n",
    "# model 1\n",
    "xgb_train = xgb.DMatrix(train_x, label=train_y)\n",
    "xgb_cv = xgb.DMatrix(cv_x, label=cv_y)\n",
    "xgb_cv_low = xgb.DMatrix(cv_x_low, label=cv_y_low)\n",
    "watchlist = [(xgb_cv_low, 'cv_low'), (xgb_cv, 'cv')]\n",
    "model = xgb.train(params.iloc[0,:].to_dict(), xgb_train, num_boost_round = 3000,\n",
    "                  evals = watchlist,\n",
    "                  feval = gini_eval,\n",
    "                  verbose_eval = True,\n",
    "                  early_stopping_rounds=50)\n",
    "cv_y_preds = model.predict(xgb_cv, ntree_limit=model.best_iteration)\n",
    "cv_y_low_preds = model.predict(xgb_cv_low, ntree_limit=model.best_iteration)"
   ]
  },
  {
   "cell_type": "code",
   "execution_count": 29,
   "metadata": {
    "collapsed": false
   },
   "outputs": [
    {
     "name": "stdout",
     "output_type": "stream",
     "text": [
      "CV MSE=18.834\n",
      "CV: 0.3931232094 (normalized gini).\n"
     ]
    }
   ],
   "source": [
    "print(\"CV MSE=%0.3f\"%(sum(np.power( cv_y_preds - cv_y, 2 ))/cv_y.shape[0]))\n",
    "#print(\"CV LOW MSE=%0.3f\"%(sum(np.power( cv_y_low_preds - cv_y_low, 2 ))/cv_y_low.shape[0]))\n",
    "cv_error = normalized_gini(cv_y, cv_y_preds)\n",
    "cv_low_error = normalized_gini(cv_y_low, cv_y_low_preds)\n",
    "print(\"CV: {:.10f} (normalized gini).\".format(cv_error))\n",
    "#print(\"CV LOW: {:.10f} (normalized gini).\".format(cv_low_error))"
   ]
  },
  {
   "cell_type": "code",
   "execution_count": 30,
   "metadata": {
    "collapsed": false
   },
   "outputs": [
    {
     "data": {
      "image/png": "[encoded data removed]",
      "text/plain": [
       "<matplotlib.figure.Figure at 0x10ad2f850>"
      ]
     },
     "metadata": {},
     "output_type": "display_data"
    },
    {
     "data": {
      "image/png": "[encoded data removed]",
      "text/plain": [
       "<matplotlib.figure.Figure at 0x10e718710>"
      ]
     },
     "metadata": {},
     "output_type": "display_data"
    }
   ],
   "source": [
    "max_cy = max(cv_y) * 1.1\n",
    "\n",
    "#plt.subplot(1, 2, 1)\n",
    "plt.scatter(cv_y, cv_y_preds, s=1)\n",
    "plt.xlim(0, 70)\n",
    "\n",
    "preds = pd.DataFrame({\"actual\": cv_y, \"pred\": cv_y_preds})\n",
    "preds.boxplot('pred', 'actual')\n",
    "\n",
    "plt.show()"
   ]
  },
  {
   "cell_type": "code",
   "execution_count": null,
   "metadata": {
    "collapsed": false
   },
   "outputs": [],
   "source": [
    "max_cy = max(cv_y_low) * 1.1\n",
    "\n",
    "#plt.subplot(1, 2, 1)\n",
    "plt.scatter(cv_y_low, cv_y_low_preds, s=1)\n",
    "plt.xlim(0, 70)\n",
    "\n",
    "preds = pd.DataFrame({\"actual\": cv_y_low, \"pred\": cv_y_low_preds})\n",
    "preds.boxplot('pred', 'actual')\n",
    "\n",
    "plt.show()"
   ]
  },
  {
   "cell_type": "code",
   "execution_count": null,
   "metadata": {
    "collapsed": false
   },
   "outputs": [],
   "source": [
    "len(cv_y)"
   ]
  },
  {
   "cell_type": "code",
   "execution_count": null,
   "metadata": {
    "collapsed": false
   },
   "outputs": [],
   "source": [
    "len(cv_y_low)"
   ]
  },
  {
   "cell_type": "code",
   "execution_count": null,
   "metadata": {
    "collapsed": false
   },
   "outputs": [],
   "source": [
    "max(train_y), max(cv_y)"
   ]
  },
  {
   "cell_type": "code",
   "execution_count": null,
   "metadata": {
    "collapsed": false
   },
   "outputs": [],
   "source": [
    "2.5 ** (3./4)"
   ]
  },
  {
   "cell_type": "code",
   "execution_count": null,
   "metadata": {
    "collapsed": true
   },
   "outputs": [],
   "source": [
    "cv_y_low = cv_y[cv_y < 19.5]"
   ]
  },
  {
   "cell_type": "code",
   "execution_count": null,
   "metadata": {
    "collapsed": true
   },
   "outputs": [],
   "source": []
  }
 ],
 "metadata": {
  "kernelspec": {
   "display_name": "Python 2",
   "language": "python",
   "name": "python2"
  },
  "language_info": {
   "codemirror_mode": {
    "name": "ipython",
    "version": 2
   },
   "file_extension": ".py",
   "mimetype": "text/x-python",
   "name": "python",
   "nbconvert_exporter": "python",
   "pygments_lexer": "ipython2",
   "version": "2.7.6"
  }
 },
 "nbformat": 4,
 "nbformat_minor": 0
}
