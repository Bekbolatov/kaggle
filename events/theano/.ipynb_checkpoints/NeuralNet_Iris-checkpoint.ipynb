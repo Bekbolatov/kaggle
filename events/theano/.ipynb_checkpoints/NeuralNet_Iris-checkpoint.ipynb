{
 "cells": [
  {
   "cell_type": "code",
   "execution_count": 370,
   "metadata": {
    "collapsed": false
   },
   "outputs": [],
   "source": [
    "import pandas as pd\n",
    "import numpy as np\n",
    "import theano\n",
    "from sklearn import datasets\n",
    "from sklearn.cross_validation import train_test_split\n",
    "\n",
    "data_root = '/Users/rbekbolatov/repos/gh/bekbolatov/kaggle/events/liberty/cxxnet_proj'\n",
    "\n",
    "iris = datasets.load_iris()\n",
    "dat_x = pd.DataFrame(iris.data)\n",
    "dat_y = iris.target"
   ]
  },
  {
   "cell_type": "markdown",
   "metadata": {},
   "source": [
    "Split dataset into train/test"
   ]
  },
  {
   "cell_type": "code",
   "execution_count": 371,
   "metadata": {
    "collapsed": false
   },
   "outputs": [],
   "source": [
    "train_index, test_index = train_test_split(range(dat_x.shape[0]), test_size=0.3, random_state=104)\n",
    "train_x = dat_x.loc[train_index, :]\n",
    "train_y = dat_y[train_index]\n",
    "cv_x = dat_x.loc[test_index, :]\n",
    "cv_y = dat_y[test_index]"
   ]
  },
  {
   "cell_type": "code",
   "execution_count": 372,
   "metadata": {
    "collapsed": false
   },
   "outputs": [],
   "source": [
    "train_x = np.asarray(train_x, dtype = theano.config.floatX)\n",
    "train_y = np.asarray(train_y, dtype = 'int32')\n",
    "cv_x = np.asarray(cv_x, dtype = theano.config.floatX)\n",
    "cv_y = np.asarray(cv_y, dtype = 'int32')"
   ]
  },
  {
   "cell_type": "code",
   "execution_count": 373,
   "metadata": {
    "collapsed": false
   },
   "outputs": [],
   "source": [
    "from lasagne.layers import DenseLayer\n",
    "from lasagne.layers import InputLayer\n",
    "from lasagne.layers import DropoutLayer\n",
    "from lasagne.updates import nesterov_momentum, sgd\n",
    "from lasagne.objectives import squared_error, categorical_crossentropy, binary_crossentropy\n",
    "from lasagne.nonlinearities import sigmoid, rectify, softmax, linear, tanh\n",
    "from nolearn.lasagne import NeuralNet, TrainSplit\n",
    "\n",
    "def on_epoch_finished(obj, train_history):\n",
    "    if (len(train_history) > 20):\n",
    "        inLastEight = any([h['valid_loss_best'] for h in  train_history[-8:-1]] +\n",
    "                          [train_history[-1]['valid_loss'] < train_history[-2]['valid_loss'],\n",
    "                           train_history[-1]['valid_loss'] < train_history[-3]['valid_loss'],\n",
    "                           train_history[-2]['valid_loss'] < train_history[-3]['valid_loss'],\n",
    "                           ])\n",
    "        if not inLastEight:\n",
    "            print(\"Stopping early\")\n",
    "            raise StopIteration\n",
    "\n",
    "def NeuralNetConstructor(num_features, max_epochs=5, update_learning_rate=0.2, verbose=1):\n",
    "    layers0 = [\n",
    "        ('input', InputLayer),\n",
    "#         ('dropout0', DropoutLayer),\n",
    "        ('hidden1', DenseLayer),\n",
    "#         ('hidden2', DenseLayer),\n",
    "        ('output', DenseLayer)]\n",
    "\n",
    "    net0 = NeuralNet(\n",
    "        layers=layers0,\n",
    "\n",
    "        input_shape=(None, num_features),\n",
    "        input_nonlinearity=sigmoid,\n",
    "\n",
    "#         dropout0_p=0.0,\n",
    "\n",
    "        hidden1_num_units=7, #75, #20,\n",
    "        hidden1_nonlinearity=tanh,\n",
    "\n",
    "#         hidden2_num_units=3, #70, #24,\n",
    "#         hidden2_nonlinearity=tanh,\n",
    "\n",
    "        output_num_units=3,\n",
    "        output_nonlinearity=softmax,\n",
    "\n",
    "        on_epoch_finished=[on_epoch_finished],\n",
    "\n",
    "        objective_loss_function=categorical_crossentropy, #binary_crossentropy, #squared_error, categorical_crossentropy\n",
    "        update=nesterov_momentum,\n",
    "        update_learning_rate=update_learning_rate, #0.02,\n",
    "        update_momentum=0.9,\n",
    "        train_split=TrainSplit(eval_size=0.2),\n",
    "        verbose=verbose,\n",
    "        regression=False,\n",
    "        max_epochs=max_epochs)\n",
    "\n",
    "    return net0"
   ]
  },
  {
   "cell_type": "code",
   "execution_count": 374,
   "metadata": {
    "collapsed": false
   },
   "outputs": [],
   "source": [
    "network = NeuralNetConstructor(4, max_epochs=1000, update_learning_rate=0.01, verbose=0)"
   ]
  },
  {
   "cell_type": "code",
   "execution_count": 375,
   "metadata": {
    "collapsed": false
   },
   "outputs": [
    {
     "name": "stdout",
     "output_type": "stream",
     "text": [
      "Stopping early\n"
     ]
    },
    {
     "data": {
      "text/plain": [
       "NeuralNet(X_tensor_type=None,\n",
       "     batch_iterator_test=<nolearn.lasagne.base.BatchIterator object at 0x1163ae990>,\n",
       "     batch_iterator_train=<nolearn.lasagne.base.BatchIterator object at 0x1163aee50>,\n",
       "     custom_score=None,\n",
       "     hidden1_nonlinearity=<function tanh at 0x116362a28>,\n",
       "     hidden1_num_units=7,\n",
       "     input_nonlinearity=<function sigmoid at 0x116362938>,\n",
       "     input_shape=(None, 4),\n",
       "     layers=[('input', <class 'lasagne.layers.input.InputLayer'>), ('hidden1', <class 'lasagne.layers.dense.DenseLayer'>), ('output', <class 'lasagne.layers.dense.DenseLayer'>)],\n",
       "     loss=None, max_epochs=1000, more_params={},\n",
       "     objective=<function objective at 0x1163b2488>,\n",
       "     objective_loss_function=<function categorical_crossentropy at 0x115d9eed8>,\n",
       "     on_epoch_finished=[<function on_epoch_finished at 0x1265e7cf8>],\n",
       "     on_training_finished=[], on_training_started=[],\n",
       "     output_nonlinearity=<function softmax at 0x1163629b0>,\n",
       "     output_num_units=3, regression=False,\n",
       "     train_split=<nolearn.lasagne.base.TrainSplit object at 0x124e38110>,\n",
       "     update=<function nesterov_momentum at 0x115db0c08>,\n",
       "     update_learning_rate=0.01, update_momentum=0.9,\n",
       "     use_label_encoder=False, verbose=0,\n",
       "     y_tensor_type=TensorType(int32, vector))"
      ]
     },
     "execution_count": 375,
     "metadata": {},
     "output_type": "execute_result"
    }
   ],
   "source": [
    "network.fit(train_x, train_y)"
   ]
  },
  {
   "cell_type": "code",
   "execution_count": 376,
   "metadata": {
    "collapsed": false
   },
   "outputs": [
    {
     "data": {
      "text/plain": [
       "True    45\n",
       "dtype: int64"
      ]
     },
     "execution_count": 376,
     "metadata": {},
     "output_type": "execute_result"
    }
   ],
   "source": [
    "cv_preds = network.predict(cv_x)\n",
    "pd.Series(cv_preds == cv_y).value_counts()"
   ]
  },
  {
   "cell_type": "code",
   "execution_count": null,
   "metadata": {
    "collapsed": true
   },
   "outputs": [],
   "source": []
  }
 ],
 "metadata": {
  "kernelspec": {
   "display_name": "Python 2",
   "language": "python",
   "name": "python2"
  },
  "language_info": {
   "codemirror_mode": {
    "name": "ipython",
    "version": 2
   },
   "file_extension": ".py",
   "mimetype": "text/x-python",
   "name": "python",
   "nbconvert_exporter": "python",
   "pygments_lexer": "ipython2",
   "version": "2.7.6"
  }
 },
 "nbformat": 4,
 "nbformat_minor": 0
}
