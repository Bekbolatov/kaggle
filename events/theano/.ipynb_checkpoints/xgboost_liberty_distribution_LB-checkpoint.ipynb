{
 "cells": [
  {
   "cell_type": "code",
   "execution_count": 1,
   "metadata": {
    "collapsed": false
   },
   "outputs": [
    {
     "name": "stderr",
     "output_type": "stream",
     "text": [
      "/usr/local/lib/python2.7/site-packages/numpy/core/fromnumeric.py:2507: VisibleDeprecationWarning: `rank` is deprecated; use the `ndim` attribute or function instead. To find the rank of a matrix see `numpy.linalg.matrix_rank`.\n",
      "  VisibleDeprecationWarning)\n",
      "Will train until cv error hasn't decreased in 50 rounds.\n",
      "[0]\tcv_low-Gini:0.295158\tcv-Gini:0.293077\n",
      "[1]\tcv_low-Gini:0.318799\tcv-Gini:0.325366\n",
      "[2]\tcv_low-Gini:0.330807\tcv-Gini:0.336736\n",
      "[3]\tcv_low-Gini:0.340474\tcv-Gini:0.346465\n",
      "[4]\tcv_low-Gini:0.343601\tcv-Gini:0.349209\n",
      "[5]\tcv_low-Gini:0.346647\tcv-Gini:0.351191\n",
      "[6]\tcv_low-Gini:0.342959\tcv-Gini:0.345645\n",
      "[7]\tcv_low-Gini:0.348424\tcv-Gini:0.351029\n",
      "[8]\tcv_low-Gini:0.348346\tcv-Gini:0.352753\n",
      "[9]\tcv_low-Gini:0.349543\tcv-Gini:0.354585\n",
      "[10]\tcv_low-Gini:0.351684\tcv-Gini:0.356740\n",
      "[11]\tcv_low-Gini:0.353762\tcv-Gini:0.358338\n",
      "[12]\tcv_low-Gini:0.353143\tcv-Gini:0.358561\n",
      "[13]\tcv_low-Gini:0.356104\tcv-Gini:0.361434\n",
      "[14]\tcv_low-Gini:0.356053\tcv-Gini:0.361561\n",
      "[15]\tcv_low-Gini:0.356040\tcv-Gini:0.361389\n",
      "[16]\tcv_low-Gini:0.356023\tcv-Gini:0.360947\n",
      "[17]\tcv_low-Gini:0.356908\tcv-Gini:0.360882\n",
      "[18]\tcv_low-Gini:0.358295\tcv-Gini:0.362196\n",
      "[19]\tcv_low-Gini:0.359341\tcv-Gini:0.363715\n",
      "[20]\tcv_low-Gini:0.359073\tcv-Gini:0.363673\n",
      "[21]\tcv_low-Gini:0.359656\tcv-Gini:0.364418\n",
      "[22]\tcv_low-Gini:0.360585\tcv-Gini:0.365704\n",
      "[23]\tcv_low-Gini:0.361259\tcv-Gini:0.366452\n",
      "[24]\tcv_low-Gini:0.361807\tcv-Gini:0.367035\n",
      "[25]\tcv_low-Gini:0.361797\tcv-Gini:0.366954\n",
      "[26]\tcv_low-Gini:0.362548\tcv-Gini:0.367747\n",
      "[27]\tcv_low-Gini:0.363412\tcv-Gini:0.368608\n",
      "[28]\tcv_low-Gini:0.364017\tcv-Gini:0.369206\n",
      "[29]\tcv_low-Gini:0.364573\tcv-Gini:0.369809\n",
      "[30]\tcv_low-Gini:0.365243\tcv-Gini:0.370436\n",
      "[31]\tcv_low-Gini:0.365372\tcv-Gini:0.370509\n",
      "[32]\tcv_low-Gini:0.365965\tcv-Gini:0.370987\n",
      "[33]\tcv_low-Gini:0.366267\tcv-Gini:0.371413\n",
      "[34]\tcv_low-Gini:0.366532\tcv-Gini:0.371721\n",
      "[35]\tcv_low-Gini:0.367083\tcv-Gini:0.372224\n",
      "[36]\tcv_low-Gini:0.367355\tcv-Gini:0.372561\n",
      "[37]\tcv_low-Gini:0.367736\tcv-Gini:0.372877\n",
      "[38]\tcv_low-Gini:0.368473\tcv-Gini:0.373698\n",
      "[39]\tcv_low-Gini:0.368386\tcv-Gini:0.373709\n",
      "[40]\tcv_low-Gini:0.368591\tcv-Gini:0.373858\n",
      "[41]\tcv_low-Gini:0.368998\tcv-Gini:0.374280\n",
      "[42]\tcv_low-Gini:0.369417\tcv-Gini:0.374631\n",
      "[43]\tcv_low-Gini:0.369785\tcv-Gini:0.375061\n",
      "[44]\tcv_low-Gini:0.369609\tcv-Gini:0.374887\n",
      "[45]\tcv_low-Gini:0.369661\tcv-Gini:0.374995\n",
      "[46]\tcv_low-Gini:0.369846\tcv-Gini:0.375159\n",
      "[47]\tcv_low-Gini:0.370301\tcv-Gini:0.375583\n",
      "[48]\tcv_low-Gini:0.370772\tcv-Gini:0.376093\n",
      "[49]\tcv_low-Gini:0.371069\tcv-Gini:0.376430\n",
      "[50]\tcv_low-Gini:0.371391\tcv-Gini:0.376744\n",
      "[51]\tcv_low-Gini:0.372788\tcv-Gini:0.378115\n",
      "[52]\tcv_low-Gini:0.373396\tcv-Gini:0.378691\n",
      "[53]\tcv_low-Gini:0.373378\tcv-Gini:0.378775\n",
      "[54]\tcv_low-Gini:0.373490\tcv-Gini:0.378886\n",
      "[55]\tcv_low-Gini:0.374036\tcv-Gini:0.379394\n",
      "[56]\tcv_low-Gini:0.374465\tcv-Gini:0.379903\n",
      "[57]\tcv_low-Gini:0.374731\tcv-Gini:0.380192\n",
      "[58]\tcv_low-Gini:0.374827\tcv-Gini:0.380283\n",
      "[59]\tcv_low-Gini:0.374615\tcv-Gini:0.380106\n",
      "[60]\tcv_low-Gini:0.375185\tcv-Gini:0.380651\n",
      "[61]\tcv_low-Gini:0.375261\tcv-Gini:0.380698\n",
      "[62]\tcv_low-Gini:0.375463\tcv-Gini:0.380903\n",
      "[63]\tcv_low-Gini:0.375999\tcv-Gini:0.381450\n",
      "[64]\tcv_low-Gini:0.376156\tcv-Gini:0.381570\n",
      "[65]\tcv_low-Gini:0.376055\tcv-Gini:0.381431\n",
      "[66]\tcv_low-Gini:0.376562\tcv-Gini:0.381907\n",
      "[67]\tcv_low-Gini:0.376860\tcv-Gini:0.382212\n",
      "[68]\tcv_low-Gini:0.376694\tcv-Gini:0.382052\n",
      "[69]\tcv_low-Gini:0.377478\tcv-Gini:0.382863\n",
      "[70]\tcv_low-Gini:0.377283\tcv-Gini:0.382655\n",
      "[71]\tcv_low-Gini:0.377573\tcv-Gini:0.382918\n",
      "[72]\tcv_low-Gini:0.377544\tcv-Gini:0.382866\n",
      "[73]\tcv_low-Gini:0.377851\tcv-Gini:0.383189\n",
      "[74]\tcv_low-Gini:0.377964\tcv-Gini:0.383361\n",
      "[75]\tcv_low-Gini:0.377762\tcv-Gini:0.383170\n",
      "[76]\tcv_low-Gini:0.378259\tcv-Gini:0.383658\n",
      "[77]\tcv_low-Gini:0.378085\tcv-Gini:0.383539\n",
      "[78]\tcv_low-Gini:0.378254\tcv-Gini:0.383716\n",
      "[79]\tcv_low-Gini:0.378413\tcv-Gini:0.383907\n",
      "[80]\tcv_low-Gini:0.378570\tcv-Gini:0.384037\n",
      "[81]\tcv_low-Gini:0.378503\tcv-Gini:0.383935\n",
      "[82]\tcv_low-Gini:0.378710\tcv-Gini:0.384175\n",
      "[83]\tcv_low-Gini:0.379228\tcv-Gini:0.384737\n",
      "[84]\tcv_low-Gini:0.379206\tcv-Gini:0.384743\n",
      "[85]\tcv_low-Gini:0.379146\tcv-Gini:0.384684\n",
      "[86]\tcv_low-Gini:0.379040\tcv-Gini:0.384543\n",
      "[87]\tcv_low-Gini:0.379048\tcv-Gini:0.384575\n",
      "[88]\tcv_low-Gini:0.378879\tcv-Gini:0.384467\n",
      "[89]\tcv_low-Gini:0.378767\tcv-Gini:0.384346\n",
      "[90]\tcv_low-Gini:0.379204\tcv-Gini:0.384797\n",
      "[91]\tcv_low-Gini:0.379420\tcv-Gini:0.385012\n",
      "[92]\tcv_low-Gini:0.379585\tcv-Gini:0.385498\n",
      "[93]\tcv_low-Gini:0.379669\tcv-Gini:0.385578\n",
      "[94]\tcv_low-Gini:0.379875\tcv-Gini:0.385776\n",
      "[95]\tcv_low-Gini:0.379738\tcv-Gini:0.385606\n",
      "[96]\tcv_low-Gini:0.379701\tcv-Gini:0.385605\n",
      "[97]\tcv_low-Gini:0.379843\tcv-Gini:0.385748\n",
      "[98]\tcv_low-Gini:0.380133\tcv-Gini:0.385996\n",
      "[99]\tcv_low-Gini:0.379977\tcv-Gini:0.385835\n",
      "[100]\tcv_low-Gini:0.380003\tcv-Gini:0.385841\n",
      "[101]\tcv_low-Gini:0.380329\tcv-Gini:0.386188\n",
      "[102]\tcv_low-Gini:0.380290\tcv-Gini:0.386140\n",
      "[103]\tcv_low-Gini:0.380476\tcv-Gini:0.386330\n",
      "[104]\tcv_low-Gini:0.380673\tcv-Gini:0.386528\n",
      "[105]\tcv_low-Gini:0.381129\tcv-Gini:0.386984\n",
      "[106]\tcv_low-Gini:0.381273\tcv-Gini:0.387147\n",
      "[107]\tcv_low-Gini:0.380887\tcv-Gini:0.386816\n",
      "[108]\tcv_low-Gini:0.381203\tcv-Gini:0.387141\n",
      "[109]\tcv_low-Gini:0.381182\tcv-Gini:0.387094\n",
      "[110]\tcv_low-Gini:0.380989\tcv-Gini:0.386920\n",
      "[111]\tcv_low-Gini:0.381030\tcv-Gini:0.386974\n",
      "[112]\tcv_low-Gini:0.380964\tcv-Gini:0.386963\n",
      "[113]\tcv_low-Gini:0.381192\tcv-Gini:0.387421\n",
      "[114]\tcv_low-Gini:0.381227\tcv-Gini:0.387432\n",
      "[115]\tcv_low-Gini:0.381295\tcv-Gini:0.387489\n",
      "[116]\tcv_low-Gini:0.381297\tcv-Gini:0.387470\n",
      "[117]\tcv_low-Gini:0.381281\tcv-Gini:0.387456\n",
      "[118]\tcv_low-Gini:0.381433\tcv-Gini:0.387592\n",
      "[119]\tcv_low-Gini:0.381772\tcv-Gini:0.387966\n",
      "[120]\tcv_low-Gini:0.381813\tcv-Gini:0.388000\n",
      "[121]\tcv_low-Gini:0.381569\tcv-Gini:0.387766\n",
      "[122]\tcv_low-Gini:0.381699\tcv-Gini:0.387924\n",
      "[123]\tcv_low-Gini:0.381780\tcv-Gini:0.387995\n",
      "[124]\tcv_low-Gini:0.382010\tcv-Gini:0.388218\n",
      "[125]\tcv_low-Gini:0.381955\tcv-Gini:0.388198\n",
      "[126]\tcv_low-Gini:0.381672\tcv-Gini:0.387929\n",
      "[127]\tcv_low-Gini:0.381644\tcv-Gini:0.387913\n",
      "[128]\tcv_low-Gini:0.381293\tcv-Gini:0.387568\n",
      "[129]\tcv_low-Gini:0.381450\tcv-Gini:0.387748\n",
      "[130]\tcv_low-Gini:0.381553\tcv-Gini:0.387843\n",
      "[131]\tcv_low-Gini:0.382114\tcv-Gini:0.388390\n",
      "[132]\tcv_low-Gini:0.382250\tcv-Gini:0.388532\n",
      "[133]\tcv_low-Gini:0.382132\tcv-Gini:0.388427\n",
      "[134]\tcv_low-Gini:0.382270\tcv-Gini:0.388557\n",
      "[135]\tcv_low-Gini:0.382148\tcv-Gini:0.388457\n",
      "[136]\tcv_low-Gini:0.382205\tcv-Gini:0.388507\n",
      "[137]\tcv_low-Gini:0.381982\tcv-Gini:0.388294\n",
      "[138]\tcv_low-Gini:0.381530\tcv-Gini:0.387882\n",
      "[139]\tcv_low-Gini:0.381973\tcv-Gini:0.388315\n",
      "[140]\tcv_low-Gini:0.382083\tcv-Gini:0.388419\n",
      "[141]\tcv_low-Gini:0.382175\tcv-Gini:0.388504\n",
      "[142]\tcv_low-Gini:0.382132\tcv-Gini:0.388470\n",
      "[143]\tcv_low-Gini:0.382157\tcv-Gini:0.388558\n",
      "[144]\tcv_low-Gini:0.382142\tcv-Gini:0.388547\n",
      "[145]\tcv_low-Gini:0.382221\tcv-Gini:0.388655\n",
      "[146]\tcv_low-Gini:0.382291\tcv-Gini:0.388718\n",
      "[147]\tcv_low-Gini:0.382179\tcv-Gini:0.388594\n",
      "[148]\tcv_low-Gini:0.382398\tcv-Gini:0.388810\n",
      "[149]\tcv_low-Gini:0.382631\tcv-Gini:0.389029\n",
      "[150]\tcv_low-Gini:0.382881\tcv-Gini:0.389275\n",
      "[151]\tcv_low-Gini:0.382727\tcv-Gini:0.389121\n",
      "[152]\tcv_low-Gini:0.382821\tcv-Gini:0.389223\n",
      "[153]\tcv_low-Gini:0.383145\tcv-Gini:0.389551\n",
      "[154]\tcv_low-Gini:0.383181\tcv-Gini:0.389581\n",
      "[155]\tcv_low-Gini:0.383299\tcv-Gini:0.389706\n",
      "[156]\tcv_low-Gini:0.383217\tcv-Gini:0.389607\n",
      "[157]\tcv_low-Gini:0.383292\tcv-Gini:0.389688\n",
      "[158]\tcv_low-Gini:0.382971\tcv-Gini:0.389379\n",
      "[159]\tcv_low-Gini:0.383063\tcv-Gini:0.389467\n",
      "[160]\tcv_low-Gini:0.383061\tcv-Gini:0.389467\n",
      "[161]\tcv_low-Gini:0.383039\tcv-Gini:0.389439\n",
      "[162]\tcv_low-Gini:0.382778\tcv-Gini:0.389171\n",
      "[163]\tcv_low-Gini:0.382795\tcv-Gini:0.389138\n",
      "[164]\tcv_low-Gini:0.382945\tcv-Gini:0.389268\n",
      "[165]\tcv_low-Gini:0.382858\tcv-Gini:0.389176\n",
      "[166]\tcv_low-Gini:0.382754\tcv-Gini:0.389074\n",
      "[167]\tcv_low-Gini:0.382723\tcv-Gini:0.389042\n",
      "[168]\tcv_low-Gini:0.382605\tcv-Gini:0.388930\n",
      "[169]\tcv_low-Gini:0.382439\tcv-Gini:0.388758\n",
      "[170]\tcv_low-Gini:0.382553\tcv-Gini:0.388877\n",
      "[171]\tcv_low-Gini:0.382669\tcv-Gini:0.389013\n",
      "[172]\tcv_low-Gini:0.382907\tcv-Gini:0.389301\n",
      "[173]\tcv_low-Gini:0.382910\tcv-Gini:0.389307\n",
      "[174]\tcv_low-Gini:0.382869\tcv-Gini:0.389266\n",
      "[175]\tcv_low-Gini:0.382728\tcv-Gini:0.389129\n",
      "[176]\tcv_low-Gini:0.382824\tcv-Gini:0.389230\n",
      "[177]\tcv_low-Gini:0.382869\tcv-Gini:0.389264\n",
      "[178]\tcv_low-Gini:0.382611\tcv-Gini:0.389018\n",
      "[179]\tcv_low-Gini:0.382339\tcv-Gini:0.388750\n",
      "[180]\tcv_low-Gini:0.382404\tcv-Gini:0.388810\n",
      "[181]\tcv_low-Gini:0.382347\tcv-Gini:0.388754\n",
      "[182]\tcv_low-Gini:0.382164\tcv-Gini:0.388551\n",
      "[183]\tcv_low-Gini:0.381972\tcv-Gini:0.388356\n",
      "[184]\tcv_low-Gini:0.381709\tcv-Gini:0.388101\n",
      "[185]\tcv_low-Gini:0.381540\tcv-Gini:0.387933\n",
      "[186]\tcv_low-Gini:0.381434\tcv-Gini:0.387832\n",
      "[187]\tcv_low-Gini:0.381218\tcv-Gini:0.387619\n",
      "[188]\tcv_low-Gini:0.381197\tcv-Gini:0.387598\n",
      "[189]\tcv_low-Gini:0.381173\tcv-Gini:0.387572\n",
      "[190]\tcv_low-Gini:0.381158\tcv-Gini:0.387541\n",
      "[191]\tcv_low-Gini:0.381051\tcv-Gini:0.387432\n",
      "[192]\tcv_low-Gini:0.380808\tcv-Gini:0.387186\n",
      "[193]\tcv_low-Gini:0.380424\tcv-Gini:0.386810\n",
      "[194]\tcv_low-Gini:0.380281\tcv-Gini:0.386666\n",
      "[195]\tcv_low-Gini:0.380235\tcv-Gini:0.386618\n",
      "[196]\tcv_low-Gini:0.380045\tcv-Gini:0.386415\n",
      "[197]\tcv_low-Gini:0.379719\tcv-Gini:0.386096\n",
      "[198]\tcv_low-Gini:0.379414\tcv-Gini:0.385797\n",
      "[199]\tcv_low-Gini:0.379327\tcv-Gini:0.385710\n",
      "[200]\tcv_low-Gini:0.379486\tcv-Gini:0.385869\n",
      "[201]\tcv_low-Gini:0.379613\tcv-Gini:0.385983\n",
      "[202]\tcv_low-Gini:0.379514\tcv-Gini:0.385950\n",
      "[203]\tcv_low-Gini:0.379233\tcv-Gini:0.385671\n",
      "[204]\tcv_low-Gini:0.379231\tcv-Gini:0.385664\n",
      "[205]\tcv_low-Gini:0.379015\tcv-Gini:0.385447\n",
      "Stopping. Best iteration:\n",
      "[155]\tcv_low-Gini:0.383299\tcv-Gini:0.389706\n",
      "\n"
     ]
    }
   ],
   "source": [
    "import pandas as pd\n",
    "from sklearn.cluster import KMeans\n",
    "import xgboost as xgb\n",
    "from sklearn.cross_validation import train_test_split\n",
    "\n",
    "from gini import normalized_gini, gini_eval\n",
    "from dataset import get_data\n",
    "\n",
    "from time import time\n",
    "import numpy as np\n",
    "import matplotlib.pyplot as plt\n",
    "from sklearn.neighbors import KernelDensity, KNeighborsRegressor\n",
    "\n",
    "from sklearn import metrics\n",
    "from sklearn.cluster import KMeans\n",
    "from sklearn.datasets import load_digits\n",
    "from sklearn.decomposition import PCA\n",
    "from sklearn.preprocessing import scale\n",
    "#import pylab as pl\n",
    "\n",
    "%matplotlib inline\n",
    "plt.rcParams['figure.figsize'] = (10, 6)\n",
    "\n",
    "params = pd.DataFrame({\n",
    "    \"objective\": \"reg:linear\",\n",
    "    \"eta\": [0.04, 0.03, 0.03, 0.03, 0.02],\n",
    "    \"min_child_weight\": 5,\n",
    "    \"subsample\": [1, 0.9, 0.95, 1, 0.6],\n",
    "    \"colsample_bytree\": [0.7, 0.6, 0.65, 0.6, 0.85],\n",
    "    \"max_depth\": [8, 7, 9, 10, 10],\n",
    "    \"eval_metric\": \"auc\",\n",
    "    \"scale_pos_weight\": 1,\n",
    "    \"silent\": 1\n",
    "})\n",
    "\n",
    "\n",
    "dat_x, dat_y, lb_x, lb_ind = get_data()\n",
    "\n",
    "dat_y = dat_y # ** 0.75\n",
    "dat_x['label'] = dat_y\n",
    "#dat_x = dat_x[dat_x['label'] < 6]\n",
    "dat_y = np.asarray(dat_x['label'])\n",
    "dat_x = dat_x.drop('label', axis=1)\n",
    "\n",
    "seen_index, unseen_index = train_test_split(range(dat_x.shape[0]), test_size=0.1, random_state=101)\n",
    "train_index, test_index = train_test_split(range(dat_x.shape[0]), test_size=0.1, random_state=103)\n",
    "\n",
    "train_x = dat_x.iloc[train_index, :]\n",
    "train_y = dat_y[train_index]\n",
    "cv_x = dat_x.iloc[test_index, :]\n",
    "cv_y = dat_y[test_index]\n",
    "\n",
    "cv_x_low = cv_x[cv_y < 40]\n",
    "cv_y_low = cv_y[cv_y < 40]\n",
    "\n",
    "# model 1\n",
    "xgb_train = xgb.DMatrix(train_x, label=train_y)\n",
    "xgb_cv = xgb.DMatrix(cv_x, label=cv_y)\n",
    "xgb_cv_low = xgb.DMatrix(cv_x_low, label=cv_y_low)\n",
    "watchlist = [(xgb_cv_low, 'cv_low'), (xgb_cv, 'cv')]\n",
    "model = xgb.train(params.iloc[0,:].to_dict(), xgb_train, num_boost_round = 3000,\n",
    "                  evals = watchlist,\n",
    "                  feval = gini_eval,\n",
    "                  verbose_eval = True,\n",
    "                  early_stopping_rounds=50)\n",
    "cv_y_preds = model.predict(xgb_cv, ntree_limit=model.best_iteration)\n",
    "cv_y_low_preds = model.predict(xgb_cv_low, ntree_limit=model.best_iteration)"
   ]
  },
  {
   "cell_type": "code",
   "execution_count": 2,
   "metadata": {
    "collapsed": false
   },
   "outputs": [
    {
     "name": "stdout",
     "output_type": "stream",
     "text": [
      "CV MSE=15.628\n",
      "CV LOW MSE=14.549\n",
      "CV: 0.3895811983 (normalized gini).\n",
      "CV LOW: 0.3831808365 (normalized gini).\n"
     ]
    }
   ],
   "source": [
    "print(\"CV MSE=%0.3f\"%(sum(np.power( cv_y_preds - cv_y, 2 ))/cv_y.shape[0]))\n",
    "print(\"CV LOW MSE=%0.3f\"%(sum(np.power( cv_y_low_preds - cv_y_low, 2 ))/cv_y_low.shape[0]))\n",
    "cv_error = normalized_gini(cv_y, cv_y_preds)\n",
    "cv_low_error = normalized_gini(cv_y_low, cv_y_low_preds)\n",
    "print(\"CV: {:.10f} (normalized gini).\".format(cv_error))\n",
    "print(\"CV LOW: {:.10f} (normalized gini).\".format(cv_low_error))"
   ]
  },
  {
   "cell_type": "code",
   "execution_count": 6,
   "metadata": {
    "collapsed": false
   },
   "outputs": [
    {
     "name": "stdout",
     "output_type": "stream",
     "text": [
      "CV MSE=15.552\n",
      "CV LOW MSE=14.444\n",
      "CV: 0.3920835485 (normalized gini).\n",
      "CV LOW: 0.3870119302 (normalized gini).\n"
     ]
    },
    {
     "data": {
      "image/png": "[encoded data removed]",
      "text/plain": [
       "<matplotlib.figure.Figure at 0x10b0ce6d0>"
      ]
     },
     "metadata": {},
     "output_type": "display_data"
    },
    {
     "data": {
      "image/png": "[encoded data removed]",
      "text/plain": [
       "<matplotlib.figure.Figure at 0x10e6bcf10>"
      ]
     },
     "metadata": {},
     "output_type": "display_data"
    }
   ],
   "source": [
    "print(\"CV MSE=%0.3f\"%(sum(np.power( cv_y_preds - cv_y, 2 ))/cv_y.shape[0]))\n",
    "print(\"CV LOW MSE=%0.3f\"%(sum(np.power( cv_y_low_preds - cv_y_low, 2 ))/cv_y_low.shape[0]))\n",
    "cv_error = normalized_gini(cv_y, cv_y_preds)\n",
    "cv_low_error = normalized_gini(cv_y_low, cv_y_low_preds)\n",
    "print(\"CV: {:.10f} (normalized gini).\".format(cv_error))\n",
    "print(\"CV LOW: {:.10f} (normalized gini).\".format(cv_low_error))\n",
    "\n",
    "max_cy = max(cv_y) * 1.1\n",
    "\n",
    "#plt.subplot(1, 2, 1)\n",
    "plt.scatter(cv_y, cv_y_preds, s=1)\n",
    "plt.xlim(0, 70)\n",
    "\n",
    "preds = pd.DataFrame({\"actual\": cv_y, \"pred\": cv_y_preds})\n",
    "preds.boxplot('pred', 'actual')\n",
    "\n",
    "plt.show()"
   ]
  },
  {
   "cell_type": "code",
   "execution_count": 5,
   "metadata": {
    "collapsed": false
   },
   "outputs": [
    {
     "data": {
      "image/png": "[encoded data removed]",
      "text/plain": [
       "<matplotlib.figure.Figure at 0x10e0cf390>"
      ]
     },
     "metadata": {},
     "output_type": "display_data"
    },
    {
     "data": {
      "image/png": "[encoded data removed]",
      "text/plain": [
       "<matplotlib.figure.Figure at 0x10a3ff510>"
      ]
     },
     "metadata": {},
     "output_type": "display_data"
    }
   ],
   "source": [
    "max_cy = max(cv_y_low) * 1.1\n",
    "\n",
    "#plt.subplot(1, 2, 1)\n",
    "plt.scatter(cv_y_low, cv_y_low_preds, s=1)\n",
    "plt.xlim(0, 70)\n",
    "\n",
    "preds = pd.DataFrame({\"actual\": cv_y_low, \"pred\": cv_y_low_preds})\n",
    "preds.boxplot('pred', 'actual')\n",
    "\n",
    "plt.show()"
   ]
  },
  {
   "cell_type": "code",
   "execution_count": null,
   "metadata": {
    "collapsed": false
   },
   "outputs": [],
   "source": [
    "len(cv_y)"
   ]
  },
  {
   "cell_type": "code",
   "execution_count": null,
   "metadata": {
    "collapsed": false
   },
   "outputs": [],
   "source": [
    "len(cv_y_low)"
   ]
  },
  {
   "cell_type": "code",
   "execution_count": null,
   "metadata": {
    "collapsed": false
   },
   "outputs": [],
   "source": [
    "max(train_y), max(cv_y)"
   ]
  },
  {
   "cell_type": "code",
   "execution_count": null,
   "metadata": {
    "collapsed": false
   },
   "outputs": [],
   "source": [
    "2.5 ** (3./4)"
   ]
  },
  {
   "cell_type": "code",
   "execution_count": null,
   "metadata": {
    "collapsed": true
   },
   "outputs": [],
   "source": [
    "cv_y_low = cv_y[cv_y < 19.5]"
   ]
  },
  {
   "cell_type": "code",
   "execution_count": null,
   "metadata": {
    "collapsed": true
   },
   "outputs": [],
   "source": []
  }
 ],
 "metadata": {
  "kernelspec": {
   "display_name": "Python 2",
   "language": "python",
   "name": "python2"
  },
  "language_info": {
   "codemirror_mode": {
    "name": "ipython",
    "version": 2
   },
   "file_extension": ".py",
   "mimetype": "text/x-python",
   "name": "python",
   "nbconvert_exporter": "python",
   "pygments_lexer": "ipython2",
   "version": "2.7.6"
  }
 },
 "nbformat": 4,
 "nbformat_minor": 0
}
