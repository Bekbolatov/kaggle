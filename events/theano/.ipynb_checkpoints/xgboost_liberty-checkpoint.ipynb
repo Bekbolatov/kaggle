{
 "cells": [
  {
   "cell_type": "code",
   "execution_count": 27,
   "metadata": {
    "collapsed": false
   },
   "outputs": [
    {
     "ename": "IndexError",
     "evalue": "too many indices for array",
     "output_type": "error",
     "traceback": [
      "\u001b[0;31m---------------------------------------------------------------------------\u001b[0m",
      "\u001b[0;31mIndexError\u001b[0m                                Traceback (most recent call last)",
      "\u001b[0;32m<ipython-input-27-52b2f7ea98a4>\u001b[0m in \u001b[0;36m<module>\u001b[0;34m()\u001b[0m\n\u001b[1;32m     38\u001b[0m \u001b[0;34m\u001b[0m\u001b[0m\n\u001b[1;32m     39\u001b[0m \u001b[0mdat_x\u001b[0m \u001b[0;34m=\u001b[0m \u001b[0mdat_x\u001b[0m\u001b[0;34m.\u001b[0m\u001b[0miloc\u001b[0m\u001b[0;34m[\u001b[0m\u001b[0;34m:\u001b[0m\u001b[0;36m25000\u001b[0m\u001b[0;34m,\u001b[0m\u001b[0;34m:\u001b[0m\u001b[0;34m]\u001b[0m\u001b[0;34m\u001b[0m\u001b[0m\n\u001b[0;32m---> 40\u001b[0;31m \u001b[0mdat_y\u001b[0m \u001b[0;34m=\u001b[0m \u001b[0mdat_y\u001b[0m\u001b[0;34m[\u001b[0m\u001b[0;34m:\u001b[0m\u001b[0;36m25000\u001b[0m\u001b[0;34m,\u001b[0m\u001b[0;34m:\u001b[0m\u001b[0;34m]\u001b[0m\u001b[0;34m\u001b[0m\u001b[0m\n\u001b[0m\u001b[1;32m     41\u001b[0m \u001b[0;34m\u001b[0m\u001b[0m\n\u001b[1;32m     42\u001b[0m \u001b[0mdat_y\u001b[0m \u001b[0;34m=\u001b[0m \u001b[0mdat_y\u001b[0m \u001b[0;34m**\u001b[0m \u001b[0;36m0.50\u001b[0m\u001b[0;34m\u001b[0m\u001b[0m\n",
      "\u001b[0;31mIndexError\u001b[0m: too many indices for array"
     ]
    }
   ],
   "source": [
    "import pandas as pd\n",
    "from sklearn.cluster import KMeans\n",
    "import xgboost as xgb\n",
    "from sklearn.cross_validation import train_test_split\n",
    "\n",
    "from gini import normalized_gini, gini_eval\n",
    "from dataset import get_data\n",
    "\n",
    "from time import time\n",
    "import numpy as np\n",
    "import matplotlib.pyplot as plt\n",
    "from sklearn.neighbors import KernelDensity, KNeighborsRegressor\n",
    "\n",
    "from sklearn import metrics\n",
    "from sklearn.cluster import KMeans\n",
    "from sklearn.datasets import load_digits\n",
    "from sklearn.decomposition import PCA\n",
    "from sklearn.preprocessing import scale\n",
    "#import pylab as pl\n",
    "\n",
    "%matplotlib inline\n",
    "plt.rcParams['figure.figsize'] = (10, 6)\n",
    "\n",
    "params = pd.DataFrame({\n",
    "    \"objective\": \"reg:linear\",\n",
    "    \"eta\": [0.04, 0.03, 0.03, 0.03, 0.02],\n",
    "    \"min_child_weight\": 5,\n",
    "    \"subsample\": [1, 0.9, 0.95, 1, 0.6],\n",
    "    \"colsample_bytree\": [0.7, 0.6, 0.65, 0.6, 0.85],\n",
    "    \"max_depth\": [8, 7, 9, 10, 10],\n",
    "    \"eval_metric\": \"auc\",\n",
    "    \"scale_pos_weight\": 1,\n",
    "    \"silent\": 1\n",
    "})\n",
    "\n",
    "\n",
    "dat_x, dat_y, lb_x, lb_ind = get_data()\n",
    "\n",
    "dat_x = dat_x.iloc[:35000,:]\n",
    "dat_y = dat_y[:35000]\n",
    "\n",
    "dat_y = dat_y ** 0.50\n",
    "dat_x['label'] = dat_y\n",
    "#dat_x = dat_x[dat_x['label'] < 6]\n",
    "dat_y = np.asarray(dat_x['label'])\n",
    "dat_x = dat_x.drop('label', axis=1)\n",
    "\n",
    "seen_index, unseen_index = train_test_split(range(dat_x.shape[0]), test_size=0.1, random_state=101)\n",
    "train_index, test_index = train_test_split(range(dat_x.shape[0]), test_size=0.1, random_state=103)\n",
    "\n",
    "train_x = dat_x.iloc[train_index, :]\n",
    "train_y = dat_y[train_index]\n",
    "cv_x = dat_x.iloc[test_index, :]\n",
    "cv_y = dat_y[test_index] ** 2.0\n",
    "\n",
    "cv_x_low = cv_x[cv_y < 40]\n",
    "cv_y_low = cv_y[cv_y < 40]\n",
    "\n",
    "# model 1\n",
    "xgb_train = xgb.DMatrix(train_x, label=train_y)\n",
    "xgb_cv = xgb.DMatrix(cv_x, label=cv_y)\n",
    "xgb_cv_low = xgb.DMatrix(cv_x_low, label=cv_y_low)\n",
    "watchlist = [(xgb_cv_low, 'cv_low'), (xgb_cv, 'cv')]\n",
    "model = xgb.train(params.iloc[0,:].to_dict(), xgb_train, num_boost_round = 3000,\n",
    "                  evals = watchlist,\n",
    "                  feval = gini_eval,\n",
    "                  verbose_eval = True,\n",
    "                  early_stopping_rounds=50)\n",
    "cv_y_preds = model.predict(xgb_cv, ntree_limit=model.best_iteration)\n",
    "cv_y_low_preds = model.predict(xgb_cv_low, ntree_limit=model.best_iteration)"
   ]
  },
  {
   "cell_type": "code",
   "execution_count": null,
   "metadata": {
    "collapsed": false
   },
   "outputs": [],
   "source": [
    "cv_y_FF = cv_y ** 0.75\n",
    "cv_y_corr = cv_y_FF ** (4./3)\n",
    "print(\"CV MSE=%0.3f\"%(sum(np.power( cv_y_preds - cv_y, 2 ))/cv_y.shape[0]))\n",
    "#print(\"CV LOW MSE=%0.3f\"%(sum(np.power( cv_y_low_preds - cv_y_low, 2 ))/cv_y_low.shape[0]))\n",
    "cv_error = normalized_gini(cv_y, cv_y_preds)\n",
    "cv_low_error = normalized_gini(cv_y_low, cv_y_low_preds)\n",
    "print(\"CV: {:.10f} (normalized gini).\".format(cv_error))\n",
    "#print(\"CV LOW: {:.10f} (normalized gini).\".format(cv_low_error))"
   ]
  },
  {
   "cell_type": "code",
   "execution_count": null,
   "metadata": {
    "collapsed": false
   },
   "outputs": [],
   "source": [
    "max_cy = max(cv_y) * 1.1\n",
    "\n",
    "#plt.subplot(1, 2, 1)\n",
    "plt.scatter(cv_y, cv_y_preds, s=1)\n",
    "plt.xlim(0, 70)\n",
    "\n",
    "preds = pd.DataFrame({\"actual\": cv_y, \"pred\": cv_y_preds})\n",
    "preds.boxplot('pred', 'actual')\n",
    "\n",
    "plt.show()"
   ]
  },
  {
   "cell_type": "code",
   "execution_count": null,
   "metadata": {
    "collapsed": false
   },
   "outputs": [],
   "source": [
    "max_cy = max(cv_y_low) * 1.1\n",
    "\n",
    "#plt.subplot(1, 2, 1)\n",
    "plt.scatter(cv_y_low, cv_y_low_preds, s=1)\n",
    "plt.xlim(0, 70)\n",
    "\n",
    "preds = pd.DataFrame({\"actual\": cv_y_low, \"pred\": cv_y_low_preds})\n",
    "preds.boxplot('pred', 'actual')\n",
    "\n",
    "plt.show()"
   ]
  },
  {
   "cell_type": "code",
   "execution_count": null,
   "metadata": {
    "collapsed": false
   },
   "outputs": [],
   "source": [
    "len(cv_y)"
   ]
  },
  {
   "cell_type": "code",
   "execution_count": null,
   "metadata": {
    "collapsed": false
   },
   "outputs": [],
   "source": [
    "len(cv_y_low)"
   ]
  },
  {
   "cell_type": "code",
   "execution_count": null,
   "metadata": {
    "collapsed": false
   },
   "outputs": [],
   "source": [
    "max(train_y), max(cv_y)"
   ]
  },
  {
   "cell_type": "code",
   "execution_count": null,
   "metadata": {
    "collapsed": false
   },
   "outputs": [],
   "source": [
    "2.5 ** (3./4)"
   ]
  },
  {
   "cell_type": "code",
   "execution_count": null,
   "metadata": {
    "collapsed": true
   },
   "outputs": [],
   "source": [
    "cv_y_low = cv_y[cv_y < 19.5]"
   ]
  },
  {
   "cell_type": "code",
   "execution_count": null,
   "metadata": {
    "collapsed": true
   },
   "outputs": [],
   "source": []
  }
 ],
 "metadata": {
  "kernelspec": {
   "display_name": "Python 2",
   "language": "python",
   "name": "python2"
  },
  "language_info": {
   "codemirror_mode": {
    "name": "ipython",
    "version": 2
   },
   "file_extension": ".py",
   "mimetype": "text/x-python",
   "name": "python",
   "nbconvert_exporter": "python",
   "pygments_lexer": "ipython2",
   "version": "2.7.6"
  }
 },
 "nbformat": 4,
 "nbformat_minor": 0
}
