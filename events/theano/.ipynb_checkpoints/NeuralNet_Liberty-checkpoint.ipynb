{
 "cells": [
  {
   "cell_type": "code",
   "execution_count": 7,
   "metadata": {
    "collapsed": false
   },
   "outputs": [],
   "source": [
    "import pandas as pd\n",
    "import numpy as np\n",
    "import theano\n",
    "from sklearn import datasets\n",
    "from sklearn.cross_validation import train_test_split\n",
    "from nolearn.lasagne import NeuralNet, TrainSplit\n",
    "import warnings\n",
    "from lasagne.layers import DenseLayer\n",
    "from lasagne.layers import InputLayer\n",
    "from lasagne.layers import DropoutLayer\n",
    "from lasagne.updates import nesterov_momentum, sgd\n",
    "from lasagne.objectives import squared_error, categorical_crossentropy, binary_crossentropy\n",
    "from lasagne.nonlinearities import sigmoid, rectify, softmax, linear, tanh, rectify, leaky_rectify, very_leaky_rectify\n",
    "from sklearn import preprocessing\n",
    "from sklearn.cross_validation import train_test_split\n",
    "from sklearn.utils.validation import NonBLASDotWarning\n",
    "import theano\n",
    "import numpy as np\n",
    "import matplotlib.pyplot as plt\n",
    "\n",
    "from dataset import get_data\n",
    "from gini import normalized_gini\n",
    "from numpy import log\n",
    "from sklearn.metrics import confusion_matrix\n",
    "from lasagne.layers import DenseLayer\n",
    "from lasagne.layers import InputLayer\n",
    "from lasagne.layers import DropoutLayer\n",
    "from lasagne.updates import nesterov_momentum, sgd\n",
    "from lasagne.objectives import squared_error, categorical_crossentropy, binary_crossentropy\n",
    "from lasagne.nonlinearities import sigmoid, rectify, softmax, linear, tanh\n",
    "from nolearn.lasagne import NeuralNet, TrainSplit\n",
    "\n",
    "warnings.simplefilter('always', NonBLASDotWarning)\n",
    "%matplotlib inline\n",
    "\n",
    "dat_x_orig, dat_y_orig, lb_x_orig, lb_ind = get_data()"
   ]
  },
  {
   "cell_type": "markdown",
   "metadata": {},
   "source": [
    "Load data"
   ]
  },
  {
   "cell_type": "code",
   "execution_count": 8,
   "metadata": {
    "collapsed": true
   },
   "outputs": [],
   "source": [
    "dat_x_orig, dat_y_orig, lb_x_orig, lb_ind = get_data()"
   ]
  },
  {
   "cell_type": "markdown",
   "metadata": {},
   "source": [
    "Relabel and scale"
   ]
  },
  {
   "cell_type": "code",
   "execution_count": 59,
   "metadata": {
    "collapsed": true
   },
   "outputs": [],
   "source": [
    "def labels(n):\n",
    "    if n <= 1:\n",
    "        return 0\n",
    "    elif n <=4:\n",
    "        return 1\n",
    "    else:\n",
    "        return 2\n",
    "\n",
    "nplabels = np.vectorize(labels)\n",
    "\n",
    "scaler = preprocessing.StandardScaler().fit(dat_x_orig)\n",
    "dat_x = scaler.transform(dat_x_orig)\n",
    "lb_x = scaler.transform(lb_x_orig)\n",
    "dat_y = nplabels(dat_y_orig) #** 0.75"
   ]
  },
  {
   "cell_type": "markdown",
   "metadata": {},
   "source": [
    "Split dataset into train/test"
   ]
  },
  {
   "cell_type": "code",
   "execution_count": 89,
   "metadata": {
    "collapsed": true
   },
   "outputs": [],
   "source": [
    "train_index, test_index = train_test_split(range(dat_x.shape[0]), test_size=0.15, random_state=103)\n",
    "\n",
    "train_x = dat_x[train_index, :]\n",
    "train_y = dat_y[train_index]\n",
    "cv_x = dat_x[test_index, :]\n",
    "cv_y = dat_y[test_index]\n",
    "cv_y_true = dat_y_orig[test_index]"
   ]
  },
  {
   "cell_type": "markdown",
   "metadata": {},
   "source": [
    "Prepare for Theano"
   ]
  },
  {
   "cell_type": "code",
   "execution_count": 90,
   "metadata": {
    "collapsed": false
   },
   "outputs": [],
   "source": [
    "train_x = np.asarray(train_x, dtype = theano.config.floatX)\n",
    "train_y = np.asarray(train_y, dtype = 'int32')\n",
    "cv_x = np.asarray(cv_x, dtype = theano.config.floatX)\n",
    "cv_y = np.asarray(cv_y, dtype = 'int32')"
   ]
  },
  {
   "cell_type": "code",
   "execution_count": 98,
   "metadata": {
    "collapsed": false
   },
   "outputs": [
    {
     "name": "stdout",
     "output_type": "stream",
     "text": [
      "# Neural Network with 809003 learnable parameters\n",
      "\n",
      "## Layer information\n",
      "\n",
      "  #  name        size\n",
      "---  --------  ------\n",
      "  0  input        111\n",
      "  1  dropout0     111\n",
      "  2  hidden1      500\n",
      "  3  dropout1     500\n",
      "  4  hidden2      500\n",
      "  5  hidden3      500\n",
      "  6  hidden4      500\n",
      "  7  output         3\n",
      "\n",
      "  epoch    train loss    valid loss    train/val    valid acc  dur\n",
      "-------  ------------  ------------  -----------  -----------  -----\n",
      "      1       \u001b[36m1.08375\u001b[0m       \u001b[32m1.06104\u001b[0m      1.02140      0.42493  3.45s\n",
      "      2       \u001b[36m1.06981\u001b[0m       \u001b[32m1.05800\u001b[0m      1.01116      0.42941  2.94s\n",
      "      3       \u001b[36m1.06872\u001b[0m       1.05800      1.01013      0.42888  2.56s\n",
      "      4       \u001b[36m1.06702\u001b[0m       1.05810      1.00843      0.42948  2.38s\n",
      "      5       \u001b[36m1.06426\u001b[0m       \u001b[32m1.05752\u001b[0m      1.00637      0.43243  2.38s\n",
      "      6       \u001b[36m1.06276\u001b[0m       \u001b[32m1.05701\u001b[0m      1.00544      0.43389  2.39s\n",
      "      7       \u001b[36m1.06196\u001b[0m       \u001b[32m1.05611\u001b[0m      1.00554      0.43286  2.38s\n",
      "      8       \u001b[36m1.06079\u001b[0m       1.05658      1.00399      0.43082  2.37s\n",
      "      9       \u001b[36m1.05846\u001b[0m       1.05614      1.00219      0.43459  2.37s\n",
      "     10       1.05878       1.05727      1.00142      0.43251  2.63s\n",
      "     11       \u001b[36m1.05494\u001b[0m       \u001b[32m1.05591\u001b[0m      0.99908      0.43669  2.38s\n",
      "     12       \u001b[36m1.05349\u001b[0m       1.05683      0.99684      0.43282  2.52s\n",
      "     13       1.05359       1.05797      0.99586      0.42618  2.44s\n",
      "     14       \u001b[36m1.05167\u001b[0m       1.05923      0.99287      0.42363  2.38s\n",
      "     15       \u001b[36m1.04956\u001b[0m       1.05909      0.99100      0.42577  2.38s\n",
      "Stopping early\n",
      "[[1633  597  633]\n",
      " [1114  665  694]\n",
      " [ 771  531 1012]]\n"
     ]
    },
    {
     "data": {
      "image/png": "[encoded data removed]",
      "text/plain": [
       "<matplotlib.figure.Figure at 0x11f6b7f90>"
      ]
     },
     "metadata": {},
     "output_type": "display_data"
    },
    {
     "data": {
      "image/png": "[encoded data removed]",
      "text/plain": [
       "<matplotlib.figure.Figure at 0x11f831190>"
      ]
     },
     "metadata": {},
     "output_type": "display_data"
    }
   ],
   "source": [
    "\n",
    "def on_epoch_finished(obj, train_history):\n",
    "    if (len(train_history) > 5):\n",
    "        inLastEight = any([h['valid_loss_best'] for h in  train_history[-4:-1]] +\n",
    "                          [train_history[-1]['valid_loss'] < train_history[-2]['valid_loss'],\n",
    "                           train_history[-1]['valid_loss'] < train_history[-3]['valid_loss'],\n",
    "                           ])\n",
    "        if not inLastEight:\n",
    "            print(\"Stopping early\")\n",
    "            raise StopIteration\n",
    "\n",
    "def NeuralNetConstructor(num_features, max_epochs=5, update_learning_rate=0.2, verbose=1):\n",
    "    layers0 = [\n",
    "        ('input', InputLayer),\n",
    "        ('dropout0', DropoutLayer),\n",
    "        ('hidden1', DenseLayer),\n",
    "        ('dropout1', DropoutLayer),\n",
    "        ('hidden2', DenseLayer),\n",
    "        ('hidden3', DenseLayer),\n",
    "        ('hidden4', DenseLayer),\n",
    "        ('output', DenseLayer)]\n",
    "\n",
    "    net0 = NeuralNet(\n",
    "        layers=layers0,\n",
    "\n",
    "        input_shape=(None, num_features),\n",
    "        input_nonlinearity=sigmoid,\n",
    "\n",
    "        dropout0_p=0.2,\n",
    "\n",
    "        hidden1_num_units=500, #75, #20,\n",
    "        hidden1_nonlinearity=rectify,\n",
    "\n",
    "        dropout1_p=0.2,\n",
    "\n",
    "        hidden2_num_units=400, #70, #24,\n",
    "        hidden2_nonlinearity=rectify,\n",
    "\n",
    "        hidden3_num_units=400, #70, #24,\n",
    "        hidden3_nonlinearity=tanh,\n",
    "\n",
    "        hidden4_num_units=400, #70, #24,\n",
    "        hidden4_nonlinearity=sigmoid,\n",
    "\n",
    "        output_num_units=3,\n",
    "        output_nonlinearity=softmax,\n",
    "\n",
    "        on_epoch_finished=[on_epoch_finished],\n",
    "\n",
    "        objective_loss_function=categorical_crossentropy, #binary_crossentropy, #squared_error, categorical_crossentropy\n",
    "        update=nesterov_momentum,\n",
    "        update_learning_rate=update_learning_rate, #0.02,\n",
    "        update_momentum=0.9,\n",
    "        train_split=TrainSplit(eval_size=0.2),\n",
    "        verbose=verbose,\n",
    "        regression=False,\n",
    "        max_epochs=max_epochs)\n",
    "\n",
    "    return net0\n",
    "\n",
    "network = NeuralNetConstructor(111, max_epochs=1000, update_learning_rate=0.01, verbose=1)\n",
    "network.fit(train_x, train_y)\n",
    "cv_preds = network.predict(cv_x)\n",
    "\n",
    "cm = confusion_matrix(cv_y, cv_preds)\n",
    "print(cm)\n",
    "\n",
    "#pd.DataFrame(cv_preds).hist()\n",
    "\n",
    "plt.matshow(cm)\n",
    "plt.title('Confusion matrix')\n",
    "plt.colorbar()\n",
    "plt.ylabel('True label')\n",
    "plt.xlabel('Predicted label')\n",
    "plt.show()\n",
    "print(normalized_gini(cv_y_true, cv_preds))"
   ]
  },
  {
   "cell_type": "markdown",
   "metadata": {},
   "source": [
    "# PREV"
   ]
  },
  {
   "cell_type": "code",
   "execution_count": 97,
   "metadata": {
    "collapsed": false
   },
   "outputs": [
    {
     "name": "stdout",
     "output_type": "stream",
     "text": [
      "[[1480  853  530]\n",
      " [ 994  878  601]\n",
      " [ 669  735  910]]\n"
     ]
    },
    {
     "data": {
      "image/png": "[encoded data removed]",
      "text/plain": [
       "<matplotlib.figure.Figure at 0x11ecd2b50>"
      ]
     },
     "metadata": {},
     "output_type": "display_data"
    },
    {
     "data": {
      "image/png": "[encoded data removed]",
      "text/plain": [
       "<matplotlib.figure.Figure at 0x124750350>"
      ]
     },
     "metadata": {},
     "output_type": "display_data"
    },
    {
     "name": "stdout",
     "output_type": "stream",
     "text": [
      "0.263275728938\n"
     ]
    }
   ],
   "source": [
    "print(cm)\n",
    "\n",
    "#pd.DataFrame(cv_preds).hist()\n",
    "\n",
    "plt.matshow(cm)\n",
    "plt.title('Confusion matrix')\n",
    "plt.colorbar()\n",
    "plt.ylabel('True label')\n",
    "plt.xlabel('Predicted label')\n",
    "plt.show()\n",
    "\n",
    "print(normalized_gini(cv_y_true, cv_preds))"
   ]
  },
  {
   "cell_type": "code",
   "execution_count": 94,
   "metadata": {
    "collapsed": false
   },
   "outputs": [
    {
     "name": "stdout",
     "output_type": "stream",
     "text": [
      "0.263275728938\n"
     ]
    }
   ],
   "source": [
    "print(normalized_gini(cv_y_true, cv_preds))"
   ]
  },
  {
   "cell_type": "code",
   "execution_count": null,
   "metadata": {
    "collapsed": true
   },
   "outputs": [],
   "source": []
  }
 ],
 "metadata": {
  "kernelspec": {
   "display_name": "Python 2",
   "language": "python",
   "name": "python2"
  },
  "language_info": {
   "codemirror_mode": {
    "name": "ipython",
    "version": 2
   },
   "file_extension": ".py",
   "mimetype": "text/x-python",
   "name": "python",
   "nbconvert_exporter": "python",
   "pygments_lexer": "ipython2",
   "version": "2.7.6"
  }
 },
 "nbformat": 4,
 "nbformat_minor": 0
}
