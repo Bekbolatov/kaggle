{
 "cells": [
  {
   "cell_type": "code",
   "execution_count": 1,
   "metadata": {
    "collapsed": false
   },
   "outputs": [],
   "source": [
    "import time\n",
    "import numpy as np\n",
    "import pandas as pd\n",
    "import xgboost as xgb\n",
    "from scipy.stats import pearsonr\n",
    "from sklearn import linear_model\n",
    "from sklearn.cross_validation import train_test_split\n",
    "from sklearn.ensemble import RandomForestRegressor\n",
    "#from sklearn import pipeline, model_selection\n",
    "from sklearn import pipeline, grid_search\n",
    "#from sklearn.feature_extraction import DictVectorizer\n",
    "from sklearn.base import BaseEstimator, TransformerMixin\n",
    "from sklearn.pipeline import FeatureUnion\n",
    "from sklearn.decomposition import TruncatedSVD\n",
    "#from sklearn.feature_extraction.text import CountVectorizer, TfidfTransformer\n",
    "from sklearn.feature_extraction.text import TfidfVectorizer\n",
    "from sklearn.metrics import mean_squared_error, make_scorer\n",
    "\n",
    "import re\n",
    "\n",
    "import random\n",
    "random.seed(2016)\n",
    "pd.set_option(\"display.max_colwidth\", 200)\n",
    "\n",
    "%matplotlib inline\n",
    "\n",
    "import matplotlib\n",
    "\n",
    "# LOC = '/home/ec2-user/data/hd/unpacked/'\n",
    "# df_train = pd.read_csv(LOC + 'train.csv', encoding=\"ISO-8859-1\")\n",
    "# num_train = df_train.shape[0]"
   ]
  },
  {
   "cell_type": "code",
   "execution_count": null,
   "metadata": {
    "collapsed": false
   },
   "outputs": [],
   "source": [
    "dtrain = xgb.DMatrix(\"train.buffer\")\n",
    "dtest = xgb.DMatrix(\"test.buffer\")\n",
    "evallist  = [(dtrain,'train')]"
   ]
  },
  {
   "cell_type": "code",
   "execution_count": null,
   "metadata": {
    "collapsed": false
   },
   "outputs": [],
   "source": []
  },
  {
   "cell_type": "code",
   "execution_count": null,
   "metadata": {
    "collapsed": false
   },
   "outputs": [],
   "source": [
    "a = np.load('train_data.npy')\n",
    "b = np.load('test_data.npy')\n",
    "a_brand = np.load('features_brand_01_train.npy')\n",
    "b_brand = np.load('features_brand_01_test.npy')\n",
    "a = np.hstack((a, a_brand))\n",
    "b = np.hstack((b, b_brand))"
   ]
  },
  {
   "cell_type": "code",
   "execution_count": null,
   "metadata": {
    "collapsed": false
   },
   "outputs": [],
   "source": [
    "X_train, X_test, y_train, y_test = train_test_split(a, dtrain.get_label(), test_size=0.20, random_state=147)\n",
    "gX_train = xgb.DMatrix(data=X_train, label=y_train)\n",
    "gX_test = xgb.DMatrix(data=X_test, label=y_test)\n",
    "evallist  = [(gX_train,'train'),(gX_test,'test')]"
   ]
  },
  {
   "cell_type": "code",
   "execution_count": null,
   "metadata": {
    "collapsed": true
   },
   "outputs": [],
   "source": [
    "def fmean_squared_error(ground_truth, predictions):\n",
    "    fmean_squared_error_ = mean_squared_error(ground_truth, predictions)**0.5\n",
    "    return fmean_squared_error_"
   ]
  },
  {
   "cell_type": "code",
   "execution_count": null,
   "metadata": {
    "collapsed": false
   },
   "outputs": [],
   "source": [
    "#clf = linear_model.LinearRegression(n_jobs=8)\n",
    "clf = linear_model.Ridge (alpha = .6)\n",
    "clf.fit(X_train, y_train)\n",
    "y_hat = clf.predict(X_test)\n",
    "y_hat = np.minimum(np.maximum(y_hat, 1.0), 3.0)\n",
    "fmean_squared_error(y_hat, y_test)"
   ]
  },
  {
   "cell_type": "code",
   "execution_count": null,
   "metadata": {
    "collapsed": true
   },
   "outputs": [],
   "source": [
    "clf = linear_model.Ridge (alpha = .6)\n",
    "clf.fit(a, dtrain.get_label())\n",
    "y_hat = clf.predict(X_test)\n",
    "y_hat = np.minimum(np.maximum(y_hat, 1.0), 3.0)\n"
   ]
  },
  {
   "cell_type": "code",
   "execution_count": null,
   "metadata": {
    "collapsed": false
   },
   "outputs": [],
   "source": [
    "xgb.train?"
   ]
  },
  {
   "cell_type": "code",
   "execution_count": null,
   "metadata": {
    "collapsed": false
   },
   "outputs": [],
   "source": [
    "# TRAIN AS SELF\n",
    "param = {'max_depth':9, \n",
    "         'eta':0.1, # 'objective':'reg:linear',\n",
    "         'eval_metric':'rmse', #'maximize': False,\n",
    "         'colsample_bytree':0.3,\n",
    "         'subsample':0.9,\n",
    "         'nthread':8,\n",
    "         'silent': True\n",
    "        }\n",
    "num_round = 5000\n",
    "bst = xgb.train( param, gX_train, num_round, [(gX_train,'train'),(gX_test,'test')], early_stopping_rounds=15, verbose_eval=10)"
   ]
  },
  {
   "cell_type": "code",
   "execution_count": null,
   "metadata": {
    "collapsed": false
   },
   "outputs": [],
   "source": [
    "#7\t0.05\t0.8\t0.9\t500\t\t0.452797\n",
    "#13\t0.01\t0.3\t0.9\n",
    "param = {'max_depth':13, \n",
    "         'eta':0.01, # 'objective':'reg:linear',\n",
    "         'eval_metric':'rmse', #'maximize': False,\n",
    "         'colsample_bytree':0.3,\n",
    "         'subsample':0.9,\n",
    "         'nthread':8,\n",
    "         'silent': True\n",
    "        }\n",
    "num_round = 5000\n",
    "bst = xgb.train( param, gX_train, num_round, [(gX_train,'train'),(gX_test,'test')], early_stopping_rounds=15, verbose_eval=10)"
   ]
  },
  {
   "cell_type": "code",
   "execution_count": null,
   "metadata": {
    "collapsed": true
   },
   "outputs": [],
   "source": [
    "num_round = 800\n",
    "\n",
    "#bst = xgb.train( param, dtrain, num_round, [(gX_train,'train'),(gX_test,'test')], verbose_eval=20)\n",
    "bst = xgb.train( param, dtrain, num_round, [(gX_test,'test')], verbose_eval=20)\n",
    "\n",
    "#LOC = '/home/ec2-user/data/hd/unpacked/'\n",
    "LOC = '/Users/rbekbolatov/data/kaggle/homedepot/'\n",
    "df_test = pd.read_csv(LOC + 'test.csv', encoding=\"ISO-8859-1\")\n",
    "id_test = df_test['id']\n",
    "\n",
    "y_pred = bst.predict(dtest, ntree_limit=500)\n",
    "y_pred_bounded = np.minimum(np.maximum(y_pred, 1.0), 3.0)\n",
    "pd.DataFrame({\"id\": id_test, \"relevance\": y_pred_bounded}).to_csv('submission_xgboost_2.csv',index=False)"
   ]
  },
  {
   "cell_type": "code",
   "execution_count": null,
   "metadata": {
    "collapsed": true
   },
   "outputs": [],
   "source": [
    "##  THIS CREATED HIGHEST SO FAR : 3/25 1:27am (8a)\n",
    "fmi = pd.read_csv('/Users/rbekbolatov/repos/gh/bekbolatov/kaggle/events/hd/notebooks/submission_blend_0403_1631.csv.gz', encoding=\"ISO-8859-1\")\n",
    "fo = pd.read_csv('/Users/rbekbolatov/repos/gh/bekbolatov/kaggle/events/hd/notebooks/submission_xgboost_words_0405_1446.csv.gz', encoding=\"ISO-8859-1\")"
   ]
  },
  {
   "cell_type": "code",
   "execution_count": null,
   "metadata": {
    "collapsed": false
   },
   "outputs": [],
   "source": [
    "fmi.head()"
   ]
  },
  {
   "cell_type": "code",
   "execution_count": null,
   "metadata": {
    "collapsed": false
   },
   "outputs": [],
   "source": [
    "fo.head()"
   ]
  },
  {
   "cell_type": "code",
   "execution_count": null,
   "metadata": {
    "collapsed": false
   },
   "outputs": [],
   "source": [
    "clf = linear_model.Ridge (alpha = .6)\n",
    "clf.fit(a, dtrain.get_label())\n",
    "y_hat = clf.predict(b)\n",
    "y_hat = np.minimum(np.maximum(y_hat, 1.0), 3.0)\n",
    "\n",
    "#fmi = pd.DataFrame({\"id\": fmi['id'], \"relevance\": y_hat})\n",
    "fmi['relevance'] = y_hat"
   ]
  },
  {
   "cell_type": "code",
   "execution_count": null,
   "metadata": {
    "collapsed": false
   },
   "outputs": [],
   "source": [
    "fmi.head()"
   ]
  },
  {
   "cell_type": "code",
   "execution_count": null,
   "metadata": {
    "collapsed": false
   },
   "outputs": [],
   "source": [
    "fo1 = pd.read_csv('/Users/rbekbolatov/repos/gh/bekbolatov/kaggle/events/hd/notebooks/frommany/submission_xgboost_cum3_000135.csv.gz', encoding=\"ISO-8859-1\")\n",
    "fo1.columns = ['id', 'rel1']\n",
    "fo2 = pd.read_csv('/Users/rbekbolatov/repos/gh/bekbolatov/kaggle/events/hd/notebooks/frommany4/submission_xgboost_cum4_00017.csv.gz', encoding=\"ISO-8859-1\")\n",
    "fo2.columns = ['id', 'rel2']\n",
    "fo3 = pd.read_csv('/Users/rbekbolatov/repos/gh/bekbolatov/kaggle/events/hd/notebooks/submission_xgboost_words_0406_1720.csv.gz', encoding=\"ISO-8859-1\")\n",
    "fo3.columns = ['id', 'rel3']\n",
    "fo4 = pd.read_csv('/Users/rbekbolatov/repos/gh/bekbolatov/kaggle/events/hd/notebooks/submission_blend_0405_1501.csv', encoding=\"ISO-8859-1\")\n",
    "fo4.columns = ['id', 'rel4']\n",
    "\n",
    "\n",
    "res = pd.merge(pd.merge(pd.merge(fo1, fo2, how='left', on='id'), fo3, how='left', on='id'), fo4, how='left', on='id')\n",
    "\n",
    "def f(r):\n",
    "    #return r['rel1']*0.35 + r['rel2']*0.55 + r['rel3']*0.05 + r['rel4']*0.05\n",
    "    return r['rel2']*0.80 + r['rel3']*0.20\n",
    "\n",
    "y_pred = res.apply(f, axis=1)\n",
    "pd.DataFrame({\"id\": res['id'], \"relevance\": y_pred}).to_csv('submission_superblend_0406_2050.csv',index=False)"
   ]
  },
  {
   "cell_type": "code",
   "execution_count": null,
   "metadata": {
    "collapsed": false
   },
   "outputs": [],
   "source": [
    "fo1 = pd.read_csv('/Users/rbekbolatov/repos/gh/bekbolatov/kaggle/events/hd/notebooks/submission_tf_idf2_45445_apr07.csv', encoding=\"ISO-8859-1\").sort_values(by='id')\n",
    "fo2 = pd.read_csv('/Users/rbekbolatov/repos/gh/bekbolatov/kaggle/events/hd/notebooks/submission_blend_0406_1742.csv', encoding=\"ISO-8859-1\")"
   ]
  },
  {
   "cell_type": "code",
   "execution_count": null,
   "metadata": {
    "collapsed": false
   },
   "outputs": [],
   "source": [
    "fo1.head(10)"
   ]
  },
  {
   "cell_type": "code",
   "execution_count": null,
   "metadata": {
    "collapsed": false
   },
   "outputs": [],
   "source": [
    "fo2.head(10)"
   ]
  },
  {
   "cell_type": "code",
   "execution_count": null,
   "metadata": {
    "collapsed": true
   },
   "outputs": [],
   "source": [
    "fo1 = pd.read_csv('/Users/rbekbolatov/repos/gh/bekbolatov/kaggle/events/hd/notebooks/submission_team_superblend_0407_2233.csv', encoding=\"ISO-8859-1\")\n",
    "fo2 = pd.read_csv('/Users/rbekbolatov/repos/gh/bekbolatov/kaggle/events/hd/notebooks/submission_RenatPawel_combined_features_xgboost_0408_0137.csv.gz', encoding=\"ISO-8859-1\")\n",
    "\n",
    "res = pd.merge(fo1, fo2, how='left', on='id')\n",
    "\n",
    "def f(r):\n",
    "    return r['relevance_x']*0.80 + r['relevance_y']*0.20\n",
    "\n",
    "y_pred = res.apply(f, axis=1)\n",
    "pd.DataFrame({\"id\": res['id'], \"relevance\": y_pred}).to_csv('submission_team_superblend_0408_1728.csv',index=False)"
   ]
  },
  {
   "cell_type": "code",
   "execution_count": null,
   "metadata": {
    "collapsed": false
   },
   "outputs": [],
   "source": [
    "fo1 = pd.read_csv('/Users/rbekbolatov/repos/gh/bekbolatov/kaggle/events/hd/notebooks/submission_team_superblend_0408_0155.csv', encoding=\"ISO-8859-1\")\n",
    "fo2 = pd.read_csv('/Users/rbekbolatov/repos/gh/bekbolatov/kaggle/events/hd/notebooks/submission_RenatPawel_combined_features_extratrees_AVG_0408_1708.csv', encoding=\"ISO-8859-1\")\n",
    "\n",
    "res = pd.merge(fo1, fo2, how='left', on='id')\n",
    "\n",
    "def f(r):\n",
    "    return r['relevance_x']*0.90 + r['relevance_y']*0.10\n",
    "\n",
    "y_pred = res.apply(f, axis=1)\n",
    "pd.DataFrame({\"id\": res['id'], \"relevance\": y_pred}).to_csv('submission_team_superblend_xg_xt_0408_1730.csv',index=False)"
   ]
  },
  {
   "cell_type": "code",
   "execution_count": null,
   "metadata": {
    "collapsed": false
   },
   "outputs": [],
   "source": [
    "fo1 = pd.read_csv('/Users/rbekbolatov/repos/gh/bekbolatov/kaggle/events/hd/notebooks/submission_RenatPawel_combined_features_extratrees_0408_1705.csv.gz', encoding=\"ISO-8859-1\")\n",
    "fo2 = pd.read_csv('/Users/rbekbolatov/repos/gh/bekbolatov/kaggle/events/hd/notebooks/submission_RenatPawel_combined_features_extratrees_0408_1631.csv.gz', encoding=\"ISO-8859-1\")\n",
    "\n",
    "res = pd.merge(fo1, fo2, how='left', on='id')\n",
    "\n",
    "def f(r):\n",
    "    return r['relevance_x']*0.55 + r['relevance_y']*0.45\n",
    "\n",
    "y_pred = res.apply(f, axis=1)\n",
    "pd.DataFrame({\"id\": res['id'], \"relevance\": y_pred}).to_csv('submission_RenatPawel_combined_features_extratrees_AVG_0408_1708.csv',index=False)"
   ]
  },
  {
   "cell_type": "code",
   "execution_count": 7,
   "metadata": {
    "collapsed": false
   },
   "outputs": [],
   "source": [
    "#ens0904*0.8 + submission_team_superblend_0408_0155*0.2\n",
    "fo1 = pd.read_csv('/Users/rbekbolatov/repos/gh/bekbolatov/kaggle/events/hd/notebooks/slippery_appraisals_ens0904.csv', encoding=\"ISO-8859-1\")\n",
    "fo2 = pd.read_csv('/Users/rbekbolatov/repos/gh/bekbolatov/kaggle/events/hd/notebooks/submission_team_superblend_0408_0155.csv', encoding=\"ISO-8859-1\")\n",
    "\n",
    "res = pd.merge(fo1, fo2, how='left', on='id')\n",
    "\n",
    "def f(r):\n",
    "    return r['relevance_x']*0.80 + r['relevance_y']*0.20\n",
    "\n",
    "y_pred = res.apply(f, axis=1)\n",
    "pd.DataFrame({\"id\": res['id'], \"relevance\": y_pred}).to_csv('submission_slippery_blend_0409_2220.csv',index=False)"
   ]
  },
  {
   "cell_type": "code",
   "execution_count": 3,
   "metadata": {
    "collapsed": true
   },
   "outputs": [],
   "source": [
    "# ens0904*0.50 + submission_team_superblend_0408_0155*0.30 + 160410_ID24_Pawel_Renal_XGB_R*0.20\n",
    "fo1 = pd.read_csv('/Users/rbekbolatov/repos/gh/bekbolatov/kaggle/events/hd/notebooks/slippery_appraisals_ens0904.csv', encoding=\"ISO-8859-1\")\n",
    "fo1.columns = ['id', 'rel1']\n",
    "fo2 = pd.read_csv('/Users/rbekbolatov/repos/gh/bekbolatov/kaggle/events/hd/notebooks/submission_team_superblend_0408_0155.csv', encoding=\"ISO-8859-1\")\n",
    "fo2.columns = ['id', 'rel2']\n",
    "fo3 = pd.read_csv('/Users/rbekbolatov/repos/gh/bekbolatov/kaggle/events/hd/notebooks/160410_ID24_Pawel_Renal_XGB_R.csv', encoding=\"ISO-8859-1\")\n",
    "fo3.columns = ['id', 'rel3']\n",
    "\n",
    "res = pd.merge(pd.merge(fo1, fo2, how='left', on='id'), fo3, how='left', on='id')\n",
    "\n",
    "def f(r):\n",
    "    return r['rel1']*0.50 + r['rel2']*0.30 + r['rel3']*0.20\n",
    "\n",
    "y_pred = res.apply(f, axis=1)\n",
    "pd.DataFrame({\"id\": res['id'], \"relevance\": y_pred}).to_csv('submission_slippery_blend_0411_1641.csv',index=False)"
   ]
  },
  {
   "cell_type": "code",
   "execution_count": 6,
   "metadata": {
    "collapsed": false
   },
   "outputs": [
    {
     "data": {
      "text/html": [
       "<div>\n",
       "<table border=\"1\" class=\"dataframe\">\n",
       "  <thead>\n",
       "    <tr style=\"text-align: right;\">\n",
       "      <th></th>\n",
       "      <th>id</th>\n",
       "      <th>relevance</th>\n",
       "    </tr>\n",
       "  </thead>\n",
       "  <tbody>\n",
       "    <tr>\n",
       "      <th>0</th>\n",
       "      <td>1</td>\n",
       "      <td>2.040897</td>\n",
       "    </tr>\n",
       "    <tr>\n",
       "      <th>1</th>\n",
       "      <td>4</td>\n",
       "      <td>2.080843</td>\n",
       "    </tr>\n",
       "    <tr>\n",
       "      <th>2</th>\n",
       "      <td>5</td>\n",
       "      <td>2.497565</td>\n",
       "    </tr>\n",
       "  </tbody>\n",
       "</table>\n",
       "</div>"
      ],
      "text/plain": [
       "   id  relevance\n",
       "0   1   2.040897\n",
       "1   4   2.080843\n",
       "2   5   2.497565"
      ]
     },
     "execution_count": 6,
     "metadata": {},
     "output_type": "execute_result"
    }
   ],
   "source": [
    "fo2.head(3)"
   ]
  },
  {
   "cell_type": "code",
   "execution_count": null,
   "metadata": {
    "collapsed": true
   },
   "outputs": [],
   "source": [
    "fmir = pd.read_csv('/Users/rbekbolatov/repos/gh/bekbolatov/kaggle/events/hd/notebooks/submission_team_superblend_0407_2152.csv', encoding=\"ISO-8859-1\")"
   ]
  },
  {
   "cell_type": "code",
   "execution_count": null,
   "metadata": {
    "collapsed": false
   },
   "outputs": [],
   "source": [
    "fmir.head(10)"
   ]
  },
  {
   "cell_type": "code",
   "execution_count": null,
   "metadata": {
    "collapsed": true
   },
   "outputs": [],
   "source": [
    "#from scipy.stats import pearsonr\n",
    "pearsonr?"
   ]
  },
  {
   "cell_type": "code",
   "execution_count": null,
   "metadata": {
    "collapsed": false
   },
   "outputs": [],
   "source": [
    "els = [\n",
    "    pd.read_csv('/Users/rbekbolatov/repos/gh/bekbolatov/kaggle/events/hd/notebooks/submission_tf_idf2_45445_apr07.csv', encoding=\"ISO-8859-1\").sort_values(by='id'),\n",
    "    pd.read_csv('/Users/rbekbolatov/repos/gh/bekbolatov/kaggle/events/hd/notebooks/submission_tf_idf2_45456_apr04.csv', encoding=\"ISO-8859-1\").sort_values(by='id'),\n",
    "    pd.read_csv('/Users/rbekbolatov/repos/gh/bekbolatov/kaggle/events/hd/notebooks/submission_tf_idf2_45469_apr07.csv', encoding=\"ISO-8859-1\").sort_values(by='id'),\n",
    "    pd.read_csv('/Users/rbekbolatov/repos/gh/bekbolatov/kaggle/events/hd/notebooks/submission_tf_idf2_45476_apr07.csv', encoding=\"ISO-8859-1\").sort_values(by='id'),\n",
    "    pd.read_csv('/Users/rbekbolatov/repos/gh/bekbolatov/kaggle/events/hd/notebooks/submission_tf_idf2_45503_apr04.csv', encoding=\"ISO-8859-1\").sort_values(by='id'),\n",
    "    pd.read_csv('/Users/rbekbolatov/repos/gh/bekbolatov/kaggle/events/hd/notebooks/submission_tf_idf2_45544_apr05.csv', encoding=\"ISO-8859-1\").sort_values(by='id'),\n",
    "    pd.read_csv('/Users/rbekbolatov/repos/gh/bekbolatov/kaggle/events/hd/notebooks/submission_blend_0406_1742.csv', encoding=\"ISO-8859-1\"),\n",
    "    pd.read_csv('/Users/rbekbolatov/repos/gh/bekbolatov/kaggle/events/hd/notebooks/submission_superblend_0406_2047.csv', encoding=\"ISO-8859-1\"),\n",
    "    pd.read_csv('/Users/rbekbolatov/repos/gh/bekbolatov/kaggle/events/hd/notebooks/frommany/submission_xgboost_cum3_000135.csv.gz', encoding=\"ISO-8859-1\"),\n",
    "    pd.read_csv('/Users/rbekbolatov/repos/gh/bekbolatov/kaggle/events/hd/notebooks/frommany/submission_xgboost_cum2_000036.csv.gz', encoding=\"ISO-8859-1\"),\n",
    "    pd.read_csv('/Users/rbekbolatov/repos/gh/bekbolatov/kaggle/events/hd/notebooks/submission_blend_0405_1940.csv.gz', encoding=\"ISO-8859-1\"),\n",
    "    pd.read_csv('/Users/rbekbolatov/repos/gh/bekbolatov/kaggle/events/hd/notebooks/frommany/submission_xgboost_cum2_000012.csv.gz', encoding=\"ISO-8859-1\"),\n",
    "    pd.read_csv('/Users/rbekbolatov/repos/gh/bekbolatov/kaggle/events/hd/notebooks/submission_RenatPawel_combined_features_xgboost_0408_0137.csv.gz', encoding=\"ISO-8859-1\"),\n",
    "    pd.read_csv('/Users/rbekbolatov/repos/gh/bekbolatov/kaggle/events/hd/notebooks/submission_team_superblend_0407_2233.csv', encoding=\"ISO-8859-1\"),\n",
    "    pd.read_csv('/Users/rbekbolatov/repos/gh/bekbolatov/kaggle/events/hd/notebooks/submission_RenatPawel_xgboost_AVG_00043.csv.gz', encoding=\"ISO-8859-1\"),\n",
    "    pd.read_csv('/Users/rbekbolatov/repos/gh/bekbolatov/kaggle/events/hd/notebooks/submission_RenatPawel_xgboost_AVG_00044.csv.gz', encoding=\"ISO-8859-1\"),\n",
    "    pd.read_csv('/Users/rbekbolatov/repos/gh/bekbolatov/kaggle/events/hd/notebooks/submission_RenatPawel_combined_features_extratrees_0408_1631.csv.gz', encoding=\"ISO-8859-1\"),\n",
    "    pd.read_csv('/Users/rbekbolatov/repos/gh/bekbolatov/kaggle/events/hd/notebooks/submission_team_superblend_0408_0155.csv', encoding=\"ISO-8859-1\"),\n",
    "    pd.read_csv('/Users/rbekbolatov/repos/gh/bekbolatov/kaggle/events/hd/notebooks/slippery_appraisals_ens0904.csv', encoding=\"ISO-8859-1\"),    \n",
    "    ]"
   ]
  },
  {
   "cell_type": "code",
   "execution_count": null,
   "metadata": {
    "collapsed": false
   },
   "outputs": [],
   "source": [
    "%precision 3\n",
    "bi,bj,bc = -1, -1, 1.1\n",
    "for i,e in enumerate(els):\n",
    "    a = []\n",
    "    for j,f in enumerate(els):\n",
    "        pp = pearsonr(e['relevance'], f['relevance'])[0]\n",
    "        if pp < bc:\n",
    "            bc = pp\n",
    "            bi = i\n",
    "            bj = j\n",
    "        a.append('%0.3f' % pp)\n",
    "    print ' '.join(a)\n",
    "print bi,bj,bc"
   ]
  },
  {
   "cell_type": "code",
   "execution_count": null,
   "metadata": {
    "collapsed": false
   },
   "outputs": [],
   "source": [
    "pearsonr(fo1['relevance'], fo2['relevance'])  #4, #2"
   ]
  },
  {
   "cell_type": "code",
   "execution_count": null,
   "metadata": {
    "collapsed": true
   },
   "outputs": [],
   "source": []
  },
  {
   "cell_type": "code",
   "execution_count": null,
   "metadata": {
    "collapsed": false
   },
   "outputs": [],
   "source": [
    "(fmir.relevance > 3).sum()"
   ]
  },
  {
   "cell_type": "code",
   "execution_count": null,
   "metadata": {
    "collapsed": false
   },
   "outputs": [],
   "source": [
    "print(str((bst.best_iteration, bst.best_ntree_limit)))\n",
    "xgb.cv(param, dtrain, num_boost_round=10, nfold=2, metrics={'error'}, maximize=False, seed = 0)"
   ]
  },
  {
   "cell_type": "code",
   "execution_count": null,
   "metadata": {
    "collapsed": false
   },
   "outputs": [],
   "source": [
    "# TRAIN AS SKLEARN\n",
    "clf = xgb.XGBClassifier(**param_clf)\n",
    "#clf.get_params().keys()\n",
    "clf.fit(a, dtrain.get_label())\n",
    "by = clf.predict(b)"
   ]
  },
  {
   "cell_type": "code",
   "execution_count": null,
   "metadata": {
    "collapsed": true
   },
   "outputs": [],
   "source": [
    "def fmean_squared_error(ground_truth, predictions):\n",
    "    fmean_squared_error_ = mean_squared_error(ground_truth, predictions)**0.5\n",
    "    return fmean_squared_error_\n",
    "\n",
    "def fmse(ground_truth, predictions):\n",
    "    return mean_squared_error(ground_truth, predictions)\n",
    "\n",
    "#RMSE  = make_scorer(fmse, greater_is_better=False)\n",
    "RMSE  = make_scorer(fmean_squared_error, greater_is_better=False)"
   ]
  },
  {
   "cell_type": "code",
   "execution_count": null,
   "metadata": {
    "collapsed": false
   },
   "outputs": [],
   "source": [
    "# param_clf = {'max_depth':2, \n",
    "#          'learning_rate':0.5, \n",
    "#          'colsample_bytree':0.8,\n",
    "#          'subsample':0.95,\n",
    "#          'nthread':4,\n",
    "#          'n_estimators': 120\n",
    "#         }\n",
    "paramso = {'max_depth': [3], \n",
    "         'learning_rate': [0.1], \n",
    "         'colsample_bytree':[1],\n",
    "         'subsample':[1],\n",
    "         'n_estimators':[10]\n",
    "        }\n",
    "#num_round = 120"
   ]
  },
  {
   "cell_type": "code",
   "execution_count": null,
   "metadata": {
    "collapsed": true
   },
   "outputs": [],
   "source": [
    "grid_search.GridSearchCV?"
   ]
  },
  {
   "cell_type": "code",
   "execution_count": null,
   "metadata": {
    "collapsed": false
   },
   "outputs": [],
   "source": [
    "model = grid_search.GridSearchCV(\n",
    "    estimator = xgb.XGBClassifier(silent=False, nthread=8), #**param_clf), \n",
    "    param_grid = paramso, cv = 3, verbose = 20, scoring=RMSE)"
   ]
  },
  {
   "cell_type": "code",
   "execution_count": null,
   "metadata": {
    "collapsed": false
   },
   "outputs": [],
   "source": [
    "model.fit(a, dtrain.get_label())\n",
    "\n",
    "print(\"Best parameters found by grid search:\")\n",
    "print(model.best_params_)\n",
    "print(\"Best CV score:\")\n",
    "print(model.best_score_)"
   ]
  },
  {
   "cell_type": "code",
   "execution_count": null,
   "metadata": {
    "collapsed": true
   },
   "outputs": [],
   "source": []
  }
 ],
 "metadata": {
  "kernelspec": {
   "display_name": "Python 2",
   "language": "python",
   "name": "python2"
  },
  "language_info": {
   "codemirror_mode": {
    "name": "ipython",
    "version": 2
   },
   "file_extension": ".py",
   "mimetype": "text/x-python",
   "name": "python",
   "nbconvert_exporter": "python",
   "pygments_lexer": "ipython2",
   "version": "2.7.10"
  }
 },
 "nbformat": 4,
 "nbformat_minor": 0
}
