{
 "cells": [
  {
   "cell_type": "code",
   "execution_count": 1,
   "metadata": {
    "collapsed": true
   },
   "outputs": [],
   "source": [
    "import time\n",
    "import re\n",
    "import random\n",
    "random.seed(2016)\n",
    "\n",
    "import numpy as np\n",
    "import pandas as pd\n",
    "import xgboost as xgb\n",
    "\n",
    "from sklearn import linear_model\n",
    "from sklearn.cross_validation import train_test_split\n",
    "from sklearn.ensemble import RandomForestRegressor\n",
    "from sklearn import pipeline, grid_search\n",
    "from sklearn.base import BaseEstimator, TransformerMixin\n",
    "from sklearn.pipeline import FeatureUnion\n",
    "from sklearn.decomposition import TruncatedSVD\n",
    "from sklearn.feature_extraction.text import TfidfVectorizer\n",
    "from sklearn.metrics import mean_squared_error, make_scorer"
   ]
  },
  {
   "cell_type": "code",
   "execution_count": 8,
   "metadata": {
    "collapsed": true
   },
   "outputs": [],
   "source": [
    "def fmean_squared_error(ground_truth, predictions):\n",
    "    fmean_squared_error_ = mean_squared_error(ground_truth, predictions)**0.5\n",
    "    return fmean_squared_error_"
   ]
  },
  {
   "cell_type": "code",
   "execution_count": 27,
   "metadata": {
    "collapsed": true
   },
   "outputs": [],
   "source": [
    "loc = '%s'\n",
    "#loc = '/home/ec2-user/data/hd/features/%s'\n",
    "a_o = np.load(loc % 'train_data.npy')\n",
    "b_o = np.load(loc % 'test_data.npy')\n",
    "a_brand = np.load(loc % 'features_brand_01_train.npy')\n",
    "b_brand = np.load(loc % 'features_brand_01_test.npy')\n",
    "a_other = np.load(loc % 'FEATURES_1d_TRAIN.npy')\n",
    "b_other = np.load(loc % 'FEATURES_1d_TEST.npy')\n",
    "a_word_feat = np.load(loc % 'SPECIAL_WORDS_FEAT_TRAIN.npy')\n",
    "b_word_feat = np.load(loc % 'SPECIAL_WORDS_FEAT_TEST.npy')\n",
    "\n",
    "a_w2vdot = pd.read_pickle(loc % 'W2V_dots_train.df').drop('relevance', axis=1).values\n",
    "b_w2vdot = pd.read_pickle(loc % 'W2V_dots_test.df').drop('relevance', axis=1).values\n",
    "\n",
    "a_w2vdist = np.load(loc % 'W2V_dists_train.npz')['arr_0']\n",
    "b_w2vdist = np.load(loc % 'W2V_dists_test.npz')['arr_0']\n",
    "\n",
    "a_w2v_el = np.load(loc % 'W2V_vecs_train.npz')['arr_0']\n",
    "b_w2v_el = np.load(loc % 'W2V_vecs_test.npz')['arr_0']"
   ]
  },
  {
   "cell_type": "code",
   "execution_count": 60,
   "metadata": {
    "collapsed": false
   },
   "outputs": [],
   "source": [
    "a = np.hstack((a_o, a_brand, a_other, a_w2vdot, a_word_feat, a_w2vdist)) #, a_w2v_el))\n",
    "b = np.hstack((b_o, b_brand, b_other, b_w2vdot, b_word_feat, b_w2vdist)) #, b_w2v_el))"
   ]
  },
  {
   "cell_type": "code",
   "execution_count": 61,
   "metadata": {
    "collapsed": false
   },
   "outputs": [
    {
     "data": {
      "text/plain": [
       "((53907,), (20160,))"
      ]
     },
     "execution_count": 61,
     "metadata": {},
     "output_type": "execute_result"
    }
   ],
   "source": [
    "idx_train = pd.read_pickle(loc % 'LABELS_TRAIN.df')\n",
    "idx_test = pd.read_pickle(loc % 'LABELS_TEST.df')\n",
    "\n",
    "validation_idx = pd.read_csv(loc % 'valid_set.csv.gz', index_col= 'id').index\n",
    "train_idx = idx_train.index.difference(validation_idx)\n",
    "\n",
    "df_a = pd.DataFrame(a, index=idx_train.index)\n",
    "\n",
    "train_idx.shape, validation_idx.shape"
   ]
  },
  {
   "cell_type": "code",
   "execution_count": 62,
   "metadata": {
    "collapsed": false
   },
   "outputs": [],
   "source": [
    "df_training_alex = df_a.loc[train_idx]\n",
    "df_validating_alex = df_a.loc[validation_idx]\n",
    "\n",
    "df_training_alex_label = idx_train.loc[train_idx]\n",
    "df_validating_alex_label = idx_train.loc[validation_idx]"
   ]
  },
  {
   "cell_type": "code",
   "execution_count": 31,
   "metadata": {
    "collapsed": false
   },
   "outputs": [
    {
     "data": {
      "text/plain": [
       "((53907, 100), (53907, 1), (20160, 100), (20160, 1))"
      ]
     },
     "execution_count": 31,
     "metadata": {},
     "output_type": "execute_result"
    }
   ],
   "source": [
    "#   TRACK A\n",
    "# without \"co-occurring 6\" features, and only limited number of features\n",
    "X_train = df_training_alex.values[:, 0:100]\n",
    "y_train = df_training_alex_label.values\n",
    "\n",
    "X_test = df_validating_alex.values[:, 0:100]\n",
    "y_test = df_validating_alex_label.values\n",
    "\n",
    "X_train.shape, y_train.shape,  X_test.shape, y_test.shape"
   ]
  },
  {
   "cell_type": "code",
   "execution_count": 63,
   "metadata": {
    "collapsed": false
   },
   "outputs": [
    {
     "data": {
      "text/plain": [
       "((53907, 272), (53907, 1), (20160, 272), (20160, 1))"
      ]
     },
     "execution_count": 63,
     "metadata": {},
     "output_type": "execute_result"
    }
   ],
   "source": [
    "#   TRACK B\n",
    "# without \"co-occurring 6\" features\n",
    "X_train = df_training_alex.values\n",
    "y_train = df_training_alex_label.values\n",
    "\n",
    "X_test = df_validating_alex.values\n",
    "y_test = df_validating_alex_label.values\n",
    "\n",
    "X_train.shape, y_train.shape,  X_test.shape, y_test.shape"
   ]
  },
  {
   "cell_type": "code",
   "execution_count": 95,
   "metadata": {
    "collapsed": false
   },
   "outputs": [
    {
     "data": {
      "text/plain": [
       "((53907, 278), (53907, 1), (20160, 278), (20160, 1))"
      ]
     },
     "execution_count": 95,
     "metadata": {},
     "output_type": "execute_result"
    }
   ],
   "source": [
    "#   TRACK C\n",
    "# with \"co-occurring 6\" features\n",
    "\n",
    "coo_tra = pd.read_csv(loc % 'word_co_train_local.csv.gz', index_col='id')\n",
    "coo_val = pd.read_csv(loc % 'word_co_validate_local.csv.gz', index_col='id')\n",
    "\n",
    "X_train = np.hstack((df_training_alex.values, coo_tra.values))\n",
    "y_train = df_training_alex_label.values\n",
    "\n",
    "X_test = np.hstack((df_validating_alex.values, coo_val.values))\n",
    "y_test = df_validating_alex_label.values\n",
    "\n",
    "X_train.shape, y_train.shape,  X_test.shape, y_test.shape"
   ]
  },
  {
   "cell_type": "code",
   "execution_count": 96,
   "metadata": {
    "collapsed": false
   },
   "outputs": [
    {
     "data": {
      "text/plain": [
       "0.46855983499315912"
      ]
     },
     "execution_count": 96,
     "metadata": {},
     "output_type": "execute_result"
    }
   ],
   "source": [
    "clf = linear_model.Ridge (alpha = 0.6)\n",
    "clf.fit(X_train, y_train)\n",
    "y_hat = clf.predict(X_test)\n",
    "y_hat = np.minimum(np.maximum(y_hat, 1.0), 3.0)\n",
    "fmean_squared_error(y_hat, y_test)\n",
    "\n",
    "#0.47733228483742429\n",
    "# 0.47327677738827956\n",
    "# 0.4674938702127619"
   ]
  },
  {
   "cell_type": "code",
   "execution_count": 81,
   "metadata": {
    "collapsed": false
   },
   "outputs": [],
   "source": [
    "aas = []\n",
    "for i in range(150, 280):\n",
    "    X_train1 = X_train[:, 0:i]\n",
    "    y_train1 = y_train\n",
    "\n",
    "    X_test1 = X_test[:, 0:i]\n",
    "    y_test1 = y_test\n",
    "\n",
    "    clf = linear_model.Ridge (alpha = 0.6)\n",
    "    clf.fit(X_train1, y_train1)\n",
    "    y_hat = clf.predict(X_test1)\n",
    "    y_hat = np.minimum(np.maximum(y_hat, 1.0), 3.0)\n",
    "    aas.append((i,fmean_squared_error(y_hat, y_test)))"
   ]
  },
  {
   "cell_type": "code",
   "execution_count": 75,
   "metadata": {
    "collapsed": false
   },
   "outputs": [
    {
     "data": {
      "text/plain": [
       "[(260, 0.47649325449733348),\n",
       " (261, 0.47646237592355173),\n",
       " (262, 0.47642584348415734),\n",
       " (263, 0.47636281303789491),\n",
       " (264, 0.47636362460353404),\n",
       " (265, 0.47634629974654935),\n",
       " (266, 0.47633207031469571),\n",
       " (267, 0.47634278706587102),\n",
       " (268, 0.47633912105830378),\n",
       " (269, 0.47632655882051261),\n",
       " (270, 0.47630090841251516),\n",
       " (271, 0.47610981376825984),\n",
       " (272, 0.4761270357149654),\n",
       " (273, 0.47351702100669979),\n",
       " (274, 0.47178761585910944),\n",
       " (275, 0.4692805133198405),\n",
       " (276, 0.46906775880156804),\n",
       " (277, 0.468914481369409),\n",
       " (278, 0.46855983499315912),\n",
       " (279, 0.46855983499315912)]"
      ]
     },
     "execution_count": 75,
     "metadata": {},
     "output_type": "execute_result"
    }
   ],
   "source": [
    "aas"
   ]
  },
  {
   "cell_type": "code",
   "execution_count": 82,
   "metadata": {
    "collapsed": false,
    "scrolled": true
   },
   "outputs": [
    {
     "data": {
      "image/png": "[encoded data removed]",
      "text/plain": [
       "<matplotlib.figure.Figure at 0x120fc6550>"
      ]
     },
     "metadata": {},
     "output_type": "display_data"
    }
   ],
   "source": [
    "%matplotlib inline\n",
    "\n",
    "from pylab import rcParams\n",
    "rcParams['figure.figsize'] = 10, 5\n",
    "\n",
    "plt.plot([x[1] for x in aas])\n",
    "plt.show()"
   ]
  },
  {
   "cell_type": "code",
   "execution_count": 97,
   "metadata": {
    "collapsed": false
   },
   "outputs": [
    {
     "data": {
      "text/plain": [
       "[(150, 0.48255078995289946),\n",
       " (151, 0.48235858373907647),\n",
       " (152, 0.48133856822257726),\n",
       " (153, 0.48075965383424951),\n",
       " (154, 0.48059944824589712),\n",
       " (155, 0.48058164037176782),\n",
       " (156, 0.48059292073013438),\n",
       " (157, 0.48065202700064408),\n",
       " (158, 0.48065285686668674),\n",
       " (159, 0.48065057988447507),\n",
       " (160, 0.48064935815621429),\n",
       " (161, 0.48056207509489712),\n",
       " (162, 0.48003085435115311),\n",
       " (163, 0.47972372909245331),\n",
       " (164, 0.47972762445888734),\n",
       " (165, 0.47970519896445923),\n",
       " (166, 0.47970315077325287),\n",
       " (167, 0.47968489178458507),\n",
       " (168, 0.4795893622899674),\n",
       " (169, 0.47955476018725074),\n",
       " (170, 0.47958705124952888),\n",
       " (171, 0.47959009417480775),\n",
       " (172, 0.47957043539039707),\n",
       " (173, 0.47947126784700078),\n",
       " (174, 0.47947004217934053),\n",
       " (175, 0.47949248759124902),\n",
       " (176, 0.47950499365347932),\n",
       " (177, 0.47938968252852715),\n",
       " (178, 0.47942255234907294),\n",
       " (179, 0.47942804232829483),\n",
       " (180, 0.47943153012091422),\n",
       " (181, 0.47941664947998014),\n",
       " (182, 0.47946445960279122),\n",
       " (183, 0.47945477584962337),\n",
       " (184, 0.47944081354966589),\n",
       " (185, 0.47944180552228421),\n",
       " (186, 0.47944310527496958),\n",
       " (187, 0.47944330604818425),\n",
       " (188, 0.47942795597173088),\n",
       " (189, 0.4794032022293882),\n",
       " (190, 0.4780496319524335),\n",
       " (191, 0.47733228483742429),\n",
       " (192, 0.47732784349449436),\n",
       " (193, 0.47732655903043886),\n",
       " (194, 0.47730264555051044),\n",
       " (195, 0.47729382195500697),\n",
       " (196, 0.47729396066754803),\n",
       " (197, 0.47737693291641131),\n",
       " (198, 0.47738999445818536),\n",
       " (199, 0.47732537159198679),\n",
       " (200, 0.47732475079505565),\n",
       " (201, 0.47727808349024886),\n",
       " (202, 0.47727338163476057),\n",
       " (203, 0.47727347338262299),\n",
       " (204, 0.47727254427715304),\n",
       " (205, 0.47725710564680335),\n",
       " (206, 0.47725764074675009),\n",
       " (207, 0.47725705892548831),\n",
       " (208, 0.47724518265897137),\n",
       " (209, 0.47722085731146452),\n",
       " (210, 0.47714798348683685),\n",
       " (211, 0.47714901148059352),\n",
       " (212, 0.47713264938976668),\n",
       " (213, 0.4771001514114499),\n",
       " (214, 0.47705059857221299),\n",
       " (215, 0.47706626668448526),\n",
       " (216, 0.47711971068565928),\n",
       " (217, 0.47700803444324802),\n",
       " (218, 0.47701792291487843),\n",
       " (219, 0.47701411644438751),\n",
       " (220, 0.47702590370132181),\n",
       " (221, 0.47701563764022287),\n",
       " (222, 0.47701554486688152),\n",
       " (223, 0.47702358354689112),\n",
       " (224, 0.47690710674470749),\n",
       " (225, 0.47689294024893641),\n",
       " (226, 0.47688092180486863),\n",
       " (227, 0.47684830632540437),\n",
       " (228, 0.47683942078352115),\n",
       " (229, 0.47684554362323583),\n",
       " (230, 0.47684378496334656),\n",
       " (231, 0.4768244687408657),\n",
       " (232, 0.47680901475264287),\n",
       " (233, 0.4767932974353874),\n",
       " (234, 0.47675609413384978),\n",
       " (235, 0.4767614489011805),\n",
       " (236, 0.47675986328094483),\n",
       " (237, 0.47675980992680639),\n",
       " (238, 0.47676231973659805),\n",
       " (239, 0.47672229544421907),\n",
       " (240, 0.47676330029795816),\n",
       " (241, 0.47677453012973664),\n",
       " (242, 0.47676678848677817),\n",
       " (243, 0.47674999222865144),\n",
       " (244, 0.47672152208241891),\n",
       " (245, 0.47672598450474135),\n",
       " (246, 0.47673294106622727),\n",
       " (247, 0.47671417959179008),\n",
       " (248, 0.47666838230721159),\n",
       " (249, 0.47667309909109096),\n",
       " (250, 0.47666650555432527),\n",
       " (251, 0.47669847316598868),\n",
       " (252, 0.47670608528247421),\n",
       " (253, 0.47671748258322683),\n",
       " (254, 0.4767154789966685),\n",
       " (255, 0.47663838622035831),\n",
       " (256, 0.47661770801330611),\n",
       " (257, 0.47659099421932294),\n",
       " (258, 0.47651959694870077),\n",
       " (259, 0.47651076191999014),\n",
       " (260, 0.47649325449733348),\n",
       " (261, 0.47646237592355173),\n",
       " (262, 0.47642584348415734),\n",
       " (263, 0.47636281303789491),\n",
       " (264, 0.47636362460353404),\n",
       " (265, 0.47634629974654935),\n",
       " (266, 0.47633207031469571),\n",
       " (267, 0.47634278706587102),\n",
       " (268, 0.47633912105830378),\n",
       " (269, 0.47632655882051261),\n",
       " (270, 0.47630090841251516),\n",
       " (271, 0.47610981376825984),\n",
       " (272, 0.4761270357149654),\n",
       " (273, 0.47351702100669979),\n",
       " (274, 0.47178761585910944),\n",
       " (275, 0.4692805133198405),\n",
       " (276, 0.46906775880156804),\n",
       " (277, 0.468914481369409),\n",
       " (278, 0.46855983499315912),\n",
       " (279, 0.46855983499315912)]"
      ]
     },
     "execution_count": 97,
     "metadata": {},
     "output_type": "execute_result"
    }
   ],
   "source": [
    "aas"
   ]
  },
  {
   "cell_type": "code",
   "execution_count": 34,
   "metadata": {
    "collapsed": false
   },
   "outputs": [
    {
     "data": {
      "image/png": "[encoded data removed]",
      "text/plain": [
       "<matplotlib.figure.Figure at 0x13efb2d50>"
      ]
     },
     "metadata": {},
     "output_type": "display_data"
    }
   ],
   "source": [
    "%matplotlib inline\n",
    "\n",
    "from pylab import rcParams\n",
    "rcParams['figure.figsize'] = 15, 8\n",
    "\n",
    "plt.plot(aas)\n",
    "plt.show()"
   ]
  },
  {
   "cell_type": "code",
   "execution_count": 36,
   "metadata": {
    "collapsed": false,
    "scrolled": true
   },
   "outputs": [
    {
     "data": {
      "text/html": [
       "<div>\n",
       "<table border=\"1\" class=\"dataframe\">\n",
       "  <thead>\n",
       "    <tr style=\"text-align: right;\">\n",
       "      <th></th>\n",
       "      <th>0</th>\n",
       "    </tr>\n",
       "  </thead>\n",
       "  <tbody>\n",
       "    <tr>\n",
       "      <th>0</th>\n",
       "      <td>0.528935</td>\n",
       "    </tr>\n",
       "    <tr>\n",
       "      <th>1</th>\n",
       "      <td>0.529975</td>\n",
       "    </tr>\n",
       "    <tr>\n",
       "      <th>2</th>\n",
       "      <td>0.530451</td>\n",
       "    </tr>\n",
       "    <tr>\n",
       "      <th>3</th>\n",
       "      <td>0.530449</td>\n",
       "    </tr>\n",
       "    <tr>\n",
       "      <th>4</th>\n",
       "      <td>0.530124</td>\n",
       "    </tr>\n",
       "    <tr>\n",
       "      <th>5</th>\n",
       "      <td>0.529517</td>\n",
       "    </tr>\n",
       "    <tr>\n",
       "      <th>6</th>\n",
       "      <td>0.528955</td>\n",
       "    </tr>\n",
       "    <tr>\n",
       "      <th>7</th>\n",
       "      <td>0.528607</td>\n",
       "    </tr>\n",
       "    <tr>\n",
       "      <th>8</th>\n",
       "      <td>0.528630</td>\n",
       "    </tr>\n",
       "    <tr>\n",
       "      <th>9</th>\n",
       "      <td>0.528360</td>\n",
       "    </tr>\n",
       "    <tr>\n",
       "      <th>10</th>\n",
       "      <td>0.497234</td>\n",
       "    </tr>\n",
       "    <tr>\n",
       "      <th>11</th>\n",
       "      <td>0.496467</td>\n",
       "    </tr>\n",
       "    <tr>\n",
       "      <th>12</th>\n",
       "      <td>0.496647</td>\n",
       "    </tr>\n",
       "    <tr>\n",
       "      <th>13</th>\n",
       "      <td>0.496562</td>\n",
       "    </tr>\n",
       "    <tr>\n",
       "      <th>14</th>\n",
       "      <td>0.492817</td>\n",
       "    </tr>\n",
       "    <tr>\n",
       "      <th>15</th>\n",
       "      <td>0.492667</td>\n",
       "    </tr>\n",
       "    <tr>\n",
       "      <th>16</th>\n",
       "      <td>0.492511</td>\n",
       "    </tr>\n",
       "    <tr>\n",
       "      <th>17</th>\n",
       "      <td>0.492555</td>\n",
       "    </tr>\n",
       "    <tr>\n",
       "      <th>18</th>\n",
       "      <td>0.492257</td>\n",
       "    </tr>\n",
       "    <tr>\n",
       "      <th>19</th>\n",
       "      <td>0.492249</td>\n",
       "    </tr>\n",
       "    <tr>\n",
       "      <th>20</th>\n",
       "      <td>0.492243</td>\n",
       "    </tr>\n",
       "    <tr>\n",
       "      <th>21</th>\n",
       "      <td>0.492189</td>\n",
       "    </tr>\n",
       "    <tr>\n",
       "      <th>22</th>\n",
       "      <td>0.492202</td>\n",
       "    </tr>\n",
       "    <tr>\n",
       "      <th>23</th>\n",
       "      <td>0.492377</td>\n",
       "    </tr>\n",
       "    <tr>\n",
       "      <th>24</th>\n",
       "      <td>0.492222</td>\n",
       "    </tr>\n",
       "    <tr>\n",
       "      <th>25</th>\n",
       "      <td>0.492298</td>\n",
       "    </tr>\n",
       "    <tr>\n",
       "      <th>26</th>\n",
       "      <td>0.492292</td>\n",
       "    </tr>\n",
       "    <tr>\n",
       "      <th>27</th>\n",
       "      <td>0.492291</td>\n",
       "    </tr>\n",
       "    <tr>\n",
       "      <th>28</th>\n",
       "      <td>0.490042</td>\n",
       "    </tr>\n",
       "    <tr>\n",
       "      <th>29</th>\n",
       "      <td>0.489964</td>\n",
       "    </tr>\n",
       "    <tr>\n",
       "      <th>...</th>\n",
       "      <td>...</td>\n",
       "    </tr>\n",
       "    <tr>\n",
       "      <th>1142</th>\n",
       "      <td>0.473169</td>\n",
       "    </tr>\n",
       "    <tr>\n",
       "      <th>1143</th>\n",
       "      <td>0.473168</td>\n",
       "    </tr>\n",
       "    <tr>\n",
       "      <th>1144</th>\n",
       "      <td>0.473166</td>\n",
       "    </tr>\n",
       "    <tr>\n",
       "      <th>1145</th>\n",
       "      <td>0.473186</td>\n",
       "    </tr>\n",
       "    <tr>\n",
       "      <th>1146</th>\n",
       "      <td>0.473171</td>\n",
       "    </tr>\n",
       "    <tr>\n",
       "      <th>1147</th>\n",
       "      <td>0.473175</td>\n",
       "    </tr>\n",
       "    <tr>\n",
       "      <th>1148</th>\n",
       "      <td>0.473183</td>\n",
       "    </tr>\n",
       "    <tr>\n",
       "      <th>1149</th>\n",
       "      <td>0.473190</td>\n",
       "    </tr>\n",
       "    <tr>\n",
       "      <th>1150</th>\n",
       "      <td>0.473191</td>\n",
       "    </tr>\n",
       "    <tr>\n",
       "      <th>1151</th>\n",
       "      <td>0.473184</td>\n",
       "    </tr>\n",
       "    <tr>\n",
       "      <th>1152</th>\n",
       "      <td>0.473169</td>\n",
       "    </tr>\n",
       "    <tr>\n",
       "      <th>1153</th>\n",
       "      <td>0.473192</td>\n",
       "    </tr>\n",
       "    <tr>\n",
       "      <th>1154</th>\n",
       "      <td>0.473211</td>\n",
       "    </tr>\n",
       "    <tr>\n",
       "      <th>1155</th>\n",
       "      <td>0.473278</td>\n",
       "    </tr>\n",
       "    <tr>\n",
       "      <th>1156</th>\n",
       "      <td>0.473276</td>\n",
       "    </tr>\n",
       "    <tr>\n",
       "      <th>1157</th>\n",
       "      <td>0.473267</td>\n",
       "    </tr>\n",
       "    <tr>\n",
       "      <th>1158</th>\n",
       "      <td>0.473261</td>\n",
       "    </tr>\n",
       "    <tr>\n",
       "      <th>1159</th>\n",
       "      <td>0.473262</td>\n",
       "    </tr>\n",
       "    <tr>\n",
       "      <th>1160</th>\n",
       "      <td>0.473278</td>\n",
       "    </tr>\n",
       "    <tr>\n",
       "      <th>1161</th>\n",
       "      <td>0.473279</td>\n",
       "    </tr>\n",
       "    <tr>\n",
       "      <th>1162</th>\n",
       "      <td>0.473267</td>\n",
       "    </tr>\n",
       "    <tr>\n",
       "      <th>1163</th>\n",
       "      <td>0.473265</td>\n",
       "    </tr>\n",
       "    <tr>\n",
       "      <th>1164</th>\n",
       "      <td>0.473264</td>\n",
       "    </tr>\n",
       "    <tr>\n",
       "      <th>1165</th>\n",
       "      <td>0.473265</td>\n",
       "    </tr>\n",
       "    <tr>\n",
       "      <th>1166</th>\n",
       "      <td>0.473265</td>\n",
       "    </tr>\n",
       "    <tr>\n",
       "      <th>1167</th>\n",
       "      <td>0.473263</td>\n",
       "    </tr>\n",
       "    <tr>\n",
       "      <th>1168</th>\n",
       "      <td>0.473268</td>\n",
       "    </tr>\n",
       "    <tr>\n",
       "      <th>1169</th>\n",
       "      <td>0.473296</td>\n",
       "    </tr>\n",
       "    <tr>\n",
       "      <th>1170</th>\n",
       "      <td>0.473286</td>\n",
       "    </tr>\n",
       "    <tr>\n",
       "      <th>1171</th>\n",
       "      <td>0.473277</td>\n",
       "    </tr>\n",
       "  </tbody>\n",
       "</table>\n",
       "<p>1172 rows × 1 columns</p>\n",
       "</div>"
      ],
      "text/plain": [
       "             0\n",
       "0     0.528935\n",
       "1     0.529975\n",
       "2     0.530451\n",
       "3     0.530449\n",
       "4     0.530124\n",
       "5     0.529517\n",
       "6     0.528955\n",
       "7     0.528607\n",
       "8     0.528630\n",
       "9     0.528360\n",
       "10    0.497234\n",
       "11    0.496467\n",
       "12    0.496647\n",
       "13    0.496562\n",
       "14    0.492817\n",
       "15    0.492667\n",
       "16    0.492511\n",
       "17    0.492555\n",
       "18    0.492257\n",
       "19    0.492249\n",
       "20    0.492243\n",
       "21    0.492189\n",
       "22    0.492202\n",
       "23    0.492377\n",
       "24    0.492222\n",
       "25    0.492298\n",
       "26    0.492292\n",
       "27    0.492291\n",
       "28    0.490042\n",
       "29    0.489964\n",
       "...        ...\n",
       "1142  0.473169\n",
       "1143  0.473168\n",
       "1144  0.473166\n",
       "1145  0.473186\n",
       "1146  0.473171\n",
       "1147  0.473175\n",
       "1148  0.473183\n",
       "1149  0.473190\n",
       "1150  0.473191\n",
       "1151  0.473184\n",
       "1152  0.473169\n",
       "1153  0.473192\n",
       "1154  0.473211\n",
       "1155  0.473278\n",
       "1156  0.473276\n",
       "1157  0.473267\n",
       "1158  0.473261\n",
       "1159  0.473262\n",
       "1160  0.473278\n",
       "1161  0.473279\n",
       "1162  0.473267\n",
       "1163  0.473265\n",
       "1164  0.473264\n",
       "1165  0.473265\n",
       "1166  0.473265\n",
       "1167  0.473263\n",
       "1168  0.473268\n",
       "1169  0.473296\n",
       "1170  0.473286\n",
       "1171  0.473277\n",
       "\n",
       "[1172 rows x 1 columns]"
      ]
     },
     "execution_count": 36,
     "metadata": {},
     "output_type": "execute_result"
    }
   ],
   "source": [
    "first_1172 = aas\n",
    "pd.DataFrame(aas)"
   ]
  },
  {
   "cell_type": "code",
   "execution_count": 42,
   "metadata": {
    "collapsed": false
   },
   "outputs": [
    {
     "data": {
      "text/plain": [
       "((53907, 7), (20160, 8))"
      ]
     },
     "execution_count": 42,
     "metadata": {},
     "output_type": "execute_result"
    }
   ],
   "source": [
    "coo_tra.shape, coo_val.shape"
   ]
  },
  {
   "cell_type": "code",
   "execution_count": 44,
   "metadata": {
    "collapsed": false,
    "scrolled": true
   },
   "outputs": [
    {
     "data": {
      "text/html": [
       "<div>\n",
       "<table border=\"1\" class=\"dataframe\">\n",
       "  <thead>\n",
       "    <tr style=\"text-align: right;\">\n",
       "      <th></th>\n",
       "      <th>relevance</th>\n",
       "      <th>orig_rel</th>\n",
       "      <th>woqt1</th>\n",
       "      <th>woqt2</th>\n",
       "      <th>woqt3</th>\n",
       "      <th>woqt4</th>\n",
       "      <th>woqt5</th>\n",
       "      <th>woqt6</th>\n",
       "    </tr>\n",
       "  </thead>\n",
       "  <tbody>\n",
       "    <tr>\n",
       "      <th>0</th>\n",
       "      <td>-1</td>\n",
       "      <td>3.00</td>\n",
       "      <td>0.054131</td>\n",
       "      <td>0.139973</td>\n",
       "      <td>0.017308</td>\n",
       "      <td>0.033680</td>\n",
       "      <td>0.084147</td>\n",
       "      <td>0.010375</td>\n",
       "    </tr>\n",
       "    <tr>\n",
       "      <th>1</th>\n",
       "      <td>-1</td>\n",
       "      <td>2.33</td>\n",
       "      <td>0.101627</td>\n",
       "      <td>0.259178</td>\n",
       "      <td>0.012521</td>\n",
       "      <td>0.081595</td>\n",
       "      <td>0.214880</td>\n",
       "      <td>0.014222</td>\n",
       "    </tr>\n",
       "    <tr>\n",
       "      <th>2</th>\n",
       "      <td>-1</td>\n",
       "      <td>3.00</td>\n",
       "      <td>0.206146</td>\n",
       "      <td>1.042023</td>\n",
       "      <td>0.161459</td>\n",
       "      <td>0.010576</td>\n",
       "      <td>0.050057</td>\n",
       "      <td>0.007427</td>\n",
       "    </tr>\n",
       "    <tr>\n",
       "      <th>3</th>\n",
       "      <td>-1</td>\n",
       "      <td>3.00</td>\n",
       "      <td>0.250737</td>\n",
       "      <td>0.654225</td>\n",
       "      <td>0.064001</td>\n",
       "      <td>0.181117</td>\n",
       "      <td>0.467228</td>\n",
       "      <td>0.040137</td>\n",
       "    </tr>\n",
       "    <tr>\n",
       "      <th>4</th>\n",
       "      <td>-1</td>\n",
       "      <td>1.00</td>\n",
       "      <td>0.020699</td>\n",
       "      <td>0.052253</td>\n",
       "      <td>0.003647</td>\n",
       "      <td>0.023631</td>\n",
       "      <td>0.042638</td>\n",
       "      <td>0.000358</td>\n",
       "    </tr>\n",
       "    <tr>\n",
       "      <th>5</th>\n",
       "      <td>-1</td>\n",
       "      <td>1.33</td>\n",
       "      <td>0.020683</td>\n",
       "      <td>0.054795</td>\n",
       "      <td>0.001254</td>\n",
       "      <td>0.036444</td>\n",
       "      <td>0.118722</td>\n",
       "      <td>0.000749</td>\n",
       "    </tr>\n",
       "    <tr>\n",
       "      <th>6</th>\n",
       "      <td>-1</td>\n",
       "      <td>2.00</td>\n",
       "      <td>0.025676</td>\n",
       "      <td>0.090455</td>\n",
       "      <td>0.001537</td>\n",
       "      <td>0.011935</td>\n",
       "      <td>0.035702</td>\n",
       "      <td>0.000550</td>\n",
       "    </tr>\n",
       "    <tr>\n",
       "      <th>7</th>\n",
       "      <td>-1</td>\n",
       "      <td>2.67</td>\n",
       "      <td>0.111331</td>\n",
       "      <td>0.442529</td>\n",
       "      <td>0.000667</td>\n",
       "      <td>0.010946</td>\n",
       "      <td>0.034239</td>\n",
       "      <td>0.000162</td>\n",
       "    </tr>\n",
       "    <tr>\n",
       "      <th>8</th>\n",
       "      <td>-1</td>\n",
       "      <td>3.00</td>\n",
       "      <td>0.077544</td>\n",
       "      <td>0.163294</td>\n",
       "      <td>0.000314</td>\n",
       "      <td>0.127381</td>\n",
       "      <td>0.194105</td>\n",
       "      <td>0.000086</td>\n",
       "    </tr>\n",
       "    <tr>\n",
       "      <th>9</th>\n",
       "      <td>-1</td>\n",
       "      <td>2.00</td>\n",
       "      <td>0.139412</td>\n",
       "      <td>0.254918</td>\n",
       "      <td>0.022218</td>\n",
       "      <td>0.136884</td>\n",
       "      <td>0.201258</td>\n",
       "      <td>0.031163</td>\n",
       "    </tr>\n",
       "    <tr>\n",
       "      <th>10</th>\n",
       "      <td>-1</td>\n",
       "      <td>2.00</td>\n",
       "      <td>0.050735</td>\n",
       "      <td>0.128277</td>\n",
       "      <td>0.009712</td>\n",
       "      <td>0.130805</td>\n",
       "      <td>0.286335</td>\n",
       "      <td>0.012631</td>\n",
       "    </tr>\n",
       "    <tr>\n",
       "      <th>11</th>\n",
       "      <td>-1</td>\n",
       "      <td>1.67</td>\n",
       "      <td>0.000000</td>\n",
       "      <td>0.000000</td>\n",
       "      <td>0.000000</td>\n",
       "      <td>0.000000</td>\n",
       "      <td>0.000000</td>\n",
       "      <td>0.000000</td>\n",
       "    </tr>\n",
       "    <tr>\n",
       "      <th>12</th>\n",
       "      <td>-1</td>\n",
       "      <td>3.00</td>\n",
       "      <td>0.126478</td>\n",
       "      <td>0.281083</td>\n",
       "      <td>0.029361</td>\n",
       "      <td>0.026785</td>\n",
       "      <td>0.081173</td>\n",
       "      <td>0.008899</td>\n",
       "    </tr>\n",
       "    <tr>\n",
       "      <th>13</th>\n",
       "      <td>-1</td>\n",
       "      <td>2.33</td>\n",
       "      <td>0.092583</td>\n",
       "      <td>0.234182</td>\n",
       "      <td>0.020679</td>\n",
       "      <td>0.018730</td>\n",
       "      <td>0.059222</td>\n",
       "      <td>0.005286</td>\n",
       "    </tr>\n",
       "    <tr>\n",
       "      <th>14</th>\n",
       "      <td>-1</td>\n",
       "      <td>2.33</td>\n",
       "      <td>0.056371</td>\n",
       "      <td>0.122859</td>\n",
       "      <td>0.011144</td>\n",
       "      <td>0.083570</td>\n",
       "      <td>0.193993</td>\n",
       "      <td>0.019412</td>\n",
       "    </tr>\n",
       "    <tr>\n",
       "      <th>15</th>\n",
       "      <td>-1</td>\n",
       "      <td>2.33</td>\n",
       "      <td>0.099907</td>\n",
       "      <td>0.231670</td>\n",
       "      <td>0.007035</td>\n",
       "      <td>0.041428</td>\n",
       "      <td>0.111142</td>\n",
       "      <td>0.002027</td>\n",
       "    </tr>\n",
       "    <tr>\n",
       "      <th>16</th>\n",
       "      <td>-1</td>\n",
       "      <td>3.00</td>\n",
       "      <td>0.209117</td>\n",
       "      <td>0.448860</td>\n",
       "      <td>0.026596</td>\n",
       "      <td>0.157294</td>\n",
       "      <td>0.370023</td>\n",
       "      <td>0.019954</td>\n",
       "    </tr>\n",
       "    <tr>\n",
       "      <th>17</th>\n",
       "      <td>-1</td>\n",
       "      <td>2.00</td>\n",
       "      <td>0.053959</td>\n",
       "      <td>0.131987</td>\n",
       "      <td>0.002726</td>\n",
       "      <td>0.015283</td>\n",
       "      <td>0.042700</td>\n",
       "      <td>0.000746</td>\n",
       "    </tr>\n",
       "    <tr>\n",
       "      <th>18</th>\n",
       "      <td>-1</td>\n",
       "      <td>3.00</td>\n",
       "      <td>0.079136</td>\n",
       "      <td>0.190607</td>\n",
       "      <td>0.005553</td>\n",
       "      <td>0.026476</td>\n",
       "      <td>0.080460</td>\n",
       "      <td>0.002592</td>\n",
       "    </tr>\n",
       "    <tr>\n",
       "      <th>19</th>\n",
       "      <td>-1</td>\n",
       "      <td>3.00</td>\n",
       "      <td>0.173430</td>\n",
       "      <td>0.477103</td>\n",
       "      <td>0.047862</td>\n",
       "      <td>0.064616</td>\n",
       "      <td>0.187887</td>\n",
       "      <td>0.015866</td>\n",
       "    </tr>\n",
       "    <tr>\n",
       "      <th>20</th>\n",
       "      <td>-1</td>\n",
       "      <td>3.00</td>\n",
       "      <td>0.130693</td>\n",
       "      <td>0.351932</td>\n",
       "      <td>0.014859</td>\n",
       "      <td>0.071801</td>\n",
       "      <td>0.202914</td>\n",
       "      <td>0.017297</td>\n",
       "    </tr>\n",
       "    <tr>\n",
       "      <th>21</th>\n",
       "      <td>-1</td>\n",
       "      <td>2.33</td>\n",
       "      <td>0.305761</td>\n",
       "      <td>0.713266</td>\n",
       "      <td>0.027990</td>\n",
       "      <td>0.204417</td>\n",
       "      <td>0.547562</td>\n",
       "      <td>0.034792</td>\n",
       "    </tr>\n",
       "    <tr>\n",
       "      <th>22</th>\n",
       "      <td>-1</td>\n",
       "      <td>2.33</td>\n",
       "      <td>0.216170</td>\n",
       "      <td>0.152488</td>\n",
       "      <td>0.009422</td>\n",
       "      <td>0.128910</td>\n",
       "      <td>0.168690</td>\n",
       "      <td>0.005178</td>\n",
       "    </tr>\n",
       "    <tr>\n",
       "      <th>23</th>\n",
       "      <td>-1</td>\n",
       "      <td>3.00</td>\n",
       "      <td>0.083043</td>\n",
       "      <td>0.196321</td>\n",
       "      <td>0.012413</td>\n",
       "      <td>0.056675</td>\n",
       "      <td>0.097849</td>\n",
       "      <td>0.000993</td>\n",
       "    </tr>\n",
       "    <tr>\n",
       "      <th>24</th>\n",
       "      <td>-1</td>\n",
       "      <td>2.33</td>\n",
       "      <td>0.070876</td>\n",
       "      <td>0.173499</td>\n",
       "      <td>0.007802</td>\n",
       "      <td>0.082497</td>\n",
       "      <td>0.262690</td>\n",
       "      <td>0.011299</td>\n",
       "    </tr>\n",
       "    <tr>\n",
       "      <th>25</th>\n",
       "      <td>-1</td>\n",
       "      <td>2.00</td>\n",
       "      <td>0.079208</td>\n",
       "      <td>0.229275</td>\n",
       "      <td>0.026392</td>\n",
       "      <td>0.030868</td>\n",
       "      <td>0.084352</td>\n",
       "      <td>0.007078</td>\n",
       "    </tr>\n",
       "    <tr>\n",
       "      <th>26</th>\n",
       "      <td>-1</td>\n",
       "      <td>2.33</td>\n",
       "      <td>0.145087</td>\n",
       "      <td>0.309287</td>\n",
       "      <td>0.011309</td>\n",
       "      <td>0.080020</td>\n",
       "      <td>0.194509</td>\n",
       "      <td>0.008479</td>\n",
       "    </tr>\n",
       "    <tr>\n",
       "      <th>27</th>\n",
       "      <td>-1</td>\n",
       "      <td>2.33</td>\n",
       "      <td>0.188563</td>\n",
       "      <td>0.459678</td>\n",
       "      <td>0.023228</td>\n",
       "      <td>0.240662</td>\n",
       "      <td>0.592239</td>\n",
       "      <td>0.031519</td>\n",
       "    </tr>\n",
       "    <tr>\n",
       "      <th>28</th>\n",
       "      <td>-1</td>\n",
       "      <td>3.00</td>\n",
       "      <td>0.123032</td>\n",
       "      <td>0.300011</td>\n",
       "      <td>0.021744</td>\n",
       "      <td>0.061006</td>\n",
       "      <td>0.137938</td>\n",
       "      <td>0.010028</td>\n",
       "    </tr>\n",
       "    <tr>\n",
       "      <th>29</th>\n",
       "      <td>-1</td>\n",
       "      <td>2.33</td>\n",
       "      <td>0.088115</td>\n",
       "      <td>0.202078</td>\n",
       "      <td>0.009496</td>\n",
       "      <td>0.060501</td>\n",
       "      <td>0.148940</td>\n",
       "      <td>0.006120</td>\n",
       "    </tr>\n",
       "    <tr>\n",
       "      <th>...</th>\n",
       "      <td>...</td>\n",
       "      <td>...</td>\n",
       "      <td>...</td>\n",
       "      <td>...</td>\n",
       "      <td>...</td>\n",
       "      <td>...</td>\n",
       "      <td>...</td>\n",
       "      <td>...</td>\n",
       "    </tr>\n",
       "    <tr>\n",
       "      <th>20130</th>\n",
       "      <td>-1</td>\n",
       "      <td>1.67</td>\n",
       "      <td>0.110040</td>\n",
       "      <td>0.240954</td>\n",
       "      <td>0.005141</td>\n",
       "      <td>0.026200</td>\n",
       "      <td>0.057938</td>\n",
       "      <td>0.001349</td>\n",
       "    </tr>\n",
       "    <tr>\n",
       "      <th>20131</th>\n",
       "      <td>-1</td>\n",
       "      <td>1.33</td>\n",
       "      <td>0.051007</td>\n",
       "      <td>0.148416</td>\n",
       "      <td>0.000559</td>\n",
       "      <td>0.047254</td>\n",
       "      <td>0.163841</td>\n",
       "      <td>0.000101</td>\n",
       "    </tr>\n",
       "    <tr>\n",
       "      <th>20132</th>\n",
       "      <td>-1</td>\n",
       "      <td>2.33</td>\n",
       "      <td>0.488745</td>\n",
       "      <td>1.201882</td>\n",
       "      <td>0.051536</td>\n",
       "      <td>0.105852</td>\n",
       "      <td>0.441975</td>\n",
       "      <td>0.014941</td>\n",
       "    </tr>\n",
       "    <tr>\n",
       "      <th>20133</th>\n",
       "      <td>-1</td>\n",
       "      <td>2.33</td>\n",
       "      <td>0.155049</td>\n",
       "      <td>0.442681</td>\n",
       "      <td>0.043981</td>\n",
       "      <td>0.022992</td>\n",
       "      <td>0.061851</td>\n",
       "      <td>0.007897</td>\n",
       "    </tr>\n",
       "    <tr>\n",
       "      <th>20134</th>\n",
       "      <td>-1</td>\n",
       "      <td>2.67</td>\n",
       "      <td>0.132905</td>\n",
       "      <td>0.352688</td>\n",
       "      <td>0.014307</td>\n",
       "      <td>0.080263</td>\n",
       "      <td>0.186719</td>\n",
       "      <td>0.010332</td>\n",
       "    </tr>\n",
       "    <tr>\n",
       "      <th>20135</th>\n",
       "      <td>-1</td>\n",
       "      <td>1.67</td>\n",
       "      <td>0.058681</td>\n",
       "      <td>0.216447</td>\n",
       "      <td>0.000303</td>\n",
       "      <td>0.038296</td>\n",
       "      <td>0.095088</td>\n",
       "      <td>0.000469</td>\n",
       "    </tr>\n",
       "    <tr>\n",
       "      <th>20136</th>\n",
       "      <td>-1</td>\n",
       "      <td>3.00</td>\n",
       "      <td>0.245292</td>\n",
       "      <td>0.590987</td>\n",
       "      <td>0.015284</td>\n",
       "      <td>0.052338</td>\n",
       "      <td>0.120417</td>\n",
       "      <td>0.004272</td>\n",
       "    </tr>\n",
       "    <tr>\n",
       "      <th>20137</th>\n",
       "      <td>-1</td>\n",
       "      <td>2.67</td>\n",
       "      <td>0.011236</td>\n",
       "      <td>0.014153</td>\n",
       "      <td>0.000000</td>\n",
       "      <td>0.000248</td>\n",
       "      <td>0.000128</td>\n",
       "      <td>0.000000</td>\n",
       "    </tr>\n",
       "    <tr>\n",
       "      <th>20138</th>\n",
       "      <td>-1</td>\n",
       "      <td>1.33</td>\n",
       "      <td>0.030407</td>\n",
       "      <td>0.074647</td>\n",
       "      <td>0.000543</td>\n",
       "      <td>0.106420</td>\n",
       "      <td>0.135215</td>\n",
       "      <td>0.000797</td>\n",
       "    </tr>\n",
       "    <tr>\n",
       "      <th>20139</th>\n",
       "      <td>-1</td>\n",
       "      <td>2.00</td>\n",
       "      <td>0.064419</td>\n",
       "      <td>0.130636</td>\n",
       "      <td>0.000315</td>\n",
       "      <td>0.036577</td>\n",
       "      <td>0.151257</td>\n",
       "      <td>0.005545</td>\n",
       "    </tr>\n",
       "    <tr>\n",
       "      <th>20140</th>\n",
       "      <td>-1</td>\n",
       "      <td>1.67</td>\n",
       "      <td>0.148832</td>\n",
       "      <td>0.345551</td>\n",
       "      <td>0.001687</td>\n",
       "      <td>0.038367</td>\n",
       "      <td>0.112203</td>\n",
       "      <td>0.000871</td>\n",
       "    </tr>\n",
       "    <tr>\n",
       "      <th>20141</th>\n",
       "      <td>-1</td>\n",
       "      <td>2.00</td>\n",
       "      <td>0.157459</td>\n",
       "      <td>0.395778</td>\n",
       "      <td>0.002695</td>\n",
       "      <td>0.131224</td>\n",
       "      <td>0.272813</td>\n",
       "      <td>0.013302</td>\n",
       "    </tr>\n",
       "    <tr>\n",
       "      <th>20142</th>\n",
       "      <td>-1</td>\n",
       "      <td>1.00</td>\n",
       "      <td>0.034007</td>\n",
       "      <td>0.077959</td>\n",
       "      <td>0.002668</td>\n",
       "      <td>0.060047</td>\n",
       "      <td>0.111897</td>\n",
       "      <td>0.002966</td>\n",
       "    </tr>\n",
       "    <tr>\n",
       "      <th>20143</th>\n",
       "      <td>-1</td>\n",
       "      <td>2.33</td>\n",
       "      <td>0.075771</td>\n",
       "      <td>0.069066</td>\n",
       "      <td>0.000000</td>\n",
       "      <td>0.036170</td>\n",
       "      <td>0.019274</td>\n",
       "      <td>0.000000</td>\n",
       "    </tr>\n",
       "    <tr>\n",
       "      <th>20144</th>\n",
       "      <td>-1</td>\n",
       "      <td>2.00</td>\n",
       "      <td>0.065413</td>\n",
       "      <td>0.149992</td>\n",
       "      <td>0.007144</td>\n",
       "      <td>0.019272</td>\n",
       "      <td>0.031787</td>\n",
       "      <td>0.001547</td>\n",
       "    </tr>\n",
       "    <tr>\n",
       "      <th>20145</th>\n",
       "      <td>-1</td>\n",
       "      <td>2.33</td>\n",
       "      <td>0.175590</td>\n",
       "      <td>0.456799</td>\n",
       "      <td>0.039595</td>\n",
       "      <td>0.127893</td>\n",
       "      <td>0.410289</td>\n",
       "      <td>0.022599</td>\n",
       "    </tr>\n",
       "    <tr>\n",
       "      <th>20146</th>\n",
       "      <td>-1</td>\n",
       "      <td>2.33</td>\n",
       "      <td>0.102926</td>\n",
       "      <td>0.278810</td>\n",
       "      <td>0.028386</td>\n",
       "      <td>0.062761</td>\n",
       "      <td>0.080450</td>\n",
       "      <td>0.006979</td>\n",
       "    </tr>\n",
       "    <tr>\n",
       "      <th>20147</th>\n",
       "      <td>-1</td>\n",
       "      <td>2.00</td>\n",
       "      <td>0.075524</td>\n",
       "      <td>0.167714</td>\n",
       "      <td>0.002818</td>\n",
       "      <td>0.036522</td>\n",
       "      <td>0.083783</td>\n",
       "      <td>0.002358</td>\n",
       "    </tr>\n",
       "    <tr>\n",
       "      <th>20148</th>\n",
       "      <td>-1</td>\n",
       "      <td>1.67</td>\n",
       "      <td>0.139283</td>\n",
       "      <td>0.308575</td>\n",
       "      <td>0.014035</td>\n",
       "      <td>0.168705</td>\n",
       "      <td>0.248308</td>\n",
       "      <td>0.012362</td>\n",
       "    </tr>\n",
       "    <tr>\n",
       "      <th>20149</th>\n",
       "      <td>-1</td>\n",
       "      <td>2.00</td>\n",
       "      <td>0.120364</td>\n",
       "      <td>0.274076</td>\n",
       "      <td>0.005328</td>\n",
       "      <td>0.038314</td>\n",
       "      <td>0.102073</td>\n",
       "      <td>0.002737</td>\n",
       "    </tr>\n",
       "    <tr>\n",
       "      <th>20150</th>\n",
       "      <td>-1</td>\n",
       "      <td>2.67</td>\n",
       "      <td>0.116009</td>\n",
       "      <td>0.261056</td>\n",
       "      <td>0.013247</td>\n",
       "      <td>0.062194</td>\n",
       "      <td>0.100574</td>\n",
       "      <td>0.006491</td>\n",
       "    </tr>\n",
       "    <tr>\n",
       "      <th>20151</th>\n",
       "      <td>-1</td>\n",
       "      <td>3.00</td>\n",
       "      <td>0.173065</td>\n",
       "      <td>0.570693</td>\n",
       "      <td>0.054542</td>\n",
       "      <td>0.135341</td>\n",
       "      <td>0.309710</td>\n",
       "      <td>0.026727</td>\n",
       "    </tr>\n",
       "    <tr>\n",
       "      <th>20152</th>\n",
       "      <td>-1</td>\n",
       "      <td>3.00</td>\n",
       "      <td>0.148753</td>\n",
       "      <td>0.394480</td>\n",
       "      <td>0.026218</td>\n",
       "      <td>0.080793</td>\n",
       "      <td>0.205730</td>\n",
       "      <td>0.016000</td>\n",
       "    </tr>\n",
       "    <tr>\n",
       "      <th>20153</th>\n",
       "      <td>-1</td>\n",
       "      <td>2.00</td>\n",
       "      <td>0.040484</td>\n",
       "      <td>0.101821</td>\n",
       "      <td>0.002432</td>\n",
       "      <td>0.018129</td>\n",
       "      <td>0.028074</td>\n",
       "      <td>0.000424</td>\n",
       "    </tr>\n",
       "    <tr>\n",
       "      <th>20154</th>\n",
       "      <td>-1</td>\n",
       "      <td>3.00</td>\n",
       "      <td>0.150688</td>\n",
       "      <td>0.383675</td>\n",
       "      <td>0.030545</td>\n",
       "      <td>0.043035</td>\n",
       "      <td>0.198375</td>\n",
       "      <td>0.025520</td>\n",
       "    </tr>\n",
       "    <tr>\n",
       "      <th>20155</th>\n",
       "      <td>-1</td>\n",
       "      <td>1.00</td>\n",
       "      <td>0.046560</td>\n",
       "      <td>0.106487</td>\n",
       "      <td>0.003611</td>\n",
       "      <td>0.071613</td>\n",
       "      <td>0.075506</td>\n",
       "      <td>0.002598</td>\n",
       "    </tr>\n",
       "    <tr>\n",
       "      <th>20156</th>\n",
       "      <td>-1</td>\n",
       "      <td>3.00</td>\n",
       "      <td>0.166826</td>\n",
       "      <td>0.492008</td>\n",
       "      <td>0.049854</td>\n",
       "      <td>0.105036</td>\n",
       "      <td>0.251115</td>\n",
       "      <td>0.014702</td>\n",
       "    </tr>\n",
       "    <tr>\n",
       "      <th>20157</th>\n",
       "      <td>-1</td>\n",
       "      <td>2.33</td>\n",
       "      <td>0.129689</td>\n",
       "      <td>0.362815</td>\n",
       "      <td>0.010105</td>\n",
       "      <td>0.081168</td>\n",
       "      <td>0.254164</td>\n",
       "      <td>0.005556</td>\n",
       "    </tr>\n",
       "    <tr>\n",
       "      <th>20158</th>\n",
       "      <td>-1</td>\n",
       "      <td>3.00</td>\n",
       "      <td>0.094401</td>\n",
       "      <td>0.222649</td>\n",
       "      <td>0.006539</td>\n",
       "      <td>0.027355</td>\n",
       "      <td>0.063868</td>\n",
       "      <td>0.001213</td>\n",
       "    </tr>\n",
       "    <tr>\n",
       "      <th>20159</th>\n",
       "      <td>-1</td>\n",
       "      <td>2.33</td>\n",
       "      <td>0.121276</td>\n",
       "      <td>0.328257</td>\n",
       "      <td>0.022178</td>\n",
       "      <td>0.120588</td>\n",
       "      <td>0.285620</td>\n",
       "      <td>0.021252</td>\n",
       "    </tr>\n",
       "  </tbody>\n",
       "</table>\n",
       "<p>20160 rows × 8 columns</p>\n",
       "</div>"
      ],
      "text/plain": [
       "       relevance  orig_rel     woqt1     woqt2     woqt3     woqt4     woqt5  \\\n",
       "0             -1      3.00  0.054131  0.139973  0.017308  0.033680  0.084147   \n",
       "1             -1      2.33  0.101627  0.259178  0.012521  0.081595  0.214880   \n",
       "2             -1      3.00  0.206146  1.042023  0.161459  0.010576  0.050057   \n",
       "3             -1      3.00  0.250737  0.654225  0.064001  0.181117  0.467228   \n",
       "4             -1      1.00  0.020699  0.052253  0.003647  0.023631  0.042638   \n",
       "5             -1      1.33  0.020683  0.054795  0.001254  0.036444  0.118722   \n",
       "6             -1      2.00  0.025676  0.090455  0.001537  0.011935  0.035702   \n",
       "7             -1      2.67  0.111331  0.442529  0.000667  0.010946  0.034239   \n",
       "8             -1      3.00  0.077544  0.163294  0.000314  0.127381  0.194105   \n",
       "9             -1      2.00  0.139412  0.254918  0.022218  0.136884  0.201258   \n",
       "10            -1      2.00  0.050735  0.128277  0.009712  0.130805  0.286335   \n",
       "11            -1      1.67  0.000000  0.000000  0.000000  0.000000  0.000000   \n",
       "12            -1      3.00  0.126478  0.281083  0.029361  0.026785  0.081173   \n",
       "13            -1      2.33  0.092583  0.234182  0.020679  0.018730  0.059222   \n",
       "14            -1      2.33  0.056371  0.122859  0.011144  0.083570  0.193993   \n",
       "15            -1      2.33  0.099907  0.231670  0.007035  0.041428  0.111142   \n",
       "16            -1      3.00  0.209117  0.448860  0.026596  0.157294  0.370023   \n",
       "17            -1      2.00  0.053959  0.131987  0.002726  0.015283  0.042700   \n",
       "18            -1      3.00  0.079136  0.190607  0.005553  0.026476  0.080460   \n",
       "19            -1      3.00  0.173430  0.477103  0.047862  0.064616  0.187887   \n",
       "20            -1      3.00  0.130693  0.351932  0.014859  0.071801  0.202914   \n",
       "21            -1      2.33  0.305761  0.713266  0.027990  0.204417  0.547562   \n",
       "22            -1      2.33  0.216170  0.152488  0.009422  0.128910  0.168690   \n",
       "23            -1      3.00  0.083043  0.196321  0.012413  0.056675  0.097849   \n",
       "24            -1      2.33  0.070876  0.173499  0.007802  0.082497  0.262690   \n",
       "25            -1      2.00  0.079208  0.229275  0.026392  0.030868  0.084352   \n",
       "26            -1      2.33  0.145087  0.309287  0.011309  0.080020  0.194509   \n",
       "27            -1      2.33  0.188563  0.459678  0.023228  0.240662  0.592239   \n",
       "28            -1      3.00  0.123032  0.300011  0.021744  0.061006  0.137938   \n",
       "29            -1      2.33  0.088115  0.202078  0.009496  0.060501  0.148940   \n",
       "...          ...       ...       ...       ...       ...       ...       ...   \n",
       "20130         -1      1.67  0.110040  0.240954  0.005141  0.026200  0.057938   \n",
       "20131         -1      1.33  0.051007  0.148416  0.000559  0.047254  0.163841   \n",
       "20132         -1      2.33  0.488745  1.201882  0.051536  0.105852  0.441975   \n",
       "20133         -1      2.33  0.155049  0.442681  0.043981  0.022992  0.061851   \n",
       "20134         -1      2.67  0.132905  0.352688  0.014307  0.080263  0.186719   \n",
       "20135         -1      1.67  0.058681  0.216447  0.000303  0.038296  0.095088   \n",
       "20136         -1      3.00  0.245292  0.590987  0.015284  0.052338  0.120417   \n",
       "20137         -1      2.67  0.011236  0.014153  0.000000  0.000248  0.000128   \n",
       "20138         -1      1.33  0.030407  0.074647  0.000543  0.106420  0.135215   \n",
       "20139         -1      2.00  0.064419  0.130636  0.000315  0.036577  0.151257   \n",
       "20140         -1      1.67  0.148832  0.345551  0.001687  0.038367  0.112203   \n",
       "20141         -1      2.00  0.157459  0.395778  0.002695  0.131224  0.272813   \n",
       "20142         -1      1.00  0.034007  0.077959  0.002668  0.060047  0.111897   \n",
       "20143         -1      2.33  0.075771  0.069066  0.000000  0.036170  0.019274   \n",
       "20144         -1      2.00  0.065413  0.149992  0.007144  0.019272  0.031787   \n",
       "20145         -1      2.33  0.175590  0.456799  0.039595  0.127893  0.410289   \n",
       "20146         -1      2.33  0.102926  0.278810  0.028386  0.062761  0.080450   \n",
       "20147         -1      2.00  0.075524  0.167714  0.002818  0.036522  0.083783   \n",
       "20148         -1      1.67  0.139283  0.308575  0.014035  0.168705  0.248308   \n",
       "20149         -1      2.00  0.120364  0.274076  0.005328  0.038314  0.102073   \n",
       "20150         -1      2.67  0.116009  0.261056  0.013247  0.062194  0.100574   \n",
       "20151         -1      3.00  0.173065  0.570693  0.054542  0.135341  0.309710   \n",
       "20152         -1      3.00  0.148753  0.394480  0.026218  0.080793  0.205730   \n",
       "20153         -1      2.00  0.040484  0.101821  0.002432  0.018129  0.028074   \n",
       "20154         -1      3.00  0.150688  0.383675  0.030545  0.043035  0.198375   \n",
       "20155         -1      1.00  0.046560  0.106487  0.003611  0.071613  0.075506   \n",
       "20156         -1      3.00  0.166826  0.492008  0.049854  0.105036  0.251115   \n",
       "20157         -1      2.33  0.129689  0.362815  0.010105  0.081168  0.254164   \n",
       "20158         -1      3.00  0.094401  0.222649  0.006539  0.027355  0.063868   \n",
       "20159         -1      2.33  0.121276  0.328257  0.022178  0.120588  0.285620   \n",
       "\n",
       "          woqt6  \n",
       "0      0.010375  \n",
       "1      0.014222  \n",
       "2      0.007427  \n",
       "3      0.040137  \n",
       "4      0.000358  \n",
       "5      0.000749  \n",
       "6      0.000550  \n",
       "7      0.000162  \n",
       "8      0.000086  \n",
       "9      0.031163  \n",
       "10     0.012631  \n",
       "11     0.000000  \n",
       "12     0.008899  \n",
       "13     0.005286  \n",
       "14     0.019412  \n",
       "15     0.002027  \n",
       "16     0.019954  \n",
       "17     0.000746  \n",
       "18     0.002592  \n",
       "19     0.015866  \n",
       "20     0.017297  \n",
       "21     0.034792  \n",
       "22     0.005178  \n",
       "23     0.000993  \n",
       "24     0.011299  \n",
       "25     0.007078  \n",
       "26     0.008479  \n",
       "27     0.031519  \n",
       "28     0.010028  \n",
       "29     0.006120  \n",
       "...         ...  \n",
       "20130  0.001349  \n",
       "20131  0.000101  \n",
       "20132  0.014941  \n",
       "20133  0.007897  \n",
       "20134  0.010332  \n",
       "20135  0.000469  \n",
       "20136  0.004272  \n",
       "20137  0.000000  \n",
       "20138  0.000797  \n",
       "20139  0.005545  \n",
       "20140  0.000871  \n",
       "20141  0.013302  \n",
       "20142  0.002966  \n",
       "20143  0.000000  \n",
       "20144  0.001547  \n",
       "20145  0.022599  \n",
       "20146  0.006979  \n",
       "20147  0.002358  \n",
       "20148  0.012362  \n",
       "20149  0.002737  \n",
       "20150  0.006491  \n",
       "20151  0.026727  \n",
       "20152  0.016000  \n",
       "20153  0.000424  \n",
       "20154  0.025520  \n",
       "20155  0.002598  \n",
       "20156  0.014702  \n",
       "20157  0.005556  \n",
       "20158  0.001213  \n",
       "20159  0.021252  \n",
       "\n",
       "[20160 rows x 8 columns]"
      ]
     },
     "execution_count": 44,
     "metadata": {},
     "output_type": "execute_result"
    }
   ],
   "source": [
    "coo_tra\n",
    "coo_val"
   ]
  },
  {
   "cell_type": "code",
   "execution_count": 22,
   "metadata": {
    "collapsed": false
   },
   "outputs": [
    {
     "data": {
      "text/plain": [
       "((74067, 191), (53907, 190), (20160, 1))"
      ]
     },
     "execution_count": 22,
     "metadata": {},
     "output_type": "execute_result"
    }
   ],
   "source": [
    "a.shape, X_train.shape, y_test.shape"
   ]
  },
  {
   "cell_type": "markdown",
   "metadata": {},
   "source": [
    "### Checked LR"
   ]
  },
  {
   "cell_type": "code",
   "execution_count": null,
   "metadata": {
    "collapsed": false
   },
   "outputs": [],
   "source": [
    "def next_num_round():\n",
    "    return np.random.randint(750, 950)\n",
    "\n",
    "num_round = 10000\n",
    "\n",
    "# TRAIN AS SELF\n",
    "param = {'max_depth':9, \n",
    "         'eta':0.1, # 'objective':'reg:linear',\n",
    "         'eval_metric':'rmse', #'maximize': False,\n",
    "         'colsample_bytree':0.3,\n",
    "         'subsample':0.9,\n",
    "         'nthread':8,\n",
    "         'silent': True\n",
    "        }\n",
    "# GOOD <<\n",
    "param = {'max_depth':7, \n",
    "         'eta':0.03, # 'objective':'reg:linear',\n",
    "         'eval_metric':'rmse', #'maximize': False,\n",
    "         'colsample_bytree':0.7, #7\n",
    "         'subsample':0.9,  #8\n",
    "         'min_child_weight': 4.0,\n",
    "         'nthread':32,\n",
    "         'silent': True\n",
    "        }\n",
    "param = {'max_depth':9, \n",
    "     'eta':0.01, # 'objective':'reg:linear',\n",
    "     'eval_metric':'rmse', #'maximize': False,\n",
    "     'colsample_bytree':0.7, #7\n",
    "     'subsample':0.9,  #8\n",
    "     'min_child_weight': 4.0,\n",
    "     'nthread':32,\n",
    "     'silent': True\n",
    "    }\n",
    "param = {'max_depth':6, \n",
    "     'eta':0.01, # 'objective':'reg:linear',\n",
    "     'eval_metric':'rmse', #'maximize': False,\n",
    "     'colsample_bytree':0.6, #7\n",
    "     'subsample':0.8,  #8\n",
    "     'min_child_weight': 5.0,\n",
    "     'nthread':32,\n",
    "     'silent': True,\n",
    "     'seed': 37\n",
    "    }\n",
    "\n",
    "param = {'max_depth':7, \n",
    "     'eta':0.01, # 'objective':'reg:linear',\n",
    "     'eval_metric':'rmse', #'maximize': False,\n",
    "     'colsample_bytree':0.6, #7\n",
    "     'subsample':0.8,  #8\n",
    "     'min_child_weight': 5.0,\n",
    "     'nthread':32,\n",
    "     'silent': True,\n",
    "     'seed': 39\n",
    "    }\n",
    "\n",
    "num_round = 200000\n",
    "bst = xgb.train( param, gX_train, num_round, [(gX_train,'train'),(gX_test,'test')], early_stopping_rounds=100, verbose_eval=10)\n",
    "#bst = xgb.train( param, gX_train, num_round, [(gX_train,'train'),(gX_test,'test')], verbose_eval=10)"
   ]
  },
  {
   "cell_type": "code",
   "execution_count": null,
   "metadata": {
    "collapsed": true
   },
   "outputs": [],
   "source": [
    "# 700x trees  -  cv: 0.4377 (seed 147)\n",
    "param = {'max_depth':9, \n",
    "         'eta':0.01, # 'objective':'reg:linear',\n",
    "         'eval_metric':'rmse', #'maximize': False,\n",
    "         'colsample_bytree':0.3, #0.8 #7  0.4449\n",
    "         'subsample':0.8, #0.9,  #8\n",
    "         'min_child_weight': 4.0,\n",
    "         'nthread':32,\n",
    "         'silent': True\n",
    "        }  \n",
    "num_round = 5000\n",
    "bst = xgb.train( param, gX_train, num_round, [(gX_train,'train'),(gX_test,'test')], early_stopping_rounds=30, verbose_eval=10)"
   ]
  },
  {
   "cell_type": "code",
   "execution_count": null,
   "metadata": {
    "collapsed": true
   },
   "outputs": [],
   "source": [
    "ggX_train = xgb.DMatrix(data=a_full, label=dtrain.get_label())\n",
    "ggX_test = xgb.DMatrix(data=b_full)\n",
    "\n",
    "idx_train = pd.read_pickle(loc % 'LABELS_TRAIN.df')\n",
    "idx_test = pd.read_pickle(loc % 'LABELS_TEST.df')\n",
    "\n",
    "num_round = 1550\n",
    "bst = xgb.train( param, ggX_train, num_round, [(gX_test,'test')], verbose_eval=50)\n",
    "\n",
    "y_pred = bst.predict(ggX_test)\n",
    "y_pred_bounded = np.minimum(np.maximum(y_pred, 1.0), 3.0)\n",
    "idx_test['relevance'] = y_pred_bounded\n",
    "idx_test.to_csv('submission_RenatPawel_combined_features_xgboost_0408_0137.csv')"
   ]
  },
  {
   "cell_type": "code",
   "execution_count": null,
   "metadata": {
    "collapsed": true
   },
   "outputs": [],
   "source": [
    "!gzip submission_xgboost_words_0405_1646.csv"
   ]
  },
  {
   "cell_type": "code",
   "execution_count": null,
   "metadata": {
    "collapsed": true
   },
   "outputs": [],
   "source": [
    "# 1500 trees \n",
    "param = {'max_depth':9, \n",
    "         'eta':0.01, # 'objective':'reg:linear',\n",
    "         'eval_metric':'rmse', #'maximize': False,\n",
    "         'colsample_bytree':0.8, #0.8 #7  0.4449\n",
    "         'subsample':0.9, #0.9,  #8\n",
    "         'min_child_weight': 4.0,\n",
    "         'nthread':32,\n",
    "         'silent': True\n",
    "        }  \n",
    "num_round = 5000\n",
    "bst = xgb.train( param, gX_train, num_round, [(gX_train,'train'),(gX_test,'test')], early_stopping_rounds=15, verbose_eval=10)\n",
    "\n",
    "with 0.30 and 1479\n",
    "cv:  0.4493"
   ]
  },
  {
   "cell_type": "code",
   "execution_count": null,
   "metadata": {
    "collapsed": false
   },
   "outputs": [],
   "source": [
    "loc = '%s'\n",
    "\n",
    "aaa = pd.read_pickle(loc % 'WOQTAL_TRAIN_ALL')\n",
    "bbb = pd.read_pickle(loc % 'WOQTAL_TEST_ALL')\n"
   ]
  },
  {
   "cell_type": "code",
   "execution_count": null,
   "metadata": {
    "collapsed": false
   },
   "outputs": [],
   "source": [
    "aaa.head()"
   ]
  },
  {
   "cell_type": "code",
   "execution_count": null,
   "metadata": {
    "collapsed": false
   },
   "outputs": [],
   "source": [
    "aaa[aaa['woqt1'] > 0.127]['relevance'].mean(), aaa[aaa['woqt1'] < 0.127]['relevance'].mean()"
   ]
  },
  {
   "cell_type": "code",
   "execution_count": null,
   "metadata": {
    "collapsed": false
   },
   "outputs": [],
   "source": [
    "aaa[aaa['woqt2'] > 0.329895]['relevance'].mean(), aaa[aaa['woqt2'] < 0.329895]['relevance'].mean()"
   ]
  },
  {
   "cell_type": "code",
   "execution_count": null,
   "metadata": {
    "collapsed": false
   },
   "outputs": [],
   "source": [
    "aaa['woqt2'].mean()"
   ]
  },
  {
   "cell_type": "code",
   "execution_count": null,
   "metadata": {
    "collapsed": false
   },
   "outputs": [],
   "source": [
    "bbb.head()"
   ]
  },
  {
   "cell_type": "code",
   "execution_count": null,
   "metadata": {
    "collapsed": true
   },
   "outputs": [],
   "source": [
    "aa = aaa.drop('relevance', axis=1)\n",
    "bb = bbb.drop('relevance', axis=1)"
   ]
  },
  {
   "cell_type": "code",
   "execution_count": null,
   "metadata": {
    "collapsed": false
   },
   "outputs": [],
   "source": [
    "aa.reset_index().to_csv('word_co_train.csv', header=True, index=False)"
   ]
  },
  {
   "cell_type": "code",
   "execution_count": null,
   "metadata": {
    "collapsed": false
   },
   "outputs": [],
   "source": [
    "#bb.reset_index().to_csv('word_co_test.csv', header=True, index=False)"
   ]
  },
  {
   "cell_type": "code",
   "execution_count": 49,
   "metadata": {
    "collapsed": true
   },
   "outputs": [],
   "source": [
    "#coo_tra = pd.read_csv(loc % 'word_co_train_local.csv.gz')\n",
    "#coo_val = pd.read_csv(loc % 'word_co_validate_local.csv.gz')\n",
    "coo_tra = pd.read_csv(loc % 'word_co_train_local.csv.gz', index_col='id').drop('relevance', axis=1)\n",
    "coo_val = pd.read_csv(loc % 'word_co_validate_local.csv.gz', index_col='id').drop('orig_rel', axis=1)\n"
   ]
  },
  {
   "cell_type": "code",
   "execution_count": 56,
   "metadata": {
    "collapsed": false
   },
   "outputs": [],
   "source": [
    "coo_tra = pd.read_csv(loc % 'word_co_train_local.csv.gz').drop('relevance', axis=1)\n",
    "coo_val = pd.read_csv(loc % 'word_co_validate_local.csv.gz').drop('orig_rel', axis=1)\n",
    "\n",
    "#coo_tra.to_csv('word_co_train_local.csv', index=False)\n",
    "#coo_val.to_csv('word_co_validate_local.csv', index=False)"
   ]
  },
  {
   "cell_type": "code",
   "execution_count": 86,
   "metadata": {
    "collapsed": false
   },
   "outputs": [],
   "source": [
    "validation_idx = pd.read_csv(loc % 'valid_set.csv.gz', index_col= 'id')\n",
    "train_idx = idx_train.loc[idx_train.index.difference(validation_idx.index)]\n"
   ]
  },
  {
   "cell_type": "code",
   "execution_count": 90,
   "metadata": {
    "collapsed": false
   },
   "outputs": [],
   "source": [
    "train_idx.to_csv('train_set.csv')"
   ]
  },
  {
   "cell_type": "code",
   "execution_count": 34,
   "metadata": {
    "collapsed": false
   },
   "outputs": [
    {
     "data": {
      "image/png": "[encoded data removed]",
      "text/plain": [
       "<matplotlib.figure.Figure at 0x13efb2d50>"
      ]
     },
     "metadata": {},
     "output_type": "display_data"
    }
   ],
   "source": [
    "%matplotlib inline\n",
    "\n",
    "from pylab import rcParams\n",
    "rcParams['figure.figsize'] = 15, 8\n",
    "\n",
    "plt.plot(aas)\n",
    "plt.show()"
   ]
  },
  {
   "cell_type": "code",
   "execution_count": null,
   "metadata": {
    "collapsed": true
   },
   "outputs": [],
   "source": [
    "#####"
   ]
  },
  {
   "cell_type": "code",
   "execution_count": null,
   "metadata": {
    "collapsed": true
   },
   "outputs": [],
   "source": [
    "TRAIN1 = pd.read_csv('./train_al_data1804.csv')\n",
    "TRAIN2 = pd.read_csv('./X_train54spel.csv')\n",
    "TRAIN3 =  TRAIN1.join(TRAIN2, rsuffix='_right')"
   ]
  },
  {
   "cell_type": "code",
   "execution_count": null,
   "metadata": {
    "collapsed": true
   },
   "outputs": [],
   "source": [
    "train_labels = pd.read_csv('~/data/kaggle/homedepot/train.csv', index_col='id').drop(['product_uid', 'product_title', 'search_term'], axis=1)\n",
    "\n",
    "train_idx = pd.read_csv('./train_set.csv', index_col='id').drop('relevance', axis=1).join(train_labels)\n",
    "validation_idx = pd.read_csv('./valid_set.csv', index_col='id').join(train_labels).drop('product_uid', axis=1)\n",
    "\n",
    "train = train_idx.join(TRAIN3)\n",
    "validate = validation_idx.join(TRAIN3)"
   ]
  },
  {
   "cell_type": "code",
   "execution_count": null,
   "metadata": {
    "collapsed": true
   },
   "outputs": [],
   "source": [
    "X_train_orig = train.drop('relevance', axis=1).values\n",
    "y_train_orig = train.relevance.values\n",
    "\n",
    "X_test_orig = validate.drop('relevance', axis=1).values\n",
    "y_test_orig = validate.relevance.values\n",
    "\n",
    "X_train_orig.shape, y_train_orig.shape,  X_test_orig.shape, y_test_orig.shape"
   ]
  },
  {
   "cell_type": "code",
   "execution_count": null,
   "metadata": {
    "collapsed": true
   },
   "outputs": [],
   "source": [
    "# WITHOUT NEW\n",
    "X_train = X_train_orig\n",
    "y_train = y_train_orig\n",
    "X_test = X_test_orig\n",
    "y_test = y_test_orig"
   ]
  },
  {
   "cell_type": "code",
   "execution_count": null,
   "metadata": {
    "collapsed": true
   },
   "outputs": [],
   "source": [
    "#  WITH NEW\n",
    "loc = '../../%s'\n",
    "idx_train = pd.read_pickle(loc % 'LABELS_TRAIN.df')\n",
    "idx_test = pd.read_pickle(loc % 'LABELS_TEST.df')\n",
    "\n",
    "validation_idx = pd.read_csv(loc % 'valid_set.csv.gz', index_col= 'id').index\n",
    "train_idx = idx_train.index.difference(validation_idx)\n",
    "\n",
    "train_idx.shape, validation_idx.shape"
   ]
  },
  {
   "cell_type": "code",
   "execution_count": null,
   "metadata": {
    "collapsed": true
   },
   "outputs": [],
   "source": [
    "coo_tra = pd.read_csv(loc % 'word_co_train_local.csv.gz', index_col='id')\n",
    "coo_val = pd.read_csv(loc % 'word_co_validate_local.csv.gz', index_col='id')\n",
    "\n",
    "X_train = np.hstack((X_train_orig, coo_tra.values))\n",
    "y_train = y_train_orig\n",
    "\n",
    "X_test = np.hstack((X_test_orig, coo_val.values))\n",
    "y_test = y_test_orig\n",
    "\n",
    "X_train.shape, y_train.shape,  X_test.shape, y_test.shape"
   ]
  },
  {
   "cell_type": "code",
   "execution_count": null,
   "metadata": {
    "collapsed": true
   },
   "outputs": [],
   "source": [
    "clf = linear_model.Ridge (alpha = 0.6)\n",
    "clf.fit(X_train, y_train)\n",
    "y_hat = clf.predict(X_test)\n",
    "y_hat = np.minimum(np.maximum(y_hat, 1.0), 3.0)\n",
    "fmean_squared_error(y_hat, y_test)\n"
   ]
  },
  {
   "cell_type": "code",
   "execution_count": null,
   "metadata": {
    "collapsed": true
   },
   "outputs": [],
   "source": [
    "param = {'max_depth': 7, \n",
    "         'eta':0.01, # 'objective':'reg:linear',\n",
    "         'eval_metric':'rmse', #'maximize': False,\n",
    "         'colsample_bytree': 0.7,\n",
    "         'subsample': 1.0,\n",
    "         'min_child_weight': 2.0,\n",
    "         'nthread':32,\n",
    "         'silent': True\n",
    "        }  \n",
    "\n",
    "dtrain = xgb.DMatrix(data=X_train, label=y_train)\n",
    "dtest = xgb.DMatrix(data=X_test, label=y_test)\n",
    "\n",
    "num_round = 5000\n",
    "bst = xgb.train(param, dtrain, num_round, [(dtrain, 'train'), (dtest,'test')], early_stopping_rounds=50, verbose_eval=20)\n",
    "\n",
    "#y_pred = bst.predict(ggX_test)\n",
    "#y_pred_bounded = np.minimum(np.maximum(y_pred, 1.0), 3.0)\n",
    "#idx_test['relevance'] = y_pred_bounded\n",
    "#idx_test.to_csv('submission_RenatPawel_combined_features_xgboost_0408_0137.csv')"
   ]
  },
  {
   "cell_type": "code",
   "execution_count": 98,
   "metadata": {
    "collapsed": false
   },
   "outputs": [
    {
     "data": {
      "text/plain": [
       "((53907,), (20160,))"
      ]
     },
     "execution_count": 98,
     "metadata": {},
     "output_type": "execute_result"
    }
   ],
   "source": [
    "idx_train = pd.read_pickle(loc % 'LABELS_TRAIN.df')\n",
    "idx_test = pd.read_pickle(loc % 'LABELS_TEST.df')\n",
    "\n",
    "validation_idx = pd.read_csv(loc % 'valid_set.csv.gz', index_col= 'id').index\n",
    "train_idx = idx_train.index.difference(validation_idx)\n",
    "\n",
    "df_a = pd.DataFrame(a, index=idx_train.index)\n",
    "\n",
    "train_idx.shape, validation_idx.shape"
   ]
  },
  {
   "cell_type": "code",
   "execution_count": 100,
   "metadata": {
    "collapsed": false
   },
   "outputs": [
    {
     "data": {
      "text/plain": [
       "(Int64Index([     3,      9,     17,     20,     21,     23,     27,     34,\n",
       "                 37,     38,\n",
       "             ...\n",
       "             197124, 197127, 197133, 197136, 197139, 197141, 197144, 197146,\n",
       "             197147, 197149],\n",
       "            dtype='int64', name=u'id', length=53907),\n",
       " Int64Index([     2,     16,     18,     35,     69,     88,    113,    117,\n",
       "                123,    136,\n",
       "             ...\n",
       "             221434, 221443, 221449, 221450, 221455, 221457, 221458, 221463,\n",
       "             221471, 221473],\n",
       "            dtype='int64', name=u'id', length=20160))"
      ]
     },
     "execution_count": 100,
     "metadata": {},
     "output_type": "execute_result"
    }
   ],
   "source": [
    "train_idx, validation_idx"
   ]
  },
  {
   "cell_type": "code",
   "execution_count": 103,
   "metadata": {
    "collapsed": false
   },
   "outputs": [
    {
     "data": {
      "text/plain": [
       "((53907, 1), (20160, 1))"
      ]
     },
     "execution_count": 103,
     "metadata": {},
     "output_type": "execute_result"
    }
   ],
   "source": [
    "idx_train.loc[train_idx].shape, idx_train.loc[validation_idx].shape"
   ]
  },
  {
   "cell_type": "code",
   "execution_count": 216,
   "metadata": {
    "collapsed": false
   },
   "outputs": [],
   "source": [
    "orig_train = pd.read_csv('/Users/rbekbolatov/data/kaggle/homedepot/train.csv', index_col='id')\n",
    "orig_test = pd.read_csv('/Users/rbekbolatov/data/kaggle/homedepot/test.csv', index_col='id')\n",
    "orig_train['matched'] = orig_train.apply(check_row, axis=1)\n",
    "orig_test['matched'] = orig_test.apply(check_row, axis=1)"
   ]
  },
  {
   "cell_type": "code",
   "execution_count": 223,
   "metadata": {
    "collapsed": false
   },
   "outputs": [
    {
     "data": {
      "text/plain": [
       "(1.00     2105\n",
       " 1.25        4\n",
       " 1.33     3006\n",
       " 1.50        5\n",
       " 1.67     6780\n",
       " 1.75        9\n",
       " 2.00    11730\n",
       " 2.25       11\n",
       " 2.33    16060\n",
       " 2.50       19\n",
       " 2.67    15202\n",
       " 2.75       11\n",
       " 3.00    19125\n",
       " Name: relevance, dtype: int64,\n",
       " <matplotlib.axes._subplots.AxesSubplot at 0x11f0b9dd0>)"
      ]
     },
     "execution_count": 223,
     "metadata": {},
     "output_type": "execute_result"
    },
    {
     "data": {
      "image/png": "[encoded data removed]",
      "text/plain": [
       "<matplotlib.figure.Figure at 0x1207bead0>"
      ]
     },
     "metadata": {},
     "output_type": "display_data"
    }
   ],
   "source": [
    "orig_train['relevance'].value_counts().sort_index(), orig_train['relevance'].value_counts().sort_index().plot()"
   ]
  },
  {
   "cell_type": "code",
   "execution_count": 206,
   "metadata": {
    "collapsed": false
   },
   "outputs": [],
   "source": [
    "forstack = pd.read_csv('/Users/rbekbolatov/Downloads/train_1804_10.csv')\n",
    "forstack_test = pd.read_csv('/Users/rbekbolatov/Downloads/test_1804_10.csv')\n",
    "fors = idx_train.reset_index().join(forstack).set_index('id')\n",
    "fors = fors.join(orig_train, rsuffix='_r')"
   ]
  },
  {
   "cell_type": "code",
   "execution_count": 207,
   "metadata": {
    "collapsed": false
   },
   "outputs": [
    {
     "data": {
      "text/html": [
       "<div>\n",
       "<table border=\"1\" class=\"dataframe\">\n",
       "  <thead>\n",
       "    <tr style=\"text-align: right;\">\n",
       "      <th></th>\n",
       "      <th>relevance</th>\n",
       "      <th>alldata1804</th>\n",
       "      <th>product_uid</th>\n",
       "      <th>product_title</th>\n",
       "      <th>search_term</th>\n",
       "      <th>relevancer_</th>\n",
       "      <th>matched</th>\n",
       "    </tr>\n",
       "    <tr>\n",
       "      <th>id</th>\n",
       "      <th></th>\n",
       "      <th></th>\n",
       "      <th></th>\n",
       "      <th></th>\n",
       "      <th></th>\n",
       "      <th></th>\n",
       "      <th></th>\n",
       "    </tr>\n",
       "  </thead>\n",
       "  <tbody>\n",
       "    <tr>\n",
       "      <th>2</th>\n",
       "      <td>3.00</td>\n",
       "      <td>2.460769</td>\n",
       "      <td>100001</td>\n",
       "      <td>Simpson Strong-Tie 12-Gauge Angle</td>\n",
       "      <td>angle bracket</td>\n",
       "      <td>3.00</td>\n",
       "      <td>1</td>\n",
       "    </tr>\n",
       "    <tr>\n",
       "      <th>3</th>\n",
       "      <td>2.50</td>\n",
       "      <td>2.209963</td>\n",
       "      <td>100001</td>\n",
       "      <td>Simpson Strong-Tie 12-Gauge Angle</td>\n",
       "      <td>l bracket</td>\n",
       "      <td>2.50</td>\n",
       "      <td>0</td>\n",
       "    </tr>\n",
       "    <tr>\n",
       "      <th>9</th>\n",
       "      <td>3.00</td>\n",
       "      <td>2.510892</td>\n",
       "      <td>100002</td>\n",
       "      <td>BEHR Premium Textured DeckOver 1-gal. #SC-141 ...</td>\n",
       "      <td>deck over</td>\n",
       "      <td>3.00</td>\n",
       "      <td>0</td>\n",
       "    </tr>\n",
       "    <tr>\n",
       "      <th>16</th>\n",
       "      <td>2.33</td>\n",
       "      <td>2.442002</td>\n",
       "      <td>100005</td>\n",
       "      <td>Delta Vero 1-Handle Shower Only Faucet Trim Ki...</td>\n",
       "      <td>rain shower head</td>\n",
       "      <td>2.33</td>\n",
       "      <td>1</td>\n",
       "    </tr>\n",
       "    <tr>\n",
       "      <th>17</th>\n",
       "      <td>2.67</td>\n",
       "      <td>2.768122</td>\n",
       "      <td>100005</td>\n",
       "      <td>Delta Vero 1-Handle Shower Only Faucet Trim Ki...</td>\n",
       "      <td>shower only faucet</td>\n",
       "      <td>2.67</td>\n",
       "      <td>3</td>\n",
       "    </tr>\n",
       "  </tbody>\n",
       "</table>\n",
       "</div>"
      ],
      "text/plain": [
       "    relevance  alldata1804  product_uid  \\\n",
       "id                                        \n",
       "2        3.00     2.460769       100001   \n",
       "3        2.50     2.209963       100001   \n",
       "9        3.00     2.510892       100002   \n",
       "16       2.33     2.442002       100005   \n",
       "17       2.67     2.768122       100005   \n",
       "\n",
       "                                        product_title         search_term  \\\n",
       "id                                                                          \n",
       "2                   Simpson Strong-Tie 12-Gauge Angle       angle bracket   \n",
       "3                   Simpson Strong-Tie 12-Gauge Angle           l bracket   \n",
       "9   BEHR Premium Textured DeckOver 1-gal. #SC-141 ...           deck over   \n",
       "16  Delta Vero 1-Handle Shower Only Faucet Trim Ki...    rain shower head   \n",
       "17  Delta Vero 1-Handle Shower Only Faucet Trim Ki...  shower only faucet   \n",
       "\n",
       "    relevancer_  matched  \n",
       "id                        \n",
       "2          3.00        1  \n",
       "3          2.50        0  \n",
       "9          3.00        0  \n",
       "16         2.33        1  \n",
       "17         2.67        3  "
      ]
     },
     "execution_count": 207,
     "metadata": {},
     "output_type": "execute_result"
    }
   ],
   "source": [
    "fors.head(5)"
   ]
  },
  {
   "cell_type": "code",
   "execution_count": 287,
   "metadata": {
    "collapsed": false
   },
   "outputs": [
    {
     "data": {
      "text/plain": [
       "(0.431896, -0.000283)"
      ]
     },
     "execution_count": 287,
     "metadata": {},
     "output_type": "execute_result"
    }
   ],
   "source": [
    "%precision 6\n",
    "def force(r):\n",
    "#     x0 = r['matched']\n",
    "    x = r['alldata1804']\n",
    "    if x > 1.6 and x < 2.2:\n",
    "        return x - 0.03\n",
    "    if x > 2.4 and x < 3:\n",
    "        return x + 0.014\n",
    "#     if x < 2 and x >= 1.66:\n",
    "#         return 1.66\n",
    "    return x\n",
    "\n",
    "def forcex(x):\n",
    "    if x > 1.6 and x < 2.2:\n",
    "        return x - 0.03\n",
    "    if x > 2.4 and x < 3:\n",
    "        return x + 0.014\n",
    "#     if x < 2 and x >= 1.66:\n",
    "#         return 1.66\n",
    "    return x\n",
    "fors['newr'] = fors.apply(force, axis=1)\n",
    "#fors.head(5)\n",
    "fmean_squared_error(fors['relevance'], fors['newr']), fmean_squared_error(fors['relevance'], fors['newr']) - 0.43217908068486649"
   ]
  },
  {
   "cell_type": "code",
   "execution_count": 142,
   "metadata": {
    "collapsed": false
   },
   "outputs": [
    {
     "data": {
      "text/plain": [
       "(        relevance  alldata1804\n",
       " id                            \n",
       " 179428        2.0     1.296573\n",
       " 207064        3.0     1.211936, 1.2119364738464398, 1.2266770958900501)"
      ]
     },
     "execution_count": 142,
     "metadata": {},
     "output_type": "execute_result"
    }
   ],
   "source": [
    "fors[fors['alldata1804'] < 1.3], fors['alldata1804'].min(), forstack_test['alldata1804'].min()"
   ]
  },
  {
   "cell_type": "code",
   "execution_count": 152,
   "metadata": {
    "collapsed": false
   },
   "outputs": [
    {
     "data": {
      "text/plain": [
       "0.432179"
      ]
     },
     "execution_count": 152,
     "metadata": {},
     "output_type": "execute_result"
    }
   ],
   "source": [
    "fmean_squared_error(fors['relevance'], fors['alldata1804'])"
   ]
  },
  {
   "cell_type": "code",
   "execution_count": 293,
   "metadata": {
    "collapsed": false
   },
   "outputs": [
    {
     "data": {
      "text/plain": [
       "count    166693.00\n",
       "mean          2.39\n",
       "std           0.29\n",
       "min           1.37\n",
       "25%           2.19\n",
       "50%           2.42\n",
       "75%           2.64\n",
       "max           2.95\n",
       "Name: relevance, dtype: float64"
      ]
     },
     "execution_count": 293,
     "metadata": {},
     "output_type": "execute_result"
    }
   ],
   "source": [
    "submission_test = pd.read_csv('/Users/rbekbolatov/Downloads/stack10_submit_10.csv')\n",
    "submission_test['relevance'].describe()"
   ]
  },
  {
   "cell_type": "code",
   "execution_count": 284,
   "metadata": {
    "collapsed": false
   },
   "outputs": [
    {
     "data": {
      "text/plain": [
       "count    74067.00\n",
       "mean         2.38\n",
       "std          0.53\n",
       "min          1.00\n",
       "25%          2.00\n",
       "50%          2.33\n",
       "75%          3.00\n",
       "max          3.00\n",
       "Name: relevance, dtype: float64"
      ]
     },
     "execution_count": 284,
     "metadata": {},
     "output_type": "execute_result"
    }
   ],
   "source": [
    "orig_train['relevance'].describe()"
   ]
  },
  {
   "cell_type": "code",
   "execution_count": 286,
   "metadata": {
    "collapsed": false
   },
   "outputs": [
    {
     "data": {
      "text/plain": [
       "count    166693.00\n",
       "mean          2.39\n",
       "std           0.29\n",
       "min           1.37\n",
       "25%           2.19\n",
       "50%           2.42\n",
       "75%           2.64\n",
       "max           2.95\n",
       "Name: relevance, dtype: float64"
      ]
     },
     "execution_count": 286,
     "metadata": {},
     "output_type": "execute_result"
    }
   ],
   "source": [
    "submission_test['relevance'].describe()"
   ]
  },
  {
   "cell_type": "code",
   "execution_count": 288,
   "metadata": {
    "collapsed": true
   },
   "outputs": [],
   "source": [
    "submission_test['relevance'] = submission_test['relevance'].apply(forcex)"
   ]
  },
  {
   "cell_type": "code",
   "execution_count": 289,
   "metadata": {
    "collapsed": false
   },
   "outputs": [
    {
     "data": {
      "text/plain": [
       "count    166693.00\n",
       "mean          2.39\n",
       "std           0.31\n",
       "min           1.37\n",
       "25%           2.16\n",
       "50%           2.43\n",
       "75%           2.65\n",
       "max           2.97\n",
       "Name: relevance, dtype: float64"
      ]
     },
     "execution_count": 289,
     "metadata": {},
     "output_type": "execute_result"
    }
   ],
   "source": [
    "submission_test['relevance'].describe()"
   ]
  },
  {
   "cell_type": "code",
   "execution_count": null,
   "metadata": {
    "collapsed": true
   },
   "outputs": [],
   "source": [
    "new_submission_test = submission_test"
   ]
  },
  {
   "cell_type": "code",
   "execution_count": 294,
   "metadata": {
    "collapsed": false
   },
   "outputs": [
    {
     "data": {
      "text/plain": [
       "count    1.67e+05\n",
       "mean     4.69e-04\n",
       "std      1.83e-02\n",
       "min     -1.40e-02\n",
       "25%     -1.40e-02\n",
       "50%     -1.40e-02\n",
       "75%      3.00e-02\n",
       "max      3.00e-02\n",
       "Name: relevance, dtype: float64"
      ]
     },
     "execution_count": 294,
     "metadata": {},
     "output_type": "execute_result"
    }
   ],
   "source": [
    "(submission_test['relevance'] - new_submission_test['relevance']).describe()"
   ]
  },
  {
   "cell_type": "code",
   "execution_count": 299,
   "metadata": {
    "collapsed": true
   },
   "outputs": [],
   "source": [
    "new_submission_test.to_csv('AdjustedValues_Apr22_1.csv', index=False)"
   ]
  },
  {
   "cell_type": "code",
   "execution_count": 297,
   "metadata": {
    "collapsed": false
   },
   "outputs": [
    {
     "data": {
      "text/plain": [
       "u'/Users/rbekbolatov/repos/gh/bekbolatov/kaggle/events/hd/notebooks'"
      ]
     },
     "execution_count": 297,
     "metadata": {},
     "output_type": "execute_result"
    }
   ],
   "source": [
    "pwd"
   ]
  },
  {
   "cell_type": "code",
   "execution_count": 173,
   "metadata": {
    "collapsed": false
   },
   "outputs": [
    {
     "data": {
      "text/plain": [
       "(3.00    19125\n",
       " 2.33    16060\n",
       " 2.67    15202\n",
       " 2.00    11730\n",
       " 1.67     6780\n",
       " 1.33     3006\n",
       " 1.00     2105\n",
       " 2.50       19\n",
       " 2.25       11\n",
       " 2.75       11\n",
       " 1.75        9\n",
       " 1.50        5\n",
       " 1.25        4\n",
       " Name: relevance, dtype: int64, count    74067.000000\n",
       " mean         2.381634\n",
       " std          0.533984\n",
       " min          1.000000\n",
       " 25%          2.000000\n",
       " 50%          2.330000\n",
       " 75%          3.000000\n",
       " max          3.000000\n",
       " Name: relevance, dtype: float64)"
      ]
     },
     "execution_count": 173,
     "metadata": {},
     "output_type": "execute_result"
    }
   ],
   "source": [
    "fors['relevance'].value_counts(), fors['relevance'].describe()"
   ]
  },
  {
   "cell_type": "code",
   "execution_count": 215,
   "metadata": {
    "collapsed": false
   },
   "outputs": [
    {
     "data": {
      "text/plain": [
       "0.010515"
      ]
     },
     "execution_count": 215,
     "metadata": {},
     "output_type": "execute_result"
    }
   ],
   "source": [
    "(2105.0 / 74067) * 0.37"
   ]
  },
  {
   "cell_type": "code",
   "execution_count": 196,
   "metadata": {
    "collapsed": true
   },
   "outputs": [],
   "source": [
    "def check_row(r):\n",
    "    qs = set(r['search_term'].lower().split()).intersection(set(r['product_title'].lower().split()))\n",
    "    return len(qs)"
   ]
  },
  {
   "cell_type": "code",
   "execution_count": 228,
   "metadata": {
    "collapsed": false
   },
   "outputs": [
    {
     "data": {
      "text/html": [
       "<div>\n",
       "<table border=\"1\" class=\"dataframe\">\n",
       "  <thead>\n",
       "    <tr style=\"text-align: right;\">\n",
       "      <th></th>\n",
       "      <th>product_uid</th>\n",
       "      <th>product_title</th>\n",
       "      <th>search_term</th>\n",
       "      <th>relevance</th>\n",
       "      <th>matched</th>\n",
       "      <th>alldata1804</th>\n",
       "    </tr>\n",
       "    <tr>\n",
       "      <th>id</th>\n",
       "      <th></th>\n",
       "      <th></th>\n",
       "      <th></th>\n",
       "      <th></th>\n",
       "      <th></th>\n",
       "      <th></th>\n",
       "    </tr>\n",
       "  </thead>\n",
       "  <tbody>\n",
       "    <tr>\n",
       "      <th>69</th>\n",
       "      <td>100017</td>\n",
       "      <td>MD Building Products 36 in. x 36 in. Cloverleaf Aluminum Sheet, Silver</td>\n",
       "      <td>door guards</td>\n",
       "      <td>1.0</td>\n",
       "      <td>0</td>\n",
       "      <td>1.81</td>\n",
       "    </tr>\n",
       "    <tr>\n",
       "      <th>178</th>\n",
       "      <td>100033</td>\n",
       "      <td>HDX 48 in. W x 72 in. H x 18 in. D Decorative Wire Chrome Finish Commercial Shelving Unit</td>\n",
       "      <td>kitchen  cabinet finishes</td>\n",
       "      <td>1.0</td>\n",
       "      <td>0</td>\n",
       "      <td>2.20</td>\n",
       "    </tr>\n",
       "    <tr>\n",
       "      <th>195</th>\n",
       "      <td>100034</td>\n",
       "      <td>Marshalltown Masonry Brush</td>\n",
       "      <td>mortar tools</td>\n",
       "      <td>1.0</td>\n",
       "      <td>0</td>\n",
       "      <td>2.05</td>\n",
       "    </tr>\n",
       "    <tr>\n",
       "      <th>696</th>\n",
       "      <td>100119</td>\n",
       "      <td>Purdy 2 in. A. P. All Paints Brush Set (3-Pack)</td>\n",
       "      <td>paint roller inserts</td>\n",
       "      <td>1.0</td>\n",
       "      <td>0</td>\n",
       "      <td>2.10</td>\n",
       "    </tr>\n",
       "    <tr>\n",
       "      <th>734</th>\n",
       "      <td>100128</td>\n",
       "      <td>Proslat 32 sq. ft. White Wall Panel Kit</td>\n",
       "      <td>garage chair organizer</td>\n",
       "      <td>1.0</td>\n",
       "      <td>0</td>\n",
       "      <td>1.93</td>\n",
       "    </tr>\n",
       "    <tr>\n",
       "      <th>742</th>\n",
       "      <td>100129</td>\n",
       "      <td>Sundstrom Safety Silicone Half Mask Respirator</td>\n",
       "      <td>face masks</td>\n",
       "      <td>1.0</td>\n",
       "      <td>0</td>\n",
       "      <td>2.47</td>\n",
       "    </tr>\n",
       "    <tr>\n",
       "      <th>764</th>\n",
       "      <td>100134</td>\n",
       "      <td>Frost King E/O 84 in. x 110 in. Patio Shrink Window Insulation Kit</td>\n",
       "      <td>plastic covers</td>\n",
       "      <td>1.0</td>\n",
       "      <td>0</td>\n",
       "      <td>1.74</td>\n",
       "    </tr>\n",
       "    <tr>\n",
       "      <th>867</th>\n",
       "      <td>100149</td>\n",
       "      <td>MARAZZI Montagna Gunstock 6 in. x 24 in. Glazed Porcelain Floor and Wall Tile (14.53 sq. ft. / case)</td>\n",
       "      <td>funnel 6 inch</td>\n",
       "      <td>1.0</td>\n",
       "      <td>1</td>\n",
       "      <td>1.75</td>\n",
       "    </tr>\n",
       "    <tr>\n",
       "      <th>912</th>\n",
       "      <td>100152</td>\n",
       "      <td>Cub Cadet 42 in. and 46 in. LTX and XT1 Bagger</td>\n",
       "      <td>foof leaf broom</td>\n",
       "      <td>1.0</td>\n",
       "      <td>0</td>\n",
       "      <td>1.75</td>\n",
       "    </tr>\n",
       "    <tr>\n",
       "      <th>918</th>\n",
       "      <td>100152</td>\n",
       "      <td>Cub Cadet 42 in. and 46 in. LTX and XT1 Bagger</td>\n",
       "      <td>lawn tractor</td>\n",
       "      <td>1.0</td>\n",
       "      <td>0</td>\n",
       "      <td>1.98</td>\n",
       "    </tr>\n",
       "    <tr>\n",
       "      <th>1001</th>\n",
       "      <td>100166</td>\n",
       "      <td>Quikrete 10 oz. Liquid Cement Color - Charcoal</td>\n",
       "      <td>colosso</td>\n",
       "      <td>1.0</td>\n",
       "      <td>0</td>\n",
       "      <td>1.65</td>\n",
       "    </tr>\n",
       "    <tr>\n",
       "      <th>1019</th>\n",
       "      <td>100170</td>\n",
       "      <td>Dyna-Glo Pro 125,000 BTU Forced Air LP Gas Portable Heater</td>\n",
       "      <td>kerosene heater</td>\n",
       "      <td>1.0</td>\n",
       "      <td>1</td>\n",
       "      <td>2.44</td>\n",
       "    </tr>\n",
       "    <tr>\n",
       "      <th>1316</th>\n",
       "      <td>100232</td>\n",
       "      <td>Hampton Bay Hawkins 44 in. Tarnished Bronze Ceiling Fan</td>\n",
       "      <td>celling light</td>\n",
       "      <td>1.0</td>\n",
       "      <td>0</td>\n",
       "      <td>2.21</td>\n",
       "    </tr>\n",
       "    <tr>\n",
       "      <th>1388</th>\n",
       "      <td>100248</td>\n",
       "      <td>Backer-On 1-1/4 in. Zinc-Plated Steel Flat-Head Square Cement Board Screws (200-Pack)</td>\n",
       "      <td>zinc plated flatbraces</td>\n",
       "      <td>1.0</td>\n",
       "      <td>0</td>\n",
       "      <td>2.09</td>\n",
       "    </tr>\n",
       "    <tr>\n",
       "      <th>1472</th>\n",
       "      <td>100263</td>\n",
       "      <td>BLACK+DECKER 10 in. 6.5 Amp Electric Corded Pole Chain Saw</td>\n",
       "      <td>pruners</td>\n",
       "      <td>1.0</td>\n",
       "      <td>0</td>\n",
       "      <td>2.12</td>\n",
       "    </tr>\n",
       "    <tr>\n",
       "      <th>1609</th>\n",
       "      <td>100282</td>\n",
       "      <td>RL Flo-Master 1 Gal. Economy Sprayer</td>\n",
       "      <td>ceiling scraper</td>\n",
       "      <td>1.0</td>\n",
       "      <td>0</td>\n",
       "      <td>1.98</td>\n",
       "    </tr>\n",
       "    <tr>\n",
       "      <th>1616</th>\n",
       "      <td>100282</td>\n",
       "      <td>RL Flo-Master 1 Gal. Economy Sprayer</td>\n",
       "      <td>water</td>\n",
       "      <td>1.0</td>\n",
       "      <td>0</td>\n",
       "      <td>1.67</td>\n",
       "    </tr>\n",
       "    <tr>\n",
       "      <th>1667</th>\n",
       "      <td>100292</td>\n",
       "      <td>Prime-Line Right-Hand Black Torsion Spring Cable Drum</td>\n",
       "      <td>garage door parts knobs</td>\n",
       "      <td>1.0</td>\n",
       "      <td>0</td>\n",
       "      <td>1.91</td>\n",
       "    </tr>\n",
       "    <tr>\n",
       "      <th>1941</th>\n",
       "      <td>100345</td>\n",
       "      <td>Wall Design 3/8 in. x 22 in. x 96 in. Rustic Faux Barn Wood Hampton Embossed Panel</td>\n",
       "      <td>tongue and groove</td>\n",
       "      <td>1.0</td>\n",
       "      <td>0</td>\n",
       "      <td>2.02</td>\n",
       "    </tr>\n",
       "    <tr>\n",
       "      <th>1966</th>\n",
       "      <td>100351</td>\n",
       "      <td>Heath Zenith Wired Lighted Push Button</td>\n",
       "      <td>outlet cover bell</td>\n",
       "      <td>1.0</td>\n",
       "      <td>0</td>\n",
       "      <td>2.16</td>\n",
       "    </tr>\n",
       "    <tr>\n",
       "      <th>2019</th>\n",
       "      <td>100359</td>\n",
       "      <td>Wilsonart 48 in. x 96 in. Laminate Sheet in Black Matte</td>\n",
       "      <td>contact cement</td>\n",
       "      <td>1.0</td>\n",
       "      <td>0</td>\n",
       "      <td>1.89</td>\n",
       "    </tr>\n",
       "    <tr>\n",
       "      <th>2024</th>\n",
       "      <td>100359</td>\n",
       "      <td>Wilsonart 48 in. x 96 in. Laminate Sheet in Black Matte</td>\n",
       "      <td>MDF 4x8</td>\n",
       "      <td>1.0</td>\n",
       "      <td>0</td>\n",
       "      <td>1.87</td>\n",
       "    </tr>\n",
       "    <tr>\n",
       "      <th>2029</th>\n",
       "      <td>100361</td>\n",
       "      <td>1 in. x 8 in. x 10 ft. Common Board</td>\n",
       "      <td>1x8 _8</td>\n",
       "      <td>1.0</td>\n",
       "      <td>0</td>\n",
       "      <td>2.33</td>\n",
       "    </tr>\n",
       "    <tr>\n",
       "      <th>2088</th>\n",
       "      <td>100374</td>\n",
       "      <td>Ryobi 25 cc 2-Cycle Full Crank Curved Shaft Gas String Trimmer</td>\n",
       "      <td>valvoline 2 cycle quart</td>\n",
       "      <td>1.0</td>\n",
       "      <td>0</td>\n",
       "      <td>1.63</td>\n",
       "    </tr>\n",
       "    <tr>\n",
       "      <th>2089</th>\n",
       "      <td>100374</td>\n",
       "      <td>Ryobi 25 cc 2-Cycle Full Crank Curved Shaft Gas String Trimmer</td>\n",
       "      <td>weed eater line</td>\n",
       "      <td>1.0</td>\n",
       "      <td>0</td>\n",
       "      <td>2.24</td>\n",
       "    </tr>\n",
       "    <tr>\n",
       "      <th>2201</th>\n",
       "      <td>100393</td>\n",
       "      <td>Roberts Extendable Floor Roller</td>\n",
       "      <td>10 tile saw</td>\n",
       "      <td>1.0</td>\n",
       "      <td>0</td>\n",
       "      <td>1.47</td>\n",
       "    </tr>\n",
       "    <tr>\n",
       "      <th>2204</th>\n",
       "      <td>100393</td>\n",
       "      <td>Roberts Extendable Floor Roller</td>\n",
       "      <td>laminate cutter</td>\n",
       "      <td>1.0</td>\n",
       "      <td>0</td>\n",
       "      <td>1.79</td>\n",
       "    </tr>\n",
       "    <tr>\n",
       "      <th>2210</th>\n",
       "      <td>100395</td>\n",
       "      <td>Custom Building Products WonderBoard Lite 5 ft. x 3 ft. x 1/4 in. Backer Board</td>\n",
       "      <td>1/4 inch mel</td>\n",
       "      <td>1.0</td>\n",
       "      <td>1</td>\n",
       "      <td>1.99</td>\n",
       "    </tr>\n",
       "    <tr>\n",
       "      <th>2281</th>\n",
       "      <td>100408</td>\n",
       "      <td>DEWALT Heavy Duty Work Stand</td>\n",
       "      <td>dewalt table saw</td>\n",
       "      <td>1.0</td>\n",
       "      <td>1</td>\n",
       "      <td>2.30</td>\n",
       "    </tr>\n",
       "    <tr>\n",
       "      <th>2359</th>\n",
       "      <td>100413</td>\n",
       "      <td>Grace 18 in. x 50 ft. Roll Roof Detail Membrane</td>\n",
       "      <td>ice and water barrier</td>\n",
       "      <td>1.0</td>\n",
       "      <td>0</td>\n",
       "      <td>1.70</td>\n",
       "    </tr>\n",
       "    <tr>\n",
       "      <th>2424</th>\n",
       "      <td>100425</td>\n",
       "      <td>11 ft. Pressure-Treated Pine Split Rail</td>\n",
       "      <td>post</td>\n",
       "      <td>1.0</td>\n",
       "      <td>0</td>\n",
       "      <td>1.94</td>\n",
       "    </tr>\n",
       "    <tr>\n",
       "      <th>2657</th>\n",
       "      <td>100466</td>\n",
       "      <td>Greenes Fence 2 in. Wood EZ Trim Garden Fence Rail</td>\n",
       "      <td>rounds</td>\n",
       "      <td>1.0</td>\n",
       "      <td>0</td>\n",
       "      <td>1.57</td>\n",
       "    </tr>\n",
       "    <tr>\n",
       "      <th>2816</th>\n",
       "      <td>100492</td>\n",
       "      <td>Lithonia Lighting 2 ft. White LED High Bay Light</td>\n",
       "      <td>big ass</td>\n",
       "      <td>1.0</td>\n",
       "      <td>0</td>\n",
       "      <td>1.83</td>\n",
       "    </tr>\n",
       "    <tr>\n",
       "      <th>2987</th>\n",
       "      <td>100526</td>\n",
       "      <td>1/16 in. x 4 ft. x 8 ft. Plastic Panel</td>\n",
       "      <td>bathrooms</td>\n",
       "      <td>1.0</td>\n",
       "      <td>0</td>\n",
       "      <td>1.78</td>\n",
       "    </tr>\n",
       "    <tr>\n",
       "      <th>3012</th>\n",
       "      <td>100526</td>\n",
       "      <td>1/16 in. x 4 ft. x 8 ft. Plastic Panel</td>\n",
       "      <td>white boards</td>\n",
       "      <td>1.0</td>\n",
       "      <td>0</td>\n",
       "      <td>1.92</td>\n",
       "    </tr>\n",
       "    <tr>\n",
       "      <th>3089</th>\n",
       "      <td>100539</td>\n",
       "      <td>Henry 0.90 Gal. 208R Rubber Wet Patch Roof Cement</td>\n",
       "      <td>repair have</td>\n",
       "      <td>1.0</td>\n",
       "      <td>0</td>\n",
       "      <td>1.90</td>\n",
       "    </tr>\n",
       "    <tr>\n",
       "      <th>3135</th>\n",
       "      <td>100550</td>\n",
       "      <td>DuraHeat Multi Fit Replacement Wick</td>\n",
       "      <td>kerosene heater</td>\n",
       "      <td>1.0</td>\n",
       "      <td>0</td>\n",
       "      <td>1.96</td>\n",
       "    </tr>\n",
       "    <tr>\n",
       "      <th>3147</th>\n",
       "      <td>100552</td>\n",
       "      <td>1/4 in. x 48 in. x 96 in. Kingston Brick Wall Panel</td>\n",
       "      <td>venner</td>\n",
       "      <td>1.0</td>\n",
       "      <td>0</td>\n",
       "      <td>1.82</td>\n",
       "    </tr>\n",
       "    <tr>\n",
       "      <th>3171</th>\n",
       "      <td>100557</td>\n",
       "      <td>Grace Ice &amp;amp; Water Shield 36 in. x 75 ft. (225 sq. ft.) Roll Roofing Underlayment in Black</td>\n",
       "      <td>barreir</td>\n",
       "      <td>1.0</td>\n",
       "      <td>0</td>\n",
       "      <td>1.63</td>\n",
       "    </tr>\n",
       "    <tr>\n",
       "      <th>3215</th>\n",
       "      <td>100565</td>\n",
       "      <td>DuraHeat 23,000 BTU Kerosene Portable Heater</td>\n",
       "      <td>keorsene heater wicks</td>\n",
       "      <td>1.0</td>\n",
       "      <td>1</td>\n",
       "      <td>2.36</td>\n",
       "    </tr>\n",
       "    <tr>\n",
       "      <th>3312</th>\n",
       "      <td>100582</td>\n",
       "      <td>Whirlpool 30 in. Radiant Electric Cooktop in Black with 4 Elements including an AccuSimmer Element</td>\n",
       "      <td>stove element</td>\n",
       "      <td>1.0</td>\n",
       "      <td>1</td>\n",
       "      <td>2.48</td>\n",
       "    </tr>\n",
       "    <tr>\n",
       "      <th>3521</th>\n",
       "      <td>100618</td>\n",
       "      <td>Gardner Bender 100-Piece Terminal Kit</td>\n",
       "      <td>heat shrink tubing</td>\n",
       "      <td>1.0</td>\n",
       "      <td>0</td>\n",
       "      <td>1.98</td>\n",
       "    </tr>\n",
       "    <tr>\n",
       "      <th>3552</th>\n",
       "      <td>100622</td>\n",
       "      <td>3M Super 77 16.75 fl. oz. Multi-Purpose Spray Adhesive</td>\n",
       "      <td>contact cement</td>\n",
       "      <td>1.0</td>\n",
       "      <td>0</td>\n",
       "      <td>1.90</td>\n",
       "    </tr>\n",
       "    <tr>\n",
       "      <th>3611</th>\n",
       "      <td>100629</td>\n",
       "      <td>Hardboard Tempered Panel (Common: 1/8 in. 4 ft. x 8 ft.,; Actual: 0.115 in. x 47.7 in. x 95.7 in.)</td>\n",
       "      <td>fiber bener board</td>\n",
       "      <td>1.0</td>\n",
       "      <td>0</td>\n",
       "      <td>2.11</td>\n",
       "    </tr>\n",
       "    <tr>\n",
       "      <th>3909</th>\n",
       "      <td>100682</td>\n",
       "      <td>19/32 in. x 24 in. x 4 ft. OSB Attic Decking Board</td>\n",
       "      <td>attic ladder</td>\n",
       "      <td>1.0</td>\n",
       "      <td>1</td>\n",
       "      <td>2.31</td>\n",
       "    </tr>\n",
       "    <tr>\n",
       "      <th>3980</th>\n",
       "      <td>100695</td>\n",
       "      <td>Grade Stakes-Pine (12-Pack) (Common: 1 in. x 2 in. x 1-1/2 ft.; Actual: .562 in. x 1.375 in. x 17.5 in.)</td>\n",
       "      <td>pine straw</td>\n",
       "      <td>1.0</td>\n",
       "      <td>0</td>\n",
       "      <td>2.15</td>\n",
       "    </tr>\n",
       "    <tr>\n",
       "      <th>4069</th>\n",
       "      <td>100708</td>\n",
       "      <td>Ryobi 155 mph 300 CFM 40-Volt Lithium-Ion Cordless Jet Fan Blower - Battery and Charger Not Included</td>\n",
       "      <td>battery powered lawn mowers</td>\n",
       "      <td>1.0</td>\n",
       "      <td>1</td>\n",
       "      <td>2.02</td>\n",
       "    </tr>\n",
       "    <tr>\n",
       "      <th>4300</th>\n",
       "      <td>100736</td>\n",
       "      <td>Loctite 10 fl.-oz. PL 500 VOC Landscape Block Adhesive</td>\n",
       "      <td>construction</td>\n",
       "      <td>1.0</td>\n",
       "      <td>0</td>\n",
       "      <td>1.87</td>\n",
       "    </tr>\n",
       "    <tr>\n",
       "      <th>4396</th>\n",
       "      <td>100752</td>\n",
       "      <td>DEWALT 20-Volt Max XR Lithium-Ion Brushless Drywall Screw Gun Kit</td>\n",
       "      <td>lithium batties</td>\n",
       "      <td>1.0</td>\n",
       "      <td>0</td>\n",
       "      <td>2.28</td>\n",
       "    </tr>\n",
       "    <tr>\n",
       "      <th>4439</th>\n",
       "      <td>100762</td>\n",
       "      <td>12 in. x 12 in. Chaucer Newport Vinyl Tile (45 sq. ft. / case)</td>\n",
       "      <td>linoliuml adhesive</td>\n",
       "      <td>1.0</td>\n",
       "      <td>0</td>\n",
       "      <td>2.09</td>\n",
       "    </tr>\n",
       "  </tbody>\n",
       "</table>\n",
       "</div>"
      ],
      "text/plain": [
       "      product_uid  \\\n",
       "id                  \n",
       "69         100017   \n",
       "178        100033   \n",
       "195        100034   \n",
       "696        100119   \n",
       "734        100128   \n",
       "742        100129   \n",
       "764        100134   \n",
       "867        100149   \n",
       "912        100152   \n",
       "918        100152   \n",
       "1001       100166   \n",
       "1019       100170   \n",
       "1316       100232   \n",
       "1388       100248   \n",
       "1472       100263   \n",
       "1609       100282   \n",
       "1616       100282   \n",
       "1667       100292   \n",
       "1941       100345   \n",
       "1966       100351   \n",
       "2019       100359   \n",
       "2024       100359   \n",
       "2029       100361   \n",
       "2088       100374   \n",
       "2089       100374   \n",
       "2201       100393   \n",
       "2204       100393   \n",
       "2210       100395   \n",
       "2281       100408   \n",
       "2359       100413   \n",
       "2424       100425   \n",
       "2657       100466   \n",
       "2816       100492   \n",
       "2987       100526   \n",
       "3012       100526   \n",
       "3089       100539   \n",
       "3135       100550   \n",
       "3147       100552   \n",
       "3171       100557   \n",
       "3215       100565   \n",
       "3312       100582   \n",
       "3521       100618   \n",
       "3552       100622   \n",
       "3611       100629   \n",
       "3909       100682   \n",
       "3980       100695   \n",
       "4069       100708   \n",
       "4300       100736   \n",
       "4396       100752   \n",
       "4439       100762   \n",
       "\n",
       "                                                                                                 product_title  \\\n",
       "id                                                                                                               \n",
       "69                                      MD Building Products 36 in. x 36 in. Cloverleaf Aluminum Sheet, Silver   \n",
       "178                  HDX 48 in. W x 72 in. H x 18 in. D Decorative Wire Chrome Finish Commercial Shelving Unit   \n",
       "195                                                                                 Marshalltown Masonry Brush   \n",
       "696                                                            Purdy 2 in. A. P. All Paints Brush Set (3-Pack)   \n",
       "734                                                                    Proslat 32 sq. ft. White Wall Panel Kit   \n",
       "742                                                             Sundstrom Safety Silicone Half Mask Respirator   \n",
       "764                                         Frost King E/O 84 in. x 110 in. Patio Shrink Window Insulation Kit   \n",
       "867       MARAZZI Montagna Gunstock 6 in. x 24 in. Glazed Porcelain Floor and Wall Tile (14.53 sq. ft. / case)   \n",
       "912                                                             Cub Cadet 42 in. and 46 in. LTX and XT1 Bagger   \n",
       "918                                                             Cub Cadet 42 in. and 46 in. LTX and XT1 Bagger   \n",
       "1001                                                            Quikrete 10 oz. Liquid Cement Color - Charcoal   \n",
       "1019                                                Dyna-Glo Pro 125,000 BTU Forced Air LP Gas Portable Heater   \n",
       "1316                                                   Hampton Bay Hawkins 44 in. Tarnished Bronze Ceiling Fan   \n",
       "1388                     Backer-On 1-1/4 in. Zinc-Plated Steel Flat-Head Square Cement Board Screws (200-Pack)   \n",
       "1472                                                BLACK+DECKER 10 in. 6.5 Amp Electric Corded Pole Chain Saw   \n",
       "1609                                                                      RL Flo-Master 1 Gal. Economy Sprayer   \n",
       "1616                                                                      RL Flo-Master 1 Gal. Economy Sprayer   \n",
       "1667                                                     Prime-Line Right-Hand Black Torsion Spring Cable Drum   \n",
       "1941                        Wall Design 3/8 in. x 22 in. x 96 in. Rustic Faux Barn Wood Hampton Embossed Panel   \n",
       "1966                                                                    Heath Zenith Wired Lighted Push Button   \n",
       "2019                                                   Wilsonart 48 in. x 96 in. Laminate Sheet in Black Matte   \n",
       "2024                                                   Wilsonart 48 in. x 96 in. Laminate Sheet in Black Matte   \n",
       "2029                                                                       1 in. x 8 in. x 10 ft. Common Board   \n",
       "2088                                            Ryobi 25 cc 2-Cycle Full Crank Curved Shaft Gas String Trimmer   \n",
       "2089                                            Ryobi 25 cc 2-Cycle Full Crank Curved Shaft Gas String Trimmer   \n",
       "2201                                                                           Roberts Extendable Floor Roller   \n",
       "2204                                                                           Roberts Extendable Floor Roller   \n",
       "2210                            Custom Building Products WonderBoard Lite 5 ft. x 3 ft. x 1/4 in. Backer Board   \n",
       "2281                                                                              DEWALT Heavy Duty Work Stand   \n",
       "2359                                                           Grace 18 in. x 50 ft. Roll Roof Detail Membrane   \n",
       "2424                                                                   11 ft. Pressure-Treated Pine Split Rail   \n",
       "2657                                                        Greenes Fence 2 in. Wood EZ Trim Garden Fence Rail   \n",
       "2816                                                          Lithonia Lighting 2 ft. White LED High Bay Light   \n",
       "2987                                                                    1/16 in. x 4 ft. x 8 ft. Plastic Panel   \n",
       "3012                                                                    1/16 in. x 4 ft. x 8 ft. Plastic Panel   \n",
       "3089                                                         Henry 0.90 Gal. 208R Rubber Wet Patch Roof Cement   \n",
       "3135                                                                       DuraHeat Multi Fit Replacement Wick   \n",
       "3147                                                       1/4 in. x 48 in. x 96 in. Kingston Brick Wall Panel   \n",
       "3171             Grace Ice &amp; Water Shield 36 in. x 75 ft. (225 sq. ft.) Roll Roofing Underlayment in Black   \n",
       "3215                                                              DuraHeat 23,000 BTU Kerosene Portable Heater   \n",
       "3312        Whirlpool 30 in. Radiant Electric Cooktop in Black with 4 Elements including an AccuSimmer Element   \n",
       "3521                                                                     Gardner Bender 100-Piece Terminal Kit   \n",
       "3552                                                    3M Super 77 16.75 fl. oz. Multi-Purpose Spray Adhesive   \n",
       "3611        Hardboard Tempered Panel (Common: 1/8 in. 4 ft. x 8 ft.,; Actual: 0.115 in. x 47.7 in. x 95.7 in.)   \n",
       "3909                                                        19/32 in. x 24 in. x 4 ft. OSB Attic Decking Board   \n",
       "3980  Grade Stakes-Pine (12-Pack) (Common: 1 in. x 2 in. x 1-1/2 ft.; Actual: .562 in. x 1.375 in. x 17.5 in.)   \n",
       "4069      Ryobi 155 mph 300 CFM 40-Volt Lithium-Ion Cordless Jet Fan Blower - Battery and Charger Not Included   \n",
       "4300                                                    Loctite 10 fl.-oz. PL 500 VOC Landscape Block Adhesive   \n",
       "4396                                         DEWALT 20-Volt Max XR Lithium-Ion Brushless Drywall Screw Gun Kit   \n",
       "4439                                            12 in. x 12 in. Chaucer Newport Vinyl Tile (45 sq. ft. / case)   \n",
       "\n",
       "                      search_term  relevance  matched  alldata1804  \n",
       "id                                                                  \n",
       "69                    door guards        1.0        0         1.81  \n",
       "178     kitchen  cabinet finishes        1.0        0         2.20  \n",
       "195                  mortar tools        1.0        0         2.05  \n",
       "696          paint roller inserts        1.0        0         2.10  \n",
       "734        garage chair organizer        1.0        0         1.93  \n",
       "742                    face masks        1.0        0         2.47  \n",
       "764                plastic covers        1.0        0         1.74  \n",
       "867                 funnel 6 inch        1.0        1         1.75  \n",
       "912               foof leaf broom        1.0        0         1.75  \n",
       "918                  lawn tractor        1.0        0         1.98  \n",
       "1001                      colosso        1.0        0         1.65  \n",
       "1019              kerosene heater        1.0        1         2.44  \n",
       "1316                celling light        1.0        0         2.21  \n",
       "1388       zinc plated flatbraces        1.0        0         2.09  \n",
       "1472                      pruners        1.0        0         2.12  \n",
       "1609              ceiling scraper        1.0        0         1.98  \n",
       "1616                        water        1.0        0         1.67  \n",
       "1667      garage door parts knobs        1.0        0         1.91  \n",
       "1941            tongue and groove        1.0        0         2.02  \n",
       "1966            outlet cover bell        1.0        0         2.16  \n",
       "2019               contact cement        1.0        0         1.89  \n",
       "2024                      MDF 4x8        1.0        0         1.87  \n",
       "2029                       1x8 _8        1.0        0         2.33  \n",
       "2088      valvoline 2 cycle quart        1.0        0         1.63  \n",
       "2089              weed eater line        1.0        0         2.24  \n",
       "2201                  10 tile saw        1.0        0         1.47  \n",
       "2204              laminate cutter        1.0        0         1.79  \n",
       "2210                 1/4 inch mel        1.0        1         1.99  \n",
       "2281             dewalt table saw        1.0        1         2.30  \n",
       "2359        ice and water barrier        1.0        0         1.70  \n",
       "2424                         post        1.0        0         1.94  \n",
       "2657                       rounds        1.0        0         1.57  \n",
       "2816                      big ass        1.0        0         1.83  \n",
       "2987                    bathrooms        1.0        0         1.78  \n",
       "3012                 white boards        1.0        0         1.92  \n",
       "3089                  repair have        1.0        0         1.90  \n",
       "3135              kerosene heater        1.0        0         1.96  \n",
       "3147                       venner        1.0        0         1.82  \n",
       "3171                      barreir        1.0        0         1.63  \n",
       "3215        keorsene heater wicks        1.0        1         2.36  \n",
       "3312                stove element        1.0        1         2.48  \n",
       "3521           heat shrink tubing        1.0        0         1.98  \n",
       "3552               contact cement        1.0        0         1.90  \n",
       "3611            fiber bener board        1.0        0         2.11  \n",
       "3909                 attic ladder        1.0        1         2.31  \n",
       "3980                   pine straw        1.0        0         2.15  \n",
       "4069  battery powered lawn mowers        1.0        1         2.02  \n",
       "4300                 construction        1.0        0         1.87  \n",
       "4396              lithium batties        1.0        0         2.28  \n",
       "4439           linoliuml adhesive        1.0        0         2.09  "
      ]
     },
     "execution_count": 228,
     "metadata": {},
     "output_type": "execute_result"
    }
   ],
   "source": [
    "%matplotlib inline\n",
    "pd.set_option(\"display.max_rows\", 300)\n",
    "pd.set_option(\"max_colwidth\", 600)\n",
    "pd.set_option(\"precision\", 2)\n",
    "\n",
    "only_1 = orig_train[orig_train.relevance <= 1.2]\n",
    "other_1 = orig_train[orig_train.relevance > 1.4]\n",
    "only_1.join(fors['alldata1804']).head(50)"
   ]
  },
  {
   "cell_type": "code",
   "execution_count": 193,
   "metadata": {
    "collapsed": false
   },
   "outputs": [
    {
     "data": {
      "text/plain": [
       "17    0\n",
       "21    0\n",
       "24    1\n",
       "49    0\n",
       "56    0\n",
       "dtype: int64"
      ]
     },
     "execution_count": 193,
     "metadata": {},
     "output_type": "execute_result"
    }
   ],
   "source": [
    "orig_train['matched'] = orig_train.apply(check_row, axis=1)\n",
    "qqq = only_1.apply(check_row, axis=1)\n",
    "qqq.head(5)"
   ]
  },
  {
   "cell_type": "code",
   "execution_count": 194,
   "metadata": {
    "collapsed": false
   },
   "outputs": [
    {
     "data": {
      "text/plain": [
       "count    5115.000000\n",
       "mean        1.008798\n",
       "std         0.920225\n",
       "min         0.000000\n",
       "25%         0.000000\n",
       "50%         1.000000\n",
       "75%         2.000000\n",
       "max         6.000000\n",
       "dtype: float64"
      ]
     },
     "execution_count": 194,
     "metadata": {},
     "output_type": "execute_result"
    }
   ],
   "source": [
    "qqq.describe()"
   ]
  },
  {
   "cell_type": "code",
   "execution_count": 195,
   "metadata": {
    "collapsed": false
   },
   "outputs": [
    {
     "data": {
      "text/plain": [
       "count    68952.000000\n",
       "mean         1.592673\n",
       "std          1.104678\n",
       "min          0.000000\n",
       "25%          1.000000\n",
       "50%          2.000000\n",
       "75%          2.000000\n",
       "max         10.000000\n",
       "dtype: float64"
      ]
     },
     "execution_count": 195,
     "metadata": {},
     "output_type": "execute_result"
    }
   ],
   "source": [
    "other_1.apply(check_row, axis=1).describe()"
   ]
  },
  {
   "cell_type": "code",
   "execution_count": 201,
   "metadata": {
    "collapsed": false,
    "scrolled": true
   },
   "outputs": [
    {
     "data": {
      "text/html": [
       "<div>\n",
       "<table border=\"1\" class=\"dataframe\">\n",
       "  <thead>\n",
       "    <tr style=\"text-align: right;\">\n",
       "      <th></th>\n",
       "      <th>id</th>\n",
       "      <th>product_uid</th>\n",
       "      <th>product_title</th>\n",
       "      <th>search_term</th>\n",
       "      <th>relevance</th>\n",
       "    </tr>\n",
       "  </thead>\n",
       "  <tbody>\n",
       "    <tr>\n",
       "      <th>0</th>\n",
       "      <td>2</td>\n",
       "      <td>100001</td>\n",
       "      <td>Simpson Strong-Tie 12-Gauge Angle</td>\n",
       "      <td>angle bracket</td>\n",
       "      <td>3.00</td>\n",
       "    </tr>\n",
       "    <tr>\n",
       "      <th>1</th>\n",
       "      <td>3</td>\n",
       "      <td>100001</td>\n",
       "      <td>Simpson Strong-Tie 12-Gauge Angle</td>\n",
       "      <td>l bracket</td>\n",
       "      <td>2.50</td>\n",
       "    </tr>\n",
       "    <tr>\n",
       "      <th>2</th>\n",
       "      <td>9</td>\n",
       "      <td>100002</td>\n",
       "      <td>BEHR Premium Textured DeckOver 1-gal. #SC-141 ...</td>\n",
       "      <td>deck over</td>\n",
       "      <td>3.00</td>\n",
       "    </tr>\n",
       "    <tr>\n",
       "      <th>3</th>\n",
       "      <td>16</td>\n",
       "      <td>100005</td>\n",
       "      <td>Delta Vero 1-Handle Shower Only Faucet Trim Ki...</td>\n",
       "      <td>rain shower head</td>\n",
       "      <td>2.33</td>\n",
       "    </tr>\n",
       "    <tr>\n",
       "      <th>4</th>\n",
       "      <td>17</td>\n",
       "      <td>100005</td>\n",
       "      <td>Delta Vero 1-Handle Shower Only Faucet Trim Ki...</td>\n",
       "      <td>shower only faucet</td>\n",
       "      <td>2.67</td>\n",
       "    </tr>\n",
       "  </tbody>\n",
       "</table>\n",
       "</div>"
      ],
      "text/plain": [
       "   id  product_uid                                      product_title  \\\n",
       "0   2       100001                  Simpson Strong-Tie 12-Gauge Angle   \n",
       "1   3       100001                  Simpson Strong-Tie 12-Gauge Angle   \n",
       "2   9       100002  BEHR Premium Textured DeckOver 1-gal. #SC-141 ...   \n",
       "3  16       100005  Delta Vero 1-Handle Shower Only Faucet Trim Ki...   \n",
       "4  17       100005  Delta Vero 1-Handle Shower Only Faucet Trim Ki...   \n",
       "\n",
       "          search_term  relevance  \n",
       "0       angle bracket       3.00  \n",
       "1           l bracket       2.50  \n",
       "2           deck over       3.00  \n",
       "3    rain shower head       2.33  \n",
       "4  shower only faucet       2.67  "
      ]
     },
     "execution_count": 201,
     "metadata": {},
     "output_type": "execute_result"
    }
   ],
   "source": [
    "orig_train"
   ]
  },
  {
   "cell_type": "code",
   "execution_count": 230,
   "metadata": {
    "collapsed": false
   },
   "outputs": [
    {
     "data": {
      "text/plain": [
       "<matplotlib.axes._subplots.AxesSubplot at 0x113877050>"
      ]
     },
     "execution_count": 230,
     "metadata": {},
     "output_type": "execute_result"
    },
    {
     "data": {
      "image/png": "[encoded data removed]",
      "text/plain": [
       "<matplotlib.figure.Figure at 0x1138775d0>"
      ]
     },
     "metadata": {},
     "output_type": "display_data"
    }
   ],
   "source": [
    "fors['alldata1804'].hist()"
   ]
  },
  {
   "cell_type": "code",
   "execution_count": 231,
   "metadata": {
    "collapsed": false
   },
   "outputs": [
    {
     "data": {
      "text/plain": [
       "<matplotlib.axes._subplots.AxesSubplot at 0x142a3dcd0>"
      ]
     },
     "execution_count": 231,
     "metadata": {},
     "output_type": "execute_result"
    },
    {
     "data": {
      "image/png": "[encoded data removed]",
      "text/plain": [
       "<matplotlib.figure.Figure at 0x113852990>"
      ]
     },
     "metadata": {},
     "output_type": "display_data"
    }
   ],
   "source": [
    "orig_train['relevance'].hist()"
   ]
  },
  {
   "cell_type": "code",
   "execution_count": 233,
   "metadata": {
    "collapsed": false
   },
   "outputs": [],
   "source": [
    "aaa = orig_train.join(fors['alldata1804'])\n",
    "aaa['diff'] = aaa['alldata1804'] - aaa['relevance']"
   ]
  },
  {
   "cell_type": "code",
   "execution_count": 279,
   "metadata": {
    "collapsed": false
   },
   "outputs": [
    {
     "data": {
      "text/plain": [
       "-0.014036"
      ]
     },
     "execution_count": 279,
     "metadata": {},
     "output_type": "execute_result"
    }
   ],
   "source": [
    "import math\n",
    "aaa[(aaa['alldata1804'] > 2.4) & (aaa['alldata1804'] < 3.0)]['diff'].mean()"
   ]
  },
  {
   "cell_type": "code",
   "execution_count": null,
   "metadata": {
    "collapsed": true
   },
   "outputs": [],
   "source": []
  }
 ],
 "metadata": {
  "kernelspec": {
   "display_name": "Python 2",
   "language": "python",
   "name": "python2"
  },
  "language_info": {
   "codemirror_mode": {
    "name": "ipython",
    "version": 2
   },
   "file_extension": ".py",
   "mimetype": "text/x-python",
   "name": "python",
   "nbconvert_exporter": "python",
   "pygments_lexer": "ipython2",
   "version": "2.7.10"
  }
 },
 "nbformat": 4,
 "nbformat_minor": 0
}
