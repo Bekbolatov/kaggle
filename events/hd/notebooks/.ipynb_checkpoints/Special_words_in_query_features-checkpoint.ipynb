{
 "cells": [
  {
   "cell_type": "code",
   "execution_count": 1,
   "metadata": {
    "collapsed": true
   },
   "outputs": [],
   "source": [
    "import numpy as np\n",
    "import pandas as pd\n",
    "\n",
    "\n",
    "import matplotlib.pyplot as plt\n",
    "import time\n",
    "import xgboost as xgb\n",
    "from sklearn import linear_model\n",
    "from sklearn.cross_validation import train_test_split\n",
    "from sklearn.ensemble import RandomForestRegressor\n",
    "#from sklearn import pipeline, model_selection\n",
    "from sklearn import pipeline, grid_search\n",
    "#from sklearn.feature_extraction import DictVectorizer\n",
    "from sklearn.base import BaseEstimator, TransformerMixin\n",
    "from sklearn.pipeline import FeatureUnion\n",
    "from sklearn.decomposition import TruncatedSVD\n",
    "#from sklearn.feature_extraction.text import CountVectorizer, TfidfTransformer\n",
    "from sklearn.feature_extraction.text import TfidfVectorizer\n",
    "from sklearn.metrics import mean_squared_error, make_scorer\n",
    "\n",
    "import re\n",
    "\n",
    "import random\n",
    "random.seed(2017)\n",
    "\n",
    "pd.set_option(\"display.max_colwidth\", 1000)\n",
    "\n",
    "%matplotlib inline\n",
    "\n",
    "import matplotlib"
   ]
  },
  {
   "cell_type": "code",
   "execution_count": 2,
   "metadata": {
    "collapsed": true
   },
   "outputs": [],
   "source": [
    "queries = pd.read_pickle('FEATURES_WITH_TEXT_1')\n",
    "\n",
    "idx_train = pd.read_pickle('data/LABELS_TRAIN.df')\n",
    "idx_test = pd.read_pickle('data/LABELS_TEST.df')\n",
    "\n",
    "data = idx_train.join(queries)"
   ]
  },
  {
   "cell_type": "code",
   "execution_count": 7,
   "metadata": {
    "collapsed": true
   },
   "outputs": [],
   "source": [
    "aaa = data.loc[data.reset_index()['id'].sample(frac=0.7, random_state=149)]\n",
    "bbb = data.loc[~data.index.isin(aaa.index)]"
   ]
  },
  {
   "cell_type": "code",
   "execution_count": 12,
   "metadata": {
    "collapsed": true
   },
   "outputs": [],
   "source": [
    "from collections import defaultdict\n",
    "import math\n",
    "\n",
    "def cc(n_,c_,s_):\n",
    "    def ax(r):\n",
    "        for w in r['query'].split():\n",
    "            n_[w] += 1\n",
    "            c_[w] += r['relevance']\n",
    "            s_[w] += r['relevance']*r['relevance']\n",
    "    return ax\n",
    "\n",
    "n1 = defaultdict(lambda : 0)\n",
    "c1 = defaultdict(lambda : 0)\n",
    "s1 = defaultdict(lambda : 0)\n",
    "\n",
    "_ = aaa.apply(cc(n1, c1, s1), axis=1)\n",
    "\n",
    "n2 = defaultdict(lambda : 0)\n",
    "c2 = defaultdict(lambda : 0)\n",
    "s2 = defaultdict(lambda : 0)\n",
    "\n",
    "_ = bbb.apply(cc(n2, c2, s2), axis=1)\n",
    "\n",
    "\n",
    "cn1 = {}\n",
    "cnd1 = {}\n",
    "for w in c1:\n",
    "    cn1[w] = c1[w]*1.0/n1[w]\n",
    "    cnd1[w] = math.sqrt( max(0,(s1[w]*1.0/n1[w]) - (cn1[w]*cn1[w])))\n",
    "    \n",
    "words1 = sorted([ (cn1[te], cnd1[te], nu, te) for nu, te in sorted([ (v, k) for k,v in n1.items() if v > 20], reverse=True)])    \n",
    "\n",
    "cn2 = {}\n",
    "cnd2 = {}\n",
    "for w in c2:\n",
    "    cn2[w] = c2[w]*1.0/n2[w]\n",
    "    cnd2[w] = math.sqrt( max(0,(s2[w]*1.0/n2[w]) - (cn2[w]*cn2[w])))\n",
    "    \n",
    "words2 = sorted([ (cn2[te], cnd2[te], nu, te) for nu, te in sorted([ (v, k) for k,v in n2.items() if v > 20], reverse=True)])    \n",
    "\n",
    "list_words = [w[3] for w in words1 if ((w[2] < 2.30 and cn.get(w[3], 3) < 2.35) or (w[2] > 2.70 and cn2.get(w[3], 0) > 2.65))]"
   ]
  },
  {
   "cell_type": "code",
   "execution_count": 16,
   "metadata": {
    "collapsed": false
   },
   "outputs": [
    {
     "data": {
      "text/plain": [
       "array([2, 6])"
      ]
     },
     "execution_count": 16,
     "metadata": {},
     "output_type": "execute_result"
    }
   ],
   "source": [
    "sum([np.array([1,3]), np.array([1,3])])"
   ]
  },
  {
   "cell_type": "code",
   "execution_count": 52,
   "metadata": {
    "collapsed": false
   },
   "outputs": [],
   "source": [
    "def word_feats(r):\n",
    "    qs = r['query'].split()\n",
    "    if len(qs) < 1:\n",
    "        qs = ['__NOSUCHWORD']\n",
    "    ss = pd.Series(sum([np.array([1.0 if w == q else 0.0 for w in list_words]) for q in qs]))\n",
    "    return ss"
   ]
  },
  {
   "cell_type": "code",
   "execution_count": 53,
   "metadata": {
    "collapsed": false
   },
   "outputs": [],
   "source": [
    "special_word_matches = queries.apply(word_feats, axis=1)"
   ]
  },
  {
   "cell_type": "code",
   "execution_count": 54,
   "metadata": {
    "collapsed": false
   },
   "outputs": [],
   "source": [
    "special_word_matches.columns = ['word_%s' % w for w in list_words]"
   ]
  },
  {
   "cell_type": "code",
   "execution_count": 51,
   "metadata": {
    "collapsed": true
   },
   "outputs": [
    {
     "data": {
      "text/plain": [
       "query                                                                                                                                                                                                                                                                                                                                                                                                                                                                                                                                                                                                                                                                                                                                                                                                                                                                                                                                                                                                                                                              \n",
       "product_uid                                                                                                                                                                                                                                                                                                                                                                                                                                                                                                                                                                                                                                                                                                                                                                                                                                                                                                                                                                                                                                                  101692\n",
       "product_title                                                                                                                                                                                                                                                                                                                                                                                                                                                                                                                                                                                                                                                                                                                                                                                                                                                                                                                                                                                 hampton bay devereaux ii 52 unitsinches oil rubbed bronze ceiling fan\n",
       "product_description         hampton bay devereaux ii oil rubbed bronze ceiling fan five reversible rosewood black blades transitional craftsman design integrate integrated light kit comes light amber glass engaged complete overall look powerful 172 unitsmillims xby 17 unitsmillims motor produce over 5000 cfms reversible winter months also included handheld remote independent light speed control uses 3 40 unitswatts candelabra bulbs included california residents nbsp proposition 65 unitsinches formation reversible blades let change look easily oil rubbed bronze finish integrate integrated dome light kit amber glass handheld remote control light speed operation battery included powerful 172 unitsmillims xby 14 unitsmillims motor superior air movement 5000 cfmdownrod included standard mounting system indoor use large rooms decorative canopy ring coupling cover used conceal exposed hardware bulbs included energy efficient sure what size fan need check out our buying guide helpful tips need help installing fan che...\n",
       "brand                                                                                                                                                                                                                                                                                                                                                                                                                                                                                                                                                                                                                                                                                                                                                                                                                                                                                                                                                                                                                                                   hampton bay\n",
       "attrs                       certifications listings 1 ul listed features light kit compatible reversible blades reversible motor light type integrated dual fan heads  blade color family black brown timer  downrod length 4p5 assembled width 52 unitsinches housing color family bronze assembled height 17p6 unitsinches bullet 09 decorative canopy ring coupling cover used conceal exposed hardware bullet 08 indoor use large rooms glass style frosted bullet 03 integrate integrated dome light kit amber glass bullet 02 oil rubbed bronze finish bullet 05 powerful 172 unitsmillims xby 14 unitsmillims motor superior air movement 5000 cfm bullet 04 handheld remote control light speed operation battery included bullet 07 standard mounting system color family bronze pull chain  fan blade length 21 reverse airflow yes fan blade width 5p84 bullet 06 downrod included assembled depth 52 unitsinches energy star certified  number blades 5 commercial residential residential bulb type included incandescent mfg brand name hampton ba...\n",
       "brand_none                                                                                                                                                                                                                                                                                                                                                                                                                                                                                                                                                                                                                                                                                                                                                                                                                                                                                                                                                                                                                                                        0\n",
       "brand_unbranded                                                                                                                                                                                                                                                                                                                                                                                                                                                                                                                                                                                                                                                                                                                                                                                                                                                                                                                                                                                                                                                   0\n",
       "brand_hampton                                                                                                                                                                                                                                                                                                                                                                                                                                                                                                                                                                                                                                                                                                                                                                                                                                                                                                                                                                                                                                                     1\n",
       "brand_kohler                                                                                                                                                                                                                                                                                                                                                                                                                                                                                                                                                                                                                                                                                                                                                                                                                                                                                                                                                                                                                                                      0\n",
       "brand_ever                                                                                                                                                                                                                                                                                                                                                                                                                                                                                                                                                                                                                                                                                                                                                                                                                                                                                                                                                                                                                                                        0\n",
       "brand_home                                                                                                                                                                                                                                                                                                                                                                                                                                                                                                                                                                                                                                                                                                                                                                                                                                                                                                                                                                                                                                                        0\n",
       "brand_ge                                                                                                                                                                                                                                                                                                                                                                                                                                                                                                                                                                                                                                                                                                                                                                                                                                                                                                                                                                                                                                                          0\n",
       "attributes_len                                                                                                                                                                                                                                                                                                                                                                                                                                                                                                                                                                                                                                                                                                                                                                                                                                                                                                                                                                                                                                                   45\n",
       "product_title_len                                                                                                                                                                                                                                                                                                                                                                                                                                                                                                                                                                                                                                                                                                                                                                                                                                                                                                                                                                                                                                                11\n",
       "product_description_len                                                                                                                                                                                                                                                                                                                                                                                                                                                                                                                                                                                                                                                                                                                                                                                                                                                                                                                                                                                                                                         199\n",
       "brand_len                                                                                                                                                                                                                                                                                                                                                                                                                                                                                                                                                                                                                                                                                                                                                                                                                                                                                                                                                                                                                                                         2\n",
       "product_title_let                                                                                                                                                                                                                                                                                                                                                                                                                                                                                                                                                                                                                                                                                                                                                                                                                                                                                                                                                                                                                                                69\n",
       "product_description_let                                                                                                                                                                                                                                                                                                                                                                                                                                                                                                                                                                                                                                                                                                                                                                                                                                                                                                                                                                                                                                        1370\n",
       "brand_let                                                                                                                                                                                                                                                                                                                                                                                                                                                                                                                                                                                                                                                                                                                                                                                                                                                                                                                                                                                                                                                        11\n",
       "product_title_wlen                                                                                                                                                                                                                                                                                                                                                                                                                                                                                                                                                                                                                                                                                                                                                                                                                                                                                                                                                                                                                                               10\n",
       "product_description_wlen                                                                                                                                                                                                                                                                                                                                                                                                                                                                                                                                                                                                                                                                                                                                                                                                                                                                                                                                                                                                                                        187\n",
       "brand_wlen                                                                                                                                                                                                                                                                                                                                                                                                                                                                                                                                                                                                                                                                                                                                                                                                                                                                                                                                                                                                                                                        2\n",
       "c0                                                                                                                                                                                                                                                                                                                                                                                                                                                                                                                                                                                                                                                                                                                                                                                                                                                                                                                                                                                                                                                                0\n",
       "c1                                                                                                                                                                                                                                                                                                                                                                                                                                                                                                                                                                                                                                                                                                                                                                                                                                                                                                                                                                                                                                                                1\n",
       "c2                                                                                                                                                                                                                                                                                                                                                                                                                                                                                                                                                                                                                                                                                                                                                                                                                                                                                                                                                                                                                                                                1\n",
       "c3                                                                                                                                                                                                                                                                                                                                                                                                                                                                                                                                                                                                                                                                                                                                                                                                                                                                                                                                                                                                                                                                1\n",
       "c4                                                                                                                                                                                                                                                                                                                                                                                                                                                                                                                                                                                                                                                                                                                                                                                                                                                                                                                                                                                                                                                                0\n",
       "c5                                                                                                                                                                                                                                                                                                                                                                                                                                                                                                                                                                                                                                                                                                                                                                                                                                                                                                                                                                                                                                                                0\n",
       "c6                                                                                                                                                                                                                                                                                                                                                                                                                                                                                                                                                                                                                                                                                                                                                                                                                                                                                                                                                                                                                                                                0\n",
       "                                                                                                                                                                                                                                                                                                                                                                                                                                                                                                                                             ...                                                                                                                                                                                                                                                                                                                                                                                                                                                                                                                   \n",
       "c14                                                                                                                                                                                                                                                                                                                                                                                                                                                                                                                                                                                                                                                                                                                                                                                                                                                                                                                                                                                                                                                               0\n",
       "c15                                                                                                                                                                                                                                                                                                                                                                                                                                                                                                                                                                                                                                                                                                                                                                                                                                                                                                                                                                                                                                                               0\n",
       "c16                                                                                                                                                                                                                                                                                                                                                                                                                                                                                                                                                                                                                                                                                                                                                                                                                                                                                                                                                                                                                                                               0\n",
       "c17                                                                                                                                                                                                                                                                                                                                                                                                                                                                                                                                                                                                                                                                                                                                                                                                                                                                                                                                                                                                                                                               0\n",
       "c18                                                                                                                                                                                                                                                                                                                                                                                                                                                                                                                                                                                                                                                                                                                                                                                                                                                                                                                                                                                                                                                               0\n",
       "c19                                                                                                                                                                                                                                                                                                                                                                                                                                                                                                                                                                                                                                                                                                                                                                                                                                                                                                                                                                                                                                                               0\n",
       "c20                                                                                                                                                                                                                                                                                                                                                                                                                                                                                                                                                                                                                                                                                                                                                                                                                                                                                                                                                                                                                                                               0\n",
       "c21                                                                                                                                                                                                                                                                                                                                                                                                                                                                                                                                                                                                                                                                                                                                                                                                                                                                                                                                                                                                                                                              15\n",
       "c22                                                                                                                                                                                                                                                                                                                                                                                                                                                                                                                                                                                                                                                                                                                                                                                                                                                                                                                                                                                                                                                               0\n",
       "c23                                                                                                                                                                                                                                                                                                                                                                                                                                                                                                                                                                                                                                                                                                                                                                                                                                                                                                                                                                                                                                                               0\n",
       "c24                                                                                                                                                                                                                                                                                                                                                                                                                                                                                                                                                                                                                                                                                                                                                                                                                                                                                                                                                                                                                                                               0\n",
       "c25                                                                                                                                                                                                                                                                                                                                                                                                                                                                                                                                                                                                                                                                                                                                                                                                                                                                                                                                                                                                                                                               0\n",
       "c26                                                                                                                                                                                                                                                                                                                                                                                                                                                                                                                                                                                                                                                                                                                                                                                                                                                                                                                                                                                                                                                               0\n",
       "c27                                                                                                                                                                                                                                                                                                                                                                                                                                                                                                                                                                                                                                                                                                                                                                                                                                                                                                                                                                                                                                                               0\n",
       "c28                                                                                                                                                                                                                                                                                                                                                                                                                                                                                                                                                                                                                                                                                                                                                                                                                                                                                                                                                                                                                                                               0\n",
       "c29                                                                                                                                                                                                                                                                                                                                                                                                                                                                                                                                                                                                                                                                                                                                                                                                                                                                                                                                                                                                                                                               0\n",
       "c30                                                                                                                                                                                                                                                                                                                                                                                                                                                                                                                                                                                                                                                                                                                                                                                                                                                                                                                                                                                                                                                               0\n",
       "c31                                                                                                                                                                                                                                                                                                                                                                                                                                                                                                                                                                                                                                                                                                                                                                                                                                                                                                                                                                                                                                                              15\n",
       "c32                                                                                                                                                                                                                                                                                                                                                                                                                                                                                                                                                                                                                                                                                                                                                                                                                                                                                                                                                                                                                                                               0\n",
       "c33                                                                                                                                                                                                                                                                                                                                                                                                                                                                                                                                                                                                                                                                                                                                                                                                                                                                                                                                                                                                                                                               0\n",
       "c34                                                                                                                                                                                                                                                                                                                                                                                                                                                                                                                                                                                                                                                                                                                                                                                                                                                                                                                                                                                                                                                               0\n",
       "c35                                                                                                                                                                                                                                                                                                                                                                                                                                                                                                                                                                                                                                                                                                                                                                                                                                                                                                                                                                                                                                                               0\n",
       "c36                                                                                                                                                                                                                                                                                                                                                                                                                                                                                                                                                                                                                                                                                                                                                                                                                                                                                                                                                                                                                                                               0\n",
       "c37                                                                                                                                                                                                                                                                                                                                                                                                                                                                                                                                                                                                                                                                                                                                                                                                                                                                                                                                                                                                                                                               0\n",
       "c38                                                                                                                                                                                                                                                                                                                                                                                                                                                                                                                                                                                                                                                                                                                                                                                                                                                                                                                                                                                                                                                               0\n",
       "c39                                                                                                                                                                                                                                                                                                                                                                                                                                                                                                                                                                                                                                                                                                                                                                                                                                                                                                                                                                                                                                                               0\n",
       "c40                                                                                                                                                                                                                                                                                                                                                                                                                                                                                                                                                                                                                                                                                                                                                                                                                                                                                                                                                                                                                                                               0\n",
       "c41                                                                                                                                                                                                                                                                                                                                                                                                                                                                                                                                                                                                                                                                                                                                                                                                                                                                                                                                                                                                                                                              15\n",
       "c42                                                                                                                                                                                                                                                                                                                                                                                                                                                                                                                                                                                                                                                                                                                                                                                                                                                                                                                                                                                                                                                               0\n",
       "c43                                                                                                                                                                                                                                                                                                                                                                                                                                                                                                                                                                                                                                                                                                                                                                                                                                                                                                                                                                                                                                                               0\n",
       "Name: 9913, dtype: object"
      ]
     },
     "execution_count": 51,
     "metadata": {},
     "output_type": "execute_result"
    }
   ],
   "source": [
    "queries.loc[9913]"
   ]
  },
  {
   "cell_type": "code",
   "execution_count": 55,
   "metadata": {
    "collapsed": false
   },
   "outputs": [
    {
     "data": {
      "text/html": [
       "<div>\n",
       "<table border=\"1\" class=\"dataframe\">\n",
       "  <thead>\n",
       "    <tr style=\"text-align: right;\">\n",
       "      <th></th>\n",
       "      <th>word_mdf</th>\n",
       "      <th>word_stucco</th>\n",
       "      <th>word_clips</th>\n",
       "      <th>word_silicone</th>\n",
       "      <th>word_mailbox</th>\n",
       "      <th>word_nail</th>\n",
       "      <th>word_shutters</th>\n",
       "      <th>word_slip</th>\n",
       "      <th>word_humidifier</th>\n",
       "      <th>word_j</th>\n",
       "      <th>...</th>\n",
       "      <th>word_char</th>\n",
       "      <th>word_trimmers</th>\n",
       "      <th>word_prelit</th>\n",
       "      <th>word_oleum</th>\n",
       "      <th>word_broil</th>\n",
       "      <th>word_file</th>\n",
       "      <th>word_lutron</th>\n",
       "      <th>word_xenon</th>\n",
       "      <th>word_bistro</th>\n",
       "      <th>word_drivers</th>\n",
       "    </tr>\n",
       "    <tr>\n",
       "      <th>id</th>\n",
       "      <th></th>\n",
       "      <th></th>\n",
       "      <th></th>\n",
       "      <th></th>\n",
       "      <th></th>\n",
       "      <th></th>\n",
       "      <th></th>\n",
       "      <th></th>\n",
       "      <th></th>\n",
       "      <th></th>\n",
       "      <th></th>\n",
       "      <th></th>\n",
       "      <th></th>\n",
       "      <th></th>\n",
       "      <th></th>\n",
       "      <th></th>\n",
       "      <th></th>\n",
       "      <th></th>\n",
       "      <th></th>\n",
       "      <th></th>\n",
       "      <th></th>\n",
       "    </tr>\n",
       "  </thead>\n",
       "  <tbody>\n",
       "  </tbody>\n",
       "</table>\n",
       "<p>0 rows × 79 columns</p>\n",
       "</div>"
      ],
      "text/plain": [
       "Empty DataFrame\n",
       "Columns: [word_mdf, word_stucco, word_clips, word_silicone, word_mailbox, word_nail, word_shutters, word_slip, word_humidifier, word_j, word_maid, word_toggle, word_ceramic, word_stakes, word_sleeve, word_folding, word_planks, word_mats, word_floating, word_warm, word_food, word_awnings, word_combo, word_brad, word_bamboo, word_firepit, word_schedule, word_tee, word_kwikset, word_lighte, word_lighted, word_tankless, word_elbow, word_bits, word_compression, word_milwaukee, word_simpson, word_polished, word_chaise, word_raised, word_thermostat, word_saws, word_collar, word_sheds, word_undermount, word_strainer, word_sponge, word_rust, word_halogen, word_saddle, word_weatherproof, word_lounge, word_ovens, word_convection, word_thermal, word_miter, word_waste, word_sodium, word_werner, word_par, word_chandeliers, word_screwdriver, word_conditioners, word_bathtubs, word_treads, word_camera, word_book, word_strap, word_dispenser, word_char, word_trimmers, word_prelit, word_oleum, word_broil, word_file, word_lutron, word_xenon, word_bistro, word_drivers]\n",
       "Index: []\n",
       "\n",
       "[0 rows x 79 columns]"
      ]
     },
     "execution_count": 55,
     "metadata": {},
     "output_type": "execute_result"
    }
   ],
   "source": [
    "special_word_matches[special_word_matches.isnull()['word_nail']]"
   ]
  },
  {
   "cell_type": "code",
   "execution_count": 56,
   "metadata": {
    "collapsed": false
   },
   "outputs": [],
   "source": [
    "np.save('SPECIAL_WORDS_FEAT_TRAIN', np.array(idx_train.join(special_word_matches).drop('relevance', axis=1)))\n",
    "np.save('SPECIAL_WORDS_FEAT_TEST', np.array(idx_test.join(special_word_matches).drop('relevance', axis=1)))"
   ]
  },
  {
   "cell_type": "code",
   "execution_count": 33,
   "metadata": {
    "collapsed": false
   },
   "outputs": [],
   "source": [
    "#queries.join(special_word_matches)"
   ]
  },
  {
   "cell_type": "code",
   "execution_count": 5,
   "metadata": {
    "collapsed": false
   },
   "outputs": [
    {
     "data": {
      "text/plain": [
       "<matplotlib.axes._subplots.AxesSubplot at 0x10ed1ee10>"
      ]
     },
     "execution_count": 5,
     "metadata": {},
     "output_type": "execute_result"
    },
    {
     "data": {
      "image/png": "[encoded data removed]",
      "text/plain": [
       "<matplotlib.figure.Figure at 0x129b6c890>"
      ]
     },
     "metadata": {},
     "output_type": "display_data"
    }
   ],
   "source": [
    "#'model', 'counter', 'frame', 'roof', 'high', 'electrical', 'parts', 'windows', 'concrete', 'l', 'home'\n",
    "wordd = 'dispenser'\n",
    "\n",
    "xx = aaa[\n",
    "    (aaa['query'].apply(lambda s: wordd in s.split()))\n",
    "    ]\n",
    "xx['relevance'].hist(bins=20)\n",
    "\n",
    "yy = bbb[\n",
    "    (bbb['query'].apply(lambda s: wordd in s.split()))\n",
    "    ]\n",
    "yy['relevance'].hist(bins=20)"
   ]
  },
  {
   "cell_type": "code",
   "execution_count": null,
   "metadata": {
    "collapsed": true
   },
   "outputs": [],
   "source": []
  }
 ],
 "metadata": {
  "kernelspec": {
   "display_name": "Python 2",
   "language": "python",
   "name": "python2"
  },
  "language_info": {
   "codemirror_mode": {
    "name": "ipython",
    "version": 2
   },
   "file_extension": ".py",
   "mimetype": "text/x-python",
   "name": "python",
   "nbconvert_exporter": "python",
   "pygments_lexer": "ipython2",
   "version": "2.7.10"
  }
 },
 "nbformat": 4,
 "nbformat_minor": 0
}
