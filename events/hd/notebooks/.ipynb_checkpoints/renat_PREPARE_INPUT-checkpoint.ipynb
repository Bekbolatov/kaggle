{
 "cells": [
  {
   "cell_type": "code",
   "execution_count": null,
   "metadata": {
    "collapsed": true
   },
   "outputs": [],
   "source": [
    "import numpy as np\n",
    "import pandas as pd\n",
    "\n",
    "#LOC = '/home/ec2-user/data/hd/unpacked/'\n",
    "LOC = '/Users/rbekbolatov/data/kaggle/homedepot/'\n",
    "out_dir = 'data/'\n",
    "suffix = '.df'"
   ]
  },
  {
   "cell_type": "markdown",
   "metadata": {},
   "source": [
    "### Queries/Product relevance data"
   ]
  },
  {
   "cell_type": "code",
   "execution_count": null,
   "metadata": {
    "collapsed": false
   },
   "outputs": [],
   "source": [
    "_df_train = pd.read_csv(LOC + 'train.csv', encoding=\"ISO-8859-1\", index_col='id')\n",
    "_df_test = pd.read_csv(LOC + 'test.csv', encoding=\"ISO-8859-1\", index_col='id')\n",
    "_df_test['relevance'] = 1.0\n",
    "\n",
    "pd.DataFrame(_df_train['relevance']).to_pickle(out_dir + 'TRAIN_LABELS' + suffix)\n",
    "pd.DataFrame(_df_test['relevance']).to_pickle(out_dir + 'TEST_LABELS' + suffix)\n",
    "\n",
    "_df_train.drop('relevance', inplace=True, axis=1)\n",
    "_df_test.drop('relevance', inplace=True, axis=1)\n",
    "_df_train.append(_df_test).to_pickle(out_dir + 'QUERIES' + suffix)"
   ]
  },
  {
   "cell_type": "markdown",
   "metadata": {},
   "source": [
    "### Product info"
   ]
  },
  {
   "cell_type": "code",
   "execution_count": null,
   "metadata": {
    "collapsed": false
   },
   "outputs": [],
   "source": [
    "# descriptions\n",
    "df_description = pd.read_csv(LOC + 'product_descriptions.csv', encoding=\"ISO-8859-1\", index_col='product_uid', dtype={'product_uid': np.int32})\n",
    "\n",
    "# attributes\n",
    "df_attr = pd.read_csv(LOC + 'attributes.csv', encoding=\"ISO-8859-1\")\n",
    "df_attr = df_attr[df_attr['product_uid'].notnull()]\n",
    "df_attr['product_uid'] = df_attr['product_uid'].astype(np.int32)\n",
    "\n",
    "def create_attrs_dict(r):\n",
    "    rr = r[['name', 'value']]\n",
    "    rr.set_index('name', inplace=True)\n",
    "    return rr.to_dict()['value']\n",
    "\n",
    "df_attr = df_attr.groupby('product_uid', as_index=True).apply(create_attrs_dict)\n",
    "df_attr = pd.DataFrame(df_attr, columns=['attributes'])\n",
    "\n",
    "# combine into a single product DF\n",
    "df_product = pd.concat([df_description, df_attr], axis=1)\n",
    "df_product = df_product.applymap(lambda x: {} if pd.isnull(x) else x)\n",
    "df_product.to_pickle(out_dir + 'PRODUCT' + suffix)"
   ]
  }
 ],
 "metadata": {
  "kernelspec": {
   "display_name": "Python 2",
   "language": "python",
   "name": "python2"
  },
  "language_info": {
   "codemirror_mode": {
    "name": "ipython",
    "version": 2
   },
   "file_extension": ".py",
   "mimetype": "text/x-python",
   "name": "python",
   "nbconvert_exporter": "python",
   "pygments_lexer": "ipython2",
   "version": "2.7.10"
  }
 },
 "nbformat": 4,
 "nbformat_minor": 0
}
