{
 "cells": [
  {
   "cell_type": "code",
   "execution_count": 1,
   "metadata": {
    "collapsed": false
   },
   "outputs": [],
   "source": [
    "import time\n",
    "import numpy as np\n",
    "import pandas as pd\n",
    "import xgboost as xgb\n",
    "from sklearn.ensemble import RandomForestRegressor\n",
    "#from sklearn import pipeline, model_selection\n",
    "from sklearn import pipeline, grid_search\n",
    "#from sklearn.feature_extraction import DictVectorizer\n",
    "from sklearn.base import BaseEstimator, TransformerMixin\n",
    "from sklearn.pipeline import FeatureUnion\n",
    "from sklearn.decomposition import TruncatedSVD\n",
    "#from sklearn.feature_extraction.text import CountVectorizer, TfidfTransformer\n",
    "from sklearn.feature_extraction.text import TfidfVectorizer\n",
    "from sklearn.metrics import mean_squared_error, make_scorer\n",
    "\n",
    "import re\n",
    "\n",
    "import random\n",
    "random.seed(2016)\n",
    "pd.set_option(\"display.max_colwidth\", 200)\n",
    "\n",
    "# LOC = '/home/ec2-user/data/hd/unpacked/'\n",
    "# df_train = pd.read_csv(LOC + 'train.csv', encoding=\"ISO-8859-1\")\n",
    "# num_train = df_train.shape[0]"
   ]
  },
  {
   "cell_type": "code",
   "execution_count": 2,
   "metadata": {
    "collapsed": false
   },
   "outputs": [],
   "source": [
    "dtrain = xgb.DMatrix(\"train.buffer\")\n",
    "dtest = xgb.DMatrix(\"test.buffer\")\n",
    "evallist  = [(dtrain,'train')]"
   ]
  },
  {
   "cell_type": "code",
   "execution_count": 3,
   "metadata": {
    "collapsed": false
   },
   "outputs": [],
   "source": [
    "a = np.load('train_data.npy')\n",
    "b = np.load('test_data.npy')"
   ]
  },
  {
   "cell_type": "code",
   "execution_count": 21,
   "metadata": {
    "collapsed": true
   },
   "outputs": [],
   "source": [
    "from sklearn.cross_validation import train_test_split\n",
    "X_train, X_test, y_train, y_test = train_test_split(a, dtrain.get_label(), test_size=0.20, random_state=43)\n",
    "gX_train = xgb.DMatrix(data=X_train, label=y_train)\n",
    "gX_test = xgb.DMatrix(data=X_test, label=y_test)\n",
    "evallist  = [(gX_train,'train'),(gX_test,'test')]"
   ]
  },
  {
   "cell_type": "code",
   "execution_count": 25,
   "metadata": {
    "collapsed": false
   },
   "outputs": [],
   "source": [
    "xgb.train?"
   ]
  },
  {
   "cell_type": "code",
   "execution_count": null,
   "metadata": {
    "collapsed": true
   },
   "outputs": [],
   "source": [
    "# TRAIN AS SELF\n",
    "param = {'max_depth':6, \n",
    "         'eta':0.1, # 'objective':'reg:linear',\n",
    "         'eval_metric':'rmse', #'maximize': False,\n",
    "         'colsample_bytree':0.8,\n",
    "         'subsample':0.9,\n",
    "         'nthread':8,\n",
    "         'silent': True\n",
    "        }\n",
    "num_round = 500\n",
    "bst = xgb.train( param, gX_train, num_round, evallist, early_stopping_rounds=15, verbose_eval=10)"
   ]
  },
  {
   "cell_type": "code",
   "execution_count": null,
   "metadata": {
    "collapsed": false
   },
   "outputs": [],
   "source": [
    "print(str((bst.best_iteration, bst.best_ntree_limit)))\n",
    "xgb.cv(param, dtrain, num_boost_round=10, nfold=2, metrics={'error'}, maximize=False, seed = 0)"
   ]
  },
  {
   "cell_type": "code",
   "execution_count": null,
   "metadata": {
    "collapsed": false
   },
   "outputs": [],
   "source": [
    "# TRAIN AS SKLEARN\n",
    "clf = xgb.XGBClassifier(**param_clf)\n",
    "#clf.get_params().keys()\n",
    "clf.fit(a, dtrain.get_label())\n",
    "by = clf.predict(b)"
   ]
  },
  {
   "cell_type": "code",
   "execution_count": 4,
   "metadata": {
    "collapsed": true
   },
   "outputs": [],
   "source": [
    "def fmean_squared_error(ground_truth, predictions):\n",
    "    fmean_squared_error_ = mean_squared_error(ground_truth, predictions)**0.5\n",
    "    return fmean_squared_error_\n",
    "\n",
    "def fmse(ground_truth, predictions):\n",
    "    return mean_squared_error(ground_truth, predictions)\n",
    "\n",
    "#RMSE  = make_scorer(fmse, greater_is_better=False)\n",
    "RMSE  = make_scorer(fmean_squared_error, greater_is_better=False)"
   ]
  },
  {
   "cell_type": "code",
   "execution_count": 16,
   "metadata": {
    "collapsed": false
   },
   "outputs": [],
   "source": [
    "# param_clf = {'max_depth':2, \n",
    "#          'learning_rate':0.5, \n",
    "#          'colsample_bytree':0.8,\n",
    "#          'subsample':0.95,\n",
    "#          'nthread':4,\n",
    "#          'n_estimators': 120\n",
    "#         }\n",
    "paramso = {'max_depth': [3], \n",
    "         'learning_rate': [0.1], \n",
    "         'colsample_bytree':[1],\n",
    "         'subsample':[1],\n",
    "         'n_estimators':[10]\n",
    "        }\n",
    "#num_round = 120"
   ]
  },
  {
   "cell_type": "code",
   "execution_count": 13,
   "metadata": {
    "collapsed": true
   },
   "outputs": [],
   "source": [
    "grid_search.GridSearchCV?"
   ]
  },
  {
   "cell_type": "code",
   "execution_count": 17,
   "metadata": {
    "collapsed": false
   },
   "outputs": [],
   "source": [
    "model = grid_search.GridSearchCV(\n",
    "    estimator = xgb.XGBClassifier(silent=False, nthread=8), #**param_clf), \n",
    "    param_grid = paramso, cv = 3, verbose = 20, scoring=RMSE)"
   ]
  },
  {
   "cell_type": "code",
   "execution_count": 18,
   "metadata": {
    "collapsed": false
   },
   "outputs": [
    {
     "name": "stdout",
     "output_type": "stream",
     "text": [
      "Fitting 3 folds for each of 1 candidates, totalling 3 fits\n",
      "[CV] n_estimators=10, subsample=1, learning_rate=0.1, colsample_bytree=1, max_depth=3 \n",
      "[CV]  n_estimators=10, subsample=1, learning_rate=0.1, colsample_bytree=1, max_depth=3, score=-0.592772 -  14.0s\n",
      "[CV] n_estimators=10, subsample=1, learning_rate=0.1, colsample_bytree=1, max_depth=3 \n",
      "[CV]  n_estimators=10, subsample=1, learning_rate=0.1, colsample_bytree=1, max_depth=3, score=-0.587334 -  14.2s"
     ]
    },
    {
     "name": "stderr",
     "output_type": "stream",
     "text": [
      "[Parallel(n_jobs=1)]: Done   1 tasks       | elapsed:   14.0s\n",
      "[Parallel(n_jobs=1)]: Done   2 tasks       | elapsed:   28.2s\n"
     ]
    },
    {
     "name": "stdout",
     "output_type": "stream",
     "text": [
      "\n",
      "[CV] n_estimators=10, subsample=1, learning_rate=0.1, colsample_bytree=1, max_depth=3 \n",
      "[CV]  n_estimators=10, subsample=1, learning_rate=0.1, colsample_bytree=1, max_depth=3, score=-0.690604 -  14.2s\n",
      "Best parameters found by grid search:\n",
      "{'n_estimators': 10, 'subsample': 1, 'learning_rate': 0.1, 'colsample_bytree': 1, 'max_depth': 3}\n",
      "Best CV score:\n",
      "-0.623570067394\n"
     ]
    },
    {
     "name": "stderr",
     "output_type": "stream",
     "text": [
      "[Parallel(n_jobs=1)]: Done   3 tasks       | elapsed:   42.4s\n",
      "[Parallel(n_jobs=1)]: Done   3 out of   3 | elapsed:   42.4s finished\n"
     ]
    }
   ],
   "source": [
    "model.fit(a, dtrain.get_label())\n",
    "\n",
    "print(\"Best parameters found by grid search:\")\n",
    "print(model.best_params_)\n",
    "print(\"Best CV score:\")\n",
    "print(model.best_score_)"
   ]
  },
  {
   "cell_type": "code",
   "execution_count": null,
   "metadata": {
    "collapsed": true
   },
   "outputs": [],
   "source": []
  }
 ],
 "metadata": {
  "kernelspec": {
   "display_name": "Python 2",
   "language": "python",
   "name": "python2"
  },
  "language_info": {
   "codemirror_mode": {
    "name": "ipython",
    "version": 2
   },
   "file_extension": ".py",
   "mimetype": "text/x-python",
   "name": "python",
   "nbconvert_exporter": "python",
   "pygments_lexer": "ipython2",
   "version": "2.7.10"
  }
 },
 "nbformat": 4,
 "nbformat_minor": 0
}
