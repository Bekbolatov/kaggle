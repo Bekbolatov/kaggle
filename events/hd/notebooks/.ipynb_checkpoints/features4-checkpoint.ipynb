{
 "cells": [
  {
   "cell_type": "code",
   "execution_count": 97,
   "metadata": {
    "collapsed": false
   },
   "outputs": [],
   "source": [
    "import time\n",
    "import numpy as np\n",
    "import pandas as pd\n",
    "import xgboost as xgb\n",
    "from sklearn import linear_model\n",
    "from sklearn.cross_validation import train_test_split\n",
    "from sklearn.ensemble import RandomForestRegressor\n",
    "#from sklearn import pipeline, model_selection\n",
    "from sklearn import pipeline, grid_search\n",
    "#from sklearn.feature_extraction import DictVectorizer\n",
    "from sklearn.base import BaseEstimator, TransformerMixin\n",
    "from sklearn.pipeline import FeatureUnion\n",
    "from sklearn.decomposition import TruncatedSVD\n",
    "#from sklearn.feature_extraction.text import CountVectorizer, TfidfTransformer\n",
    "from sklearn.feature_extraction.text import TfidfVectorizer\n",
    "from sklearn.metrics import mean_squared_error, make_scorer\n",
    "\n",
    "import re\n",
    "\n",
    "import random\n",
    "random.seed(2016)\n",
    "pd.set_option(\"display.max_colwidth\", 200)\n",
    "\n",
    "%matplotlib inline\n",
    "\n",
    "import matplotlib\n",
    "\n",
    "# LOC = '/home/ec2-user/data/hd/unpacked/'\n",
    "# df_train = pd.read_csv(LOC + 'train.csv', encoding=\"ISO-8859-1\")\n",
    "# num_train = df_train.shape[0]"
   ]
  },
  {
   "cell_type": "code",
   "execution_count": 2,
   "metadata": {
    "collapsed": false
   },
   "outputs": [],
   "source": [
    "dtrain = xgb.DMatrix(\"train.buffer\")\n",
    "dtest = xgb.DMatrix(\"test.buffer\")\n",
    "evallist  = [(dtrain,'train')]"
   ]
  },
  {
   "cell_type": "code",
   "execution_count": 3,
   "metadata": {
    "collapsed": false
   },
   "outputs": [],
   "source": []
  },
  {
   "cell_type": "code",
   "execution_count": 87,
   "metadata": {
    "collapsed": false
   },
   "outputs": [],
   "source": [
    "a = np.load('train_data.npy')\n",
    "b = np.load('test_data.npy')\n",
    "a_brand = np.load('features_brand_01_train.npy')\n",
    "b_brand = np.load('features_brand_01_test.npy')\n",
    "a = np.hstack((a, a_brand))\n",
    "b = np.hstack((b, b_brand))"
   ]
  },
  {
   "cell_type": "code",
   "execution_count": 88,
   "metadata": {
    "collapsed": false
   },
   "outputs": [],
   "source": [
    "X_train, X_test, y_train, y_test = train_test_split(a, dtrain.get_label(), test_size=0.20, random_state=147)\n",
    "gX_train = xgb.DMatrix(data=X_train, label=y_train)\n",
    "gX_test = xgb.DMatrix(data=X_test, label=y_test)\n",
    "evallist  = [(gX_train,'train'),(gX_test,'test')]"
   ]
  },
  {
   "cell_type": "code",
   "execution_count": 46,
   "metadata": {
    "collapsed": true
   },
   "outputs": [],
   "source": [
    "def fmean_squared_error(ground_truth, predictions):\n",
    "    fmean_squared_error_ = mean_squared_error(ground_truth, predictions)**0.5\n",
    "    return fmean_squared_error_"
   ]
  },
  {
   "cell_type": "code",
   "execution_count": 90,
   "metadata": {
    "collapsed": false
   },
   "outputs": [
    {
     "data": {
      "text/plain": [
       "0.4762976829862699"
      ]
     },
     "execution_count": 90,
     "metadata": {},
     "output_type": "execute_result"
    }
   ],
   "source": [
    "#clf = linear_model.LinearRegression(n_jobs=8)\n",
    "clf = linear_model.Ridge (alpha = .6)\n",
    "clf.fit(X_train, y_train)\n",
    "y_hat = clf.predict(X_test)\n",
    "y_hat = np.minimum(np.maximum(y_hat, 1.0), 3.0)\n",
    "fmean_squared_error(y_hat, y_test)"
   ]
  },
  {
   "cell_type": "code",
   "execution_count": null,
   "metadata": {
    "collapsed": true
   },
   "outputs": [],
   "source": [
    "clf = linear_model.Ridge (alpha = .6)\n",
    "clf.fit(a, dtrain.get_label())\n",
    "y_hat = clf.predict(X_test)\n",
    "y_hat = np.minimum(np.maximum(y_hat, 1.0), 3.0)\n"
   ]
  },
  {
   "cell_type": "code",
   "execution_count": 25,
   "metadata": {
    "collapsed": false
   },
   "outputs": [],
   "source": [
    "xgb.train?"
   ]
  },
  {
   "cell_type": "code",
   "execution_count": 29,
   "metadata": {
    "collapsed": false
   },
   "outputs": [],
   "source": [
    "# TRAIN AS SELF\n",
    "param = {'max_depth':9, \n",
    "         'eta':0.1, # 'objective':'reg:linear',\n",
    "         'eval_metric':'rmse', #'maximize': False,\n",
    "         'colsample_bytree':0.3,\n",
    "         'subsample':0.9,\n",
    "         'nthread':8,\n",
    "         'silent': True\n",
    "        }\n",
    "num_round = 5000\n",
    "bst = xgb.train( param, gX_train, num_round, [(gX_train,'train'),(gX_test,'test')], early_stopping_rounds=15, verbose_eval=10)"
   ]
  },
  {
   "cell_type": "code",
   "execution_count": 30,
   "metadata": {
    "collapsed": false
   },
   "outputs": [],
   "source": [
    "#7\t0.05\t0.8\t0.9\t500\t\t0.452797\n",
    "#13\t0.01\t0.3\t0.9\n",
    "param = {'max_depth':13, \n",
    "         'eta':0.01, # 'objective':'reg:linear',\n",
    "         'eval_metric':'rmse', #'maximize': False,\n",
    "         'colsample_bytree':0.3,\n",
    "         'subsample':0.9,\n",
    "         'nthread':8,\n",
    "         'silent': True\n",
    "        }\n",
    "num_round = 5000\n",
    "bst = xgb.train( param, gX_train, num_round, [(gX_train,'train'),(gX_test,'test')], early_stopping_rounds=15, verbose_eval=10)"
   ]
  },
  {
   "cell_type": "code",
   "execution_count": null,
   "metadata": {
    "collapsed": true
   },
   "outputs": [],
   "source": [
    "num_round = 800\n",
    "\n",
    "#bst = xgb.train( param, dtrain, num_round, [(gX_train,'train'),(gX_test,'test')], verbose_eval=20)\n",
    "bst = xgb.train( param, dtrain, num_round, [(gX_test,'test')], verbose_eval=20)\n",
    "\n",
    "#LOC = '/home/ec2-user/data/hd/unpacked/'\n",
    "LOC = '/Users/rbekbolatov/data/kaggle/homedepot/'\n",
    "df_test = pd.read_csv(LOC + 'test.csv', encoding=\"ISO-8859-1\")\n",
    "id_test = df_test['id']\n",
    "\n",
    "y_pred = bst.predict(dtest, ntree_limit=500)\n",
    "y_pred_bounded = np.minimum(np.maximum(y_pred, 1.0), 3.0)\n",
    "pd.DataFrame({\"id\": id_test, \"relevance\": y_pred_bounded}).to_csv('submission_xgboost_2.csv',index=False)"
   ]
  },
  {
   "cell_type": "code",
   "execution_count": 112,
   "metadata": {
    "collapsed": true
   },
   "outputs": [],
   "source": [
    "##  THIS CREATED HIGHEST SO FAR : 3/25 1:27am (8a)\n",
    "fmi = pd.read_csv('/Users/rbekbolatov/repos/gh/bekbolatov/kaggle/events/hd/notebooks/submission_blend_0403_1631.csv.gz', encoding=\"ISO-8859-1\")\n",
    "fo = pd.read_csv('/Users/rbekbolatov/repos/gh/bekbolatov/kaggle/events/hd/notebooks/submission_xgboost_words_0405_1446.csv.gz', encoding=\"ISO-8859-1\")"
   ]
  },
  {
   "cell_type": "code",
   "execution_count": 70,
   "metadata": {
    "collapsed": false
   },
   "outputs": [
    {
     "data": {
      "text/html": [
       "<div>\n",
       "<table border=\"1\" class=\"dataframe\">\n",
       "  <thead>\n",
       "    <tr style=\"text-align: right;\">\n",
       "      <th></th>\n",
       "      <th>id</th>\n",
       "      <th>relevance</th>\n",
       "    </tr>\n",
       "  </thead>\n",
       "  <tbody>\n",
       "    <tr>\n",
       "      <th>0</th>\n",
       "      <td>1</td>\n",
       "      <td>2.115149</td>\n",
       "    </tr>\n",
       "    <tr>\n",
       "      <th>1</th>\n",
       "      <td>4</td>\n",
       "      <td>2.175796</td>\n",
       "    </tr>\n",
       "    <tr>\n",
       "      <th>2</th>\n",
       "      <td>5</td>\n",
       "      <td>2.279397</td>\n",
       "    </tr>\n",
       "    <tr>\n",
       "      <th>3</th>\n",
       "      <td>6</td>\n",
       "      <td>2.610998</td>\n",
       "    </tr>\n",
       "    <tr>\n",
       "      <th>4</th>\n",
       "      <td>7</td>\n",
       "      <td>2.311471</td>\n",
       "    </tr>\n",
       "  </tbody>\n",
       "</table>\n",
       "</div>"
      ],
      "text/plain": [
       "   id  relevance\n",
       "0   1   2.115149\n",
       "1   4   2.175796\n",
       "2   5   2.279397\n",
       "3   6   2.610998\n",
       "4   7   2.311471"
      ]
     },
     "execution_count": 70,
     "metadata": {},
     "output_type": "execute_result"
    }
   ],
   "source": [
    "fmi.head()"
   ]
  },
  {
   "cell_type": "code",
   "execution_count": 71,
   "metadata": {
    "collapsed": false
   },
   "outputs": [
    {
     "data": {
      "text/html": [
       "<div>\n",
       "<table border=\"1\" class=\"dataframe\">\n",
       "  <thead>\n",
       "    <tr style=\"text-align: right;\">\n",
       "      <th></th>\n",
       "      <th>id</th>\n",
       "      <th>relevance</th>\n",
       "    </tr>\n",
       "  </thead>\n",
       "  <tbody>\n",
       "    <tr>\n",
       "      <th>0</th>\n",
       "      <td>1</td>\n",
       "      <td>2.048145</td>\n",
       "    </tr>\n",
       "    <tr>\n",
       "      <th>1</th>\n",
       "      <td>4</td>\n",
       "      <td>2.071236</td>\n",
       "    </tr>\n",
       "    <tr>\n",
       "      <th>2</th>\n",
       "      <td>5</td>\n",
       "      <td>2.223909</td>\n",
       "    </tr>\n",
       "    <tr>\n",
       "      <th>3</th>\n",
       "      <td>6</td>\n",
       "      <td>2.612672</td>\n",
       "    </tr>\n",
       "    <tr>\n",
       "      <th>4</th>\n",
       "      <td>7</td>\n",
       "      <td>2.274974</td>\n",
       "    </tr>\n",
       "  </tbody>\n",
       "</table>\n",
       "</div>"
      ],
      "text/plain": [
       "   id  relevance\n",
       "0   1   2.048145\n",
       "1   4   2.071236\n",
       "2   5   2.223909\n",
       "3   6   2.612672\n",
       "4   7   2.274974"
      ]
     },
     "execution_count": 71,
     "metadata": {},
     "output_type": "execute_result"
    }
   ],
   "source": [
    "fo.head()"
   ]
  },
  {
   "cell_type": "code",
   "execution_count": 72,
   "metadata": {
    "collapsed": false
   },
   "outputs": [],
   "source": [
    "clf = linear_model.Ridge (alpha = .6)\n",
    "clf.fit(a, dtrain.get_label())\n",
    "y_hat = clf.predict(b)\n",
    "y_hat = np.minimum(np.maximum(y_hat, 1.0), 3.0)\n",
    "\n",
    "#fmi = pd.DataFrame({\"id\": fmi['id'], \"relevance\": y_hat})\n",
    "fmi['relevance'] = y_hat"
   ]
  },
  {
   "cell_type": "code",
   "execution_count": 73,
   "metadata": {
    "collapsed": false
   },
   "outputs": [
    {
     "data": {
      "text/html": [
       "<div>\n",
       "<table border=\"1\" class=\"dataframe\">\n",
       "  <thead>\n",
       "    <tr style=\"text-align: right;\">\n",
       "      <th></th>\n",
       "      <th>id</th>\n",
       "      <th>relevance</th>\n",
       "    </tr>\n",
       "  </thead>\n",
       "  <tbody>\n",
       "    <tr>\n",
       "      <th>0</th>\n",
       "      <td>1</td>\n",
       "      <td>2.056551</td>\n",
       "    </tr>\n",
       "    <tr>\n",
       "      <th>1</th>\n",
       "      <td>4</td>\n",
       "      <td>2.027976</td>\n",
       "    </tr>\n",
       "    <tr>\n",
       "      <th>2</th>\n",
       "      <td>5</td>\n",
       "      <td>2.367077</td>\n",
       "    </tr>\n",
       "    <tr>\n",
       "      <th>3</th>\n",
       "      <td>6</td>\n",
       "      <td>2.716874</td>\n",
       "    </tr>\n",
       "    <tr>\n",
       "      <th>4</th>\n",
       "      <td>7</td>\n",
       "      <td>2.462039</td>\n",
       "    </tr>\n",
       "  </tbody>\n",
       "</table>\n",
       "</div>"
      ],
      "text/plain": [
       "   id  relevance\n",
       "0   1   2.056551\n",
       "1   4   2.027976\n",
       "2   5   2.367077\n",
       "3   6   2.716874\n",
       "4   7   2.462039"
      ]
     },
     "execution_count": 73,
     "metadata": {},
     "output_type": "execute_result"
    }
   ],
   "source": [
    "fmi.head()"
   ]
  },
  {
   "cell_type": "code",
   "execution_count": 124,
   "metadata": {
    "collapsed": false
   },
   "outputs": [],
   "source": [
    "fo1 = pd.read_csv('/Users/rbekbolatov/repos/gh/bekbolatov/kaggle/events/hd/notebooks/frommany/submission_xgboost_cum3_000135.csv.gz', encoding=\"ISO-8859-1\")\n",
    "fo1.columns = ['id', 'rel1']\n",
    "fo2 = pd.read_csv('/Users/rbekbolatov/repos/gh/bekbolatov/kaggle/events/hd/notebooks/frommany4/submission_xgboost_cum4_00017.csv.gz', encoding=\"ISO-8859-1\")\n",
    "fo2.columns = ['id', 'rel2']\n",
    "fo3 = pd.read_csv('/Users/rbekbolatov/repos/gh/bekbolatov/kaggle/events/hd/notebooks/submission_xgboost_words_0406_1720.csv.gz', encoding=\"ISO-8859-1\")\n",
    "fo3.columns = ['id', 'rel3']\n",
    "fo4 = pd.read_csv('/Users/rbekbolatov/repos/gh/bekbolatov/kaggle/events/hd/notebooks/submission_blend_0405_1501.csv', encoding=\"ISO-8859-1\")\n",
    "fo4.columns = ['id', 'rel4']\n",
    "\n",
    "\n",
    "res = pd.merge(pd.merge(pd.merge(fo1, fo2, how='left', on='id'), fo3, how='left', on='id'), fo4, how='left', on='id')\n",
    "\n",
    "def f(r):\n",
    "    #return r['rel1']*0.35 + r['rel2']*0.55 + r['rel3']*0.05 + r['rel4']*0.05\n",
    "    return r['rel2']*0.80 + r['rel3']*0.20\n",
    "\n",
    "y_pred = res.apply(f, axis=1)\n",
    "pd.DataFrame({\"id\": res['id'], \"relevance\": y_pred}).to_csv('submission_superblend_0406_2050.csv',index=False)"
   ]
  },
  {
   "cell_type": "code",
   "execution_count": 18,
   "metadata": {
    "collapsed": false
   },
   "outputs": [],
   "source": [
    "fo1 = pd.read_csv('/Users/rbekbolatov/repos/gh/bekbolatov/kaggle/events/hd/notebooks/submission_tf_idf2_45445_apr07.csv', encoding=\"ISO-8859-1\").sort_values(by='id')\n",
    "fo2 = pd.read_csv('/Users/rbekbolatov/repos/gh/bekbolatov/kaggle/events/hd/notebooks/submission_blend_0406_1742.csv', encoding=\"ISO-8859-1\")"
   ]
  },
  {
   "cell_type": "code",
   "execution_count": 19,
   "metadata": {
    "collapsed": false
   },
   "outputs": [
    {
     "data": {
      "text/html": [
       "<div>\n",
       "<table border=\"1\" class=\"dataframe\">\n",
       "  <thead>\n",
       "    <tr style=\"text-align: right;\">\n",
       "      <th></th>\n",
       "      <th>id</th>\n",
       "      <th>relevance</th>\n",
       "    </tr>\n",
       "  </thead>\n",
       "  <tbody>\n",
       "    <tr>\n",
       "      <th>140247</th>\n",
       "      <td>1</td>\n",
       "      <td>1.858941</td>\n",
       "    </tr>\n",
       "    <tr>\n",
       "      <th>140249</th>\n",
       "      <td>4</td>\n",
       "      <td>2.015208</td>\n",
       "    </tr>\n",
       "    <tr>\n",
       "      <th>140252</th>\n",
       "      <td>5</td>\n",
       "      <td>2.456078</td>\n",
       "    </tr>\n",
       "    <tr>\n",
       "      <th>140251</th>\n",
       "      <td>6</td>\n",
       "      <td>2.642750</td>\n",
       "    </tr>\n",
       "    <tr>\n",
       "      <th>140250</th>\n",
       "      <td>7</td>\n",
       "      <td>2.380527</td>\n",
       "    </tr>\n",
       "    <tr>\n",
       "      <th>140253</th>\n",
       "      <td>8</td>\n",
       "      <td>2.019014</td>\n",
       "    </tr>\n",
       "    <tr>\n",
       "      <th>146303</th>\n",
       "      <td>10</td>\n",
       "      <td>2.815930</td>\n",
       "    </tr>\n",
       "    <tr>\n",
       "      <th>146302</th>\n",
       "      <td>11</td>\n",
       "      <td>2.704291</td>\n",
       "    </tr>\n",
       "    <tr>\n",
       "      <th>146301</th>\n",
       "      <td>12</td>\n",
       "      <td>2.132847</td>\n",
       "    </tr>\n",
       "    <tr>\n",
       "      <th>65665</th>\n",
       "      <td>13</td>\n",
       "      <td>2.791146</td>\n",
       "    </tr>\n",
       "  </tbody>\n",
       "</table>\n",
       "</div>"
      ],
      "text/plain": [
       "        id  relevance\n",
       "140247   1   1.858941\n",
       "140249   4   2.015208\n",
       "140252   5   2.456078\n",
       "140251   6   2.642750\n",
       "140250   7   2.380527\n",
       "140253   8   2.019014\n",
       "146303  10   2.815930\n",
       "146302  11   2.704291\n",
       "146301  12   2.132847\n",
       "65665   13   2.791146"
      ]
     },
     "execution_count": 19,
     "metadata": {},
     "output_type": "execute_result"
    }
   ],
   "source": [
    "fo1.head(10)"
   ]
  },
  {
   "cell_type": "code",
   "execution_count": 20,
   "metadata": {
    "collapsed": false
   },
   "outputs": [
    {
     "data": {
      "text/html": [
       "<div>\n",
       "<table border=\"1\" class=\"dataframe\">\n",
       "  <thead>\n",
       "    <tr style=\"text-align: right;\">\n",
       "      <th></th>\n",
       "      <th>id</th>\n",
       "      <th>relevance</th>\n",
       "    </tr>\n",
       "  </thead>\n",
       "  <tbody>\n",
       "    <tr>\n",
       "      <th>0</th>\n",
       "      <td>1</td>\n",
       "      <td>2.104239</td>\n",
       "    </tr>\n",
       "    <tr>\n",
       "      <th>1</th>\n",
       "      <td>4</td>\n",
       "      <td>2.073928</td>\n",
       "    </tr>\n",
       "    <tr>\n",
       "      <th>2</th>\n",
       "      <td>5</td>\n",
       "      <td>2.362537</td>\n",
       "    </tr>\n",
       "    <tr>\n",
       "      <th>3</th>\n",
       "      <td>6</td>\n",
       "      <td>2.772507</td>\n",
       "    </tr>\n",
       "    <tr>\n",
       "      <th>4</th>\n",
       "      <td>7</td>\n",
       "      <td>2.350863</td>\n",
       "    </tr>\n",
       "    <tr>\n",
       "      <th>5</th>\n",
       "      <td>8</td>\n",
       "      <td>2.063512</td>\n",
       "    </tr>\n",
       "    <tr>\n",
       "      <th>6</th>\n",
       "      <td>10</td>\n",
       "      <td>2.712965</td>\n",
       "    </tr>\n",
       "    <tr>\n",
       "      <th>7</th>\n",
       "      <td>11</td>\n",
       "      <td>2.564172</td>\n",
       "    </tr>\n",
       "    <tr>\n",
       "      <th>8</th>\n",
       "      <td>12</td>\n",
       "      <td>2.352983</td>\n",
       "    </tr>\n",
       "    <tr>\n",
       "      <th>9</th>\n",
       "      <td>13</td>\n",
       "      <td>2.742729</td>\n",
       "    </tr>\n",
       "  </tbody>\n",
       "</table>\n",
       "</div>"
      ],
      "text/plain": [
       "   id  relevance\n",
       "0   1   2.104239\n",
       "1   4   2.073928\n",
       "2   5   2.362537\n",
       "3   6   2.772507\n",
       "4   7   2.350863\n",
       "5   8   2.063512\n",
       "6  10   2.712965\n",
       "7  11   2.564172\n",
       "8  12   2.352983\n",
       "9  13   2.742729"
      ]
     },
     "execution_count": 20,
     "metadata": {},
     "output_type": "execute_result"
    }
   ],
   "source": [
    "fo2.head(10)"
   ]
  },
  {
   "cell_type": "code",
   "execution_count": 37,
   "metadata": {
    "collapsed": false
   },
   "outputs": [],
   "source": [
    "fo1 = pd.read_csv('/Users/rbekbolatov/repos/gh/bekbolatov/kaggle/events/hd/notebooks/submission_team_superblend_0407_2233.csv', encoding=\"ISO-8859-1\")\n",
    "fo2 = pd.read_csv('/Users/rbekbolatov/repos/gh/bekbolatov/kaggle/events/hd/notebooks/submission_RenatPawel_combined_features_xgboost_0408_0137.csv.gz', encoding=\"ISO-8859-1\")\n",
    "\n",
    "res = pd.merge(fo1, fo2, how='left', on='id')\n",
    "\n",
    "def f(r):\n",
    "    return r['relevance_x']*0.70 + r['relevance_y']*0.30\n",
    "\n",
    "y_pred = res.apply(f, axis=1)\n",
    "pd.DataFrame({\"id\": res['id'], \"relevance\": y_pred}).to_csv('submission_team_superblend_0408_0155.csv',index=False)"
   ]
  },
  {
   "cell_type": "code",
   "execution_count": null,
   "metadata": {
    "collapsed": true
   },
   "outputs": [],
   "source": []
  },
  {
   "cell_type": "code",
   "execution_count": 23,
   "metadata": {
    "collapsed": true
   },
   "outputs": [],
   "source": [
    "fmir = pd.read_csv('/Users/rbekbolatov/repos/gh/bekbolatov/kaggle/events/hd/notebooks/submission_team_superblend_0407_2152.csv', encoding=\"ISO-8859-1\")"
   ]
  },
  {
   "cell_type": "code",
   "execution_count": 24,
   "metadata": {
    "collapsed": false
   },
   "outputs": [
    {
     "data": {
      "text/html": [
       "<div>\n",
       "<table border=\"1\" class=\"dataframe\">\n",
       "  <thead>\n",
       "    <tr style=\"text-align: right;\">\n",
       "      <th></th>\n",
       "      <th>id</th>\n",
       "      <th>relevance</th>\n",
       "    </tr>\n",
       "  </thead>\n",
       "  <tbody>\n",
       "    <tr>\n",
       "      <th>0</th>\n",
       "      <td>1</td>\n",
       "      <td>1.969325</td>\n",
       "    </tr>\n",
       "    <tr>\n",
       "      <th>1</th>\n",
       "      <td>4</td>\n",
       "      <td>2.041632</td>\n",
       "    </tr>\n",
       "    <tr>\n",
       "      <th>2</th>\n",
       "      <td>5</td>\n",
       "      <td>2.413985</td>\n",
       "    </tr>\n",
       "    <tr>\n",
       "      <th>3</th>\n",
       "      <td>6</td>\n",
       "      <td>2.701140</td>\n",
       "    </tr>\n",
       "    <tr>\n",
       "      <th>4</th>\n",
       "      <td>7</td>\n",
       "      <td>2.367178</td>\n",
       "    </tr>\n",
       "    <tr>\n",
       "      <th>5</th>\n",
       "      <td>8</td>\n",
       "      <td>2.039038</td>\n",
       "    </tr>\n",
       "    <tr>\n",
       "      <th>6</th>\n",
       "      <td>10</td>\n",
       "      <td>2.769596</td>\n",
       "    </tr>\n",
       "    <tr>\n",
       "      <th>7</th>\n",
       "      <td>11</td>\n",
       "      <td>2.641237</td>\n",
       "    </tr>\n",
       "    <tr>\n",
       "      <th>8</th>\n",
       "      <td>12</td>\n",
       "      <td>2.231908</td>\n",
       "    </tr>\n",
       "    <tr>\n",
       "      <th>9</th>\n",
       "      <td>13</td>\n",
       "      <td>2.769359</td>\n",
       "    </tr>\n",
       "  </tbody>\n",
       "</table>\n",
       "</div>"
      ],
      "text/plain": [
       "   id  relevance\n",
       "0   1   1.969325\n",
       "1   4   2.041632\n",
       "2   5   2.413985\n",
       "3   6   2.701140\n",
       "4   7   2.367178\n",
       "5   8   2.039038\n",
       "6  10   2.769596\n",
       "7  11   2.641237\n",
       "8  12   2.231908\n",
       "9  13   2.769359"
      ]
     },
     "execution_count": 24,
     "metadata": {},
     "output_type": "execute_result"
    }
   ],
   "source": [
    "fmir.head(10)"
   ]
  },
  {
   "cell_type": "code",
   "execution_count": 26,
   "metadata": {
    "collapsed": true
   },
   "outputs": [],
   "source": [
    "#from scipy.stats import pearsonr\n",
    "pearsonr?"
   ]
  },
  {
   "cell_type": "code",
   "execution_count": 41,
   "metadata": {
    "collapsed": false
   },
   "outputs": [],
   "source": [
    "els = [\n",
    "    pd.read_csv('/Users/rbekbolatov/repos/gh/bekbolatov/kaggle/events/hd/notebooks/submission_tf_idf2_45445_apr07.csv', encoding=\"ISO-8859-1\").sort_values(by='id'),\n",
    "    pd.read_csv('/Users/rbekbolatov/repos/gh/bekbolatov/kaggle/events/hd/notebooks/submission_tf_idf2_45456_apr04.csv', encoding=\"ISO-8859-1\").sort_values(by='id'),\n",
    "    pd.read_csv('/Users/rbekbolatov/repos/gh/bekbolatov/kaggle/events/hd/notebooks/submission_tf_idf2_45469_apr07.csv', encoding=\"ISO-8859-1\").sort_values(by='id'),\n",
    "    pd.read_csv('/Users/rbekbolatov/repos/gh/bekbolatov/kaggle/events/hd/notebooks/submission_tf_idf2_45476_apr07.csv', encoding=\"ISO-8859-1\").sort_values(by='id'),\n",
    "    pd.read_csv('/Users/rbekbolatov/repos/gh/bekbolatov/kaggle/events/hd/notebooks/submission_tf_idf2_45503_apr04.csv', encoding=\"ISO-8859-1\").sort_values(by='id'),\n",
    "    pd.read_csv('/Users/rbekbolatov/repos/gh/bekbolatov/kaggle/events/hd/notebooks/submission_tf_idf2_45544_apr05.csv', encoding=\"ISO-8859-1\").sort_values(by='id'),\n",
    "    pd.read_csv('/Users/rbekbolatov/repos/gh/bekbolatov/kaggle/events/hd/notebooks/submission_blend_0406_1742.csv', encoding=\"ISO-8859-1\"),\n",
    "    pd.read_csv('/Users/rbekbolatov/repos/gh/bekbolatov/kaggle/events/hd/notebooks/submission_superblend_0406_2047.csv', encoding=\"ISO-8859-1\"),\n",
    "    pd.read_csv('/Users/rbekbolatov/repos/gh/bekbolatov/kaggle/events/hd/notebooks/frommany/submission_xgboost_cum3_000135.csv.gz', encoding=\"ISO-8859-1\"),\n",
    "    pd.read_csv('/Users/rbekbolatov/repos/gh/bekbolatov/kaggle/events/hd/notebooks/frommany/submission_xgboost_cum2_000036.csv.gz', encoding=\"ISO-8859-1\"),\n",
    "    pd.read_csv('/Users/rbekbolatov/repos/gh/bekbolatov/kaggle/events/hd/notebooks/submission_blend_0405_1940.csv.gz', encoding=\"ISO-8859-1\"),\n",
    "    pd.read_csv('/Users/rbekbolatov/repos/gh/bekbolatov/kaggle/events/hd/notebooks/frommany/submission_xgboost_cum2_000012.csv.gz', encoding=\"ISO-8859-1\"),\n",
    "    pd.read_csv('/Users/rbekbolatov/repos/gh/bekbolatov/kaggle/events/hd/notebooks/submission_RenatPawel_combined_features_xgboost_0408_0137.csv.gz', encoding=\"ISO-8859-1\"),\n",
    "    pd.read_csv('/Users/rbekbolatov/repos/gh/bekbolatov/kaggle/events/hd/notebooks/submission_team_superblend_0407_2233.csv', encoding=\"ISO-8859-1\")\n",
    "    ]"
   ]
  },
  {
   "cell_type": "code",
   "execution_count": 42,
   "metadata": {
    "collapsed": false
   },
   "outputs": [
    {
     "name": "stdout",
     "output_type": "stream",
     "text": [
      "1.0 0.998808213566 0.998790063565 0.996865250706 0.996211961115 0.990037516254 0.871528557498 0.866932083935 0.86422780726 0.862107536069 0.865704092878 0.861824719414 0.904871564177 0.968436582463\n",
      "0.998808213566 1.0 0.995199506855 0.994690337347 0.995173321413 0.993267501836 0.870463198542 0.86607464133 0.86300532363 0.860816725973 0.864393577731 0.860474202999 0.903515419303 0.966835550353\n",
      "0.998790063565 0.995199506855 1.0 0.99665345167 0.994856848946 0.984396302281 0.870500948682 0.86570606348 0.863376114665 0.861329799402 0.864937540223 0.861107823519 0.904056563879 0.967715086072\n",
      "0.996865250706 0.994690337347 0.99665345167 1.0 0.9913220022 0.991700309198 0.867569679321 0.863130982478 0.860124234255 0.857855859432 0.861471560748 0.857520956548 0.900034334123 0.968250734862\n",
      "0.996211961115 0.995173321413 0.994856848946 0.9913220022 1.0 0.984304520819 0.870681698503 0.866034086225 0.86345134698 0.861441065358 0.865033734879 0.861173775559 0.90373195913 0.964993293362\n",
      "0.990037516254 0.993267501836 0.984396302281 0.991700309198 0.984304520819 1.0 0.862902992051 0.859423025507 0.85478290371 0.852279305723 0.855909851754 0.851759921277 0.894670408651 0.961925264625\n",
      "0.871528557498 0.870463198542 0.870500948682 0.867569679321 0.870681698503 0.862902992051 1.0 0.983736592415 0.995767642663 0.993141294422 0.991173301865 0.992588631441 0.905940897865 0.956312974552\n",
      "0.866932083935 0.86607464133 0.86570606348 0.863130982478 0.866034086225 0.859423025507 0.983736592415 1.0 0.964112625199 0.960541568999 0.958621878689 0.959828152996 0.94484353808 0.961962654072\n",
      "0.86422780726 0.86300532363 0.863376114665 0.860124234255 0.86345134698 0.85478290371 0.995767642663 0.964112625199 1.0 0.997961108005 0.996063399156 0.997509273832 0.876050434956 0.942570703396\n",
      "0.862107536069 0.860816725973 0.861329799402 0.857855859432 0.861441065358 0.852279305723 0.993141294422 0.960541568999 0.997961108005 1.0 0.998328125509 0.999709865814 0.871732421252 0.939575787045\n",
      "0.865704092878 0.864393577731 0.864937540223 0.861471560748 0.865033734879 0.855909851754 0.991173301865 0.958621878689 0.996063399156 0.998328125509 1.0 0.998026920955 0.870774910701 0.940581479535\n",
      "0.861824719414 0.860474202999 0.861107823519 0.857520956548 0.861173775559 0.851759921277 0.992588631441 0.959828152996 0.997509273832 0.999709865814 0.998026920955 1.0 0.870872008516 0.939041450021\n",
      "0.904871564177 0.903515419303 0.904056563879 0.900034334123 0.90373195913 0.894670408651 0.905940897865 0.94484353808 0.876050434956 0.871732421252 0.870774910701 0.870872008516 1.0 0.954622216383\n",
      "0.968436582463 0.966835550353 0.967715086072 0.968250734862 0.964993293362 0.961925264625 0.956312974552 0.961962654072 0.942570703396 0.939575787045 0.940581479535 0.939041450021 0.954622216383 1.0\n",
      "5 11 0.851759921277\n"
     ]
    }
   ],
   "source": [
    "%precision 3\n",
    "bi,bj,bc = -1, -1, 1.1\n",
    "for i,e in enumerate(els):\n",
    "    a = []\n",
    "    for j,f in enumerate(els):\n",
    "        pp = pearsonr(e['relevance'], f['relevance'])[0]\n",
    "        if pp < bc:\n",
    "            bc = pp\n",
    "            bi = i\n",
    "            bj = j\n",
    "        a.append(str(pp))\n",
    "    print ' '.join(a)\n",
    "print bi,bj,bc"
   ]
  },
  {
   "cell_type": "code",
   "execution_count": 31,
   "metadata": {
    "collapsed": false
   },
   "outputs": [
    {
     "data": {
      "text/plain": [
       "(0.87152855749779023, 0.0)"
      ]
     },
     "execution_count": 31,
     "metadata": {},
     "output_type": "execute_result"
    }
   ],
   "source": [
    "pearsonr(fo1['relevance'], fo2['relevance'])  #4, #2"
   ]
  },
  {
   "cell_type": "code",
   "execution_count": null,
   "metadata": {
    "collapsed": true
   },
   "outputs": [],
   "source": []
  },
  {
   "cell_type": "code",
   "execution_count": 36,
   "metadata": {
    "collapsed": false
   },
   "outputs": [
    {
     "data": {
      "text/plain": [
       "15"
      ]
     },
     "execution_count": 36,
     "metadata": {},
     "output_type": "execute_result"
    }
   ],
   "source": [
    "(fmir.relevance > 3).sum()"
   ]
  },
  {
   "cell_type": "code",
   "execution_count": null,
   "metadata": {
    "collapsed": false
   },
   "outputs": [],
   "source": [
    "print(str((bst.best_iteration, bst.best_ntree_limit)))\n",
    "xgb.cv(param, dtrain, num_boost_round=10, nfold=2, metrics={'error'}, maximize=False, seed = 0)"
   ]
  },
  {
   "cell_type": "code",
   "execution_count": null,
   "metadata": {
    "collapsed": false
   },
   "outputs": [],
   "source": [
    "# TRAIN AS SKLEARN\n",
    "clf = xgb.XGBClassifier(**param_clf)\n",
    "#clf.get_params().keys()\n",
    "clf.fit(a, dtrain.get_label())\n",
    "by = clf.predict(b)"
   ]
  },
  {
   "cell_type": "code",
   "execution_count": 4,
   "metadata": {
    "collapsed": true
   },
   "outputs": [],
   "source": [
    "def fmean_squared_error(ground_truth, predictions):\n",
    "    fmean_squared_error_ = mean_squared_error(ground_truth, predictions)**0.5\n",
    "    return fmean_squared_error_\n",
    "\n",
    "def fmse(ground_truth, predictions):\n",
    "    return mean_squared_error(ground_truth, predictions)\n",
    "\n",
    "#RMSE  = make_scorer(fmse, greater_is_better=False)\n",
    "RMSE  = make_scorer(fmean_squared_error, greater_is_better=False)"
   ]
  },
  {
   "cell_type": "code",
   "execution_count": 16,
   "metadata": {
    "collapsed": false
   },
   "outputs": [],
   "source": [
    "# param_clf = {'max_depth':2, \n",
    "#          'learning_rate':0.5, \n",
    "#          'colsample_bytree':0.8,\n",
    "#          'subsample':0.95,\n",
    "#          'nthread':4,\n",
    "#          'n_estimators': 120\n",
    "#         }\n",
    "paramso = {'max_depth': [3], \n",
    "         'learning_rate': [0.1], \n",
    "         'colsample_bytree':[1],\n",
    "         'subsample':[1],\n",
    "         'n_estimators':[10]\n",
    "        }\n",
    "#num_round = 120"
   ]
  },
  {
   "cell_type": "code",
   "execution_count": 13,
   "metadata": {
    "collapsed": true
   },
   "outputs": [],
   "source": [
    "grid_search.GridSearchCV?"
   ]
  },
  {
   "cell_type": "code",
   "execution_count": 17,
   "metadata": {
    "collapsed": false
   },
   "outputs": [],
   "source": [
    "model = grid_search.GridSearchCV(\n",
    "    estimator = xgb.XGBClassifier(silent=False, nthread=8), #**param_clf), \n",
    "    param_grid = paramso, cv = 3, verbose = 20, scoring=RMSE)"
   ]
  },
  {
   "cell_type": "code",
   "execution_count": 18,
   "metadata": {
    "collapsed": false
   },
   "outputs": [
    {
     "name": "stdout",
     "output_type": "stream",
     "text": [
      "Fitting 3 folds for each of 1 candidates, totalling 3 fits\n",
      "[CV] n_estimators=10, subsample=1, learning_rate=0.1, colsample_bytree=1, max_depth=3 \n",
      "[CV]  n_estimators=10, subsample=1, learning_rate=0.1, colsample_bytree=1, max_depth=3, score=-0.592772 -  14.0s\n",
      "[CV] n_estimators=10, subsample=1, learning_rate=0.1, colsample_bytree=1, max_depth=3 \n",
      "[CV]  n_estimators=10, subsample=1, learning_rate=0.1, colsample_bytree=1, max_depth=3, score=-0.587334 -  14.2s"
     ]
    },
    {
     "name": "stderr",
     "output_type": "stream",
     "text": [
      "[Parallel(n_jobs=1)]: Done   1 tasks       | elapsed:   14.0s\n",
      "[Parallel(n_jobs=1)]: Done   2 tasks       | elapsed:   28.2s\n"
     ]
    },
    {
     "name": "stdout",
     "output_type": "stream",
     "text": [
      "\n",
      "[CV] n_estimators=10, subsample=1, learning_rate=0.1, colsample_bytree=1, max_depth=3 \n",
      "[CV]  n_estimators=10, subsample=1, learning_rate=0.1, colsample_bytree=1, max_depth=3, score=-0.690604 -  14.2s\n",
      "Best parameters found by grid search:\n",
      "{'n_estimators': 10, 'subsample': 1, 'learning_rate': 0.1, 'colsample_bytree': 1, 'max_depth': 3}\n",
      "Best CV score:\n",
      "-0.623570067394\n"
     ]
    },
    {
     "name": "stderr",
     "output_type": "stream",
     "text": [
      "[Parallel(n_jobs=1)]: Done   3 tasks       | elapsed:   42.4s\n",
      "[Parallel(n_jobs=1)]: Done   3 out of   3 | elapsed:   42.4s finished\n"
     ]
    }
   ],
   "source": [
    "model.fit(a, dtrain.get_label())\n",
    "\n",
    "print(\"Best parameters found by grid search:\")\n",
    "print(model.best_params_)\n",
    "print(\"Best CV score:\")\n",
    "print(model.best_score_)"
   ]
  },
  {
   "cell_type": "code",
   "execution_count": null,
   "metadata": {
    "collapsed": true
   },
   "outputs": [],
   "source": []
  }
 ],
 "metadata": {
  "kernelspec": {
   "display_name": "Python 2",
   "language": "python",
   "name": "python2"
  },
  "language_info": {
   "codemirror_mode": {
    "name": "ipython",
    "version": 2
   },
   "file_extension": ".py",
   "mimetype": "text/x-python",
   "name": "python",
   "nbconvert_exporter": "python",
   "pygments_lexer": "ipython2",
   "version": "2.7.10"
  }
 },
 "nbformat": 4,
 "nbformat_minor": 0
}
