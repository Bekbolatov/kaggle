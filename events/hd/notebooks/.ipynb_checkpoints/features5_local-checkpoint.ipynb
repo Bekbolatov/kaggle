{
 "cells": [
  {
   "cell_type": "code",
   "execution_count": 1,
   "metadata": {
    "collapsed": true
   },
   "outputs": [],
   "source": [
    "import time\n",
    "import re\n",
    "import random\n",
    "random.seed(2016)\n",
    "\n",
    "import numpy as np\n",
    "import pandas as pd\n",
    "import xgboost as xgb\n",
    "\n",
    "from sklearn import linear_model\n",
    "from sklearn.cross_validation import train_test_split\n",
    "from sklearn.ensemble import RandomForestRegressor\n",
    "from sklearn import pipeline, grid_search\n",
    "from sklearn.base import BaseEstimator, TransformerMixin\n",
    "from sklearn.pipeline import FeatureUnion\n",
    "from sklearn.decomposition import TruncatedSVD\n",
    "from sklearn.feature_extraction.text import TfidfVectorizer\n",
    "from sklearn.metrics import mean_squared_error, make_scorer"
   ]
  },
  {
   "cell_type": "code",
   "execution_count": 2,
   "metadata": {
    "collapsed": true
   },
   "outputs": [],
   "source": [
    "dtrain = xgb.DMatrix(\"train.buffer\")\n",
    "dtest = xgb.DMatrix(\"test.buffer\")\n",
    "evallist  = [(dtrain,'train')]"
   ]
  },
  {
   "cell_type": "code",
   "execution_count": 3,
   "metadata": {
    "collapsed": true
   },
   "outputs": [],
   "source": [
    "loc = '%s'\n",
    "#loc = '/home/ec2-user/data/hd/features/%s'\n",
    "a_o = np.load(loc % 'train_data.npy')\n",
    "b_o = np.load(loc % 'test_data.npy')\n",
    "a_brand = np.load(loc % 'features_brand_01_train.npy')\n",
    "b_brand = np.load(loc % 'features_brand_01_test.npy')\n",
    "a_other = np.load(loc % 'FEATURES_1d_TRAIN.npy')\n",
    "b_other = np.load(loc % 'FEATURES_1d_TEST.npy')\n",
    "a_word_feat = np.load(loc % 'SPECIAL_WORDS_FEAT_TRAIN.npy')\n",
    "b_word_feat = np.load(loc % 'SPECIAL_WORDS_FEAT_TEST.npy')\n",
    "\n",
    "a_w2vdot = pd.read_pickle(loc % 'W2V_dots_train.df').drop('relevance', axis=1).values\n",
    "b_w2vdot = pd.read_pickle(loc % 'W2V_dots_test.df').drop('relevance', axis=1).values\n",
    "\n",
    "a_w2vdist = np.load(loc % 'W2V_dists_train.npz')['arr_0']\n",
    "b_w2vdist = np.load(loc % 'W2V_dists_test.npz')['arr_0']\n",
    "\n",
    "a_w2v_el = np.load(loc % 'W2V_vecs_train.npz')['arr_0']\n",
    "b_w2v_el = np.load(loc % 'W2V_vecs_test.npz')['arr_0']"
   ]
  },
  {
   "cell_type": "code",
   "execution_count": 34,
   "metadata": {
    "collapsed": false
   },
   "outputs": [
    {
     "data": {
      "text/plain": [
       "((74067, 73),\n",
       " (74067, 5),\n",
       " (74067, 111),\n",
       " (74067, 79),\n",
       " (74067, 6),\n",
       " (74067, 2),\n",
       " (74067, 2),\n",
       " (74067, 900))"
      ]
     },
     "execution_count": 34,
     "metadata": {},
     "output_type": "execute_result"
    }
   ],
   "source": [
    "a_o.shape, a_brand.shape, a_other.shape, a_word_feat.shape, aa.shape, a_w2vdot.shape, a_w2vdist.shape, a_w2v_el.shape  # 73 #5  #111 #79 #6 #2 #2 #900"
   ]
  },
  {
   "cell_type": "code",
   "execution_count": 28,
   "metadata": {
    "collapsed": false
   },
   "outputs": [
    {
     "data": {
      "text/plain": [
       "((74067, 5), (74067, 111))"
      ]
     },
     "execution_count": 28,
     "metadata": {},
     "output_type": "execute_result"
    }
   ],
   "source": [
    "73 - basic features, counts, ratios\n",
    "5 - brand-related\n",
    "111 - variations of above, with completely different typo cleaning\n",
    "79 - special words in query, title or description that seemed to correlate with difference in relevance\n",
    "6 - (dangerous - best removed to avoid leak) depends on split, tries to extract information from \n",
    "similar words - counts word co-occurences between query and title/description (a bit like simplified ALS)\n",
    "2 - dot product between word2vec of query and title/descr\n",
    "2 - Euclidean distance between word2vec of query and title/descr\n",
    "900 - full averaged word2vec vectors for query, title, desc"
   ]
  },
  {
   "cell_type": "code",
   "execution_count": 63,
   "metadata": {
    "collapsed": true
   },
   "outputs": [],
   "source": [
    "# LOCAL CV\n",
    "aaa = pd.read_pickle(loc % 'WOQTAL_TRAIN_147')\n",
    "bbb = pd.read_pickle(loc % 'WOQTAL_TEST_147')\n",
    "aa = aaa.drop('relevance', axis=1).values\n",
    "bb = bbb.drop('relevance', axis=1).values\n",
    "#aa = aaa.drop('relevance', axis=1).values #[:,[0,3]]\n",
    "#bb = bbb.drop('relevance', axis=1).values #[:,[0,3]]\n",
    "\n",
    "#a = np.hstack((a_o, a_brand, a_other, a_word_feat, a_w2vdot, a_w2vdist, a_w2v_el[:,:700]))\n",
    "#b = np.hstack((b_o, b_brand, b_other, b_word_feat, b_w2vdot, b_w2vdist, b_w2v_el[:,:700]))"
   ]
  },
  {
   "cell_type": "code",
   "execution_count": 67,
   "metadata": {
    "collapsed": false
   },
   "outputs": [],
   "source": [
    "#a = np.hstack((a_o, a_brand, a_other, a_word_feat, aa, a_w2vdot, a_w2vdist, a_w2v_el))\n",
    "#b = np.hstack((b_o, b_brand, b_other, b_word_feat, bb, b_w2vdot, b_w2vdist, b_w2v_el))\n",
    "a = np.hstack((a_o, a_brand, a_other, a_word_feat, aa, a_w2vdot, a_w2vdist, a_w2v_el[:,:700]))\n",
    "b = np.hstack((b_o, b_brand, b_other, b_word_feat, bb, b_w2vdot, b_w2vdist, b_w2v_el[:,:700]))"
   ]
  },
  {
   "cell_type": "code",
   "execution_count": 5,
   "metadata": {
    "collapsed": true
   },
   "outputs": [],
   "source": [
    "#FINAL GENERATE\n",
    "aaa = pd.read_pickle(loc % 'WOQTAL_TRAIN_ALL')\n",
    "bbb = pd.read_pickle(loc % 'WOQTAL_TEST_ALL')\n",
    "aa = aaa.drop('relevance', axis=1).values\n",
    "bb = bbb.drop('relevance', axis=1).values\n",
    "\n",
    "a_full = np.hstack((a_o, a_brand, a_other, a_word_feat, aa, a_w2vdot, a_w2vdist, a_w2v_el[:,:700]))\n",
    "b_full = np.hstack((b_o, b_brand, b_other, b_word_feat, bb, b_w2vdot, b_w2vdist, b_w2v_el[:,:700]))"
   ]
  },
  {
   "cell_type": "markdown",
   "metadata": {},
   "source": [
    "### DATA SETS READY"
   ]
  },
  {
   "cell_type": "code",
   "execution_count": 9,
   "metadata": {
    "collapsed": false
   },
   "outputs": [],
   "source": [
    "a_full = np.hstack((a_o, a_brand, a_other, a_word_feat, aa, a_w2vdot, a_w2vdist))  #, a_w2v_el))\n",
    "b_full = np.hstack((b_o, b_brand, b_other, b_word_feat, bb, b_w2vdot, b_w2vdist))  #, b_w2v_el))\n",
    "\n",
    "\n",
    "a_f = pd.DataFrame(a_full)\n",
    "b_f = pd.DataFrame(b_full)\n",
    "a_f[0] = a_f[0].astype(int)\n",
    "b_f[0] = b_f[0].astype(int)\n",
    "a_f.to_csv('ALL_SET_TRAIN.csv', index=False)\n",
    "b_f.to_csv('ALL_SET_TEST.csv', index=False)"
   ]
  },
  {
   "cell_type": "code",
   "execution_count": 21,
   "metadata": {
    "collapsed": true
   },
   "outputs": [],
   "source": [
    "a_w2v = pd.DataFrame(a_w2v_el)\n",
    "b_w2v = pd.DataFrame(b_w2v_el)\n",
    "a_w2v.to_csv('W2V_TRAIN.csv', index=False)\n",
    "b_w2v.to_csv('W2V_TEST.csv', index=False)"
   ]
  },
  {
   "cell_type": "code",
   "execution_count": 18,
   "metadata": {
    "collapsed": false
   },
   "outputs": [
    {
     "data": {
      "text/html": [
       "<div>\n",
       "<table border=\"1\" class=\"dataframe\">\n",
       "  <thead>\n",
       "    <tr style=\"text-align: right;\">\n",
       "      <th></th>\n",
       "      <th>0</th>\n",
       "      <th>1</th>\n",
       "      <th>2</th>\n",
       "      <th>3</th>\n",
       "      <th>4</th>\n",
       "      <th>5</th>\n",
       "      <th>6</th>\n",
       "      <th>7</th>\n",
       "      <th>8</th>\n",
       "      <th>9</th>\n",
       "      <th>...</th>\n",
       "      <th>268</th>\n",
       "      <th>269</th>\n",
       "      <th>270</th>\n",
       "      <th>271</th>\n",
       "      <th>272</th>\n",
       "      <th>273</th>\n",
       "      <th>274</th>\n",
       "      <th>275</th>\n",
       "      <th>276</th>\n",
       "      <th>277</th>\n",
       "    </tr>\n",
       "  </thead>\n",
       "  <tbody>\n",
       "    <tr>\n",
       "      <th>0</th>\n",
       "      <td>100001</td>\n",
       "      <td>15.0</td>\n",
       "      <td>2.0</td>\n",
       "      <td>6.0</td>\n",
       "      <td>114.0</td>\n",
       "      <td>3.0</td>\n",
       "      <td>13.0</td>\n",
       "      <td>33.0</td>\n",
       "      <td>735.0</td>\n",
       "      <td>18.0</td>\n",
       "      <td>...</td>\n",
       "      <td>0.054131</td>\n",
       "      <td>0.125449</td>\n",
       "      <td>0.011767</td>\n",
       "      <td>0.033680</td>\n",
       "      <td>0.080144</td>\n",
       "      <td>0.007433</td>\n",
       "      <td>0.191196</td>\n",
       "      <td>0.102050</td>\n",
       "      <td>0.674364</td>\n",
       "      <td>0.705499</td>\n",
       "    </tr>\n",
       "    <tr>\n",
       "      <th>1</th>\n",
       "      <td>100001</td>\n",
       "      <td>15.0</td>\n",
       "      <td>2.0</td>\n",
       "      <td>6.0</td>\n",
       "      <td>114.0</td>\n",
       "      <td>3.0</td>\n",
       "      <td>9.0</td>\n",
       "      <td>33.0</td>\n",
       "      <td>735.0</td>\n",
       "      <td>18.0</td>\n",
       "      <td>...</td>\n",
       "      <td>0.021381</td>\n",
       "      <td>0.049135</td>\n",
       "      <td>0.004744</td>\n",
       "      <td>0.013155</td>\n",
       "      <td>0.033743</td>\n",
       "      <td>0.003450</td>\n",
       "      <td>0.085514</td>\n",
       "      <td>0.057396</td>\n",
       "      <td>0.789099</td>\n",
       "      <td>0.737283</td>\n",
       "    </tr>\n",
       "    <tr>\n",
       "      <th>2</th>\n",
       "      <td>100002</td>\n",
       "      <td>35.0</td>\n",
       "      <td>1.0</td>\n",
       "      <td>12.0</td>\n",
       "      <td>132.0</td>\n",
       "      <td>4.0</td>\n",
       "      <td>4.0</td>\n",
       "      <td>69.0</td>\n",
       "      <td>899.0</td>\n",
       "      <td>26.0</td>\n",
       "      <td>...</td>\n",
       "      <td>0.116491</td>\n",
       "      <td>0.242626</td>\n",
       "      <td>0.012138</td>\n",
       "      <td>0.099150</td>\n",
       "      <td>0.140567</td>\n",
       "      <td>0.007178</td>\n",
       "      <td>0.181708</td>\n",
       "      <td>0.105738</td>\n",
       "      <td>0.600032</td>\n",
       "      <td>0.647243</td>\n",
       "    </tr>\n",
       "    <tr>\n",
       "      <th>3</th>\n",
       "      <td>100005</td>\n",
       "      <td>25.0</td>\n",
       "      <td>3.0</td>\n",
       "      <td>13.0</td>\n",
       "      <td>81.0</td>\n",
       "      <td>1.0</td>\n",
       "      <td>16.0</td>\n",
       "      <td>73.0</td>\n",
       "      <td>556.0</td>\n",
       "      <td>5.0</td>\n",
       "      <td>...</td>\n",
       "      <td>0.101627</td>\n",
       "      <td>0.268942</td>\n",
       "      <td>0.010798</td>\n",
       "      <td>0.081595</td>\n",
       "      <td>0.223461</td>\n",
       "      <td>0.013319</td>\n",
       "      <td>0.113482</td>\n",
       "      <td>0.081475</td>\n",
       "      <td>0.640591</td>\n",
       "      <td>0.617270</td>\n",
       "    </tr>\n",
       "    <tr>\n",
       "      <th>4</th>\n",
       "      <td>100005</td>\n",
       "      <td>25.0</td>\n",
       "      <td>3.0</td>\n",
       "      <td>13.0</td>\n",
       "      <td>81.0</td>\n",
       "      <td>1.0</td>\n",
       "      <td>18.0</td>\n",
       "      <td>73.0</td>\n",
       "      <td>556.0</td>\n",
       "      <td>5.0</td>\n",
       "      <td>...</td>\n",
       "      <td>0.159027</td>\n",
       "      <td>0.470770</td>\n",
       "      <td>0.034597</td>\n",
       "      <td>0.126119</td>\n",
       "      <td>0.330612</td>\n",
       "      <td>0.021413</td>\n",
       "      <td>0.224769</td>\n",
       "      <td>0.141606</td>\n",
       "      <td>0.472173</td>\n",
       "      <td>0.543989</td>\n",
       "    </tr>\n",
       "  </tbody>\n",
       "</table>\n",
       "<p>5 rows × 278 columns</p>\n",
       "</div>"
      ],
      "text/plain": [
       "      0     1    2     3      4    5     6     7      8     9      ...     \\\n",
       "0  100001  15.0  2.0   6.0  114.0  3.0  13.0  33.0  735.0  18.0    ...      \n",
       "1  100001  15.0  2.0   6.0  114.0  3.0   9.0  33.0  735.0  18.0    ...      \n",
       "2  100002  35.0  1.0  12.0  132.0  4.0   4.0  69.0  899.0  26.0    ...      \n",
       "3  100005  25.0  3.0  13.0   81.0  1.0  16.0  73.0  556.0   5.0    ...      \n",
       "4  100005  25.0  3.0  13.0   81.0  1.0  18.0  73.0  556.0   5.0    ...      \n",
       "\n",
       "        268       269       270       271       272       273       274  \\\n",
       "0  0.054131  0.125449  0.011767  0.033680  0.080144  0.007433  0.191196   \n",
       "1  0.021381  0.049135  0.004744  0.013155  0.033743  0.003450  0.085514   \n",
       "2  0.116491  0.242626  0.012138  0.099150  0.140567  0.007178  0.181708   \n",
       "3  0.101627  0.268942  0.010798  0.081595  0.223461  0.013319  0.113482   \n",
       "4  0.159027  0.470770  0.034597  0.126119  0.330612  0.021413  0.224769   \n",
       "\n",
       "        275       276       277  \n",
       "0  0.102050  0.674364  0.705499  \n",
       "1  0.057396  0.789099  0.737283  \n",
       "2  0.105738  0.600032  0.647243  \n",
       "3  0.081475  0.640591  0.617270  \n",
       "4  0.141606  0.472173  0.543989  \n",
       "\n",
       "[5 rows x 278 columns]"
      ]
     },
     "execution_count": 18,
     "metadata": {},
     "output_type": "execute_result"
    }
   ],
   "source": [
    "a_f.head()"
   ]
  },
  {
   "cell_type": "code",
   "execution_count": 19,
   "metadata": {
    "collapsed": true
   },
   "outputs": [],
   "source": []
  },
  {
   "cell_type": "code",
   "execution_count": 13,
   "metadata": {
    "collapsed": true
   },
   "outputs": [],
   "source": []
  },
  {
   "cell_type": "code",
   "execution_count": 20,
   "metadata": {
    "collapsed": false
   },
   "outputs": [
    {
     "ename": "NameError",
     "evalue": "name 'queries' is not defined",
     "output_type": "error",
     "traceback": [
      "\u001b[0;31m---------------------------------------------------------------------------\u001b[0m",
      "\u001b[0;31mNameError\u001b[0m                                 Traceback (most recent call last)",
      "\u001b[0;32m<ipython-input-20-bb0eb9871099>\u001b[0m in \u001b[0;36m<module>\u001b[0;34m()\u001b[0m\n\u001b[0;32m----> 1\u001b[0;31m \u001b[0mqueries\u001b[0m\u001b[0;34m\u001b[0m\u001b[0m\n\u001b[0m",
      "\u001b[0;31mNameError\u001b[0m: name 'queries' is not defined"
     ]
    }
   ],
   "source": [
    "queries"
   ]
  },
  {
   "cell_type": "code",
   "execution_count": null,
   "metadata": {
    "collapsed": true
   },
   "outputs": [],
   "source": []
  },
  {
   "cell_type": "code",
   "execution_count": null,
   "metadata": {
    "collapsed": true
   },
   "outputs": [],
   "source": [
    "pd.DataFrame(b_full).to_csv('ALL_SET_TEST.csv')"
   ]
  },
  {
   "cell_type": "code",
   "execution_count": null,
   "metadata": {
    "collapsed": false
   },
   "outputs": [],
   "source": [
    "a.shape"
   ]
  },
  {
   "cell_type": "code",
   "execution_count": 44,
   "metadata": {
    "collapsed": false
   },
   "outputs": [],
   "source": [
    "aaaa = pd.read_csv('Pawel_train_after_processing_withfeatures.csv', index_col='id').sort_index()\n",
    "bbbb = pd.read_csv('Pawel_test_after_processing_withfeatures.csv', index_col='id').sort_index()"
   ]
  },
  {
   "cell_type": "code",
   "execution_count": 69,
   "metadata": {
    "collapsed": false
   },
   "outputs": [],
   "source": [
    "aaaa.to_pickle('Pawel_train.df')\n",
    "bbbb.to_pickle('Pawel_test.df')"
   ]
  },
  {
   "cell_type": "code",
   "execution_count": 55,
   "metadata": {
    "collapsed": false
   },
   "outputs": [],
   "source": [
    "pawel_train = aaaa.drop([\"product_title\", \"search_term\", \"product_description\",\n",
    "                                               \"atr_text\", 'brand_text', 'color_text', 'material_text',\n",
    "                                               'bullet01_text', 'bullet02_text', 'bullet03_text', 'bullet04_text', 'bullet05_text', 'bullet06_text',\n",
    "                                               'bullet07_text', 'bullet08_text', 'bullet09_text', 'bullet10_text', 'bullet11_text', 'bullet12_text', \n",
    "           'relevance', \n",
    "                         #'product_uid'\n",
    "                        ], axis=1)\n",
    "pawel_test = bbbb.drop([\"product_title\", \"search_term\", \"product_description\",\n",
    "                                               \"atr_text\", 'brand_text', 'color_text', 'material_text',\n",
    "                                               'bullet01_text', 'bullet02_text', 'bullet03_text', 'bullet04_text', 'bullet05_text', 'bullet06_text',\n",
    "                                               'bullet07_text', 'bullet08_text', 'bullet09_text', 'bullet10_text', 'bullet11_text', 'bullet12_text', \n",
    "           #'product_uid'\n",
    "                       ], axis=1)"
   ]
  },
  {
   "cell_type": "code",
   "execution_count": 51,
   "metadata": {
    "collapsed": false
   },
   "outputs": [
    {
     "data": {
      "text/html": [
       "<div>\n",
       "<table border=\"1\" class=\"dataframe\">\n",
       "  <thead>\n",
       "    <tr style=\"text-align: right;\">\n",
       "      <th></th>\n",
       "      <th>title_c1grams</th>\n",
       "      <th>title_c2grams</th>\n",
       "      <th>title_c3grams</th>\n",
       "      <th>query_c1grams</th>\n",
       "      <th>query_c2grams</th>\n",
       "      <th>query_c3grams</th>\n",
       "      <th>desc_c1grams</th>\n",
       "      <th>desc_c2grams</th>\n",
       "      <th>desc_c3grams</th>\n",
       "      <th>title_cu1grams</th>\n",
       "      <th>...</th>\n",
       "      <th>prod_words_quality_mean_sd</th>\n",
       "      <th>prod_words_quality_mean_mode</th>\n",
       "      <th>prod_words_quality_mean_min</th>\n",
       "      <th>prod_words_quality_mean_max</th>\n",
       "      <th>prod_words_quality_sd_mean</th>\n",
       "      <th>prod_words_quality_sd_median</th>\n",
       "      <th>prod_words_quality_sd_mode</th>\n",
       "      <th>query_vs_title_ng1_count_weak_match_penalized</th>\n",
       "      <th>query_vs_title_ng1_ratio_q_in_t_weak_match_penalized</th>\n",
       "      <th>query_vs_title_ng1_ratio_t_in_q_weak_match_penalized</th>\n",
       "    </tr>\n",
       "    <tr>\n",
       "      <th>id</th>\n",
       "      <th></th>\n",
       "      <th></th>\n",
       "      <th></th>\n",
       "      <th></th>\n",
       "      <th></th>\n",
       "      <th></th>\n",
       "      <th></th>\n",
       "      <th></th>\n",
       "      <th></th>\n",
       "      <th></th>\n",
       "      <th></th>\n",
       "      <th></th>\n",
       "      <th></th>\n",
       "      <th></th>\n",
       "      <th></th>\n",
       "      <th></th>\n",
       "      <th></th>\n",
       "      <th></th>\n",
       "      <th></th>\n",
       "      <th></th>\n",
       "      <th></th>\n",
       "    </tr>\n",
       "  </thead>\n",
       "  <tbody>\n",
       "    <tr>\n",
       "      <th>2</th>\n",
       "      <td>6</td>\n",
       "      <td>5</td>\n",
       "      <td>4</td>\n",
       "      <td>2</td>\n",
       "      <td>1</td>\n",
       "      <td>0</td>\n",
       "      <td>118</td>\n",
       "      <td>117</td>\n",
       "      <td>116</td>\n",
       "      <td>6</td>\n",
       "      <td>...</td>\n",
       "      <td>0.550888</td>\n",
       "      <td>3.000000</td>\n",
       "      <td>1.0</td>\n",
       "      <td>3</td>\n",
       "      <td>0.018761</td>\n",
       "      <td>0.175575</td>\n",
       "      <td>0.000000</td>\n",
       "      <td>1</td>\n",
       "      <td>0.500000</td>\n",
       "      <td>0.166667</td>\n",
       "    </tr>\n",
       "    <tr>\n",
       "      <th>3</th>\n",
       "      <td>6</td>\n",
       "      <td>5</td>\n",
       "      <td>4</td>\n",
       "      <td>2</td>\n",
       "      <td>1</td>\n",
       "      <td>0</td>\n",
       "      <td>118</td>\n",
       "      <td>117</td>\n",
       "      <td>116</td>\n",
       "      <td>6</td>\n",
       "      <td>...</td>\n",
       "      <td>0.550888</td>\n",
       "      <td>3.000000</td>\n",
       "      <td>1.0</td>\n",
       "      <td>3</td>\n",
       "      <td>0.018761</td>\n",
       "      <td>0.175575</td>\n",
       "      <td>0.000000</td>\n",
       "      <td>0</td>\n",
       "      <td>0.000000</td>\n",
       "      <td>0.000000</td>\n",
       "    </tr>\n",
       "    <tr>\n",
       "      <th>9</th>\n",
       "      <td>13</td>\n",
       "      <td>12</td>\n",
       "      <td>11</td>\n",
       "      <td>2</td>\n",
       "      <td>1</td>\n",
       "      <td>0</td>\n",
       "      <td>145</td>\n",
       "      <td>144</td>\n",
       "      <td>143</td>\n",
       "      <td>13</td>\n",
       "      <td>...</td>\n",
       "      <td>0.522963</td>\n",
       "      <td>2.768462</td>\n",
       "      <td>1.0</td>\n",
       "      <td>3</td>\n",
       "      <td>0.043129</td>\n",
       "      <td>0.094299</td>\n",
       "      <td>0.317224</td>\n",
       "      <td>2</td>\n",
       "      <td>1.000000</td>\n",
       "      <td>0.153846</td>\n",
       "    </tr>\n",
       "    <tr>\n",
       "      <th>16</th>\n",
       "      <td>13</td>\n",
       "      <td>12</td>\n",
       "      <td>11</td>\n",
       "      <td>3</td>\n",
       "      <td>2</td>\n",
       "      <td>1</td>\n",
       "      <td>93</td>\n",
       "      <td>92</td>\n",
       "      <td>91</td>\n",
       "      <td>13</td>\n",
       "      <td>...</td>\n",
       "      <td>0.516649</td>\n",
       "      <td>2.948462</td>\n",
       "      <td>1.0</td>\n",
       "      <td>3</td>\n",
       "      <td>0.043115</td>\n",
       "      <td>0.149100</td>\n",
       "      <td>0.185825</td>\n",
       "      <td>1</td>\n",
       "      <td>0.333333</td>\n",
       "      <td>0.076923</td>\n",
       "    </tr>\n",
       "    <tr>\n",
       "      <th>17</th>\n",
       "      <td>13</td>\n",
       "      <td>12</td>\n",
       "      <td>11</td>\n",
       "      <td>3</td>\n",
       "      <td>2</td>\n",
       "      <td>1</td>\n",
       "      <td>93</td>\n",
       "      <td>92</td>\n",
       "      <td>91</td>\n",
       "      <td>13</td>\n",
       "      <td>...</td>\n",
       "      <td>0.516649</td>\n",
       "      <td>2.948462</td>\n",
       "      <td>1.0</td>\n",
       "      <td>3</td>\n",
       "      <td>0.043115</td>\n",
       "      <td>0.149100</td>\n",
       "      <td>0.185825</td>\n",
       "      <td>3</td>\n",
       "      <td>1.000000</td>\n",
       "      <td>0.230769</td>\n",
       "    </tr>\n",
       "  </tbody>\n",
       "</table>\n",
       "<p>5 rows × 265 columns</p>\n",
       "</div>"
      ],
      "text/plain": [
       "    title_c1grams  title_c2grams  title_c3grams  query_c1grams  query_c2grams  \\\n",
       "id                                                                              \n",
       "2               6              5              4              2              1   \n",
       "3               6              5              4              2              1   \n",
       "9              13             12             11              2              1   \n",
       "16             13             12             11              3              2   \n",
       "17             13             12             11              3              2   \n",
       "\n",
       "    query_c3grams  desc_c1grams  desc_c2grams  desc_c3grams  title_cu1grams  \\\n",
       "id                                                                            \n",
       "2               0           118           117           116               6   \n",
       "3               0           118           117           116               6   \n",
       "9               0           145           144           143              13   \n",
       "16              1            93            92            91              13   \n",
       "17              1            93            92            91              13   \n",
       "\n",
       "                            ...                           \\\n",
       "id                          ...                            \n",
       "2                           ...                            \n",
       "3                           ...                            \n",
       "9                           ...                            \n",
       "16                          ...                            \n",
       "17                          ...                            \n",
       "\n",
       "    prod_words_quality_mean_sd  prod_words_quality_mean_mode  \\\n",
       "id                                                             \n",
       "2                     0.550888                      3.000000   \n",
       "3                     0.550888                      3.000000   \n",
       "9                     0.522963                      2.768462   \n",
       "16                    0.516649                      2.948462   \n",
       "17                    0.516649                      2.948462   \n",
       "\n",
       "    prod_words_quality_mean_min  prod_words_quality_mean_max  \\\n",
       "id                                                             \n",
       "2                           1.0                            3   \n",
       "3                           1.0                            3   \n",
       "9                           1.0                            3   \n",
       "16                          1.0                            3   \n",
       "17                          1.0                            3   \n",
       "\n",
       "    prod_words_quality_sd_mean  prod_words_quality_sd_median  \\\n",
       "id                                                             \n",
       "2                     0.018761                      0.175575   \n",
       "3                     0.018761                      0.175575   \n",
       "9                     0.043129                      0.094299   \n",
       "16                    0.043115                      0.149100   \n",
       "17                    0.043115                      0.149100   \n",
       "\n",
       "    prod_words_quality_sd_mode  query_vs_title_ng1_count_weak_match_penalized  \\\n",
       "id                                                                              \n",
       "2                     0.000000                                              1   \n",
       "3                     0.000000                                              0   \n",
       "9                     0.317224                                              2   \n",
       "16                    0.185825                                              1   \n",
       "17                    0.185825                                              3   \n",
       "\n",
       "    query_vs_title_ng1_ratio_q_in_t_weak_match_penalized  \\\n",
       "id                                                         \n",
       "2                                            0.500000      \n",
       "3                                            0.000000      \n",
       "9                                            1.000000      \n",
       "16                                           0.333333      \n",
       "17                                           1.000000      \n",
       "\n",
       "    query_vs_title_ng1_ratio_t_in_q_weak_match_penalized  \n",
       "id                                                        \n",
       "2                                            0.166667     \n",
       "3                                            0.000000     \n",
       "9                                            0.153846     \n",
       "16                                           0.076923     \n",
       "17                                           0.230769     \n",
       "\n",
       "[5 rows x 265 columns]"
      ]
     },
     "execution_count": 51,
     "metadata": {},
     "output_type": "execute_result"
    }
   ],
   "source": [
    "pawel_train.head()"
   ]
  },
  {
   "cell_type": "code",
   "execution_count": 64,
   "metadata": {
    "collapsed": true
   },
   "outputs": [],
   "source": [
    "X_train, X_test, y_train, y_test = train_test_split(np.hstack([pawel_train.values,a]), dtrain.get_label(), test_size=0.20, random_state=147) # 0.20, 147\n",
    "gX_train = xgb.DMatrix(data=X_train, label=y_train)\n",
    "gX_test = xgb.DMatrix(data=X_test, label=y_test)\n",
    "evallist  = [(gX_train,'train'),(gX_test,'test')]"
   ]
  },
  {
   "cell_type": "code",
   "execution_count": 65,
   "metadata": {
    "collapsed": false
   },
   "outputs": [
    {
     "data": {
      "text/plain": [
       "(59253, 1238)"
      ]
     },
     "execution_count": 65,
     "metadata": {},
     "output_type": "execute_result"
    }
   ],
   "source": [
    "X_train.shape"
   ]
  },
  {
   "cell_type": "code",
   "execution_count": 53,
   "metadata": {
    "collapsed": true
   },
   "outputs": [],
   "source": [
    "def fmean_squared_error(ground_truth, predictions):\n",
    "    fmean_squared_error_ = mean_squared_error(ground_truth, predictions)**0.5\n",
    "    return fmean_squared_error_"
   ]
  },
  {
   "cell_type": "code",
   "execution_count": null,
   "metadata": {
    "collapsed": true
   },
   "outputs": [],
   "source": [
    "X_train, X_test, y_train, y_test = train_test_split(a, dtrain.get_label(), test_size=0.20, random_state=147) # 0.20, 147\n",
    "gX_train = xgb.DMatrix(data=X_train, label=y_train)\n",
    "gX_test = xgb.DMatrix(data=X_test, label=y_test)\n",
    "evallist  = [(gX_train,'train'),(gX_test,'test')]"
   ]
  },
  {
   "cell_type": "code",
   "execution_count": 66,
   "metadata": {
    "collapsed": false
   },
   "outputs": [
    {
     "data": {
      "text/plain": [
       "0.45119164064833123"
      ]
     },
     "execution_count": 66,
     "metadata": {},
     "output_type": "execute_result"
    }
   ],
   "source": [
    "#clf = linear_model.LinearRegression(n_jobs=8)\n",
    "#clf = linear_model.Lasso(alpha=0.01)\n",
    "clf = linear_model.Ridge (alpha = 0.6)\n",
    "clf.fit(X_train, y_train)\n",
    "y_hat = clf.predict(X_test)\n",
    "y_hat = np.minimum(np.maximum(y_hat, 1.0), 3.0)\n",
    "fmean_squared_error(y_hat, y_test)"
   ]
  },
  {
   "cell_type": "markdown",
   "metadata": {},
   "source": [
    "### Checked LR"
   ]
  },
  {
   "cell_type": "code",
   "execution_count": null,
   "metadata": {
    "collapsed": false
   },
   "outputs": [],
   "source": [
    "def next_num_round():\n",
    "    return np.random.randint(750, 950)\n",
    "\n",
    "num_round = 5000\n",
    "\n",
    "# TRAIN AS SELF\n",
    "param = {'max_depth':9, \n",
    "         'eta':0.1, # 'objective':'reg:linear',\n",
    "         'eval_metric':'rmse', #'maximize': False,\n",
    "         'colsample_bytree':0.3,\n",
    "         'subsample':0.9,\n",
    "         'nthread':8,\n",
    "         'silent': True\n",
    "        }\n",
    "# GOOD <<\n",
    "param = {'max_depth':7, \n",
    "         'eta':0.03, # 'objective':'reg:linear',\n",
    "         'eval_metric':'rmse', #'maximize': False,\n",
    "         'colsample_bytree':0.7, #7\n",
    "         'subsample':0.9,  #8\n",
    "         'min_child_weight': 4.0,\n",
    "         'nthread':32,\n",
    "         'silent': True\n",
    "        }\n",
    "param = {'max_depth':9, \n",
    "     'eta':0.01, # 'objective':'reg:linear',\n",
    "     'eval_metric':'rmse', #'maximize': False,\n",
    "     'colsample_bytree':0.7, #7\n",
    "     'subsample':0.9,  #8\n",
    "     'min_child_weight': 4.0,\n",
    "     'nthread':32,\n",
    "     'silent': True\n",
    "    }\n",
    "param = {'max_depth':7, \n",
    "     'eta':0.01, # 'objective':'reg:linear',\n",
    "     'eval_metric':'rmse', #'maximize': False,\n",
    "     'colsample_bytree':0.6, #7\n",
    "     'subsample':0.8,  #8\n",
    "     'min_child_weight': 8.0,\n",
    "     'nthread':32,\n",
    "     'silent': True,\n",
    "     'seed': 37\n",
    "    }\n",
    "\n",
    "bst = xgb.train( param, gX_train, num_round, [(gX_train,'train'),(gX_test,'test')], early_stopping_rounds=25, verbose_eval=10)\n",
    "#bst = xgb.train( param, gX_train, num_round, [(gX_train,'train'),(gX_test,'test')], verbose_eval=10)"
   ]
  },
  {
   "cell_type": "code",
   "execution_count": null,
   "metadata": {
    "collapsed": true
   },
   "outputs": [],
   "source": [
    "# 700x trees  -  cv: 0.4377 (seed 147)\n",
    "param = {'max_depth':9, \n",
    "         'eta':0.01, # 'objective':'reg:linear',\n",
    "         'eval_metric':'rmse', #'maximize': False,\n",
    "         'colsample_bytree':0.3, #0.8 #7  0.4449\n",
    "         'subsample':0.8, #0.9,  #8\n",
    "         'min_child_weight': 4.0,\n",
    "         'nthread':32,\n",
    "         'silent': True\n",
    "        }  \n",
    "num_round = 5000\n",
    "bst = xgb.train( param, gX_train, num_round, [(gX_train,'train'),(gX_test,'test')], early_stopping_rounds=30, verbose_eval=10)"
   ]
  },
  {
   "cell_type": "code",
   "execution_count": null,
   "metadata": {
    "collapsed": true
   },
   "outputs": [],
   "source": [
    "ggX_train = xgb.DMatrix(data=a_full, label=dtrain.get_label())\n",
    "ggX_test = xgb.DMatrix(data=b_full)\n",
    "\n",
    "num_round = 1600\n",
    "bst = xgb.train( param, ggX_train, num_round, [(gX_test,'test')], verbose_eval=50)\n",
    "\n",
    "idx_train = pd.read_pickle(loc % 'LABELS_TRAIN.df')\n",
    "idx_test = pd.read_pickle(loc % 'LABELS_TEST.df')\n",
    "\n",
    "y_pred = bst.predict(ggX_test)\n",
    "y_pred_bounded = np.minimum(np.maximum(y_pred, 1.0), 3.0)\n",
    "idx_test['relevance'] = y_pred_bounded\n",
    "idx_test.to_csv('submission_RenatPawel_combined_features_xgboost_0408_0144.csv')"
   ]
  },
  {
   "cell_type": "code",
   "execution_count": null,
   "metadata": {
    "collapsed": true
   },
   "outputs": [],
   "source": [
    "!gzip submission_xgboost_words_0405_1646.csv"
   ]
  },
  {
   "cell_type": "code",
   "execution_count": null,
   "metadata": {
    "collapsed": true
   },
   "outputs": [],
   "source": [
    "# 1500 trees \n",
    "param = {'max_depth':9, \n",
    "         'eta':0.01, # 'objective':'reg:linear',\n",
    "         'eval_metric':'rmse', #'maximize': False,\n",
    "         'colsample_bytree':0.8, #0.8 #7  0.4449\n",
    "         'subsample':0.9, #0.9,  #8\n",
    "         'min_child_weight': 4.0,\n",
    "         'nthread':32,\n",
    "         'silent': True\n",
    "        }  \n",
    "num_round = 5000\n",
    "bst = xgb.train( param, gX_train, num_round, [(gX_train,'train'),(gX_test,'test')], early_stopping_rounds=15, verbose_eval=10)\n",
    "\n",
    "with 0.30 and 1479\n",
    "cv:  0.4493"
   ]
  },
  {
   "cell_type": "code",
   "execution_count": null,
   "metadata": {
    "collapsed": true
   },
   "outputs": [],
   "source": []
  }
 ],
 "metadata": {
  "kernelspec": {
   "display_name": "Python 2",
   "language": "python",
   "name": "python2"
  },
  "language_info": {
   "codemirror_mode": {
    "name": "ipython",
    "version": 2
   },
   "file_extension": ".py",
   "mimetype": "text/x-python",
   "name": "python",
   "nbconvert_exporter": "python",
   "pygments_lexer": "ipython2",
   "version": "2.7.10"
  }
 },
 "nbformat": 4,
 "nbformat_minor": 0
}
