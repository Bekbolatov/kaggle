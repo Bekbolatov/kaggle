{
 "cells": [
  {
   "cell_type": "code",
   "execution_count": 1,
   "metadata": {
    "collapsed": true
   },
   "outputs": [],
   "source": [
    "import time\n",
    "import re\n",
    "import random\n",
    "random.seed(2016)\n",
    "\n",
    "import numpy as np\n",
    "import pandas as pd\n",
    "import xgboost as xgb\n",
    "\n",
    "from sklearn import linear_model\n",
    "from sklearn.cross_validation import train_test_split\n",
    "from sklearn.ensemble import RandomForestRegressor\n",
    "from sklearn import pipeline, grid_search\n",
    "from sklearn.base import BaseEstimator, TransformerMixin\n",
    "from sklearn.pipeline import FeatureUnion\n",
    "from sklearn.decomposition import TruncatedSVD\n",
    "from sklearn.feature_extraction.text import TfidfVectorizer\n",
    "from sklearn.metrics import mean_squared_error, make_scorer"
   ]
  },
  {
   "cell_type": "code",
   "execution_count": 2,
   "metadata": {
    "collapsed": true
   },
   "outputs": [],
   "source": [
    "dtrain = xgb.DMatrix(\"train.buffer\")\n",
    "dtest = xgb.DMatrix(\"test.buffer\")\n",
    "evallist  = [(dtrain,'train')]"
   ]
  },
  {
   "cell_type": "code",
   "execution_count": 3,
   "metadata": {
    "collapsed": true
   },
   "outputs": [],
   "source": [
    "loc = '%s'\n",
    "#loc = '/home/ec2-user/data/hd/features/%s'\n",
    "a_o = np.load(loc % 'train_data.npy')\n",
    "b_o = np.load(loc % 'test_data.npy')\n",
    "a_brand = np.load(loc % 'features_brand_01_train.npy')\n",
    "b_brand = np.load(loc % 'features_brand_01_test.npy')\n",
    "a_other = np.load(loc % 'FEATURES_1d_TRAIN.npy')\n",
    "b_other = np.load(loc % 'FEATURES_1d_TEST.npy')\n",
    "a_word_feat = np.load(loc % 'SPECIAL_WORDS_FEAT_TRAIN.npy')\n",
    "b_word_feat = np.load(loc % 'SPECIAL_WORDS_FEAT_TEST.npy')\n",
    "\n",
    "a_w2vdot = pd.read_pickle(loc % 'W2V_dots_train.df').drop('relevance', axis=1).values\n",
    "b_w2vdot = pd.read_pickle(loc % 'W2V_dots_test.df').drop('relevance', axis=1).values\n",
    "\n",
    "a_w2vdist = np.load(loc % 'W2V_dists_train.npz')['arr_0']\n",
    "b_w2vdist = np.load(loc % 'W2V_dists_test.npz')['arr_0']\n",
    "\n",
    "a_w2v_el = np.load(loc % 'W2V_vecs_train.npz')['arr_0']\n",
    "b_w2v_el = np.load(loc % 'W2V_vecs_test.npz')['arr_0']"
   ]
  },
  {
   "cell_type": "code",
   "execution_count": 23,
   "metadata": {
    "collapsed": true
   },
   "outputs": [],
   "source": [
    "# LOCAL CV\n",
    "aaa = pd.read_pickle(loc % 'WOQTAL_TRAIN_147')\n",
    "bbb = pd.read_pickle(loc % 'WOQTAL_TEST_147')\n",
    "aa = aaa.drop('relevance', axis=1).values\n",
    "bb = bbb.drop('relevance', axis=1).values\n",
    "a = np.hstack((a_o, a_brand, a_other, a_word_feat, aa, a_w2vdot, a_w2vdist, a_w2v_el[:,:700]))\n",
    "b = np.hstack((b_o, b_brand, b_other, b_word_feat, bb, b_w2vdot, b_w2vdist, b_w2v_el[:,:700]))"
   ]
  },
  {
   "cell_type": "code",
   "execution_count": 24,
   "metadata": {
    "collapsed": true
   },
   "outputs": [],
   "source": [
    "#FINAL GENERATE\n",
    "aaa = pd.read_pickle(loc % 'WOQTAL_TRAIN_ALL')\n",
    "bbb = pd.read_pickle(loc % 'WOQTAL_TEST_ALL')\n",
    "aa = aaa.drop('relevance', axis=1).values\n",
    "bb = bbb.drop('relevance', axis=1).values\n",
    "a_full = np.hstack((a_o, a_brand, a_other, a_word_feat, aa, a_w2vdot, a_w2vdist, a_w2v_el[:,:700]))\n",
    "b_full = np.hstack((b_o, b_brand, b_other, b_word_feat, bb, b_w2vdot, b_w2vdist, b_w2v_el[:,:700]))"
   ]
  },
  {
   "cell_type": "code",
   "execution_count": 14,
   "metadata": {
    "collapsed": false
   },
   "outputs": [],
   "source": [
    "# Pawel\n",
    "aaaa = pd.read_pickle(loc % 'Pawel_train.df')\n",
    "bbbb = pd.read_pickle(loc % 'Pawel_test.df')"
   ]
  },
  {
   "cell_type": "code",
   "execution_count": 20,
   "metadata": {
    "collapsed": false
   },
   "outputs": [],
   "source": [
    "pawel_train = aaaa.drop([\"product_title\", \"search_term\", \"product_description\",\n",
    "                                               \"atr_text\", 'brand_text', 'color_text', 'material_text',\n",
    "                                               'bullet01_text', 'bullet02_text', 'bullet03_text', 'bullet04_text', 'bullet05_text', 'bullet06_text',\n",
    "                                               'bullet07_text', 'bullet08_text', 'bullet09_text', 'bullet10_text', 'bullet11_text', 'bullet12_text', \n",
    "           'relevance', \n",
    "                         'product_uid'\n",
    "                        ], axis=1)\n",
    "pawel_test = bbbb.drop([\"product_title\", \"search_term\", \"product_description\",\n",
    "                                               \"atr_text\", 'brand_text', 'color_text', 'material_text',\n",
    "                                               'bullet01_text', 'bullet02_text', 'bullet03_text', 'bullet04_text', 'bullet05_text', 'bullet06_text',\n",
    "                                               'bullet07_text', 'bullet08_text', 'bullet09_text', 'bullet10_text', 'bullet11_text', 'bullet12_text', \n",
    "           'product_uid'\n",
    "                       ], axis=1)"
   ]
  },
  {
   "cell_type": "code",
   "execution_count": 25,
   "metadata": {
    "collapsed": false
   },
   "outputs": [],
   "source": [
    "a = np.hstack([pawel_train.values, a])\n",
    "b = np.hstack([pawel_test.values, b])\n",
    "\n",
    "a_full = np.hstack([pawel_train.values, a_full])\n",
    "b_full = np.hstack([pawel_test.values, b_full])"
   ]
  },
  {
   "cell_type": "code",
   "execution_count": 27,
   "metadata": {
    "collapsed": false
   },
   "outputs": [
    {
     "data": {
      "text/plain": [
       "((74067, 1243), (74067, 1243), (166693, 1243), (166693, 1243))"
      ]
     },
     "execution_count": 27,
     "metadata": {},
     "output_type": "execute_result"
    }
   ],
   "source": [
    "a.shape, a_full.shape, b.shape, b_full.shape"
   ]
  },
  {
   "cell_type": "code",
   "execution_count": 28,
   "metadata": {
    "collapsed": true
   },
   "outputs": [],
   "source": [
    "X_train, X_test, y_train, y_test = train_test_split(a, dtrain.get_label(), test_size=0.20, random_state=147) # 0.20, 147\n",
    "gX_train = xgb.DMatrix(data=X_train, label=y_train)\n",
    "gX_test = xgb.DMatrix(data=X_test, label=y_test)"
   ]
  },
  {
   "cell_type": "code",
   "execution_count": 29,
   "metadata": {
    "collapsed": false
   },
   "outputs": [],
   "source": [
    "ggX_train = xgb.DMatrix(data=a_full, label=dtrain.get_label())\n",
    "ggX_test = xgb.DMatrix(data=b_full)"
   ]
  },
  {
   "cell_type": "code",
   "execution_count": null,
   "metadata": {
    "collapsed": true
   },
   "outputs": [],
   "source": [
    "# Test with LR:\n",
    "def fmean_squared_error(ground_truth, predictions):\n",
    "    fmean_squared_error_ = mean_squared_error(ground_truth, predictions)**0.5\n",
    "    return fmean_squared_error_\n",
    "clf = linear_model.Ridge (alpha = 0.6)\n",
    "clf.fit(X_train, y_train)\n",
    "y_hat = clf.predict(X_test)\n",
    "y_hat = np.minimum(np.maximum(y_hat, 1.0), 3.0)\n",
    "fmean_squared_error(y_hat, y_test)"
   ]
  },
  {
   "cell_type": "code",
   "execution_count": null,
   "metadata": {
    "collapsed": true
   },
   "outputs": [],
   "source": []
  },
  {
   "cell_type": "code",
   "execution_count": null,
   "metadata": {
    "collapsed": true
   },
   "outputs": [],
   "source": []
  }
 ],
 "metadata": {
  "kernelspec": {
   "display_name": "Python 2",
   "language": "python",
   "name": "python2"
  },
  "language_info": {
   "codemirror_mode": {
    "name": "ipython",
    "version": 2
   },
   "file_extension": ".py",
   "mimetype": "text/x-python",
   "name": "python",
   "nbconvert_exporter": "python",
   "pygments_lexer": "ipython2",
   "version": "2.7.10"
  }
 },
 "nbformat": 4,
 "nbformat_minor": 0
}
