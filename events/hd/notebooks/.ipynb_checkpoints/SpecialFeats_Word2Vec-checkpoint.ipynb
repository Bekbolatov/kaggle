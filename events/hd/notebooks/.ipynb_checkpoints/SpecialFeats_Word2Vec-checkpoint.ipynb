{
 "cells": [
  {
   "cell_type": "code",
   "execution_count": 1,
   "metadata": {
    "collapsed": true
   },
   "outputs": [],
   "source": [
    "import numpy as np\n",
    "import pandas as pd"
   ]
  },
  {
   "cell_type": "code",
   "execution_count": 2,
   "metadata": {
    "collapsed": true
   },
   "outputs": [],
   "source": [
    "raw_wv = pd.read_pickle('WORD2VEC_ALL.df')"
   ]
  },
  {
   "cell_type": "code",
   "execution_count": 3,
   "metadata": {
    "collapsed": false
   },
   "outputs": [
    {
     "data": {
      "text/html": [
       "<div>\n",
       "<table border=\"1\" class=\"dataframe\">\n",
       "  <thead>\n",
       "    <tr style=\"text-align: right;\">\n",
       "      <th></th>\n",
       "      <th>w2v_d</th>\n",
       "      <th>w2v_q</th>\n",
       "      <th>w2v_t</th>\n",
       "    </tr>\n",
       "    <tr>\n",
       "      <th>id</th>\n",
       "      <th></th>\n",
       "      <th></th>\n",
       "      <th></th>\n",
       "    </tr>\n",
       "  </thead>\n",
       "  <tbody>\n",
       "    <tr>\n",
       "      <th>1</th>\n",
       "      <td>[-0.0134135176334, 0.0255342997106, -0.0015336...</td>\n",
       "      <td>[0.0376018844545, 0.0500394329429, -0.03152773...</td>\n",
       "      <td>[-0.00186114124954, 0.0233284708112, -0.018777...</td>\n",
       "    </tr>\n",
       "    <tr>\n",
       "      <th>2</th>\n",
       "      <td>[-0.0134135176334, 0.0255342997106, -0.0015336...</td>\n",
       "      <td>[0.0107074677944, 0.0139652146026, -0.05871850...</td>\n",
       "      <td>[-0.00186114124954, 0.0233284708112, -0.018777...</td>\n",
       "    </tr>\n",
       "    <tr>\n",
       "      <th>3</th>\n",
       "      <td>[-0.0134135176334, 0.0255342997106, -0.0015336...</td>\n",
       "      <td>[0.0127446381375, 0.0762946121395, -0.02950597...</td>\n",
       "      <td>[-0.00186114124954, 0.0233284708112, -0.018777...</td>\n",
       "    </tr>\n",
       "    <tr>\n",
       "      <th>4</th>\n",
       "      <td>[-0.0134135176334, 0.0255342997106, -0.0015336...</td>\n",
       "      <td>[-0.0200245970239, 0.0660118572414, -0.0250410...</td>\n",
       "      <td>[-0.00186114124954, 0.0233284708112, -0.018777...</td>\n",
       "    </tr>\n",
       "    <tr>\n",
       "      <th>5</th>\n",
       "      <td>[-0.0134135176334, 0.0255342997106, -0.0015336...</td>\n",
       "      <td>[0.0436171131829, 0.0350617634443, -0.00935281...</td>\n",
       "      <td>[-0.00186114124954, 0.0233284708112, -0.018777...</td>\n",
       "    </tr>\n",
       "  </tbody>\n",
       "</table>\n",
       "</div>"
      ],
      "text/plain": [
       "                                                w2v_d  \\\n",
       "id                                                      \n",
       "1   [-0.0134135176334, 0.0255342997106, -0.0015336...   \n",
       "2   [-0.0134135176334, 0.0255342997106, -0.0015336...   \n",
       "3   [-0.0134135176334, 0.0255342997106, -0.0015336...   \n",
       "4   [-0.0134135176334, 0.0255342997106, -0.0015336...   \n",
       "5   [-0.0134135176334, 0.0255342997106, -0.0015336...   \n",
       "\n",
       "                                                w2v_q  \\\n",
       "id                                                      \n",
       "1   [0.0376018844545, 0.0500394329429, -0.03152773...   \n",
       "2   [0.0107074677944, 0.0139652146026, -0.05871850...   \n",
       "3   [0.0127446381375, 0.0762946121395, -0.02950597...   \n",
       "4   [-0.0200245970239, 0.0660118572414, -0.0250410...   \n",
       "5   [0.0436171131829, 0.0350617634443, -0.00935281...   \n",
       "\n",
       "                                                w2v_t  \n",
       "id                                                     \n",
       "1   [-0.00186114124954, 0.0233284708112, -0.018777...  \n",
       "2   [-0.00186114124954, 0.0233284708112, -0.018777...  \n",
       "3   [-0.00186114124954, 0.0233284708112, -0.018777...  \n",
       "4   [-0.00186114124954, 0.0233284708112, -0.018777...  \n",
       "5   [-0.00186114124954, 0.0233284708112, -0.018777...  "
      ]
     },
     "execution_count": 3,
     "metadata": {},
     "output_type": "execute_result"
    }
   ],
   "source": [
    "raw_wv.head()"
   ]
  },
  {
   "cell_type": "code",
   "execution_count": 13,
   "metadata": {
    "collapsed": false
   },
   "outputs": [],
   "source": [
    "a = raw_wv['w2v_q'].apply(lambda x: pd.Series(x))\n",
    "a.columns = ['w2vq_' + str(x) for x in a.columns]\n",
    "\n",
    "b = raw_wv['w2v_t'].apply(lambda x: pd.Series(x))\n",
    "b.columns = ['w2vt_' + str(x) for x in b.columns]\n",
    "\n",
    "c = raw_wv['w2v_d'].apply(lambda x: pd.Series(x))\n",
    "c.columns = ['w2vd_' + str(x) for x in c.columns]\n",
    "\n",
    "combined = a.join(b).join(c)"
   ]
  },
  {
   "cell_type": "code",
   "execution_count": 10,
   "metadata": {
    "collapsed": false
   },
   "outputs": [],
   "source": [
    ".columns = ['w2vd_%03d' % x for x in a.columns]"
   ]
  },
  {
   "cell_type": "code",
   "execution_count": 16,
   "metadata": {
    "collapsed": false
   },
   "outputs": [],
   "source": [
    "combined.to_pickle('WORD2VEC.df')"
   ]
  },
  {
   "cell_type": "code",
   "execution_count": 17,
   "metadata": {
    "collapsed": false
   },
   "outputs": [
    {
     "data": {
      "text/html": [
       "<div>\n",
       "<table border=\"1\" class=\"dataframe\">\n",
       "  <thead>\n",
       "    <tr style=\"text-align: right;\">\n",
       "      <th></th>\n",
       "      <th>w2v_d</th>\n",
       "      <th>w2v_q</th>\n",
       "      <th>w2v_t</th>\n",
       "    </tr>\n",
       "    <tr>\n",
       "      <th>id</th>\n",
       "      <th></th>\n",
       "      <th></th>\n",
       "      <th></th>\n",
       "    </tr>\n",
       "  </thead>\n",
       "  <tbody>\n",
       "    <tr>\n",
       "      <th>1</th>\n",
       "      <td>[-0.0134135176334, 0.0255342997106, -0.0015336...</td>\n",
       "      <td>[0.0376018844545, 0.0500394329429, -0.03152773...</td>\n",
       "      <td>[-0.00186114124954, 0.0233284708112, -0.018777...</td>\n",
       "    </tr>\n",
       "    <tr>\n",
       "      <th>2</th>\n",
       "      <td>[-0.0134135176334, 0.0255342997106, -0.0015336...</td>\n",
       "      <td>[0.0107074677944, 0.0139652146026, -0.05871850...</td>\n",
       "      <td>[-0.00186114124954, 0.0233284708112, -0.018777...</td>\n",
       "    </tr>\n",
       "    <tr>\n",
       "      <th>3</th>\n",
       "      <td>[-0.0134135176334, 0.0255342997106, -0.0015336...</td>\n",
       "      <td>[0.0127446381375, 0.0762946121395, -0.02950597...</td>\n",
       "      <td>[-0.00186114124954, 0.0233284708112, -0.018777...</td>\n",
       "    </tr>\n",
       "    <tr>\n",
       "      <th>4</th>\n",
       "      <td>[-0.0134135176334, 0.0255342997106, -0.0015336...</td>\n",
       "      <td>[-0.0200245970239, 0.0660118572414, -0.0250410...</td>\n",
       "      <td>[-0.00186114124954, 0.0233284708112, -0.018777...</td>\n",
       "    </tr>\n",
       "    <tr>\n",
       "      <th>5</th>\n",
       "      <td>[-0.0134135176334, 0.0255342997106, -0.0015336...</td>\n",
       "      <td>[0.0436171131829, 0.0350617634443, -0.00935281...</td>\n",
       "      <td>[-0.00186114124954, 0.0233284708112, -0.018777...</td>\n",
       "    </tr>\n",
       "  </tbody>\n",
       "</table>\n",
       "</div>"
      ],
      "text/plain": [
       "                                                w2v_d  \\\n",
       "id                                                      \n",
       "1   [-0.0134135176334, 0.0255342997106, -0.0015336...   \n",
       "2   [-0.0134135176334, 0.0255342997106, -0.0015336...   \n",
       "3   [-0.0134135176334, 0.0255342997106, -0.0015336...   \n",
       "4   [-0.0134135176334, 0.0255342997106, -0.0015336...   \n",
       "5   [-0.0134135176334, 0.0255342997106, -0.0015336...   \n",
       "\n",
       "                                                w2v_q  \\\n",
       "id                                                      \n",
       "1   [0.0376018844545, 0.0500394329429, -0.03152773...   \n",
       "2   [0.0107074677944, 0.0139652146026, -0.05871850...   \n",
       "3   [0.0127446381375, 0.0762946121395, -0.02950597...   \n",
       "4   [-0.0200245970239, 0.0660118572414, -0.0250410...   \n",
       "5   [0.0436171131829, 0.0350617634443, -0.00935281...   \n",
       "\n",
       "                                                w2v_t  \n",
       "id                                                     \n",
       "1   [-0.00186114124954, 0.0233284708112, -0.018777...  \n",
       "2   [-0.00186114124954, 0.0233284708112, -0.018777...  \n",
       "3   [-0.00186114124954, 0.0233284708112, -0.018777...  \n",
       "4   [-0.00186114124954, 0.0233284708112, -0.018777...  \n",
       "5   [-0.00186114124954, 0.0233284708112, -0.018777...  "
      ]
     },
     "execution_count": 17,
     "metadata": {},
     "output_type": "execute_result"
    }
   ],
   "source": [
    "raw_wv.head()"
   ]
  },
  {
   "cell_type": "code",
   "execution_count": 21,
   "metadata": {
    "collapsed": false
   },
   "outputs": [],
   "source": [
    "def f(r):\n",
    "    return pd.Series([np.dot(r['w2v_q'], r['w2v_t']), np.dot(r['w2v_q'], r['w2v_t'])])\n",
    "\n",
    "dots = raw_wv.apply(f, axis=1)\n",
    "dots.columns = ['dots_qt', 'dotsqd']"
   ]
  },
  {
   "cell_type": "code",
   "execution_count": 23,
   "metadata": {
    "collapsed": false
   },
   "outputs": [
    {
     "data": {
      "text/html": [
       "<div>\n",
       "<table border=\"1\" class=\"dataframe\">\n",
       "  <thead>\n",
       "    <tr style=\"text-align: right;\">\n",
       "      <th></th>\n",
       "      <th>dots_qt</th>\n",
       "      <th>dotsqd</th>\n",
       "    </tr>\n",
       "    <tr>\n",
       "      <th>id</th>\n",
       "      <th></th>\n",
       "      <th></th>\n",
       "    </tr>\n",
       "  </thead>\n",
       "  <tbody>\n",
       "    <tr>\n",
       "      <th>1</th>\n",
       "      <td>0.102737</td>\n",
       "      <td>0.102737</td>\n",
       "    </tr>\n",
       "    <tr>\n",
       "      <th>2</th>\n",
       "      <td>0.191196</td>\n",
       "      <td>0.191196</td>\n",
       "    </tr>\n",
       "    <tr>\n",
       "      <th>3</th>\n",
       "      <td>0.085514</td>\n",
       "      <td>0.085514</td>\n",
       "    </tr>\n",
       "    <tr>\n",
       "      <th>4</th>\n",
       "      <td>0.078045</td>\n",
       "      <td>0.078045</td>\n",
       "    </tr>\n",
       "    <tr>\n",
       "      <th>5</th>\n",
       "      <td>0.116101</td>\n",
       "      <td>0.116101</td>\n",
       "    </tr>\n",
       "  </tbody>\n",
       "</table>\n",
       "</div>"
      ],
      "text/plain": [
       "     dots_qt    dotsqd\n",
       "id                    \n",
       "1   0.102737  0.102737\n",
       "2   0.191196  0.191196\n",
       "3   0.085514  0.085514\n",
       "4   0.078045  0.078045\n",
       "5   0.116101  0.116101"
      ]
     },
     "execution_count": 23,
     "metadata": {},
     "output_type": "execute_result"
    }
   ],
   "source": [
    "dots.head()"
   ]
  }
 ],
 "metadata": {
  "kernelspec": {
   "display_name": "Python 2",
   "language": "python",
   "name": "python2"
  },
  "language_info": {
   "codemirror_mode": {
    "name": "ipython",
    "version": 2
   },
   "file_extension": ".py",
   "mimetype": "text/x-python",
   "name": "python",
   "nbconvert_exporter": "python",
   "pygments_lexer": "ipython2",
   "version": "2.7.10"
  }
 },
 "nbformat": 4,
 "nbformat_minor": 0
}
