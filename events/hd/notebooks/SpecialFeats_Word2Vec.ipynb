{
 "cells": [
  {
   "cell_type": "code",
   "execution_count": 4,
   "metadata": {
    "collapsed": true
   },
   "outputs": [],
   "source": [
    "import numpy as np\n",
    "import pandas as pd"
   ]
  },
  {
   "cell_type": "code",
   "execution_count": 9,
   "metadata": {
    "collapsed": true
   },
   "outputs": [],
   "source": [
    "raw_wv = pd.read_pickle('WORD2VEC_ALL.df')"
   ]
  },
  {
   "cell_type": "code",
   "execution_count": 10,
   "metadata": {
    "collapsed": false
   },
   "outputs": [
    {
     "data": {
      "text/html": [
       "<div>\n",
       "<table border=\"1\" class=\"dataframe\">\n",
       "  <thead>\n",
       "    <tr style=\"text-align: right;\">\n",
       "      <th></th>\n",
       "      <th>w2v_d</th>\n",
       "      <th>w2v_q</th>\n",
       "      <th>w2v_t</th>\n",
       "    </tr>\n",
       "    <tr>\n",
       "      <th>id</th>\n",
       "      <th></th>\n",
       "      <th></th>\n",
       "      <th></th>\n",
       "    </tr>\n",
       "  </thead>\n",
       "  <tbody>\n",
       "    <tr>\n",
       "      <th>1</th>\n",
       "      <td>[-0.0134135176334, 0.0255342997106, -0.0015336...</td>\n",
       "      <td>[0.0376018844545, 0.0500394329429, -0.03152773...</td>\n",
       "      <td>[-0.00186114124954, 0.0233284708112, -0.018777...</td>\n",
       "    </tr>\n",
       "    <tr>\n",
       "      <th>2</th>\n",
       "      <td>[-0.0134135176334, 0.0255342997106, -0.0015336...</td>\n",
       "      <td>[0.0107074677944, 0.0139652146026, -0.05871850...</td>\n",
       "      <td>[-0.00186114124954, 0.0233284708112, -0.018777...</td>\n",
       "    </tr>\n",
       "    <tr>\n",
       "      <th>3</th>\n",
       "      <td>[-0.0134135176334, 0.0255342997106, -0.0015336...</td>\n",
       "      <td>[0.0127446381375, 0.0762946121395, -0.02950597...</td>\n",
       "      <td>[-0.00186114124954, 0.0233284708112, -0.018777...</td>\n",
       "    </tr>\n",
       "    <tr>\n",
       "      <th>4</th>\n",
       "      <td>[-0.0134135176334, 0.0255342997106, -0.0015336...</td>\n",
       "      <td>[-0.0200245970239, 0.0660118572414, -0.0250410...</td>\n",
       "      <td>[-0.00186114124954, 0.0233284708112, -0.018777...</td>\n",
       "    </tr>\n",
       "    <tr>\n",
       "      <th>5</th>\n",
       "      <td>[-0.0134135176334, 0.0255342997106, -0.0015336...</td>\n",
       "      <td>[0.0436171131829, 0.0350617634443, -0.00935281...</td>\n",
       "      <td>[-0.00186114124954, 0.0233284708112, -0.018777...</td>\n",
       "    </tr>\n",
       "  </tbody>\n",
       "</table>\n",
       "</div>"
      ],
      "text/plain": [
       "                                                w2v_d  \\\n",
       "id                                                      \n",
       "1   [-0.0134135176334, 0.0255342997106, -0.0015336...   \n",
       "2   [-0.0134135176334, 0.0255342997106, -0.0015336...   \n",
       "3   [-0.0134135176334, 0.0255342997106, -0.0015336...   \n",
       "4   [-0.0134135176334, 0.0255342997106, -0.0015336...   \n",
       "5   [-0.0134135176334, 0.0255342997106, -0.0015336...   \n",
       "\n",
       "                                                w2v_q  \\\n",
       "id                                                      \n",
       "1   [0.0376018844545, 0.0500394329429, -0.03152773...   \n",
       "2   [0.0107074677944, 0.0139652146026, -0.05871850...   \n",
       "3   [0.0127446381375, 0.0762946121395, -0.02950597...   \n",
       "4   [-0.0200245970239, 0.0660118572414, -0.0250410...   \n",
       "5   [0.0436171131829, 0.0350617634443, -0.00935281...   \n",
       "\n",
       "                                                w2v_t  \n",
       "id                                                     \n",
       "1   [-0.00186114124954, 0.0233284708112, -0.018777...  \n",
       "2   [-0.00186114124954, 0.0233284708112, -0.018777...  \n",
       "3   [-0.00186114124954, 0.0233284708112, -0.018777...  \n",
       "4   [-0.00186114124954, 0.0233284708112, -0.018777...  \n",
       "5   [-0.00186114124954, 0.0233284708112, -0.018777...  "
      ]
     },
     "execution_count": 10,
     "metadata": {},
     "output_type": "execute_result"
    }
   ],
   "source": [
    "raw_wv.head()"
   ]
  },
  {
   "cell_type": "code",
   "execution_count": null,
   "metadata": {
    "collapsed": false
   },
   "outputs": [],
   "source": [
    "a = raw_wv['w2v_q'].apply(lambda x: pd.Series(x))\n",
    "a.columns = ['w2vq_' + str(x) for x in a.columns]\n",
    "\n",
    "b = raw_wv['w2v_t'].apply(lambda x: pd.Series(x))\n",
    "b.columns = ['w2vt_' + str(x) for x in b.columns]\n",
    "\n",
    "c = raw_wv['w2v_d'].apply(lambda x: pd.Series(x))\n",
    "c.columns = ['w2vd_' + str(x) for x in c.columns]\n",
    "\n",
    "combined = a.join(b).join(c)"
   ]
  },
  {
   "cell_type": "code",
   "execution_count": null,
   "metadata": {
    "collapsed": false
   },
   "outputs": [],
   "source": [
    ".columns = ['w2vd_%03d' % x for x in a.columns]"
   ]
  },
  {
   "cell_type": "code",
   "execution_count": null,
   "metadata": {
    "collapsed": false
   },
   "outputs": [],
   "source": [
    "combined.to_pickle('WORD2VEC.df')"
   ]
  },
  {
   "cell_type": "code",
   "execution_count": null,
   "metadata": {
    "collapsed": false
   },
   "outputs": [],
   "source": [
    "raw_wv.head()"
   ]
  },
  {
   "cell_type": "code",
   "execution_count": null,
   "metadata": {
    "collapsed": false
   },
   "outputs": [],
   "source": [
    "def f(r):\n",
    "    return pd.Series([np.dot(r['w2v_q'], r['w2v_t']), np.dot(r['w2v_q'], r['w2v_d'])])\n",
    "\n",
    "dots = raw_wv.apply(f, axis=1)\n",
    "dots.columns = ['dots_qt', 'dotsqd']"
   ]
  },
  {
   "cell_type": "code",
   "execution_count": null,
   "metadata": {
    "collapsed": false
   },
   "outputs": [],
   "source": [
    "dots.head()"
   ]
  },
  {
   "cell_type": "code",
   "execution_count": null,
   "metadata": {
    "collapsed": true
   },
   "outputs": [],
   "source": [
    "loc = '%s'\n",
    "#loc = '/home/ec2-user/data/hd/features/%s'\n",
    "\n",
    "idx_train = pd.read_pickle(loc % 'LABELS_TRAIN.df')\n",
    "idx_test = pd.read_pickle(loc % 'LABELS_TEST.df')\n",
    "\n",
    "TRAIN = idx_train.join(dots)\n",
    "TEST = idx_test.join(dots)\n",
    "\n",
    "TRAIN.to_pickle('W2V_dots_train')\n",
    "TEST.to_pickle('W2W_dots_test')"
   ]
  },
  {
   "cell_type": "code",
   "execution_count": null,
   "metadata": {
    "collapsed": true
   },
   "outputs": [],
   "source": [
    "loc = '%s'\n",
    "#loc = '/home/ec2-user/data/hd/features/%s'\n",
    "\n",
    "idx_train = pd.read_pickle(loc % 'LABELS_TRAIN.df')\n",
    "idx_test = pd.read_pickle(loc % 'LABELS_TEST.df')\n",
    "\n",
    "TRAIN = idx_train.join(combined).drop('relevance', axis=1).values\n",
    "TEST = idx_test.join(combined).drop('relevance', axis=1).values\n",
    "\n",
    "np.savez('W2V_vecs_train', TRAIN)\n",
    "np.savez('W2W_vecs_test', TEST)\n",
    "#TRAIN.to_pickle('W2V_vecs_train')\n",
    "#TEST.to_pickle('W2W_vecs_test')"
   ]
  },
  {
   "cell_type": "code",
   "execution_count": 7,
   "metadata": {
    "collapsed": false
   },
   "outputs": [
    {
     "data": {
      "text/plain": [
       "5.0"
      ]
     },
     "execution_count": 7,
     "metadata": {},
     "output_type": "execute_result"
    }
   ],
   "source": [
    "([3,4])"
   ]
  },
  {
   "cell_type": "code",
   "execution_count": 11,
   "metadata": {
    "collapsed": false
   },
   "outputs": [],
   "source": [
    "def f(r):\n",
    "    return pd.Series([np.linalg.norm(r['w2v_q'] - r['w2v_t']), np.linalg.norm(r['w2v_q'] - r['w2v_d'])])\n",
    "\n",
    "dists = raw_wv.apply(f, axis=1)\n",
    "dists.columns = ['dists_qt', 'dists_qd']"
   ]
  },
  {
   "cell_type": "code",
   "execution_count": 12,
   "metadata": {
    "collapsed": false
   },
   "outputs": [
    {
     "data": {
      "text/html": [
       "<div>\n",
       "<table border=\"1\" class=\"dataframe\">\n",
       "  <thead>\n",
       "    <tr style=\"text-align: right;\">\n",
       "      <th></th>\n",
       "      <th>dists_qt</th>\n",
       "      <th>dists_qd</th>\n",
       "    </tr>\n",
       "    <tr>\n",
       "      <th>id</th>\n",
       "      <th></th>\n",
       "      <th></th>\n",
       "    </tr>\n",
       "  </thead>\n",
       "  <tbody>\n",
       "    <tr>\n",
       "      <th>1</th>\n",
       "      <td>1.022913</td>\n",
       "      <td>0.978872</td>\n",
       "    </tr>\n",
       "    <tr>\n",
       "      <th>2</th>\n",
       "      <td>0.674364</td>\n",
       "      <td>0.705499</td>\n",
       "    </tr>\n",
       "    <tr>\n",
       "      <th>3</th>\n",
       "      <td>0.789099</td>\n",
       "      <td>0.737283</td>\n",
       "    </tr>\n",
       "    <tr>\n",
       "      <th>4</th>\n",
       "      <td>0.698987</td>\n",
       "      <td>0.593055</td>\n",
       "    </tr>\n",
       "    <tr>\n",
       "      <th>5</th>\n",
       "      <td>0.643414</td>\n",
       "      <td>0.611968</td>\n",
       "    </tr>\n",
       "  </tbody>\n",
       "</table>\n",
       "</div>"
      ],
      "text/plain": [
       "    dists_qt  dists_qd\n",
       "id                    \n",
       "1   1.022913  0.978872\n",
       "2   0.674364  0.705499\n",
       "3   0.789099  0.737283\n",
       "4   0.698987  0.593055\n",
       "5   0.643414  0.611968"
      ]
     },
     "execution_count": 12,
     "metadata": {},
     "output_type": "execute_result"
    }
   ],
   "source": [
    "dists.head()"
   ]
  },
  {
   "cell_type": "code",
   "execution_count": 13,
   "metadata": {
    "collapsed": true
   },
   "outputs": [],
   "source": [
    "loc = '%s'\n",
    "#loc = '/home/ec2-user/data/hd/features/%s'\n",
    "\n",
    "idx_train = pd.read_pickle(loc % 'LABELS_TRAIN.df')\n",
    "idx_test = pd.read_pickle(loc % 'LABELS_TEST.df')\n",
    "\n",
    "TRAIN = idx_train.join(dists)\n",
    "TEST = idx_test.join(dists)\n",
    "\n",
    "np.savez('W2V_dists_train', TRAIN.drop('relevance', axis=1).values)\n",
    "np.savez('W2V_dists_test', TEST.drop('relevance', axis=1).values)"
   ]
  },
  {
   "cell_type": "code",
   "execution_count": 14,
   "metadata": {
    "collapsed": false,
    "scrolled": true
   },
   "outputs": [
    {
     "data": {
      "text/html": [
       "<div>\n",
       "<table border=\"1\" class=\"dataframe\">\n",
       "  <thead>\n",
       "    <tr style=\"text-align: right;\">\n",
       "      <th></th>\n",
       "      <th>relevance</th>\n",
       "      <th>dists_qt</th>\n",
       "      <th>dists_qd</th>\n",
       "    </tr>\n",
       "    <tr>\n",
       "      <th>id</th>\n",
       "      <th></th>\n",
       "      <th></th>\n",
       "      <th></th>\n",
       "    </tr>\n",
       "  </thead>\n",
       "  <tbody>\n",
       "    <tr>\n",
       "      <th>2</th>\n",
       "      <td>3.00</td>\n",
       "      <td>0.674364</td>\n",
       "      <td>0.705499</td>\n",
       "    </tr>\n",
       "    <tr>\n",
       "      <th>3</th>\n",
       "      <td>2.50</td>\n",
       "      <td>0.789099</td>\n",
       "      <td>0.737283</td>\n",
       "    </tr>\n",
       "    <tr>\n",
       "      <th>9</th>\n",
       "      <td>3.00</td>\n",
       "      <td>0.600032</td>\n",
       "      <td>0.647243</td>\n",
       "    </tr>\n",
       "    <tr>\n",
       "      <th>16</th>\n",
       "      <td>2.33</td>\n",
       "      <td>0.640591</td>\n",
       "      <td>0.617270</td>\n",
       "    </tr>\n",
       "    <tr>\n",
       "      <th>17</th>\n",
       "      <td>2.67</td>\n",
       "      <td>0.472173</td>\n",
       "      <td>0.543989</td>\n",
       "    </tr>\n",
       "    <tr>\n",
       "      <th>18</th>\n",
       "      <td>3.00</td>\n",
       "      <td>0.812223</td>\n",
       "      <td>0.931188</td>\n",
       "    </tr>\n",
       "    <tr>\n",
       "      <th>20</th>\n",
       "      <td>2.67</td>\n",
       "      <td>0.490126</td>\n",
       "      <td>0.561267</td>\n",
       "    </tr>\n",
       "    <tr>\n",
       "      <th>21</th>\n",
       "      <td>3.00</td>\n",
       "      <td>0.857421</td>\n",
       "      <td>0.910541</td>\n",
       "    </tr>\n",
       "    <tr>\n",
       "      <th>23</th>\n",
       "      <td>2.67</td>\n",
       "      <td>0.513417</td>\n",
       "      <td>0.627410</td>\n",
       "    </tr>\n",
       "    <tr>\n",
       "      <th>27</th>\n",
       "      <td>3.00</td>\n",
       "      <td>0.866857</td>\n",
       "      <td>0.938614</td>\n",
       "    </tr>\n",
       "    <tr>\n",
       "      <th>34</th>\n",
       "      <td>2.67</td>\n",
       "      <td>0.670608</td>\n",
       "      <td>0.651063</td>\n",
       "    </tr>\n",
       "    <tr>\n",
       "      <th>35</th>\n",
       "      <td>3.00</td>\n",
       "      <td>0.554760</td>\n",
       "      <td>0.619618</td>\n",
       "    </tr>\n",
       "    <tr>\n",
       "      <th>37</th>\n",
       "      <td>3.00</td>\n",
       "      <td>0.593223</td>\n",
       "      <td>0.669399</td>\n",
       "    </tr>\n",
       "    <tr>\n",
       "      <th>38</th>\n",
       "      <td>2.00</td>\n",
       "      <td>0.608047</td>\n",
       "      <td>0.682888</td>\n",
       "    </tr>\n",
       "    <tr>\n",
       "      <th>48</th>\n",
       "      <td>2.67</td>\n",
       "      <td>0.376085</td>\n",
       "      <td>0.402131</td>\n",
       "    </tr>\n",
       "    <tr>\n",
       "      <th>51</th>\n",
       "      <td>2.67</td>\n",
       "      <td>1.012271</td>\n",
       "      <td>0.996331</td>\n",
       "    </tr>\n",
       "    <tr>\n",
       "      <th>65</th>\n",
       "      <td>3.00</td>\n",
       "      <td>0.550955</td>\n",
       "      <td>0.619000</td>\n",
       "    </tr>\n",
       "    <tr>\n",
       "      <th>69</th>\n",
       "      <td>1.00</td>\n",
       "      <td>0.838191</td>\n",
       "      <td>0.743645</td>\n",
       "    </tr>\n",
       "    <tr>\n",
       "      <th>75</th>\n",
       "      <td>1.67</td>\n",
       "      <td>0.594525</td>\n",
       "      <td>0.571009</td>\n",
       "    </tr>\n",
       "    <tr>\n",
       "      <th>81</th>\n",
       "      <td>2.33</td>\n",
       "      <td>0.819437</td>\n",
       "      <td>0.767446</td>\n",
       "    </tr>\n",
       "    <tr>\n",
       "      <th>85</th>\n",
       "      <td>2.33</td>\n",
       "      <td>0.835984</td>\n",
       "      <td>0.758605</td>\n",
       "    </tr>\n",
       "    <tr>\n",
       "      <th>88</th>\n",
       "      <td>1.33</td>\n",
       "      <td>0.606674</td>\n",
       "      <td>0.571557</td>\n",
       "    </tr>\n",
       "    <tr>\n",
       "      <th>90</th>\n",
       "      <td>2.67</td>\n",
       "      <td>0.654301</td>\n",
       "      <td>0.746892</td>\n",
       "    </tr>\n",
       "    <tr>\n",
       "      <th>92</th>\n",
       "      <td>2.33</td>\n",
       "      <td>0.671018</td>\n",
       "      <td>0.751596</td>\n",
       "    </tr>\n",
       "    <tr>\n",
       "      <th>101</th>\n",
       "      <td>1.33</td>\n",
       "      <td>0.854508</td>\n",
       "      <td>0.912283</td>\n",
       "    </tr>\n",
       "    <tr>\n",
       "      <th>105</th>\n",
       "      <td>2.33</td>\n",
       "      <td>0.589223</td>\n",
       "      <td>0.538818</td>\n",
       "    </tr>\n",
       "    <tr>\n",
       "      <th>106</th>\n",
       "      <td>2.33</td>\n",
       "      <td>0.532163</td>\n",
       "      <td>0.594734</td>\n",
       "    </tr>\n",
       "    <tr>\n",
       "      <th>113</th>\n",
       "      <td>2.00</td>\n",
       "      <td>0.794537</td>\n",
       "      <td>0.711515</td>\n",
       "    </tr>\n",
       "    <tr>\n",
       "      <th>114</th>\n",
       "      <td>2.33</td>\n",
       "      <td>0.950588</td>\n",
       "      <td>0.899249</td>\n",
       "    </tr>\n",
       "    <tr>\n",
       "      <th>117</th>\n",
       "      <td>2.67</td>\n",
       "      <td>0.670275</td>\n",
       "      <td>0.628929</td>\n",
       "    </tr>\n",
       "    <tr>\n",
       "      <th>...</th>\n",
       "      <td>...</td>\n",
       "      <td>...</td>\n",
       "      <td>...</td>\n",
       "    </tr>\n",
       "    <tr>\n",
       "      <th>221398</th>\n",
       "      <td>1.67</td>\n",
       "      <td>0.418031</td>\n",
       "      <td>0.463349</td>\n",
       "    </tr>\n",
       "    <tr>\n",
       "      <th>221400</th>\n",
       "      <td>1.33</td>\n",
       "      <td>0.614659</td>\n",
       "      <td>0.557788</td>\n",
       "    </tr>\n",
       "    <tr>\n",
       "      <th>221401</th>\n",
       "      <td>2.33</td>\n",
       "      <td>0.717252</td>\n",
       "      <td>0.786389</td>\n",
       "    </tr>\n",
       "    <tr>\n",
       "      <th>221404</th>\n",
       "      <td>2.33</td>\n",
       "      <td>0.489320</td>\n",
       "      <td>0.554336</td>\n",
       "    </tr>\n",
       "    <tr>\n",
       "      <th>221405</th>\n",
       "      <td>2.67</td>\n",
       "      <td>0.455571</td>\n",
       "      <td>0.426252</td>\n",
       "    </tr>\n",
       "    <tr>\n",
       "      <th>221407</th>\n",
       "      <td>1.67</td>\n",
       "      <td>0.738206</td>\n",
       "      <td>0.684603</td>\n",
       "    </tr>\n",
       "    <tr>\n",
       "      <th>221408</th>\n",
       "      <td>3.00</td>\n",
       "      <td>0.530196</td>\n",
       "      <td>0.539030</td>\n",
       "    </tr>\n",
       "    <tr>\n",
       "      <th>221409</th>\n",
       "      <td>2.67</td>\n",
       "      <td>0.470266</td>\n",
       "      <td>0.361563</td>\n",
       "    </tr>\n",
       "    <tr>\n",
       "      <th>221411</th>\n",
       "      <td>1.33</td>\n",
       "      <td>0.615774</td>\n",
       "      <td>0.528845</td>\n",
       "    </tr>\n",
       "    <tr>\n",
       "      <th>221412</th>\n",
       "      <td>2.00</td>\n",
       "      <td>0.701788</td>\n",
       "      <td>0.762966</td>\n",
       "    </tr>\n",
       "    <tr>\n",
       "      <th>221413</th>\n",
       "      <td>1.67</td>\n",
       "      <td>0.520860</td>\n",
       "      <td>0.560927</td>\n",
       "    </tr>\n",
       "    <tr>\n",
       "      <th>221415</th>\n",
       "      <td>2.00</td>\n",
       "      <td>0.411001</td>\n",
       "      <td>0.479071</td>\n",
       "    </tr>\n",
       "    <tr>\n",
       "      <th>221416</th>\n",
       "      <td>1.00</td>\n",
       "      <td>0.558456</td>\n",
       "      <td>0.498032</td>\n",
       "    </tr>\n",
       "    <tr>\n",
       "      <th>221419</th>\n",
       "      <td>2.33</td>\n",
       "      <td>0.625165</td>\n",
       "      <td>0.723545</td>\n",
       "    </tr>\n",
       "    <tr>\n",
       "      <th>221420</th>\n",
       "      <td>2.00</td>\n",
       "      <td>0.567711</td>\n",
       "      <td>0.573492</td>\n",
       "    </tr>\n",
       "    <tr>\n",
       "      <th>221422</th>\n",
       "      <td>2.33</td>\n",
       "      <td>0.565018</td>\n",
       "      <td>0.644898</td>\n",
       "    </tr>\n",
       "    <tr>\n",
       "      <th>221423</th>\n",
       "      <td>2.33</td>\n",
       "      <td>0.461119</td>\n",
       "      <td>0.542248</td>\n",
       "    </tr>\n",
       "    <tr>\n",
       "      <th>221426</th>\n",
       "      <td>2.00</td>\n",
       "      <td>0.438270</td>\n",
       "      <td>0.544863</td>\n",
       "    </tr>\n",
       "    <tr>\n",
       "      <th>221427</th>\n",
       "      <td>1.67</td>\n",
       "      <td>0.401738</td>\n",
       "      <td>0.545306</td>\n",
       "    </tr>\n",
       "    <tr>\n",
       "      <th>221432</th>\n",
       "      <td>2.00</td>\n",
       "      <td>0.543535</td>\n",
       "      <td>0.597548</td>\n",
       "    </tr>\n",
       "    <tr>\n",
       "      <th>221434</th>\n",
       "      <td>2.67</td>\n",
       "      <td>0.664135</td>\n",
       "      <td>0.628397</td>\n",
       "    </tr>\n",
       "    <tr>\n",
       "      <th>221443</th>\n",
       "      <td>3.00</td>\n",
       "      <td>0.245816</td>\n",
       "      <td>0.426607</td>\n",
       "    </tr>\n",
       "    <tr>\n",
       "      <th>221449</th>\n",
       "      <td>3.00</td>\n",
       "      <td>0.489021</td>\n",
       "      <td>0.532024</td>\n",
       "    </tr>\n",
       "    <tr>\n",
       "      <th>221450</th>\n",
       "      <td>2.00</td>\n",
       "      <td>0.639422</td>\n",
       "      <td>0.649171</td>\n",
       "    </tr>\n",
       "    <tr>\n",
       "      <th>221455</th>\n",
       "      <td>3.00</td>\n",
       "      <td>0.454915</td>\n",
       "      <td>0.526147</td>\n",
       "    </tr>\n",
       "    <tr>\n",
       "      <th>221457</th>\n",
       "      <td>1.00</td>\n",
       "      <td>0.495647</td>\n",
       "      <td>0.560695</td>\n",
       "    </tr>\n",
       "    <tr>\n",
       "      <th>221458</th>\n",
       "      <td>3.00</td>\n",
       "      <td>0.471706</td>\n",
       "      <td>0.535594</td>\n",
       "    </tr>\n",
       "    <tr>\n",
       "      <th>221463</th>\n",
       "      <td>2.33</td>\n",
       "      <td>0.498227</td>\n",
       "      <td>0.461976</td>\n",
       "    </tr>\n",
       "    <tr>\n",
       "      <th>221471</th>\n",
       "      <td>3.00</td>\n",
       "      <td>0.527668</td>\n",
       "      <td>0.625887</td>\n",
       "    </tr>\n",
       "    <tr>\n",
       "      <th>221473</th>\n",
       "      <td>2.33</td>\n",
       "      <td>0.535045</td>\n",
       "      <td>0.514486</td>\n",
       "    </tr>\n",
       "  </tbody>\n",
       "</table>\n",
       "<p>74067 rows × 3 columns</p>\n",
       "</div>"
      ],
      "text/plain": [
       "        relevance  dists_qt  dists_qd\n",
       "id                                   \n",
       "2            3.00  0.674364  0.705499\n",
       "3            2.50  0.789099  0.737283\n",
       "9            3.00  0.600032  0.647243\n",
       "16           2.33  0.640591  0.617270\n",
       "17           2.67  0.472173  0.543989\n",
       "18           3.00  0.812223  0.931188\n",
       "20           2.67  0.490126  0.561267\n",
       "21           3.00  0.857421  0.910541\n",
       "23           2.67  0.513417  0.627410\n",
       "27           3.00  0.866857  0.938614\n",
       "34           2.67  0.670608  0.651063\n",
       "35           3.00  0.554760  0.619618\n",
       "37           3.00  0.593223  0.669399\n",
       "38           2.00  0.608047  0.682888\n",
       "48           2.67  0.376085  0.402131\n",
       "51           2.67  1.012271  0.996331\n",
       "65           3.00  0.550955  0.619000\n",
       "69           1.00  0.838191  0.743645\n",
       "75           1.67  0.594525  0.571009\n",
       "81           2.33  0.819437  0.767446\n",
       "85           2.33  0.835984  0.758605\n",
       "88           1.33  0.606674  0.571557\n",
       "90           2.67  0.654301  0.746892\n",
       "92           2.33  0.671018  0.751596\n",
       "101          1.33  0.854508  0.912283\n",
       "105          2.33  0.589223  0.538818\n",
       "106          2.33  0.532163  0.594734\n",
       "113          2.00  0.794537  0.711515\n",
       "114          2.33  0.950588  0.899249\n",
       "117          2.67  0.670275  0.628929\n",
       "...           ...       ...       ...\n",
       "221398       1.67  0.418031  0.463349\n",
       "221400       1.33  0.614659  0.557788\n",
       "221401       2.33  0.717252  0.786389\n",
       "221404       2.33  0.489320  0.554336\n",
       "221405       2.67  0.455571  0.426252\n",
       "221407       1.67  0.738206  0.684603\n",
       "221408       3.00  0.530196  0.539030\n",
       "221409       2.67  0.470266  0.361563\n",
       "221411       1.33  0.615774  0.528845\n",
       "221412       2.00  0.701788  0.762966\n",
       "221413       1.67  0.520860  0.560927\n",
       "221415       2.00  0.411001  0.479071\n",
       "221416       1.00  0.558456  0.498032\n",
       "221419       2.33  0.625165  0.723545\n",
       "221420       2.00  0.567711  0.573492\n",
       "221422       2.33  0.565018  0.644898\n",
       "221423       2.33  0.461119  0.542248\n",
       "221426       2.00  0.438270  0.544863\n",
       "221427       1.67  0.401738  0.545306\n",
       "221432       2.00  0.543535  0.597548\n",
       "221434       2.67  0.664135  0.628397\n",
       "221443       3.00  0.245816  0.426607\n",
       "221449       3.00  0.489021  0.532024\n",
       "221450       2.00  0.639422  0.649171\n",
       "221455       3.00  0.454915  0.526147\n",
       "221457       1.00  0.495647  0.560695\n",
       "221458       3.00  0.471706  0.535594\n",
       "221463       2.33  0.498227  0.461976\n",
       "221471       3.00  0.527668  0.625887\n",
       "221473       2.33  0.535045  0.514486\n",
       "\n",
       "[74067 rows x 3 columns]"
      ]
     },
     "execution_count": 14,
     "metadata": {},
     "output_type": "execute_result"
    }
   ],
   "source": [
    "TRAIN"
   ]
  },
  {
   "cell_type": "code",
   "execution_count": 16,
   "metadata": {
    "collapsed": false
   },
   "outputs": [
    {
     "data": {
      "text/plain": [
       "array([<matplotlib.axes._subplots.AxesSubplot object at 0x113394ed0>,\n",
       "       <matplotlib.axes._subplots.AxesSubplot object at 0x1134307d0>], dtype=object)"
      ]
     },
     "execution_count": 16,
     "metadata": {},
     "output_type": "execute_result"
    },
    {
     "data": {
      "image/png": "[encoded data removed]",
      "text/plain": [
       "<matplotlib.figure.Figure at 0x10d44ed90>"
      ]
     },
     "metadata": {},
     "output_type": "display_data"
    }
   ],
   "source": [
    "TRAIN.boxplot(by='relevance')"
   ]
  },
  {
   "cell_type": "code",
   "execution_count": null,
   "metadata": {
    "collapsed": false
   },
   "outputs": [],
   "source": [
    "TRAIN.head().drop('relevance', axis=1).head()"
   ]
  },
  {
   "cell_type": "code",
   "execution_count": null,
   "metadata": {
    "collapsed": false
   },
   "outputs": [],
   "source": [
    "TRAIN.head().drop('relevance', axis=1).values"
   ]
  },
  {
   "cell_type": "code",
   "execution_count": null,
   "metadata": {
    "collapsed": false
   },
   "outputs": [],
   "source": [
    "queries = pd.read_pickle('FEATURES_WITH_TEXT_1.data')\n",
    "\n",
    "queries"
   ]
  },
  {
   "cell_type": "code",
   "execution_count": 15,
   "metadata": {
    "collapsed": true
   },
   "outputs": [],
   "source": [
    "%matplotlib inline\n",
    "import matplotlib\n",
    "import matplotlib.pyplot as plt"
   ]
  },
  {
   "cell_type": "code",
   "execution_count": null,
   "metadata": {
    "collapsed": false
   },
   "outputs": [],
   "source": [
    "queries[queries.product_description.isnull()]"
   ]
  }
 ],
 "metadata": {
  "kernelspec": {
   "display_name": "Python 2",
   "language": "python",
   "name": "python2"
  },
  "language_info": {
   "codemirror_mode": {
    "name": "ipython",
    "version": 2
   },
   "file_extension": ".py",
   "mimetype": "text/x-python",
   "name": "python",
   "nbconvert_exporter": "python",
   "pygments_lexer": "ipython2",
   "version": "2.7.10"
  }
 },
 "nbformat": 4,
 "nbformat_minor": 0
}
