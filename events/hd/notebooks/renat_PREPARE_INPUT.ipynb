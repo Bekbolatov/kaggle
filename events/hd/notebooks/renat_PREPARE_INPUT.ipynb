{
 "cells": [
  {
   "cell_type": "code",
   "execution_count": 1,
   "metadata": {
    "collapsed": true
   },
   "outputs": [],
   "source": [
    "import numpy as np\n",
    "import pandas as pd\n",
    "\n",
    "#LOC = '/home/ec2-user/data/hd/unpacked/'\n",
    "LOC = '/Users/rbekbolatov/data/kaggle/homedepot/'\n",
    "data_loc = 'data/%s.df'"
   ]
  },
  {
   "cell_type": "markdown",
   "metadata": {},
   "source": [
    "### Queries/Product relevance data"
   ]
  },
  {
   "cell_type": "code",
   "execution_count": 2,
   "metadata": {
    "collapsed": false
   },
   "outputs": [],
   "source": [
    "_df_train = pd.read_csv(LOC + 'train.csv', encoding=\"ISO-8859-1\", index_col='id')\n",
    "_df_test = pd.read_csv(LOC + 'test.csv', encoding=\"ISO-8859-1\", index_col='id')\n",
    "_df_test['relevance'] = 1.0\n",
    "\n",
    "_df_train['relevance'].to_frame().to_pickle(data_loc % 'LABELS_TRAIN')\n",
    "_df_test['relevance'].to_frame().to_pickle(data_loc % 'LABELS_TEST')\n",
    "\n",
    "_df_train.drop('relevance', inplace=True, axis=1)\n",
    "_df_test.drop('relevance', inplace=True, axis=1)\n",
    "df_queries = _df_train.append(_df_test)\n",
    "\n",
    "# extract product titles (later append to product info)\n",
    "df_titles = df_queries[['product_uid', 'product_title']]\n",
    "df_titles = df_titles.set_index('product_uid')\n",
    "df_titles = df_titles.groupby(level=0).first()\n",
    "# alternative titles # df_titles = df_titles.groupby(level=0)['product_title'].apply(lambda x: x.tolist())\n",
    "                                                              \n",
    "# save stripped version (id, query, product_uid)\n",
    "df_queries.drop('product_title', inplace=True, axis=1)\n",
    "df_queries.to_pickle(data_loc % 'QUERIES')"
   ]
  },
  {
   "cell_type": "markdown",
   "metadata": {},
   "source": [
    "### Rearrange queries by product"
   ]
  },
  {
   "cell_type": "code",
   "execution_count": null,
   "metadata": {
    "collapsed": true
   },
   "outputs": [],
   "source": [
    "df_product_queries = df_queries.reset_index(level=0).groupby('product_uid')['id', 'search_term'].apply(lambda x: x.set_index('id').to_dict()['search_term']).to_frame()\n",
    "df_product_queries.columns = ['queries']\n",
    "df_product_queries.to_pickle(data_loc % 'PRODUCT_QUERIES')"
   ]
  },
  {
   "cell_type": "markdown",
   "metadata": {},
   "source": [
    "### Product info"
   ]
  },
  {
   "cell_type": "code",
   "execution_count": 4,
   "metadata": {
    "collapsed": true
   },
   "outputs": [],
   "source": [
    "# descriptions\n",
    "df_descriptions = pd.read_csv(LOC + 'product_descriptions.csv', encoding=\"ISO-8859-1\", index_col='product_uid', dtype={'product_uid': np.int32})\n",
    "\n",
    "# attributes\n",
    "df_attr = pd.read_csv(LOC + 'attributes.csv', encoding=\"ISO-8859-1\")\n",
    "df_attr = df_attr[df_attr['product_uid'].notnull()]\n",
    "df_attr['product_uid'] = df_attr['product_uid'].astype(np.int32)\n",
    "\n",
    "def create_attrs_dict(r):\n",
    "    rr = r[['name', 'value']]\n",
    "    rr.set_index('name', inplace=True)\n",
    "    return rr.to_dict()['value']\n",
    "\n",
    "df_attributes = df_attr.groupby('product_uid', as_index=True).apply(create_attrs_dict)\n",
    "df_attributes = pd.DataFrame(df_attributes, columns=['attributes'])\n",
    "\n",
    "# combine into a single product DF\n",
    "df_products = pd.concat([df_titles, df_descriptions], axis=1)\n",
    "df_products = df_products.applymap(lambda x: \"NO_DESCRIPTION\" if pd.isnull(x) else x)\n",
    "\n",
    "df_products = pd.concat([df_products, df_attributes], axis=1)\n",
    "df_products = df_products.applymap(lambda x: {} if pd.isnull(x) else x)\n",
    "\n",
    "df_products.to_pickle(data_loc % 'PRODUCTS')"
   ]
  }
 ],
 "metadata": {
  "kernelspec": {
   "display_name": "Python 2",
   "language": "python",
   "name": "python2"
  },
  "language_info": {
   "codemirror_mode": {
    "name": "ipython",
    "version": 2
   },
   "file_extension": ".py",
   "mimetype": "text/x-python",
   "name": "python",
   "nbconvert_exporter": "python",
   "pygments_lexer": "ipython2",
   "version": "2.7.10"
  }
 },
 "nbformat": 4,
 "nbformat_minor": 0
}
