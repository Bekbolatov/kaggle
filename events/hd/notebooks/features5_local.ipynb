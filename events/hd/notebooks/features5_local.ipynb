{
 "cells": [
  {
   "cell_type": "code",
   "execution_count": 1,
   "metadata": {
    "collapsed": true
   },
   "outputs": [],
   "source": [
    "import time\n",
    "import re\n",
    "import random\n",
    "random.seed(2016)\n",
    "\n",
    "import numpy as np\n",
    "import pandas as pd\n",
    "import xgboost as xgb\n",
    "\n",
    "from sklearn import linear_model\n",
    "from sklearn.cross_validation import train_test_split\n",
    "from sklearn.ensemble import RandomForestRegressor\n",
    "from sklearn import pipeline, grid_search\n",
    "from sklearn.base import BaseEstimator, TransformerMixin\n",
    "from sklearn.pipeline import FeatureUnion\n",
    "from sklearn.decomposition import TruncatedSVD\n",
    "from sklearn.feature_extraction.text import TfidfVectorizer\n",
    "from sklearn.metrics import mean_squared_error, make_scorer"
   ]
  },
  {
   "cell_type": "code",
   "execution_count": 2,
   "metadata": {
    "collapsed": true
   },
   "outputs": [],
   "source": [
    "dtrain = xgb.DMatrix(\"train.buffer\")\n",
    "dtest = xgb.DMatrix(\"test.buffer\")\n",
    "evallist  = [(dtrain,'train')]"
   ]
  },
  {
   "cell_type": "code",
   "execution_count": 3,
   "metadata": {
    "collapsed": true
   },
   "outputs": [],
   "source": [
    "loc = '%s'\n",
    "#loc = '/home/ec2-user/data/hd/features/%s'\n",
    "a_o = np.load(loc % 'train_data.npy')\n",
    "b_o = np.load(loc % 'test_data.npy')\n",
    "a_brand = np.load(loc % 'features_brand_01_train.npy')\n",
    "b_brand = np.load(loc % 'features_brand_01_test.npy')\n",
    "a_other = np.load(loc % 'FEATURES_1d_TRAIN.npy')\n",
    "b_other = np.load(loc % 'FEATURES_1d_TEST.npy')\n",
    "#a_word_feat = np.load(loc % 'SPECIAL_WORDS_FEAT_TRAIN.npy')\n",
    "#b_word_feat = np.load(loc % 'SPECIAL_WORDS_FEAT_TEST.npy')\n",
    "\n",
    "a_w2vdot = pd.read_pickle(loc % 'W2V_dots_train.df').drop('relevance', axis=1).values\n",
    "b_w2vdot = pd.read_pickle(loc % 'W2V_dots_test.df').drop('relevance', axis=1).values\n",
    "\n",
    "#a_w2vdist = np.load(loc % 'W2V_dists_train.npz')['arr_0']\n",
    "#b_w2vdist = np.load(loc % 'W2V_dists_test.npz')['arr_0']\n",
    "\n",
    "#a_w2v_el = np.load(loc % 'W2V_vecs_train.npz')['arr_0']\n",
    "#b_w2v_el = np.load(loc % 'W2V_vecs_test.npz')['arr_0']"
   ]
  },
  {
   "cell_type": "code",
   "execution_count": 4,
   "metadata": {
    "collapsed": false
   },
   "outputs": [
    {
     "ename": "NameError",
     "evalue": "name 'a_word_feat' is not defined",
     "output_type": "error",
     "traceback": [
      "\u001b[0;31m---------------------------------------------------------------------------\u001b[0m",
      "\u001b[0;31mNameError\u001b[0m                                 Traceback (most recent call last)",
      "\u001b[0;32m<ipython-input-4-8cf25f603b7b>\u001b[0m in \u001b[0;36m<module>\u001b[0;34m()\u001b[0m\n\u001b[0;32m----> 1\u001b[0;31m \u001b[0ma_o\u001b[0m\u001b[0;34m.\u001b[0m\u001b[0mshape\u001b[0m\u001b[0;34m,\u001b[0m \u001b[0ma_brand\u001b[0m\u001b[0;34m.\u001b[0m\u001b[0mshape\u001b[0m\u001b[0;34m,\u001b[0m \u001b[0ma_other\u001b[0m\u001b[0;34m.\u001b[0m\u001b[0mshape\u001b[0m\u001b[0;34m,\u001b[0m \u001b[0ma_word_feat\u001b[0m\u001b[0;34m.\u001b[0m\u001b[0mshape\u001b[0m\u001b[0;34m,\u001b[0m \u001b[0maa\u001b[0m\u001b[0;34m.\u001b[0m\u001b[0mshape\u001b[0m\u001b[0;34m,\u001b[0m \u001b[0ma_w2vdot\u001b[0m\u001b[0;34m.\u001b[0m\u001b[0mshape\u001b[0m\u001b[0;34m,\u001b[0m \u001b[0ma_w2vdist\u001b[0m\u001b[0;34m.\u001b[0m\u001b[0mshape\u001b[0m\u001b[0;34m,\u001b[0m \u001b[0ma_w2v_el\u001b[0m\u001b[0;34m.\u001b[0m\u001b[0mshape\u001b[0m  \u001b[0;31m# 73 #5  #111 #79 #6 #2 #2 #900\u001b[0m\u001b[0;34m\u001b[0m\u001b[0m\n\u001b[0m",
      "\u001b[0;31mNameError\u001b[0m: name 'a_word_feat' is not defined"
     ]
    }
   ],
   "source": [
    "a_o.shape, a_brand.shape, a_other.shape, a_word_feat.shape, aa.shape, a_w2vdot.shape, a_w2vdist.shape, a_w2v_el.shape  # 73 #5  #111 #79 #6 #2 #2 #900"
   ]
  },
  {
   "cell_type": "code",
   "execution_count": 17,
   "metadata": {
    "collapsed": false
   },
   "outputs": [
    {
     "data": {
      "text/plain": [
       "((53907,), (20160,))"
      ]
     },
     "execution_count": 17,
     "metadata": {},
     "output_type": "execute_result"
    }
   ],
   "source": [
    "idx_train = pd.read_pickle(loc % 'LABELS_TRAIN.df')\n",
    "idx_test = pd.read_pickle(loc % 'LABELS_TEST.df')\n",
    "\n",
    "validation_idx = pd.read_csv(loc % 'valid_set.csv.gz', index_col= 'id').index\n",
    "train_idx = idx_train.index.difference(validation_idx)\n",
    "\n",
    "df_a = pd.DataFrame(a, index=idx_train.index)\n",
    "\n",
    "train_idx.shape, validation_idx.shape"
   ]
  },
  {
   "cell_type": "code",
   "execution_count": 20,
   "metadata": {
    "collapsed": false
   },
   "outputs": [
    {
     "data": {
      "text/plain": [
       "((74067, 191), (74067, 1))"
      ]
     },
     "execution_count": 20,
     "metadata": {},
     "output_type": "execute_result"
    }
   ],
   "source": [
    "a.shape, idx_train.shape"
   ]
  },
  {
   "cell_type": "code",
   "execution_count": 32,
   "metadata": {
    "collapsed": false
   },
   "outputs": [],
   "source": [
    "df_training_alex = df_a.loc[train_idx]\n",
    "df_validating_alex = df_a.loc[validation_idx]\n",
    "\n",
    "df_training_alex_label = idx_train.loc[train_idx]\n",
    "df_validating_alex_label = idx_train.loc[validation_idx]"
   ]
  },
  {
   "cell_type": "code",
   "execution_count": 34,
   "metadata": {
    "collapsed": true
   },
   "outputs": [
    {
     "data": {
      "text/html": [
       "<div>\n",
       "<table border=\"1\" class=\"dataframe\">\n",
       "  <thead>\n",
       "    <tr style=\"text-align: right;\">\n",
       "      <th></th>\n",
       "      <th>relevance</th>\n",
       "    </tr>\n",
       "    <tr>\n",
       "      <th>id</th>\n",
       "      <th></th>\n",
       "    </tr>\n",
       "  </thead>\n",
       "  <tbody>\n",
       "    <tr>\n",
       "      <th>2</th>\n",
       "      <td>3.00</td>\n",
       "    </tr>\n",
       "    <tr>\n",
       "      <th>16</th>\n",
       "      <td>2.33</td>\n",
       "    </tr>\n",
       "    <tr>\n",
       "      <th>18</th>\n",
       "      <td>3.00</td>\n",
       "    </tr>\n",
       "    <tr>\n",
       "      <th>35</th>\n",
       "      <td>3.00</td>\n",
       "    </tr>\n",
       "    <tr>\n",
       "      <th>69</th>\n",
       "      <td>1.00</td>\n",
       "    </tr>\n",
       "    <tr>\n",
       "      <th>88</th>\n",
       "      <td>1.33</td>\n",
       "    </tr>\n",
       "    <tr>\n",
       "      <th>113</th>\n",
       "      <td>2.00</td>\n",
       "    </tr>\n",
       "    <tr>\n",
       "      <th>117</th>\n",
       "      <td>2.67</td>\n",
       "    </tr>\n",
       "    <tr>\n",
       "      <th>123</th>\n",
       "      <td>3.00</td>\n",
       "    </tr>\n",
       "    <tr>\n",
       "      <th>136</th>\n",
       "      <td>2.00</td>\n",
       "    </tr>\n",
       "    <tr>\n",
       "      <th>147</th>\n",
       "      <td>2.00</td>\n",
       "    </tr>\n",
       "    <tr>\n",
       "      <th>164</th>\n",
       "      <td>1.67</td>\n",
       "    </tr>\n",
       "    <tr>\n",
       "      <th>172</th>\n",
       "      <td>3.00</td>\n",
       "    </tr>\n",
       "    <tr>\n",
       "      <th>201</th>\n",
       "      <td>2.33</td>\n",
       "    </tr>\n",
       "    <tr>\n",
       "      <th>214</th>\n",
       "      <td>2.33</td>\n",
       "    </tr>\n",
       "    <tr>\n",
       "      <th>223</th>\n",
       "      <td>2.33</td>\n",
       "    </tr>\n",
       "    <tr>\n",
       "      <th>241</th>\n",
       "      <td>3.00</td>\n",
       "    </tr>\n",
       "    <tr>\n",
       "      <th>257</th>\n",
       "      <td>2.00</td>\n",
       "    </tr>\n",
       "    <tr>\n",
       "      <th>272</th>\n",
       "      <td>3.00</td>\n",
       "    </tr>\n",
       "    <tr>\n",
       "      <th>293</th>\n",
       "      <td>3.00</td>\n",
       "    </tr>\n",
       "    <tr>\n",
       "      <th>314</th>\n",
       "      <td>3.00</td>\n",
       "    </tr>\n",
       "    <tr>\n",
       "      <th>323</th>\n",
       "      <td>2.33</td>\n",
       "    </tr>\n",
       "    <tr>\n",
       "      <th>341</th>\n",
       "      <td>2.33</td>\n",
       "    </tr>\n",
       "    <tr>\n",
       "      <th>351</th>\n",
       "      <td>3.00</td>\n",
       "    </tr>\n",
       "    <tr>\n",
       "      <th>361</th>\n",
       "      <td>2.33</td>\n",
       "    </tr>\n",
       "    <tr>\n",
       "      <th>373</th>\n",
       "      <td>2.00</td>\n",
       "    </tr>\n",
       "    <tr>\n",
       "      <th>389</th>\n",
       "      <td>2.33</td>\n",
       "    </tr>\n",
       "    <tr>\n",
       "      <th>440</th>\n",
       "      <td>2.33</td>\n",
       "    </tr>\n",
       "    <tr>\n",
       "      <th>468</th>\n",
       "      <td>3.00</td>\n",
       "    </tr>\n",
       "    <tr>\n",
       "      <th>475</th>\n",
       "      <td>2.33</td>\n",
       "    </tr>\n",
       "    <tr>\n",
       "      <th>...</th>\n",
       "      <td>...</td>\n",
       "    </tr>\n",
       "    <tr>\n",
       "      <th>221398</th>\n",
       "      <td>1.67</td>\n",
       "    </tr>\n",
       "    <tr>\n",
       "      <th>221400</th>\n",
       "      <td>1.33</td>\n",
       "    </tr>\n",
       "    <tr>\n",
       "      <th>221401</th>\n",
       "      <td>2.33</td>\n",
       "    </tr>\n",
       "    <tr>\n",
       "      <th>221404</th>\n",
       "      <td>2.33</td>\n",
       "    </tr>\n",
       "    <tr>\n",
       "      <th>221405</th>\n",
       "      <td>2.67</td>\n",
       "    </tr>\n",
       "    <tr>\n",
       "      <th>221407</th>\n",
       "      <td>1.67</td>\n",
       "    </tr>\n",
       "    <tr>\n",
       "      <th>221408</th>\n",
       "      <td>3.00</td>\n",
       "    </tr>\n",
       "    <tr>\n",
       "      <th>221409</th>\n",
       "      <td>2.67</td>\n",
       "    </tr>\n",
       "    <tr>\n",
       "      <th>221411</th>\n",
       "      <td>1.33</td>\n",
       "    </tr>\n",
       "    <tr>\n",
       "      <th>221412</th>\n",
       "      <td>2.00</td>\n",
       "    </tr>\n",
       "    <tr>\n",
       "      <th>221413</th>\n",
       "      <td>1.67</td>\n",
       "    </tr>\n",
       "    <tr>\n",
       "      <th>221415</th>\n",
       "      <td>2.00</td>\n",
       "    </tr>\n",
       "    <tr>\n",
       "      <th>221416</th>\n",
       "      <td>1.00</td>\n",
       "    </tr>\n",
       "    <tr>\n",
       "      <th>221419</th>\n",
       "      <td>2.33</td>\n",
       "    </tr>\n",
       "    <tr>\n",
       "      <th>221420</th>\n",
       "      <td>2.00</td>\n",
       "    </tr>\n",
       "    <tr>\n",
       "      <th>221422</th>\n",
       "      <td>2.33</td>\n",
       "    </tr>\n",
       "    <tr>\n",
       "      <th>221423</th>\n",
       "      <td>2.33</td>\n",
       "    </tr>\n",
       "    <tr>\n",
       "      <th>221426</th>\n",
       "      <td>2.00</td>\n",
       "    </tr>\n",
       "    <tr>\n",
       "      <th>221427</th>\n",
       "      <td>1.67</td>\n",
       "    </tr>\n",
       "    <tr>\n",
       "      <th>221432</th>\n",
       "      <td>2.00</td>\n",
       "    </tr>\n",
       "    <tr>\n",
       "      <th>221434</th>\n",
       "      <td>2.67</td>\n",
       "    </tr>\n",
       "    <tr>\n",
       "      <th>221443</th>\n",
       "      <td>3.00</td>\n",
       "    </tr>\n",
       "    <tr>\n",
       "      <th>221449</th>\n",
       "      <td>3.00</td>\n",
       "    </tr>\n",
       "    <tr>\n",
       "      <th>221450</th>\n",
       "      <td>2.00</td>\n",
       "    </tr>\n",
       "    <tr>\n",
       "      <th>221455</th>\n",
       "      <td>3.00</td>\n",
       "    </tr>\n",
       "    <tr>\n",
       "      <th>221457</th>\n",
       "      <td>1.00</td>\n",
       "    </tr>\n",
       "    <tr>\n",
       "      <th>221458</th>\n",
       "      <td>3.00</td>\n",
       "    </tr>\n",
       "    <tr>\n",
       "      <th>221463</th>\n",
       "      <td>2.33</td>\n",
       "    </tr>\n",
       "    <tr>\n",
       "      <th>221471</th>\n",
       "      <td>3.00</td>\n",
       "    </tr>\n",
       "    <tr>\n",
       "      <th>221473</th>\n",
       "      <td>2.33</td>\n",
       "    </tr>\n",
       "  </tbody>\n",
       "</table>\n",
       "<p>20160 rows × 1 columns</p>\n",
       "</div>"
      ],
      "text/plain": [
       "        relevance\n",
       "id               \n",
       "2            3.00\n",
       "16           2.33\n",
       "18           3.00\n",
       "35           3.00\n",
       "69           1.00\n",
       "88           1.33\n",
       "113          2.00\n",
       "117          2.67\n",
       "123          3.00\n",
       "136          2.00\n",
       "147          2.00\n",
       "164          1.67\n",
       "172          3.00\n",
       "201          2.33\n",
       "214          2.33\n",
       "223          2.33\n",
       "241          3.00\n",
       "257          2.00\n",
       "272          3.00\n",
       "293          3.00\n",
       "314          3.00\n",
       "323          2.33\n",
       "341          2.33\n",
       "351          3.00\n",
       "361          2.33\n",
       "373          2.00\n",
       "389          2.33\n",
       "440          2.33\n",
       "468          3.00\n",
       "475          2.33\n",
       "...           ...\n",
       "221398       1.67\n",
       "221400       1.33\n",
       "221401       2.33\n",
       "221404       2.33\n",
       "221405       2.67\n",
       "221407       1.67\n",
       "221408       3.00\n",
       "221409       2.67\n",
       "221411       1.33\n",
       "221412       2.00\n",
       "221413       1.67\n",
       "221415       2.00\n",
       "221416       1.00\n",
       "221419       2.33\n",
       "221420       2.00\n",
       "221422       2.33\n",
       "221423       2.33\n",
       "221426       2.00\n",
       "221427       1.67\n",
       "221432       2.00\n",
       "221434       2.67\n",
       "221443       3.00\n",
       "221449       3.00\n",
       "221450       2.00\n",
       "221455       3.00\n",
       "221457       1.00\n",
       "221458       3.00\n",
       "221463       2.33\n",
       "221471       3.00\n",
       "221473       2.33\n",
       "\n",
       "[20160 rows x 1 columns]"
      ]
     },
     "execution_count": 34,
     "metadata": {},
     "output_type": "execute_result"
    }
   ],
   "source": [
    "#df_training_alex.shape, df_validating_alex.shape\n",
    "#idx_train.loc[train_idx]\n",
    "#df_training_alex_label\n",
    "df_validating_alex_label"
   ]
  },
  {
   "cell_type": "code",
   "execution_count": 28,
   "metadata": {
    "collapsed": false
   },
   "outputs": [
    {
     "data": {
      "text/html": [
       "<div>\n",
       "<table border=\"1\" class=\"dataframe\">\n",
       "  <thead>\n",
       "    <tr style=\"text-align: right;\">\n",
       "      <th></th>\n",
       "      <th>0</th>\n",
       "      <th>1</th>\n",
       "      <th>2</th>\n",
       "      <th>3</th>\n",
       "      <th>4</th>\n",
       "      <th>5</th>\n",
       "      <th>6</th>\n",
       "      <th>7</th>\n",
       "      <th>8</th>\n",
       "      <th>9</th>\n",
       "      <th>...</th>\n",
       "      <th>181</th>\n",
       "      <th>182</th>\n",
       "      <th>183</th>\n",
       "      <th>184</th>\n",
       "      <th>185</th>\n",
       "      <th>186</th>\n",
       "      <th>187</th>\n",
       "      <th>188</th>\n",
       "      <th>189</th>\n",
       "      <th>190</th>\n",
       "    </tr>\n",
       "    <tr>\n",
       "      <th>id</th>\n",
       "      <th></th>\n",
       "      <th></th>\n",
       "      <th></th>\n",
       "      <th></th>\n",
       "      <th></th>\n",
       "      <th></th>\n",
       "      <th></th>\n",
       "      <th></th>\n",
       "      <th></th>\n",
       "      <th></th>\n",
       "      <th></th>\n",
       "      <th></th>\n",
       "      <th></th>\n",
       "      <th></th>\n",
       "      <th></th>\n",
       "      <th></th>\n",
       "      <th></th>\n",
       "      <th></th>\n",
       "      <th></th>\n",
       "      <th></th>\n",
       "      <th></th>\n",
       "    </tr>\n",
       "  </thead>\n",
       "  <tbody>\n",
       "    <tr>\n",
       "      <th>2</th>\n",
       "      <td>100001.0</td>\n",
       "      <td>15.0</td>\n",
       "      <td>2.0</td>\n",
       "      <td>6.0</td>\n",
       "      <td>114.0</td>\n",
       "      <td>3.0</td>\n",
       "      <td>13.0</td>\n",
       "      <td>33.0</td>\n",
       "      <td>735.0</td>\n",
       "      <td>18.0</td>\n",
       "      <td>...</td>\n",
       "      <td>0.0</td>\n",
       "      <td>0.0</td>\n",
       "      <td>0.0</td>\n",
       "      <td>0.0</td>\n",
       "      <td>0.0</td>\n",
       "      <td>15.0</td>\n",
       "      <td>0.0</td>\n",
       "      <td>0.0</td>\n",
       "      <td>0.191196</td>\n",
       "      <td>0.102050</td>\n",
       "    </tr>\n",
       "    <tr>\n",
       "      <th>16</th>\n",
       "      <td>100005.0</td>\n",
       "      <td>25.0</td>\n",
       "      <td>3.0</td>\n",
       "      <td>13.0</td>\n",
       "      <td>81.0</td>\n",
       "      <td>1.0</td>\n",
       "      <td>16.0</td>\n",
       "      <td>73.0</td>\n",
       "      <td>556.0</td>\n",
       "      <td>5.0</td>\n",
       "      <td>...</td>\n",
       "      <td>0.0</td>\n",
       "      <td>0.0</td>\n",
       "      <td>0.0</td>\n",
       "      <td>0.0</td>\n",
       "      <td>0.0</td>\n",
       "      <td>15.0</td>\n",
       "      <td>0.0</td>\n",
       "      <td>0.0</td>\n",
       "      <td>0.113482</td>\n",
       "      <td>0.081475</td>\n",
       "    </tr>\n",
       "    <tr>\n",
       "      <th>18</th>\n",
       "      <td>100006.0</td>\n",
       "      <td>48.0</td>\n",
       "      <td>2.0</td>\n",
       "      <td>12.0</td>\n",
       "      <td>373.0</td>\n",
       "      <td>1.0</td>\n",
       "      <td>14.0</td>\n",
       "      <td>77.0</td>\n",
       "      <td>2538.0</td>\n",
       "      <td>9.0</td>\n",
       "      <td>...</td>\n",
       "      <td>0.0</td>\n",
       "      <td>0.0</td>\n",
       "      <td>0.0</td>\n",
       "      <td>0.0</td>\n",
       "      <td>0.0</td>\n",
       "      <td>15.0</td>\n",
       "      <td>0.0</td>\n",
       "      <td>0.0</td>\n",
       "      <td>0.293396</td>\n",
       "      <td>0.120656</td>\n",
       "    </tr>\n",
       "    <tr>\n",
       "      <th>35</th>\n",
       "      <td>100011.0</td>\n",
       "      <td>42.0</td>\n",
       "      <td>4.0</td>\n",
       "      <td>17.0</td>\n",
       "      <td>196.0</td>\n",
       "      <td>1.0</td>\n",
       "      <td>26.0</td>\n",
       "      <td>107.0</td>\n",
       "      <td>1309.0</td>\n",
       "      <td>4.0</td>\n",
       "      <td>...</td>\n",
       "      <td>0.0</td>\n",
       "      <td>0.0</td>\n",
       "      <td>0.0</td>\n",
       "      <td>0.0</td>\n",
       "      <td>0.0</td>\n",
       "      <td>15.0</td>\n",
       "      <td>0.0</td>\n",
       "      <td>0.0</td>\n",
       "      <td>0.188877</td>\n",
       "      <td>0.114863</td>\n",
       "    </tr>\n",
       "    <tr>\n",
       "      <th>69</th>\n",
       "      <td>100017.0</td>\n",
       "      <td>25.0</td>\n",
       "      <td>2.0</td>\n",
       "      <td>12.0</td>\n",
       "      <td>70.0</td>\n",
       "      <td>3.0</td>\n",
       "      <td>11.0</td>\n",
       "      <td>73.0</td>\n",
       "      <td>450.0</td>\n",
       "      <td>20.0</td>\n",
       "      <td>...</td>\n",
       "      <td>0.0</td>\n",
       "      <td>0.0</td>\n",
       "      <td>0.0</td>\n",
       "      <td>0.0</td>\n",
       "      <td>0.0</td>\n",
       "      <td>15.0</td>\n",
       "      <td>0.0</td>\n",
       "      <td>0.0</td>\n",
       "      <td>0.047049</td>\n",
       "      <td>0.079902</td>\n",
       "    </tr>\n",
       "  </tbody>\n",
       "</table>\n",
       "<p>5 rows × 191 columns</p>\n",
       "</div>"
      ],
      "text/plain": [
       "         0     1    2     3      4    5     6      7       8     9    \\\n",
       "id                                                                     \n",
       "2   100001.0  15.0  2.0   6.0  114.0  3.0  13.0   33.0   735.0  18.0   \n",
       "16  100005.0  25.0  3.0  13.0   81.0  1.0  16.0   73.0   556.0   5.0   \n",
       "18  100006.0  48.0  2.0  12.0  373.0  1.0  14.0   77.0  2538.0   9.0   \n",
       "35  100011.0  42.0  4.0  17.0  196.0  1.0  26.0  107.0  1309.0   4.0   \n",
       "69  100017.0  25.0  2.0  12.0   70.0  3.0  11.0   73.0   450.0  20.0   \n",
       "\n",
       "      ...     181  182  183  184  185   186  187  188       189       190  \n",
       "id    ...                                                                  \n",
       "2     ...     0.0  0.0  0.0  0.0  0.0  15.0  0.0  0.0  0.191196  0.102050  \n",
       "16    ...     0.0  0.0  0.0  0.0  0.0  15.0  0.0  0.0  0.113482  0.081475  \n",
       "18    ...     0.0  0.0  0.0  0.0  0.0  15.0  0.0  0.0  0.293396  0.120656  \n",
       "35    ...     0.0  0.0  0.0  0.0  0.0  15.0  0.0  0.0  0.188877  0.114863  \n",
       "69    ...     0.0  0.0  0.0  0.0  0.0  15.0  0.0  0.0  0.047049  0.079902  \n",
       "\n",
       "[5 rows x 191 columns]"
      ]
     },
     "execution_count": 28,
     "metadata": {},
     "output_type": "execute_result"
    }
   ],
   "source": [
    "df_validating_alex.head()\n",
    "#df_training_alex.head()"
   ]
  },
  {
   "cell_type": "code",
   "execution_count": null,
   "metadata": {
    "collapsed": false
   },
   "outputs": [],
   "source": [
    "73 - basic features, counts, ratios\n",
    "5 - brand-related\n",
    "111 - variations of above, with completely different typo cleaning\n",
    "79 - special words in query, title or description that seemed to correlate with difference in relevance\n",
    "6 - (dangerous - best removed to avoid leak) depends on split, tries to extract information from \n",
    "similar words - counts word co-occurences between query and title/description (a bit like simplified ALS)\n",
    "2 - dot product between word2vec of query and title/descr\n",
    "2 - Euclidean distance between word2vec of query and title/descr\n",
    "900 - full averaged word2vec vectors for query, title, desc"
   ]
  },
  {
   "cell_type": "code",
   "execution_count": null,
   "metadata": {
    "collapsed": true
   },
   "outputs": [],
   "source": [
    "# LOCAL CV\n",
    "aaa = pd.read_pickle(loc % 'WOQTAL_TRAIN_147')\n",
    "bbb = pd.read_pickle(loc % 'WOQTAL_TEST_147')\n",
    "#aa = aaa.drop('relevance', axis=1).values\n",
    "#bb = bbb.drop('relevance', axis=1).values\n",
    "aa = aaa.drop('relevance', axis=1).values[:,[0,3]]\n",
    "bb = bbb.drop('relevance', axis=1).values[:,[0,3]]\n",
    "\n",
    "#a = np.hstack((a_o, a_brand, a_other, a_word_feat, a_w2vdot, a_w2vdist, a_w2v_el[:,:700]))\n",
    "#b = np.hstack((b_o, b_brand, b_other, b_word_feat, b_w2vdot, b_w2vdist, b_w2v_el[:,:700]))"
   ]
  },
  {
   "cell_type": "code",
   "execution_count": null,
   "metadata": {
    "collapsed": false
   },
   "outputs": [],
   "source": [
    "#a = np.hstack((a_o, a_brand, a_other, a_word_feat, aa, a_w2vdot, a_w2vdist, a_w2v_el))\n",
    "#b = np.hstack((b_o, b_brand, b_other, b_word_feat, bb, b_w2vdot, b_w2vdist, b_w2v_el))\n",
    "a = np.hstack((a_o, a_brand, a_other, a_word_feat, aa, a_w2vdot, a_w2vdist, a_w2v_el[:,:700]))\n",
    "b = np.hstack((b_o, b_brand, b_other, b_word_feat, bb, b_w2vdot, b_w2vdist, b_w2v_el[:,:700]))"
   ]
  },
  {
   "cell_type": "code",
   "execution_count": null,
   "metadata": {
    "collapsed": false
   },
   "outputs": [],
   "source": [
    "a = np.hstack((a_o, a_brand, a_other, a_w2vdot, a_w2vdist))\n",
    "b = np.hstack((b_o, b_brand, b_other, b_w2vdot, b_w2vdist))"
   ]
  },
  {
   "cell_type": "code",
   "execution_count": 5,
   "metadata": {
    "collapsed": false
   },
   "outputs": [],
   "source": [
    "a = np.hstack((a_o, a_brand, a_other, a_w2vdot))\n",
    "b = np.hstack((b_o, b_brand, b_other, b_w2vdot))"
   ]
  },
  {
   "cell_type": "code",
   "execution_count": null,
   "metadata": {
    "collapsed": false
   },
   "outputs": [],
   "source": [
    "locd = '/Users/rbekbolatov/data/kaggle/homedepot/%s'"
   ]
  },
  {
   "cell_type": "code",
   "execution_count": null,
   "metadata": {
    "collapsed": true
   },
   "outputs": [],
   "source": [
    "a_w2v_el = np.load(loc % 'W2V_vecs_train.npz')['arr_0']"
   ]
  },
  {
   "cell_type": "code",
   "execution_count": null,
   "metadata": {
    "collapsed": false
   },
   "outputs": [],
   "source": [
    "wmd_train = pd.read_csv(locd % 'wmd_gn_train.csv.gz').values[:,1]\n",
    "wmd_test = pd.read_csv(locd % 'wmd_gn_test.csv.gz').values[:,1]"
   ]
  },
  {
   "cell_type": "code",
   "execution_count": null,
   "metadata": {
    "collapsed": false
   },
   "outputs": [],
   "source": [
    "wmd_train[np.where(np.isinf(wmd_train))[0]] = 99"
   ]
  },
  {
   "cell_type": "code",
   "execution_count": null,
   "metadata": {
    "collapsed": false
   },
   "outputs": [],
   "source": [
    "wmd_train[np.where(np.isinf(wmd_train))[0]]"
   ]
  },
  {
   "cell_type": "code",
   "execution_count": null,
   "metadata": {
    "collapsed": true
   },
   "outputs": [],
   "source": [
    "#a = np.vstack((a_o.T, a_brand.T, a_other.T, a_word_feat.T, aa.T, a_w2vdot.T, a_w2vdist.T)).T\n",
    "#a = np.vstack((a_o.T, a_brand.T, a_other.T, a_word_feat.T, aa.T, a_w2vdot.T, a_w2vdist.T, wmd_train, a_w2v_el[:,:700].T)).T\n",
    "#a = np.vstack((a_o.T, a_brand.T, a_other.T, a_word_feat.T, aa.T, a_w2vdot.T, a_w2vdist.T, a_w2v_el[:,:700].T)).T\n",
    "\n",
    "#X_train, X_test, y_train, y_test = train_test_split(np.hstack([pawel_train.values,a]), dtrain.get_label(), test_size=0.20, random_state=147) # 0.20, 147\n",
    "X_train, X_test, y_train, y_test = train_test_split(df_training_alex.values(), dtrain.get_label(), test_size=0.20, random_state=147) # 0.20, 147\n",
    "gX_train = xgb.DMatrix(data=X_train, label=y_train)\n",
    "#gX_test = xgb.DMatrix(data=X_test[0:10814,:], label=y_test[0:10814])\n",
    "gX_test = xgb.DMatrix(data=X_test[10814:,:], label=y_test[10814:])\n",
    "evallist  = [(gX_train,'train'),(gX_test,'test')]"
   ]
  },
  {
   "cell_type": "code",
   "execution_count": 39,
   "metadata": {
    "collapsed": false
   },
   "outputs": [
    {
     "data": {
      "text/plain": [
       "((53907, 191), (53907, 1), (20160, 191), (20160, 1))"
      ]
     },
     "execution_count": 39,
     "metadata": {},
     "output_type": "execute_result"
    }
   ],
   "source": [
    "X_train = df_training_alex.values\n",
    "y_train = df_training_alex_label.values\n",
    "\n",
    "X_test = df_validating_alex.values\n",
    "y_test = df_validating_alex_label.values\n",
    "\n",
    "X_train.shape, y_train.shape,  X_test.shape, y_test.shape"
   ]
  },
  {
   "cell_type": "code",
   "execution_count": 40,
   "metadata": {
    "collapsed": false
   },
   "outputs": [
    {
     "data": {
      "text/plain": [
       "0.47733228483742429"
      ]
     },
     "execution_count": 40,
     "metadata": {},
     "output_type": "execute_result"
    }
   ],
   "source": [
    "clf = linear_model.Ridge (alpha = 0.6)\n",
    "clf.fit(X_train, y_train)\n",
    "y_hat = clf.predict(X_test)\n",
    "y_hat = np.minimum(np.maximum(y_hat, 1.0), 3.0)\n",
    "fmean_squared_error(y_hat, y_test)\n",
    "\n",
    "#0.47733228483742429"
   ]
  },
  {
   "cell_type": "code",
   "execution_count": 41,
   "metadata": {
    "collapsed": false
   },
   "outputs": [
    {
     "data": {
      "text/plain": [
       "((74067, 191), (53907, 191), (53907, 1), (20160, 1))"
      ]
     },
     "execution_count": 41,
     "metadata": {},
     "output_type": "execute_result"
    }
   ],
   "source": [
    "a.shape, X_train.shape, y_train.shape, y_test.shape"
   ]
  },
  {
   "cell_type": "code",
   "execution_count": null,
   "metadata": {
    "collapsed": false
   },
   "outputs": [],
   "source": [
    "X_test[0:10814,:].shape"
   ]
  },
  {
   "cell_type": "code",
   "execution_count": null,
   "metadata": {
    "collapsed": false
   },
   "outputs": [],
   "source": [
    "wmd_train.sum()"
   ]
  },
  {
   "cell_type": "code",
   "execution_count": null,
   "metadata": {
    "collapsed": false,
    "scrolled": true
   },
   "outputs": [],
   "source": [
    "wmd_train.shape"
   ]
  },
  {
   "cell_type": "code",
   "execution_count": null,
   "metadata": {
    "collapsed": false
   },
   "outputs": [],
   "source": [
    "a.shape"
   ]
  },
  {
   "cell_type": "code",
   "execution_count": null,
   "metadata": {
    "collapsed": false
   },
   "outputs": [],
   "source": [
    "a = np.vstack((a_o.T, a_brand.T, a_other.T, a_word_feat.T, a_w2vdot.T, a_w2vdist.T, wmd_train, wmd_train)).T"
   ]
  },
  {
   "cell_type": "code",
   "execution_count": null,
   "metadata": {
    "collapsed": false
   },
   "outputs": [],
   "source": [
    "a = np.vstack((a_o.T, a_brand.T, a_other.T, a_w2vdot.T, a_w2vdist.T, wmd_train, wmd_train)).T"
   ]
  },
  {
   "cell_type": "code",
   "execution_count": null,
   "metadata": {
    "collapsed": true
   },
   "outputs": [],
   "source": [
    "#FINAL GENERATE\n",
    "aaa = pd.read_pickle(loc % 'WOQTAL_TRAIN_ALL')\n",
    "bbb = pd.read_pickle(loc % 'WOQTAL_TEST_ALL')\n",
    "aa = aaa.drop('relevance', axis=1).values\n",
    "bb = bbb.drop('relevance', axis=1).values\n",
    "\n",
    "a_full = np.hstack((a_o, a_brand, a_other, a_word_feat, aa, a_w2vdot, a_w2vdist, a_w2v_el[:,:700]))\n",
    "b_full = np.hstack((b_o, b_brand, b_other, b_word_feat, bb, b_w2vdot, b_w2vdist, b_w2v_el[:,:700]))"
   ]
  },
  {
   "cell_type": "markdown",
   "metadata": {},
   "source": [
    "### DATA SETS READY"
   ]
  },
  {
   "cell_type": "code",
   "execution_count": null,
   "metadata": {
    "collapsed": true
   },
   "outputs": [],
   "source": [
    "a_full = np.hstack((a_o, a_brand, a_other, a_word_feat, aa, a_w2vdot, a_w2vdist))  #, a_w2v_el))\n",
    "b_full = np.hstack((b_o, b_brand, b_other, b_word_feat, bb, b_w2vdot, b_w2vdist))  #, b_w2v_el))\n",
    "\n",
    "\n",
    "a_f = pd.DataFrame(a_full)\n",
    "b_f = pd.DataFrame(b_full)\n",
    "a_f[0] = a_f[0].astype(int)\n",
    "b_f[0] = b_f[0].astype(int)\n",
    "a_f.to_csv('ALL_SET_TRAIN.csv', index=False)\n",
    "b_f.to_csv('ALL_SET_TEST.csv', index=False)"
   ]
  },
  {
   "cell_type": "code",
   "execution_count": null,
   "metadata": {
    "collapsed": true
   },
   "outputs": [],
   "source": [
    "a_w2v = pd.DataFrame(a_w2v_el)\n",
    "b_w2v = pd.DataFrame(b_w2v_el)\n",
    "a_w2v.to_csv('W2V_TRAIN.csv', index=False)\n",
    "b_w2v.to_csv('W2V_TEST.csv', index=False)"
   ]
  },
  {
   "cell_type": "code",
   "execution_count": null,
   "metadata": {
    "collapsed": false
   },
   "outputs": [],
   "source": [
    "a_f.head()"
   ]
  },
  {
   "cell_type": "code",
   "execution_count": null,
   "metadata": {
    "collapsed": true
   },
   "outputs": [],
   "source": []
  },
  {
   "cell_type": "code",
   "execution_count": null,
   "metadata": {
    "collapsed": true
   },
   "outputs": [],
   "source": []
  },
  {
   "cell_type": "code",
   "execution_count": null,
   "metadata": {
    "collapsed": false
   },
   "outputs": [],
   "source": [
    "queries"
   ]
  },
  {
   "cell_type": "code",
   "execution_count": null,
   "metadata": {
    "collapsed": true
   },
   "outputs": [],
   "source": []
  },
  {
   "cell_type": "code",
   "execution_count": null,
   "metadata": {
    "collapsed": true
   },
   "outputs": [],
   "source": [
    "pd.DataFrame(b_full).to_csv('ALL_SET_TEST.csv')"
   ]
  },
  {
   "cell_type": "code",
   "execution_count": null,
   "metadata": {
    "collapsed": false
   },
   "outputs": [],
   "source": [
    "a.shape"
   ]
  },
  {
   "cell_type": "code",
   "execution_count": null,
   "metadata": {
    "collapsed": false
   },
   "outputs": [],
   "source": [
    "aaaa = pd.read_csv('Pawel_train_after_processing_withfeatures.csv', index_col='id').sort_index()\n",
    "bbbb = pd.read_csv('Pawel_test_after_processing_withfeatures.csv', index_col='id').sort_index()"
   ]
  },
  {
   "cell_type": "code",
   "execution_count": null,
   "metadata": {
    "collapsed": false
   },
   "outputs": [],
   "source": [
    "aaaa.to_pickle('Pawel_train.df')\n",
    "bbbb.to_pickle('Pawel_test.df')"
   ]
  },
  {
   "cell_type": "code",
   "execution_count": null,
   "metadata": {
    "collapsed": false
   },
   "outputs": [],
   "source": [
    "pawel_train = aaaa.drop([\"product_title\", \"search_term\", \"product_description\",\n",
    "                                               \"atr_text\", 'brand_text', 'color_text', 'material_text',\n",
    "                                               'bullet01_text', 'bullet02_text', 'bullet03_text', 'bullet04_text', 'bullet05_text', 'bullet06_text',\n",
    "                                               'bullet07_text', 'bullet08_text', 'bullet09_text', 'bullet10_text', 'bullet11_text', 'bullet12_text', \n",
    "           'relevance', \n",
    "                         #'product_uid'\n",
    "                        ], axis=1)\n",
    "pawel_test = bbbb.drop([\"product_title\", \"search_term\", \"product_description\",\n",
    "                                               \"atr_text\", 'brand_text', 'color_text', 'material_text',\n",
    "                                               'bullet01_text', 'bullet02_text', 'bullet03_text', 'bullet04_text', 'bullet05_text', 'bullet06_text',\n",
    "                                               'bullet07_text', 'bullet08_text', 'bullet09_text', 'bullet10_text', 'bullet11_text', 'bullet12_text', \n",
    "           #'product_uid'\n",
    "                       ], axis=1)"
   ]
  },
  {
   "cell_type": "code",
   "execution_count": null,
   "metadata": {
    "collapsed": false
   },
   "outputs": [],
   "source": [
    "pawel_train = ptr.drop([\"product_title\", \"search_term\", \"product_description\",\n",
    "                                               \"atr_text\", 'brand_text', 'color_text', 'material_text',\n",
    "                                               'bullet01_text', 'bullet02_text', 'bullet03_text', 'bullet04_text', 'bullet05_text', 'bullet06_text',\n",
    "                                               'bullet07_text', 'bullet08_text', 'bullet09_text', 'bullet10_text', 'bullet11_text', 'bullet12_text', \n",
    "           'relevance', \n",
    "                         #'product_uid'\n",
    "                        ], axis=1)\n",
    "pawel_test = pte.drop([\"product_title\", \"search_term\", \"product_description\",\n",
    "                                               \"atr_text\", 'brand_text', 'color_text', 'material_text',\n",
    "                                               'bullet01_text', 'bullet02_text', 'bullet03_text', 'bullet04_text', 'bullet05_text', 'bullet06_text',\n",
    "                                               'bullet07_text', 'bullet08_text', 'bullet09_text', 'bullet10_text', 'bullet11_text', 'bullet12_text', \n",
    "           #'product_uid'\n",
    "                       ], axis=1)"
   ]
  },
  {
   "cell_type": "code",
   "execution_count": null,
   "metadata": {
    "collapsed": false
   },
   "outputs": [],
   "source": [
    "pawel_train.head()"
   ]
  },
  {
   "cell_type": "code",
   "execution_count": null,
   "metadata": {
    "collapsed": false
   },
   "outputs": [],
   "source": [
    "X_train, X_test, y_train, y_test = train_test_split(np.hstack([pawel_train.values,a]), dtrain.get_label(), test_size=0.20, random_state=147) # 0.20, 147\n",
    "gX_train = xgb.DMatrix(data=X_train, label=y_train)\n",
    "gX_test = xgb.DMatrix(data=X_test, label=y_test)\n",
    "evallist  = [(gX_train,'train'),(gX_test,'test')]"
   ]
  },
  {
   "cell_type": "code",
   "execution_count": null,
   "metadata": {
    "collapsed": false
   },
   "outputs": [],
   "source": [
    "X_train.shape"
   ]
  },
  {
   "cell_type": "code",
   "execution_count": 8,
   "metadata": {
    "collapsed": true
   },
   "outputs": [],
   "source": [
    "def fmean_squared_error(ground_truth, predictions):\n",
    "    fmean_squared_error_ = mean_squared_error(ground_truth, predictions)**0.5\n",
    "    return fmean_squared_error_"
   ]
  },
  {
   "cell_type": "code",
   "execution_count": null,
   "metadata": {
    "collapsed": true
   },
   "outputs": [],
   "source": [
    "X_train, X_test, y_train, y_test = train_test_split(a, dtrain.get_label(), test_size=0.20, random_state=147) # 0.20, 147\n",
    "gX_train = xgb.DMatrix(data=X_train, label=y_train)\n",
    "gX_test = xgb.DMatrix(data=X_test, label=y_test)\n",
    "evallist  = [(gX_train,'train'),(gX_test,'test')]"
   ]
  },
  {
   "cell_type": "code",
   "execution_count": null,
   "metadata": {
    "collapsed": false
   },
   "outputs": [],
   "source": [
    "#clf = linear_model.LinearRegression(n_jobs=8)\n",
    "#clf = linear_model.Lasso(alpha=0.01)\n",
    "clf = linear_model.Ridge (alpha = 0.6)\n",
    "clf.fit(X_train, y_train)\n",
    "y_hat = clf.predict(X_test)\n",
    "y_hat = np.minimum(np.maximum(y_hat, 1.0), 3.0)\n",
    "fmean_squared_error(y_hat, y_test)  #0.45631070577528032\n",
    "# 0.45290360003958696\n",
    "# 0.45286703214175722\n",
    "\n",
    "# 0.45358284891316947\n",
    "# 0.45355346051674278\n",
    "#  0.00003\n",
    "\n",
    "\n",
    "# 0.45290360003958696\n",
    "# 0.45273208794146252"
   ]
  },
  {
   "cell_type": "code",
   "execution_count": null,
   "metadata": {
    "collapsed": true
   },
   "outputs": [],
   "source": [
    "\n",
    "idx_train = pd.read_pickle(loc % 'LABELS_TRAIN.df')\n"
   ]
  },
  {
   "cell_type": "code",
   "execution_count": null,
   "metadata": {
    "collapsed": true
   },
   "outputs": [],
   "source": [
    "a_o.T"
   ]
  },
  {
   "cell_type": "code",
   "execution_count": null,
   "metadata": {
    "collapsed": false
   },
   "outputs": [],
   "source": [
    "#a = np.hstack((a_o, a_brand, a_other, a_word_feat, aa, a_w2vdot, a_w2vdist, a_w2v_el[:,:700]))\n",
    "a = np.vstack((np.array(idx_train.index), a_o.T, a_brand.T, a_other.T, a_word_feat.T, aa.T, a_w2vdot.T, a_w2vdist.T, a_w2v_el[:,:700].T)).T\n",
    "a.shape # (74067, 978)"
   ]
  },
  {
   "cell_type": "code",
   "execution_count": null,
   "metadata": {
    "collapsed": false
   },
   "outputs": [],
   "source": [
    "np.array(idx_train.index)"
   ]
  },
  {
   "cell_type": "markdown",
   "metadata": {},
   "source": [
    "### Checked LR"
   ]
  },
  {
   "cell_type": "code",
   "execution_count": null,
   "metadata": {
    "collapsed": false
   },
   "outputs": [],
   "source": [
    "def next_num_round():\n",
    "    return np.random.randint(750, 950)\n",
    "\n",
    "num_round = 10000\n",
    "\n",
    "# TRAIN AS SELF\n",
    "param = {'max_depth':9, \n",
    "         'eta':0.1, # 'objective':'reg:linear',\n",
    "         'eval_metric':'rmse', #'maximize': False,\n",
    "         'colsample_bytree':0.3,\n",
    "         'subsample':0.9,\n",
    "         'nthread':8,\n",
    "         'silent': True\n",
    "        }\n",
    "# GOOD <<\n",
    "param = {'max_depth':7, \n",
    "         'eta':0.03, # 'objective':'reg:linear',\n",
    "         'eval_metric':'rmse', #'maximize': False,\n",
    "         'colsample_bytree':0.7, #7\n",
    "         'subsample':0.9,  #8\n",
    "         'min_child_weight': 4.0,\n",
    "         'nthread':32,\n",
    "         'silent': True\n",
    "        }\n",
    "param = {'max_depth':9, \n",
    "     'eta':0.01, # 'objective':'reg:linear',\n",
    "     'eval_metric':'rmse', #'maximize': False,\n",
    "     'colsample_bytree':0.7, #7\n",
    "     'subsample':0.9,  #8\n",
    "     'min_child_weight': 4.0,\n",
    "     'nthread':32,\n",
    "     'silent': True\n",
    "    }\n",
    "param = {'max_depth':6, \n",
    "     'eta':0.01, # 'objective':'reg:linear',\n",
    "     'eval_metric':'rmse', #'maximize': False,\n",
    "     'colsample_bytree':0.6, #7\n",
    "     'subsample':0.8,  #8\n",
    "     'min_child_weight': 5.0,\n",
    "     'nthread':32,\n",
    "     'silent': True,\n",
    "     'seed': 37\n",
    "    }\n",
    "\n",
    "param = {'max_depth':7, \n",
    "     'eta':0.01, # 'objective':'reg:linear',\n",
    "     'eval_metric':'rmse', #'maximize': False,\n",
    "     'colsample_bytree':0.6, #7\n",
    "     'subsample':0.8,  #8\n",
    "     'min_child_weight': 5.0,\n",
    "     'nthread':32,\n",
    "     'silent': True,\n",
    "     'seed': 39\n",
    "    }\n",
    "\n",
    "num_round = 200000\n",
    "bst = xgb.train( param, gX_train, num_round, [(gX_train,'train'),(gX_test,'test')], early_stopping_rounds=100, verbose_eval=10)\n",
    "#bst = xgb.train( param, gX_train, num_round, [(gX_train,'train'),(gX_test,'test')], verbose_eval=10)"
   ]
  },
  {
   "cell_type": "code",
   "execution_count": null,
   "metadata": {
    "collapsed": true
   },
   "outputs": [],
   "source": [
    "# 700x trees  -  cv: 0.4377 (seed 147)\n",
    "param = {'max_depth':9, \n",
    "         'eta':0.01, # 'objective':'reg:linear',\n",
    "         'eval_metric':'rmse', #'maximize': False,\n",
    "         'colsample_bytree':0.3, #0.8 #7  0.4449\n",
    "         'subsample':0.8, #0.9,  #8\n",
    "         'min_child_weight': 4.0,\n",
    "         'nthread':32,\n",
    "         'silent': True\n",
    "        }  \n",
    "num_round = 5000\n",
    "bst = xgb.train( param, gX_train, num_round, [(gX_train,'train'),(gX_test,'test')], early_stopping_rounds=30, verbose_eval=10)"
   ]
  },
  {
   "cell_type": "code",
   "execution_count": null,
   "metadata": {
    "collapsed": true
   },
   "outputs": [],
   "source": [
    "ggX_train = xgb.DMatrix(data=a_full, label=dtrain.get_label())\n",
    "ggX_test = xgb.DMatrix(data=b_full)\n",
    "\n",
    "idx_train = pd.read_pickle(loc % 'LABELS_TRAIN.df')\n",
    "idx_test = pd.read_pickle(loc % 'LABELS_TEST.df')\n",
    "\n",
    "num_round = 1550\n",
    "bst = xgb.train( param, ggX_train, num_round, [(gX_test,'test')], verbose_eval=50)\n",
    "\n",
    "y_pred = bst.predict(ggX_test)\n",
    "y_pred_bounded = np.minimum(np.maximum(y_pred, 1.0), 3.0)\n",
    "idx_test['relevance'] = y_pred_bounded\n",
    "idx_test.to_csv('submission_RenatPawel_combined_features_xgboost_0408_0137.csv')"
   ]
  },
  {
   "cell_type": "code",
   "execution_count": null,
   "metadata": {
    "collapsed": true
   },
   "outputs": [],
   "source": [
    "!gzip submission_xgboost_words_0405_1646.csv"
   ]
  },
  {
   "cell_type": "code",
   "execution_count": null,
   "metadata": {
    "collapsed": true
   },
   "outputs": [],
   "source": [
    "# 1500 trees \n",
    "param = {'max_depth':9, \n",
    "         'eta':0.01, # 'objective':'reg:linear',\n",
    "         'eval_metric':'rmse', #'maximize': False,\n",
    "         'colsample_bytree':0.8, #0.8 #7  0.4449\n",
    "         'subsample':0.9, #0.9,  #8\n",
    "         'min_child_weight': 4.0,\n",
    "         'nthread':32,\n",
    "         'silent': True\n",
    "        }  \n",
    "num_round = 5000\n",
    "bst = xgb.train( param, gX_train, num_round, [(gX_train,'train'),(gX_test,'test')], early_stopping_rounds=15, verbose_eval=10)\n",
    "\n",
    "with 0.30 and 1479\n",
    "cv:  0.4493"
   ]
  },
  {
   "cell_type": "code",
   "execution_count": null,
   "metadata": {
    "collapsed": false
   },
   "outputs": [],
   "source": [
    "loc = '%s'\n",
    "\n",
    "aaa = pd.read_pickle(loc % 'WOQTAL_TRAIN_ALL')\n",
    "bbb = pd.read_pickle(loc % 'WOQTAL_TEST_ALL')\n"
   ]
  },
  {
   "cell_type": "code",
   "execution_count": null,
   "metadata": {
    "collapsed": false
   },
   "outputs": [],
   "source": [
    "aaa.head()"
   ]
  },
  {
   "cell_type": "code",
   "execution_count": null,
   "metadata": {
    "collapsed": false
   },
   "outputs": [],
   "source": [
    "aaa[aaa['woqt1'] > 0.127]['relevance'].mean(), aaa[aaa['woqt1'] < 0.127]['relevance'].mean()"
   ]
  },
  {
   "cell_type": "code",
   "execution_count": null,
   "metadata": {
    "collapsed": false
   },
   "outputs": [],
   "source": [
    "aaa[aaa['woqt2'] > 0.329895]['relevance'].mean(), aaa[aaa['woqt2'] < 0.329895]['relevance'].mean()"
   ]
  },
  {
   "cell_type": "code",
   "execution_count": null,
   "metadata": {
    "collapsed": false
   },
   "outputs": [],
   "source": [
    "aaa['woqt2'].mean()"
   ]
  },
  {
   "cell_type": "code",
   "execution_count": null,
   "metadata": {
    "collapsed": false
   },
   "outputs": [],
   "source": [
    "bbb.head()"
   ]
  },
  {
   "cell_type": "code",
   "execution_count": null,
   "metadata": {
    "collapsed": true
   },
   "outputs": [],
   "source": [
    "aa = aaa.drop('relevance', axis=1)\n",
    "bb = bbb.drop('relevance', axis=1)"
   ]
  },
  {
   "cell_type": "code",
   "execution_count": null,
   "metadata": {
    "collapsed": false
   },
   "outputs": [],
   "source": [
    "aa.reset_index().to_csv('word_co_train.csv', header=True, index=False)"
   ]
  },
  {
   "cell_type": "code",
   "execution_count": null,
   "metadata": {
    "collapsed": false
   },
   "outputs": [],
   "source": [
    "bb.reset_index().to_csv('word_co_test.csv', header=True, index=False)"
   ]
  },
  {
   "cell_type": "code",
   "execution_count": 4,
   "metadata": {
    "collapsed": false
   },
   "outputs": [
    {
     "data": {
      "text/html": [
       "<div>\n",
       "<table border=\"1\" class=\"dataframe\">\n",
       "  <thead>\n",
       "    <tr style=\"text-align: right;\">\n",
       "      <th></th>\n",
       "      <th>id</th>\n",
       "      <th>woqt1</th>\n",
       "      <th>woqt2</th>\n",
       "      <th>woqt3</th>\n",
       "      <th>woqt4</th>\n",
       "      <th>woqt5</th>\n",
       "      <th>woqt6</th>\n",
       "    </tr>\n",
       "  </thead>\n",
       "  <tbody>\n",
       "    <tr>\n",
       "      <th>0</th>\n",
       "      <td>2</td>\n",
       "      <td>0.054131</td>\n",
       "      <td>0.139973</td>\n",
       "      <td>0.017308</td>\n",
       "      <td>0.033680</td>\n",
       "      <td>0.084147</td>\n",
       "      <td>0.010375</td>\n",
       "    </tr>\n",
       "    <tr>\n",
       "      <th>1</th>\n",
       "      <td>16</td>\n",
       "      <td>0.101627</td>\n",
       "      <td>0.259178</td>\n",
       "      <td>0.012521</td>\n",
       "      <td>0.081595</td>\n",
       "      <td>0.214880</td>\n",
       "      <td>0.014222</td>\n",
       "    </tr>\n",
       "    <tr>\n",
       "      <th>2</th>\n",
       "      <td>18</td>\n",
       "      <td>0.206146</td>\n",
       "      <td>1.042023</td>\n",
       "      <td>0.161459</td>\n",
       "      <td>0.010576</td>\n",
       "      <td>0.050057</td>\n",
       "      <td>0.007427</td>\n",
       "    </tr>\n",
       "    <tr>\n",
       "      <th>3</th>\n",
       "      <td>35</td>\n",
       "      <td>0.250737</td>\n",
       "      <td>0.654225</td>\n",
       "      <td>0.064001</td>\n",
       "      <td>0.181117</td>\n",
       "      <td>0.467228</td>\n",
       "      <td>0.040137</td>\n",
       "    </tr>\n",
       "    <tr>\n",
       "      <th>4</th>\n",
       "      <td>69</td>\n",
       "      <td>0.020699</td>\n",
       "      <td>0.052253</td>\n",
       "      <td>0.003647</td>\n",
       "      <td>0.023631</td>\n",
       "      <td>0.042638</td>\n",
       "      <td>0.000358</td>\n",
       "    </tr>\n",
       "    <tr>\n",
       "      <th>5</th>\n",
       "      <td>88</td>\n",
       "      <td>0.020683</td>\n",
       "      <td>0.054795</td>\n",
       "      <td>0.001254</td>\n",
       "      <td>0.036444</td>\n",
       "      <td>0.118722</td>\n",
       "      <td>0.000749</td>\n",
       "    </tr>\n",
       "    <tr>\n",
       "      <th>6</th>\n",
       "      <td>113</td>\n",
       "      <td>0.025676</td>\n",
       "      <td>0.090455</td>\n",
       "      <td>0.001537</td>\n",
       "      <td>0.011935</td>\n",
       "      <td>0.035702</td>\n",
       "      <td>0.000550</td>\n",
       "    </tr>\n",
       "    <tr>\n",
       "      <th>7</th>\n",
       "      <td>117</td>\n",
       "      <td>0.111331</td>\n",
       "      <td>0.442529</td>\n",
       "      <td>0.000667</td>\n",
       "      <td>0.010946</td>\n",
       "      <td>0.034239</td>\n",
       "      <td>0.000162</td>\n",
       "    </tr>\n",
       "    <tr>\n",
       "      <th>8</th>\n",
       "      <td>123</td>\n",
       "      <td>0.077544</td>\n",
       "      <td>0.163294</td>\n",
       "      <td>0.000314</td>\n",
       "      <td>0.127381</td>\n",
       "      <td>0.194105</td>\n",
       "      <td>0.000086</td>\n",
       "    </tr>\n",
       "    <tr>\n",
       "      <th>9</th>\n",
       "      <td>136</td>\n",
       "      <td>0.139412</td>\n",
       "      <td>0.254918</td>\n",
       "      <td>0.022218</td>\n",
       "      <td>0.136884</td>\n",
       "      <td>0.201258</td>\n",
       "      <td>0.031163</td>\n",
       "    </tr>\n",
       "    <tr>\n",
       "      <th>10</th>\n",
       "      <td>147</td>\n",
       "      <td>0.050735</td>\n",
       "      <td>0.128277</td>\n",
       "      <td>0.009712</td>\n",
       "      <td>0.130805</td>\n",
       "      <td>0.286335</td>\n",
       "      <td>0.012631</td>\n",
       "    </tr>\n",
       "    <tr>\n",
       "      <th>11</th>\n",
       "      <td>164</td>\n",
       "      <td>0.000000</td>\n",
       "      <td>0.000000</td>\n",
       "      <td>0.000000</td>\n",
       "      <td>0.000000</td>\n",
       "      <td>0.000000</td>\n",
       "      <td>0.000000</td>\n",
       "    </tr>\n",
       "    <tr>\n",
       "      <th>12</th>\n",
       "      <td>172</td>\n",
       "      <td>0.126478</td>\n",
       "      <td>0.281083</td>\n",
       "      <td>0.029361</td>\n",
       "      <td>0.026785</td>\n",
       "      <td>0.081173</td>\n",
       "      <td>0.008899</td>\n",
       "    </tr>\n",
       "    <tr>\n",
       "      <th>13</th>\n",
       "      <td>201</td>\n",
       "      <td>0.092583</td>\n",
       "      <td>0.234182</td>\n",
       "      <td>0.020679</td>\n",
       "      <td>0.018730</td>\n",
       "      <td>0.059222</td>\n",
       "      <td>0.005286</td>\n",
       "    </tr>\n",
       "    <tr>\n",
       "      <th>14</th>\n",
       "      <td>214</td>\n",
       "      <td>0.056371</td>\n",
       "      <td>0.122859</td>\n",
       "      <td>0.011144</td>\n",
       "      <td>0.083570</td>\n",
       "      <td>0.193993</td>\n",
       "      <td>0.019412</td>\n",
       "    </tr>\n",
       "    <tr>\n",
       "      <th>15</th>\n",
       "      <td>223</td>\n",
       "      <td>0.099907</td>\n",
       "      <td>0.231670</td>\n",
       "      <td>0.007035</td>\n",
       "      <td>0.041428</td>\n",
       "      <td>0.111142</td>\n",
       "      <td>0.002027</td>\n",
       "    </tr>\n",
       "    <tr>\n",
       "      <th>16</th>\n",
       "      <td>241</td>\n",
       "      <td>0.209117</td>\n",
       "      <td>0.448860</td>\n",
       "      <td>0.026596</td>\n",
       "      <td>0.157294</td>\n",
       "      <td>0.370023</td>\n",
       "      <td>0.019954</td>\n",
       "    </tr>\n",
       "    <tr>\n",
       "      <th>17</th>\n",
       "      <td>257</td>\n",
       "      <td>0.053959</td>\n",
       "      <td>0.131987</td>\n",
       "      <td>0.002726</td>\n",
       "      <td>0.015283</td>\n",
       "      <td>0.042700</td>\n",
       "      <td>0.000746</td>\n",
       "    </tr>\n",
       "    <tr>\n",
       "      <th>18</th>\n",
       "      <td>272</td>\n",
       "      <td>0.079136</td>\n",
       "      <td>0.190607</td>\n",
       "      <td>0.005553</td>\n",
       "      <td>0.026476</td>\n",
       "      <td>0.080460</td>\n",
       "      <td>0.002592</td>\n",
       "    </tr>\n",
       "    <tr>\n",
       "      <th>19</th>\n",
       "      <td>293</td>\n",
       "      <td>0.173430</td>\n",
       "      <td>0.477103</td>\n",
       "      <td>0.047862</td>\n",
       "      <td>0.064616</td>\n",
       "      <td>0.187887</td>\n",
       "      <td>0.015866</td>\n",
       "    </tr>\n",
       "    <tr>\n",
       "      <th>20</th>\n",
       "      <td>314</td>\n",
       "      <td>0.130693</td>\n",
       "      <td>0.351932</td>\n",
       "      <td>0.014859</td>\n",
       "      <td>0.071801</td>\n",
       "      <td>0.202914</td>\n",
       "      <td>0.017297</td>\n",
       "    </tr>\n",
       "    <tr>\n",
       "      <th>21</th>\n",
       "      <td>323</td>\n",
       "      <td>0.305761</td>\n",
       "      <td>0.713266</td>\n",
       "      <td>0.027990</td>\n",
       "      <td>0.204417</td>\n",
       "      <td>0.547562</td>\n",
       "      <td>0.034792</td>\n",
       "    </tr>\n",
       "    <tr>\n",
       "      <th>22</th>\n",
       "      <td>341</td>\n",
       "      <td>0.216170</td>\n",
       "      <td>0.152488</td>\n",
       "      <td>0.009422</td>\n",
       "      <td>0.128910</td>\n",
       "      <td>0.168690</td>\n",
       "      <td>0.005178</td>\n",
       "    </tr>\n",
       "    <tr>\n",
       "      <th>23</th>\n",
       "      <td>351</td>\n",
       "      <td>0.083043</td>\n",
       "      <td>0.196321</td>\n",
       "      <td>0.012413</td>\n",
       "      <td>0.056675</td>\n",
       "      <td>0.097849</td>\n",
       "      <td>0.000993</td>\n",
       "    </tr>\n",
       "    <tr>\n",
       "      <th>24</th>\n",
       "      <td>361</td>\n",
       "      <td>0.070876</td>\n",
       "      <td>0.173499</td>\n",
       "      <td>0.007802</td>\n",
       "      <td>0.082497</td>\n",
       "      <td>0.262690</td>\n",
       "      <td>0.011299</td>\n",
       "    </tr>\n",
       "    <tr>\n",
       "      <th>25</th>\n",
       "      <td>373</td>\n",
       "      <td>0.079208</td>\n",
       "      <td>0.229275</td>\n",
       "      <td>0.026392</td>\n",
       "      <td>0.030868</td>\n",
       "      <td>0.084352</td>\n",
       "      <td>0.007078</td>\n",
       "    </tr>\n",
       "    <tr>\n",
       "      <th>26</th>\n",
       "      <td>389</td>\n",
       "      <td>0.145087</td>\n",
       "      <td>0.309287</td>\n",
       "      <td>0.011309</td>\n",
       "      <td>0.080020</td>\n",
       "      <td>0.194509</td>\n",
       "      <td>0.008479</td>\n",
       "    </tr>\n",
       "    <tr>\n",
       "      <th>27</th>\n",
       "      <td>440</td>\n",
       "      <td>0.188563</td>\n",
       "      <td>0.459678</td>\n",
       "      <td>0.023228</td>\n",
       "      <td>0.240662</td>\n",
       "      <td>0.592239</td>\n",
       "      <td>0.031519</td>\n",
       "    </tr>\n",
       "    <tr>\n",
       "      <th>28</th>\n",
       "      <td>468</td>\n",
       "      <td>0.123032</td>\n",
       "      <td>0.300011</td>\n",
       "      <td>0.021744</td>\n",
       "      <td>0.061006</td>\n",
       "      <td>0.137938</td>\n",
       "      <td>0.010028</td>\n",
       "    </tr>\n",
       "    <tr>\n",
       "      <th>29</th>\n",
       "      <td>475</td>\n",
       "      <td>0.088115</td>\n",
       "      <td>0.202078</td>\n",
       "      <td>0.009496</td>\n",
       "      <td>0.060501</td>\n",
       "      <td>0.148940</td>\n",
       "      <td>0.006120</td>\n",
       "    </tr>\n",
       "    <tr>\n",
       "      <th>...</th>\n",
       "      <td>...</td>\n",
       "      <td>...</td>\n",
       "      <td>...</td>\n",
       "      <td>...</td>\n",
       "      <td>...</td>\n",
       "      <td>...</td>\n",
       "      <td>...</td>\n",
       "    </tr>\n",
       "    <tr>\n",
       "      <th>20130</th>\n",
       "      <td>221398</td>\n",
       "      <td>0.110040</td>\n",
       "      <td>0.240954</td>\n",
       "      <td>0.005141</td>\n",
       "      <td>0.026200</td>\n",
       "      <td>0.057938</td>\n",
       "      <td>0.001349</td>\n",
       "    </tr>\n",
       "    <tr>\n",
       "      <th>20131</th>\n",
       "      <td>221400</td>\n",
       "      <td>0.051007</td>\n",
       "      <td>0.148416</td>\n",
       "      <td>0.000559</td>\n",
       "      <td>0.047254</td>\n",
       "      <td>0.163841</td>\n",
       "      <td>0.000101</td>\n",
       "    </tr>\n",
       "    <tr>\n",
       "      <th>20132</th>\n",
       "      <td>221401</td>\n",
       "      <td>0.488745</td>\n",
       "      <td>1.201882</td>\n",
       "      <td>0.051536</td>\n",
       "      <td>0.105852</td>\n",
       "      <td>0.441975</td>\n",
       "      <td>0.014941</td>\n",
       "    </tr>\n",
       "    <tr>\n",
       "      <th>20133</th>\n",
       "      <td>221404</td>\n",
       "      <td>0.155049</td>\n",
       "      <td>0.442681</td>\n",
       "      <td>0.043981</td>\n",
       "      <td>0.022992</td>\n",
       "      <td>0.061851</td>\n",
       "      <td>0.007897</td>\n",
       "    </tr>\n",
       "    <tr>\n",
       "      <th>20134</th>\n",
       "      <td>221405</td>\n",
       "      <td>0.132905</td>\n",
       "      <td>0.352688</td>\n",
       "      <td>0.014307</td>\n",
       "      <td>0.080263</td>\n",
       "      <td>0.186719</td>\n",
       "      <td>0.010332</td>\n",
       "    </tr>\n",
       "    <tr>\n",
       "      <th>20135</th>\n",
       "      <td>221407</td>\n",
       "      <td>0.058681</td>\n",
       "      <td>0.216447</td>\n",
       "      <td>0.000303</td>\n",
       "      <td>0.038296</td>\n",
       "      <td>0.095088</td>\n",
       "      <td>0.000469</td>\n",
       "    </tr>\n",
       "    <tr>\n",
       "      <th>20136</th>\n",
       "      <td>221408</td>\n",
       "      <td>0.245292</td>\n",
       "      <td>0.590987</td>\n",
       "      <td>0.015284</td>\n",
       "      <td>0.052338</td>\n",
       "      <td>0.120417</td>\n",
       "      <td>0.004272</td>\n",
       "    </tr>\n",
       "    <tr>\n",
       "      <th>20137</th>\n",
       "      <td>221409</td>\n",
       "      <td>0.011236</td>\n",
       "      <td>0.014153</td>\n",
       "      <td>0.000000</td>\n",
       "      <td>0.000248</td>\n",
       "      <td>0.000128</td>\n",
       "      <td>0.000000</td>\n",
       "    </tr>\n",
       "    <tr>\n",
       "      <th>20138</th>\n",
       "      <td>221411</td>\n",
       "      <td>0.030407</td>\n",
       "      <td>0.074647</td>\n",
       "      <td>0.000543</td>\n",
       "      <td>0.106420</td>\n",
       "      <td>0.135215</td>\n",
       "      <td>0.000797</td>\n",
       "    </tr>\n",
       "    <tr>\n",
       "      <th>20139</th>\n",
       "      <td>221412</td>\n",
       "      <td>0.064419</td>\n",
       "      <td>0.130636</td>\n",
       "      <td>0.000315</td>\n",
       "      <td>0.036577</td>\n",
       "      <td>0.151257</td>\n",
       "      <td>0.005545</td>\n",
       "    </tr>\n",
       "    <tr>\n",
       "      <th>20140</th>\n",
       "      <td>221413</td>\n",
       "      <td>0.148832</td>\n",
       "      <td>0.345551</td>\n",
       "      <td>0.001687</td>\n",
       "      <td>0.038367</td>\n",
       "      <td>0.112203</td>\n",
       "      <td>0.000871</td>\n",
       "    </tr>\n",
       "    <tr>\n",
       "      <th>20141</th>\n",
       "      <td>221415</td>\n",
       "      <td>0.157459</td>\n",
       "      <td>0.395778</td>\n",
       "      <td>0.002695</td>\n",
       "      <td>0.131224</td>\n",
       "      <td>0.272813</td>\n",
       "      <td>0.013302</td>\n",
       "    </tr>\n",
       "    <tr>\n",
       "      <th>20142</th>\n",
       "      <td>221416</td>\n",
       "      <td>0.034007</td>\n",
       "      <td>0.077959</td>\n",
       "      <td>0.002668</td>\n",
       "      <td>0.060047</td>\n",
       "      <td>0.111897</td>\n",
       "      <td>0.002966</td>\n",
       "    </tr>\n",
       "    <tr>\n",
       "      <th>20143</th>\n",
       "      <td>221419</td>\n",
       "      <td>0.075771</td>\n",
       "      <td>0.069066</td>\n",
       "      <td>0.000000</td>\n",
       "      <td>0.036170</td>\n",
       "      <td>0.019274</td>\n",
       "      <td>0.000000</td>\n",
       "    </tr>\n",
       "    <tr>\n",
       "      <th>20144</th>\n",
       "      <td>221420</td>\n",
       "      <td>0.065413</td>\n",
       "      <td>0.149992</td>\n",
       "      <td>0.007144</td>\n",
       "      <td>0.019272</td>\n",
       "      <td>0.031787</td>\n",
       "      <td>0.001547</td>\n",
       "    </tr>\n",
       "    <tr>\n",
       "      <th>20145</th>\n",
       "      <td>221422</td>\n",
       "      <td>0.175590</td>\n",
       "      <td>0.456799</td>\n",
       "      <td>0.039595</td>\n",
       "      <td>0.127893</td>\n",
       "      <td>0.410289</td>\n",
       "      <td>0.022599</td>\n",
       "    </tr>\n",
       "    <tr>\n",
       "      <th>20146</th>\n",
       "      <td>221423</td>\n",
       "      <td>0.102926</td>\n",
       "      <td>0.278810</td>\n",
       "      <td>0.028386</td>\n",
       "      <td>0.062761</td>\n",
       "      <td>0.080450</td>\n",
       "      <td>0.006979</td>\n",
       "    </tr>\n",
       "    <tr>\n",
       "      <th>20147</th>\n",
       "      <td>221426</td>\n",
       "      <td>0.075524</td>\n",
       "      <td>0.167714</td>\n",
       "      <td>0.002818</td>\n",
       "      <td>0.036522</td>\n",
       "      <td>0.083783</td>\n",
       "      <td>0.002358</td>\n",
       "    </tr>\n",
       "    <tr>\n",
       "      <th>20148</th>\n",
       "      <td>221427</td>\n",
       "      <td>0.139283</td>\n",
       "      <td>0.308575</td>\n",
       "      <td>0.014035</td>\n",
       "      <td>0.168705</td>\n",
       "      <td>0.248308</td>\n",
       "      <td>0.012362</td>\n",
       "    </tr>\n",
       "    <tr>\n",
       "      <th>20149</th>\n",
       "      <td>221432</td>\n",
       "      <td>0.120364</td>\n",
       "      <td>0.274076</td>\n",
       "      <td>0.005328</td>\n",
       "      <td>0.038314</td>\n",
       "      <td>0.102073</td>\n",
       "      <td>0.002737</td>\n",
       "    </tr>\n",
       "    <tr>\n",
       "      <th>20150</th>\n",
       "      <td>221434</td>\n",
       "      <td>0.116009</td>\n",
       "      <td>0.261056</td>\n",
       "      <td>0.013247</td>\n",
       "      <td>0.062194</td>\n",
       "      <td>0.100574</td>\n",
       "      <td>0.006491</td>\n",
       "    </tr>\n",
       "    <tr>\n",
       "      <th>20151</th>\n",
       "      <td>221443</td>\n",
       "      <td>0.173065</td>\n",
       "      <td>0.570693</td>\n",
       "      <td>0.054542</td>\n",
       "      <td>0.135341</td>\n",
       "      <td>0.309710</td>\n",
       "      <td>0.026727</td>\n",
       "    </tr>\n",
       "    <tr>\n",
       "      <th>20152</th>\n",
       "      <td>221449</td>\n",
       "      <td>0.148753</td>\n",
       "      <td>0.394480</td>\n",
       "      <td>0.026218</td>\n",
       "      <td>0.080793</td>\n",
       "      <td>0.205730</td>\n",
       "      <td>0.016000</td>\n",
       "    </tr>\n",
       "    <tr>\n",
       "      <th>20153</th>\n",
       "      <td>221450</td>\n",
       "      <td>0.040484</td>\n",
       "      <td>0.101821</td>\n",
       "      <td>0.002432</td>\n",
       "      <td>0.018129</td>\n",
       "      <td>0.028074</td>\n",
       "      <td>0.000424</td>\n",
       "    </tr>\n",
       "    <tr>\n",
       "      <th>20154</th>\n",
       "      <td>221455</td>\n",
       "      <td>0.150688</td>\n",
       "      <td>0.383675</td>\n",
       "      <td>0.030545</td>\n",
       "      <td>0.043035</td>\n",
       "      <td>0.198375</td>\n",
       "      <td>0.025520</td>\n",
       "    </tr>\n",
       "    <tr>\n",
       "      <th>20155</th>\n",
       "      <td>221457</td>\n",
       "      <td>0.046560</td>\n",
       "      <td>0.106487</td>\n",
       "      <td>0.003611</td>\n",
       "      <td>0.071613</td>\n",
       "      <td>0.075506</td>\n",
       "      <td>0.002598</td>\n",
       "    </tr>\n",
       "    <tr>\n",
       "      <th>20156</th>\n",
       "      <td>221458</td>\n",
       "      <td>0.166826</td>\n",
       "      <td>0.492008</td>\n",
       "      <td>0.049854</td>\n",
       "      <td>0.105036</td>\n",
       "      <td>0.251115</td>\n",
       "      <td>0.014702</td>\n",
       "    </tr>\n",
       "    <tr>\n",
       "      <th>20157</th>\n",
       "      <td>221463</td>\n",
       "      <td>0.129689</td>\n",
       "      <td>0.362815</td>\n",
       "      <td>0.010105</td>\n",
       "      <td>0.081168</td>\n",
       "      <td>0.254164</td>\n",
       "      <td>0.005556</td>\n",
       "    </tr>\n",
       "    <tr>\n",
       "      <th>20158</th>\n",
       "      <td>221471</td>\n",
       "      <td>0.094401</td>\n",
       "      <td>0.222649</td>\n",
       "      <td>0.006539</td>\n",
       "      <td>0.027355</td>\n",
       "      <td>0.063868</td>\n",
       "      <td>0.001213</td>\n",
       "    </tr>\n",
       "    <tr>\n",
       "      <th>20159</th>\n",
       "      <td>221473</td>\n",
       "      <td>0.121276</td>\n",
       "      <td>0.328257</td>\n",
       "      <td>0.022178</td>\n",
       "      <td>0.120588</td>\n",
       "      <td>0.285620</td>\n",
       "      <td>0.021252</td>\n",
       "    </tr>\n",
       "  </tbody>\n",
       "</table>\n",
       "<p>20160 rows × 7 columns</p>\n",
       "</div>"
      ],
      "text/plain": [
       "           id     woqt1     woqt2     woqt3     woqt4     woqt5     woqt6\n",
       "0           2  0.054131  0.139973  0.017308  0.033680  0.084147  0.010375\n",
       "1          16  0.101627  0.259178  0.012521  0.081595  0.214880  0.014222\n",
       "2          18  0.206146  1.042023  0.161459  0.010576  0.050057  0.007427\n",
       "3          35  0.250737  0.654225  0.064001  0.181117  0.467228  0.040137\n",
       "4          69  0.020699  0.052253  0.003647  0.023631  0.042638  0.000358\n",
       "5          88  0.020683  0.054795  0.001254  0.036444  0.118722  0.000749\n",
       "6         113  0.025676  0.090455  0.001537  0.011935  0.035702  0.000550\n",
       "7         117  0.111331  0.442529  0.000667  0.010946  0.034239  0.000162\n",
       "8         123  0.077544  0.163294  0.000314  0.127381  0.194105  0.000086\n",
       "9         136  0.139412  0.254918  0.022218  0.136884  0.201258  0.031163\n",
       "10        147  0.050735  0.128277  0.009712  0.130805  0.286335  0.012631\n",
       "11        164  0.000000  0.000000  0.000000  0.000000  0.000000  0.000000\n",
       "12        172  0.126478  0.281083  0.029361  0.026785  0.081173  0.008899\n",
       "13        201  0.092583  0.234182  0.020679  0.018730  0.059222  0.005286\n",
       "14        214  0.056371  0.122859  0.011144  0.083570  0.193993  0.019412\n",
       "15        223  0.099907  0.231670  0.007035  0.041428  0.111142  0.002027\n",
       "16        241  0.209117  0.448860  0.026596  0.157294  0.370023  0.019954\n",
       "17        257  0.053959  0.131987  0.002726  0.015283  0.042700  0.000746\n",
       "18        272  0.079136  0.190607  0.005553  0.026476  0.080460  0.002592\n",
       "19        293  0.173430  0.477103  0.047862  0.064616  0.187887  0.015866\n",
       "20        314  0.130693  0.351932  0.014859  0.071801  0.202914  0.017297\n",
       "21        323  0.305761  0.713266  0.027990  0.204417  0.547562  0.034792\n",
       "22        341  0.216170  0.152488  0.009422  0.128910  0.168690  0.005178\n",
       "23        351  0.083043  0.196321  0.012413  0.056675  0.097849  0.000993\n",
       "24        361  0.070876  0.173499  0.007802  0.082497  0.262690  0.011299\n",
       "25        373  0.079208  0.229275  0.026392  0.030868  0.084352  0.007078\n",
       "26        389  0.145087  0.309287  0.011309  0.080020  0.194509  0.008479\n",
       "27        440  0.188563  0.459678  0.023228  0.240662  0.592239  0.031519\n",
       "28        468  0.123032  0.300011  0.021744  0.061006  0.137938  0.010028\n",
       "29        475  0.088115  0.202078  0.009496  0.060501  0.148940  0.006120\n",
       "...       ...       ...       ...       ...       ...       ...       ...\n",
       "20130  221398  0.110040  0.240954  0.005141  0.026200  0.057938  0.001349\n",
       "20131  221400  0.051007  0.148416  0.000559  0.047254  0.163841  0.000101\n",
       "20132  221401  0.488745  1.201882  0.051536  0.105852  0.441975  0.014941\n",
       "20133  221404  0.155049  0.442681  0.043981  0.022992  0.061851  0.007897\n",
       "20134  221405  0.132905  0.352688  0.014307  0.080263  0.186719  0.010332\n",
       "20135  221407  0.058681  0.216447  0.000303  0.038296  0.095088  0.000469\n",
       "20136  221408  0.245292  0.590987  0.015284  0.052338  0.120417  0.004272\n",
       "20137  221409  0.011236  0.014153  0.000000  0.000248  0.000128  0.000000\n",
       "20138  221411  0.030407  0.074647  0.000543  0.106420  0.135215  0.000797\n",
       "20139  221412  0.064419  0.130636  0.000315  0.036577  0.151257  0.005545\n",
       "20140  221413  0.148832  0.345551  0.001687  0.038367  0.112203  0.000871\n",
       "20141  221415  0.157459  0.395778  0.002695  0.131224  0.272813  0.013302\n",
       "20142  221416  0.034007  0.077959  0.002668  0.060047  0.111897  0.002966\n",
       "20143  221419  0.075771  0.069066  0.000000  0.036170  0.019274  0.000000\n",
       "20144  221420  0.065413  0.149992  0.007144  0.019272  0.031787  0.001547\n",
       "20145  221422  0.175590  0.456799  0.039595  0.127893  0.410289  0.022599\n",
       "20146  221423  0.102926  0.278810  0.028386  0.062761  0.080450  0.006979\n",
       "20147  221426  0.075524  0.167714  0.002818  0.036522  0.083783  0.002358\n",
       "20148  221427  0.139283  0.308575  0.014035  0.168705  0.248308  0.012362\n",
       "20149  221432  0.120364  0.274076  0.005328  0.038314  0.102073  0.002737\n",
       "20150  221434  0.116009  0.261056  0.013247  0.062194  0.100574  0.006491\n",
       "20151  221443  0.173065  0.570693  0.054542  0.135341  0.309710  0.026727\n",
       "20152  221449  0.148753  0.394480  0.026218  0.080793  0.205730  0.016000\n",
       "20153  221450  0.040484  0.101821  0.002432  0.018129  0.028074  0.000424\n",
       "20154  221455  0.150688  0.383675  0.030545  0.043035  0.198375  0.025520\n",
       "20155  221457  0.046560  0.106487  0.003611  0.071613  0.075506  0.002598\n",
       "20156  221458  0.166826  0.492008  0.049854  0.105036  0.251115  0.014702\n",
       "20157  221463  0.129689  0.362815  0.010105  0.081168  0.254164  0.005556\n",
       "20158  221471  0.094401  0.222649  0.006539  0.027355  0.063868  0.001213\n",
       "20159  221473  0.121276  0.328257  0.022178  0.120588  0.285620  0.021252\n",
       "\n",
       "[20160 rows x 7 columns]"
      ]
     },
     "execution_count": 4,
     "metadata": {},
     "output_type": "execute_result"
    }
   ],
   "source": [
    "pd.read_csv('word_co_validate_local.csv.gz')"
   ]
  }
 ],
 "metadata": {
  "kernelspec": {
   "display_name": "Python 2",
   "language": "python",
   "name": "python2"
  },
  "language_info": {
   "codemirror_mode": {
    "name": "ipython",
    "version": 2
   },
   "file_extension": ".py",
   "mimetype": "text/x-python",
   "name": "python",
   "nbconvert_exporter": "python",
   "pygments_lexer": "ipython2",
   "version": "2.7.10"
  }
 },
 "nbformat": 4,
 "nbformat_minor": 0
}
