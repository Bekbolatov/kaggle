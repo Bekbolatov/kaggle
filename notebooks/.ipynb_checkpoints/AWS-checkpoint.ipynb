{
 "cells": [
  {
   "cell_type": "code",
   "execution_count": 13,
   "metadata": {
    "collapsed": true
   },
   "outputs": [],
   "source": [
    "import boto.ec2\n",
    "\n",
    "class SpotInstances:\n",
    "    \"\"\"\n",
    "    si = SpotInstances()\n",
    "    si.request(1)\n",
    "    si.get_public_dns_names()\n",
    "    \n",
    "    XGBOOST 5   -> ami-d3c5d5e3\n",
    "    XGBOOST 5.1 -> ami-f38292c3\n",
    "    XGBOOST 5.2 -> ami-85beaeb5\n",
    "    \"\"\"\n",
    "    def __init__(self, image_id = \"ami-85beaeb5\"):\n",
    "        self.image_id = image_id\n",
    "        self.conn = boto.ec2.connect_to_region(\"us-west-2\")\n",
    "\n",
    "    def request(self, num_instances=1, max_price=0.05, subnet='a'):\n",
    "        if subnet == 'a':\n",
    "            subnet_id = 'subnet-04299373'\n",
    "        elif subnet == 'b':\n",
    "            subnet_id = 'subnet-705a1915'\n",
    "        else:\n",
    "            subnet_id = 'subnet-ac9314f5'\n",
    "\n",
    "        self.reqs = self.conn.request_spot_instances(price=str(max_price),\n",
    "                                                     image_id=self.image_id,\n",
    "                                                     count=num_instances,\n",
    "                                                     type=\"one-time\",\n",
    "                                                     key_name=\"panerapig\",\n",
    "                                                     instance_type=\"c4.large\",\n",
    "                                                     subnet_id=subnet_id)\n",
    "        for req in self.reqs:\n",
    "            self.conn.create_tags(req.id, {'purpose': 'xgboost'})\n",
    "\n",
    "    def cancel(self):\n",
    "        for req in self.reqs:\n",
    "            self.conn.cancel_spot_instance_requests(req.id)\n",
    "\n",
    "    def update_requests(self):\n",
    "        self.reqs = self.conn.get_all_spot_instance_requests()\n",
    "\n",
    "    def print_requests(self):\n",
    "        for req in self.reqs:\n",
    "            print(req.id)\n",
    "\n",
    "    def print_public_dns_names(self):\n",
    "        self.update_requests()\n",
    "        reservations = self.conn.get_all_reservations(instance_ids = [req.instance_id for req in self.reqs])\n",
    "        for res in reservations:\n",
    "            for instance in res.instances:\n",
    "                print(instance.public_dns_name)"
   ]
  },
  {
   "cell_type": "code",
   "execution_count": 14,
   "metadata": {
    "collapsed": true
   },
   "outputs": [],
   "source": [
    "import boto3\n",
    "\n",
    "class ClusterTaskQueue():\n",
    "    def add_task(self, task_string):\n",
    "        sqs = boto3.resource('sqs')\n",
    "        queue = sqs.get_queue_by_name(QueueName='cluster_task_queue')\n",
    "        queue.send_message(MessageBody=task_string)\n",
    "\n",
    "ct = ClusterTaskQueue()"
   ]
  },
  {
   "cell_type": "code",
   "execution_count": 15,
   "metadata": {
    "collapsed": true
   },
   "outputs": [],
   "source": [
    "si = SpotInstances()\n",
    "ctq = ClusterTaskQueue()\n",
    "sqs = boto3.resource('sqs')        \n",
    "new_member_queue = sqs.get_queue_by_name(QueueName='cluster_new_member')\n",
    "task_commitment_queue = sqs.get_queue_by_name(QueueName='cluster_task_commitment')"
   ]
  },
  {
   "cell_type": "code",
   "execution_count": 4,
   "metadata": {
    "collapsed": true
   },
   "outputs": [],
   "source": [
    "si.request(subnet='b')"
   ]
  },
  {
   "cell_type": "code",
   "execution_count": 16,
   "metadata": {
    "collapsed": false
   },
   "outputs": [
    {
     "name": "stdout",
     "output_type": "stream",
     "text": [
      "ec2-52-88-89-104.us-west-2.compute.amazonaws.com\n"
     ]
    }
   ],
   "source": [
    "si.print_public_dns_names()"
   ]
  },
  {
   "cell_type": "code",
   "execution_count": 142,
   "metadata": {
    "collapsed": true
   },
   "outputs": [],
   "source": [
    "ctq.add_task('hello yellow')"
   ]
  },
  {
   "cell_type": "code",
   "execution_count": 153,
   "metadata": {
    "collapsed": true
   },
   "outputs": [],
   "source": [
    "ctq.add_task('quit')"
   ]
  },
  {
   "cell_type": "code",
   "execution_count": 157,
   "metadata": {
    "collapsed": false
   },
   "outputs": [],
   "source": [
    "msgs = new_member_queue.receive_messages(MessageAttributeNames=['Worker'])\n",
    "for msg in msgs:\n",
    "    worker_dns_name = 'unknown'\n",
    "    if msg.message_attributes is not None:\n",
    "        worker_dns_name = msg.message_attributes.get('Worker')['StringValue']\n",
    "    print('%s: %s' % (worker_dns_name, msg.body))\n",
    "    msg.delete()"
   ]
  },
  {
   "cell_type": "code",
   "execution_count": 160,
   "metadata": {
    "collapsed": false
   },
   "outputs": [],
   "source": [
    "msgs = task_commitment_queue.receive_messages(MessageAttributeNames=['Worker'])\n",
    "for msg in msgs:\n",
    "    worker_dns_name = 'unknown'\n",
    "    if msg.message_attributes is not None:\n",
    "        worker_dns_name = msg.message_attributes.get('Worker')['StringValue']\n",
    "    print('%s: %s' % (worker_dns_name, msg.body))\n",
    "    msg.delete()"
   ]
  },
  {
   "cell_type": "code",
   "execution_count": null,
   "metadata": {
    "collapsed": true
   },
   "outputs": [],
   "source": []
  }
 ],
 "metadata": {
  "kernelspec": {
   "display_name": "Python 2",
   "language": "python",
   "name": "python2"
  },
  "language_info": {
   "codemirror_mode": {
    "name": "ipython",
    "version": 2
   },
   "file_extension": ".py",
   "mimetype": "text/x-python",
   "name": "python",
   "nbconvert_exporter": "python",
   "pygments_lexer": "ipython2",
   "version": "2.7.6"
  }
 },
 "nbformat": 4,
 "nbformat_minor": 0
}
