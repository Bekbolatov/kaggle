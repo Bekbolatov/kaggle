{
 "cells": [
  {
   "cell_type": "code",
   "execution_count": 28,
   "metadata": {
    "collapsed": true
   },
   "outputs": [],
   "source": [
    "import pandas as pd\n",
    "import numpy as np\n",
    "\n",
    "data_loc = '/Users/rbekbolatov/data/kaggle/native/'"
   ]
  },
  {
   "cell_type": "code",
   "execution_count": 2,
   "metadata": {
    "collapsed": true
   },
   "outputs": [],
   "source": [
    "dirs = {}\n",
    "\n",
    "for i in range(5):\n",
    "    files = pd.read_csv(data_loc + 'files_in/files_in_' + str(i), header=None, names=['filename'])\n",
    "    files['dir'] = i\n",
    "    dirs[i] = set(files['filename'])\n",
    "    \n",
    "def get_dir(filename):\n",
    "    for i in range(5):\n",
    "        if filename in dirs[i]:\n",
    "            return i\n",
    "    return -1  \n",
    "\n",
    "eval_labels = pd.read_csv(data_loc + 'train.csv')"
   ]
  },
  {
   "cell_type": "code",
   "execution_count": 12,
   "metadata": {
    "collapsed": true
   },
   "outputs": [],
   "source": [
    "all_files = pd.read_csv(data_loc + 'all_filenames.csv', header=None, names=['filename', 'size'])\n",
    "files_8k = all_files.sample(8000)\n",
    "files_3k = all_files.sample(3000)\n",
    "#files_3k['filename'].to_csv(data_loc + 'files3k.csv', index=False)\n",
    "#files_8k['filename'].to_csv(data_loc + 'files8k.csv', index=False)\n",
    "files_3k = files_3k['filename']\n",
    "files_8k = files_8k['filename']\n",
    "files_3k = np.asarray(files_3k)\n",
    "files_8k = np.asarray(files_8k)"
   ]
  },
  {
   "cell_type": "code",
   "execution_count": null,
   "metadata": {
    "collapsed": true
   },
   "outputs": [],
   "source": []
  },
  {
   "cell_type": "code",
   "execution_count": 3,
   "metadata": {
    "collapsed": false
   },
   "outputs": [
    {
     "data": {
      "text/plain": [
       "(0, 4)"
      ]
     },
     "execution_count": 3,
     "metadata": {},
     "output_type": "execute_result"
    }
   ],
   "source": [
    "get_dir('999174_raw_html.txt'), get_dir('999958_raw_html.txt')"
   ]
  },
  {
   "cell_type": "code",
   "execution_count": 4,
   "metadata": {
    "collapsed": false
   },
   "outputs": [],
   "source": [
    "eval_labels = pd.read_csv(data_loc + 'train.csv')\n",
    "lb_labels = pd.read_csv(data_loc + 'sampleSubmission.csv')"
   ]
  },
  {
   "cell_type": "code",
   "execution_count": 5,
   "metadata": {
    "collapsed": false
   },
   "outputs": [],
   "source": [
    "eval_labels_sponsored = eval_labels[eval_labels['sponsored'] == 1]"
   ]
  },
  {
   "cell_type": "code",
   "execution_count": 6,
   "metadata": {
    "collapsed": false
   },
   "outputs": [
    {
     "data": {
      "text/html": [
       "<div>\n",
       "<table border=\"1\" class=\"dataframe\">\n",
       "  <thead>\n",
       "    <tr style=\"text-align: right;\">\n",
       "      <th></th>\n",
       "      <th>file</th>\n",
       "      <th>sponsored</th>\n",
       "    </tr>\n",
       "  </thead>\n",
       "  <tbody>\n",
       "    <tr>\n",
       "      <th>12</th>\n",
       "      <td>1897377_raw_html.txt</td>\n",
       "      <td>1</td>\n",
       "    </tr>\n",
       "    <tr>\n",
       "      <th>39</th>\n",
       "      <td>1767762_raw_html.txt</td>\n",
       "      <td>1</td>\n",
       "    </tr>\n",
       "  </tbody>\n",
       "</table>\n",
       "</div>"
      ],
      "text/plain": [
       "                    file  sponsored\n",
       "12  1897377_raw_html.txt          1\n",
       "39  1767762_raw_html.txt          1"
      ]
     },
     "execution_count": 6,
     "metadata": {},
     "output_type": "execute_result"
    }
   ],
   "source": [
    "eval_labels_sponsored[:2]"
   ]
  },
  {
   "cell_type": "code",
   "execution_count": 7,
   "metadata": {
    "collapsed": false
   },
   "outputs": [],
   "source": [
    "filename = '1767762_raw_html.txt'\n",
    "file_content = pd.read_html(data_loc + str(get_dir(filename)) + '/' + filename)"
   ]
  },
  {
   "cell_type": "code",
   "execution_count": 8,
   "metadata": {
    "collapsed": false
   },
   "outputs": [
    {
     "data": {
      "text/plain": [
       "[            0                                      1\n",
       " 0  JOBBLY CO.  Jobbly Co  Resource Center  Job Board,\n",
       "                                                    0  \\\n",
       " 0  29 Extremely Successful People throughout Hist...   \n",
       " \n",
       "                                                    1  \n",
       " 0  WHAT CAREER SHOULD YOU HAVE? TAKE OUR QUIZ AND...  ,\n",
       "                                            0      1        2\n",
       " 0  (c) Jobbly Co. 2014. All rights reserved.  About  Contact]"
      ]
     },
     "execution_count": 8,
     "metadata": {},
     "output_type": "execute_result"
    }
   ],
   "source": []
  },
  {
   "cell_type": "code",
   "execution_count": null,
   "metadata": {
    "collapsed": true
   },
   "outputs": [],
   "source": []
  }
 ],
 "metadata": {
  "kernelspec": {
   "display_name": "Python 2",
   "language": "python",
   "name": "python2"
  },
  "language_info": {
   "codemirror_mode": {
    "name": "ipython",
    "version": 2
   },
   "file_extension": ".py",
   "mimetype": "text/x-python",
   "name": "python",
   "nbconvert_exporter": "python",
   "pygments_lexer": "ipython2",
   "version": "2.7.6"
  }
 },
 "nbformat": 4,
 "nbformat_minor": 0
}
