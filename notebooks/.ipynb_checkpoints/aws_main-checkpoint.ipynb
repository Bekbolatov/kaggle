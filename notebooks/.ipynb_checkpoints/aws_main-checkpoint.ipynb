{
 "cells": [
  {
   "cell_type": "code",
   "execution_count": 1,
   "metadata": {
    "collapsed": true
   },
   "outputs": [],
   "source": [
    "import boto.ec2\n",
    "import boto3"
   ]
  },
  {
   "cell_type": "code",
   "execution_count": 2,
   "metadata": {
    "collapsed": true
   },
   "outputs": [],
   "source": [
    "%run aws_helper.py"
   ]
  },
  {
   "cell_type": "code",
   "execution_count": 3,
   "metadata": {
    "collapsed": true
   },
   "outputs": [],
   "source": [
    "si = SpotInstances()\n",
    "ctq = ClusterTaskQueue()"
   ]
  },
  {
   "cell_type": "code",
   "execution_count": 4,
   "metadata": {
    "collapsed": false
   },
   "outputs": [],
   "source": [
    "sqs = boto3.resource('sqs')  "
   ]
  },
  {
   "cell_type": "code",
   "execution_count": 5,
   "metadata": {
    "collapsed": false
   },
   "outputs": [],
   "source": [
    "new_member_queue = sqs.get_queue_by_name(QueueName='cluster_new_member')\n",
    "task_commitment_queue = sqs.get_queue_by_name(QueueName='cluster_task_commitment')\n",
    "task_queue = sqs.get_queue_by_name(QueueName='cluster_task_queue')\n",
    "# instance metadata: http://docs.aws.amazon.com/AWSEC2/latest/UserGuide/ec2-instance-metadata.html\n",
    "# ipython setup: http://ipython.org/ipython-doc/dev/notebook/public_server.html#running-a-public-notebook-server"
   ]
  },
  {
   "cell_type": "code",
   "execution_count": 13,
   "metadata": {
    "collapsed": false
   },
   "outputs": [],
   "source": [
    "si.request(num_instances=60, subnet='b')"
   ]
  },
  {
   "cell_type": "code",
   "execution_count": 18,
   "metadata": {
    "collapsed": false
   },
   "outputs": [
    {
     "name": "stdout",
     "output_type": "stream",
     "text": [
      "ec2-52-89-56-55.us-west-2.compute.amazonaws.com\n",
      "ec2-52-89-0-205.us-west-2.compute.amazonaws.com\n",
      "ec2-52-89-46-229.us-west-2.compute.amazonaws.com\n",
      "ec2-52-89-43-33.us-west-2.compute.amazonaws.com\n",
      "ec2-52-89-46-0.us-west-2.compute.amazonaws.com\n",
      "ec2-52-27-210-152.us-west-2.compute.amazonaws.com\n",
      "ec2-52-89-55-148.us-west-2.compute.amazonaws.com\n",
      "ec2-52-89-58-76.us-west-2.compute.amazonaws.com\n",
      "ec2-52-89-47-23.us-west-2.compute.amazonaws.com\n",
      "ec2-52-89-63-104.us-west-2.compute.amazonaws.com\n",
      "ec2-52-89-47-29.us-west-2.compute.amazonaws.com\n",
      "ec2-52-89-58-212.us-west-2.compute.amazonaws.com\n",
      "ec2-52-89-55-5.us-west-2.compute.amazonaws.com\n",
      "ec2-52-88-169-180.us-west-2.compute.amazonaws.com\n",
      "ec2-52-89-58-100.us-west-2.compute.amazonaws.com\n",
      "ec2-52-89-47-126.us-west-2.compute.amazonaws.com\n",
      "ec2-52-89-47-86.us-west-2.compute.amazonaws.com\n",
      "ec2-52-89-47-157.us-west-2.compute.amazonaws.com\n",
      "ec2-52-89-47-107.us-west-2.compute.amazonaws.com\n",
      "ec2-52-89-42-177.us-west-2.compute.amazonaws.com\n",
      "ec2-52-88-242-161.us-west-2.compute.amazonaws.com\n",
      "ec2-52-89-47-18.us-west-2.compute.amazonaws.com\n",
      "ec2-52-89-55-95.us-west-2.compute.amazonaws.com\n",
      "ec2-52-89-55-197.us-west-2.compute.amazonaws.com\n",
      "ec2-52-88-17-23.us-west-2.compute.amazonaws.com\n",
      "ec2-52-11-92-118.us-west-2.compute.amazonaws.com\n",
      "ec2-52-27-127-219.us-west-2.compute.amazonaws.com\n",
      "ec2-52-11-252-203.us-west-2.compute.amazonaws.com\n",
      "\n",
      "ec2-52-89-54-169.us-west-2.compute.amazonaws.com\n",
      "ec2-52-89-56-59.us-west-2.compute.amazonaws.com\n",
      "ec2-52-89-47-235.us-west-2.compute.amazonaws.com\n",
      "ec2-52-89-58-2.us-west-2.compute.amazonaws.com\n",
      "ec2-52-89-56-166.us-west-2.compute.amazonaws.com\n",
      "ec2-52-89-58-80.us-west-2.compute.amazonaws.com\n",
      "ec2-52-89-48-7.us-west-2.compute.amazonaws.com\n",
      "ec2-52-89-58-189.us-west-2.compute.amazonaws.com\n",
      "ec2-52-27-25-34.us-west-2.compute.amazonaws.com\n",
      "ec2-52-88-197-39.us-west-2.compute.amazonaws.com\n",
      "ec2-52-89-55-192.us-west-2.compute.amazonaws.com\n",
      "ec2-52-89-47-127.us-west-2.compute.amazonaws.com\n",
      "ec2-52-89-45-120.us-west-2.compute.amazonaws.com\n",
      "ec2-52-89-55-193.us-west-2.compute.amazonaws.com\n",
      "ec2-52-89-56-119.us-west-2.compute.amazonaws.com\n",
      "ec2-52-89-45-109.us-west-2.compute.amazonaws.com\n",
      "ec2-52-89-48-9.us-west-2.compute.amazonaws.com\n",
      "ec2-52-89-54-172.us-west-2.compute.amazonaws.com\n",
      "ec2-52-89-56-122.us-west-2.compute.amazonaws.com\n",
      "ec2-52-89-58-56.us-west-2.compute.amazonaws.com\n",
      "ec2-52-89-58-185.us-west-2.compute.amazonaws.com\n",
      "ec2-52-89-56-193.us-west-2.compute.amazonaws.com\n",
      "ec2-52-89-58-68.us-west-2.compute.amazonaws.com\n",
      "ec2-52-88-209-87.us-west-2.compute.amazonaws.com\n",
      "ec2-52-89-45-242.us-west-2.compute.amazonaws.com\n",
      "ec2-52-89-54-203.us-west-2.compute.amazonaws.com\n",
      "\n",
      "ec2-52-88-136-169.us-west-2.compute.amazonaws.com\n",
      "ec2-52-89-58-181.us-west-2.compute.amazonaws.com\n",
      "ec2-52-89-48-44.us-west-2.compute.amazonaws.com\n",
      "ec2-52-89-56-231.us-west-2.compute.amazonaws.com\n",
      "ec2-52-89-47-152.us-west-2.compute.amazonaws.com\n",
      "ec2-52-89-62-99.us-west-2.compute.amazonaws.com\n"
     ]
    }
   ],
   "source": [
    "si.print_public_dns_names()"
   ]
  },
  {
   "cell_type": "code",
   "execution_count": null,
   "metadata": {
    "collapsed": true
   },
   "outputs": [],
   "source": [
    "ctq.add_task('hello yejllow 17:27')"
   ]
  },
  {
   "cell_type": "code",
   "execution_count": null,
   "metadata": {
    "collapsed": true
   },
   "outputs": [],
   "source": [
    "ctq.add_task('git:pull')"
   ]
  },
  {
   "cell_type": "code",
   "execution_count": null,
   "metadata": {
    "collapsed": true
   },
   "outputs": [],
   "source": [
    "ctq.add_task('XXXparse:01')"
   ]
  },
  {
   "cell_type": "code",
   "execution_count": null,
   "metadata": {
    "collapsed": true
   },
   "outputs": [],
   "source": [
    "ctq.add_task('XXXparse:tmp/01:404075:405000')"
   ]
  },
  {
   "cell_type": "code",
   "execution_count": 108,
   "metadata": {
    "collapsed": false
   },
   "outputs": [],
   "source": [
    "run_id = 'prod/02'\n",
    "total_ids = 60\n",
    "for i in range(total_ids):\n",
    "    #ctq.add_task('git:pull')\n",
    "    ctq.add_task('XXXparse:%s:%d:%d' % (run_id, i, total_ids))"
   ]
  },
  {
   "cell_type": "code",
   "execution_count": null,
   "metadata": {
    "collapsed": true
   },
   "outputs": [],
   "source": [
    "ctq.add_task('quit')"
   ]
  },
  {
   "cell_type": "code",
   "execution_count": 105,
   "metadata": {
    "collapsed": false
   },
   "outputs": [],
   "source": [
    "msgs = new_member_queue.receive_messages(MessageAttributeNames=['Worker'])\n",
    "for msg in msgs:\n",
    "    worker_dns_name = 'unknown'\n",
    "    if msg.message_attributes is not None:\n",
    "        worker_dns_name = msg.message_attributes.get('Worker')['StringValue']\n",
    "    print('%s: %s' % (worker_dns_name, msg.body))\n",
    "    msg.delete()"
   ]
  },
  {
   "cell_type": "code",
   "execution_count": 106,
   "metadata": {
    "collapsed": false
   },
   "outputs": [],
   "source": [
    "msgs = task_commitment_queue.receive_messages(MessageAttributeNames=['Worker'])\n",
    "for msg in msgs:\n",
    "    worker_dns_name = 'unknown'\n",
    "    if msg.message_attributes is not None:\n",
    "        worker_dns_name = msg.message_attributes.get('Worker')['StringValue']\n",
    "    print('%s: %s' % (worker_dns_name, msg.body))\n",
    "    msg.delete()"
   ]
  },
  {
   "cell_type": "code",
   "execution_count": 40,
   "metadata": {
    "collapsed": false
   },
   "outputs": [],
   "source": [
    "#Delete 'quit' message after the end\n",
    "msgs = task_queue.receive_messages(MessageAttributeNames=['Worker'])\n",
    "for msg in msgs:\n",
    "    worker_dns_name = 'unknown'\n",
    "    if msg.message_attributes is not None:\n",
    "        worker_dns_name = msg.message_attributes.get('Worker')['StringValue']\n",
    "    print('%s: %s' % (worker_dns_name, msg.body))\n",
    "    #msg.delete()"
   ]
  },
  {
   "cell_type": "code",
   "execution_count": 20,
   "metadata": {
    "collapsed": false
   },
   "outputs": [
    {
     "data": {
      "text/plain": [
       "{'ResponseMetadata': {'HTTPStatusCode': 200,\n",
       "  'RequestId': '57dca50e-55aa-5863-ba44-eb7fea2400f3'}}"
      ]
     },
     "execution_count": 20,
     "metadata": {},
     "output_type": "execute_result"
    }
   ],
   "source": [
    "#new_member_queue.purge()\n",
    "task_queue.purge()\n",
    "#task_commitment_queue.purge()"
   ]
  },
  {
   "cell_type": "code",
   "execution_count": null,
   "metadata": {
    "collapsed": true
   },
   "outputs": [],
   "source": []
  }
 ],
 "metadata": {
  "kernelspec": {
   "display_name": "Python 2",
   "language": "python",
   "name": "python2"
  },
  "language_info": {
   "codemirror_mode": {
    "name": "ipython",
    "version": 2
   },
   "file_extension": ".py",
   "mimetype": "text/x-python",
   "name": "python",
   "nbconvert_exporter": "python",
   "pygments_lexer": "ipython2",
   "version": "2.7.6"
  }
 },
 "nbformat": 4,
 "nbformat_minor": 0
}
