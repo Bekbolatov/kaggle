{
 "cells": [
  {
   "cell_type": "code",
   "execution_count": 1,
   "metadata": {
    "collapsed": true
   },
   "outputs": [],
   "source": [
    "import boto.ec2\n",
    "import boto3"
   ]
  },
  {
   "cell_type": "code",
   "execution_count": 2,
   "metadata": {
    "collapsed": true
   },
   "outputs": [],
   "source": [
    "%run aws_helper.py"
   ]
  },
  {
   "cell_type": "code",
   "execution_count": 3,
   "metadata": {
    "collapsed": true
   },
   "outputs": [],
   "source": [
    "si = SpotInstances()\n",
    "ctq = ClusterTaskQueue()"
   ]
  },
  {
   "cell_type": "code",
   "execution_count": 4,
   "metadata": {
    "collapsed": false
   },
   "outputs": [],
   "source": [
    "sqs = boto3.resource('sqs')  "
   ]
  },
  {
   "cell_type": "code",
   "execution_count": 5,
   "metadata": {
    "collapsed": false
   },
   "outputs": [],
   "source": [
    "new_member_queue = sqs.get_queue_by_name(QueueName='cluster_new_member')\n",
    "task_commitment_queue = sqs.get_queue_by_name(QueueName='cluster_task_commitment')\n",
    "task_queue = sqs.get_queue_by_name(QueueName='cluster_task_queue')\n",
    "# instance metadata: http://docs.aws.amazon.com/AWSEC2/latest/UserGuide/ec2-instance-metadata.html\n",
    "# ipython setup: http://ipython.org/ipython-doc/dev/notebook/public_server.html#running-a-public-notebook-server"
   ]
  },
  {
   "cell_type": "code",
   "execution_count": 6,
   "metadata": {
    "collapsed": false
   },
   "outputs": [
    {
     "name": "stdout",
     "output_type": "stream",
     "text": [
      "The following script will be run on startup\n",
      "#!/bin/bash\n",
      "\n",
      "echo \"===========================\"\n",
      "echo \"Starting service 'worker-server'.\"\n",
      "initctl status worker-server\n",
      "echo \"===========================\"\n",
      "\n"
     ]
    }
   ],
   "source": [
    "si.request(num_instances=1, subnet='b')"
   ]
  },
  {
   "cell_type": "code",
   "execution_count": 7,
   "metadata": {
    "collapsed": false
   },
   "outputs": [
    {
     "name": "stderr",
     "output_type": "stream",
     "text": [
      "ERROR:boto:400 Bad Request\n",
      "ERROR:boto:<?xml version=\"1.0\" encoding=\"UTF-8\"?>\n",
      "<Response><Errors><Error><Code>InvalidInstanceID.Malformed</Code><Message>Invalid id: \"None\"</Message></Error></Errors><RequestID>dbac74c4-3542-4fb4-b521-c4e9d9cfd07c</RequestID></Response>\n"
     ]
    },
    {
     "ename": "EC2ResponseError",
     "evalue": "EC2ResponseError: 400 Bad Request\n<?xml version=\"1.0\" encoding=\"UTF-8\"?>\n<Response><Errors><Error><Code>InvalidInstanceID.Malformed</Code><Message>Invalid id: \"None\"</Message></Error></Errors><RequestID>dbac74c4-3542-4fb4-b521-c4e9d9cfd07c</RequestID></Response>",
     "output_type": "error",
     "traceback": [
      "\u001b[0;31m---------------------------------------------------------------------------\u001b[0m",
      "\u001b[0;31mEC2ResponseError\u001b[0m                          Traceback (most recent call last)",
      "\u001b[0;32m<ipython-input-7-d9993c262b6b>\u001b[0m in \u001b[0;36m<module>\u001b[0;34m()\u001b[0m\n\u001b[0;32m----> 1\u001b[0;31m \u001b[0msi\u001b[0m\u001b[0;34m.\u001b[0m\u001b[0mprint_public_dns_names\u001b[0m\u001b[0;34m(\u001b[0m\u001b[0;34m)\u001b[0m\u001b[0;34m\u001b[0m\u001b[0m\n\u001b[0m",
      "\u001b[0;32m/Users/rbekbolatov/repos/gh/bekbolatov/kaggle/notebooks/aws_helper.py\u001b[0m in \u001b[0;36mprint_public_dns_names\u001b[0;34m(self)\u001b[0m\n\u001b[1;32m     86\u001b[0m     \u001b[0;32mdef\u001b[0m \u001b[0mprint_public_dns_names\u001b[0m\u001b[0;34m(\u001b[0m\u001b[0mself\u001b[0m\u001b[0;34m)\u001b[0m\u001b[0;34m:\u001b[0m\u001b[0;34m\u001b[0m\u001b[0m\n\u001b[1;32m     87\u001b[0m         \u001b[0mself\u001b[0m\u001b[0;34m.\u001b[0m\u001b[0mupdate_requests\u001b[0m\u001b[0;34m(\u001b[0m\u001b[0;34m)\u001b[0m\u001b[0;34m\u001b[0m\u001b[0m\n\u001b[0;32m---> 88\u001b[0;31m         \u001b[0mreservations\u001b[0m \u001b[0;34m=\u001b[0m \u001b[0mself\u001b[0m\u001b[0;34m.\u001b[0m\u001b[0mconn\u001b[0m\u001b[0;34m.\u001b[0m\u001b[0mget_all_reservations\u001b[0m\u001b[0;34m(\u001b[0m\u001b[0minstance_ids\u001b[0m \u001b[0;34m=\u001b[0m \u001b[0;34m[\u001b[0m\u001b[0mreq\u001b[0m\u001b[0;34m.\u001b[0m\u001b[0minstance_id\u001b[0m \u001b[0;32mfor\u001b[0m \u001b[0mreq\u001b[0m \u001b[0;32min\u001b[0m \u001b[0mself\u001b[0m\u001b[0;34m.\u001b[0m\u001b[0mreqs\u001b[0m\u001b[0;34m]\u001b[0m\u001b[0;34m)\u001b[0m\u001b[0;34m\u001b[0m\u001b[0m\n\u001b[0m\u001b[1;32m     89\u001b[0m         \u001b[0;32mfor\u001b[0m \u001b[0mres\u001b[0m \u001b[0;32min\u001b[0m \u001b[0mreservations\u001b[0m\u001b[0;34m:\u001b[0m\u001b[0;34m\u001b[0m\u001b[0m\n\u001b[1;32m     90\u001b[0m             \u001b[0;32mfor\u001b[0m \u001b[0minstance\u001b[0m \u001b[0;32min\u001b[0m \u001b[0mres\u001b[0m\u001b[0;34m.\u001b[0m\u001b[0minstances\u001b[0m\u001b[0;34m:\u001b[0m\u001b[0;34m\u001b[0m\u001b[0m\n",
      "\u001b[0;32m/Library/Python/2.7/site-packages/boto/ec2/connection.pyc\u001b[0m in \u001b[0;36mget_all_reservations\u001b[0;34m(self, instance_ids, filters, dry_run, max_results, next_token)\u001b[0m\n\u001b[1;32m    680\u001b[0m             \u001b[0mparams\u001b[0m\u001b[0;34m[\u001b[0m\u001b[0;34m'NextToken'\u001b[0m\u001b[0;34m]\u001b[0m \u001b[0;34m=\u001b[0m \u001b[0mnext_token\u001b[0m\u001b[0;34m\u001b[0m\u001b[0m\n\u001b[1;32m    681\u001b[0m         return self.get_list('DescribeInstances', params,\n\u001b[0;32m--> 682\u001b[0;31m                              [('item', Reservation)], verb='POST')\n\u001b[0m\u001b[1;32m    683\u001b[0m \u001b[0;34m\u001b[0m\u001b[0m\n\u001b[1;32m    684\u001b[0m     def get_all_instance_status(self, instance_ids=None,\n",
      "\u001b[0;32m/Library/Python/2.7/site-packages/boto/connection.pyc\u001b[0m in \u001b[0;36mget_list\u001b[0;34m(self, action, params, markers, path, parent, verb)\u001b[0m\n\u001b[1;32m   1180\u001b[0m             \u001b[0mboto\u001b[0m\u001b[0;34m.\u001b[0m\u001b[0mlog\u001b[0m\u001b[0;34m.\u001b[0m\u001b[0merror\u001b[0m\u001b[0;34m(\u001b[0m\u001b[0;34m'%s %s'\u001b[0m \u001b[0;34m%\u001b[0m \u001b[0;34m(\u001b[0m\u001b[0mresponse\u001b[0m\u001b[0;34m.\u001b[0m\u001b[0mstatus\u001b[0m\u001b[0;34m,\u001b[0m \u001b[0mresponse\u001b[0m\u001b[0;34m.\u001b[0m\u001b[0mreason\u001b[0m\u001b[0;34m)\u001b[0m\u001b[0;34m)\u001b[0m\u001b[0;34m\u001b[0m\u001b[0m\n\u001b[1;32m   1181\u001b[0m             \u001b[0mboto\u001b[0m\u001b[0;34m.\u001b[0m\u001b[0mlog\u001b[0m\u001b[0;34m.\u001b[0m\u001b[0merror\u001b[0m\u001b[0;34m(\u001b[0m\u001b[0;34m'%s'\u001b[0m \u001b[0;34m%\u001b[0m \u001b[0mbody\u001b[0m\u001b[0;34m)\u001b[0m\u001b[0;34m\u001b[0m\u001b[0m\n\u001b[0;32m-> 1182\u001b[0;31m             \u001b[0;32mraise\u001b[0m \u001b[0mself\u001b[0m\u001b[0;34m.\u001b[0m\u001b[0mResponseError\u001b[0m\u001b[0;34m(\u001b[0m\u001b[0mresponse\u001b[0m\u001b[0;34m.\u001b[0m\u001b[0mstatus\u001b[0m\u001b[0;34m,\u001b[0m \u001b[0mresponse\u001b[0m\u001b[0;34m.\u001b[0m\u001b[0mreason\u001b[0m\u001b[0;34m,\u001b[0m \u001b[0mbody\u001b[0m\u001b[0;34m)\u001b[0m\u001b[0;34m\u001b[0m\u001b[0m\n\u001b[0m\u001b[1;32m   1183\u001b[0m \u001b[0;34m\u001b[0m\u001b[0m\n\u001b[1;32m   1184\u001b[0m     def get_object(self, action, params, cls, path='/',\n",
      "\u001b[0;31mEC2ResponseError\u001b[0m: EC2ResponseError: 400 Bad Request\n<?xml version=\"1.0\" encoding=\"UTF-8\"?>\n<Response><Errors><Error><Code>InvalidInstanceID.Malformed</Code><Message>Invalid id: \"None\"</Message></Error></Errors><RequestID>dbac74c4-3542-4fb4-b521-c4e9d9cfd07c</RequestID></Response>"
     ]
    }
   ],
   "source": [
    "si.print_public_dns_names()"
   ]
  },
  {
   "cell_type": "code",
   "execution_count": null,
   "metadata": {
    "collapsed": true
   },
   "outputs": [],
   "source": [
    "ctq.add_task('hello yejllow 17:27')"
   ]
  },
  {
   "cell_type": "code",
   "execution_count": null,
   "metadata": {
    "collapsed": true
   },
   "outputs": [],
   "source": [
    "ctq.add_task('git:pull')"
   ]
  },
  {
   "cell_type": "code",
   "execution_count": null,
   "metadata": {
    "collapsed": true
   },
   "outputs": [],
   "source": [
    "#ctq.add_task('parse:01')\n",
    "ctq.add_task('parse:test/006:6457:40100')"
   ]
  },
  {
   "cell_type": "code",
   "execution_count": null,
   "metadata": {
    "collapsed": true
   },
   "outputs": [],
   "source": [
    "ctq.add_task('XXXparse:tmp/01:404075:405000')"
   ]
  },
  {
   "cell_type": "code",
   "execution_count": null,
   "metadata": {
    "collapsed": false
   },
   "outputs": [],
   "source": [
    "run_id = 'prod/06'\n",
    "total_ids = 91\n",
    "for i in range(total_ids):\n",
    "    #ctq.add_task('quit')\n",
    "    #ctq.add_task('git:pull')\n",
    "    #ctq.add_task('parse:%s:%d:%d' % (run_id, i, total_ids))\n",
    "    ctq.add_task('parse:%s' % (run_id))"
   ]
  },
  {
   "cell_type": "code",
   "execution_count": null,
   "metadata": {
    "collapsed": true
   },
   "outputs": [],
   "source": [
    "ctq.add_task('quit')"
   ]
  },
  {
   "cell_type": "code",
   "execution_count": 23,
   "metadata": {
    "collapsed": true
   },
   "outputs": [],
   "source": [
    "started = []"
   ]
  },
  {
   "cell_type": "code",
   "execution_count": 26,
   "metadata": {
    "collapsed": false
   },
   "outputs": [],
   "source": [
    "for i in range(1):\n",
    "    msgs = new_member_queue.receive_messages(MessageAttributeNames=['Worker'])\n",
    "    for msg in msgs:\n",
    "        worker_dns_name = 'unknown'\n",
    "        if msg.message_attributes is not None:\n",
    "            worker_dns_name = msg.message_attributes.get('Worker')['StringValue']\n",
    "        print('%s: %s' % (worker_dns_name, msg.body))\n",
    "        msg.delete()\n",
    "        started.append(worker_dns_name)"
   ]
  },
  {
   "cell_type": "code",
   "execution_count": 25,
   "metadata": {
    "collapsed": false
   },
   "outputs": [
    {
     "data": {
      "text/plain": [
       "0"
      ]
     },
     "execution_count": 25,
     "metadata": {},
     "output_type": "execute_result"
    }
   ],
   "source": [
    "len(started)"
   ]
  },
  {
   "cell_type": "code",
   "execution_count": null,
   "metadata": {
    "collapsed": false
   },
   "outputs": [],
   "source": [
    "'ec2-52-27-130-165.us-west-2.compute.amazonaws.com' in started"
   ]
  },
  {
   "cell_type": "code",
   "execution_count": null,
   "metadata": {
    "collapsed": false
   },
   "outputs": [],
   "source": [
    "set(hosts) - set(started)"
   ]
  },
  {
   "cell_type": "code",
   "execution_count": 10,
   "metadata": {
    "collapsed": true
   },
   "outputs": [],
   "source": [
    "res = []"
   ]
  },
  {
   "cell_type": "code",
   "execution_count": 11,
   "metadata": {
    "collapsed": false
   },
   "outputs": [],
   "source": [
    "msgs = task_commitment_queue.receive_messages(MessageAttributeNames=['Worker'])\n",
    "for msg in msgs:\n",
    "    worker_dns_name = 'unknown'\n",
    "    if msg.message_attributes is not None:\n",
    "        worker_dns_name = msg.message_attributes.get('Worker')['StringValue']\n",
    "    print('%s: %s' % (worker_dns_name, msg.body))\n",
    "    res.append((worker_dns_name, msg.body))\n",
    "    msg.delete()"
   ]
  },
  {
   "cell_type": "code",
   "execution_count": 12,
   "metadata": {
    "collapsed": false
   },
   "outputs": [
    {
     "data": {
      "text/plain": [
       "[]"
      ]
     },
     "execution_count": 12,
     "metadata": {},
     "output_type": "execute_result"
    }
   ],
   "source": [
    "res"
   ]
  },
  {
   "cell_type": "code",
   "execution_count": 14,
   "metadata": {
    "collapsed": false
   },
   "outputs": [],
   "source": [
    "#Delete 'quit' message after the end\n",
    "msgs = task_queue.receive_messages(MessageAttributeNames=['Worker'])\n",
    "for msg in msgs:\n",
    "    worker_dns_name = 'unknown'\n",
    "    if msg.message_attributes is not None:\n",
    "        worker_dns_name = msg.message_attributes.get('Worker')['StringValue']\n",
    "    print('%s: %s' % (worker_dns_name, msg.body))\n",
    "    #msg.delete()"
   ]
  },
  {
   "cell_type": "code",
   "execution_count": null,
   "metadata": {
    "collapsed": false
   },
   "outputs": [],
   "source": [
    "new_member_queue.purge()\n",
    "task_queue.purge()\n",
    "task_commitment_queue.purge()"
   ]
  },
  {
   "cell_type": "code",
   "execution_count": null,
   "metadata": {
    "collapsed": true
   },
   "outputs": [],
   "source": [
    "hosts = [\n",
    "    \"ec2-52-89-109-187.us-west-2.compute.amazonaws.com\",\n",
    "    \"ec2-52-89-109-170.us-west-2.compute.amazonaws.com\",\n",
    "    \"ec2-52-89-109-184.us-west-2.compute.amazonaws.com\",\n",
    "    \"ec2-52-11-209-125.us-west-2.compute.amazonaws.com\",\n",
    "    \"ec2-52-89-109-202.us-west-2.compute.amazonaws.com\",\n",
    "    \"ec2-52-89-109-61.us-west-2.compute.amazonaws.com\",\n",
    "    \"ec2-52-89-109-146.us-west-2.compute.amazonaws.com\",\n",
    "    \"ec2-52-89-109-179.us-west-2.compute.amazonaws.com\",\n",
    "    \"ec2-52-89-109-182.us-west-2.compute.amazonaws.com\",\n",
    "    \"ec2-52-25-58-77.us-west-2.compute.amazonaws.com\",\n",
    "    \"ec2-52-89-109-195.us-west-2.compute.amazonaws.com\",\n",
    "    \"ec2-52-89-109-180.us-west-2.compute.amazonaws.com\",\n",
    "    \"ec2-52-89-109-110.us-west-2.compute.amazonaws.com\",\n",
    "    \"ec2-52-24-26-170.us-west-2.compute.amazonaws.com\",\n",
    "    \"ec2-52-89-86-231.us-west-2.compute.amazonaws.com\",\n",
    "    \"ec2-52-89-109-122.us-west-2.compute.amazonaws.com\",\n",
    "    \"ec2-52-89-109-167.us-west-2.compute.amazonaws.com\",\n",
    "    \"ec2-52-88-244-17.us-west-2.compute.amazonaws.com\",\n",
    "    \"ec2-52-89-85-182.us-west-2.compute.amazonaws.com\",\n",
    "    \"ec2-52-88-205-245.us-west-2.compute.amazonaws.com\",\n",
    "    \"ec2-52-89-98-56.us-west-2.compute.amazonaws.com\",\n",
    "    \"ec2-52-27-179-76.us-west-2.compute.amazonaws.com\",\n",
    "    \"ec2-52-89-95-232.us-west-2.compute.amazonaws.com\",\n",
    "    \"ec2-52-89-109-159.us-west-2.compute.amazonaws.com\",\n",
    "    \"ec2-52-89-109-117.us-west-2.compute.amazonaws.com\",\n",
    "    \"ec2-52-89-83-74.us-west-2.compute.amazonaws.com\",\n",
    "    \"ec2-52-89-103-159.us-west-2.compute.amazonaws.com\",\n",
    "    \"ec2-52-27-130-165.us-west-2.compute.amazonaws.com\",\n",
    "    \"ec2-52-89-109-177.us-west-2.compute.amazonaws.com\",\n",
    "    \"ec2-52-89-109-176.us-west-2.compute.amazonaws.com\",\n",
    "    \"ec2-52-89-109-150.us-west-2.compute.amazonaws.com\",\n",
    "    \"ec2-52-11-123-225.us-west-2.compute.amazonaws.com\",\n",
    "    \"ec2-52-89-109-213.us-west-2.compute.amazonaws.com\",\n",
    "    \"ec2-52-89-31-158.us-west-2.compute.amazonaws.com\",\n",
    "    \"ec2-52-89-109-174.us-west-2.compute.amazonaws.com\",\n",
    "    \"ec2-52-89-37-106.us-west-2.compute.amazonaws.com\",\n",
    "    \"ec2-52-88-192-88.us-west-2.compute.amazonaws.com\",\n",
    "    \"ec2-52-89-102-179.us-west-2.compute.amazonaws.com\",\n",
    "    \"ec2-52-89-109-196.us-west-2.compute.amazonaws.com\",\n",
    "    \"ec2-52-89-109-192.us-west-2.compute.amazonaws.com\",\n",
    "    \"ec2-52-27-87-249.us-west-2.compute.amazonaws.com\",\n",
    "    \"ec2-52-89-109-216.us-west-2.compute.amazonaws.com\",\n",
    "    \"ec2-52-89-33-170.us-west-2.compute.amazonaws.com\",\n",
    "    \"ec2-52-89-109-211.us-west-2.compute.amazonaws.com\",\n",
    "    \"ec2-52-89-78-197.us-west-2.compute.amazonaws.com\",\n",
    "    \"ec2-52-89-108-31.us-west-2.compute.amazonaws.com\",\n",
    "    \"ec2-52-89-47-29.us-west-2.compute.amazonaws.com\",\n",
    "    \"ec2-52-89-109-156.us-west-2.compute.amazonaws.com\",\n",
    "    \"ec2-52-89-109-121.us-west-2.compute.amazonaws.com\",\n",
    "    \"ec2-52-88-66-252.us-west-2.compute.amazonaws.com\",\n",
    "    \"ec2-52-89-109-140.us-west-2.compute.amazonaws.com\",\n",
    "    \"ec2-52-89-109-183.us-west-2.compute.amazonaws.com\",\n",
    "    \"ec2-52-89-109-59.us-west-2.compute.amazonaws.com\",\n",
    "    \"ec2-52-89-109-208.us-west-2.compute.amazonaws.com\",\n",
    "    \"ec2-52-89-109-171.us-west-2.compute.amazonaws.com\",\n",
    "    \"ec2-52-89-109-142.us-west-2.compute.amazonaws.com\",\n",
    "    \"ec2-52-89-109-206.us-west-2.compute.amazonaws.com\",\n",
    "    \"ec2-52-89-109-181.us-west-2.compute.amazonaws.com\",\n",
    "    \"ec2-52-89-109-201.us-west-2.compute.amazonaws.com\",\n",
    "    \"ec2-52-89-98-159.us-west-2.compute.amazonaws.com\",\n",
    "    \"ec2-52-89-109-197.us-west-2.compute.amazonaws.com\",\n",
    "    \"ec2-52-89-109-234.us-west-2.compute.amazonaws.com\",\n",
    "    \"ec2-52-89-109-66.us-west-2.compute.amazonaws.com\",\n",
    "    \"ec2-52-89-109-102.us-west-2.compute.amazonaws.com\",\n",
    "    \"ec2-52-89-91-43.us-west-2.compute.amazonaws.com\",\n",
    "    \"ec2-52-89-109-188.us-west-2.compute.amazonaws.com\",\n",
    "    \"ec2-52-89-109-135.us-west-2.compute.amazonaws.com\",\n",
    "    \"ec2-52-89-109-186.us-west-2.compute.amazonaws.com\",\n",
    "    \"ec2-52-89-109-63.us-west-2.compute.amazonaws.com\",\n",
    "    \"ec2-52-89-109-194.us-west-2.compute.amazonaws.com\",\n",
    "    \"ec2-52-89-109-113.us-west-2.compute.amazonaws.com\"\n",
    "    ]\n"
   ]
  }
 ],
 "metadata": {
  "kernelspec": {
   "display_name": "Python 2",
   "language": "python",
   "name": "python2"
  },
  "language_info": {
   "codemirror_mode": {
    "name": "ipython",
    "version": 2
   },
   "file_extension": ".py",
   "mimetype": "text/x-python",
   "name": "python",
   "nbconvert_exporter": "python",
   "pygments_lexer": "ipython2",
   "version": "2.7.6"
  }
 },
 "nbformat": 4,
 "nbformat_minor": 0
}
