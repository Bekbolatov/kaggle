{
 "cells": [
  {
   "cell_type": "code",
   "execution_count": null,
   "metadata": {
    "collapsed": true
   },
   "outputs": [],
   "source": [
    "from urlparse import urlparse\n",
    "\n",
    "social_domain_names = [\n",
    "    'twitter.com',\n",
    "    'facebook.com',\n",
    "    'linkedin.com',\n",
    "    'imgur.com',\n",
    "    'pinterest.com',\n",
    "    'instagram.com',\n",
    "    'youtube.com',\n",
    "    'tumblr.com',\n",
    "    'feedburner.com',\n",
    "    'reddit.com',\n",
    "    'google.com',\n",
    "    ]\n",
    "\n",
    "def not_social_domain(domain):\n",
    "    return domain not in social_domain_names\n",
    "    \n",
    "def href2domain(href):\n",
    "    try:\n",
    "        host = urlparse(href).netloc\n",
    "        num_pieces = host.count('.')\n",
    "        if num_pieces > 1:\n",
    "            return host[(host.find('.')+1):]\n",
    "        else:\n",
    "            return host\n",
    "    except Exception as inst:\n",
    "        print inst\n",
    "        print href\n",
    "        return 'bad_bad_domain'\n",
    "        \n",
    "\n",
    "        \n",
    "train_train['ahref'].apply(lambda ahrefs: \n",
    "                              filter(None, list(set([href2domain(ahref) for ahref in ahrefs])))).show()"
   ]
  }
 ],
 "metadata": {
  "kernelspec": {
   "display_name": "Python 2",
   "language": "python",
   "name": "python2"
  },
  "language_info": {
   "codemirror_mode": {
    "name": "ipython",
    "version": 2
   },
   "file_extension": ".py",
   "mimetype": "text/x-python",
   "name": "python",
   "nbconvert_exporter": "python",
   "pygments_lexer": "ipython2",
   "version": "2.7.6"
  }
 },
 "nbformat": 4,
 "nbformat_minor": 0
}
