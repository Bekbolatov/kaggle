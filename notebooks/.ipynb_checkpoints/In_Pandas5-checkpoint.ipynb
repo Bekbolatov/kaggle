{
 "cells": [
  {
   "cell_type": "code",
   "execution_count": 1,
   "metadata": {
    "collapsed": true
   },
   "outputs": [],
   "source": [
    "%matplotlib inline\n",
    "\n",
    "import datetime\n",
    "\n",
    "import matplotlib\n",
    "import numpy as np\n",
    "import matplotlib.pyplot as plt\n",
    "import pandas as pd\n",
    "import scipy.sparse as sp\n",
    "\n",
    "from sklearn.cross_validation import train_test_split\n",
    "from sklearn.metrics import roc_auc_score\n",
    "from sklearn.feature_extraction.text import CountVectorizer, TfidfTransformer\n",
    "\n",
    "import xgboost as xgb"
   ]
  },
  {
   "cell_type": "markdown",
   "metadata": {},
   "source": [
    "## A: Start"
   ]
  },
  {
   "cell_type": "code",
   "execution_count": 11,
   "metadata": {
    "collapsed": false
   },
   "outputs": [
    {
     "name": "stdout",
     "output_type": "stream",
     "text": [
      "start\n"
     ]
    }
   ],
   "source": [
    "print(\"start\")\n",
    "df_train = pd.read_pickle('/mnt/sframe/df_train')\n",
    "df_test = pd.read_pickle('/mnt/sframe/df_test')\n",
    "\n",
    "df_train['text'].fillna('', inplace=True)\n",
    "df_test['text'].fillna('', inplace=True)\n",
    "\n",
    "df_train['meta_names'].fillna('', inplace=True)\n",
    "df_test['meta_names'].fillna('', inplace=True)\n",
    "\n",
    "for f in [u'viewport.0', u'viewport.1',\n",
    "       u'viewport.2', u'links_profile.bad_domain',\n",
    "       u'links_profile.candidate_rank', u'links_profile.candidate_ratio',\n",
    "       u'links_profile.candidate_score', u'links_profile.candidate_site',\n",
    "       u'links_profile.domain_set_size', u'links_profile.no_domain',\n",
    "       u'links_profile.total_ratio']:\n",
    "    df_train[f].fillna(0, inplace=True)\n",
    "    df_test[f].fillna(0, inplace=True)"
   ]
  },
  {
   "cell_type": "code",
   "execution_count": 9,
   "metadata": {
    "collapsed": false
   },
   "outputs": [
    {
     "data": {
      "text/plain": [
       "Index([u'sponsored', u'id', u'text', u'num_words', u'a_href', u'par', u'title',\n",
       "       u'img', u'btn', u'input', u'li', u'link', u'meta', u'script_avg',\n",
       "       u'script_b_avg', u'script_cnt', u'script_b_cnt', u'style_avg',\n",
       "       u'style_cnt', u'fb_id', u'ga_cnt', u'ga_id', u'ga_len', u'ga_line',\n",
       "       u'ga_subid', u'word_set_size', u'word_set_size_ratio',\n",
       "       u'word_set_size2', u'word_set_size2_ratio', u'shinn.braces',\n",
       "       u'shinn.brackets', u'shinn.cheap', u'shinn.col', u'shinn.commas',\n",
       "       u'shinn.get', u'shinn.length', u'shinn.lines', u'shinn.parens',\n",
       "       u'shinn.periods', u'shinn.sale', u'shinn.semi', u'shinn.shop',\n",
       "       u'shinn.spaces', u'shinn.tabs', u'shinn.uppers', u'shinn.words',\n",
       "       u'shinn.you', u'basic.0', u'basic.1', u'basic.2', u'basic.3',\n",
       "       u'basic.4', u'basic.5', u'meta_names', u'viewport.0', u'viewport.1',\n",
       "       u'viewport.2', u'links_profile.bad_domain',\n",
       "       u'links_profile.candidate_rank', u'links_profile.candidate_ratio',\n",
       "       u'links_profile.candidate_score', u'links_profile.candidate_site',\n",
       "       u'links_profile.domain_set_size', u'links_profile.no_domain',\n",
       "       u'links_profile.total_ratio'],\n",
       "      dtype='object')"
      ]
     },
     "execution_count": 9,
     "metadata": {},
     "output_type": "execute_result"
    }
   ],
   "source": [
    "df_train.columns"
   ]
  },
  {
   "cell_type": "code",
   "execution_count": 12,
   "metadata": {
    "collapsed": false
   },
   "outputs": [
    {
     "data": {
      "text/plain": [
       "(0, 65)"
      ]
     },
     "execution_count": 12,
     "metadata": {},
     "output_type": "execute_result"
    }
   ],
   "source": [
    "df_train[df_train['links_profile.total_ratio'].isnull()].shape"
   ]
  },
  {
   "cell_type": "markdown",
   "metadata": {},
   "source": [
    "### B.1: test"
   ]
  },
  {
   "cell_type": "code",
   "execution_count": null,
   "metadata": {
    "collapsed": true
   },
   "outputs": [],
   "source": [
    "print(\"split\")\n",
    "train_train, train_cv = train_test_split(df_train, test_size=0.2, random_state=107)"
   ]
  },
  {
   "cell_type": "code",
   "execution_count": 13,
   "metadata": {
    "collapsed": false
   },
   "outputs": [
    {
     "name": "stdout",
     "output_type": "stream",
     "text": [
      "split\n"
     ]
    }
   ],
   "source": [
    "TRAIN = train_train\n",
    "CV = train_cv"
   ]
  },
  {
   "cell_type": "markdown",
   "metadata": {},
   "source": [
    "### B.2: deploy"
   ]
  },
  {
   "cell_type": "code",
   "execution_count": 26,
   "metadata": {
    "collapsed": false
   },
   "outputs": [],
   "source": [
    "TRAIN = df_train\n",
    "CV = df_test"
   ]
  },
  {
   "cell_type": "markdown",
   "metadata": {},
   "source": [
    "## C: Model"
   ]
  },
  {
   "cell_type": "code",
   "execution_count": 27,
   "metadata": {
    "collapsed": false
   },
   "outputs": [
    {
     "name": "stdout",
     "output_type": "stream",
     "text": [
      "BOW\n",
      "shape TRAIN_counts: (337024, 108062)\n"
     ]
    }
   ],
   "source": [
    "print(\"BOW\")\n",
    "count_vect = CountVectorizer(stop_words='english', min_df=20)\n",
    "TRAIN_counts = count_vect.fit_transform(TRAIN['text'])\n",
    "CV_counts = count_vect.transform(CV['text'])\n",
    "print(\"shape TRAIN_counts: %s\" % (str(TRAIN_counts.shape)))"
   ]
  },
  {
   "cell_type": "code",
   "execution_count": 28,
   "metadata": {
    "collapsed": false
   },
   "outputs": [
    {
     "name": "stdout",
     "output_type": "stream",
     "text": [
      "BOW meta\n",
      "shape TRAIN_meta_counts: (337024, 3898)\n"
     ]
    }
   ],
   "source": [
    "print(\"BOW meta\")\n",
    "def my_tokenizer(s):\n",
    "    return s.split(',')\n",
    "count_vect_meta = CountVectorizer(tokenizer=my_tokenizer, min_df=10)\n",
    "TRAIN_meta_counts = count_vect_meta.fit_transform(TRAIN['meta_names'])\n",
    "CV_meta_counts = count_vect_meta.transform(CV['meta_names'])\n",
    "print(\"shape TRAIN_meta_counts: %s\" % (str(TRAIN_meta_counts.shape)))"
   ]
  },
  {
   "cell_type": "code",
   "execution_count": 29,
   "metadata": {
    "collapsed": false
   },
   "outputs": [
    {
     "name": "stdout",
     "output_type": "stream",
     "text": [
      "TF-IDF\n",
      "shape TRAIN_tfidf: (337024, 108062)\n"
     ]
    }
   ],
   "source": [
    "print(\"TF-IDF\")\n",
    "tfidf_transformer = TfidfTransformer()\n",
    "TRAIN_tfidf = tfidf_transformer.fit_transform(TRAIN_counts)\n",
    "CV_tfidf = tfidf_transformer.transform(CV_counts)\n",
    "print(\"shape TRAIN_tfidf: %s\" % (str(TRAIN_tfidf.shape)))"
   ]
  },
  {
   "cell_type": "code",
   "execution_count": 30,
   "metadata": {
    "collapsed": false
   },
   "outputs": [
    {
     "name": "stdout",
     "output_type": "stream",
     "text": [
      "Combine features\n",
      "shape DF_TRAIN: (337024, 61)\n"
     ]
    }
   ],
   "source": [
    "print(\"Combine features\")\n",
    "bad_cols = [col for col in list(TRAIN.columns) \n",
    "            if col.startswith('word2vec') or col in set(['text_words', 'text', 'id', 'sponsored', 'meta_names'])]\n",
    "\n",
    "DF_TRAIN = TRAIN.drop(bad_cols, 1).fillna(0)\n",
    "DF_CV = CV.drop(bad_cols, 1).fillna(0)\n",
    "\n",
    "DF_TRAIN = DF_TRAIN.astype('float64')\n",
    "DF_CV = DF_CV.astype('float64')\n",
    "\n",
    "DF_DF_TRAIN = sp.hstack( [TRAIN_meta_counts, TRAIN_tfidf,  sp.csr_matrix(np.array(DF_TRAIN)) ] )\n",
    "DF_DF_CV = sp.hstack( [CV_meta_counts, CV_tfidf,  sp.csr_matrix(np.array(DF_CV)) ] )\n",
    "\n",
    "print(\"shape DF_TRAIN: %s\" % (str(DF_TRAIN.shape)))"
   ]
  },
  {
   "cell_type": "code",
   "execution_count": 31,
   "metadata": {
    "collapsed": false
   },
   "outputs": [
    {
     "name": "stdout",
     "output_type": "stream",
     "text": [
      "shape DF_DF_TRAIN: (337024, 112021)\n"
     ]
    }
   ],
   "source": [
    "print(\"shape DF_DF_TRAIN: %s\" % (str(DF_DF_TRAIN.shape)))"
   ]
  },
  {
   "cell_type": "markdown",
   "metadata": {},
   "source": [
    "## D: Combine"
   ]
  },
  {
   "cell_type": "markdown",
   "metadata": {},
   "source": [
    "### D.1: test"
   ]
  },
  {
   "cell_type": "code",
   "execution_count": 21,
   "metadata": {
    "collapsed": true
   },
   "outputs": [],
   "source": [
    "dtrain = xgb.DMatrix(DF_DF_TRAIN, label = TRAIN['sponsored'])\n",
    "dtest = xgb.DMatrix(DF_DF_CV, label = CV['sponsored'])\n",
    "watchlist  = [(dtest,'eval'), (dtrain,'train')]"
   ]
  },
  {
   "cell_type": "code",
   "execution_count": 22,
   "metadata": {
    "collapsed": true
   },
   "outputs": [],
   "source": [
    "dtrain.save_binary('dtrain_train.buffer_mindf20')\n",
    "dtest.save_binary('dtrain_cv.buffer_mindf20')"
   ]
  },
  {
   "cell_type": "code",
   "execution_count": 34,
   "metadata": {
    "collapsed": false
   },
   "outputs": [
    {
     "data": {
      "text/plain": [
       "(269619L, 67405L)"
      ]
     },
     "execution_count": 34,
     "metadata": {},
     "output_type": "execute_result"
    }
   ],
   "source": [
    "dtrain = xgb.DMatrix('dtrain_train.buffer_mindf20')\n",
    "dtest = xgb.DMatrix('dtrain_cv.buffer_mindf20')\n",
    "watchlist  = [(dtest,'eval'), (dtrain,'train')]\n",
    "dtrain.num_row(), dtest.num_row()"
   ]
  },
  {
   "cell_type": "markdown",
   "metadata": {},
   "source": [
    "### D.2: deploy"
   ]
  },
  {
   "cell_type": "code",
   "execution_count": 32,
   "metadata": {
    "collapsed": true
   },
   "outputs": [],
   "source": [
    "dtrain = xgb.DMatrix(DF_DF_TRAIN, label = TRAIN['sponsored'])\n",
    "dtest = xgb.DMatrix(DF_DF_CV)\n",
    "watchlist  = [(dtrain,'train')]"
   ]
  },
  {
   "cell_type": "code",
   "execution_count": 33,
   "metadata": {
    "collapsed": true
   },
   "outputs": [],
   "source": [
    "# Save for later:\n",
    "dtrain.save_binary('orig_dtrain.buffer_mindf20')\n",
    "dtest.save_binary('orig_dtest.buffer_mindf20')"
   ]
  },
  {
   "cell_type": "code",
   "execution_count": null,
   "metadata": {
    "collapsed": false
   },
   "outputs": [],
   "source": [
    "dtrain = xgb.DMatrix('orig_dtrain.buffer_mindf20')\n",
    "dtest = xgb.DMatrix('orig_dtest.buffer_mindf20')\n",
    "watchlist  = [(dtrain,'train')]\n",
    "dtrain.num_row(), dtest.num_row()"
   ]
  },
  {
   "cell_type": "markdown",
   "metadata": {},
   "source": [
    "---\n",
    "\n",
    "## E: Params\n",
    "\n",
    "---"
   ]
  },
  {
   "cell_type": "markdown",
   "metadata": {},
   "source": [
    "## M-base-version"
   ]
  },
  {
   "cell_type": "code",
   "execution_count": 23,
   "metadata": {
    "collapsed": false
   },
   "outputs": [
    {
     "name": "stdout",
     "output_type": "stream",
     "text": [
      "2015-10-09 08:01:23.839742\n"
     ]
    }
   ],
   "source": [
    "#max depth [8], eta 0.2, colsample_bytree 0.5, subsample: 1.0\n",
    "# match g\n",
    "# max depth [8], eta 0.2, colsample_bytree 0.5, subsample: 1.0 \n",
    "param = {'max_depth': 17, \n",
    "         'eta': 0.05, \n",
    "         #'gamma': 1.0,\n",
    "         'colsample_bytree': 0.6,\n",
    "         'subsample': 1.0,\n",
    "         'min_child_weight': 7,\n",
    "         'silent':1, \n",
    "         'objective':'binary:logistic', \n",
    "         'eval_metric':'auc',\n",
    "         'early_stopping_rounds':20}\n",
    "num_round = 800\n",
    "\n",
    "print(datetime.datetime.now())"
   ]
  },
  {
   "cell_type": "code",
   "execution_count": 48,
   "metadata": {
    "collapsed": false
   },
   "outputs": [
    {
     "name": "stdout",
     "output_type": "stream",
     "text": [
      "2015-10-09 08:36:56.302354\n"
     ]
    }
   ],
   "source": [
    "#max depth [8], eta 0.2, colsample_bytree 0.5, subsample: 1.0\n",
    "# match g\n",
    "# max depth [8], eta 0.2, colsample_bytree 0.5, subsample: 1.0 \n",
    "param = {'max_depth': 18, \n",
    "         'eta': 0.01, \n",
    "         'colsample_bytree': 0.6,\n",
    "         'subsample': 1.0,\n",
    "         #'min_child_weight': 15,\n",
    "         'silent':1, \n",
    "         'objective':'binary:logistic', \n",
    "         'eval_metric':'auc',\n",
    "         'early_stopping_rounds':20}\n",
    "num_round = 200\n",
    "\n",
    "print(datetime.datetime.now())"
   ]
  },
  {
   "cell_type": "code",
   "execution_count": 46,
   "metadata": {
    "collapsed": false,
    "scrolled": true
   },
   "outputs": [
    {
     "name": "stderr",
     "output_type": "stream",
     "text": [
      "[0]\teval-auc:0.725346\ttrain-auc:0.735978\n",
      "[1]\teval-auc:0.771739\ttrain-auc:0.789144\n",
      "[2]\teval-auc:0.787437\ttrain-auc:0.803569\n",
      "[3]\teval-auc:0.804280\ttrain-auc:0.821485\n",
      "[4]\teval-auc:0.809663\ttrain-auc:0.827755\n",
      "[5]\teval-auc:0.821946\ttrain-auc:0.841887\n",
      "[6]\teval-auc:0.823833\ttrain-auc:0.843401\n",
      "[7]\teval-auc:0.825634\ttrain-auc:0.845887\n",
      "[8]\teval-auc:0.828254\ttrain-auc:0.848978\n",
      "[9]\teval-auc:0.830688\ttrain-auc:0.852131\n",
      "[10]\teval-auc:0.830293\ttrain-auc:0.851779\n",
      "[11]\teval-auc:0.830594\ttrain-auc:0.852338\n",
      "[12]\teval-auc:0.829838\ttrain-auc:0.851645\n",
      "[13]\teval-auc:0.832120\ttrain-auc:0.854238\n",
      "[14]\teval-auc:0.831608\ttrain-auc:0.853528\n",
      "[15]\teval-auc:0.831258\ttrain-auc:0.853727\n",
      "[16]\teval-auc:0.831494\ttrain-auc:0.854315\n",
      "[17]\teval-auc:0.832392\ttrain-auc:0.855494\n",
      "[18]\teval-auc:0.834110\ttrain-auc:0.858004\n",
      "[19]\teval-auc:0.834666\ttrain-auc:0.858457\n",
      "[20]\teval-auc:0.835382\ttrain-auc:0.859379\n",
      "[21]\teval-auc:0.836420\ttrain-auc:0.860188\n",
      "[22]\teval-auc:0.835976\ttrain-auc:0.859704\n",
      "[23]\teval-auc:0.836558\ttrain-auc:0.860223\n",
      "[24]\teval-auc:0.836383\ttrain-auc:0.860009\n",
      "[25]\teval-auc:0.836580\ttrain-auc:0.860643\n",
      "[26]\teval-auc:0.837806\ttrain-auc:0.862104\n",
      "[27]\teval-auc:0.838024\ttrain-auc:0.862217\n",
      "[28]\teval-auc:0.838724\ttrain-auc:0.863078\n",
      "[29]\teval-auc:0.839630\ttrain-auc:0.863825\n",
      "[30]\teval-auc:0.839556\ttrain-auc:0.863715\n",
      "[31]\teval-auc:0.841946\ttrain-auc:0.866292\n",
      "[32]\teval-auc:0.842200\ttrain-auc:0.866439\n",
      "[33]\teval-auc:0.843542\ttrain-auc:0.867952\n",
      "[34]\teval-auc:0.843283\ttrain-auc:0.867656\n",
      "[35]\teval-auc:0.843356\ttrain-auc:0.867787\n",
      "[36]\teval-auc:0.844879\ttrain-auc:0.869449\n"
     ]
    },
    {
     "ename": "KeyboardInterrupt",
     "evalue": "",
     "output_type": "error",
     "traceback": [
      "\u001b[1;31m---------------------------------------------------------------------------\u001b[0m",
      "\u001b[1;31mKeyboardInterrupt\u001b[0m                         Traceback (most recent call last)",
      "\u001b[1;32m<ipython-input-46-b9a96c08b359>\u001b[0m in \u001b[0;36m<module>\u001b[1;34m()\u001b[0m\n\u001b[1;32m----> 1\u001b[1;33m \u001b[0mbst\u001b[0m \u001b[1;33m=\u001b[0m \u001b[0mxgb\u001b[0m\u001b[1;33m.\u001b[0m\u001b[0mtrain\u001b[0m\u001b[1;33m(\u001b[0m\u001b[0mparam\u001b[0m\u001b[1;33m,\u001b[0m \u001b[0mdtrain\u001b[0m\u001b[1;33m,\u001b[0m \u001b[0mnum_round\u001b[0m\u001b[1;33m,\u001b[0m \u001b[0mwatchlist\u001b[0m\u001b[1;33m)\u001b[0m \u001b[1;31m#0.5\u001b[0m\u001b[1;33m\u001b[0m\u001b[0m\n\u001b[0m",
      "\u001b[1;32m/usr/local/lib/python2.7/site-packages/xgboost/training.pyc\u001b[0m in \u001b[0;36mtrain\u001b[1;34m(params, dtrain, num_boost_round, evals, obj, feval, early_stopping_rounds, evals_result, verbose_eval)\u001b[0m\n\u001b[0;32m     60\u001b[0m     \u001b[1;32mif\u001b[0m \u001b[1;32mnot\u001b[0m \u001b[0mearly_stopping_rounds\u001b[0m\u001b[1;33m:\u001b[0m\u001b[1;33m\u001b[0m\u001b[0m\n\u001b[0;32m     61\u001b[0m         \u001b[1;32mfor\u001b[0m \u001b[0mi\u001b[0m \u001b[1;32min\u001b[0m \u001b[0mrange\u001b[0m\u001b[1;33m(\u001b[0m\u001b[0mnum_boost_round\u001b[0m\u001b[1;33m)\u001b[0m\u001b[1;33m:\u001b[0m\u001b[1;33m\u001b[0m\u001b[0m\n\u001b[1;32m---> 62\u001b[1;33m             \u001b[0mbst\u001b[0m\u001b[1;33m.\u001b[0m\u001b[0mupdate\u001b[0m\u001b[1;33m(\u001b[0m\u001b[0mdtrain\u001b[0m\u001b[1;33m,\u001b[0m \u001b[0mi\u001b[0m\u001b[1;33m,\u001b[0m \u001b[0mobj\u001b[0m\u001b[1;33m)\u001b[0m\u001b[1;33m\u001b[0m\u001b[0m\n\u001b[0m\u001b[0;32m     63\u001b[0m             \u001b[1;32mif\u001b[0m \u001b[0mlen\u001b[0m\u001b[1;33m(\u001b[0m\u001b[0mevals\u001b[0m\u001b[1;33m)\u001b[0m \u001b[1;33m!=\u001b[0m \u001b[1;36m0\u001b[0m\u001b[1;33m:\u001b[0m\u001b[1;33m\u001b[0m\u001b[0m\n\u001b[0;32m     64\u001b[0m                 \u001b[0mbst_eval_set\u001b[0m \u001b[1;33m=\u001b[0m \u001b[0mbst\u001b[0m\u001b[1;33m.\u001b[0m\u001b[0meval_set\u001b[0m\u001b[1;33m(\u001b[0m\u001b[0mevals\u001b[0m\u001b[1;33m,\u001b[0m \u001b[0mi\u001b[0m\u001b[1;33m,\u001b[0m \u001b[0mfeval\u001b[0m\u001b[1;33m)\u001b[0m\u001b[1;33m\u001b[0m\u001b[0m\n",
      "\u001b[1;32m/usr/local/lib/python2.7/site-packages/xgboost/core.pyc\u001b[0m in \u001b[0;36mupdate\u001b[1;34m(self, dtrain, iteration, fobj)\u001b[0m\n\u001b[0;32m    521\u001b[0m             \u001b[1;32mraise\u001b[0m \u001b[0mTypeError\u001b[0m\u001b[1;33m(\u001b[0m\u001b[1;34m'invalid training matrix: {}'\u001b[0m\u001b[1;33m.\u001b[0m\u001b[0mformat\u001b[0m\u001b[1;33m(\u001b[0m\u001b[0mtype\u001b[0m\u001b[1;33m(\u001b[0m\u001b[0mdtrain\u001b[0m\u001b[1;33m)\u001b[0m\u001b[1;33m.\u001b[0m\u001b[0m__name__\u001b[0m\u001b[1;33m)\u001b[0m\u001b[1;33m)\u001b[0m\u001b[1;33m\u001b[0m\u001b[0m\n\u001b[0;32m    522\u001b[0m         \u001b[1;32mif\u001b[0m \u001b[0mfobj\u001b[0m \u001b[1;32mis\u001b[0m \u001b[0mNone\u001b[0m\u001b[1;33m:\u001b[0m\u001b[1;33m\u001b[0m\u001b[0m\n\u001b[1;32m--> 523\u001b[1;33m             \u001b[0m_check_call\u001b[0m\u001b[1;33m(\u001b[0m\u001b[0m_LIB\u001b[0m\u001b[1;33m.\u001b[0m\u001b[0mXGBoosterUpdateOneIter\u001b[0m\u001b[1;33m(\u001b[0m\u001b[0mself\u001b[0m\u001b[1;33m.\u001b[0m\u001b[0mhandle\u001b[0m\u001b[1;33m,\u001b[0m \u001b[0miteration\u001b[0m\u001b[1;33m,\u001b[0m \u001b[0mdtrain\u001b[0m\u001b[1;33m.\u001b[0m\u001b[0mhandle\u001b[0m\u001b[1;33m)\u001b[0m\u001b[1;33m)\u001b[0m\u001b[1;33m\u001b[0m\u001b[0m\n\u001b[0m\u001b[0;32m    524\u001b[0m         \u001b[1;32melse\u001b[0m\u001b[1;33m:\u001b[0m\u001b[1;33m\u001b[0m\u001b[0m\n\u001b[0;32m    525\u001b[0m             \u001b[0mpred\u001b[0m \u001b[1;33m=\u001b[0m \u001b[0mself\u001b[0m\u001b[1;33m.\u001b[0m\u001b[0mpredict\u001b[0m\u001b[1;33m(\u001b[0m\u001b[0mdtrain\u001b[0m\u001b[1;33m)\u001b[0m\u001b[1;33m\u001b[0m\u001b[0m\n",
      "\u001b[1;31mKeyboardInterrupt\u001b[0m: "
     ]
    }
   ],
   "source": [
    "bst = xgb.train(param, dtrain, num_round, watchlist) #0.5"
   ]
  },
  {
   "cell_type": "code",
   "execution_count": 40,
   "metadata": {
    "collapsed": false,
    "scrolled": true
   },
   "outputs": [
    {
     "name": "stderr",
     "output_type": "stream",
     "text": [
      "[0]\teval-auc:0.725346\ttrain-auc:0.735978\n",
      "[1]\teval-auc:0.771739\ttrain-auc:0.789144\n",
      "[2]\teval-auc:0.796940\ttrain-auc:0.813029\n",
      "[3]\teval-auc:0.803177\ttrain-auc:0.818240\n",
      "[4]\teval-auc:0.807779\ttrain-auc:0.823322\n",
      "[5]\teval-auc:0.812233\ttrain-auc:0.828694\n",
      "[6]\teval-auc:0.817412\ttrain-auc:0.834790\n",
      "[7]\teval-auc:0.818460\ttrain-auc:0.836556\n",
      "[8]\teval-auc:0.821835\ttrain-auc:0.840497\n",
      "[9]\teval-auc:0.820524\ttrain-auc:0.839721\n",
      "[10]\teval-auc:0.822254\ttrain-auc:0.842438\n",
      "[11]\teval-auc:0.825392\ttrain-auc:0.847585\n",
      "[12]\teval-auc:0.825772\ttrain-auc:0.847922\n",
      "[13]\teval-auc:0.827668\ttrain-auc:0.849291\n",
      "[14]\teval-auc:0.829314\ttrain-auc:0.850923\n",
      "[15]\teval-auc:0.830189\ttrain-auc:0.852203\n",
      "[16]\teval-auc:0.832998\ttrain-auc:0.855660\n",
      "[17]\teval-auc:0.833215\ttrain-auc:0.855924\n",
      "[18]\teval-auc:0.835164\ttrain-auc:0.857554\n",
      "[19]\teval-auc:0.834785\ttrain-auc:0.857204\n",
      "[20]\teval-auc:0.834745\ttrain-auc:0.857545\n",
      "[21]\teval-auc:0.836459\ttrain-auc:0.860131\n",
      "[22]\teval-auc:0.837202\ttrain-auc:0.861413\n",
      "[23]\teval-auc:0.838766\ttrain-auc:0.863654\n",
      "[24]\teval-auc:0.839931\ttrain-auc:0.865259\n"
     ]
    },
    {
     "ename": "KeyboardInterrupt",
     "evalue": "",
     "output_type": "error",
     "traceback": [
      "\u001b[1;31m---------------------------------------------------------------------------\u001b[0m",
      "\u001b[1;31mKeyboardInterrupt\u001b[0m                         Traceback (most recent call last)",
      "\u001b[1;32m<ipython-input-40-e578d47b3b73>\u001b[0m in \u001b[0;36m<module>\u001b[1;34m()\u001b[0m\n\u001b[1;32m----> 1\u001b[1;33m \u001b[0mbst\u001b[0m \u001b[1;33m=\u001b[0m \u001b[0mxgb\u001b[0m\u001b[1;33m.\u001b[0m\u001b[0mtrain\u001b[0m\u001b[1;33m(\u001b[0m\u001b[0mparam\u001b[0m\u001b[1;33m,\u001b[0m \u001b[0mdtrain\u001b[0m\u001b[1;33m,\u001b[0m \u001b[0mnum_round\u001b[0m\u001b[1;33m,\u001b[0m \u001b[0mwatchlist\u001b[0m\u001b[1;33m)\u001b[0m\u001b[1;33m\u001b[0m\u001b[0m\n\u001b[0m",
      "\u001b[1;32m/usr/local/lib/python2.7/site-packages/xgboost/training.pyc\u001b[0m in \u001b[0;36mtrain\u001b[1;34m(params, dtrain, num_boost_round, evals, obj, feval, early_stopping_rounds, evals_result, verbose_eval)\u001b[0m\n\u001b[0;32m     60\u001b[0m     \u001b[1;32mif\u001b[0m \u001b[1;32mnot\u001b[0m \u001b[0mearly_stopping_rounds\u001b[0m\u001b[1;33m:\u001b[0m\u001b[1;33m\u001b[0m\u001b[0m\n\u001b[0;32m     61\u001b[0m         \u001b[1;32mfor\u001b[0m \u001b[0mi\u001b[0m \u001b[1;32min\u001b[0m \u001b[0mrange\u001b[0m\u001b[1;33m(\u001b[0m\u001b[0mnum_boost_round\u001b[0m\u001b[1;33m)\u001b[0m\u001b[1;33m:\u001b[0m\u001b[1;33m\u001b[0m\u001b[0m\n\u001b[1;32m---> 62\u001b[1;33m             \u001b[0mbst\u001b[0m\u001b[1;33m.\u001b[0m\u001b[0mupdate\u001b[0m\u001b[1;33m(\u001b[0m\u001b[0mdtrain\u001b[0m\u001b[1;33m,\u001b[0m \u001b[0mi\u001b[0m\u001b[1;33m,\u001b[0m \u001b[0mobj\u001b[0m\u001b[1;33m)\u001b[0m\u001b[1;33m\u001b[0m\u001b[0m\n\u001b[0m\u001b[0;32m     63\u001b[0m             \u001b[1;32mif\u001b[0m \u001b[0mlen\u001b[0m\u001b[1;33m(\u001b[0m\u001b[0mevals\u001b[0m\u001b[1;33m)\u001b[0m \u001b[1;33m!=\u001b[0m \u001b[1;36m0\u001b[0m\u001b[1;33m:\u001b[0m\u001b[1;33m\u001b[0m\u001b[0m\n\u001b[0;32m     64\u001b[0m                 \u001b[0mbst_eval_set\u001b[0m \u001b[1;33m=\u001b[0m \u001b[0mbst\u001b[0m\u001b[1;33m.\u001b[0m\u001b[0meval_set\u001b[0m\u001b[1;33m(\u001b[0m\u001b[0mevals\u001b[0m\u001b[1;33m,\u001b[0m \u001b[0mi\u001b[0m\u001b[1;33m,\u001b[0m \u001b[0mfeval\u001b[0m\u001b[1;33m)\u001b[0m\u001b[1;33m\u001b[0m\u001b[0m\n",
      "\u001b[1;32m/usr/local/lib/python2.7/site-packages/xgboost/core.pyc\u001b[0m in \u001b[0;36mupdate\u001b[1;34m(self, dtrain, iteration, fobj)\u001b[0m\n\u001b[0;32m    521\u001b[0m             \u001b[1;32mraise\u001b[0m \u001b[0mTypeError\u001b[0m\u001b[1;33m(\u001b[0m\u001b[1;34m'invalid training matrix: {}'\u001b[0m\u001b[1;33m.\u001b[0m\u001b[0mformat\u001b[0m\u001b[1;33m(\u001b[0m\u001b[0mtype\u001b[0m\u001b[1;33m(\u001b[0m\u001b[0mdtrain\u001b[0m\u001b[1;33m)\u001b[0m\u001b[1;33m.\u001b[0m\u001b[0m__name__\u001b[0m\u001b[1;33m)\u001b[0m\u001b[1;33m)\u001b[0m\u001b[1;33m\u001b[0m\u001b[0m\n\u001b[0;32m    522\u001b[0m         \u001b[1;32mif\u001b[0m \u001b[0mfobj\u001b[0m \u001b[1;32mis\u001b[0m \u001b[0mNone\u001b[0m\u001b[1;33m:\u001b[0m\u001b[1;33m\u001b[0m\u001b[0m\n\u001b[1;32m--> 523\u001b[1;33m             \u001b[0m_check_call\u001b[0m\u001b[1;33m(\u001b[0m\u001b[0m_LIB\u001b[0m\u001b[1;33m.\u001b[0m\u001b[0mXGBoosterUpdateOneIter\u001b[0m\u001b[1;33m(\u001b[0m\u001b[0mself\u001b[0m\u001b[1;33m.\u001b[0m\u001b[0mhandle\u001b[0m\u001b[1;33m,\u001b[0m \u001b[0miteration\u001b[0m\u001b[1;33m,\u001b[0m \u001b[0mdtrain\u001b[0m\u001b[1;33m.\u001b[0m\u001b[0mhandle\u001b[0m\u001b[1;33m)\u001b[0m\u001b[1;33m)\u001b[0m\u001b[1;33m\u001b[0m\u001b[0m\n\u001b[0m\u001b[0;32m    524\u001b[0m         \u001b[1;32melse\u001b[0m\u001b[1;33m:\u001b[0m\u001b[1;33m\u001b[0m\u001b[0m\n\u001b[0;32m    525\u001b[0m             \u001b[0mpred\u001b[0m \u001b[1;33m=\u001b[0m \u001b[0mself\u001b[0m\u001b[1;33m.\u001b[0m\u001b[0mpredict\u001b[0m\u001b[1;33m(\u001b[0m\u001b[0mdtrain\u001b[0m\u001b[1;33m)\u001b[0m\u001b[1;33m\u001b[0m\u001b[0m\n",
      "\u001b[1;31mKeyboardInterrupt\u001b[0m: "
     ]
    }
   ],
   "source": [
    "bst = xgb.train(param, dtrain, num_round, watchlist)  #0.4"
   ]
  },
  {
   "cell_type": "code",
   "execution_count": 42,
   "metadata": {
    "collapsed": false,
    "scrolled": true
   },
   "outputs": [
    {
     "name": "stderr",
     "output_type": "stream",
     "text": [
      "[0]\teval-auc:0.729769\ttrain-auc:0.743844\n",
      "[1]\teval-auc:0.770522\ttrain-auc:0.790120\n",
      "[2]\teval-auc:0.780034\ttrain-auc:0.800657\n",
      "[3]\teval-auc:0.803350\ttrain-auc:0.821476\n",
      "[4]\teval-auc:0.806560\ttrain-auc:0.825656\n",
      "[5]\teval-auc:0.811846\ttrain-auc:0.829909\n",
      "[6]\teval-auc:0.811101\ttrain-auc:0.830896\n",
      "[7]\teval-auc:0.816652\ttrain-auc:0.837054\n",
      "[8]\teval-auc:0.815831\ttrain-auc:0.837278\n",
      "[9]\teval-auc:0.816979\ttrain-auc:0.837958\n",
      "[10]\teval-auc:0.820713\ttrain-auc:0.842588\n",
      "[11]\teval-auc:0.822022\ttrain-auc:0.843522\n",
      "[12]\teval-auc:0.822302\ttrain-auc:0.844085\n",
      "[13]\teval-auc:0.828519\ttrain-auc:0.851191\n",
      "[14]\teval-auc:0.828639\ttrain-auc:0.850900\n",
      "[15]\teval-auc:0.832367\ttrain-auc:0.855613\n",
      "[16]\teval-auc:0.832864\ttrain-auc:0.856781\n",
      "[17]\teval-auc:0.835240\ttrain-auc:0.859067\n",
      "[18]\teval-auc:0.835793\ttrain-auc:0.860321\n",
      "[19]\teval-auc:0.834950\ttrain-auc:0.859506\n",
      "[20]\teval-auc:0.836435\ttrain-auc:0.861130\n",
      "[21]\teval-auc:0.839450\ttrain-auc:0.863966\n",
      "[22]\teval-auc:0.841697\ttrain-auc:0.866013\n",
      "[23]\teval-auc:0.842129\ttrain-auc:0.866310\n",
      "[24]\teval-auc:0.842199\ttrain-auc:0.866214\n",
      "[25]\teval-auc:0.843033\ttrain-auc:0.867412\n",
      "[26]\teval-auc:0.843669\ttrain-auc:0.868768\n",
      "[27]\teval-auc:0.844218\ttrain-auc:0.869433\n",
      "[28]\teval-auc:0.843839\ttrain-auc:0.869085\n",
      "[29]\teval-auc:0.844540\ttrain-auc:0.869805\n",
      "[30]\teval-auc:0.845778\ttrain-auc:0.871489\n",
      "[31]\teval-auc:0.845673\ttrain-auc:0.871525\n",
      "[32]\teval-auc:0.845834\ttrain-auc:0.871822\n",
      "[33]\teval-auc:0.845492\ttrain-auc:0.871847\n"
     ]
    },
    {
     "ename": "KeyboardInterrupt",
     "evalue": "",
     "output_type": "error",
     "traceback": [
      "\u001b[1;31m---------------------------------------------------------------------------\u001b[0m",
      "\u001b[1;31mKeyboardInterrupt\u001b[0m                         Traceback (most recent call last)",
      "\u001b[1;32m<ipython-input-42-e578d47b3b73>\u001b[0m in \u001b[0;36m<module>\u001b[1;34m()\u001b[0m\n\u001b[1;32m----> 1\u001b[1;33m \u001b[0mbst\u001b[0m \u001b[1;33m=\u001b[0m \u001b[0mxgb\u001b[0m\u001b[1;33m.\u001b[0m\u001b[0mtrain\u001b[0m\u001b[1;33m(\u001b[0m\u001b[0mparam\u001b[0m\u001b[1;33m,\u001b[0m \u001b[0mdtrain\u001b[0m\u001b[1;33m,\u001b[0m \u001b[0mnum_round\u001b[0m\u001b[1;33m,\u001b[0m \u001b[0mwatchlist\u001b[0m\u001b[1;33m)\u001b[0m\u001b[1;33m\u001b[0m\u001b[0m\n\u001b[0m",
      "\u001b[1;32m/usr/local/lib/python2.7/site-packages/xgboost/training.pyc\u001b[0m in \u001b[0;36mtrain\u001b[1;34m(params, dtrain, num_boost_round, evals, obj, feval, early_stopping_rounds, evals_result, verbose_eval)\u001b[0m\n\u001b[0;32m     60\u001b[0m     \u001b[1;32mif\u001b[0m \u001b[1;32mnot\u001b[0m \u001b[0mearly_stopping_rounds\u001b[0m\u001b[1;33m:\u001b[0m\u001b[1;33m\u001b[0m\u001b[0m\n\u001b[0;32m     61\u001b[0m         \u001b[1;32mfor\u001b[0m \u001b[0mi\u001b[0m \u001b[1;32min\u001b[0m \u001b[0mrange\u001b[0m\u001b[1;33m(\u001b[0m\u001b[0mnum_boost_round\u001b[0m\u001b[1;33m)\u001b[0m\u001b[1;33m:\u001b[0m\u001b[1;33m\u001b[0m\u001b[0m\n\u001b[1;32m---> 62\u001b[1;33m             \u001b[0mbst\u001b[0m\u001b[1;33m.\u001b[0m\u001b[0mupdate\u001b[0m\u001b[1;33m(\u001b[0m\u001b[0mdtrain\u001b[0m\u001b[1;33m,\u001b[0m \u001b[0mi\u001b[0m\u001b[1;33m,\u001b[0m \u001b[0mobj\u001b[0m\u001b[1;33m)\u001b[0m\u001b[1;33m\u001b[0m\u001b[0m\n\u001b[0m\u001b[0;32m     63\u001b[0m             \u001b[1;32mif\u001b[0m \u001b[0mlen\u001b[0m\u001b[1;33m(\u001b[0m\u001b[0mevals\u001b[0m\u001b[1;33m)\u001b[0m \u001b[1;33m!=\u001b[0m \u001b[1;36m0\u001b[0m\u001b[1;33m:\u001b[0m\u001b[1;33m\u001b[0m\u001b[0m\n\u001b[0;32m     64\u001b[0m                 \u001b[0mbst_eval_set\u001b[0m \u001b[1;33m=\u001b[0m \u001b[0mbst\u001b[0m\u001b[1;33m.\u001b[0m\u001b[0meval_set\u001b[0m\u001b[1;33m(\u001b[0m\u001b[0mevals\u001b[0m\u001b[1;33m,\u001b[0m \u001b[0mi\u001b[0m\u001b[1;33m,\u001b[0m \u001b[0mfeval\u001b[0m\u001b[1;33m)\u001b[0m\u001b[1;33m\u001b[0m\u001b[0m\n",
      "\u001b[1;32m/usr/local/lib/python2.7/site-packages/xgboost/core.pyc\u001b[0m in \u001b[0;36mupdate\u001b[1;34m(self, dtrain, iteration, fobj)\u001b[0m\n\u001b[0;32m    521\u001b[0m             \u001b[1;32mraise\u001b[0m \u001b[0mTypeError\u001b[0m\u001b[1;33m(\u001b[0m\u001b[1;34m'invalid training matrix: {}'\u001b[0m\u001b[1;33m.\u001b[0m\u001b[0mformat\u001b[0m\u001b[1;33m(\u001b[0m\u001b[0mtype\u001b[0m\u001b[1;33m(\u001b[0m\u001b[0mdtrain\u001b[0m\u001b[1;33m)\u001b[0m\u001b[1;33m.\u001b[0m\u001b[0m__name__\u001b[0m\u001b[1;33m)\u001b[0m\u001b[1;33m)\u001b[0m\u001b[1;33m\u001b[0m\u001b[0m\n\u001b[0;32m    522\u001b[0m         \u001b[1;32mif\u001b[0m \u001b[0mfobj\u001b[0m \u001b[1;32mis\u001b[0m \u001b[0mNone\u001b[0m\u001b[1;33m:\u001b[0m\u001b[1;33m\u001b[0m\u001b[0m\n\u001b[1;32m--> 523\u001b[1;33m             \u001b[0m_check_call\u001b[0m\u001b[1;33m(\u001b[0m\u001b[0m_LIB\u001b[0m\u001b[1;33m.\u001b[0m\u001b[0mXGBoosterUpdateOneIter\u001b[0m\u001b[1;33m(\u001b[0m\u001b[0mself\u001b[0m\u001b[1;33m.\u001b[0m\u001b[0mhandle\u001b[0m\u001b[1;33m,\u001b[0m \u001b[0miteration\u001b[0m\u001b[1;33m,\u001b[0m \u001b[0mdtrain\u001b[0m\u001b[1;33m.\u001b[0m\u001b[0mhandle\u001b[0m\u001b[1;33m)\u001b[0m\u001b[1;33m)\u001b[0m\u001b[1;33m\u001b[0m\u001b[0m\n\u001b[0m\u001b[0;32m    524\u001b[0m         \u001b[1;32melse\u001b[0m\u001b[1;33m:\u001b[0m\u001b[1;33m\u001b[0m\u001b[0m\n\u001b[0;32m    525\u001b[0m             \u001b[0mpred\u001b[0m \u001b[1;33m=\u001b[0m \u001b[0mself\u001b[0m\u001b[1;33m.\u001b[0m\u001b[0mpredict\u001b[0m\u001b[1;33m(\u001b[0m\u001b[0mdtrain\u001b[0m\u001b[1;33m)\u001b[0m\u001b[1;33m\u001b[0m\u001b[0m\n",
      "\u001b[1;31mKeyboardInterrupt\u001b[0m: "
     ]
    }
   ],
   "source": [
    "bst = xgb.train(param, dtrain, num_round, watchlist) #0.3"
   ]
  },
  {
   "cell_type": "code",
   "execution_count": 36,
   "metadata": {
    "collapsed": false,
    "scrolled": false
   },
   "outputs": [
    {
     "name": "stderr",
     "output_type": "stream",
     "text": [
      "[0]\teval-auc:0.725346\ttrain-auc:0.735978\n",
      "[1]\teval-auc:0.791019\ttrain-auc:0.817665\n",
      "[2]\teval-auc:0.829401\ttrain-auc:0.865907\n",
      "[3]\teval-auc:0.856240\ttrain-auc:0.902103\n",
      "[4]\teval-auc:0.878392\ttrain-auc:0.940189\n",
      "[5]\teval-auc:0.895176\ttrain-auc:0.963277\n",
      "[6]\teval-auc:0.906432\ttrain-auc:0.975436\n",
      "[7]\teval-auc:0.913355\ttrain-auc:0.982984\n",
      "[8]\teval-auc:0.918611\ttrain-auc:0.988754\n",
      "[9]\teval-auc:0.921459\ttrain-auc:0.991592\n",
      "[10]\teval-auc:0.923668\ttrain-auc:0.992822\n",
      "[11]\teval-auc:0.925038\ttrain-auc:0.993741\n",
      "[12]\teval-auc:0.925857\ttrain-auc:0.994206\n",
      "[13]\teval-auc:0.926644\ttrain-auc:0.994610\n",
      "[14]\teval-auc:0.927549\ttrain-auc:0.995402\n",
      "[15]\teval-auc:0.928319\ttrain-auc:0.995672\n",
      "[16]\teval-auc:0.928710\ttrain-auc:0.995926\n",
      "[17]\teval-auc:0.929151\ttrain-auc:0.996104\n",
      "[18]\teval-auc:0.929450\ttrain-auc:0.996254\n",
      "[19]\teval-auc:0.929864\ttrain-auc:0.996386\n",
      "[20]\teval-auc:0.930132\ttrain-auc:0.996631\n",
      "[21]\teval-auc:0.930153\ttrain-auc:0.996905\n",
      "[22]\teval-auc:0.931099\ttrain-auc:0.997078\n",
      "[23]\teval-auc:0.931638\ttrain-auc:0.997151\n",
      "[24]\teval-auc:0.932000\ttrain-auc:0.997267\n",
      "[25]\teval-auc:0.932456\ttrain-auc:0.997837\n"
     ]
    },
    {
     "ename": "KeyboardInterrupt",
     "evalue": "",
     "output_type": "error",
     "traceback": [
      "\u001b[1;31m---------------------------------------------------------------------------\u001b[0m",
      "\u001b[1;31mKeyboardInterrupt\u001b[0m                         Traceback (most recent call last)",
      "\u001b[1;32m<ipython-input-36-e578d47b3b73>\u001b[0m in \u001b[0;36m<module>\u001b[1;34m()\u001b[0m\n\u001b[1;32m----> 1\u001b[1;33m \u001b[0mbst\u001b[0m \u001b[1;33m=\u001b[0m \u001b[0mxgb\u001b[0m\u001b[1;33m.\u001b[0m\u001b[0mtrain\u001b[0m\u001b[1;33m(\u001b[0m\u001b[0mparam\u001b[0m\u001b[1;33m,\u001b[0m \u001b[0mdtrain\u001b[0m\u001b[1;33m,\u001b[0m \u001b[0mnum_round\u001b[0m\u001b[1;33m,\u001b[0m \u001b[0mwatchlist\u001b[0m\u001b[1;33m)\u001b[0m\u001b[1;33m\u001b[0m\u001b[0m\n\u001b[0m",
      "\u001b[1;32m/usr/local/lib/python2.7/site-packages/xgboost/training.pyc\u001b[0m in \u001b[0;36mtrain\u001b[1;34m(params, dtrain, num_boost_round, evals, obj, feval, early_stopping_rounds, evals_result, verbose_eval)\u001b[0m\n\u001b[0;32m     60\u001b[0m     \u001b[1;32mif\u001b[0m \u001b[1;32mnot\u001b[0m \u001b[0mearly_stopping_rounds\u001b[0m\u001b[1;33m:\u001b[0m\u001b[1;33m\u001b[0m\u001b[0m\n\u001b[0;32m     61\u001b[0m         \u001b[1;32mfor\u001b[0m \u001b[0mi\u001b[0m \u001b[1;32min\u001b[0m \u001b[0mrange\u001b[0m\u001b[1;33m(\u001b[0m\u001b[0mnum_boost_round\u001b[0m\u001b[1;33m)\u001b[0m\u001b[1;33m:\u001b[0m\u001b[1;33m\u001b[0m\u001b[0m\n\u001b[1;32m---> 62\u001b[1;33m             \u001b[0mbst\u001b[0m\u001b[1;33m.\u001b[0m\u001b[0mupdate\u001b[0m\u001b[1;33m(\u001b[0m\u001b[0mdtrain\u001b[0m\u001b[1;33m,\u001b[0m \u001b[0mi\u001b[0m\u001b[1;33m,\u001b[0m \u001b[0mobj\u001b[0m\u001b[1;33m)\u001b[0m\u001b[1;33m\u001b[0m\u001b[0m\n\u001b[0m\u001b[0;32m     63\u001b[0m             \u001b[1;32mif\u001b[0m \u001b[0mlen\u001b[0m\u001b[1;33m(\u001b[0m\u001b[0mevals\u001b[0m\u001b[1;33m)\u001b[0m \u001b[1;33m!=\u001b[0m \u001b[1;36m0\u001b[0m\u001b[1;33m:\u001b[0m\u001b[1;33m\u001b[0m\u001b[0m\n\u001b[0;32m     64\u001b[0m                 \u001b[0mbst_eval_set\u001b[0m \u001b[1;33m=\u001b[0m \u001b[0mbst\u001b[0m\u001b[1;33m.\u001b[0m\u001b[0meval_set\u001b[0m\u001b[1;33m(\u001b[0m\u001b[0mevals\u001b[0m\u001b[1;33m,\u001b[0m \u001b[0mi\u001b[0m\u001b[1;33m,\u001b[0m \u001b[0mfeval\u001b[0m\u001b[1;33m)\u001b[0m\u001b[1;33m\u001b[0m\u001b[0m\n",
      "\u001b[1;32m/usr/local/lib/python2.7/site-packages/xgboost/core.pyc\u001b[0m in \u001b[0;36mupdate\u001b[1;34m(self, dtrain, iteration, fobj)\u001b[0m\n\u001b[0;32m    521\u001b[0m             \u001b[1;32mraise\u001b[0m \u001b[0mTypeError\u001b[0m\u001b[1;33m(\u001b[0m\u001b[1;34m'invalid training matrix: {}'\u001b[0m\u001b[1;33m.\u001b[0m\u001b[0mformat\u001b[0m\u001b[1;33m(\u001b[0m\u001b[0mtype\u001b[0m\u001b[1;33m(\u001b[0m\u001b[0mdtrain\u001b[0m\u001b[1;33m)\u001b[0m\u001b[1;33m.\u001b[0m\u001b[0m__name__\u001b[0m\u001b[1;33m)\u001b[0m\u001b[1;33m)\u001b[0m\u001b[1;33m\u001b[0m\u001b[0m\n\u001b[0;32m    522\u001b[0m         \u001b[1;32mif\u001b[0m \u001b[0mfobj\u001b[0m \u001b[1;32mis\u001b[0m \u001b[0mNone\u001b[0m\u001b[1;33m:\u001b[0m\u001b[1;33m\u001b[0m\u001b[0m\n\u001b[1;32m--> 523\u001b[1;33m             \u001b[0m_check_call\u001b[0m\u001b[1;33m(\u001b[0m\u001b[0m_LIB\u001b[0m\u001b[1;33m.\u001b[0m\u001b[0mXGBoosterUpdateOneIter\u001b[0m\u001b[1;33m(\u001b[0m\u001b[0mself\u001b[0m\u001b[1;33m.\u001b[0m\u001b[0mhandle\u001b[0m\u001b[1;33m,\u001b[0m \u001b[0miteration\u001b[0m\u001b[1;33m,\u001b[0m \u001b[0mdtrain\u001b[0m\u001b[1;33m.\u001b[0m\u001b[0mhandle\u001b[0m\u001b[1;33m)\u001b[0m\u001b[1;33m)\u001b[0m\u001b[1;33m\u001b[0m\u001b[0m\n\u001b[0m\u001b[0;32m    524\u001b[0m         \u001b[1;32melse\u001b[0m\u001b[1;33m:\u001b[0m\u001b[1;33m\u001b[0m\u001b[0m\n\u001b[0;32m    525\u001b[0m             \u001b[0mpred\u001b[0m \u001b[1;33m=\u001b[0m \u001b[0mself\u001b[0m\u001b[1;33m.\u001b[0m\u001b[0mpredict\u001b[0m\u001b[1;33m(\u001b[0m\u001b[0mdtrain\u001b[0m\u001b[1;33m)\u001b[0m\u001b[1;33m\u001b[0m\u001b[0m\n",
      "\u001b[1;31mKeyboardInterrupt\u001b[0m: "
     ]
    }
   ],
   "source": [
    "bst = xgb.train(param, dtrain, num_round, watchlist)"
   ]
  },
  {
   "cell_type": "code",
   "execution_count": null,
   "metadata": {
    "collapsed": false
   },
   "outputs": [],
   "source": [
    "print(datetime.datetime.now())\n",
    "preds = bst.predict(dtest) #, ntree_limit=bst.boost .best_iteration)"
   ]
  },
  {
   "cell_type": "code",
   "execution_count": null,
   "metadata": {
    "collapsed": true
   },
   "outputs": [],
   "source": [
    "roc_auc_score(CV['sponsored'], preds)"
   ]
  },
  {
   "cell_type": "markdown",
   "metadata": {},
   "source": [
    "---\n",
    "\n",
    "## M-version"
   ]
  },
  {
   "cell_type": "code",
   "execution_count": null,
   "metadata": {
    "collapsed": false
   },
   "outputs": [],
   "source": [
    "#max depth [8], eta 0.2, colsample_bytree 0.5, subsample: 1.0\n",
    "param = {'max_depth': 18, \n",
    "         'eta': 0.02, \n",
    "         #'gamma': 1.0,\n",
    "         'colsample_bytree': 0.6,\n",
    "         'subsample': 1.0,\n",
    "         'min_child_weight': 7,\n",
    "         'silent':1, \n",
    "         'objective':'binary:logistic', \n",
    "         'eval_metric':'auc',\n",
    "         'early_stopping_rounds':20}\n",
    "num_round = 1800\n",
    "\n",
    "print(datetime.datetime.now())"
   ]
  },
  {
   "cell_type": "code",
   "execution_count": null,
   "metadata": {
    "collapsed": false
   },
   "outputs": [],
   "source": [
    "bst2 = xgb.train(param, dtrain, num_round, watchlist)"
   ]
  },
  {
   "cell_type": "code",
   "execution_count": null,
   "metadata": {
    "collapsed": false
   },
   "outputs": [],
   "source": [
    "print(datetime.datetime.now())\n",
    "preds = bst2.predict(dtest) #, ntree_limit=bst.boost .best_iteration)"
   ]
  },
  {
   "cell_type": "markdown",
   "metadata": {},
   "source": [
    "---\n",
    "\n",
    "## M2-version"
   ]
  },
  {
   "cell_type": "code",
   "execution_count": null,
   "metadata": {
    "collapsed": false
   },
   "outputs": [],
   "source": [
    "param = {'max_depth': 20, \n",
    "         'eta': 1, \n",
    "         'num_parallel_tree': 10,\n",
    "         #'gamma': 1.0,\n",
    "         'colsample_bytree': 0.8,\n",
    "         'subsample': 1.0,\n",
    "         'min_child_weight': 10,\n",
    "         'silent':1, \n",
    "         'objective':'binary:logistic', \n",
    "         'eval_metric':'auc',\n",
    "         'early_stopping_rounds':20}\n",
    "num_round = 20\n",
    "\n",
    "print(datetime.datetime.now())"
   ]
  },
  {
   "cell_type": "code",
   "execution_count": null,
   "metadata": {
    "collapsed": false,
    "scrolled": true
   },
   "outputs": [],
   "source": [
    "bst2 = xgb.train(param, dtrain, num_round, watchlist)"
   ]
  },
  {
   "cell_type": "code",
   "execution_count": null,
   "metadata": {
    "collapsed": false
   },
   "outputs": [],
   "source": [
    "a = datetime.datetime.now()\n",
    "\n",
    "#max depth [8], eta 0.2, colsample_bytree 0.5, subsample: 1.0\n",
    "#max depth [19], eta 0.02, colsample_bytree 0.6, subsample: 1.0, min_child_weight: 7\n",
    "param = {'max_depth': 19, \n",
    "         'eta': 0.1, \n",
    "         'num_parallel_tree': 10,\n",
    "         #'gamma': 1.0,\n",
    "         'colsample_bytree': 0.5, #0.8,\n",
    "         'subsample': 1.0,\n",
    "         'min_child_weight': 1, #10,\n",
    "         'silent':1, \n",
    "         'objective':'binary:logistic', \n",
    "         'eval_metric':'auc',\n",
    "         'early_stopping_rounds':20}\n",
    "num_round = 300\n",
    "\n",
    "print(datetime.datetime.now())\n",
    "b = datetime.datetime.now() - a\n",
    "print(b)"
   ]
  },
  {
   "cell_type": "code",
   "execution_count": null,
   "metadata": {
    "collapsed": false,
    "scrolled": false
   },
   "outputs": [],
   "source": [
    "a = datetime.datetime.now()\n",
    "%time bst2 = xgb.train(param, dtrain, num_round, watchlist)\n",
    "print(datetime.datetime.now())\n",
    "b = datetime.datetime.now() - a\n",
    "print(b)"
   ]
  },
  {
   "cell_type": "code",
   "execution_count": null,
   "metadata": {
    "collapsed": false,
    "scrolled": true
   },
   "outputs": [],
   "source": [
    "bst2 = xgb.train(param, dtrain, num_round, watchlist)"
   ]
  },
  {
   "cell_type": "code",
   "execution_count": null,
   "metadata": {
    "collapsed": false
   },
   "outputs": [],
   "source": [
    "print(datetime.datetime.now())\n",
    "preds = bst2.predict(dtest) #, ntree_limit=bst.boost .best_iteration)"
   ]
  },
  {
   "cell_type": "code",
   "execution_count": null,
   "metadata": {
    "collapsed": false
   },
   "outputs": [],
   "source": [
    "3"
   ]
  },
  {
   "cell_type": "markdown",
   "metadata": {},
   "source": [
    "# Submission"
   ]
  },
  {
   "cell_type": "code",
   "execution_count": null,
   "metadata": {
    "collapsed": false
   },
   "outputs": [],
   "source": [
    "submission = pd.DataFrame({\n",
    "        'file': df_test['id'].map(lambda s: s + '_raw_html.txt').reset_index(drop=True),\n",
    "        'sponsored': preds\n",
    "    })\n",
    "submission.to_csv('submission_xgb_Oct_07_01.csv', index=False)\n",
    "print(datetime.datetime.now())"
   ]
  },
  {
   "cell_type": "code",
   "execution_count": null,
   "metadata": {
    "collapsed": true
   },
   "outputs": [],
   "source": [
    "#submission = df_test[['id']].map(lambda s: s + '_raw_html.txt'). reset_index(drop=True)\n",
    "#submission['sponsored'] = clf.predict_proba(test.drop(['file', 'sponsored'], 1))[:, 1]\n",
    "#submission.to_csv('submission_xgb_Oct_06_01.csv', index=False)"
   ]
  },
  {
   "cell_type": "markdown",
   "metadata": {},
   "source": [
    "# train_train version"
   ]
  },
  {
   "cell_type": "code",
   "execution_count": null,
   "metadata": {
    "collapsed": false,
    "scrolled": true
   },
   "outputs": [],
   "source": [
    "#max depth [8], eta 0.2, colsample_bytree 0.5, subsample: 1.0\n",
    "param = {'max_depth': 18, \n",
    "         'eta': 0.02, \n",
    "         #'gamma': 1.0,\n",
    "         'colsample_bytree': 0.6,\n",
    "         'subsample': 1.0,\n",
    "         'min_child_weight': 7,\n",
    "         'silent':1, \n",
    "         'objective':'binary:logistic', \n",
    "         'eval_metric':'auc',\n",
    "         'early_stopping_rounds':20}\n",
    "num_round = 1800\n",
    "\n",
    "print(datetime.datetime.now())"
   ]
  },
  {
   "cell_type": "code",
   "execution_count": null,
   "metadata": {
    "collapsed": false,
    "scrolled": true
   },
   "outputs": [],
   "source": [
    "bst = xgb.train(param, dtrain, num_round, watchlist)"
   ]
  },
  {
   "cell_type": "code",
   "execution_count": null,
   "metadata": {
    "collapsed": false
   },
   "outputs": [],
   "source": [
    "print(datetime.datetime.now())\n",
    "preds = bst.predict(dtest) #, ntree_limit=bst.boost .best_iteration)\n",
    "roc_auc_score(CV['sponsored'], preds)"
   ]
  },
  {
   "cell_type": "markdown",
   "metadata": {},
   "source": [
    "# T"
   ]
  },
  {
   "cell_type": "code",
   "execution_count": null,
   "metadata": {
    "collapsed": false
   },
   "outputs": [],
   "source": [
    "#max depth [8], eta 0.2, colsample_bytree 0.5, subsample: 1.0\n",
    "param = {'max_depth': 16, \n",
    "         'eta': 0.1, \n",
    "         #'gamma': 1.0,\n",
    "         'colsample_bytree': 0.5,\n",
    "         'subsample': 1.0,\n",
    "         'min_child_weight': 5,\n",
    "         'silent':1, \n",
    "         'objective':'binary:logistic', \n",
    "         'eval_metric':'auc',\n",
    "         'early_stopping_rounds':20}\n",
    "num_round = 300\n",
    "\n",
    "print(datetime.datetime.now())"
   ]
  },
  {
   "cell_type": "code",
   "execution_count": null,
   "metadata": {
    "collapsed": false
   },
   "outputs": [],
   "source": [
    "3"
   ]
  },
  {
   "cell_type": "code",
   "execution_count": null,
   "metadata": {
    "collapsed": true
   },
   "outputs": [],
   "source": [
    "dtrain.save_binary('dtrain.buffer_mindf20')\n",
    "dtest.save_binary('dtest.buffer_mindf20')\n",
    "#a = xgb.DMatrix('dtest.buffer')"
   ]
  },
  {
   "cell_type": "code",
   "execution_count": null,
   "metadata": {
    "collapsed": true
   },
   "outputs": [],
   "source": [
    "submission = test[['file']].reset_index(drop=True)\n",
    "submission['sponsored'] = clf.predict_proba(test.drop(['file', 'sponsored'], 1))[:, 1]"
   ]
  },
  {
   "cell_type": "markdown",
   "metadata": {},
   "source": [
    "## etc"
   ]
  },
  {
   "cell_type": "code",
   "execution_count": null,
   "metadata": {
    "collapsed": false
   },
   "outputs": [],
   "source": [
    "df_train.columns"
   ]
  },
  {
   "cell_type": "code",
   "execution_count": null,
   "metadata": {
    "collapsed": false
   },
   "outputs": [],
   "source": [
    "np.mean(df_train[df_train['basic.2'] == 0]['sponsored'])"
   ]
  },
  {
   "cell_type": "code",
   "execution_count": null,
   "metadata": {
    "collapsed": false
   },
   "outputs": [],
   "source": [
    "df_train['basic.1'].value_counts()"
   ]
  },
  {
   "cell_type": "code",
   "execution_count": null,
   "metadata": {
    "collapsed": false
   },
   "outputs": [],
   "source": [
    "a= bst.get_fscore()"
   ]
  },
  {
   "cell_type": "code",
   "execution_count": null,
   "metadata": {
    "collapsed": false
   },
   "outputs": [],
   "source": [
    "len(a)"
   ]
  },
  {
   "cell_type": "code",
   "execution_count": null,
   "metadata": {
    "collapsed": true
   },
   "outputs": [],
   "source": [
    "pd.read_csv('~/tmp/')"
   ]
  }
 ],
 "metadata": {
  "kernelspec": {
   "display_name": "Python 2",
   "language": "python",
   "name": "python2"
  },
  "language_info": {
   "codemirror_mode": {
    "name": "ipython",
    "version": 2
   },
   "file_extension": ".py",
   "mimetype": "text/x-python",
   "name": "python",
   "nbconvert_exporter": "python",
   "pygments_lexer": "ipython2",
   "version": "2.7.6"
  }
 },
 "nbformat": 4,
 "nbformat_minor": 0
}
