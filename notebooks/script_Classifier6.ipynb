{
 "cells": [
  {
   "cell_type": "code",
   "execution_count": 1,
   "metadata": {
    "collapsed": false
   },
   "outputs": [
    {
     "name": "stderr",
     "output_type": "stream",
     "text": [
      "[WARNING] This Python session does not appear to be running in an interactive IPython Notebook. Use of the 'ipynb' target may behave unexpectedly or result in errors.\n"
     ]
    }
   ],
   "source": [
    "%matplotlib inline\n",
    "\n",
    "import matplotlib\n",
    "import numpy as np\n",
    "import matplotlib.pyplot as plt\n",
    "import pandas as pd\n",
    "import re\n",
    "import graphlab as gl\n",
    "from graphlab.toolkits.feature_engineering import TFIDF, FeatureHasher, QuadraticFeatures\n",
    "\n",
    "gl.canvas.set_target('ipynb')\n",
    "\n",
    "PATH_TO_JSON2 = \"/mnt/sframe/docs_prod_02/\"\n",
    "PATH_TO_JSON = \"/mnt/sframe/docs_prod_03/\"\n",
    "PATH_TO_TRAIN_LABELS = \"input/train.csv\"\n",
    "PATH_TO_TEST_LABELS = \"input/sampleSubmission.csv\""
   ]
  },
  {
   "cell_type": "markdown",
   "metadata": {},
   "source": [
    "### Read processed documents"
   ]
  },
  {
   "cell_type": "code",
   "execution_count": 2,
   "metadata": {
    "collapsed": false
   },
   "outputs": [
    {
     "name": "stderr",
     "output_type": "stream",
     "text": [
      "[INFO] This trial license of GraphLab Create is assigned to renatbek@gmail.com and will expire on October 08, 2015. Please contact trial@dato.com for licensing options or to request a free non-commercial license for personal or academic use.\n",
      "\n",
      "[INFO] Start server at: ipc:///tmp/graphlab_server-11692 - Server binary: /usr/local/lib/python2.7/site-packages/graphlab/unity_server - Server log: /tmp/graphlab_server_1442904105.log\n",
      "[INFO] GraphLab Server Version: 1.5.2\n"
     ]
    }
   ],
   "source": [
    "gl.set_runtime_config('GRAPHLAB_DEFAULT_NUM_PYLAMBDA_WORKERS', 32)"
   ]
  },
  {
   "cell_type": "code",
   "execution_count": 3,
   "metadata": {
    "collapsed": false,
    "scrolled": false
   },
   "outputs": [
    {
     "name": "stdout",
     "output_type": "stream",
     "text": [
      "------------------------------------------------------\n",
      "Inferred types from first line of file as \n",
      "column_type_hints=[dict]\n",
      "If parsing fails due to incorrect types, you can correct\n",
      "the inferred type list above and pass it to read_csv in\n",
      "the column_type_hints argument\n",
      "------------------------------------------------------\n",
      "PROGRESS: Finished parsing file /mnt/sframe/docs_prod_03/49\n",
      "PROGRESS: Read 5685 lines. Lines per second: 12472.4\n",
      "PROGRESS: Finished parsing file /mnt/sframe/docs_prod_03/8\n",
      "PROGRESS: Finished parsing file /mnt/sframe/docs_prod_03/23\n",
      "PROGRESS: Finished parsing file /mnt/sframe/docs_prod_03/26\n",
      "PROGRESS: Finished parsing file /mnt/sframe/docs_prod_03/3\n",
      "PROGRESS: Finished parsing file /mnt/sframe/docs_prod_03/16\n",
      "PROGRESS: Finished parsing file /mnt/sframe/docs_prod_03/5\n",
      "PROGRESS: Finished parsing file /mnt/sframe/docs_prod_03/39\n",
      "PROGRESS: Finished parsing file /mnt/sframe/docs_prod_03/60\n",
      "PROGRESS: Finished parsing file /mnt/sframe/docs_prod_03/50\n",
      "PROGRESS: Finished parsing file /mnt/sframe/docs_prod_03/38\n",
      "PROGRESS: Finished parsing file /mnt/sframe/docs_prod_03/7\n",
      "PROGRESS: Finished parsing file /mnt/sframe/docs_prod_03/22\n",
      "PROGRESS: Read 73900 lines. Lines per second: 13191.9\n",
      "PROGRESS: Finished parsing file /mnt/sframe/docs_prod_03/21\n",
      "PROGRESS: Finished parsing file /mnt/sframe/docs_prod_03/27\n",
      "PROGRESS: Finished parsing file /mnt/sframe/docs_prod_03/41\n",
      "PROGRESS: Finished parsing file /mnt/sframe/docs_prod_03/70\n",
      "PROGRESS: Finished parsing file /mnt/sframe/docs_prod_03/34\n",
      "PROGRESS: Finished parsing file /mnt/sframe/docs_prod_03/11\n",
      "PROGRESS: Finished parsing file /mnt/sframe/docs_prod_03/66\n",
      "PROGRESS: Finished parsing file /mnt/sframe/docs_prod_03/40\n",
      "PROGRESS: Finished parsing file /mnt/sframe/docs_prod_03/58\n",
      "PROGRESS: Finished parsing file /mnt/sframe/docs_prod_03/0\n",
      "PROGRESS: Finished parsing file /mnt/sframe/docs_prod_03/30\n",
      "PROGRESS: Finished parsing file /mnt/sframe/docs_prod_03/52\n",
      "PROGRESS: Read 142078 lines. Lines per second: 13446.9\n",
      "PROGRESS: Finished parsing file /mnt/sframe/docs_prod_03/48\n",
      "PROGRESS: Finished parsing file /mnt/sframe/docs_prod_03/61\n",
      "PROGRESS: Finished parsing file /mnt/sframe/docs_prod_03/15\n",
      "PROGRESS: Finished parsing file /mnt/sframe/docs_prod_03/54\n",
      "PROGRESS: Finished parsing file /mnt/sframe/docs_prod_03/51\n",
      "PROGRESS: Finished parsing file /mnt/sframe/docs_prod_03/63\n",
      "PROGRESS: Finished parsing file /mnt/sframe/docs_prod_03/20\n",
      "PROGRESS: Finished parsing file /mnt/sframe/docs_prod_03/18\n",
      "PROGRESS: Finished parsing file /mnt/sframe/docs_prod_03/31\n",
      "PROGRESS: Finished parsing file /mnt/sframe/docs_prod_03/35\n",
      "PROGRESS: Finished parsing file /mnt/sframe/docs_prod_03/37\n",
      "PROGRESS: Read 204613 lines. Lines per second: 12950.9\n",
      "PROGRESS: Finished parsing file /mnt/sframe/docs_prod_03/2\n",
      "PROGRESS: Finished parsing file /mnt/sframe/docs_prod_03/65\n",
      "PROGRESS: Finished parsing file /mnt/sframe/docs_prod_03/32\n",
      "PROGRESS: Finished parsing file /mnt/sframe/docs_prod_03/12\n",
      "PROGRESS: Finished parsing file /mnt/sframe/docs_prod_03/36\n",
      "PROGRESS: Finished parsing file /mnt/sframe/docs_prod_03/6\n",
      "PROGRESS: Finished parsing file /mnt/sframe/docs_prod_03/33\n",
      "PROGRESS: Finished parsing file /mnt/sframe/docs_prod_03/44\n",
      "PROGRESS: Finished parsing file /mnt/sframe/docs_prod_03/57\n",
      "PROGRESS: Finished parsing file /mnt/sframe/docs_prod_03/17\n",
      "PROGRESS: Finished parsing file /mnt/sframe/docs_prod_03/69\n",
      "PROGRESS: Finished parsing file /mnt/sframe/docs_prod_03/42\n",
      "PROGRESS: Finished parsing file /mnt/sframe/docs_prod_03/29\n",
      "PROGRESS: Read 278524 lines. Lines per second: 13198.6\n",
      "PROGRESS: Finished parsing file /mnt/sframe/docs_prod_03/64\n",
      "PROGRESS: Finished parsing file /mnt/sframe/docs_prod_03/10\n",
      "PROGRESS: Finished parsing file /mnt/sframe/docs_prod_03/4\n",
      "PROGRESS: Finished parsing file /mnt/sframe/docs_prod_03/13\n",
      "PROGRESS: Finished parsing file /mnt/sframe/docs_prod_03/1\n",
      "PROGRESS: Finished parsing file /mnt/sframe/docs_prod_03/53\n",
      "PROGRESS: Finished parsing file /mnt/sframe/docs_prod_03/24\n",
      "PROGRESS: Finished parsing file /mnt/sframe/docs_prod_03/43\n",
      "PROGRESS: Finished parsing file /mnt/sframe/docs_prod_03/46\n",
      "PROGRESS: Finished parsing file /mnt/sframe/docs_prod_03/56\n",
      "PROGRESS: Finished parsing file /mnt/sframe/docs_prod_03/45\n",
      "PROGRESS: Finished parsing file /mnt/sframe/docs_prod_03/67\n",
      "PROGRESS: Finished parsing file /mnt/sframe/docs_prod_03/14\n",
      "PROGRESS: Read 352444 lines. Lines per second: 13392.8\n",
      "PROGRESS: Finished parsing file /mnt/sframe/docs_prod_03/25\n",
      "PROGRESS: Finished parsing file /mnt/sframe/docs_prod_03/19\n",
      "PROGRESS: Finished parsing file /mnt/sframe/docs_prod_03/28\n",
      "PROGRESS: Finished parsing file /mnt/sframe/docs_prod_03/68\n",
      "PROGRESS: Finished parsing file /mnt/sframe/docs_prod_03/59\n",
      "PROGRESS: Finished parsing file /mnt/sframe/docs_prod_03/55\n",
      "PROGRESS: Finished parsing file /mnt/sframe/docs_prod_03/62\n",
      "PROGRESS: Finished parsing file /mnt/sframe/docs_prod_03/9\n",
      "PROGRESS: Finished parsing file /mnt/sframe/docs_prod_03/47\n",
      "PROGRESS: Parsing completed. Parsed 403618 lines in 31.1025 secs.\n",
      "------------------------------------------------------\n",
      "Inferred types from first line of file as \n",
      "column_type_hints=[dict]\n",
      "If parsing fails due to incorrect types, you can correct\n",
      "the inferred type list above and pass it to read_csv in\n",
      "the column_type_hints argument\n",
      "------------------------------------------------------\n",
      "PROGRESS: Read 2350 lines. Lines per second: 4390.47\n",
      "PROGRESS: Finished parsing file /mnt/sframe/docs_prod_02/49\n",
      "PROGRESS: Finished parsing file /mnt/sframe/docs_prod_02/8\n",
      "PROGRESS: Finished parsing file /mnt/sframe/docs_prod_02/23\n",
      "PROGRESS: Finished parsing file /mnt/sframe/docs_prod_02/26\n",
      "PROGRESS: Read 26909 lines. Lines per second: 4230.56\n",
      "PROGRESS: Finished parsing file /mnt/sframe/docs_prod_02/3\n",
      "PROGRESS: Finished parsing file /mnt/sframe/docs_prod_02/16\n",
      "PROGRESS: Finished parsing file /mnt/sframe/docs_prod_02/5\n",
      "PROGRESS: Read 49446 lines. Lines per second: 4263.74\n",
      "PROGRESS: Finished parsing file /mnt/sframe/docs_prod_02/39\n",
      "PROGRESS: Finished parsing file /mnt/sframe/docs_prod_02/50\n",
      "PROGRESS: Finished parsing file /mnt/sframe/docs_prod_02/38\n",
      "PROGRESS: Read 69589 lines. Lines per second: 4189.01\n",
      "PROGRESS: Finished parsing file /mnt/sframe/docs_prod_02/7\n",
      "PROGRESS: Finished parsing file /mnt/sframe/docs_prod_02/22\n",
      "PROGRESS: Finished parsing file /mnt/sframe/docs_prod_02/21\n",
      "PROGRESS: Read 92051 lines. Lines per second: 4237.43\n",
      "PROGRESS: Finished parsing file /mnt/sframe/docs_prod_02/27\n",
      "PROGRESS: Finished parsing file /mnt/sframe/docs_prod_02/41\n",
      "PROGRESS: Finished parsing file /mnt/sframe/docs_prod_02/34\n",
      "PROGRESS: Finished parsing file /mnt/sframe/docs_prod_02/11\n",
      "PROGRESS: Read 114354 lines. Lines per second: 4237.95\n",
      "PROGRESS: Finished parsing file /mnt/sframe/docs_prod_02/40\n",
      "PROGRESS: Finished parsing file /mnt/sframe/docs_prod_02/58\n",
      "PROGRESS: Read 130241 lines. Lines per second: 4062.39\n",
      "PROGRESS: Finished parsing file /mnt/sframe/docs_prod_02/0\n",
      "PROGRESS: Finished parsing file /mnt/sframe/docs_prod_02/30\n",
      "PROGRESS: Finished parsing file /mnt/sframe/docs_prod_02/52\n",
      "PROGRESS: Read 152690 lines. Lines per second: 4119.31\n",
      "PROGRESS: Finished parsing file /mnt/sframe/docs_prod_02/48\n",
      "PROGRESS: Finished parsing file /mnt/sframe/docs_prod_02/15\n",
      "PROGRESS: Finished parsing file /mnt/sframe/docs_prod_02/54\n",
      "PROGRESS: Read 170345 lines. Lines per second: 4032.6\n",
      "PROGRESS: Finished parsing file /mnt/sframe/docs_prod_02/51\n",
      "PROGRESS: Finished parsing file /mnt/sframe/docs_prod_02/20\n",
      "PROGRESS: Finished parsing file /mnt/sframe/docs_prod_02/18\n",
      "PROGRESS: Read 190897 lines. Lines per second: 4030.78\n",
      "PROGRESS: Finished parsing file /mnt/sframe/docs_prod_02/31\n",
      "PROGRESS: Finished parsing file /mnt/sframe/docs_prod_02/35\n",
      "PROGRESS: Finished parsing file /mnt/sframe/docs_prod_02/37\n",
      "PROGRESS: Read 213547 lines. Lines per second: 4065.08\n",
      "PROGRESS: Finished parsing file /mnt/sframe/docs_prod_02/2\n",
      "PROGRESS: Finished parsing file /mnt/sframe/docs_prod_02/32\n",
      "PROGRESS: Finished parsing file /mnt/sframe/docs_prod_02/12\n",
      "PROGRESS: Finished parsing file /mnt/sframe/docs_prod_02/36\n",
      "PROGRESS: Read 235447 lines. Lines per second: 4049.41\n",
      "PROGRESS: Finished parsing file /mnt/sframe/docs_prod_02/6\n",
      "PROGRESS: Finished parsing file /mnt/sframe/docs_prod_02/33\n",
      "PROGRESS: Read 248891 lines. Lines per second: 3907.34\n",
      "PROGRESS: Finished parsing file /mnt/sframe/docs_prod_02/44\n",
      "PROGRESS: Finished parsing file /mnt/sframe/docs_prod_02/57\n",
      "PROGRESS: Finished parsing file /mnt/sframe/docs_prod_02/17\n",
      "PROGRESS: Read 269068 lines. Lines per second: 3909.71\n",
      "PROGRESS: Finished parsing file /mnt/sframe/docs_prod_02/42\n",
      "PROGRESS: Finished parsing file /mnt/sframe/docs_prod_02/29\n",
      "PROGRESS: Finished parsing file /mnt/sframe/docs_prod_02/10\n",
      "PROGRESS: Read 289250 lines. Lines per second: 3909.52\n",
      "PROGRESS: Finished parsing file /mnt/sframe/docs_prod_02/4\n",
      "PROGRESS: Finished parsing file /mnt/sframe/docs_prod_02/13\n",
      "PROGRESS: Finished parsing file /mnt/sframe/docs_prod_02/1\n",
      "PROGRESS: Read 309430 lines. Lines per second: 3916.59\n",
      "PROGRESS: Finished parsing file /mnt/sframe/docs_prod_02/53\n",
      "PROGRESS: Finished parsing file /mnt/sframe/docs_prod_02/24\n",
      "PROGRESS: Finished parsing file /mnt/sframe/docs_prod_02/43\n",
      "PROGRESS: Read 329619 lines. Lines per second: 3923.74\n",
      "PROGRESS: Finished parsing file /mnt/sframe/docs_prod_02/46\n",
      "PROGRESS: Finished parsing file /mnt/sframe/docs_prod_02/56\n",
      "PROGRESS: Finished parsing file /mnt/sframe/docs_prod_02/45\n",
      "PROGRESS: Read 352108 lines. Lines per second: 3951.01\n",
      "PROGRESS: Finished parsing file /mnt/sframe/docs_prod_02/14\n",
      "PROGRESS: Finished parsing file /mnt/sframe/docs_prod_02/25\n",
      "PROGRESS: Finished parsing file /mnt/sframe/docs_prod_02/19\n",
      "PROGRESS: Read 374630 lines. Lines per second: 3970.25\n",
      "PROGRESS: Finished parsing file /mnt/sframe/docs_prod_02/28\n",
      "PROGRESS: Finished parsing file /mnt/sframe/docs_prod_02/59\n",
      "PROGRESS: Finished parsing file /mnt/sframe/docs_prod_02/55\n",
      "PROGRESS: Finished parsing file /mnt/sframe/docs_prod_02/9\n",
      "PROGRESS: Read 396888 lines. Lines per second: 3982.32\n",
      "PROGRESS: Finished parsing file /mnt/sframe/docs_prod_02/47\n",
      "PROGRESS: Parsing completed. Parsed 403618 lines in 100.889 secs.\n"
     ]
    }
   ],
   "source": [
    "# documents\n",
    "sf = gl.SFrame.read_csv(PATH_TO_JSON, header=False, verbose=False)\n",
    "sf = sf.unpack('X1',column_name_prefix='')\n",
    "sf['id'] = sf['id'].apply(lambda x: str(x.split('_')[0] ))\n",
    "\n",
    "sf2 = gl.SFrame.read_csv(PATH_TO_JSON2, header=False, verbose=False)\n",
    "sf2 = sf2.unpack('X1',column_name_prefix='')\n",
    "sf2['id'] = sf2['id'].apply(lambda x: str(x.split('_')[0] ))"
   ]
  },
  {
   "cell_type": "code",
   "execution_count": 4,
   "metadata": {
    "collapsed": false
   },
   "outputs": [],
   "source": [
    "def transf(x):\n",
    "    return 50.0 * np.log1p(np.log1p(x))\n",
    "\n",
    "sf_cnt = gl.SFrame()\n",
    "sf_cnt['id'] = sf2['id']\n",
    "\n",
    "sf_cnt['a_href'] = sf2['ahref'].apply(lambda x: transf(len(x)))\n",
    "sf_cnt['par'] = sf2['par'].apply(lambda x: transf(len(x)))\n",
    "sf_cnt['title'] = sf2['title'].apply(lambda x: transf(len(x)))\n",
    "\n",
    "sf_cnt['img'] = sf2['img_cnt'].apply(transf)\n",
    "sf_cnt['btn'] = sf2['misc_button'].apply(transf)\n",
    "sf_cnt['input'] = sf2['misc_input'].apply(transf)\n",
    "sf_cnt['li'] = sf2['misc_li'].apply(transf)\n",
    "sf_cnt['link'] = sf2['misc_link'].apply(transf)\n",
    "sf_cnt['meta'] = sf2['misc_meta'].apply(transf)\n",
    "\n",
    "sf_cnt['script_avg'] = sf2['script_avg'].apply(transf)\n",
    "sf_cnt['script_b_avg'] = sf2['script_b_avg'].apply(transf)\n",
    "sf_cnt['script_cnt'] = sf2['script_cnt'].apply(transf)\n",
    "sf_cnt['script_b_cnt'] = sf2['script_b_cnt'].apply(transf)\n",
    "\n",
    "sf_cnt['style_avg'] = sf2['style_avg'].apply(transf)\n",
    "sf_cnt['style_cnt'] = sf2['style_cnt'].apply(transf)"
   ]
  },
  {
   "cell_type": "markdown",
   "metadata": {},
   "source": [
    "### Read train/test labels and merge into documents"
   ]
  },
  {
   "cell_type": "code",
   "execution_count": 6,
   "metadata": {
    "collapsed": false,
    "scrolled": true
   },
   "outputs": [
    {
     "name": "stdout",
     "output_type": "stream",
     "text": [
      "------------------------------------------------------\n",
      "Inferred types from first line of file as \n",
      "column_type_hints=[str,int]\n",
      "If parsing fails due to incorrect types, you can correct\n",
      "the inferred type list above and pass it to read_csv in\n",
      "the column_type_hints argument\n",
      "------------------------------------------------------\n",
      "PROGRESS: Finished parsing file /mnt/data/input/train.csv\n",
      "PROGRESS: Parsing completed. Parsed 337024 lines in 0.117093 secs.\n",
      "------------------------------------------------------\n",
      "Inferred types from first line of file as \n",
      "column_type_hints=[str,int]\n",
      "If parsing fails due to incorrect types, you can correct\n",
      "the inferred type list above and pass it to read_csv in\n",
      "the column_type_hints argument\n",
      "------------------------------------------------------\n",
      "PROGRESS: Finished parsing file /mnt/data/input/sampleSubmission.csv\n",
      "PROGRESS: Parsing completed. Parsed 66772 lines in 0.047664 secs.\n"
     ]
    }
   ],
   "source": [
    "# train/test labels\n",
    "train_labels = gl.SFrame.read_csv(PATH_TO_TRAIN_LABELS, verbose=False)\n",
    "test_labels = gl.SFrame.read_csv(PATH_TO_TEST_LABELS, verbose=False)\n",
    "train_labels['id'] = train_labels['file'].apply(lambda x: str(x.split('_')[0] ))\n",
    "train_labels = train_labels.remove_column('file')\n",
    "test_labels['id'] = test_labels['file'].apply(lambda x: str(x.split('_')[0] ))\n",
    "test_labels = test_labels.remove_column('file')\n",
    "\n",
    "# join\n",
    "train = train_labels.join(sf, on='id', how='left')\n",
    "test = test_labels.join(sf, on='id', how='left')\n",
    "\n",
    "train = train.join(sf_cnt, on='id', how='left')\n",
    "test = test.join(sf_cnt, on='id', how='left')"
   ]
  },
  {
   "cell_type": "code",
   "execution_count": 58,
   "metadata": {
    "collapsed": false,
    "scrolled": true
   },
   "outputs": [],
   "source": [
    "features = ['a_href',\n",
    "            'par',\n",
    "            'title',\n",
    "            'img',\n",
    "            'btn',\n",
    "            'input',\n",
    "            'li',\n",
    "            'link',\n",
    "            'meta',\n",
    "            'script_avg',\n",
    "            'script_b_avg',\n",
    "            'script_cnt',\n",
    "            'script_b_cnt',\n",
    "            'style_avg',\n",
    "            'style_cnt']\n",
    "\n",
    "for f in features:\n",
    "    train_train = train_train.fillna(f, 0.0)     \n",
    "    train_cv = train_cv.fillna(f, 0.0)"
   ]
  },
  {
   "cell_type": "markdown",
   "metadata": {},
   "source": [
    "### Generate BOW"
   ]
  },
  {
   "cell_type": "code",
   "execution_count": 9,
   "metadata": {
    "collapsed": false
   },
   "outputs": [],
   "source": [
    "bow_trn = gl.text_analytics.count_words(train['text'])\n",
    "bow_trn = bow_trn.dict_trim_by_keys(gl.text_analytics.stopwords())\n",
    "\n",
    "bow_tst = gl.text_analytics.count_words(test['text'])\n",
    "bow_tst = bow_tst.dict_trim_by_keys(gl.text_analytics.stopwords())\n",
    "\n",
    "train['bow'] = bow_trn\n",
    "test['bow'] = bow_tst"
   ]
  },
  {
   "cell_type": "markdown",
   "metadata": {},
   "source": [
    "### Generate TF-IDF"
   ]
  },
  {
   "cell_type": "code",
   "execution_count": 10,
   "metadata": {
    "collapsed": false
   },
   "outputs": [],
   "source": [
    "encoder = gl.feature_engineering.create(train, TFIDF('bow', output_column_name='tfidf', min_document_frequency=1e-5))\n",
    "train = encoder.transform(train)\n",
    "test = encoder.transform(test)"
   ]
  },
  {
   "cell_type": "markdown",
   "metadata": {},
   "source": [
    "### Hash TF-IDF"
   ]
  },
  {
   "cell_type": "code",
   "execution_count": 54,
   "metadata": {
    "collapsed": false
   },
   "outputs": [],
   "source": [
    "hash_encoder = gl.feature_engineering.create(train, FeatureHasher(features = ['tfidf'], num_bits=18, \n",
    "                                                                  output_column_name='tfidf_hashed_18'))\n",
    "train['tfidf_hashed_18'] = hash_encoder.transform(train)['tfidf_hashed_18']\n",
    "test['tfidf_hashed_18'] = hash_encoder.transform(test)['tfidf_hashed_18']"
   ]
  },
  {
   "cell_type": "markdown",
   "metadata": {},
   "source": [
    "# Generate Submission Model"
   ]
  },
  {
   "cell_type": "code",
   "execution_count": null,
   "metadata": {
    "collapsed": false
   },
   "outputs": [],
   "source": [
    "model = gl.logistic_classifier.create(train, target='sponsored', \n",
    "                                      features=['tfidf_hashed'],\n",
    "                                      validation_set=None,\n",
    "                                      class_weights='auto',\n",
    "                                      max_iterations=10,\n",
    "                                      l2_penalty=0.00,\n",
    "                                      l1_penalty=0.00)"
   ]
  },
  {
   "cell_type": "code",
   "execution_count": null,
   "metadata": {
    "collapsed": false
   },
   "outputs": [],
   "source": [
    "svm_model = gl.svm_classifier.create(train, target='sponsored', \n",
    "                                      features=['tfidf_hashed'],\n",
    "                                      validation_set=None,                                           \n",
    "                                      class_weights='auto',\n",
    "                                      max_iterations=20)"
   ]
  },
  {
   "cell_type": "markdown",
   "metadata": {},
   "source": [
    "### Output model"
   ]
  },
  {
   "cell_type": "code",
   "execution_count": null,
   "metadata": {
    "collapsed": true
   },
   "outputs": [],
   "source": [
    "ypred = model.predict(test, 'probability')\n",
    "\n",
    "submission = gl.SFrame()\n",
    "submission['file'] = test['id'].apply(lambda x: x + '_raw_html.txt')\n",
    "submission['sponsored'] = ypred \n",
    "submission.save('submission_version_4.csv', format='csv')\n",
    "\n",
    "submission = submission.to_dataframe()\n",
    "submission.to_csv('submission_version_4.csv', index=False, float_format='%1.8f')"
   ]
  },
  {
   "cell_type": "markdown",
   "metadata": {},
   "source": [
    "# Experiment"
   ]
  },
  {
   "cell_type": "markdown",
   "metadata": {},
   "source": [
    "### Split train into *train_train*/*train_cv*"
   ]
  },
  {
   "cell_type": "code",
   "execution_count": 55,
   "metadata": {
    "collapsed": false
   },
   "outputs": [],
   "source": [
    "train_train_18, train_cv_18 = train.random_split(0.80, seed=107)"
   ]
  },
  {
   "cell_type": "code",
   "execution_count": null,
   "metadata": {
    "collapsed": false
   },
   "outputs": [],
   "source": [
    "model = gl.logistic_classifier.create(train_train, target='sponsored', \n",
    "                                      features=features, # + ['tfidf_hashed'],\n",
    "                                      validation_set=train_cv,\n",
    "                                      class_weights='auto',\n",
    "                                      max_iterations=10,\n",
    "                                      feature_rescaling=True,\n",
    "                                      l2_penalty=0.00,\n",
    "                                      l1_penalty=0.00)"
   ]
  },
  {
   "cell_type": "code",
   "execution_count": null,
   "metadata": {
    "collapsed": true
   },
   "outputs": [],
   "source": [
    "results = gl.SFrame()\n",
    "results['id'] = train_cv['id']\n",
    "results['actual'] = train_cv['sponsored']\n",
    "results['predicted'] = model.predict(train_cv)"
   ]
  },
  {
   "cell_type": "code",
   "execution_count": null,
   "metadata": {
    "collapsed": true
   },
   "outputs": [],
   "source": [
    "train_cv.unpack('tfidf')"
   ]
  },
  {
   "cell_type": "code",
   "execution_count": null,
   "metadata": {
    "collapsed": false,
    "scrolled": true
   },
   "outputs": [],
   "source": [
    "FN.shape, FP.shape"
   ]
  },
  {
   "cell_type": "code",
   "execution_count": null,
   "metadata": {
    "collapsed": false
   },
   "outputs": [],
   "source": [
    "FN = results[results['actual'] > results['predicted']]\n",
    "FP = results[results['actual'] < results['predicted']]"
   ]
  },
  {
   "cell_type": "code",
   "execution_count": null,
   "metadata": {
    "collapsed": false
   },
   "outputs": [],
   "source": [
    "FN[720:730]"
   ]
  },
  {
   "cell_type": "code",
   "execution_count": null,
   "metadata": {
    "collapsed": false
   },
   "outputs": [],
   "source": [
    "FP"
   ]
  },
  {
   "cell_type": "code",
   "execution_count": null,
   "metadata": {
    "collapsed": false
   },
   "outputs": [],
   "source": [
    "model.evaluate(train_cv)"
   ]
  },
  {
   "cell_type": "code",
   "execution_count": null,
   "metadata": {
    "collapsed": false,
    "scrolled": true
   },
   "outputs": [],
   "source": [
    "results = model.evaluate(train_cv, metric='roc_curve')\n",
    "a = results['roc_curve']\n",
    "\n",
    "fpr = list(a['fpr'])\n",
    "tpr = list(a['tpr'])\n",
    "fpr[0] = 1.0\n",
    "tpr[0] = 1.0\n",
    "fpr = np.array(fpr)\n",
    "tpr = np.array(tpr)\n",
    "\n",
    "AUC = np.sum((fpr[:-1] - fpr[1:]) * (tpr[:-1] + (tpr[:-1] - tpr[1:])/2))\n",
    "plt.plot(fpr, tpr)\n",
    "print('AUC = %f'%AUC)"
   ]
  },
  {
   "cell_type": "code",
   "execution_count": null,
   "metadata": {
    "collapsed": true
   },
   "outputs": [],
   "source": [
    "train_cv.remove_column('tfidf_hashed17')"
   ]
  },
  {
   "cell_type": "code",
   "execution_count": null,
   "metadata": {
    "collapsed": false
   },
   "outputs": [],
   "source": [
    "svm_model = gl.svm_classifier.create(train_train, target='sponsored', \n",
    "                                      features=features + ['tfidf_hashed'],\n",
    "                                      validation_set=train_cv,                                           \n",
    "                                      class_weights='auto',\n",
    "                                      max_iterations=15)"
   ]
  },
  {
   "cell_type": "code",
   "execution_count": null,
   "metadata": {
    "collapsed": false
   },
   "outputs": [],
   "source": [
    "svm_model"
   ]
  },
  {
   "cell_type": "code",
   "execution_count": null,
   "metadata": {
    "collapsed": false
   },
   "outputs": [],
   "source": [
    "train_cv['margin'] = svm_model.predict(train_cv, output_type='margin')\n",
    "preds = train_cv[['sponsored', 'margin']].sort('margin')\n",
    "train_cv.remove_column('margin')\n",
    "\n",
    "pd_preds = preds.to_dataframe()\n",
    "pd_preds['number'] = 1.0\n",
    "\n",
    "pd_preds_cum = pd_preds.cumsum()\n",
    "\n",
    "total_positives = np.asarray(pd_preds_cum['sponsored'])[-1]\n",
    "total = np.asarray(pd_preds_cum['number'])[-1]\n",
    "total_negatives = total - total_positives\n",
    "\n",
    "pd_preds_cum['FN'] = pd_preds_cum['sponsored']\n",
    "pd_preds_cum['TN'] = pd_preds_cum['number'] - pd_preds_cum['sponsored']\n",
    "\n",
    "pd_preds_cum['TP'] = total_positives - pd_preds_cum['FN']\n",
    "pd_preds_cum['FP'] = total - total_positives - pd_preds_cum['TN']\n",
    "\n",
    "pd_preds_cum['fpr'] = pd_preds_cum['FP'] / (pd_preds_cum['FP'] + pd_preds_cum['TN'])\n",
    "pd_preds_cum['tpr'] = pd_preds_cum['TP'] / (pd_preds_cum['TP'] + pd_preds_cum['FN'])\n",
    "\n"
   ]
  },
  {
   "cell_type": "code",
   "execution_count": null,
   "metadata": {
    "collapsed": false
   },
   "outputs": [],
   "source": [
    "a = pd_preds_cum\n",
    "\n",
    "fpr = list(a['fpr'])\n",
    "tpr = list(a['tpr'])\n",
    "fpr[0] = 1.0\n",
    "tpr[0] = 1.0\n",
    "fpr = np.array(fpr)\n",
    "tpr = np.array(tpr)\n",
    "\n",
    "AUC = np.sum((fpr[:-1] - fpr[1:]) * (tpr[:-1] + (tpr[:-1] - tpr[1:])/2))\n",
    "plt.plot(fpr, tpr)\n",
    "print('AUC = %f'%AUC)"
   ]
  },
  {
   "cell_type": "code",
   "execution_count": null,
   "metadata": {
    "collapsed": true
   },
   "outputs": [],
   "source": [
    "train_cv['margin'] = svm_model.predict(train_cv, output_type='margin')\n",
    "preds = train_cv[['sponsored', 'margin']]\n",
    "preds['margin'].show()"
   ]
  },
  {
   "cell_type": "code",
   "execution_count": null,
   "metadata": {
    "collapsed": false
   },
   "outputs": [],
   "source": [
    "(preds[preds['margin'] < 55]['sponsored']).sum()"
   ]
  },
  {
   "cell_type": "code",
   "execution_count": null,
   "metadata": {
    "collapsed": false
   },
   "outputs": [],
   "source": [
    "ts = np.arange(-22, 50, 0.1)\n",
    "[for t in ts]"
   ]
  },
  {
   "cell_type": "code",
   "execution_count": null,
   "metadata": {
    "collapsed": false
   },
   "outputs": [],
   "source": [
    "svm_model.evaluate(train_cv)"
   ]
  },
  {
   "cell_type": "code",
   "execution_count": null,
   "metadata": {
    "collapsed": false
   },
   "outputs": [],
   "source": [
    "results = svm_model.evaluate(train_cv, metric='roc_curve')\n",
    "a = results['roc_curve']\n",
    "\n",
    "fpr = list(a['fpr'])\n",
    "tpr = list(a['tpr'])\n",
    "fpr[0] = 1.0\n",
    "tpr[0] = 1.0\n",
    "fpr = np.array(fpr)\n",
    "tpr = np.array(tpr)\n",
    "\n",
    "AUC = np.sum((fpr[:-1] - fpr[1:]) * (tpr[:-1] + (tpr[:-1] - tpr[1:])/2))\n",
    "plt.plot(fpr, tpr)\n",
    "print('AUC = %f'%AUC)"
   ]
  },
  {
   "cell_type": "code",
   "execution_count": null,
   "metadata": {
    "collapsed": false
   },
   "outputs": [],
   "source": [
    "results"
   ]
  },
  {
   "cell_type": "markdown",
   "metadata": {},
   "source": [
    "# Save Datasets?"
   ]
  },
  {
   "cell_type": "code",
   "execution_count": null,
   "metadata": {
    "collapsed": true
   },
   "outputs": [],
   "source": [
    "train_train.save('dataset_train_train')\n",
    "train_cv.save('dataset_train_cv')\n",
    "test.save('dataset_test')"
   ]
  },
  {
   "cell_type": "markdown",
   "metadata": {},
   "source": [
    "# Junk"
   ]
  },
  {
   "cell_type": "code",
   "execution_count": null,
   "metadata": {
    "collapsed": true
   },
   "outputs": [],
   "source": [
    "hash_encoder = gl.feature_engineering.create(train_train, FeatureHasher(features = ['tfidf'], num_bits=17, \n",
    "                                                                  output_column_name='tfidf_hashed_17'))\n",
    "train_train['tfidf_hashed_17'] = hash_encoder.transform(train_train)['tfidf_hashed_17']\n",
    "train_cv['tfidf_hashed_17'] = hash_encoder.transform(train_cv)['tfidf_hashed_17']"
   ]
  },
  {
   "cell_type": "code",
   "execution_count": null,
   "metadata": {
    "collapsed": false
   },
   "outputs": [],
   "source": [
    "train_train.head()"
   ]
  },
  {
   "cell_type": "code",
   "execution_count": null,
   "metadata": {
    "collapsed": false
   },
   "outputs": [],
   "source": [
    "model_15 = gl.logistic_classifier.create(train_train, target='sponsored', \n",
    "                                      features=['tfidf_hashed_15'],\n",
    "                                      validation_set=train_cv,\n",
    "                                      class_weights='auto',\n",
    "                                      max_iterations=40,\n",
    "                                      feature_rescaling=True,\n",
    "                                      l2_penalty=0.00,\n",
    "                                      l1_penalty=0.00)"
   ]
  },
  {
   "cell_type": "code",
   "execution_count": null,
   "metadata": {
    "collapsed": false,
    "scrolled": true
   },
   "outputs": [],
   "source": [
    "model_15"
   ]
  },
  {
   "cell_type": "code",
   "execution_count": null,
   "metadata": {
    "collapsed": false
   },
   "outputs": [],
   "source": [
    "model_15.evaluate(train_cv)"
   ]
  },
  {
   "cell_type": "code",
   "execution_count": null,
   "metadata": {
    "collapsed": false
   },
   "outputs": [],
   "source": [
    "results = model_15.evaluate(train_cv, metric='roc_curve')\n",
    "a = results['roc_curve']\n",
    "\n",
    "fpr = list(a['fpr'])\n",
    "tpr = list(a['tpr'])\n",
    "fpr[0] = 1.0\n",
    "tpr[0] = 1.0\n",
    "fpr = np.array(fpr)\n",
    "tpr = np.array(tpr)\n",
    "\n",
    "AUC = np.sum((fpr[:-1] - fpr[1:]) * (tpr[:-1] + (tpr[:-1] - tpr[1:])/2))\n",
    "plt.plot(fpr, tpr)\n",
    "print('AUC = %f'%AUC)"
   ]
  },
  {
   "cell_type": "code",
   "execution_count": null,
   "metadata": {
    "collapsed": false
   },
   "outputs": [],
   "source": [
    "model_16 = gl.logistic_classifier.create(train_train, target='sponsored', \n",
    "                                      features=['tfidf_hashed_16'],\n",
    "                                      validation_set=train_cv,\n",
    "                                      class_weights='auto',\n",
    "                                      max_iterations=20,\n",
    "                                      feature_rescaling=True,\n",
    "                                      l2_penalty=0.00,\n",
    "                                      l1_penalty=0.00)"
   ]
  },
  {
   "cell_type": "code",
   "execution_count": null,
   "metadata": {
    "collapsed": false
   },
   "outputs": [],
   "source": [
    "model_16.evaluate(train_cv)"
   ]
  },
  {
   "cell_type": "code",
   "execution_count": null,
   "metadata": {
    "collapsed": false
   },
   "outputs": [],
   "source": [
    "results = model_16.evaluate(train_cv, metric='roc_curve')\n",
    "a = results['roc_curve']\n",
    "\n",
    "fpr = list(a['fpr'])\n",
    "tpr = list(a['tpr'])\n",
    "fpr[0] = 1.0\n",
    "tpr[0] = 1.0\n",
    "fpr = np.array(fpr)\n",
    "tpr = np.array(tpr)\n",
    "\n",
    "AUC = np.sum((fpr[:-1] - fpr[1:]) * (tpr[:-1] + (tpr[:-1] - tpr[1:])/2))\n",
    "plt.plot(fpr, tpr)\n",
    "print('AUC = %f'%AUC)"
   ]
  },
  {
   "cell_type": "code",
   "execution_count": null,
   "metadata": {
    "collapsed": false
   },
   "outputs": [],
   "source": [
    "model_17 = gl.logistic_classifier.create(train_train, target='sponsored', \n",
    "                                      features=['tfidf_hashed_17'],\n",
    "                                      validation_set=train_cv,\n",
    "                                      class_weights=None, #'auto',\n",
    "                                      max_iterations=8,\n",
    "                                      feature_rescaling=True,\n",
    "                                      l2_penalty=0.00,\n",
    "                                      l1_penalty=0.00)"
   ]
  },
  {
   "cell_type": "code",
   "execution_count": null,
   "metadata": {
    "collapsed": false
   },
   "outputs": [],
   "source": [
    "model_17 = gl.logistic_classifier.create(train_train, target='sponsored', \n",
    "                                      features=['tfidf_hashed_17'],\n",
    "                                      validation_set=train_cv,\n",
    "                                      class_weights=None, #'auto',\n",
    "                                      max_iterations=7,\n",
    "                                      feature_rescaling=True,\n",
    "                                      l2_penalty=0.00,\n",
    "                                      l1_penalty=0.00)"
   ]
  },
  {
   "cell_type": "code",
   "execution_count": null,
   "metadata": {
    "collapsed": false
   },
   "outputs": [],
   "source": [
    "model_17.evaluate(train_cv)"
   ]
  },
  {
   "cell_type": "code",
   "execution_count": null,
   "metadata": {
    "collapsed": false
   },
   "outputs": [],
   "source": [
    "results = model_17.evaluate(train_cv, metric='roc_curve')\n",
    "a = results['roc_curve']\n",
    "\n",
    "fpr = list(a['fpr'])\n",
    "tpr = list(a['tpr'])\n",
    "fpr[0] = 1.0\n",
    "tpr[0] = 1.0\n",
    "fpr = np.array(fpr)\n",
    "tpr = np.array(tpr)\n",
    "\n",
    "AUC = np.sum((fpr[:-1] - fpr[1:]) * (tpr[:-1] + (tpr[:-1] - tpr[1:])/2))\n",
    "plt.plot(fpr, tpr)\n",
    "print('AUC = %f'%AUC)"
   ]
  },
  {
   "cell_type": "code",
   "execution_count": null,
   "metadata": {
    "collapsed": false
   },
   "outputs": [],
   "source": [
    "gl.svm_classifier.create(train_train, target='sponsored', \n",
    "                                      features=['tfidf_hashed_15'],\n",
    "                                      validation_set=train_cv,                                           \n",
    "                                      class_weights='auto',\n",
    "                                      max_iterations=40)"
   ]
  },
  {
   "cell_type": "code",
   "execution_count": null,
   "metadata": {
    "collapsed": false,
    "scrolled": true
   },
   "outputs": [],
   "source": [
    "gl.svm_classifier.create(train_train, target='sponsored', \n",
    "                                      features=['tfidf_hashed_16'],\n",
    "                                      validation_set=train_cv,                                           \n",
    "                                      class_weights='auto',\n",
    "                                      max_iterations=40)"
   ]
  },
  {
   "cell_type": "code",
   "execution_count": null,
   "metadata": {
    "collapsed": false
   },
   "outputs": [],
   "source": [
    "gl.svm_classifier.create(train_train, target='sponsored', \n",
    "                                      features=['tfidf_hashed_17'],\n",
    "                                      validation_set=train_cv,                                           \n",
    "                                      class_weights='auto',\n",
    "                                      max_iterations=40)"
   ]
  },
  {
   "cell_type": "code",
   "execution_count": null,
   "metadata": {
    "collapsed": false
   },
   "outputs": [],
   "source": [
    "train.head()"
   ]
  },
  {
   "cell_type": "code",
   "execution_count": 79,
   "metadata": {
    "collapsed": true
   },
   "outputs": [],
   "source": [
    "#train_train.save('/mnt/sframe/counts_and_tfidf_hashed_18_split_train_train')\n",
    "#train_cv.save('/mnt/sframe/counts_and_tfidf_hashed_18_split_train_cv')\n",
    "#train_train = gl.load_sframe('/mnt/sframe/tfidf_hashed_16_split_train_train')\n",
    "#train_cv = gl.load_sframe('/mnt/sframe/tfidf_hashed_16_split_train_cv')"
   ]
  },
  {
   "cell_type": "code",
   "execution_count": null,
   "metadata": {
    "collapsed": false,
    "scrolled": true
   },
   "outputs": [],
   "source": [
    "train_train.head()"
   ]
  },
  {
   "cell_type": "code",
   "execution_count": null,
   "metadata": {
    "collapsed": true
   },
   "outputs": [],
   "source": [
    "model = gl.classifier.random_forest_classifier.create?"
   ]
  },
  {
   "cell_type": "code",
   "execution_count": 56,
   "metadata": {
    "collapsed": true
   },
   "outputs": [],
   "source": [
    "train_train_16 = train_train\n",
    "train_cv_16 = train_cv\n",
    "train_train = train_train_18\n",
    "train_cv = train_cv_18"
   ]
  },
  {
   "cell_type": "code",
   "execution_count": 77,
   "metadata": {
    "collapsed": false,
    "scrolled": true
   },
   "outputs": [
    {
     "name": "stdout",
     "output_type": "stream",
     "text": [
      "PROGRESS: WARNING: Detected extremely low variance for feature(s) 'tfidf_hashed_18' because all entries are nearly the same.\n",
      "Proceeding with model training using all features. If the model does not provide results of adequate quality, exclude the above mentioned feature(s) from the input dataset.\n",
      "PROGRESS: Random forest classifier:\n",
      "PROGRESS: --------------------------------------------------------\n",
      "PROGRESS: Number of examples          : 269988\n",
      "PROGRESS: Number of classes           : 2\n",
      "PROGRESS: Number of feature columns   : 16\n",
      "PROGRESS: Number of unpacked features : 214795\n",
      "PROGRESS: Starting Boosted Trees\n",
      "PROGRESS: --------------------------------------------------------\n",
      "PROGRESS:   Iter      Accuracy          Elapsed time\n",
      "PROGRESS:         (training) (validation)\n",
      "PROGRESS:      0   9.613e-01   7.572e-01       11.02s\n",
      "PROGRESS:      1   9.636e-01   7.815e-01       19.46s\n",
      "PROGRESS:      2   9.699e-01   7.934e-01       27.34s\n",
      "PROGRESS:      3   9.743e-01   8.017e-01       35.20s\n",
      "PROGRESS:      4   9.769e-01   8.052e-01       43.58s\n",
      "PROGRESS:      5   9.781e-01   8.094e-01       51.41s\n",
      "PROGRESS:      6   9.789e-01   8.084e-01       59.10s\n",
      "PROGRESS:      7   9.799e-01   8.120e-01       67.33s\n",
      "PROGRESS:      8   9.802e-01   8.145e-01       75.22s\n",
      "PROGRESS:      9   9.808e-01   8.165e-01       83.18s\n",
      "PROGRESS:     10   9.810e-01   8.170e-01       91.13s\n",
      "PROGRESS:     11   9.815e-01   8.153e-01       99.05s\n",
      "PROGRESS:     12   9.819e-01   8.159e-01      107.35s\n",
      "PROGRESS:     13   9.822e-01   8.168e-01      116.05s\n",
      "PROGRESS:     14   9.821e-01   8.169e-01      124.26s\n",
      "PROGRESS:     15   9.822e-01   8.174e-01      132.08s\n",
      "PROGRESS:     16   9.825e-01   8.167e-01      139.84s\n",
      "PROGRESS:     17   9.824e-01   8.162e-01      147.62s\n",
      "PROGRESS:     18   9.825e-01   8.171e-01      155.56s\n",
      "PROGRESS:     19   9.825e-01   8.172e-01      163.39s\n",
      "PROGRESS:     20   9.827e-01   8.176e-01      171.72s\n",
      "PROGRESS:     21   9.826e-01   8.181e-01      179.94s\n",
      "PROGRESS:     22   9.826e-01   8.184e-01      188.22s\n",
      "PROGRESS:     23   9.827e-01   8.190e-01      196.19s\n",
      "PROGRESS:     24   9.828e-01   8.185e-01      204.48s\n",
      "PROGRESS:     25   9.826e-01   8.180e-01      212.67s\n",
      "PROGRESS:     26   9.826e-01   8.180e-01      221.38s\n",
      "PROGRESS:     27   9.828e-01   8.185e-01      229.99s\n",
      "PROGRESS:     28   9.827e-01   8.186e-01      238.51s\n",
      "PROGRESS:     29   9.825e-01   8.186e-01      247.09s\n",
      "PROGRESS:     30   9.826e-01   8.192e-01      255.35s\n",
      "PROGRESS:     31   9.825e-01   8.206e-01      263.63s\n",
      "PROGRESS:     32   9.827e-01   8.202e-01      271.69s\n",
      "PROGRESS:     33   9.824e-01   8.211e-01      279.70s\n",
      "PROGRESS:     34   9.826e-01   8.206e-01      288.00s\n",
      "PROGRESS:     35   9.827e-01   8.202e-01      296.15s\n",
      "PROGRESS:     36   9.828e-01   8.209e-01      304.12s\n",
      "PROGRESS:     37   9.829e-01   8.203e-01      312.09s\n",
      "PROGRESS:     38   9.829e-01   8.201e-01      320.01s\n",
      "PROGRESS:     39   9.829e-01   8.195e-01      327.79s\n",
      "PROGRESS:     40   9.830e-01   8.201e-01      335.62s\n",
      "PROGRESS:     41   9.831e-01   8.190e-01      343.92s\n",
      "PROGRESS:     42   9.829e-01   8.196e-01      351.73s\n",
      "PROGRESS:     43   9.829e-01   8.186e-01      359.97s\n",
      "PROGRESS:     44   9.831e-01   8.191e-01      367.86s\n",
      "PROGRESS:     45   9.831e-01   8.196e-01      376.07s\n",
      "PROGRESS:     46   9.830e-01   8.202e-01      383.73s\n",
      "PROGRESS:     47   9.829e-01   8.192e-01      391.87s\n",
      "PROGRESS:     48   9.829e-01   8.189e-01      400.04s\n",
      "PROGRESS:     49   9.830e-01   8.201e-01      408.65s\n",
      "PROGRESS:     50   9.829e-01   8.197e-01      417.35s\n",
      "PROGRESS:     51   9.829e-01   8.197e-01      426.04s\n",
      "PROGRESS:     52   9.829e-01   8.199e-01      434.64s\n",
      "PROGRESS:     53   9.829e-01   8.202e-01      442.82s\n",
      "PROGRESS:     54   9.830e-01   8.203e-01      450.68s\n",
      "PROGRESS:     55   9.830e-01   8.203e-01      458.61s\n",
      "PROGRESS:     56   9.830e-01   8.205e-01      466.98s\n",
      "PROGRESS:     57   9.830e-01   8.205e-01      475.16s\n",
      "PROGRESS:     58   9.831e-01   8.211e-01      483.12s\n",
      "PROGRESS:     59   9.831e-01   8.210e-01      491.20s\n",
      "PROGRESS:     60   9.830e-01   8.209e-01      500.15s\n",
      "PROGRESS:     61   9.831e-01   8.203e-01      508.46s\n",
      "PROGRESS:     62   9.830e-01   8.211e-01      516.85s\n",
      "PROGRESS:     63   9.830e-01   8.211e-01      525.47s\n",
      "PROGRESS:     64   9.830e-01   8.205e-01      533.52s\n",
      "PROGRESS:     65   9.831e-01   8.204e-01      541.72s\n",
      "PROGRESS:     66   9.831e-01   8.205e-01      550.24s\n",
      "PROGRESS:     67   9.832e-01   8.209e-01      558.21s\n",
      "PROGRESS:     68   9.833e-01   8.201e-01      566.24s\n",
      "PROGRESS:     69   9.832e-01   8.200e-01      574.30s\n",
      "PROGRESS:     70   9.832e-01   8.204e-01      582.39s\n",
      "PROGRESS:     71   9.832e-01   8.197e-01      590.64s\n",
      "PROGRESS:     72   9.832e-01   8.199e-01      599.22s\n",
      "PROGRESS:     73   9.832e-01   8.197e-01      607.33s\n",
      "PROGRESS:     74   9.831e-01   8.204e-01      615.70s\n",
      "PROGRESS:     75   9.832e-01   8.201e-01      624.29s\n",
      "PROGRESS:     76   9.831e-01   8.201e-01      632.42s\n",
      "PROGRESS:     77   9.831e-01   8.205e-01      641.11s\n",
      "PROGRESS:     78   9.833e-01   8.209e-01      649.58s\n",
      "PROGRESS:     79   9.833e-01   8.206e-01      657.97s\n",
      "PROGRESS:     80   9.832e-01   8.203e-01      666.09s\n",
      "PROGRESS:     81   9.834e-01   8.207e-01      674.15s\n",
      "PROGRESS:     82   9.832e-01   8.205e-01      682.29s\n",
      "PROGRESS:     83   9.833e-01   8.208e-01      690.33s\n",
      "PROGRESS:     84   9.832e-01   8.211e-01      698.18s\n",
      "PROGRESS:     85   9.834e-01   8.210e-01      706.39s\n",
      "PROGRESS:     86   9.834e-01   8.215e-01      714.39s\n",
      "PROGRESS:     87   9.833e-01   8.212e-01      722.41s\n",
      "PROGRESS:     88   9.834e-01   8.219e-01      730.07s\n",
      "PROGRESS:     89   9.835e-01   8.221e-01      738.69s\n",
      "PROGRESS:     90   9.834e-01   8.219e-01      746.84s\n",
      "PROGRESS:     91   9.835e-01   8.222e-01      755.17s\n",
      "PROGRESS:     92   9.836e-01   8.223e-01      763.13s\n",
      "PROGRESS:     93   9.835e-01   8.222e-01      771.22s\n",
      "PROGRESS:     94   9.835e-01   8.220e-01      779.49s\n",
      "PROGRESS:     95   9.834e-01   8.219e-01      788.06s\n",
      "PROGRESS:     96   9.834e-01   8.221e-01      796.54s\n",
      "PROGRESS:     97   9.835e-01   8.219e-01      804.89s\n",
      "PROGRESS:     98   9.835e-01   8.220e-01      812.94s\n",
      "PROGRESS:     99   9.835e-01   8.218e-01      821.39s\n"
     ]
    }
   ],
   "source": [
    "b"
   ]
  },
  {
   "cell_type": "code",
   "execution_count": 78,
   "metadata": {
    "collapsed": false,
    "scrolled": true
   },
   "outputs": [
    {
     "name": "stdout",
     "output_type": "stream",
     "text": [
      "AUC = 0.944399\n"
     ]
    },
    {
     "data": {
      "image/png": "[encoded data removed]",
      "text/plain": [
       "<matplotlib.figure.Figure at 0x7f5738287910>"
      ]
     },
     "metadata": {},
     "output_type": "display_data"
    }
   ],
   "source": [
    "results = model.evaluate(train_cv, metric='roc_curve')\n",
    "a = results['roc_curve']\n",
    "\n",
    "fpr = list(a['fpr'])\n",
    "tpr = list(a['tpr'])\n",
    "fpr[0] = 1.0\n",
    "tpr[0] = 1.0\n",
    "fpr = np.array(fpr)\n",
    "tpr = np.array(tpr)\n",
    "\n",
    "AUC = np.sum((fpr[:-1] - fpr[1:]) * (tpr[:-1] + (tpr[:-1] - tpr[1:])/2))\n",
    "plt.plot(fpr, tpr)\n",
    "print('AUC = %f'%AUC)"
   ]
  },
  {
   "cell_type": "code",
   "execution_count": null,
   "metadata": {
    "collapsed": false
   },
   "outputs": [],
   "source": [
    "model_boosted = gl.classifier.boosted_trees_classifier.create(train_train, target='sponsored',\n",
    "                                                      features=features + ['tfidf_hashed_18'],\n",
    "                                                      max_depth=6,\n",
    "                                                      step_size=0.3,\n",
    "                                                      max_iterations=10,\n",
    "                                                      column_subsample=0.45,\n",
    "                                                      row_subsample=1.0,\n",
    "                                                      class_weights='auto',\n",
    "                                                      validation_set=train_cv)"
   ]
  },
  {
   "cell_type": "code",
   "execution_count": 80,
   "metadata": {
    "collapsed": false
   },
   "outputs": [
    {
     "data": {
      "text/html": [
       "<div style=\"max-height:1000px;max-width:1500px;overflow:auto;\"><table frame=\"box\" rules=\"cols\">\n",
       "    <tr>\n",
       "        <th style=\"padding-left: 1em; padding-right: 1em; text-align: center\">name</th>\n",
       "        <th style=\"padding-left: 1em; padding-right: 1em; text-align: center\">default_value</th>\n",
       "        <th style=\"padding-left: 1em; padding-right: 1em; text-align: center\">description</th>\n",
       "        <th style=\"padding-left: 1em; padding-right: 1em; text-align: center\">lower_bound</th>\n",
       "        <th style=\"padding-left: 1em; padding-right: 1em; text-align: center\">parameter_type</th>\n",
       "        <th style=\"padding-left: 1em; padding-right: 1em; text-align: center\">upper_bound</th>\n",
       "    </tr>\n",
       "    <tr>\n",
       "        <td style=\"padding-left: 1em; padding-right: 1em; text-align: center; vertical-align: top\">min_loss_reduction</td>\n",
       "        <td style=\"padding-left: 1em; padding-right: 1em; text-align: center; vertical-align: top\">0.0</td>\n",
       "        <td style=\"padding-left: 1em; padding-right: 1em; text-align: center; vertical-align: top\">Minimun loss reduction<br>required for splitting a ...</td>\n",
       "        <td style=\"padding-left: 1em; padding-right: 1em; text-align: center; vertical-align: top\">0</td>\n",
       "        <td style=\"padding-left: 1em; padding-right: 1em; text-align: center; vertical-align: top\">REAL</td>\n",
       "        <td style=\"padding-left: 1em; padding-right: 1em; text-align: center; vertical-align: top\">3.40282346639e+38</td>\n",
       "    </tr>\n",
       "    <tr>\n",
       "        <td style=\"padding-left: 1em; padding-right: 1em; text-align: center; vertical-align: top\">class_weights</td>\n",
       "        <td style=\"padding-left: 1em; padding-right: 1em; text-align: center; vertical-align: top\">None</td>\n",
       "        <td style=\"padding-left: 1em; padding-right: 1em; text-align: center; vertical-align: top\">Weights (during training)<br>assigned to each class. ...</td>\n",
       "        <td style=\"padding-left: 1em; padding-right: 1em; text-align: center; vertical-align: top\">None</td>\n",
       "        <td style=\"padding-left: 1em; padding-right: 1em; text-align: center; vertical-align: top\">DYNAMIC</td>\n",
       "        <td style=\"padding-left: 1em; padding-right: 1em; text-align: center; vertical-align: top\">None</td>\n",
       "    </tr>\n",
       "    <tr>\n",
       "        <td style=\"padding-left: 1em; padding-right: 1em; text-align: center; vertical-align: top\">step_size</td>\n",
       "        <td style=\"padding-left: 1em; padding-right: 1em; text-align: center; vertical-align: top\">0.3</td>\n",
       "        <td style=\"padding-left: 1em; padding-right: 1em; text-align: center; vertical-align: top\">Step_size used for<br>combining the weight of ...</td>\n",
       "        <td style=\"padding-left: 1em; padding-right: 1em; text-align: center; vertical-align: top\">0</td>\n",
       "        <td style=\"padding-left: 1em; padding-right: 1em; text-align: center; vertical-align: top\">REAL</td>\n",
       "        <td style=\"padding-left: 1em; padding-right: 1em; text-align: center; vertical-align: top\">1.0</td>\n",
       "    </tr>\n",
       "    <tr>\n",
       "        <td style=\"padding-left: 1em; padding-right: 1em; text-align: center; vertical-align: top\">min_child_weight</td>\n",
       "        <td style=\"padding-left: 1em; padding-right: 1em; text-align: center; vertical-align: top\">0.1</td>\n",
       "        <td style=\"padding-left: 1em; padding-right: 1em; text-align: center; vertical-align: top\">Minimum weight required<br>on the leave nodes ...</td>\n",
       "        <td style=\"padding-left: 1em; padding-right: 1em; text-align: center; vertical-align: top\">0</td>\n",
       "        <td style=\"padding-left: 1em; padding-right: 1em; text-align: center; vertical-align: top\">REAL</td>\n",
       "        <td style=\"padding-left: 1em; padding-right: 1em; text-align: center; vertical-align: top\">3.40282346639e+38</td>\n",
       "    </tr>\n",
       "    <tr>\n",
       "        <td style=\"padding-left: 1em; padding-right: 1em; text-align: center; vertical-align: top\">column_subsample</td>\n",
       "        <td style=\"padding-left: 1em; padding-right: 1em; text-align: center; vertical-align: top\">1.0</td>\n",
       "        <td style=\"padding-left: 1em; padding-right: 1em; text-align: center; vertical-align: top\">Percentage of the<br>features(columns) sam ...</td>\n",
       "        <td style=\"padding-left: 1em; padding-right: 1em; text-align: center; vertical-align: top\">0</td>\n",
       "        <td style=\"padding-left: 1em; padding-right: 1em; text-align: center; vertical-align: top\">REAL</td>\n",
       "        <td style=\"padding-left: 1em; padding-right: 1em; text-align: center; vertical-align: top\">1.0</td>\n",
       "    </tr>\n",
       "    <tr>\n",
       "        <td style=\"padding-left: 1em; padding-right: 1em; text-align: center; vertical-align: top\">row_subsample</td>\n",
       "        <td style=\"padding-left: 1em; padding-right: 1em; text-align: center; vertical-align: top\">1.0</td>\n",
       "        <td style=\"padding-left: 1em; padding-right: 1em; text-align: center; vertical-align: top\">Percentage of the<br>examples (rows) for ...</td>\n",
       "        <td style=\"padding-left: 1em; padding-right: 1em; text-align: center; vertical-align: top\">0</td>\n",
       "        <td style=\"padding-left: 1em; padding-right: 1em; text-align: center; vertical-align: top\">REAL</td>\n",
       "        <td style=\"padding-left: 1em; padding-right: 1em; text-align: center; vertical-align: top\">1.0</td>\n",
       "    </tr>\n",
       "    <tr>\n",
       "        <td style=\"padding-left: 1em; padding-right: 1em; text-align: center; vertical-align: top\">max_depth</td>\n",
       "        <td style=\"padding-left: 1em; padding-right: 1em; text-align: center; vertical-align: top\">6.0</td>\n",
       "        <td style=\"padding-left: 1em; padding-right: 1em; text-align: center; vertical-align: top\">The maximum depth of<br>individual trees ...</td>\n",
       "        <td style=\"padding-left: 1em; padding-right: 1em; text-align: center; vertical-align: top\">1</td>\n",
       "        <td style=\"padding-left: 1em; padding-right: 1em; text-align: center; vertical-align: top\">INTEGER</td>\n",
       "        <td style=\"padding-left: 1em; padding-right: 1em; text-align: center; vertical-align: top\">2147483647.0</td>\n",
       "    </tr>\n",
       "    <tr>\n",
       "        <td style=\"padding-left: 1em; padding-right: 1em; text-align: center; vertical-align: top\">max_iterations</td>\n",
       "        <td style=\"padding-left: 1em; padding-right: 1em; text-align: center; vertical-align: top\">10.0</td>\n",
       "        <td style=\"padding-left: 1em; padding-right: 1em; text-align: center; vertical-align: top\">Number of iterations,<br>equals to the number of ...</td>\n",
       "        <td style=\"padding-left: 1em; padding-right: 1em; text-align: center; vertical-align: top\">1</td>\n",
       "        <td style=\"padding-left: 1em; padding-right: 1em; text-align: center; vertical-align: top\">INTEGER</td>\n",
       "        <td style=\"padding-left: 1em; padding-right: 1em; text-align: center; vertical-align: top\">2147483647.0</td>\n",
       "    </tr>\n",
       "</table>\n",
       "[8 rows x 6 columns]<br/>\n",
       "</div>"
      ],
      "text/plain": [
       "Columns:\n",
       "\tname\tstr\n",
       "\tdefault_value\tfloat\n",
       "\tdescription\tstr\n",
       "\tlower_bound\tint\n",
       "\tparameter_type\tstr\n",
       "\tupper_bound\tfloat\n",
       "\n",
       "Rows: 8\n",
       "\n",
       "Data:\n",
       "+--------------------+---------------+-------------------------------+-------------+\n",
       "|        name        | default_value |          description          | lower_bound |\n",
       "+--------------------+---------------+-------------------------------+-------------+\n",
       "| min_loss_reduction |      0.0      | Minimun loss reduction req... |      0      |\n",
       "|   class_weights    |      None     | Weights (during training) ... |     None    |\n",
       "|     step_size      |      0.3      | Step_size used for combini... |      0      |\n",
       "|  min_child_weight  |      0.1      | Minimum weight required on... |      0      |\n",
       "|  column_subsample  |      1.0      | Percentage of the features... |      0      |\n",
       "|   row_subsample    |      1.0      | Percentage of the examples... |      0      |\n",
       "|     max_depth      |      6.0      | The maximum depth of indiv... |      1      |\n",
       "|   max_iterations   |      10.0     | Number of iterations, equa... |      1      |\n",
       "+--------------------+---------------+-------------------------------+-------------+\n",
       "+----------------+-------------------+\n",
       "| parameter_type |    upper_bound    |\n",
       "+----------------+-------------------+\n",
       "|      REAL      | 3.40282346639e+38 |\n",
       "|    DYNAMIC     |        None       |\n",
       "|      REAL      |        1.0        |\n",
       "|      REAL      | 3.40282346639e+38 |\n",
       "|      REAL      |        1.0        |\n",
       "|      REAL      |        1.0        |\n",
       "|    INTEGER     |    2147483647.0   |\n",
       "|    INTEGER     |    2147483647.0   |\n",
       "+----------------+-------------------+\n",
       "[8 rows x 6 columns]"
      ]
     },
     "execution_count": 80,
     "metadata": {},
     "output_type": "execute_result"
    }
   ],
   "source": [
    "gl.boosted_trees_classifier.get_default_options()"
   ]
  },
  {
   "cell_type": "code",
   "execution_count": 12,
   "metadata": {
    "collapsed": false
   },
   "outputs": [
    {
     "data": {
      "text/html": [
       "<div style=\"max-height:1000px;max-width:1500px;overflow:auto;\"><table frame=\"box\" rules=\"cols\">\n",
       "    <tr>\n",
       "        <th style=\"padding-left: 1em; padding-right: 1em; text-align: center\">sponsored</th>\n",
       "        <th style=\"padding-left: 1em; padding-right: 1em; text-align: center\">id</th>\n",
       "        <th style=\"padding-left: 1em; padding-right: 1em; text-align: center\">text</th>\n",
       "        <th style=\"padding-left: 1em; padding-right: 1em; text-align: center\">a_href</th>\n",
       "        <th style=\"padding-left: 1em; padding-right: 1em; text-align: center\">par</th>\n",
       "        <th style=\"padding-left: 1em; padding-right: 1em; text-align: center\">title</th>\n",
       "        <th style=\"padding-left: 1em; padding-right: 1em; text-align: center\">img</th>\n",
       "    </tr>\n",
       "    <tr>\n",
       "        <td style=\"padding-left: 1em; padding-right: 1em; text-align: center; vertical-align: top\">0</td>\n",
       "        <td style=\"padding-left: 1em; padding-right: 1em; text-align: center; vertical-align: top\">920982</td>\n",
       "        <td style=\"padding-left: 1em; padding-right: 1em; text-align: center; vertical-align: top\">bill gate world richest<br>most time beaten norweg ...</td>\n",
       "        <td style=\"padding-left: 1em; padding-right: 1em; text-align: center; vertical-align: top\">80.9005654591</td>\n",
       "        <td style=\"padding-left: 1em; padding-right: 1em; text-align: center; vertical-align: top\">59.7352761659</td>\n",
       "        <td style=\"padding-left: 1em; padding-right: 1em; text-align: center; vertical-align: top\">78.5001487104</td>\n",
       "        <td style=\"padding-left: 1em; padding-right: 1em; text-align: center; vertical-align: top\">47.956741946</td>\n",
       "    </tr>\n",
       "    <tr>\n",
       "        <td style=\"padding-left: 1em; padding-right: 1em; text-align: center; vertical-align: top\">0</td>\n",
       "        <td style=\"padding-left: 1em; padding-right: 1em; text-align: center; vertical-align: top\">920988</td>\n",
       "        <td style=\"padding-left: 1em; padding-right: 1em; text-align: center; vertical-align: top\">credit netflix fandom<br>leah tedesco follow ...</td>\n",
       "        <td style=\"padding-left: 1em; padding-right: 1em; text-align: center; vertical-align: top\">91.3477694121</td>\n",
       "        <td style=\"padding-left: 1em; padding-right: 1em; text-align: center; vertical-align: top\">69.8681740587</td>\n",
       "        <td style=\"padding-left: 1em; padding-right: 1em; text-align: center; vertical-align: top\">74.8217008302</td>\n",
       "        <td style=\"padding-left: 1em; padding-right: 1em; text-align: center; vertical-align: top\">64.5862336364</td>\n",
       "    </tr>\n",
       "    <tr>\n",
       "        <td style=\"padding-left: 1em; padding-right: 1em; text-align: center; vertical-align: top\">0</td>\n",
       "        <td style=\"padding-left: 1em; padding-right: 1em; text-align: center; vertical-align: top\">920992</td>\n",
       "        <td style=\"padding-left: 1em; padding-right: 1em; text-align: center; vertical-align: top\"> bimota </td>\n",
       "        <td style=\"padding-left: 1em; padding-right: 1em; text-align: center; vertical-align: top\">0.0</td>\n",
       "        <td style=\"padding-left: 1em; padding-right: 1em; text-align: center; vertical-align: top\">0.0</td>\n",
       "        <td style=\"padding-left: 1em; padding-right: 1em; text-align: center; vertical-align: top\">63.5574924142</td>\n",
       "        <td style=\"padding-left: 1em; padding-right: 1em; text-align: center; vertical-align: top\">0.0</td>\n",
       "    </tr>\n",
       "    <tr>\n",
       "        <td style=\"padding-left: 1em; padding-right: 1em; text-align: center; vertical-align: top\">0</td>\n",
       "        <td style=\"padding-left: 1em; padding-right: 1em; text-align: center; vertical-align: top\">921036</td>\n",
       "        <td style=\"padding-left: 1em; padding-right: 1em; text-align: center; vertical-align: top\">make your reflect your<br>point across with thi ...</td>\n",
       "        <td style=\"padding-left: 1em; padding-right: 1em; text-align: center; vertical-align: top\">93.0436382317</td>\n",
       "        <td style=\"padding-left: 1em; padding-right: 1em; text-align: center; vertical-align: top\">26.329451707</td>\n",
       "        <td style=\"padding-left: 1em; padding-right: 1em; text-align: center; vertical-align: top\">83.4236762641</td>\n",
       "        <td style=\"padding-left: 1em; padding-right: 1em; text-align: center; vertical-align: top\">71.4922773645</td>\n",
       "    </tr>\n",
       "    <tr>\n",
       "        <td style=\"padding-left: 1em; padding-right: 1em; text-align: center; vertical-align: top\">0</td>\n",
       "        <td style=\"padding-left: 1em; padding-right: 1em; text-align: center; vertical-align: top\">921040</td>\n",
       "        <td style=\"padding-left: 1em; padding-right: 1em; text-align: center; vertical-align: top\">play music suppos rememb<br>sometim electron ...</td>\n",
       "        <td style=\"padding-left: 1em; padding-right: 1em; text-align: center; vertical-align: top\">87.1068371903</td>\n",
       "        <td style=\"padding-left: 1em; padding-right: 1em; text-align: center; vertical-align: top\">70.9803420755</td>\n",
       "        <td style=\"padding-left: 1em; padding-right: 1em; text-align: center; vertical-align: top\">82.6201544047</td>\n",
       "        <td style=\"padding-left: 1em; padding-right: 1em; text-align: center; vertical-align: top\">78.5001487104</td>\n",
       "    </tr>\n",
       "    <tr>\n",
       "        <td style=\"padding-left: 1em; padding-right: 1em; text-align: center; vertical-align: top\">0</td>\n",
       "        <td style=\"padding-left: 1em; padding-right: 1em; text-align: center; vertical-align: top\">921050</td>\n",
       "        <td style=\"padding-left: 1em; padding-right: 1em; text-align: center; vertical-align: top\">ecogrid ecorast ecogrid<br>ecorast ecogrid ecorast ...</td>\n",
       "        <td style=\"padding-left: 1em; padding-right: 1em; text-align: center; vertical-align: top\">83.5500516371</td>\n",
       "        <td style=\"padding-left: 1em; padding-right: 1em; text-align: center; vertical-align: top\">67.185172233</td>\n",
       "        <td style=\"padding-left: 1em; padding-right: 1em; text-align: center; vertical-align: top\">83.6744408005</td>\n",
       "        <td style=\"padding-left: 1em; padding-right: 1em; text-align: center; vertical-align: top\">63.5574924142</td>\n",
       "    </tr>\n",
       "    <tr>\n",
       "        <td style=\"padding-left: 1em; padding-right: 1em; text-align: center; vertical-align: top\">0</td>\n",
       "        <td style=\"padding-left: 1em; padding-right: 1em; text-align: center; vertical-align: top\">921108</td>\n",
       "        <td style=\"padding-left: 1em; padding-right: 1em; text-align: center; vertical-align: top\">topic sunday polic charg<br>year jeffrey william  ...</td>\n",
       "        <td style=\"padding-left: 1em; padding-right: 1em; text-align: center; vertical-align: top\">83.0320189667</td>\n",
       "        <td style=\"padding-left: 1em; padding-right: 1em; text-align: center; vertical-align: top\">76.9889728976</td>\n",
       "        <td style=\"padding-left: 1em; padding-right: 1em; text-align: center; vertical-align: top\">82.7598076253</td>\n",
       "        <td style=\"padding-left: 1em; padding-right: 1em; text-align: center; vertical-align: top\">64.5862336364</td>\n",
       "    </tr>\n",
       "    <tr>\n",
       "        <td style=\"padding-left: 1em; padding-right: 1em; text-align: center; vertical-align: top\">1</td>\n",
       "        <td style=\"padding-left: 1em; padding-right: 1em; text-align: center; vertical-align: top\">921123</td>\n",
       "        <td style=\"padding-left: 1em; padding-right: 1em; text-align: center; vertical-align: top\">celebr your passion hobbi<br>with great video more ...</td>\n",
       "        <td style=\"padding-left: 1em; padding-right: 1em; text-align: center; vertical-align: top\">69.2613429966</td>\n",
       "        <td style=\"padding-left: 1em; padding-right: 1em; text-align: center; vertical-align: top\">70.4399908075</td>\n",
       "        <td style=\"padding-left: 1em; padding-right: 1em; text-align: center; vertical-align: top\">81.5685200098</td>\n",
       "        <td style=\"padding-left: 1em; padding-right: 1em; text-align: center; vertical-align: top\">51.33360156</td>\n",
       "    </tr>\n",
       "    <tr>\n",
       "        <td style=\"padding-left: 1em; padding-right: 1em; text-align: center; vertical-align: top\">1</td>\n",
       "        <td style=\"padding-left: 1em; padding-right: 1em; text-align: center; vertical-align: top\">921127</td>\n",
       "        <td style=\"padding-left: 1em; padding-right: 1em; text-align: center; vertical-align: top\"> local queri search<br>languag countri ...</td>\n",
       "        <td style=\"padding-left: 1em; padding-right: 1em; text-align: center; vertical-align: top\">54.0208909136</td>\n",
       "        <td style=\"padding-left: 1em; padding-right: 1em; text-align: center; vertical-align: top\">0.0</td>\n",
       "        <td style=\"padding-left: 1em; padding-right: 1em; text-align: center; vertical-align: top\">78.5001487104</td>\n",
       "        <td style=\"padding-left: 1em; padding-right: 1em; text-align: center; vertical-align: top\">0.0</td>\n",
       "    </tr>\n",
       "    <tr>\n",
       "        <td style=\"padding-left: 1em; padding-right: 1em; text-align: center; vertical-align: top\">0</td>\n",
       "        <td style=\"padding-left: 1em; padding-right: 1em; text-align: center; vertical-align: top\">921130</td>\n",
       "        <td style=\"padding-left: 1em; padding-right: 1em; text-align: center; vertical-align: top\">they necess mother invent<br>what they neglect men ...</td>\n",
       "        <td style=\"padding-left: 1em; padding-right: 1em; text-align: center; vertical-align: top\">92.4373694772</td>\n",
       "        <td style=\"padding-left: 1em; padding-right: 1em; text-align: center; vertical-align: top\">72.8823191511</td>\n",
       "        <td style=\"padding-left: 1em; padding-right: 1em; text-align: center; vertical-align: top\">82.3333585635</td>\n",
       "        <td style=\"padding-left: 1em; padding-right: 1em; text-align: center; vertical-align: top\">76.7097003339</td>\n",
       "    </tr>\n",
       "</table>\n",
       "<table frame=\"box\" rules=\"cols\">\n",
       "    <tr>\n",
       "        <th style=\"padding-left: 1em; padding-right: 1em; text-align: center\">btn</th>\n",
       "        <th style=\"padding-left: 1em; padding-right: 1em; text-align: center\">input</th>\n",
       "        <th style=\"padding-left: 1em; padding-right: 1em; text-align: center\">li</th>\n",
       "        <th style=\"padding-left: 1em; padding-right: 1em; text-align: center\">link</th>\n",
       "        <th style=\"padding-left: 1em; padding-right: 1em; text-align: center\">meta</th>\n",
       "        <th style=\"padding-left: 1em; padding-right: 1em; text-align: center\">script_avg</th>\n",
       "        <th style=\"padding-left: 1em; padding-right: 1em; text-align: center\">script_b_avg</th>\n",
       "    </tr>\n",
       "    <tr>\n",
       "        <td style=\"padding-left: 1em; padding-right: 1em; text-align: center; vertical-align: top\">0.0</td>\n",
       "        <td style=\"padding-left: 1em; padding-right: 1em; text-align: center; vertical-align: top\">47.956741946</td>\n",
       "        <td style=\"padding-left: 1em; padding-right: 1em; text-align: center; vertical-align: top\">74.4649612709</td>\n",
       "        <td style=\"padding-left: 1em; padding-right: 1em; text-align: center; vertical-align: top\">64.5862336364</td>\n",
       "        <td style=\"padding-left: 1em; padding-right: 1em; text-align: center; vertical-align: top\">56.2374131455</td>\n",
       "        <td style=\"padding-left: 1em; padding-right: 1em; text-align: center; vertical-align: top\">92.6900268564</td>\n",
       "        <td style=\"padding-left: 1em; padding-right: 1em; text-align: center; vertical-align: top\">96.2159131773</td>\n",
       "    </tr>\n",
       "    <tr>\n",
       "        <td style=\"padding-left: 1em; padding-right: 1em; text-align: center; vertical-align: top\">0.0</td>\n",
       "        <td style=\"padding-left: 1em; padding-right: 1em; text-align: center; vertical-align: top\">63.5574924142</td>\n",
       "        <td style=\"padding-left: 1em; padding-right: 1em; text-align: center; vertical-align: top\">89.7317651427</td>\n",
       "        <td style=\"padding-left: 1em; padding-right: 1em; text-align: center; vertical-align: top\">61.1578101264</td>\n",
       "        <td style=\"padding-left: 1em; padding-right: 1em; text-align: center; vertical-align: top\">80.3616145576</td>\n",
       "        <td style=\"padding-left: 1em; padding-right: 1em; text-align: center; vertical-align: top\">96.7379992901</td>\n",
       "        <td style=\"padding-left: 1em; padding-right: 1em; text-align: center; vertical-align: top\">98.5115053856</td>\n",
       "    </tr>\n",
       "    <tr>\n",
       "        <td style=\"padding-left: 1em; padding-right: 1em; text-align: center; vertical-align: top\">0.0</td>\n",
       "        <td style=\"padding-left: 1em; padding-right: 1em; text-align: center; vertical-align: top\">0.0</td>\n",
       "        <td style=\"padding-left: 1em; padding-right: 1em; text-align: center; vertical-align: top\">0.0</td>\n",
       "        <td style=\"padding-left: 1em; padding-right: 1em; text-align: center; vertical-align: top\">0.0</td>\n",
       "        <td style=\"padding-left: 1em; padding-right: 1em; text-align: center; vertical-align: top\">47.956741946</td>\n",
       "        <td style=\"padding-left: 1em; padding-right: 1em; text-align: center; vertical-align: top\">130.673349708</td>\n",
       "        <td style=\"padding-left: 1em; padding-right: 1em; text-align: center; vertical-align: top\">130.673349708</td>\n",
       "    </tr>\n",
       "    <tr>\n",
       "        <td style=\"padding-left: 1em; padding-right: 1em; text-align: center; vertical-align: top\">64.5862336364</td>\n",
       "        <td style=\"padding-left: 1em; padding-right: 1em; text-align: center; vertical-align: top\">66.3880714769</td>\n",
       "        <td style=\"padding-left: 1em; padding-right: 1em; text-align: center; vertical-align: top\">84.3821242557</td>\n",
       "        <td style=\"padding-left: 1em; padding-right: 1em; text-align: center; vertical-align: top\">74.4649612709</td>\n",
       "        <td style=\"padding-left: 1em; padding-right: 1em; text-align: center; vertical-align: top\">69.2613429966</td>\n",
       "        <td style=\"padding-left: 1em; padding-right: 1em; text-align: center; vertical-align: top\">121.862228256</td>\n",
       "        <td style=\"padding-left: 1em; padding-right: 1em; text-align: center; vertical-align: top\">122.225261294</td>\n",
       "    </tr>\n",
       "    <tr>\n",
       "        <td style=\"padding-left: 1em; padding-right: 1em; text-align: center; vertical-align: top\">0.0</td>\n",
       "        <td style=\"padding-left: 1em; padding-right: 1em; text-align: center; vertical-align: top\">43.4870843096</td>\n",
       "        <td style=\"padding-left: 1em; padding-right: 1em; text-align: center; vertical-align: top\">82.7598076253</td>\n",
       "        <td style=\"padding-left: 1em; padding-right: 1em; text-align: center; vertical-align: top\">51.33360156</td>\n",
       "        <td style=\"padding-left: 1em; padding-right: 1em; text-align: center; vertical-align: top\">72.8823191511</td>\n",
       "        <td style=\"padding-left: 1em; padding-right: 1em; text-align: center; vertical-align: top\">105.227015257</td>\n",
       "        <td style=\"padding-left: 1em; padding-right: 1em; text-align: center; vertical-align: top\">106.948225288</td>\n",
       "    </tr>\n",
       "    <tr>\n",
       "        <td style=\"padding-left: 1em; padding-right: 1em; text-align: center; vertical-align: top\">0.0</td>\n",
       "        <td style=\"padding-left: 1em; padding-right: 1em; text-align: center; vertical-align: top\">0.0</td>\n",
       "        <td style=\"padding-left: 1em; padding-right: 1em; text-align: center; vertical-align: top\">66.3880714769</td>\n",
       "        <td style=\"padding-left: 1em; padding-right: 1em; text-align: center; vertical-align: top\">58.1141556942</td>\n",
       "        <td style=\"padding-left: 1em; padding-right: 1em; text-align: center; vertical-align: top\">43.4870843096</td>\n",
       "        <td style=\"padding-left: 1em; padding-right: 1em; text-align: center; vertical-align: top\">95.0055477423</td>\n",
       "        <td style=\"padding-left: 1em; padding-right: 1em; text-align: center; vertical-align: top\">100.70349261</td>\n",
       "    </tr>\n",
       "    <tr>\n",
       "        <td style=\"padding-left: 1em; padding-right: 1em; text-align: center; vertical-align: top\">47.956741946</td>\n",
       "        <td style=\"padding-left: 1em; padding-right: 1em; text-align: center; vertical-align: top\">64.5862336364</td>\n",
       "        <td style=\"padding-left: 1em; padding-right: 1em; text-align: center; vertical-align: top\">71.9784350174</td>\n",
       "        <td style=\"padding-left: 1em; padding-right: 1em; text-align: center; vertical-align: top\">62.4220628783</td>\n",
       "        <td style=\"padding-left: 1em; padding-right: 1em; text-align: center; vertical-align: top\">68.615336679</td>\n",
       "        <td style=\"padding-left: 1em; padding-right: 1em; text-align: center; vertical-align: top\">94.5432729473</td>\n",
       "        <td style=\"padding-left: 1em; padding-right: 1em; text-align: center; vertical-align: top\">101.069377553</td>\n",
       "    </tr>\n",
       "    <tr>\n",
       "        <td style=\"padding-left: 1em; padding-right: 1em; text-align: center; vertical-align: top\">0.0</td>\n",
       "        <td style=\"padding-left: 1em; padding-right: 1em; text-align: center; vertical-align: top\">0.0</td>\n",
       "        <td style=\"padding-left: 1em; padding-right: 1em; text-align: center; vertical-align: top\">72.8823191511</td>\n",
       "        <td style=\"padding-left: 1em; padding-right: 1em; text-align: center; vertical-align: top\">71.4922773645</td>\n",
       "        <td style=\"padding-left: 1em; padding-right: 1em; text-align: center; vertical-align: top\">68.615336679</td>\n",
       "        <td style=\"padding-left: 1em; padding-right: 1em; text-align: center; vertical-align: top\">95.7202493333</td>\n",
       "        <td style=\"padding-left: 1em; padding-right: 1em; text-align: center; vertical-align: top\">98.9302365762</td>\n",
       "    </tr>\n",
       "    <tr>\n",
       "        <td style=\"padding-left: 1em; padding-right: 1em; text-align: center; vertical-align: top\">0.0</td>\n",
       "        <td style=\"padding-left: 1em; padding-right: 1em; text-align: center; vertical-align: top\">37.0638155688</td>\n",
       "        <td style=\"padding-left: 1em; padding-right: 1em; text-align: center; vertical-align: top\">0.0</td>\n",
       "        <td style=\"padding-left: 1em; padding-right: 1em; text-align: center; vertical-align: top\">47.956741946</td>\n",
       "        <td style=\"padding-left: 1em; padding-right: 1em; text-align: center; vertical-align: top\">43.4870843096</td>\n",
       "        <td style=\"padding-left: 1em; padding-right: 1em; text-align: center; vertical-align: top\">97.4454491837</td>\n",
       "        <td style=\"padding-left: 1em; padding-right: 1em; text-align: center; vertical-align: top\">97.4454491837</td>\n",
       "    </tr>\n",
       "    <tr>\n",
       "        <td style=\"padding-left: 1em; padding-right: 1em; text-align: center; vertical-align: top\">26.329451707</td>\n",
       "        <td style=\"padding-left: 1em; padding-right: 1em; text-align: center; vertical-align: top\">61.1578101264</td>\n",
       "        <td style=\"padding-left: 1em; padding-right: 1em; text-align: center; vertical-align: top\">90.1589030979</td>\n",
       "        <td style=\"padding-left: 1em; padding-right: 1em; text-align: center; vertical-align: top\">69.2613429966</td>\n",
       "        <td style=\"padding-left: 1em; padding-right: 1em; text-align: center; vertical-align: top\">78.265832753</td>\n",
       "        <td style=\"padding-left: 1em; padding-right: 1em; text-align: center; vertical-align: top\">99.4304331136</td>\n",
       "        <td style=\"padding-left: 1em; padding-right: 1em; text-align: center; vertical-align: top\">102.483058992</td>\n",
       "    </tr>\n",
       "</table>\n",
       "<table frame=\"box\" rules=\"cols\">\n",
       "    <tr>\n",
       "        <th style=\"padding-left: 1em; padding-right: 1em; text-align: center\">script_cnt</th>\n",
       "        <th style=\"padding-left: 1em; padding-right: 1em; text-align: center\">script_b_cnt</th>\n",
       "        <th style=\"padding-left: 1em; padding-right: 1em; text-align: center\">style_avg</th>\n",
       "        <th style=\"padding-left: 1em; padding-right: 1em; text-align: center\">style_cnt</th>\n",
       "        <th style=\"padding-left: 1em; padding-right: 1em; text-align: center\">bow</th>\n",
       "    </tr>\n",
       "    <tr>\n",
       "        <td style=\"padding-left: 1em; padding-right: 1em; text-align: center; vertical-align: top\">58.1141556942</td>\n",
       "        <td style=\"padding-left: 1em; padding-right: 1em; text-align: center; vertical-align: top\">51.33360156</td>\n",
       "        <td style=\"padding-left: 1em; padding-right: 1em; text-align: center; vertical-align: top\">0.0</td>\n",
       "        <td style=\"padding-left: 1em; padding-right: 1em; text-align: center; vertical-align: top\">0.0</td>\n",
       "        <td style=\"padding-left: 1em; padding-right: 1em; text-align: center; vertical-align: top\">{'feed': 3,<br>'digisparksinfotech': 2, ...</td>\n",
       "    </tr>\n",
       "    <tr>\n",
       "        <td style=\"padding-left: 1em; padding-right: 1em; text-align: center; vertical-align: top\">73.3038268603</td>\n",
       "        <td style=\"padding-left: 1em; padding-right: 1em; text-align: center; vertical-align: top\">70.4399908075</td>\n",
       "        <td style=\"padding-left: 1em; padding-right: 1em; text-align: center; vertical-align: top\">104.844724706</td>\n",
       "        <td style=\"padding-left: 1em; padding-right: 1em; text-align: center; vertical-align: top\">47.956741946</td>\n",
       "        <td style=\"padding-left: 1em; padding-right: 1em; text-align: center; vertical-align: top\">{'golf': 2, 'illustr': 1,<br>'opposit': 1, 'tardi' ...</td>\n",
       "    </tr>\n",
       "    <tr>\n",
       "        <td style=\"padding-left: 1em; padding-right: 1em; text-align: center; vertical-align: top\">26.329451707</td>\n",
       "        <td style=\"padding-left: 1em; padding-right: 1em; text-align: center; vertical-align: top\">26.329451707</td>\n",
       "        <td style=\"padding-left: 1em; padding-right: 1em; text-align: center; vertical-align: top\">0.0</td>\n",
       "        <td style=\"padding-left: 1em; padding-right: 1em; text-align: center; vertical-align: top\">0.0</td>\n",
       "        <td style=\"padding-left: 1em; padding-right: 1em; text-align: center; vertical-align: top\">{'bimota': 1}</td>\n",
       "    </tr>\n",
       "    <tr>\n",
       "        <td style=\"padding-left: 1em; padding-right: 1em; text-align: center; vertical-align: top\">72.4411119183</td>\n",
       "        <td style=\"padding-left: 1em; padding-right: 1em; text-align: center; vertical-align: top\">71.4922773645</td>\n",
       "        <td style=\"padding-left: 1em; padding-right: 1em; text-align: center; vertical-align: top\">125.721039105</td>\n",
       "        <td style=\"padding-left: 1em; padding-right: 1em; text-align: center; vertical-align: top\">43.4870843096</td>\n",
       "        <td style=\"padding-left: 1em; padding-right: 1em; text-align: center; vertical-align: top\">{'shop': 5, 'cute': 3,<br>'celebr': 2, 'nonviol': ...</td>\n",
       "    </tr>\n",
       "    <tr>\n",
       "        <td style=\"padding-left: 1em; padding-right: 1em; text-align: center; vertical-align: top\">71.9784350174</td>\n",
       "        <td style=\"padding-left: 1em; padding-right: 1em; text-align: center; vertical-align: top\">68.615336679</td>\n",
       "        <td style=\"padding-left: 1em; padding-right: 1em; text-align: center; vertical-align: top\">97.5652849141</td>\n",
       "        <td style=\"padding-left: 1em; padding-right: 1em; text-align: center; vertical-align: top\">26.329451707</td>\n",
       "        <td style=\"padding-left: 1em; padding-right: 1em; text-align: center; vertical-align: top\">{'toyland': 2, 'chore':<br>1, 'chain': 1, 'show' ...</td>\n",
       "    </tr>\n",
       "    <tr>\n",
       "        <td style=\"padding-left: 1em; padding-right: 1em; text-align: center; vertical-align: top\">59.7352761659</td>\n",
       "        <td style=\"padding-left: 1em; padding-right: 1em; text-align: center; vertical-align: top\">47.956741946</td>\n",
       "        <td style=\"padding-left: 1em; padding-right: 1em; text-align: center; vertical-align: top\">0.0</td>\n",
       "        <td style=\"padding-left: 1em; padding-right: 1em; text-align: center; vertical-align: top\">0.0</td>\n",
       "        <td style=\"padding-left: 1em; padding-right: 1em; text-align: center; vertical-align: top\">{'golf': 2, 'asphalt': 2,<br>'move': 1, 'eros': 2, ...</td>\n",
       "    </tr>\n",
       "    <tr>\n",
       "        <td style=\"padding-left: 1em; padding-right: 1em; text-align: center; vertical-align: top\">78.265832753</td>\n",
       "        <td style=\"padding-left: 1em; padding-right: 1em; text-align: center; vertical-align: top\">67.9252360323</td>\n",
       "        <td style=\"padding-left: 1em; padding-right: 1em; text-align: center; vertical-align: top\">104.278976042</td>\n",
       "        <td style=\"padding-left: 1em; padding-right: 1em; text-align: center; vertical-align: top\">26.329451707</td>\n",
       "        <td style=\"padding-left: 1em; padding-right: 1em; text-align: center; vertical-align: top\">{'fawn': 1, 'counti': 3,<br>'salon': 3, 'code': 1, ...</td>\n",
       "    </tr>\n",
       "    <tr>\n",
       "        <td style=\"padding-left: 1em; padding-right: 1em; text-align: center; vertical-align: top\">62.4220628783</td>\n",
       "        <td style=\"padding-left: 1em; padding-right: 1em; text-align: center; vertical-align: top\">56.2374131455</td>\n",
       "        <td style=\"padding-left: 1em; padding-right: 1em; text-align: center; vertical-align: top\">106.40253823</td>\n",
       "        <td style=\"padding-left: 1em; padding-right: 1em; text-align: center; vertical-align: top\">37.0638155688</td>\n",
       "        <td style=\"padding-left: 1em; padding-right: 1em; text-align: center; vertical-align: top\">{'movi': 4, 'highand': 1,<br>'photo': 1, 'move': 2, ...</td>\n",
       "    </tr>\n",
       "    <tr>\n",
       "        <td style=\"padding-left: 1em; padding-right: 1em; text-align: center; vertical-align: top\">26.329451707</td>\n",
       "        <td style=\"padding-left: 1em; padding-right: 1em; text-align: center; vertical-align: top\">26.329451707</td>\n",
       "        <td style=\"padding-left: 1em; padding-right: 1em; text-align: center; vertical-align: top\">0.0</td>\n",
       "        <td style=\"padding-left: 1em; padding-right: 1em; text-align: center; vertical-align: top\">0.0</td>\n",
       "        <td style=\"padding-left: 1em; padding-right: 1em; text-align: center; vertical-align: top\">{'oper': 1, 'search': 3,<br>'localqueries.com': 2, ...</td>\n",
       "    </tr>\n",
       "    <tr>\n",
       "        <td style=\"padding-left: 1em; padding-right: 1em; text-align: center; vertical-align: top\">78.9504568914</td>\n",
       "        <td style=\"padding-left: 1em; padding-right: 1em; text-align: center; vertical-align: top\">74.0938318049</td>\n",
       "        <td style=\"padding-left: 1em; padding-right: 1em; text-align: center; vertical-align: top\">0.0</td>\n",
       "        <td style=\"padding-left: 1em; padding-right: 1em; text-align: center; vertical-align: top\">0.0</td>\n",
       "        <td style=\"padding-left: 1em; padding-right: 1em; text-align: center; vertical-align: top\">{'concept': 5, 'jason':<br>1, 'rob': 1, 'celebr' ...</td>\n",
       "    </tr>\n",
       "</table>\n",
       "<table frame=\"box\" rules=\"cols\">\n",
       "    <tr>\n",
       "        <th style=\"padding-left: 1em; padding-right: 1em; text-align: center\">tfidf</th>\n",
       "        <th style=\"padding-left: 1em; padding-right: 1em; text-align: center\">tfidf_hashed</th>\n",
       "    </tr>\n",
       "    <tr>\n",
       "        <td style=\"padding-left: 1em; padding-right: 1em; text-align: center; vertical-align: top\">{'feed':<br>4.361208581829187, ...</td>\n",
       "        <td style=\"padding-left: 1em; padding-right: 1em; text-align: center; vertical-align: top\">{64427:<br>-3.1951957391980326, ...</td>\n",
       "    </tr>\n",
       "    <tr>\n",
       "        <td style=\"padding-left: 1em; padding-right: 1em; text-align: center; vertical-align: top\">{'golf':<br>7.683277042687829, ...</td>\n",
       "        <td style=\"padding-left: 1em; padding-right: 1em; text-align: center; vertical-align: top\">{62977:<br>-5.031596228442379, ...</td>\n",
       "    </tr>\n",
       "    <tr>\n",
       "        <td style=\"padding-left: 1em; padding-right: 1em; text-align: center; vertical-align: top\">{'bimota':<br>9.32671204175377} ...</td>\n",
       "        <td style=\"padding-left: 1em; padding-right: 1em; text-align: center; vertical-align: top\">{12734: 9.32671204175377}</td>\n",
       "    </tr>\n",
       "    <tr>\n",
       "        <td style=\"padding-left: 1em; padding-right: 1em; text-align: center; vertical-align: top\">{'shop':<br>8.646160495065093, ...</td>\n",
       "        <td style=\"padding-left: 1em; padding-right: 1em; text-align: center; vertical-align: top\">{1024:<br>3.6511861715193468, ...</td>\n",
       "    </tr>\n",
       "    <tr>\n",
       "        <td style=\"padding-left: 1em; padding-right: 1em; text-align: center; vertical-align: top\">{'toyland':<br>12.129553454850246, ...</td>\n",
       "        <td style=\"padding-left: 1em; padding-right: 1em; text-align: center; vertical-align: top\">{33793:<br>-2.8512279653003056, ...</td>\n",
       "    </tr>\n",
       "    <tr>\n",
       "        <td style=\"padding-left: 1em; padding-right: 1em; text-align: center; vertical-align: top\">{'golf':<br>7.683277042687829, ...</td>\n",
       "        <td style=\"padding-left: 1em; padding-right: 1em; text-align: center; vertical-align: top\">{35328:<br>-39.84680817902172, 5 ...</td>\n",
       "    </tr>\n",
       "    <tr>\n",
       "        <td style=\"padding-left: 1em; padding-right: 1em; text-align: center; vertical-align: top\">{'fawn':<br>6.822547575361356, ...</td>\n",
       "        <td style=\"padding-left: 1em; padding-right: 1em; text-align: center; vertical-align: top\">{3074: 5.998085352926451,<br>3: -5.426087081277995, ...</td>\n",
       "    </tr>\n",
       "    <tr>\n",
       "        <td style=\"padding-left: 1em; padding-right: 1em; text-align: center; vertical-align: top\">{'movi':<br>8.126260444683505, ...</td>\n",
       "        <td style=\"padding-left: 1em; padding-right: 1em; text-align: center; vertical-align: top\">{60931:<br>-4.773186088918019, 6 ...</td>\n",
       "    </tr>\n",
       "    <tr>\n",
       "        <td style=\"padding-left: 1em; padding-right: 1em; text-align: center; vertical-align: top\">{'oper':<br>2.4964499454699722, ...</td>\n",
       "        <td style=\"padding-left: 1em; padding-right: 1em; text-align: center; vertical-align: top\">{16195:<br>-4.677793804436741, ...</td>\n",
       "    </tr>\n",
       "    <tr>\n",
       "        <td style=\"padding-left: 1em; padding-right: 1em; text-align: center; vertical-align: top\">{'concept':<br>14.595311375169597, ...</td>\n",
       "        <td style=\"padding-left: 1em; padding-right: 1em; text-align: center; vertical-align: top\">{57344:<br>-6.243274187780675, ...</td>\n",
       "    </tr>\n",
       "</table>\n",
       "[337024 rows x 21 columns]<br/>Note: Only the head of the SFrame is printed.<br/>You can use print_rows(num_rows=m, num_columns=n) to print more rows and columns.\n",
       "</div>"
      ],
      "text/plain": [
       "Columns:\n",
       "\tsponsored\tint\n",
       "\tid\tstr\n",
       "\ttext\tstr\n",
       "\ta_href\tfloat\n",
       "\tpar\tfloat\n",
       "\ttitle\tfloat\n",
       "\timg\tfloat\n",
       "\tbtn\tfloat\n",
       "\tinput\tfloat\n",
       "\tli\tfloat\n",
       "\tlink\tfloat\n",
       "\tmeta\tfloat\n",
       "\tscript_avg\tfloat\n",
       "\tscript_b_avg\tfloat\n",
       "\tscript_cnt\tfloat\n",
       "\tscript_b_cnt\tfloat\n",
       "\tstyle_avg\tfloat\n",
       "\tstyle_cnt\tfloat\n",
       "\tbow\tdict\n",
       "\ttfidf\tdict\n",
       "\ttfidf_hashed\tdict\n",
       "\n",
       "Rows: 337024\n",
       "\n",
       "Data:\n",
       "+-----------+--------+-------------------------------+---------------+\n",
       "| sponsored |   id   |              text             |     a_href    |\n",
       "+-----------+--------+-------------------------------+---------------+\n",
       "|     0     | 920982 | bill gate world richest mo... | 80.9005654591 |\n",
       "|     0     | 920988 | credit netflix fandom leah... | 91.3477694121 |\n",
       "|     0     | 920992 |             bimota            |      0.0      |\n",
       "|     0     | 921036 | make your reflect your poi... | 93.0436382317 |\n",
       "|     0     | 921040 | play music suppos rememb s... | 87.1068371903 |\n",
       "|     0     | 921050 | ecogrid ecorast ecogrid ec... | 83.5500516371 |\n",
       "|     0     | 921108 | topic sunday polic charg y... | 83.0320189667 |\n",
       "|     1     | 921123 | celebr your passion hobbi ... | 69.2613429966 |\n",
       "|     1     | 921127 |  local queri search langua... | 54.0208909136 |\n",
       "|     0     | 921130 | they necess mother invent ... | 92.4373694772 |\n",
       "+-----------+--------+-------------------------------+---------------+\n",
       "+---------------+---------------+---------------+---------------+---------------+\n",
       "|      par      |     title     |      img      |      btn      |     input     |\n",
       "+---------------+---------------+---------------+---------------+---------------+\n",
       "| 59.7352761659 | 78.5001487104 |  47.956741946 |      0.0      |  47.956741946 |\n",
       "| 69.8681740587 | 74.8217008302 | 64.5862336364 |      0.0      | 63.5574924142 |\n",
       "|      0.0      | 63.5574924142 |      0.0      |      0.0      |      0.0      |\n",
       "|  26.329451707 | 83.4236762641 | 71.4922773645 | 64.5862336364 | 66.3880714769 |\n",
       "| 70.9803420755 | 82.6201544047 | 78.5001487104 |      0.0      | 43.4870843096 |\n",
       "|  67.185172233 | 83.6744408005 | 63.5574924142 |      0.0      |      0.0      |\n",
       "| 76.9889728976 | 82.7598076253 | 64.5862336364 |  47.956741946 | 64.5862336364 |\n",
       "| 70.4399908075 | 81.5685200098 |  51.33360156  |      0.0      |      0.0      |\n",
       "|      0.0      | 78.5001487104 |      0.0      |      0.0      | 37.0638155688 |\n",
       "| 72.8823191511 | 82.3333585635 | 76.7097003339 |  26.329451707 | 61.1578101264 |\n",
       "+---------------+---------------+---------------+---------------+---------------+\n",
       "+---------------+---------------+---------------+---------------+---------------+\n",
       "|       li      |      link     |      meta     |   script_avg  |  script_b_avg |\n",
       "+---------------+---------------+---------------+---------------+---------------+\n",
       "| 74.4649612709 | 64.5862336364 | 56.2374131455 | 92.6900268564 | 96.2159131773 |\n",
       "| 89.7317651427 | 61.1578101264 | 80.3616145576 | 96.7379992901 | 98.5115053856 |\n",
       "|      0.0      |      0.0      |  47.956741946 | 130.673349708 | 130.673349708 |\n",
       "| 84.3821242557 | 74.4649612709 | 69.2613429966 | 121.862228256 | 122.225261294 |\n",
       "| 82.7598076253 |  51.33360156  | 72.8823191511 | 105.227015257 | 106.948225288 |\n",
       "| 66.3880714769 | 58.1141556942 | 43.4870843096 | 95.0055477423 |  100.70349261 |\n",
       "| 71.9784350174 | 62.4220628783 |  68.615336679 | 94.5432729473 | 101.069377553 |\n",
       "| 72.8823191511 | 71.4922773645 |  68.615336679 | 95.7202493333 | 98.9302365762 |\n",
       "|      0.0      |  47.956741946 | 43.4870843096 | 97.4454491837 | 97.4454491837 |\n",
       "| 90.1589030979 | 69.2613429966 |  78.265832753 | 99.4304331136 | 102.483058992 |\n",
       "+---------------+---------------+---------------+---------------+---------------+\n",
       "+---------------+---------------+---------------+---------------+\n",
       "|   script_cnt  |  script_b_cnt |   style_avg   |   style_cnt   |\n",
       "+---------------+---------------+---------------+---------------+\n",
       "| 58.1141556942 |  51.33360156  |      0.0      |      0.0      |\n",
       "| 73.3038268603 | 70.4399908075 | 104.844724706 |  47.956741946 |\n",
       "|  26.329451707 |  26.329451707 |      0.0      |      0.0      |\n",
       "| 72.4411119183 | 71.4922773645 | 125.721039105 | 43.4870843096 |\n",
       "| 71.9784350174 |  68.615336679 | 97.5652849141 |  26.329451707 |\n",
       "| 59.7352761659 |  47.956741946 |      0.0      |      0.0      |\n",
       "|  78.265832753 | 67.9252360323 | 104.278976042 |  26.329451707 |\n",
       "| 62.4220628783 | 56.2374131455 |  106.40253823 | 37.0638155688 |\n",
       "|  26.329451707 |  26.329451707 |      0.0      |      0.0      |\n",
       "| 78.9504568914 | 74.0938318049 |      0.0      |      0.0      |\n",
       "+---------------+---------------+---------------+---------------+\n",
       "+-------------------------------+-------------------------------+-----+\n",
       "|              bow              |             tfidf             | ... |\n",
       "+-------------------------------+-------------------------------+-----+\n",
       "| {'feed': 3, 'digisparksinf... | {'feed': 4.361208581829187... | ... |\n",
       "| {'golf': 2, 'illustr': 1, ... | {'golf': 7.683277042687829... | ... |\n",
       "|         {'bimota': 1}         |  {'bimota': 9.32671204175377} | ... |\n",
       "| {'shop': 5, 'cute': 3, 'ce... | {'shop': 8.646160495065093... | ... |\n",
       "| {'toyland': 2, 'chore': 1,... | {'toyland': 12.12955345485... | ... |\n",
       "| {'golf': 2, 'asphalt': 2, ... | {'golf': 7.683277042687829... | ... |\n",
       "| {'fawn': 1, 'counti': 3, '... | {'fawn': 6.822547575361356... | ... |\n",
       "| {'movi': 4, 'highand': 1, ... | {'movi': 8.126260444683505... | ... |\n",
       "| {'oper': 1, 'search': 3, '... | {'oper': 2.496449945469972... | ... |\n",
       "| {'concept': 5, 'jason': 1,... | {'concept': 14.59531137516... | ... |\n",
       "+-------------------------------+-------------------------------+-----+\n",
       "[337024 rows x 21 columns]\n",
       "Note: Only the head of the SFrame is printed.\n",
       "You can use print_rows(num_rows=m, num_columns=n) to print more rows and columns."
      ]
     },
     "execution_count": 12,
     "metadata": {},
     "output_type": "execute_result"
    }
   ],
   "source": [
    "train"
   ]
  }
 ],
 "metadata": {
  "kernelspec": {
   "display_name": "Python 2",
   "language": "python",
   "name": "python2"
  },
  "language_info": {
   "codemirror_mode": {
    "name": "ipython",
    "version": 2
   },
   "file_extension": ".py",
   "mimetype": "text/x-python",
   "name": "python",
   "nbconvert_exporter": "python",
   "pygments_lexer": "ipython2",
   "version": "2.7.9"
  }
 },
 "nbformat": 4,
 "nbformat_minor": 0
}
