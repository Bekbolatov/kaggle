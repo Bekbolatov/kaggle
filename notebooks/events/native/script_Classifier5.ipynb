{
 "cells": [
  {
   "cell_type": "code",
   "execution_count": 1,
   "metadata": {
    "collapsed": false
   },
   "outputs": [
    {
     "name": "stderr",
     "output_type": "stream",
     "text": [
      "[WARNING] This Python session does not appear to be running in an interactive IPython Notebook. Use of the 'ipynb' target may behave unexpectedly or result in errors.\n"
     ]
    }
   ],
   "source": [
    "%matplotlib inline\n",
    "\n",
    "import matplotlib\n",
    "import numpy as np\n",
    "import matplotlib.pyplot as plt\n",
    "import pandas as pd\n",
    "import re\n",
    "import graphlab as gl\n",
    "from graphlab.toolkits.feature_engineering import TFIDF, FeatureHasher, QuadraticFeatures\n",
    "\n",
    "gl.canvas.set_target('ipynb')\n",
    "\n",
    "PATH_TO_JSON = \"docs_prod_03/\"\n",
    "PATH_TO_TRAIN_LABELS = \"input/train.csv\"\n",
    "PATH_TO_TEST_LABELS = \"input/sampleSubmission.csv\""
   ]
  },
  {
   "cell_type": "markdown",
   "metadata": {},
   "source": [
    "### Read processed documents"
   ]
  },
  {
   "cell_type": "code",
   "execution_count": 2,
   "metadata": {
    "collapsed": false
   },
   "outputs": [
    {
     "name": "stderr",
     "output_type": "stream",
     "text": [
      "[INFO] This trial license of GraphLab Create is assigned to renatbek@gmail.com and will expire on October 08, 2015. Please contact trial@dato.com for licensing options or to request a free non-commercial license for personal or academic use.\n",
      "\n",
      "[INFO] Start server at: ipc:///tmp/graphlab_server-5504 - Server binary: /usr/local/lib/python2.7/site-packages/graphlab/unity_server - Server log: /tmp/graphlab_server_1442639022.log\n",
      "[INFO] GraphLab Server Version: 1.5.2\n"
     ]
    },
    {
     "name": "stdout",
     "output_type": "stream",
     "text": [
      "------------------------------------------------------\n",
      "Inferred types from first line of file as \n",
      "column_type_hints=[dict]\n",
      "If parsing fails due to incorrect types, you can correct\n",
      "the inferred type list above and pass it to read_csv in\n",
      "the column_type_hints argument\n",
      "------------------------------------------------------\n",
      "PROGRESS: Finished parsing file /mnt/data/docs_prod_03/20\n",
      "PROGRESS: Read 5681 lines. Lines per second: 12762.7\n",
      "PROGRESS: Finished parsing file /mnt/data/docs_prod_03/7\n",
      "PROGRESS: Finished parsing file /mnt/data/docs_prod_03/24\n",
      "PROGRESS: Finished parsing file /mnt/data/docs_prod_03/2\n",
      "PROGRESS: Finished parsing file /mnt/data/docs_prod_03/0\n",
      "PROGRESS: Finished parsing file /mnt/data/docs_prod_03/54\n",
      "PROGRESS: Finished parsing file /mnt/data/docs_prod_03/51\n",
      "PROGRESS: Finished parsing file /mnt/data/docs_prod_03/42\n",
      "PROGRESS: Finished parsing file /mnt/data/docs_prod_03/67\n",
      "PROGRESS: Finished parsing file /mnt/data/docs_prod_03/44\n",
      "PROGRESS: Finished parsing file /mnt/data/docs_prod_03/27\n",
      "PROGRESS: Finished parsing file /mnt/data/docs_prod_03/16\n",
      "PROGRESS: Finished parsing file /mnt/data/docs_prod_03/31\n",
      "PROGRESS: Read 73887 lines. Lines per second: 13388.4\n",
      "PROGRESS: Finished parsing file /mnt/data/docs_prod_03/35\n",
      "PROGRESS: Finished parsing file /mnt/data/docs_prod_03/69\n",
      "PROGRESS: Finished parsing file /mnt/data/docs_prod_03/64\n",
      "PROGRESS: Finished parsing file /mnt/data/docs_prod_03/61\n",
      "PROGRESS: Finished parsing file /mnt/data/docs_prod_03/57\n",
      "PROGRESS: Finished parsing file /mnt/data/docs_prod_03/40\n",
      "PROGRESS: Finished parsing file /mnt/data/docs_prod_03/55\n",
      "PROGRESS: Finished parsing file /mnt/data/docs_prod_03/53\n",
      "PROGRESS: Finished parsing file /mnt/data/docs_prod_03/4\n",
      "PROGRESS: Finished parsing file /mnt/data/docs_prod_03/34\n",
      "PROGRESS: Finished parsing file /mnt/data/docs_prod_03/41\n",
      "PROGRESS: Finished parsing file /mnt/data/docs_prod_03/38\n",
      "PROGRESS: Read 142118 lines. Lines per second: 13515.9\n",
      "PROGRESS: Finished parsing file /mnt/data/docs_prod_03/33\n",
      "PROGRESS: Finished parsing file /mnt/data/docs_prod_03/28\n",
      "PROGRESS: Finished parsing file /mnt/data/docs_prod_03/52\n",
      "PROGRESS: Finished parsing file /mnt/data/docs_prod_03/12\n",
      "PROGRESS: Finished parsing file /mnt/data/docs_prod_03/13\n",
      "PROGRESS: Finished parsing file /mnt/data/docs_prod_03/39\n",
      "PROGRESS: Finished parsing file /mnt/data/docs_prod_03/60\n",
      "PROGRESS: Finished parsing file /mnt/data/docs_prod_03/8\n",
      "PROGRESS: Finished parsing file /mnt/data/docs_prod_03/65\n",
      "PROGRESS: Finished parsing file /mnt/data/docs_prod_03/50\n",
      "PROGRESS: Finished parsing file /mnt/data/docs_prod_03/1\n",
      "PROGRESS: Finished parsing file /mnt/data/docs_prod_03/45\n",
      "PROGRESS: Read 210347 lines. Lines per second: 13468.5\n",
      "PROGRESS: Finished parsing file /mnt/data/docs_prod_03/63\n",
      "PROGRESS: Finished parsing file /mnt/data/docs_prod_03/3\n",
      "PROGRESS: Finished parsing file /mnt/data/docs_prod_03/22\n",
      "PROGRESS: Finished parsing file /mnt/data/docs_prod_03/49\n",
      "PROGRESS: Finished parsing file /mnt/data/docs_prod_03/59\n",
      "PROGRESS: Finished parsing file /mnt/data/docs_prod_03/9\n",
      "PROGRESS: Finished parsing file /mnt/data/docs_prod_03/68\n",
      "PROGRESS: Finished parsing file /mnt/data/docs_prod_03/26\n",
      "PROGRESS: Finished parsing file /mnt/data/docs_prod_03/18\n",
      "PROGRESS: Finished parsing file /mnt/data/docs_prod_03/29\n",
      "PROGRESS: Finished parsing file /mnt/data/docs_prod_03/15\n",
      "PROGRESS: Finished parsing file /mnt/data/docs_prod_03/70\n",
      "PROGRESS: Finished parsing file /mnt/data/docs_prod_03/58\n",
      "PROGRESS: Read 284227 lines. Lines per second: 13630.8\n",
      "PROGRESS: Finished parsing file /mnt/data/docs_prod_03/37\n",
      "PROGRESS: Finished parsing file /mnt/data/docs_prod_03/25\n",
      "PROGRESS: Finished parsing file /mnt/data/docs_prod_03/5\n",
      "PROGRESS: Finished parsing file /mnt/data/docs_prod_03/48\n",
      "PROGRESS: Finished parsing file /mnt/data/docs_prod_03/47\n",
      "PROGRESS: Finished parsing file /mnt/data/docs_prod_03/32\n",
      "PROGRESS: Finished parsing file /mnt/data/docs_prod_03/17\n",
      "PROGRESS: Finished parsing file /mnt/data/docs_prod_03/14\n",
      "PROGRESS: Finished parsing file /mnt/data/docs_prod_03/66\n",
      "PROGRESS: Finished parsing file /mnt/data/docs_prod_03/6\n",
      "PROGRESS: Finished parsing file /mnt/data/docs_prod_03/10\n",
      "PROGRESS: Finished parsing file /mnt/data/docs_prod_03/62\n",
      "PROGRESS: Finished parsing file /mnt/data/docs_prod_03/30\n",
      "PROGRESS: Read 358132 lines. Lines per second: 13707.6\n",
      "PROGRESS: Finished parsing file /mnt/data/docs_prod_03/56\n",
      "PROGRESS: Finished parsing file /mnt/data/docs_prod_03/21\n",
      "PROGRESS: Finished parsing file /mnt/data/docs_prod_03/19\n",
      "PROGRESS: Finished parsing file /mnt/data/docs_prod_03/23\n",
      "PROGRESS: Finished parsing file /mnt/data/docs_prod_03/46\n",
      "PROGRESS: Finished parsing file /mnt/data/docs_prod_03/43\n",
      "PROGRESS: Finished parsing file /mnt/data/docs_prod_03/11\n",
      "PROGRESS: Finished parsing file /mnt/data/docs_prod_03/36\n",
      "PROGRESS: Parsing completed. Parsed 403618 lines in 29.7613 secs.\n",
      "PROGRESS: Using default 16 lambda workers.\n",
      "PROGRESS: To maximize the degree of parallelism, add the following code to the beginning of the program:\n",
      "PROGRESS: \"graphlab.set_runtime_config('GRAPHLAB_DEFAULT_NUM_PYLAMBDA_WORKERS', 32)\"\n",
      "PROGRESS: Note that increasing the degree of parallelism also increases the memory footprint.\n"
     ]
    }
   ],
   "source": [
    "# documents\n",
    "sf = gl.SFrame.read_csv(PATH_TO_JSON, header=False, verbose=False)\n",
    "sf = sf.unpack('X1',column_name_prefix='')\n",
    "sf['id'] = sf['id'].apply(lambda x: str(x.split('_')[0] ))"
   ]
  },
  {
   "cell_type": "markdown",
   "metadata": {},
   "source": [
    "### Read train/test labels and merge into documents"
   ]
  },
  {
   "cell_type": "code",
   "execution_count": 3,
   "metadata": {
    "collapsed": false
   },
   "outputs": [
    {
     "name": "stdout",
     "output_type": "stream",
     "text": [
      "------------------------------------------------------\n",
      "Inferred types from first line of file as \n",
      "column_type_hints=[str,int]\n",
      "If parsing fails due to incorrect types, you can correct\n",
      "the inferred type list above and pass it to read_csv in\n",
      "the column_type_hints argument\n",
      "------------------------------------------------------\n",
      "PROGRESS: Finished parsing file /mnt/data/input/train.csv\n",
      "PROGRESS: Parsing completed. Parsed 337024 lines in 0.106357 secs.\n",
      "------------------------------------------------------\n",
      "Inferred types from first line of file as \n",
      "column_type_hints=[str,int]\n",
      "If parsing fails due to incorrect types, you can correct\n",
      "the inferred type list above and pass it to read_csv in\n",
      "the column_type_hints argument\n",
      "------------------------------------------------------\n",
      "PROGRESS: Finished parsing file /mnt/data/input/sampleSubmission.csv\n",
      "PROGRESS: Parsing completed. Parsed 66772 lines in 0.040573 secs.\n"
     ]
    }
   ],
   "source": [
    "# train/test labels\n",
    "train_labels = gl.SFrame.read_csv(PATH_TO_TRAIN_LABELS, verbose=False)\n",
    "test_labels = gl.SFrame.read_csv(PATH_TO_TEST_LABELS, verbose=False)\n",
    "train_labels['id'] = train_labels['file'].apply(lambda x: str(x.split('_')[0] ))\n",
    "train_labels = train_labels.remove_column('file')\n",
    "test_labels['id'] = test_labels['file'].apply(lambda x: str(x.split('_')[0] ))\n",
    "test_labels = test_labels.remove_column('file')\n",
    "\n",
    "# join\n",
    "train = train_labels.join(sf, on='id', how='left')\n",
    "test = test_labels.join(sf, on='id', how='left')"
   ]
  },
  {
   "cell_type": "markdown",
   "metadata": {},
   "source": [
    "### Generate BOW"
   ]
  },
  {
   "cell_type": "code",
   "execution_count": 4,
   "metadata": {
    "collapsed": false
   },
   "outputs": [],
   "source": [
    "bow_trn = gl.text_analytics.count_words(train['text'])\n",
    "bow_trn = bow_trn.dict_trim_by_keys(gl.text_analytics.stopwords())\n",
    "\n",
    "bow_tst = gl.text_analytics.count_words(test['text'])\n",
    "bow_tst = bow_tst.dict_trim_by_keys(gl.text_analytics.stopwords())\n",
    "\n",
    "train['bow'] = bow_trn\n",
    "test['bow'] = bow_tst"
   ]
  },
  {
   "cell_type": "markdown",
   "metadata": {},
   "source": [
    "### Generate TF-IDF"
   ]
  },
  {
   "cell_type": "code",
   "execution_count": 6,
   "metadata": {
    "collapsed": false
   },
   "outputs": [],
   "source": [
    "encoder = gl.feature_engineering.create(train, TFIDF('bow', output_column_name='tfidf', min_document_frequency=1e-5))\n",
    "train = encoder.transform(train)\n",
    "test = encoder.transform(test)"
   ]
  },
  {
   "cell_type": "markdown",
   "metadata": {},
   "source": [
    "### Hash TF-IDF"
   ]
  },
  {
   "cell_type": "code",
   "execution_count": 10,
   "metadata": {
    "collapsed": false
   },
   "outputs": [],
   "source": [
    "hash_encoder = gl.feature_engineering.create(train, FeatureHasher(features = ['tfidf'], num_bits=16, \n",
    "                                                                  output_column_name='tfidf_hashed'))\n",
    "train['tfidf_hashed'] = hash_encoder.transform(train)['tfidf_hashed']\n",
    "test['tfidf_hashed'] = hash_encoder.transform(test)['tfidf_hashed']"
   ]
  },
  {
   "cell_type": "markdown",
   "metadata": {},
   "source": [
    "# Generate Submission Model"
   ]
  },
  {
   "cell_type": "code",
   "execution_count": null,
   "metadata": {
    "collapsed": false
   },
   "outputs": [],
   "source": [
    "model = gl.logistic_classifier.create(train, target='sponsored', \n",
    "                                      features=['tfidf_hashed'],\n",
    "                                      validation_set=None,\n",
    "                                      class_weights='auto',\n",
    "                                      max_iterations=10,\n",
    "                                      l2_penalty=0.00,\n",
    "                                      l1_penalty=0.00)"
   ]
  },
  {
   "cell_type": "code",
   "execution_count": null,
   "metadata": {
    "collapsed": false
   },
   "outputs": [],
   "source": [
    "svm_model = gl.svm_classifier.create(train, target='sponsored', \n",
    "                                      features=['tfidf_hashed'],\n",
    "                                      validation_set=None,                                           \n",
    "                                      class_weights='auto',\n",
    "                                      max_iterations=20)"
   ]
  },
  {
   "cell_type": "markdown",
   "metadata": {},
   "source": [
    "### Output model"
   ]
  },
  {
   "cell_type": "code",
   "execution_count": null,
   "metadata": {
    "collapsed": true
   },
   "outputs": [],
   "source": [
    "ypred = model.predict(test, 'probability')\n",
    "\n",
    "submission = gl.SFrame()\n",
    "submission['file'] = test['id'].apply(lambda x: x + '_raw_html.txt')\n",
    "submission['sponsored'] = ypred \n",
    "submission.save('submission_version_4.csv', format='csv')\n",
    "\n",
    "submission = submission.to_dataframe()\n",
    "submission.to_csv('submission_version_4.csv', index=False, float_format='%1.8f')"
   ]
  },
  {
   "cell_type": "markdown",
   "metadata": {},
   "source": [
    "# Experiment"
   ]
  },
  {
   "cell_type": "markdown",
   "metadata": {},
   "source": [
    "### Split train into *train_train*/*train_cv*"
   ]
  },
  {
   "cell_type": "code",
   "execution_count": 11,
   "metadata": {
    "collapsed": false
   },
   "outputs": [],
   "source": [
    "train_train, train_cv = train.random_split(0.80, seed=107)"
   ]
  },
  {
   "cell_type": "code",
   "execution_count": 15,
   "metadata": {
    "collapsed": true
   },
   "outputs": [
    {
     "name": "stderr",
     "output_type": "stream",
     "text": [
      "[ERROR] Toolkit error: Cancelled by user.\n"
     ]
    },
    {
     "name": "stdout",
     "output_type": "stream",
     "text": [
      "PROGRESS: Logistic regression:\n",
      "PROGRESS: --------------------------------------------------------\n",
      "PROGRESS: Number of examples          : 269988\n",
      "PROGRESS: Number of classes           : 2\n",
      "PROGRESS: Number of feature columns   : 1\n",
      "PROGRESS: Number of unpacked features : 65464\n",
      "PROGRESS: Number of coefficients    : 65465\n",
      "PROGRESS: Starting L-BFGS\n",
      "PROGRESS: --------------------------------------------------------\n",
      "PROGRESS: +-----------+----------+-----------+--------------+-------------------+---------------------+\n",
      "PROGRESS: | Iteration | Passes   | Step size | Elapsed Time | Training-accuracy | Validation-accuracy |\n",
      "PROGRESS: +-----------+----------+-----------+--------------+-------------------+---------------------+\n",
      "PROGRESS: | 1         | 3        | 0.000004  | 2.825236     | 0.635110          | 0.628811            |\n",
      "PROGRESS: | 2         | 5        | 1.000000  | 4.782627     | 0.909074          | 0.897607            |\n",
      "PROGRESS: | 3         | 6        | 1.000000  | 6.240513     | 0.895569          | 0.881989            |\n",
      "PROGRESS: | 4         | 7        | 1.000000  | 7.653236     | 0.904818          | 0.888627            |\n",
      "PROGRESS: | 5         | 8        | 1.000000  | 9.084977     | 0.911911          | 0.888702            |\n",
      "PROGRESS: | 6         | 9        | 1.000000  | 10.433517    | 0.943460          | 0.918074            |\n",
      "PROGRESS: | 7         | 10       | 1.000000  | 11.782650    | 0.942364          | 0.914926            |\n",
      "PROGRESS: | 8         | 11       | 1.000000  | 13.140014    | 0.938364          | 0.908333            |\n",
      "PROGRESS: | 9         | 12       | 1.000000  | 14.515631    | 0.935656          | 0.904902            |\n",
      "PROGRESS: | 10        | 13       | 1.000000  | 15.878998    | 0.935279          | 0.902813            |\n",
      "PROGRESS: | 11        | 14       | 1.000000  | 17.336945    | 0.934856          | 0.898905            |\n",
      "PROGRESS: | 12        | 15       | 1.000000  | 18.707800    | 0.942790          | 0.902978            |\n",
      "PROGRESS: | 13        | 16       | 1.000000  | 20.045844    | 0.949290          | 0.906767            |\n"
     ]
    },
    {
     "ename": "ToolkitError",
     "evalue": "Cancelled by user.",
     "output_type": "error",
     "traceback": [
      "\u001b[1;31m---------------------------------------------------------------------------\u001b[0m",
      "\u001b[1;31mToolkitError\u001b[0m                              Traceback (most recent call last)",
      "\u001b[1;32m<ipython-input-15-13edd458c245>\u001b[0m in \u001b[0;36m<module>\u001b[1;34m()\u001b[0m\n\u001b[0;32m      6\u001b[0m                                       \u001b[0mfeature_rescaling\u001b[0m\u001b[1;33m=\u001b[0m\u001b[0mTrue\u001b[0m\u001b[1;33m,\u001b[0m\u001b[1;33m\u001b[0m\u001b[0m\n\u001b[0;32m      7\u001b[0m                                       \u001b[0ml2_penalty\u001b[0m\u001b[1;33m=\u001b[0m\u001b[1;36m0.00\u001b[0m\u001b[1;33m,\u001b[0m\u001b[1;33m\u001b[0m\u001b[0m\n\u001b[1;32m----> 8\u001b[1;33m                                       l1_penalty=0.00)\n\u001b[0m",
      "\u001b[1;32m/usr/local/lib/python2.7/site-packages/graphlab/toolkits/classifier/logistic_classifier.pyc\u001b[0m in \u001b[0;36mcreate\u001b[1;34m(dataset, target, features, l2_penalty, l1_penalty, solver, feature_rescaling, convergence_threshold, step_size, lbfgs_memory_level, max_iterations, class_weights, validation_set, verbose)\u001b[0m\n\u001b[0;32m    295\u001b[0m                         \u001b[0mlbfgs_memory_level\u001b[0m \u001b[1;33m=\u001b[0m \u001b[0mlbfgs_memory_level\u001b[0m\u001b[1;33m,\u001b[0m\u001b[1;33m\u001b[0m\u001b[0m\n\u001b[0;32m    296\u001b[0m                         \u001b[0mmax_iterations\u001b[0m \u001b[1;33m=\u001b[0m \u001b[0mmax_iterations\u001b[0m\u001b[1;33m,\u001b[0m\u001b[1;33m\u001b[0m\u001b[0m\n\u001b[1;32m--> 297\u001b[1;33m                         class_weights = class_weights)\n\u001b[0m\u001b[0;32m    298\u001b[0m \u001b[1;33m\u001b[0m\u001b[0m\n\u001b[0;32m    299\u001b[0m     \u001b[1;32mreturn\u001b[0m \u001b[0mLogisticClassifier\u001b[0m\u001b[1;33m(\u001b[0m\u001b[0mmodel\u001b[0m\u001b[1;33m.\u001b[0m\u001b[0m__proxy__\u001b[0m\u001b[1;33m)\u001b[0m\u001b[1;33m\u001b[0m\u001b[0m\n",
      "\u001b[1;32m/usr/local/lib/python2.7/site-packages/graphlab/toolkits/_supervised_learning.pyc\u001b[0m in \u001b[0;36mcreate\u001b[1;34m(dataset, target, model_name, features, validation_set, verbose, distributed, **kwargs)\u001b[0m\n\u001b[0;32m    397\u001b[0m     \u001b[1;32mif\u001b[0m \u001b[0mdistributed\u001b[0m \u001b[1;33m==\u001b[0m \u001b[1;34m'auto'\u001b[0m \u001b[1;32mand\u001b[0m \u001b[0mexecution_env\u001b[0m \u001b[1;32mis\u001b[0m \u001b[0mNone\u001b[0m\u001b[1;33m:\u001b[0m\u001b[1;33m\u001b[0m\u001b[0m\n\u001b[0;32m    398\u001b[0m         ret = _graphlab.toolkits._main.run(\"supervised_learning_train\",\n\u001b[1;32m--> 399\u001b[1;33m                                            options, verbose)\n\u001b[0m\u001b[0;32m    400\u001b[0m         \u001b[0mmodel\u001b[0m \u001b[1;33m=\u001b[0m \u001b[0mSupervisedLearningModel\u001b[0m\u001b[1;33m(\u001b[0m\u001b[0mret\u001b[0m\u001b[1;33m[\u001b[0m\u001b[1;34m'model'\u001b[0m\u001b[1;33m]\u001b[0m\u001b[1;33m,\u001b[0m \u001b[0mmodel_name\u001b[0m\u001b[1;33m)\u001b[0m\u001b[1;33m\u001b[0m\u001b[0m\n\u001b[0;32m    401\u001b[0m     \u001b[1;32melse\u001b[0m\u001b[1;33m:\u001b[0m\u001b[1;33m\u001b[0m\u001b[0m\n",
      "\u001b[1;32m/usr/local/lib/python2.7/site-packages/graphlab/toolkits/_main.pyc\u001b[0m in \u001b[0;36mrun\u001b[1;34m(toolkit_name, options, verbose, show_progress)\u001b[0m\n\u001b[0;32m     88\u001b[0m         \u001b[1;32mreturn\u001b[0m \u001b[0mparams\u001b[0m\u001b[1;33m\u001b[0m\u001b[0m\n\u001b[0;32m     89\u001b[0m     \u001b[1;32melse\u001b[0m\u001b[1;33m:\u001b[0m\u001b[1;33m\u001b[0m\u001b[0m\n\u001b[1;32m---> 90\u001b[1;33m         \u001b[1;32mraise\u001b[0m \u001b[0mToolkitError\u001b[0m\u001b[1;33m(\u001b[0m\u001b[0mstr\u001b[0m\u001b[1;33m(\u001b[0m\u001b[0mmessage\u001b[0m\u001b[1;33m)\u001b[0m\u001b[1;33m)\u001b[0m\u001b[1;33m\u001b[0m\u001b[0m\n\u001b[0m",
      "\u001b[1;31mToolkitError\u001b[0m: Cancelled by user."
     ]
    }
   ],
   "source": [
    "model = gl.logistic_classifier.create(train_train, target='sponsored', \n",
    "                                      features=['tfidf_hashed'],\n",
    "                                      validation_set=train_cv,\n",
    "                                      class_weights='auto',\n",
    "                                      max_iterations=20,\n",
    "                                      feature_rescaling=True,\n",
    "                                      l2_penalty=0.00,\n",
    "                                      l1_penalty=0.00)"
   ]
  },
  {
   "cell_type": "code",
   "execution_count": null,
   "metadata": {
    "collapsed": false
   },
   "outputs": [],
   "source": [
    "model.evaluate(train_cv)"
   ]
  },
  {
   "cell_type": "code",
   "execution_count": null,
   "metadata": {
    "collapsed": false,
    "scrolled": true
   },
   "outputs": [],
   "source": [
    "results = model.evaluate(train_cv, metric='roc_curve')\n",
    "a = results['roc_curve']\n",
    "\n",
    "fpr = list(a['fpr'])\n",
    "tpr = list(a['tpr'])\n",
    "fpr[0] = 1.0\n",
    "tpr[0] = 1.0\n",
    "fpr = np.array(fpr)\n",
    "tpr = np.array(tpr)\n",
    "\n",
    "AUC = np.sum((fpr[:-1] - fpr[1:]) * (tpr[:-1] + (tpr[:-1] - tpr[1:])/2))\n",
    "plt.plot(fpr, tpr)\n",
    "print('AUC = %f'%AUC)"
   ]
  },
  {
   "cell_type": "code",
   "execution_count": null,
   "metadata": {
    "collapsed": true
   },
   "outputs": [],
   "source": []
  },
  {
   "cell_type": "code",
   "execution_count": 16,
   "metadata": {
    "collapsed": false
   },
   "outputs": [
    {
     "name": "stdout",
     "output_type": "stream",
     "text": [
      "PROGRESS: SVM:\n",
      "PROGRESS: --------------------------------------------------------\n",
      "PROGRESS: Number of examples          : 269988\n",
      "PROGRESS: Number of classes           : 2\n",
      "PROGRESS: Number of feature columns   : 1\n",
      "PROGRESS: Number of unpacked features : 65464\n",
      "PROGRESS: Number of coefficients    : 65465\n",
      "PROGRESS: Starting L-BFGS\n",
      "PROGRESS: --------------------------------------------------------\n",
      "PROGRESS: +-----------+----------+-----------+--------------+-------------------+---------------------+\n",
      "PROGRESS: | Iteration | Passes   | Step size | Elapsed Time | Training-accuracy | Validation-accuracy |\n",
      "PROGRESS: +-----------+----------+-----------+--------------+-------------------+---------------------+\n",
      "PROGRESS: | 1         | 3        | 0.000004  | 1.984194     | 0.635110          | 0.628811            |\n",
      "PROGRESS: | 2         | 5        | 1.000000  | 3.969712     | 0.912744          | 0.901605            |\n",
      "PROGRESS: | 3         | 6        | 1.000000  | 5.314774     | 0.904199          | 0.890730            |\n",
      "PROGRESS: | 4         | 7        | 1.000000  | 6.612753     | 0.886599          | 0.870681            |\n",
      "PROGRESS: | 5         | 8        | 1.000000  | 7.927291     | 0.908229          | 0.887538            |\n",
      "PROGRESS: | 6         | 9        | 1.000000  | 9.261763     | 0.931545          | 0.906975            |\n",
      "PROGRESS: | 7         | 10       | 1.000000  | 10.568115    | 0.933664          | 0.905797            |\n",
      "PROGRESS: | 8         | 11       | 1.000000  | 11.927265    | 0.937090          | 0.905752            |\n",
      "PROGRESS: | 9         | 12       | 1.000000  | 13.272434    | 0.940546          | 0.907214            |\n",
      "PROGRESS: | 10        | 13       | 1.000000  | 14.660743    | 0.943501          | 0.909153            |\n",
      "PROGRESS: +-----------+----------+-----------+--------------+-------------------+---------------------+\n"
     ]
    }
   ],
   "source": [
    "svm_model = gl.svm_classifier.create(train_train, target='sponsored', \n",
    "                                      features=['tfidf_hashed'],\n",
    "                                      validation_set=train_cv,                                           \n",
    "                                      class_weights='auto',\n",
    "                                      max_iterations=10)"
   ]
  },
  {
   "cell_type": "code",
   "execution_count": 18,
   "metadata": {
    "collapsed": true
   },
   "outputs": [],
   "source": [
    "train_cv['margin'] = svm_model.predict(train_cv, output_type='margin')"
   ]
  },
  {
   "cell_type": "code",
   "execution_count": 24,
   "metadata": {
    "collapsed": false
   },
   "outputs": [],
   "source": [
    "preds = train_cv[['sponsored', 'margin']]"
   ]
  },
  {
   "cell_type": "code",
   "execution_count": 27,
   "metadata": {
    "collapsed": false
   },
   "outputs": [
    {
     "data": {
      "application/javascript": [
       "$(\"head\").append($(\"<link/>\").attr({\n",
       "  rel:  \"stylesheet\",\n",
       "  type: \"text/css\",\n",
       "  href: \"//cdnjs.cloudflare.com/ajax/libs/font-awesome/4.1.0/css/font-awesome.min.css\"\n",
       "}));\n",
       "$(\"head\").append($(\"<link/>\").attr({\n",
       "  rel:  \"stylesheet\",\n",
       "  type: \"text/css\",\n",
       "  href: \"//dato.com/files/canvas/1.5.2/css/canvas.css\"\n",
       "}));\n",
       "\n",
       "            (function(){\n",
       "\n",
       "                var e = null;\n",
       "                if (typeof element == 'undefined') {\n",
       "                    var scripts = document.getElementsByTagName('script');\n",
       "                    var thisScriptTag = scripts[scripts.length-1];\n",
       "                    var parentDiv = thisScriptTag.parentNode;\n",
       "                    e = document.createElement('div');\n",
       "                    parentDiv.appendChild(e);\n",
       "                } else {\n",
       "                    e = element[0];\n",
       "                }\n",
       "\n",
       "                require(['//dato.com/files/canvas/1.5.2/js/ipython_app.js'], function(IPythonApp){\n",
       "                    var app = new IPythonApp();\n",
       "                    app.attachView('sarray','Numeric', {\"ipython\": true, \"sketch\": {\"std\": 6.374162549026618, \"complete\": true, \"min\": -594.7780661958619, \"max\": 261.80799588078713, \"quantile\": [-594.7780661958619, -16.726895239838257, -12.19819691581808, -10.140048484132384, -8.765825631590014, -7.912306164441155, -7.357264370232863, -6.825395242973441, -6.43267571027172, -6.124642201584605, -5.833247880383676, -5.572349714266724, -5.354029144448513, -5.150904859129756, -4.97721151195833, -4.820352193816635, -4.671633638995411, -4.530587169071013, -4.39109254176914, -4.27345216764562, -4.167593448471547, -4.060902818962077, -3.956722295149329, -3.854027692840295, -3.7586241346426155, -3.6746523197893746, -3.588199419332616, -3.5041089809189065, -3.4229594128723866, -3.344172693340787, -3.271010416425261, -3.196763198981672, -3.120112480031353, -3.05057078068067, -2.977528132622238, -2.905180253979851, -2.833893523034398, -2.765713610844391, -2.6986161058574227, -2.624645241268402, -2.5497493398250857, -2.480763804709099, -2.4213702137929163, -2.3528341615300805, -2.2823678941134165, -2.208454578292346, -2.1476970588614805, -2.096072109367152, -2.0317088246208845, -1.9746313913802183, -1.9218308119958711, -1.853241566401049, -1.7748738538349131, -1.6948336017385117, -1.615650212967462, -1.5386849641691733, -1.4655892461011268, -1.3832877835620394, -1.3076894274354165, -1.2299454875549163, -1.1628903665108739, -1.0897302062280139, -1.0208780390302685, -0.9536274825933939, -0.8882822342082861, -0.8176595757181501, -0.7538402451710542, -0.698321197813911, -0.651384539157213, -0.6044409771394859, -0.5645446021252156, -0.5326487151080379, -0.5063635125806902, -0.48627252382505914, -0.4722034593647194, -0.46238590675708824, -0.4551487179707633, -0.4527899000040121, -0.4527899000040121, -0.4527899000040121, -0.44884565453574676, -0.43442110584021043, -0.4074076024852736, -0.36416687122069125, -0.3111907243002958, -0.2217361299619019, -0.10758596514438368, 0.03555002235065019, 0.20095310618966888, 0.44136729268708486, 0.7031705201751135, 1.036524820336075, 1.36357813001539, 1.7406399103379913, 2.1431674629235236, 2.638345629479483, 3.13967130019717, 3.8558815179008565, 4.933658975931513, 7.314383092822106, 261.80799588078713], \"median\": -1.9218308119958711, \"numeric\": true, \"num_unique\": 63174, \"num_undefined\": 0, \"var\": 40.62994820141351, \"progress\": 1.0, \"size\": 67036, \"frequent_items\": {\"-4.15275525687016\": {\"frequency\": 11, \"value\": -4.15275525687016}, \"-0.6593787069093313\": {\"frequency\": 23, \"value\": -0.6593787069093313}, \"-0.5935613485263388\": {\"frequency\": 12, \"value\": -0.5935613485263388}, \"-0.4509409664196629\": {\"frequency\": 47, \"value\": -0.4509409664196629}, \"0.6625578443983144\": {\"frequency\": 11, \"value\": 0.6625578443983144}, \"-2.031378967776898\": {\"frequency\": 31, \"value\": -2.031378967776898}, \"-0.4704081692841051\": {\"frequency\": 10, \"value\": -0.4704081692841051}, \"-2.6986161058574227\": {\"frequency\": 26, \"value\": -2.6986161058574227}, \"-0.4527899000040121\": {\"frequency\": 1878, \"value\": -0.4527899000040121}, \"-0.4874227315359293\": {\"frequency\": 23, \"value\": -0.4874227315359293}, \"-0.45123877804064627\": {\"frequency\": 20, \"value\": -0.45123877804064627}, \"-3.6403381537111086\": {\"frequency\": 17, \"value\": -3.6403381537111086}, \"-1.7745367096421958\": {\"frequency\": 5, \"value\": -1.7745367096421958}, \"-1.203568199685086\": {\"frequency\": 90, \"value\": -1.203568199685086}, \"-5.150904859129756\": {\"frequency\": 10, \"value\": -5.150904859129756}, \"-2.7967171183411654\": {\"frequency\": 7, \"value\": -2.7967171183411654}, \"-0.4581225744974189\": {\"frequency\": 7, \"value\": -0.4581225744974189}, \"-4.31461084794356\": {\"frequency\": 29, \"value\": -4.31461084794356}, \"-1.2463003059342546\": {\"frequency\": 16, \"value\": -1.2463003059342546}, \"-1.6948336017385117\": {\"frequency\": 7, \"value\": -1.6948336017385117}, \"-1.3113588928194218\": {\"frequency\": 6, \"value\": -1.3113588928194218}, \"-0.5464907105259763\": {\"frequency\": 14, \"value\": -0.5464907105259763}, \"-1.5005044559268093\": {\"frequency\": 17, \"value\": -1.5005044559268093}, \"-42.31268606369685\": {\"frequency\": 8, \"value\": -42.31268606369685}, \"-0.6602815764876908\": {\"frequency\": 6, \"value\": -0.6602815764876908}, \"-1.8787344622017927\": {\"frequency\": 14, \"value\": -1.8787344622017927}, \"-1.4893863124450584\": {\"frequency\": 13, \"value\": -1.4893863124450584}, \"-2.108496799828016\": {\"frequency\": 7, \"value\": -2.108496799828016}, \"0.027188419292073718\": {\"frequency\": 6, \"value\": 0.027188419292073718}, \"-1.5006805101545313\": {\"frequency\": 6, \"value\": -1.5006805101545313}, \"-2.039862043945475\": {\"frequency\": 9, \"value\": -2.039862043945475}, \"-0.694410772478568\": {\"frequency\": 53, \"value\": -0.694410772478568}, \"-0.8000768133754271\": {\"frequency\": 5, \"value\": -0.8000768133754271}, \"-0.7124792075143134\": {\"frequency\": 22, \"value\": -0.7124792075143134}, \"-2.802466986863843\": {\"frequency\": 14, \"value\": -2.802466986863843}, \"-1.9305548059026802\": {\"frequency\": 47, \"value\": -1.9305548059026802}, \"-0.4479667088730308\": {\"frequency\": 9, \"value\": -0.4479667088730308}, \"-1.025524200040698\": {\"frequency\": 8, \"value\": -1.025524200040698}, \"-0.473176754948915\": {\"frequency\": 6, \"value\": -0.473176754948915}, \"-1.791495851827572\": {\"frequency\": 11, \"value\": -1.791495851827572}, \"-0.4533518381078561\": {\"frequency\": 22, \"value\": -0.4533518381078561}, \"-1.058064867224921\": {\"frequency\": 7, \"value\": -1.058064867224921}, \"8.59584569279774\": {\"frequency\": 11, \"value\": 8.59584569279774}, \"-0.45377541757497875\": {\"frequency\": 101, \"value\": -0.45377541757497875}, \"-2.5208004451154045\": {\"frequency\": 12, \"value\": -2.5208004451154045}, \"-0.45786101744391455\": {\"frequency\": 14, \"value\": -0.45786101744391455}, \"-0.45483512781332236\": {\"frequency\": 15, \"value\": -0.45483512781332236}, \"-3.2802525403855514\": {\"frequency\": 7, \"value\": -3.2802525403855514}, \"-1.9240298670543805\": {\"frequency\": 21, \"value\": -1.9240298670543805}, \"-0.46501518964685895\": {\"frequency\": 9, \"value\": -0.46501518964685895}, \"3.9679917645046787\": {\"frequency\": 11, \"value\": 3.9679917645046787}, \"0.5118198249638458\": {\"frequency\": 33, \"value\": 0.5118198249638458}, \"-0.46200004957916996\": {\"frequency\": 16, \"value\": -0.46200004957916996}, \"-0.5341899620489597\": {\"frequency\": 24, \"value\": -0.5341899620489597}, \"-0.45503411297410296\": {\"frequency\": 7, \"value\": -0.45503411297410296}, \"0.08269886557758299\": {\"frequency\": 8, \"value\": 0.08269886557758299}, \"-1.9917864975097708\": {\"frequency\": 45, \"value\": -1.9917864975097708}, \"13.724748120012759\": {\"frequency\": 6, \"value\": 13.724748120012759}, \"-0.46830870773764743\": {\"frequency\": 7, \"value\": -0.46830870773764743}, \"-0.808947032071997\": {\"frequency\": 7, \"value\": -0.808947032071997}, \"-0.4542334695118084\": {\"frequency\": 11, \"value\": -0.4542334695118084}, \"-0.4015324237050826\": {\"frequency\": 11, \"value\": -0.4015324237050826}, \"-1.1481095566656072\": {\"frequency\": 7, \"value\": -1.1481095566656072}}, \"mean\": -2.379569805156266}, \"selected_variable\": {\"name\": [\"<temporary SArray>\"], \"dtype\": \"float\", \"view_component\": \"Numeric\", \"view_file\": \"sarray\", \"descriptives\": {\"rows\": 67036}, \"type\": \"SArray\", \"view_components\": [\"Numeric\", \"Categorical\"]}, \"histogram\": {\"progress\": 1.0, \"histogram\": {\"max\": 265.3675812729473, \"bins\": [1, 0, 0, 2, 1, 2, 22, 390, 66598, 15, 3, 2], \"min\": -596.067890090218}, \"min\": -594.7780661958619, \"complete\": 1, \"max\": 261.80799588078713}}, e);\n",
       "                });\n",
       "            })();\n",
       "        "
      ]
     },
     "metadata": {},
     "output_type": "display_data"
    }
   ],
   "source": [
    "preds['margin'].show()"
   ]
  },
  {
   "cell_type": "code",
   "execution_count": 43,
   "metadata": {
    "collapsed": true
   },
   "outputs": [],
   "source": [
    "preds = preds.sort('margin')"
   ]
  },
  {
   "cell_type": "code",
   "execution_count": 53,
   "metadata": {
    "collapsed": false
   },
   "outputs": [],
   "source": [
    "pd_preds_cum = pd_preds.cumsum()"
   ]
  },
  {
   "cell_type": "code",
   "execution_count": 77,
   "metadata": {
    "collapsed": false
   },
   "outputs": [
    {
     "data": {
      "text/plain": [
       "67036.0"
      ]
     },
     "execution_count": 77,
     "metadata": {},
     "output_type": "execute_result"
    }
   ],
   "source": [
    "np.asarray(pd_preds_cum['number'])[-1]"
   ]
  },
  {
   "cell_type": "code",
   "execution_count": 80,
   "metadata": {
    "collapsed": false
   },
   "outputs": [
    {
     "name": "stdout",
     "output_type": "stream",
     "text": [
      "hello\n"
     ]
    },
    {
     "data": {
      "image/png": "[encoded data removed]",
      "text/plain": [
       "<matplotlib.figure.Figure at 0x7f1f4c638150>"
      ]
     },
     "metadata": {},
     "output_type": "display_data"
    }
   ],
   "source": [
    "preds = preds.sort('margin')\n",
    "\n",
    "pd_preds = preds.to_dataframe()\n",
    "pd_preds['number'] = 1.0\n",
    "\n",
    "pd_preds_cum = pd_preds.cumsum()\n",
    "\n",
    "total_positives = np.asarray(pd_preds_cum['sponsored'])[-1]\n",
    "total = np.asarray(pd_preds_cum['number'])[-1]\n",
    "total_negatives = total - total_positives\n",
    "\n",
    "pd_preds_cum['FN'] = pd_preds_cum['sponsored']\n",
    "pd_preds_cum['TN'] = pd_preds_cum['number'] - pd_preds_cum['sponsored']\n",
    "\n",
    "pd_preds_cum['TP'] = total_positives - pd_preds_cum['FN']\n",
    "pd_preds_cum['FP'] = total - total_positives - pd_preds_cum['TN']\n",
    "#pd_preds_cum['FP'] = 67036 - 6630 - pd_preds_cum['TN']\n",
    "\n",
    "pd_preds_cum['fpr'] = pd_preds_cum['FP'] / (pd_preds_cum['FP'] + pd_preds_cum['TN'])\n",
    "pd_preds_cum['tpr'] = pd_preds_cum['TP'] / (pd_preds_cum['TP'] + pd_preds_cum['FN'])\n",
    "\n",
    "plt.plot(pd_preds_cum['fpr'], pd_preds_cum['tpr'])\n"
   ]
  },
  {
   "cell_type": "code",
   "execution_count": 55,
   "metadata": {
    "collapsed": false
   },
   "outputs": [
    {
     "data": {
      "text/html": [
       "<div>\n",
       "<table border=\"1\" class=\"dataframe\">\n",
       "  <thead>\n",
       "    <tr style=\"text-align: right;\">\n",
       "      <th></th>\n",
       "      <th>sponsored</th>\n",
       "      <th>margin</th>\n",
       "      <th>number</th>\n",
       "    </tr>\n",
       "  </thead>\n",
       "  <tbody>\n",
       "    <tr>\n",
       "      <th>0</th>\n",
       "      <td>0</td>\n",
       "      <td>-594.778066</td>\n",
       "      <td>1</td>\n",
       "    </tr>\n",
       "    <tr>\n",
       "      <th>1</th>\n",
       "      <td>0</td>\n",
       "      <td>-945.768237</td>\n",
       "      <td>2</td>\n",
       "    </tr>\n",
       "    <tr>\n",
       "      <th>2</th>\n",
       "      <td>0</td>\n",
       "      <td>-1279.156755</td>\n",
       "      <td>3</td>\n",
       "    </tr>\n",
       "    <tr>\n",
       "      <th>3</th>\n",
       "      <td>0</td>\n",
       "      <td>-1522.029844</td>\n",
       "      <td>4</td>\n",
       "    </tr>\n",
       "    <tr>\n",
       "      <th>4</th>\n",
       "      <td>0</td>\n",
       "      <td>-1702.560645</td>\n",
       "      <td>5</td>\n",
       "    </tr>\n",
       "  </tbody>\n",
       "</table>\n",
       "</div>"
      ],
      "text/plain": [
       "   sponsored       margin  number\n",
       "0          0  -594.778066       1\n",
       "1          0  -945.768237       2\n",
       "2          0 -1279.156755       3\n",
       "3          0 -1522.029844       4\n",
       "4          0 -1702.560645       5"
      ]
     },
     "execution_count": 55,
     "metadata": {},
     "output_type": "execute_result"
    }
   ],
   "source": [
    "pd_preds_cum.head()"
   ]
  },
  {
   "cell_type": "code",
   "execution_count": 69,
   "metadata": {
    "collapsed": false
   },
   "outputs": [
    {
     "data": {
      "text/plain": [
       "[<matplotlib.lines.Line2D at 0x7f1f4c6da7d0>]"
      ]
     },
     "execution_count": 69,
     "metadata": {},
     "output_type": "execute_result"
    },
    {
     "data": {
      "image/png": "[encoded data removed]",
      "text/plain": [
       "<matplotlib.figure.Figure at 0x7f1f4c86ead0>"
      ]
     },
     "metadata": {},
     "output_type": "display_data"
    }
   ],
   "source": [
    "plt.plot(pd_preds_cum['fpr'], pd_preds_cum['tpr'])"
   ]
  },
  {
   "cell_type": "code",
   "execution_count": 46,
   "metadata": {
    "collapsed": false
   },
   "outputs": [
    {
     "data": {
      "text/html": [
       "<div style=\"max-height:1000px;max-width:1500px;overflow:auto;\"><table frame=\"box\" rules=\"cols\">\n",
       "    <tr>\n",
       "        <th style=\"padding-left: 1em; padding-right: 1em; text-align: center\">sponsored</th>\n",
       "        <th style=\"padding-left: 1em; padding-right: 1em; text-align: center\">margin</th>\n",
       "        <th style=\"padding-left: 1em; padding-right: 1em; text-align: center\">number</th>\n",
       "    </tr>\n",
       "    <tr>\n",
       "        <td style=\"padding-left: 1em; padding-right: 1em; text-align: center; vertical-align: top\">0</td>\n",
       "        <td style=\"padding-left: 1em; padding-right: 1em; text-align: center; vertical-align: top\">-594.778066196</td>\n",
       "        <td style=\"padding-left: 1em; padding-right: 1em; text-align: center; vertical-align: top\">1.0</td>\n",
       "    </tr>\n",
       "    <tr>\n",
       "        <td style=\"padding-left: 1em; padding-right: 1em; text-align: center; vertical-align: top\">0</td>\n",
       "        <td style=\"padding-left: 1em; padding-right: 1em; text-align: center; vertical-align: top\">-350.990171129</td>\n",
       "        <td style=\"padding-left: 1em; padding-right: 1em; text-align: center; vertical-align: top\">1.0</td>\n",
       "    </tr>\n",
       "    <tr>\n",
       "        <td style=\"padding-left: 1em; padding-right: 1em; text-align: center; vertical-align: top\">0</td>\n",
       "        <td style=\"padding-left: 1em; padding-right: 1em; text-align: center; vertical-align: top\">-333.388517796</td>\n",
       "        <td style=\"padding-left: 1em; padding-right: 1em; text-align: center; vertical-align: top\">1.0</td>\n",
       "    </tr>\n",
       "    <tr>\n",
       "        <td style=\"padding-left: 1em; padding-right: 1em; text-align: center; vertical-align: top\">0</td>\n",
       "        <td style=\"padding-left: 1em; padding-right: 1em; text-align: center; vertical-align: top\">-242.873088385</td>\n",
       "        <td style=\"padding-left: 1em; padding-right: 1em; text-align: center; vertical-align: top\">1.0</td>\n",
       "    </tr>\n",
       "    <tr>\n",
       "        <td style=\"padding-left: 1em; padding-right: 1em; text-align: center; vertical-align: top\">0</td>\n",
       "        <td style=\"padding-left: 1em; padding-right: 1em; text-align: center; vertical-align: top\">-180.530801115</td>\n",
       "        <td style=\"padding-left: 1em; padding-right: 1em; text-align: center; vertical-align: top\">1.0</td>\n",
       "    </tr>\n",
       "    <tr>\n",
       "        <td style=\"padding-left: 1em; padding-right: 1em; text-align: center; vertical-align: top\">0</td>\n",
       "        <td style=\"padding-left: 1em; padding-right: 1em; text-align: center; vertical-align: top\">-171.040876568</td>\n",
       "        <td style=\"padding-left: 1em; padding-right: 1em; text-align: center; vertical-align: top\">1.0</td>\n",
       "    </tr>\n",
       "    <tr>\n",
       "        <td style=\"padding-left: 1em; padding-right: 1em; text-align: center; vertical-align: top\">0</td>\n",
       "        <td style=\"padding-left: 1em; padding-right: 1em; text-align: center; vertical-align: top\">-156.054032664</td>\n",
       "        <td style=\"padding-left: 1em; padding-right: 1em; text-align: center; vertical-align: top\">1.0</td>\n",
       "    </tr>\n",
       "    <tr>\n",
       "        <td style=\"padding-left: 1em; padding-right: 1em; text-align: center; vertical-align: top\">0</td>\n",
       "        <td style=\"padding-left: 1em; padding-right: 1em; text-align: center; vertical-align: top\">-151.616596792</td>\n",
       "        <td style=\"padding-left: 1em; padding-right: 1em; text-align: center; vertical-align: top\">1.0</td>\n",
       "    </tr>\n",
       "    <tr>\n",
       "        <td style=\"padding-left: 1em; padding-right: 1em; text-align: center; vertical-align: top\">0</td>\n",
       "        <td style=\"padding-left: 1em; padding-right: 1em; text-align: center; vertical-align: top\">-141.75301252</td>\n",
       "        <td style=\"padding-left: 1em; padding-right: 1em; text-align: center; vertical-align: top\">1.0</td>\n",
       "    </tr>\n",
       "    <tr>\n",
       "        <td style=\"padding-left: 1em; padding-right: 1em; text-align: center; vertical-align: top\">0</td>\n",
       "        <td style=\"padding-left: 1em; padding-right: 1em; text-align: center; vertical-align: top\">-128.849399732</td>\n",
       "        <td style=\"padding-left: 1em; padding-right: 1em; text-align: center; vertical-align: top\">1.0</td>\n",
       "    </tr>\n",
       "</table>\n",
       "[10 rows x 3 columns]<br/>\n",
       "</div>"
      ],
      "text/plain": [
       "Columns:\n",
       "\tsponsored\tint\n",
       "\tmargin\tfloat\n",
       "\tnumber\tfloat\n",
       "\n",
       "Rows: 10\n",
       "\n",
       "Data:\n",
       "+-----------+----------------+--------+\n",
       "| sponsored |     margin     | number |\n",
       "+-----------+----------------+--------+\n",
       "|     0     | -594.778066196 |  1.0   |\n",
       "|     0     | -350.990171129 |  1.0   |\n",
       "|     0     | -333.388517796 |  1.0   |\n",
       "|     0     | -242.873088385 |  1.0   |\n",
       "|     0     | -180.530801115 |  1.0   |\n",
       "|     0     | -171.040876568 |  1.0   |\n",
       "|     0     | -156.054032664 |  1.0   |\n",
       "|     0     | -151.616596792 |  1.0   |\n",
       "|     0     | -141.75301252  |  1.0   |\n",
       "|     0     | -128.849399732 |  1.0   |\n",
       "+-----------+----------------+--------+\n",
       "[10 rows x 3 columns]"
      ]
     },
     "execution_count": 46,
     "metadata": {},
     "output_type": "execute_result"
    }
   ],
   "source": [
    "preds.head()"
   ]
  },
  {
   "cell_type": "code",
   "execution_count": 39,
   "metadata": {
    "collapsed": false
   },
   "outputs": [
    {
     "data": {
      "text/plain": [
       "6627"
      ]
     },
     "execution_count": 39,
     "metadata": {},
     "output_type": "execute_result"
    }
   ],
   "source": [
    "(preds[preds['margin'] < 55]['sponsored']).sum()"
   ]
  },
  {
   "cell_type": "code",
   "execution_count": 25,
   "metadata": {
    "collapsed": false
   },
   "outputs": [
    {
     "data": {
      "text/html": [
       "<div style=\"max-height:1000px;max-width:1500px;overflow:auto;\"><table frame=\"box\" rules=\"cols\">\n",
       "    <tr>\n",
       "        <th style=\"padding-left: 1em; padding-right: 1em; text-align: center\">sponsored</th>\n",
       "        <th style=\"padding-left: 1em; padding-right: 1em; text-align: center\">margin</th>\n",
       "    </tr>\n",
       "    <tr>\n",
       "        <td style=\"padding-left: 1em; padding-right: 1em; text-align: center; vertical-align: top\">0</td>\n",
       "        <td style=\"padding-left: 1em; padding-right: 1em; text-align: center; vertical-align: top\">-2.9126437726</td>\n",
       "    </tr>\n",
       "    <tr>\n",
       "        <td style=\"padding-left: 1em; padding-right: 1em; text-align: center; vertical-align: top\">0</td>\n",
       "        <td style=\"padding-left: 1em; padding-right: 1em; text-align: center; vertical-align: top\">-1.16004881947</td>\n",
       "    </tr>\n",
       "    <tr>\n",
       "        <td style=\"padding-left: 1em; padding-right: 1em; text-align: center; vertical-align: top\">0</td>\n",
       "        <td style=\"padding-left: 1em; padding-right: 1em; text-align: center; vertical-align: top\">-3.2681065082</td>\n",
       "    </tr>\n",
       "    <tr>\n",
       "        <td style=\"padding-left: 1em; padding-right: 1em; text-align: center; vertical-align: top\">0</td>\n",
       "        <td style=\"padding-left: 1em; padding-right: 1em; text-align: center; vertical-align: top\">-0.472531142735</td>\n",
       "    </tr>\n",
       "    <tr>\n",
       "        <td style=\"padding-left: 1em; padding-right: 1em; text-align: center; vertical-align: top\">1</td>\n",
       "        <td style=\"padding-left: 1em; padding-right: 1em; text-align: center; vertical-align: top\">2.08854632575</td>\n",
       "    </tr>\n",
       "    <tr>\n",
       "        <td style=\"padding-left: 1em; padding-right: 1em; text-align: center; vertical-align: top\">0</td>\n",
       "        <td style=\"padding-left: 1em; padding-right: 1em; text-align: center; vertical-align: top\">-4.16111867912</td>\n",
       "    </tr>\n",
       "    <tr>\n",
       "        <td style=\"padding-left: 1em; padding-right: 1em; text-align: center; vertical-align: top\">0</td>\n",
       "        <td style=\"padding-left: 1em; padding-right: 1em; text-align: center; vertical-align: top\">-4.45363386806</td>\n",
       "    </tr>\n",
       "    <tr>\n",
       "        <td style=\"padding-left: 1em; padding-right: 1em; text-align: center; vertical-align: top\">0</td>\n",
       "        <td style=\"padding-left: 1em; padding-right: 1em; text-align: center; vertical-align: top\">-4.76737951841</td>\n",
       "    </tr>\n",
       "    <tr>\n",
       "        <td style=\"padding-left: 1em; padding-right: 1em; text-align: center; vertical-align: top\">0</td>\n",
       "        <td style=\"padding-left: 1em; padding-right: 1em; text-align: center; vertical-align: top\">-0.745311905408</td>\n",
       "    </tr>\n",
       "    <tr>\n",
       "        <td style=\"padding-left: 1em; padding-right: 1em; text-align: center; vertical-align: top\">0</td>\n",
       "        <td style=\"padding-left: 1em; padding-right: 1em; text-align: center; vertical-align: top\">-1.46049804152</td>\n",
       "    </tr>\n",
       "</table>\n",
       "[10 rows x 2 columns]<br/>\n",
       "</div>"
      ],
      "text/plain": [
       "Columns:\n",
       "\tsponsored\tint\n",
       "\tmargin\tfloat\n",
       "\n",
       "Rows: 10\n",
       "\n",
       "Data:\n",
       "+-----------+-----------------+\n",
       "| sponsored |      margin     |\n",
       "+-----------+-----------------+\n",
       "|     0     |  -2.9126437726  |\n",
       "|     0     |  -1.16004881947 |\n",
       "|     0     |  -3.2681065082  |\n",
       "|     0     | -0.472531142735 |\n",
       "|     1     |  2.08854632575  |\n",
       "|     0     |  -4.16111867912 |\n",
       "|     0     |  -4.45363386806 |\n",
       "|     0     |  -4.76737951841 |\n",
       "|     0     | -0.745311905408 |\n",
       "|     0     |  -1.46049804152 |\n",
       "+-----------+-----------------+\n",
       "[10 rows x 2 columns]"
      ]
     },
     "execution_count": 25,
     "metadata": {},
     "output_type": "execute_result"
    }
   ],
   "source": [
    "ts = np.arange(-22, 50, 0.1)\n",
    "[for t in ts]"
   ]
  },
  {
   "cell_type": "code",
   "execution_count": null,
   "metadata": {
    "collapsed": false
   },
   "outputs": [],
   "source": [
    "svm_model.evaluate(train_cv)"
   ]
  },
  {
   "cell_type": "code",
   "execution_count": null,
   "metadata": {
    "collapsed": false
   },
   "outputs": [],
   "source": [
    "results = svm_model.evaluate(train_cv, metric='roc_curve')\n",
    "a = results['roc_curve']\n",
    "\n",
    "fpr = list(a['fpr'])\n",
    "tpr = list(a['tpr'])\n",
    "fpr[0] = 1.0\n",
    "tpr[0] = 1.0\n",
    "fpr = np.array(fpr)\n",
    "tpr = np.array(tpr)\n",
    "\n",
    "AUC = np.sum((fpr[:-1] - fpr[1:]) * (tpr[:-1] + (tpr[:-1] - tpr[1:])/2))\n",
    "plt.plot(fpr, tpr)\n",
    "print('AUC = %f'%AUC)"
   ]
  },
  {
   "cell_type": "code",
   "execution_count": null,
   "metadata": {
    "collapsed": false
   },
   "outputs": [],
   "source": [
    "results"
   ]
  },
  {
   "cell_type": "markdown",
   "metadata": {},
   "source": [
    "# Save Datasets?"
   ]
  },
  {
   "cell_type": "code",
   "execution_count": null,
   "metadata": {
    "collapsed": true
   },
   "outputs": [],
   "source": [
    "train_train.save('dataset_train_train')\n",
    "train_cv.save('dataset_train_cv')\n",
    "test.save('dataset_test')"
   ]
  },
  {
   "cell_type": "markdown",
   "metadata": {},
   "source": [
    "# Junk"
   ]
  },
  {
   "cell_type": "code",
   "execution_count": null,
   "metadata": {
    "collapsed": true
   },
   "outputs": [],
   "source": [
    "hash_encoder = gl.feature_engineering.create(train_train, FeatureHasher(features = ['tfidf'], num_bits=17, \n",
    "                                                                  output_column_name='tfidf_hashed_17'))\n",
    "train_train['tfidf_hashed_17'] = hash_encoder.transform(train_train)['tfidf_hashed_17']\n",
    "train_cv['tfidf_hashed_17'] = hash_encoder.transform(train_cv)['tfidf_hashed_17']"
   ]
  },
  {
   "cell_type": "code",
   "execution_count": null,
   "metadata": {
    "collapsed": false
   },
   "outputs": [],
   "source": [
    "train_train.head()"
   ]
  },
  {
   "cell_type": "code",
   "execution_count": null,
   "metadata": {
    "collapsed": false
   },
   "outputs": [],
   "source": [
    "model_15 = gl.logistic_classifier.create(train_train, target='sponsored', \n",
    "                                      features=['tfidf_hashed_15'],\n",
    "                                      validation_set=train_cv,\n",
    "                                      class_weights='auto',\n",
    "                                      max_iterations=40,\n",
    "                                      feature_rescaling=True,\n",
    "                                      l2_penalty=0.00,\n",
    "                                      l1_penalty=0.00)"
   ]
  },
  {
   "cell_type": "code",
   "execution_count": null,
   "metadata": {
    "collapsed": false,
    "scrolled": true
   },
   "outputs": [],
   "source": [
    "model_15"
   ]
  },
  {
   "cell_type": "code",
   "execution_count": null,
   "metadata": {
    "collapsed": false
   },
   "outputs": [],
   "source": [
    "model_15.evaluate(train_cv)"
   ]
  },
  {
   "cell_type": "code",
   "execution_count": null,
   "metadata": {
    "collapsed": false
   },
   "outputs": [],
   "source": [
    "results = model_15.evaluate(train_cv, metric='roc_curve')\n",
    "a = results['roc_curve']\n",
    "\n",
    "fpr = list(a['fpr'])\n",
    "tpr = list(a['tpr'])\n",
    "fpr[0] = 1.0\n",
    "tpr[0] = 1.0\n",
    "fpr = np.array(fpr)\n",
    "tpr = np.array(tpr)\n",
    "\n",
    "AUC = np.sum((fpr[:-1] - fpr[1:]) * (tpr[:-1] + (tpr[:-1] - tpr[1:])/2))\n",
    "plt.plot(fpr, tpr)\n",
    "print('AUC = %f'%AUC)"
   ]
  },
  {
   "cell_type": "code",
   "execution_count": null,
   "metadata": {
    "collapsed": false
   },
   "outputs": [],
   "source": [
    "model_16 = gl.logistic_classifier.create(train_train, target='sponsored', \n",
    "                                      features=['tfidf_hashed_16'],\n",
    "                                      validation_set=train_cv,\n",
    "                                      class_weights='auto',\n",
    "                                      max_iterations=20,\n",
    "                                      feature_rescaling=True,\n",
    "                                      l2_penalty=0.00,\n",
    "                                      l1_penalty=0.00)"
   ]
  },
  {
   "cell_type": "code",
   "execution_count": null,
   "metadata": {
    "collapsed": false
   },
   "outputs": [],
   "source": [
    "model_16.evaluate(train_cv)"
   ]
  },
  {
   "cell_type": "code",
   "execution_count": null,
   "metadata": {
    "collapsed": false
   },
   "outputs": [],
   "source": [
    "results = model_16.evaluate(train_cv, metric='roc_curve')\n",
    "a = results['roc_curve']\n",
    "\n",
    "fpr = list(a['fpr'])\n",
    "tpr = list(a['tpr'])\n",
    "fpr[0] = 1.0\n",
    "tpr[0] = 1.0\n",
    "fpr = np.array(fpr)\n",
    "tpr = np.array(tpr)\n",
    "\n",
    "AUC = np.sum((fpr[:-1] - fpr[1:]) * (tpr[:-1] + (tpr[:-1] - tpr[1:])/2))\n",
    "plt.plot(fpr, tpr)\n",
    "print('AUC = %f'%AUC)"
   ]
  },
  {
   "cell_type": "code",
   "execution_count": null,
   "metadata": {
    "collapsed": false
   },
   "outputs": [],
   "source": [
    "model_17 = gl.logistic_classifier.create(train_train, target='sponsored', \n",
    "                                      features=['tfidf_hashed_17'],\n",
    "                                      validation_set=train_cv,\n",
    "                                      class_weights=None, #'auto',\n",
    "                                      max_iterations=8,\n",
    "                                      feature_rescaling=True,\n",
    "                                      l2_penalty=0.00,\n",
    "                                      l1_penalty=0.00)"
   ]
  },
  {
   "cell_type": "code",
   "execution_count": null,
   "metadata": {
    "collapsed": false
   },
   "outputs": [],
   "source": [
    "model_17 = gl.logistic_classifier.create(train_train, target='sponsored', \n",
    "                                      features=['tfidf_hashed_17'],\n",
    "                                      validation_set=train_cv,\n",
    "                                      class_weights=None, #'auto',\n",
    "                                      max_iterations=7,\n",
    "                                      feature_rescaling=True,\n",
    "                                      l2_penalty=0.00,\n",
    "                                      l1_penalty=0.00)"
   ]
  },
  {
   "cell_type": "code",
   "execution_count": null,
   "metadata": {
    "collapsed": false
   },
   "outputs": [],
   "source": [
    "model_17.evaluate(train_cv)"
   ]
  },
  {
   "cell_type": "code",
   "execution_count": null,
   "metadata": {
    "collapsed": false
   },
   "outputs": [],
   "source": [
    "results = model_17.evaluate(train_cv, metric='roc_curve')\n",
    "a = results['roc_curve']\n",
    "\n",
    "fpr = list(a['fpr'])\n",
    "tpr = list(a['tpr'])\n",
    "fpr[0] = 1.0\n",
    "tpr[0] = 1.0\n",
    "fpr = np.array(fpr)\n",
    "tpr = np.array(tpr)\n",
    "\n",
    "AUC = np.sum((fpr[:-1] - fpr[1:]) * (tpr[:-1] + (tpr[:-1] - tpr[1:])/2))\n",
    "plt.plot(fpr, tpr)\n",
    "print('AUC = %f'%AUC)"
   ]
  },
  {
   "cell_type": "code",
   "execution_count": null,
   "metadata": {
    "collapsed": false
   },
   "outputs": [],
   "source": [
    "gl.svm_classifier.create(train_train, target='sponsored', \n",
    "                                      features=['tfidf_hashed_15'],\n",
    "                                      validation_set=train_cv,                                           \n",
    "                                      class_weights='auto',\n",
    "                                      max_iterations=40)"
   ]
  },
  {
   "cell_type": "code",
   "execution_count": null,
   "metadata": {
    "collapsed": false,
    "scrolled": true
   },
   "outputs": [],
   "source": [
    "gl.svm_classifier.create(train_train, target='sponsored', \n",
    "                                      features=['tfidf_hashed_16'],\n",
    "                                      validation_set=train_cv,                                           \n",
    "                                      class_weights='auto',\n",
    "                                      max_iterations=40)"
   ]
  },
  {
   "cell_type": "code",
   "execution_count": null,
   "metadata": {
    "collapsed": false
   },
   "outputs": [],
   "source": [
    "gl.svm_classifier.create(train_train, target='sponsored', \n",
    "                                      features=['tfidf_hashed_17'],\n",
    "                                      validation_set=train_cv,                                           \n",
    "                                      class_weights='auto',\n",
    "                                      max_iterations=40)"
   ]
  },
  {
   "cell_type": "code",
   "execution_count": 12,
   "metadata": {
    "collapsed": false
   },
   "outputs": [
    {
     "data": {
      "text/html": [
       "<div style=\"max-height:1000px;max-width:1500px;overflow:auto;\"><table frame=\"box\" rules=\"cols\">\n",
       "    <tr>\n",
       "        <th style=\"padding-left: 1em; padding-right: 1em; text-align: center\">sponsored</th>\n",
       "        <th style=\"padding-left: 1em; padding-right: 1em; text-align: center\">id</th>\n",
       "        <th style=\"padding-left: 1em; padding-right: 1em; text-align: center\">text</th>\n",
       "        <th style=\"padding-left: 1em; padding-right: 1em; text-align: center\">bow</th>\n",
       "        <th style=\"padding-left: 1em; padding-right: 1em; text-align: center\">tfidf</th>\n",
       "    </tr>\n",
       "    <tr>\n",
       "        <td style=\"padding-left: 1em; padding-right: 1em; text-align: center; vertical-align: top\">1</td>\n",
       "        <td style=\"padding-left: 1em; padding-right: 1em; text-align: center; vertical-align: top\">2231023</td>\n",
       "        <td style=\"padding-left: 1em; padding-right: 1em; text-align: center; vertical-align: top\">cruis consid ourselv<br>ultim resourc cruis deal ...</td>\n",
       "        <td style=\"padding-left: 1em; padding-right: 1em; text-align: center; vertical-align: top\">{'haggl': 1, 'forget': 1,<br>'celebr': 12, 'eldest': ...</td>\n",
       "        <td style=\"padding-left: 1em; padding-right: 1em; text-align: center; vertical-align: top\">{'haggl':<br>7.2854917128941326, ...</td>\n",
       "    </tr>\n",
       "    <tr>\n",
       "        <td style=\"padding-left: 1em; padding-right: 1em; text-align: center; vertical-align: top\">0</td>\n",
       "        <td style=\"padding-left: 1em; padding-right: 1em; text-align: center; vertical-align: top\">2231034</td>\n",
       "        <td style=\"padding-left: 1em; padding-right: 1em; text-align: center; vertical-align: top\">fabric err lhumour<br>beaucoup enseign dan ...</td>\n",
       "        <td style=\"padding-left: 1em; padding-right: 1em; text-align: center; vertical-align: top\">{'quotidien': 1, 'bzier':<br>1, 'seul': 1, 'lutter': ...</td>\n",
       "        <td style=\"padding-left: 1em; padding-right: 1em; text-align: center; vertical-align: top\">{'quotidien':<br>7.194519934688406, ...</td>\n",
       "    </tr>\n",
       "    <tr>\n",
       "        <td style=\"padding-left: 1em; padding-right: 1em; text-align: center; vertical-align: top\">0</td>\n",
       "        <td style=\"padding-left: 1em; padding-right: 1em; text-align: center; vertical-align: top\">223104</td>\n",
       "        <td style=\"padding-left: 1em; padding-right: 1em; text-align: center; vertical-align: top\">age skin sever problem<br>which make individu look ...</td>\n",
       "        <td style=\"padding-left: 1em; padding-right: 1em; text-align: center; vertical-align: top\">{'alo': 1, 'nutrit': 2,<br>'gradual': 1, 'lack': 2, ...</td>\n",
       "        <td style=\"padding-left: 1em; padding-right: 1em; text-align: center; vertical-align: top\">{'alo':<br>6.505333155344558, ...</td>\n",
       "    </tr>\n",
       "    <tr>\n",
       "        <td style=\"padding-left: 1em; padding-right: 1em; text-align: center; vertical-align: top\">0</td>\n",
       "        <td style=\"padding-left: 1em; padding-right: 1em; text-align: center; vertical-align: top\">2231053</td>\n",
       "        <td style=\"padding-left: 1em; padding-right: 1em; text-align: center; vertical-align: top\">welcom sign homepag<br>aol.com channel homepag ...</td>\n",
       "        <td style=\"padding-left: 1em; padding-right: 1em; text-align: center; vertical-align: top\">{'summer': 2, 'mexican':<br>2, 'feedback': 1, 'sh ...</td>\n",
       "        <td style=\"padding-left: 1em; padding-right: 1em; text-align: center; vertical-align: top\">{'summer':<br>4.416257474360147, ...</td>\n",
       "    </tr>\n",
       "    <tr>\n",
       "        <td style=\"padding-left: 1em; padding-right: 1em; text-align: center; vertical-align: top\">0</td>\n",
       "        <td style=\"padding-left: 1em; padding-right: 1em; text-align: center; vertical-align: top\">2231062</td>\n",
       "        <td style=\"padding-left: 1em; padding-right: 1em; text-align: center; vertical-align: top\">your messag been sent<br>coub.com blog ...</td>\n",
       "        <td style=\"padding-left: 1em; padding-right: 1em; text-align: center; vertical-align: top\">{'blog': 1, 'messag': 1,<br>'coub.com': 1} ...</td>\n",
       "        <td style=\"padding-left: 1em; padding-right: 1em; text-align: center; vertical-align: top\">{'blog':<br>1.0534690327911476, ...</td>\n",
       "    </tr>\n",
       "    <tr>\n",
       "        <td style=\"padding-left: 1em; padding-right: 1em; text-align: center; vertical-align: top\">0</td>\n",
       "        <td style=\"padding-left: 1em; padding-right: 1em; text-align: center; vertical-align: top\">2231072</td>\n",
       "        <td style=\"padding-left: 1em; padding-right: 1em; text-align: center; vertical-align: top\">ford black front angl<br>imag copyright seriou ...</td>\n",
       "        <td style=\"padding-left: 1em; padding-right: 1em; text-align: center; vertical-align: top\">{'wheel': 2, 'copyright':<br>1, 'pictur': 1, 'angl': ...</td>\n",
       "        <td style=\"padding-left: 1em; padding-right: 1em; text-align: center; vertical-align: top\">{'wheel':<br>7.251199591306898, ...</td>\n",
       "    </tr>\n",
       "    <tr>\n",
       "        <td style=\"padding-left: 1em; padding-right: 1em; text-align: center; vertical-align: top\">0</td>\n",
       "        <td style=\"padding-left: 1em; padding-right: 1em; text-align: center; vertical-align: top\">2231088</td>\n",
       "        <td style=\"padding-left: 1em; padding-right: 1em; text-align: center; vertical-align: top\">  </td>\n",
       "        <td style=\"padding-left: 1em; padding-right: 1em; text-align: center; vertical-align: top\">{}</td>\n",
       "        <td style=\"padding-left: 1em; padding-right: 1em; text-align: center; vertical-align: top\">{}</td>\n",
       "    </tr>\n",
       "    <tr>\n",
       "        <td style=\"padding-left: 1em; padding-right: 1em; text-align: center; vertical-align: top\">0</td>\n",
       "        <td style=\"padding-left: 1em; padding-right: 1em; text-align: center; vertical-align: top\">2231095</td>\n",
       "        <td style=\"padding-left: 1em; padding-right: 1em; text-align: center; vertical-align: top\">latest addit corpor stabl<br>model famili allow user ...</td>\n",
       "        <td style=\"padding-left: 1em; padding-right: 1em; text-align: center; vertical-align: top\">{'parentnod': 2, 'text':<br>1, 'laptop': 6, 'disc': ...</td>\n",
       "        <td style=\"padding-left: 1em; padding-right: 1em; text-align: center; vertical-align: top\">{'parentnod':<br>8.4968361983674, 'text': ...</td>\n",
       "    </tr>\n",
       "    <tr>\n",
       "        <td style=\"padding-left: 1em; padding-right: 1em; text-align: center; vertical-align: top\">0</td>\n",
       "        <td style=\"padding-left: 1em; padding-right: 1em; text-align: center; vertical-align: top\">2231104</td>\n",
       "        <td style=\"padding-left: 1em; padding-right: 1em; text-align: center; vertical-align: top\">pectin from ancientgreek<br>pktik congeal curdl ...</td>\n",
       "        <td style=\"padding-left: 1em; padding-right: 1em; text-align: center; vertical-align: top\">{'partial': 1, 'chain':<br>4, 'woodi': 1, ...</td>\n",
       "        <td style=\"padding-left: 1em; padding-right: 1em; text-align: center; vertical-align: top\">{'partial':<br>4.294315255876003, ...</td>\n",
       "    </tr>\n",
       "    <tr>\n",
       "        <td style=\"padding-left: 1em; padding-right: 1em; text-align: center; vertical-align: top\">0</td>\n",
       "        <td style=\"padding-left: 1em; padding-right: 1em; text-align: center; vertical-align: top\">2231119</td>\n",
       "        <td style=\"padding-left: 1em; padding-right: 1em; text-align: center; vertical-align: top\">powder alcohol advanc<br>search googl imag home ...</td>\n",
       "        <td style=\"padding-left: 1em; padding-right: 1em; text-align: center; vertical-align: top\">{'shop': 1, 'feedback':<br>1, 'photo': 1, 'prefer': ...</td>\n",
       "        <td style=\"padding-left: 1em; padding-right: 1em; text-align: center; vertical-align: top\">{'shop':<br>1.7292320990130188, ...</td>\n",
       "    </tr>\n",
       "</table>\n",
       "<table frame=\"box\" rules=\"cols\">\n",
       "    <tr>\n",
       "        <th style=\"padding-left: 1em; padding-right: 1em; text-align: center\">tfidf_hashed</th>\n",
       "    </tr>\n",
       "    <tr>\n",
       "        <td style=\"padding-left: 1em; padding-right: 1em; text-align: center; vertical-align: top\">{32773:<br>5.441033011665227, 61 ...</td>\n",
       "    </tr>\n",
       "    <tr>\n",
       "        <td style=\"padding-left: 1em; padding-right: 1em; text-align: center; vertical-align: top\">{2564:<br>-8.990239805132559, ...</td>\n",
       "    </tr>\n",
       "    <tr>\n",
       "        <td style=\"padding-left: 1em; padding-right: 1em; text-align: center; vertical-align: top\">{12806:<br>5.6345047975471605, ...</td>\n",
       "    </tr>\n",
       "    <tr>\n",
       "        <td style=\"padding-left: 1em; padding-right: 1em; text-align: center; vertical-align: top\">{1024:<br>3.6511861715193468, ...</td>\n",
       "    </tr>\n",
       "    <tr>\n",
       "        <td style=\"padding-left: 1em; padding-right: 1em; text-align: center; vertical-align: top\">{15491:<br>2.385102990015125, 9349: ...</td>\n",
       "    </tr>\n",
       "    <tr>\n",
       "        <td style=\"padding-left: 1em; padding-right: 1em; text-align: center; vertical-align: top\">{28320:<br>-1.7737051466548088, ...</td>\n",
       "    </tr>\n",
       "    <tr>\n",
       "        <td style=\"padding-left: 1em; padding-right: 1em; text-align: center; vertical-align: top\">{}</td>\n",
       "    </tr>\n",
       "    <tr>\n",
       "        <td style=\"padding-left: 1em; padding-right: 1em; text-align: center; vertical-align: top\">{39168:<br>4.375119288291299, 6660: ...</td>\n",
       "    </tr>\n",
       "    <tr>\n",
       "        <td style=\"padding-left: 1em; padding-right: 1em; text-align: center; vertical-align: top\">{24576:<br>7.7511756809953525, ...</td>\n",
       "    </tr>\n",
       "    <tr>\n",
       "        <td style=\"padding-left: 1em; padding-right: 1em; text-align: center; vertical-align: top\">{18304:<br>-4.460974075805471, ...</td>\n",
       "    </tr>\n",
       "</table>\n",
       "[10 rows x 6 columns]<br/>\n",
       "</div>"
      ],
      "text/plain": [
       "Columns:\n",
       "\tsponsored\tint\n",
       "\tid\tstr\n",
       "\ttext\tstr\n",
       "\tbow\tdict\n",
       "\ttfidf\tdict\n",
       "\ttfidf_hashed\tdict\n",
       "\n",
       "Rows: 10\n",
       "\n",
       "Data:\n",
       "+-----------+---------+-------------------------------+\n",
       "| sponsored |    id   |              text             |\n",
       "+-----------+---------+-------------------------------+\n",
       "|     1     | 2231023 | cruis consid ourselv ultim... |\n",
       "|     0     | 2231034 | fabric err lhumour beaucou... |\n",
       "|     0     |  223104 | age skin sever problem whi... |\n",
       "|     0     | 2231053 | welcom sign homepag aol.co... |\n",
       "|     0     | 2231062 | your messag been sent     ... |\n",
       "|     0     | 2231072 | ford black front angl imag... |\n",
       "|     0     | 2231088 |                               |\n",
       "|     0     | 2231095 | latest addit corpor stabl ... |\n",
       "|     0     | 2231104 | pectin from ancientgreek p... |\n",
       "|     0     | 2231119 | powder alcohol advanc sear... |\n",
       "+-----------+---------+-------------------------------+\n",
       "+-------------------------------+-------------------------------+\n",
       "|              bow              |             tfidf             |\n",
       "+-------------------------------+-------------------------------+\n",
       "| {'haggl': 1, 'forget': 1, ... | {'haggl': 7.28549171289413... |\n",
       "| {'quotidien': 1, 'bzier': ... | {'quotidien': 7.1945199346... |\n",
       "| {'alo': 1, 'nutrit': 2, 'g... | {'alo': 6.505333155344558,... |\n",
       "| {'summer': 2, 'mexican': 2... | {'summer': 4.4162574743601... |\n",
       "| {'blog': 1, 'messag': 1, '... | {'blog': 1.053469032791147... |\n",
       "| {'wheel': 2, 'copyright': ... | {'wheel': 7.25119959130689... |\n",
       "|               {}              |               {}              |\n",
       "| {'parentnod': 2, 'text': 1... | {'parentnod': 8.4968361983... |\n",
       "| {'partial': 1, 'chain': 4,... | {'partial': 4.294315255876... |\n",
       "| {'shop': 1, 'feedback': 1,... | {'shop': 1.729232099013018... |\n",
       "+-------------------------------+-------------------------------+\n",
       "+-------------------------------+\n",
       "|          tfidf_hashed         |\n",
       "+-------------------------------+\n",
       "| {32773: 5.441033011665227,... |\n",
       "| {2564: -8.990239805132559,... |\n",
       "| {12806: 5.6345047975471605... |\n",
       "| {1024: 3.6511861715193468,... |\n",
       "| {15491: 2.385102990015125,... |\n",
       "| {28320: -1.773705146654808... |\n",
       "|               {}              |\n",
       "| {39168: 4.375119288291299,... |\n",
       "| {24576: 7.7511756809953525... |\n",
       "| {18304: -4.460974075805471... |\n",
       "+-------------------------------+\n",
       "[10 rows x 6 columns]"
      ]
     },
     "execution_count": 12,
     "metadata": {},
     "output_type": "execute_result"
    }
   ],
   "source": [
    "train.head()"
   ]
  },
  {
   "cell_type": "code",
   "execution_count": 13,
   "metadata": {
    "collapsed": true
   },
   "outputs": [],
   "source": [
    "train.save('tfidf_hashed_16_train')\n",
    "test.save('tfidf_hashed_16_test')"
   ]
  },
  {
   "cell_type": "code",
   "execution_count": 14,
   "metadata": {
    "collapsed": true
   },
   "outputs": [],
   "source": [
    "train_train.save('tfidf_hashed_16_split_train_train')\n",
    "train_cv.save('tfidf_hashed_16_split_train_cv')"
   ]
  }
 ],
 "metadata": {
  "kernelspec": {
   "display_name": "Python 2",
   "language": "python",
   "name": "python2"
  },
  "language_info": {
   "codemirror_mode": {
    "name": "ipython",
    "version": 2
   },
   "file_extension": ".py",
   "mimetype": "text/x-python",
   "name": "python",
   "nbconvert_exporter": "python",
   "pygments_lexer": "ipython2",
   "version": "2.7.9"
  }
 },
 "nbformat": 4,
 "nbformat_minor": 0
}
