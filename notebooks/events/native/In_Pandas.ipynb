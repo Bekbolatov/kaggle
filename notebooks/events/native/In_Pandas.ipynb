{
 "cells": [
  {
   "cell_type": "code",
   "execution_count": 1,
   "metadata": {
    "collapsed": true
   },
   "outputs": [],
   "source": [
    "%matplotlib inline\n",
    "\n",
    "import matplotlib\n",
    "import numpy as np\n",
    "import matplotlib.pyplot as plt\n",
    "import pandas as pd\n",
    "\n",
    "import scipy.sparse as sp"
   ]
  },
  {
   "cell_type": "code",
   "execution_count": 6,
   "metadata": {
    "collapsed": false
   },
   "outputs": [],
   "source": [
    "df_train = pd.read_pickle('/mnt/sframe/df_train')\n",
    "df_test = pd.read_pickle('/mnt/sframe/df_test')"
   ]
  },
  {
   "cell_type": "code",
   "execution_count": null,
   "metadata": {
    "collapsed": true
   },
   "outputs": [],
   "source": [
    "from sklearn.cross_validation import train_test_split\n",
    "train_train, train_cv = train_test_split(df_train, test_size=0.2, random_state=107)\n",
    "train_train_unseen, train_train_seen = train_test_split(train_train, test_size=0.25, random_state=113)\n",
    "TRAIN, CV = train_test_split(train_train_seen, test_size=0.5, random_state=117)"
   ]
  },
  {
   "cell_type": "code",
   "execution_count": 158,
   "metadata": {
    "collapsed": true
   },
   "outputs": [],
   "source": [
    "T = TRAIN\n",
    "C = CV"
   ]
  },
  {
   "cell_type": "code",
   "execution_count": 159,
   "metadata": {
    "collapsed": true
   },
   "outputs": [],
   "source": [
    "TRAIN = train_train\n",
    "CV = train_cv"
   ]
  },
  {
   "cell_type": "code",
   "execution_count": 160,
   "metadata": {
    "collapsed": false
   },
   "outputs": [],
   "source": [
    "TRAIN['text'].fillna('', inplace=True)\n",
    "CV['text'].fillna('', inplace=True)\n",
    "#TRAIN['text'].isnull().any()"
   ]
  },
  {
   "cell_type": "code",
   "execution_count": 161,
   "metadata": {
    "collapsed": false
   },
   "outputs": [
    {
     "data": {
      "text/plain": [
       "111161    great post veri refresh male blogger talk abou...\n",
       "35141     were realli happi internet number sourc gif ti...\n",
       "270699    youv ever seen pictur troll tongu havent just ...\n",
       "Name: text, dtype: object"
      ]
     },
     "execution_count": 161,
     "metadata": {},
     "output_type": "execute_result"
    }
   ],
   "source": [
    "CV[CV['sponsored'] == 1]['text'][0:3]"
   ]
  },
  {
   "cell_type": "code",
   "execution_count": 162,
   "metadata": {
    "collapsed": false
   },
   "outputs": [
    {
     "data": {
      "text/plain": [
       "((269619, 277131), (67405, 277131))"
      ]
     },
     "execution_count": 162,
     "metadata": {},
     "output_type": "execute_result"
    }
   ],
   "source": [
    "from sklearn.feature_extraction.text import CountVectorizer\n",
    "count_vect = CountVectorizer(stop_words='english', min_df=5)\n",
    "TRAIN_counts = count_vect.fit_transform(TRAIN['text'])\n",
    "CV_counts = count_vect.transform(CV['text'])\n",
    "TRAIN_counts.shape, CV_counts.shape"
   ]
  },
  {
   "cell_type": "code",
   "execution_count": 111,
   "metadata": {
    "collapsed": false
   },
   "outputs": [
    {
     "data": {
      "text/plain": [
       "8691"
      ]
     },
     "execution_count": 111,
     "metadata": {},
     "output_type": "execute_result"
    }
   ],
   "source": [
    "count_vect.vocabulary_.get('cart')"
   ]
  },
  {
   "cell_type": "code",
   "execution_count": 163,
   "metadata": {
    "collapsed": false
   },
   "outputs": [
    {
     "data": {
      "text/plain": [
       "((269619, 277131), (67405, 277131))"
      ]
     },
     "execution_count": 163,
     "metadata": {},
     "output_type": "execute_result"
    }
   ],
   "source": [
    "from sklearn.feature_extraction.text import TfidfTransformer\n",
    "tfidf_transformer = TfidfTransformer()\n",
    "TRAIN_tfidf = tfidf_transformer.fit_transform(TRAIN_counts)\n",
    "CV_tfidf = tfidf_transformer.transform(CV_counts)\n",
    "\n",
    "TRAIN_tfidf.shape, CV_tfidf.shape"
   ]
  },
  {
   "cell_type": "code",
   "execution_count": 164,
   "metadata": {
    "collapsed": false
   },
   "outputs": [],
   "source": [
    "bad_cols = [col for col in list(TRAIN.columns) \n",
    " if col.startswith('word2vec') or col in set(['text_words', 'text', 'id', 'sponsored'])]"
   ]
  },
  {
   "cell_type": "code",
   "execution_count": 165,
   "metadata": {
    "collapsed": false
   },
   "outputs": [],
   "source": [
    "DF_TRAIN = TRAIN.drop(bad_cols, 1).fillna(0)\n",
    "DF_CV = CV.drop(bad_cols, 1).fillna(0)"
   ]
  },
  {
   "cell_type": "code",
   "execution_count": 166,
   "metadata": {
    "collapsed": false
   },
   "outputs": [
    {
     "data": {
      "text/plain": [
       "(269619, 38)"
      ]
     },
     "execution_count": 166,
     "metadata": {},
     "output_type": "execute_result"
    }
   ],
   "source": [
    "DF_TRAIN.shape"
   ]
  },
  {
   "cell_type": "code",
   "execution_count": 167,
   "metadata": {
    "collapsed": false,
    "scrolled": true
   },
   "outputs": [],
   "source": [
    "DF_DF_TRAIN = sp.hstack( [TRAIN_tfidf,  sp.csr_matrix(np.array(DF_TRAIN)) ] )\n",
    "DF_DF_CV = sp.hstack( [CV_tfidf,  sp.csr_matrix(np.array(DF_CV)) ] )"
   ]
  },
  {
   "cell_type": "code",
   "execution_count": 154,
   "metadata": {
    "collapsed": false
   },
   "outputs": [
    {
     "data": {
      "text/plain": [
       "GradientBoostingClassifier(init=None, learning_rate=0.1, loss='deviance',\n",
       "              max_depth=3, max_features='sqrt', max_leaf_nodes=None,\n",
       "              min_samples_leaf=1, min_samples_split=20,\n",
       "              min_weight_fraction_leaf=0.0, n_estimators=100,\n",
       "              random_state=0, subsample=1.0, verbose=0, warm_start=False)"
      ]
     },
     "execution_count": 154,
     "metadata": {},
     "output_type": "execute_result"
    }
   ],
   "source": [
    "from sklearn.ensemble import GradientBoostingClassifier\n",
    "clf2 = GradientBoostingClassifier(n_estimators=100, \n",
    "                             max_features='sqrt', \n",
    "                             max_depth=3, \n",
    "                             min_samples_split=20, \n",
    "                             random_state=0)\n",
    "clf2.fit(TRAIN[[col for col in TRAIN.columns if col.startswith('word2vec')]], TRAIN['sponsored'])"
   ]
  },
  {
   "cell_type": "code",
   "execution_count": 155,
   "metadata": {
    "collapsed": false
   },
   "outputs": [
    {
     "data": {
      "text/plain": [
       "0.75607556139665633"
      ]
     },
     "execution_count": 155,
     "metadata": {},
     "output_type": "execute_result"
    }
   ],
   "source": [
    "predictions = clf2.predict_proba(CV[[col for col in CV.columns if col.startswith('word2vec')]])[:, 1]\n",
    "roc_auc_score(CV['sponsored'], predictions)"
   ]
  },
  {
   "cell_type": "code",
   "execution_count": 170,
   "metadata": {
    "collapsed": false
   },
   "outputs": [
    {
     "data": {
      "text/plain": [
       "RandomForestClassifier(bootstrap=True, class_weight='auto',\n",
       "            criterion='entropy', max_depth=150, max_features='sqrt',\n",
       "            max_leaf_nodes=None, min_samples_leaf=1, min_samples_split=20,\n",
       "            min_weight_fraction_leaf=0.0, n_estimators=500, n_jobs=-1,\n",
       "            oob_score=False, random_state=0, verbose=0, warm_start=False)"
      ]
     },
     "execution_count": 170,
     "metadata": {},
     "output_type": "execute_result"
    }
   ],
   "source": [
    "from sklearn.ensemble import RandomForestClassifier\n",
    "clf = RandomForestClassifier(n_estimators=500, \n",
    "                             max_features='sqrt', \n",
    "                             criterion='entropy', \n",
    "                             max_depth=150, \n",
    "                             min_samples_split=20, \n",
    "                             class_weight='auto',\n",
    "                             n_jobs=-1, random_state=0)\n",
    "clf.fit(DF_DF_TRAIN, TRAIN['sponsored'])"
   ]
  },
  {
   "cell_type": "code",
   "execution_count": 171,
   "metadata": {
    "collapsed": false
   },
   "outputs": [
    {
     "name": "stdout",
     "output_type": "stream",
     "text": [
      "22:29:00\n",
      "2015-10-05 06:28:49.539434\n"
     ]
    }
   ],
   "source": [
    "print(\"22:29:00\")\n",
    "import datetime\n",
    "print(datetime.datetime.now())"
   ]
  },
  {
   "cell_type": "code",
   "execution_count": 172,
   "metadata": {
    "collapsed": false
   },
   "outputs": [
    {
     "data": {
      "text/plain": [
       "0.9298068448796003"
      ]
     },
     "execution_count": 172,
     "metadata": {},
     "output_type": "execute_result"
    }
   ],
   "source": [
    "predictions = clf.predict_proba(DF_DF_CV)[:, 1]\n",
    "roc_auc_score(CV['sponsored'], predictions)"
   ]
  },
  {
   "cell_type": "code",
   "execution_count": 173,
   "metadata": {
    "collapsed": false
   },
   "outputs": [
    {
     "name": "stdout",
     "output_type": "stream",
     "text": [
      "0.9231\n",
      "2015-10-05 06:29:03.941503\n"
     ]
    }
   ],
   "source": [
    "print(\"0.9231\")\n",
    "import datetime\n",
    "print(datetime.datetime.now())"
   ]
  },
  {
   "cell_type": "code",
   "execution_count": 174,
   "metadata": {
    "collapsed": true
   },
   "outputs": [],
   "source": []
  },
  {
   "cell_type": "code",
   "execution_count": null,
   "metadata": {
    "collapsed": true
   },
   "outputs": [],
   "source": [
    "import xgboost as xgb\n",
    "\n",
    "dtrain = xgb.DMatrix(DF_DF_TRAIN, label = TRAIN['sponsored'])\n",
    "dtest = xgb.DMatrix(DF_DF_CV, label = CV['sponsored'])\n",
    "\n",
    "watchlist  = [(dtest,'eval'), (dtrain,'train')]"
   ]
  },
  {
   "cell_type": "code",
   "execution_count": 252,
   "metadata": {
    "collapsed": false
   },
   "outputs": [
    {
     "name": "stdout",
     "output_type": "stream",
     "text": [
      "2015-10-05 08:22:02.279158\n"
     ]
    }
   ],
   "source": [
    "param = {'max_depth':5, \n",
    "         'eta': 1, \n",
    "         'gamma': 1.0,\n",
    "         'colsample_bytree': 0.3,\n",
    "         'subsample': 0.9,\n",
    "         'silent':1, \n",
    "         'objective':'binary:logistic', \n",
    "         'eval_metric':'auc',\n",
    "         'early_stopping_rounds':20}\n",
    "num_round = 300\n",
    "\n",
    "print(datetime.datetime.now())"
   ]
  },
  {
   "cell_type": "code",
   "execution_count": 253,
   "metadata": {
    "collapsed": false,
    "scrolled": false
   },
   "outputs": [
    {
     "name": "stderr",
     "output_type": "stream",
     "text": [
      "[0]\teval-auc:0.571888\ttrain-auc:0.570578\n",
      "[1]\teval-auc:0.669116\ttrain-auc:0.671742\n",
      "[2]\teval-auc:0.711978\ttrain-auc:0.714102\n",
      "[3]\teval-auc:0.735423\ttrain-auc:0.742350\n",
      "[4]\teval-auc:0.765897\ttrain-auc:0.775788\n",
      "[5]\teval-auc:0.775559\ttrain-auc:0.786102\n",
      "[6]\teval-auc:0.793869\ttrain-auc:0.804149\n",
      "[7]\teval-auc:0.799272\ttrain-auc:0.809697\n",
      "[8]\teval-auc:0.805505\ttrain-auc:0.817812\n",
      "[9]\teval-auc:0.803777\ttrain-auc:0.816820\n",
      "[10]\teval-auc:0.809923\ttrain-auc:0.823138\n",
      "[11]\teval-auc:0.812229\ttrain-auc:0.825675\n",
      "[12]\teval-auc:0.815797\ttrain-auc:0.830258\n",
      "[13]\teval-auc:0.818641\ttrain-auc:0.834471\n",
      "[14]\teval-auc:0.821311\ttrain-auc:0.837129\n",
      "[15]\teval-auc:0.822955\ttrain-auc:0.838018\n",
      "[16]\teval-auc:0.824562\ttrain-auc:0.839895\n",
      "[17]\teval-auc:0.824288\ttrain-auc:0.840077\n",
      "[18]\teval-auc:0.826723\ttrain-auc:0.841895\n",
      "[19]\teval-auc:0.828429\ttrain-auc:0.844777\n",
      "[20]\teval-auc:0.831499\ttrain-auc:0.846869\n",
      "[21]\teval-auc:0.834575\ttrain-auc:0.850612\n",
      "[22]\teval-auc:0.833662\ttrain-auc:0.850549\n",
      "[23]\teval-auc:0.832254\ttrain-auc:0.849776\n",
      "[24]\teval-auc:0.833289\ttrain-auc:0.850394\n",
      "[25]\teval-auc:0.836867\ttrain-auc:0.852898\n",
      "[26]\teval-auc:0.837785\ttrain-auc:0.854668\n",
      "[27]\teval-auc:0.839809\ttrain-auc:0.857460\n",
      "[28]\teval-auc:0.840163\ttrain-auc:0.858335\n",
      "[29]\teval-auc:0.841851\ttrain-auc:0.859978\n",
      "[30]\teval-auc:0.843252\ttrain-auc:0.861479\n",
      "[31]\teval-auc:0.844230\ttrain-auc:0.863175\n",
      "[32]\teval-auc:0.845072\ttrain-auc:0.864716\n",
      "[33]\teval-auc:0.845123\ttrain-auc:0.865459\n",
      "[34]\teval-auc:0.845742\ttrain-auc:0.866452\n",
      "[35]\teval-auc:0.847316\ttrain-auc:0.867958\n",
      "[36]\teval-auc:0.850414\ttrain-auc:0.871541\n",
      "[37]\teval-auc:0.852591\ttrain-auc:0.873826\n",
      "[38]\teval-auc:0.853502\ttrain-auc:0.874261\n",
      "[39]\teval-auc:0.852497\ttrain-auc:0.874392\n",
      "[40]\teval-auc:0.853256\ttrain-auc:0.874793\n",
      "[41]\teval-auc:0.853927\ttrain-auc:0.875770\n",
      "[42]\teval-auc:0.854021\ttrain-auc:0.876114\n",
      "[43]\teval-auc:0.855748\ttrain-auc:0.877339\n",
      "[44]\teval-auc:0.857068\ttrain-auc:0.878231\n",
      "[45]\teval-auc:0.857983\ttrain-auc:0.879417\n",
      "[46]\teval-auc:0.859600\ttrain-auc:0.882394\n",
      "[47]\teval-auc:0.861435\ttrain-auc:0.884031\n",
      "[48]\teval-auc:0.861491\ttrain-auc:0.884709\n",
      "[49]\teval-auc:0.862588\ttrain-auc:0.886449\n",
      "[50]\teval-auc:0.862139\ttrain-auc:0.886948\n",
      "[51]\teval-auc:0.862602\ttrain-auc:0.887560\n",
      "[52]\teval-auc:0.864143\ttrain-auc:0.888926\n",
      "[53]\teval-auc:0.865455\ttrain-auc:0.890025\n",
      "[54]\teval-auc:0.866172\ttrain-auc:0.890790\n",
      "[55]\teval-auc:0.867376\ttrain-auc:0.892062\n",
      "[56]\teval-auc:0.867413\ttrain-auc:0.893082\n",
      "[57]\teval-auc:0.867159\ttrain-auc:0.892846\n",
      "[58]\teval-auc:0.869707\ttrain-auc:0.895533\n",
      "[59]\teval-auc:0.870288\ttrain-auc:0.896839\n",
      "[60]\teval-auc:0.871999\ttrain-auc:0.898748\n",
      "[61]\teval-auc:0.872261\ttrain-auc:0.899413\n",
      "[62]\teval-auc:0.872706\ttrain-auc:0.900230\n",
      "[63]\teval-auc:0.872723\ttrain-auc:0.900521\n",
      "[64]\teval-auc:0.873156\ttrain-auc:0.901644\n",
      "[65]\teval-auc:0.873347\ttrain-auc:0.902553\n",
      "[66]\teval-auc:0.873862\ttrain-auc:0.903464\n",
      "[67]\teval-auc:0.874586\ttrain-auc:0.904267\n",
      "[68]\teval-auc:0.874992\ttrain-auc:0.904773\n",
      "[69]\teval-auc:0.875127\ttrain-auc:0.905468\n",
      "[70]\teval-auc:0.875429\ttrain-auc:0.905886\n",
      "[71]\teval-auc:0.875775\ttrain-auc:0.906361\n",
      "[72]\teval-auc:0.876355\ttrain-auc:0.907098\n",
      "[73]\teval-auc:0.876896\ttrain-auc:0.908233\n",
      "[74]\teval-auc:0.876470\ttrain-auc:0.909245\n",
      "[75]\teval-auc:0.876763\ttrain-auc:0.909693\n",
      "[76]\teval-auc:0.877581\ttrain-auc:0.910646\n",
      "[77]\teval-auc:0.877797\ttrain-auc:0.911117\n",
      "[78]\teval-auc:0.879189\ttrain-auc:0.913303\n",
      "[79]\teval-auc:0.879180\ttrain-auc:0.914124\n",
      "[80]\teval-auc:0.879258\ttrain-auc:0.915232\n",
      "[81]\teval-auc:0.880024\ttrain-auc:0.915876\n",
      "[82]\teval-auc:0.881408\ttrain-auc:0.917258\n",
      "[83]\teval-auc:0.882265\ttrain-auc:0.918110\n",
      "[84]\teval-auc:0.882822\ttrain-auc:0.918650\n",
      "[85]\teval-auc:0.883143\ttrain-auc:0.919093\n",
      "[86]\teval-auc:0.883348\ttrain-auc:0.919459\n",
      "[87]\teval-auc:0.883370\ttrain-auc:0.919895\n",
      "[88]\teval-auc:0.883799\ttrain-auc:0.920390\n",
      "[89]\teval-auc:0.883767\ttrain-auc:0.921048\n",
      "[90]\teval-auc:0.884193\ttrain-auc:0.921379\n",
      "[91]\teval-auc:0.884728\ttrain-auc:0.921779\n",
      "[92]\teval-auc:0.885065\ttrain-auc:0.922244\n",
      "[93]\teval-auc:0.885161\ttrain-auc:0.922711\n",
      "[94]\teval-auc:0.885034\ttrain-auc:0.923064\n",
      "[95]\teval-auc:0.886266\ttrain-auc:0.924164\n",
      "[96]\teval-auc:0.886868\ttrain-auc:0.925002\n",
      "[97]\teval-auc:0.887275\ttrain-auc:0.925277\n",
      "[98]\teval-auc:0.887525\ttrain-auc:0.925653\n",
      "[99]\teval-auc:0.887526\ttrain-auc:0.925769\n",
      "[100]\teval-auc:0.887617\ttrain-auc:0.926475\n",
      "[101]\teval-auc:0.887922\ttrain-auc:0.926789\n",
      "[102]\teval-auc:0.887839\ttrain-auc:0.927137\n",
      "[103]\teval-auc:0.888407\ttrain-auc:0.928032\n",
      "[104]\teval-auc:0.888643\ttrain-auc:0.928478\n",
      "[105]\teval-auc:0.888554\ttrain-auc:0.928793\n",
      "[106]\teval-auc:0.888671\ttrain-auc:0.929205\n",
      "[107]\teval-auc:0.888500\ttrain-auc:0.929805\n",
      "[108]\teval-auc:0.888728\ttrain-auc:0.930056\n",
      "[109]\teval-auc:0.889340\ttrain-auc:0.930863\n",
      "[110]\teval-auc:0.889344\ttrain-auc:0.931172\n",
      "[111]\teval-auc:0.889029\ttrain-auc:0.931799\n",
      "[112]\teval-auc:0.888945\ttrain-auc:0.932320\n",
      "[113]\teval-auc:0.888936\ttrain-auc:0.932691\n",
      "[114]\teval-auc:0.888697\ttrain-auc:0.933227\n",
      "[115]\teval-auc:0.888841\ttrain-auc:0.933897\n",
      "[116]\teval-auc:0.889056\ttrain-auc:0.934372\n",
      "[117]\teval-auc:0.889281\ttrain-auc:0.935037\n",
      "[118]\teval-auc:0.889302\ttrain-auc:0.935468\n",
      "[119]\teval-auc:0.889279\ttrain-auc:0.935762\n",
      "[120]\teval-auc:0.889122\ttrain-auc:0.936242\n",
      "[121]\teval-auc:0.889034\ttrain-auc:0.936834\n",
      "[122]\teval-auc:0.889151\ttrain-auc:0.937219\n",
      "[123]\teval-auc:0.889052\ttrain-auc:0.937604\n",
      "[124]\teval-auc:0.889345\ttrain-auc:0.937983\n",
      "[125]\teval-auc:0.889119\ttrain-auc:0.938483\n",
      "[126]\teval-auc:0.889161\ttrain-auc:0.938722\n",
      "[127]\teval-auc:0.889758\ttrain-auc:0.939259\n",
      "[128]\teval-auc:0.890045\ttrain-auc:0.939798\n",
      "[129]\teval-auc:0.889880\ttrain-auc:0.940063\n",
      "[130]\teval-auc:0.889885\ttrain-auc:0.940407\n",
      "[131]\teval-auc:0.890117\ttrain-auc:0.940611\n",
      "[132]\teval-auc:0.890249\ttrain-auc:0.940855\n",
      "[133]\teval-auc:0.890150\ttrain-auc:0.941241\n",
      "[134]\teval-auc:0.890390\ttrain-auc:0.941538\n",
      "[135]\teval-auc:0.890638\ttrain-auc:0.941816\n",
      "[136]\teval-auc:0.890702\ttrain-auc:0.942238\n",
      "[137]\teval-auc:0.890892\ttrain-auc:0.942655\n",
      "[138]\teval-auc:0.890886\ttrain-auc:0.943106\n",
      "[139]\teval-auc:0.891123\ttrain-auc:0.943426\n",
      "[140]\teval-auc:0.891384\ttrain-auc:0.943769\n",
      "[141]\teval-auc:0.891089\ttrain-auc:0.944060\n",
      "[142]\teval-auc:0.891035\ttrain-auc:0.944318\n",
      "[143]\teval-auc:0.891144\ttrain-auc:0.944687\n",
      "[144]\teval-auc:0.891393\ttrain-auc:0.944942\n",
      "[145]\teval-auc:0.891436\ttrain-auc:0.945318\n",
      "[146]\teval-auc:0.891457\ttrain-auc:0.945719\n",
      "[147]\teval-auc:0.892256\ttrain-auc:0.946579\n",
      "[148]\teval-auc:0.892204\ttrain-auc:0.946970\n",
      "[149]\teval-auc:0.892486\ttrain-auc:0.947402\n",
      "[150]\teval-auc:0.892582\ttrain-auc:0.947698\n",
      "[151]\teval-auc:0.892459\ttrain-auc:0.948048\n",
      "[152]\teval-auc:0.892500\ttrain-auc:0.948430\n",
      "[153]\teval-auc:0.893021\ttrain-auc:0.948871\n",
      "[154]\teval-auc:0.892937\ttrain-auc:0.949357\n",
      "[155]\teval-auc:0.893040\ttrain-auc:0.949730\n",
      "[156]\teval-auc:0.893281\ttrain-auc:0.949972\n",
      "[157]\teval-auc:0.893396\ttrain-auc:0.950165\n",
      "[158]\teval-auc:0.893663\ttrain-auc:0.950571\n",
      "[159]\teval-auc:0.893753\ttrain-auc:0.950857\n",
      "[160]\teval-auc:0.893734\ttrain-auc:0.951056\n",
      "[161]\teval-auc:0.894040\ttrain-auc:0.951474\n",
      "[162]\teval-auc:0.894041\ttrain-auc:0.951747\n",
      "[163]\teval-auc:0.894353\ttrain-auc:0.952132\n",
      "[164]\teval-auc:0.894589\ttrain-auc:0.952400\n",
      "[165]\teval-auc:0.894634\ttrain-auc:0.952563\n",
      "[166]\teval-auc:0.894801\ttrain-auc:0.952735\n",
      "[167]\teval-auc:0.894923\ttrain-auc:0.953098\n",
      "[168]\teval-auc:0.894854\ttrain-auc:0.953350\n",
      "[169]\teval-auc:0.895019\ttrain-auc:0.953560\n",
      "[170]\teval-auc:0.894909\ttrain-auc:0.953810\n",
      "[171]\teval-auc:0.894746\ttrain-auc:0.954110\n",
      "[172]\teval-auc:0.895151\ttrain-auc:0.954387\n",
      "[173]\teval-auc:0.895174\ttrain-auc:0.954692\n",
      "[174]\teval-auc:0.895075\ttrain-auc:0.955205\n",
      "[175]\teval-auc:0.895396\ttrain-auc:0.955518\n",
      "[176]\teval-auc:0.895454\ttrain-auc:0.955746\n",
      "[177]\teval-auc:0.895347\ttrain-auc:0.956129\n",
      "[178]\teval-auc:0.895313\ttrain-auc:0.956468\n",
      "[179]\teval-auc:0.895539\ttrain-auc:0.956790\n",
      "[180]\teval-auc:0.895784\ttrain-auc:0.956991\n",
      "[181]\teval-auc:0.895712\ttrain-auc:0.957371\n",
      "[182]\teval-auc:0.895732\ttrain-auc:0.957596\n",
      "[183]\teval-auc:0.895875\ttrain-auc:0.957878\n",
      "[184]\teval-auc:0.896082\ttrain-auc:0.958116\n",
      "[185]\teval-auc:0.896244\ttrain-auc:0.958304\n",
      "[186]\teval-auc:0.896204\ttrain-auc:0.958607\n",
      "[187]\teval-auc:0.896253\ttrain-auc:0.958789\n",
      "[188]\teval-auc:0.895923\ttrain-auc:0.959021\n",
      "[189]\teval-auc:0.895845\ttrain-auc:0.959333\n",
      "[190]\teval-auc:0.895844\ttrain-auc:0.959468\n",
      "[191]\teval-auc:0.895674\ttrain-auc:0.959651\n",
      "[192]\teval-auc:0.895840\ttrain-auc:0.959881\n",
      "[193]\teval-auc:0.896136\ttrain-auc:0.960189\n",
      "[194]\teval-auc:0.895841\ttrain-auc:0.960527\n",
      "[195]\teval-auc:0.895783\ttrain-auc:0.960656\n",
      "[196]\teval-auc:0.896103\ttrain-auc:0.960818\n",
      "[197]\teval-auc:0.896416\ttrain-auc:0.960969\n",
      "[198]\teval-auc:0.896483\ttrain-auc:0.961184\n",
      "[199]\teval-auc:0.896439\ttrain-auc:0.961565\n",
      "[200]\teval-auc:0.896398\ttrain-auc:0.961815\n",
      "[201]\teval-auc:0.896602\ttrain-auc:0.961951\n",
      "[202]\teval-auc:0.896703\ttrain-auc:0.962106\n",
      "[203]\teval-auc:0.896856\ttrain-auc:0.962370\n",
      "[204]\teval-auc:0.896616\ttrain-auc:0.962757\n",
      "[205]\teval-auc:0.896720\ttrain-auc:0.962970\n",
      "[206]\teval-auc:0.897016\ttrain-auc:0.963195\n",
      "[207]\teval-auc:0.897153\ttrain-auc:0.963466\n",
      "[208]\teval-auc:0.897274\ttrain-auc:0.963583\n",
      "[209]\teval-auc:0.897383\ttrain-auc:0.963794\n",
      "[210]\teval-auc:0.897219\ttrain-auc:0.963982\n",
      "[211]\teval-auc:0.897301\ttrain-auc:0.964154\n",
      "[212]\teval-auc:0.897444\ttrain-auc:0.964228\n",
      "[213]\teval-auc:0.897429\ttrain-auc:0.964341\n",
      "[214]\teval-auc:0.897526\ttrain-auc:0.964428\n",
      "[215]\teval-auc:0.897909\ttrain-auc:0.964813\n",
      "[216]\teval-auc:0.897942\ttrain-auc:0.965001\n",
      "[217]\teval-auc:0.898279\ttrain-auc:0.965122\n",
      "[218]\teval-auc:0.898131\ttrain-auc:0.965236\n",
      "[219]\teval-auc:0.898313\ttrain-auc:0.965422\n",
      "[220]\teval-auc:0.898282\ttrain-auc:0.965594\n",
      "[221]\teval-auc:0.898333\ttrain-auc:0.965742\n",
      "[222]\teval-auc:0.898509\ttrain-auc:0.965921\n",
      "[223]\teval-auc:0.898534\ttrain-auc:0.966073\n",
      "[224]\teval-auc:0.898580\ttrain-auc:0.966190\n",
      "[225]\teval-auc:0.898797\ttrain-auc:0.966369\n",
      "[226]\teval-auc:0.898707\ttrain-auc:0.966523\n",
      "[227]\teval-auc:0.898876\ttrain-auc:0.966727\n",
      "[228]\teval-auc:0.898801\ttrain-auc:0.966939\n",
      "[229]\teval-auc:0.898974\ttrain-auc:0.967078\n",
      "[230]\teval-auc:0.898947\ttrain-auc:0.967318\n",
      "[231]\teval-auc:0.898983\ttrain-auc:0.967526\n",
      "[232]\teval-auc:0.898829\ttrain-auc:0.967713\n",
      "[233]\teval-auc:0.898861\ttrain-auc:0.967861\n",
      "[234]\teval-auc:0.898912\ttrain-auc:0.968053\n"
     ]
    },
    {
     "ename": "KeyboardInterrupt",
     "evalue": "",
     "output_type": "error",
     "traceback": [
      "\u001b[1;31m---------------------------------------------------------------------------\u001b[0m",
      "\u001b[1;31mKeyboardInterrupt\u001b[0m                         Traceback (most recent call last)",
      "\u001b[1;32m<ipython-input-253-ddcc2b2e92a0>\u001b[0m in \u001b[0;36m<module>\u001b[1;34m()\u001b[0m\n\u001b[1;32m----> 1\u001b[1;33m \u001b[0mbst\u001b[0m \u001b[1;33m=\u001b[0m \u001b[0mxgb\u001b[0m\u001b[1;33m.\u001b[0m\u001b[0mtrain\u001b[0m\u001b[1;33m(\u001b[0m\u001b[0mparam\u001b[0m\u001b[1;33m,\u001b[0m \u001b[0mdtrain\u001b[0m\u001b[1;33m,\u001b[0m \u001b[0mnum_round\u001b[0m\u001b[1;33m,\u001b[0m \u001b[0mwatchlist\u001b[0m\u001b[1;33m)\u001b[0m\u001b[1;33m\u001b[0m\u001b[0m\n\u001b[0m\u001b[0;32m      2\u001b[0m \u001b[1;32mprint\u001b[0m\u001b[1;33m(\u001b[0m\u001b[0mdatetime\u001b[0m\u001b[1;33m.\u001b[0m\u001b[0mdatetime\u001b[0m\u001b[1;33m.\u001b[0m\u001b[0mnow\u001b[0m\u001b[1;33m(\u001b[0m\u001b[1;33m)\u001b[0m\u001b[1;33m)\u001b[0m\u001b[1;33m\u001b[0m\u001b[0m\n",
      "\u001b[1;32m/usr/local/lib/python2.7/site-packages/xgboost/training.pyc\u001b[0m in \u001b[0;36mtrain\u001b[1;34m(params, dtrain, num_boost_round, evals, obj, feval, early_stopping_rounds, evals_result, verbose_eval)\u001b[0m\n\u001b[0;32m     60\u001b[0m     \u001b[1;32mif\u001b[0m \u001b[1;32mnot\u001b[0m \u001b[0mearly_stopping_rounds\u001b[0m\u001b[1;33m:\u001b[0m\u001b[1;33m\u001b[0m\u001b[0m\n\u001b[0;32m     61\u001b[0m         \u001b[1;32mfor\u001b[0m \u001b[0mi\u001b[0m \u001b[1;32min\u001b[0m \u001b[0mrange\u001b[0m\u001b[1;33m(\u001b[0m\u001b[0mnum_boost_round\u001b[0m\u001b[1;33m)\u001b[0m\u001b[1;33m:\u001b[0m\u001b[1;33m\u001b[0m\u001b[0m\n\u001b[1;32m---> 62\u001b[1;33m             \u001b[0mbst\u001b[0m\u001b[1;33m.\u001b[0m\u001b[0mupdate\u001b[0m\u001b[1;33m(\u001b[0m\u001b[0mdtrain\u001b[0m\u001b[1;33m,\u001b[0m \u001b[0mi\u001b[0m\u001b[1;33m,\u001b[0m \u001b[0mobj\u001b[0m\u001b[1;33m)\u001b[0m\u001b[1;33m\u001b[0m\u001b[0m\n\u001b[0m\u001b[0;32m     63\u001b[0m             \u001b[1;32mif\u001b[0m \u001b[0mlen\u001b[0m\u001b[1;33m(\u001b[0m\u001b[0mevals\u001b[0m\u001b[1;33m)\u001b[0m \u001b[1;33m!=\u001b[0m \u001b[1;36m0\u001b[0m\u001b[1;33m:\u001b[0m\u001b[1;33m\u001b[0m\u001b[0m\n\u001b[0;32m     64\u001b[0m                 \u001b[0mbst_eval_set\u001b[0m \u001b[1;33m=\u001b[0m \u001b[0mbst\u001b[0m\u001b[1;33m.\u001b[0m\u001b[0meval_set\u001b[0m\u001b[1;33m(\u001b[0m\u001b[0mevals\u001b[0m\u001b[1;33m,\u001b[0m \u001b[0mi\u001b[0m\u001b[1;33m,\u001b[0m \u001b[0mfeval\u001b[0m\u001b[1;33m)\u001b[0m\u001b[1;33m\u001b[0m\u001b[0m\n",
      "\u001b[1;32m/usr/local/lib/python2.7/site-packages/xgboost/core.pyc\u001b[0m in \u001b[0;36mupdate\u001b[1;34m(self, dtrain, iteration, fobj)\u001b[0m\n\u001b[0;32m    521\u001b[0m             \u001b[1;32mraise\u001b[0m \u001b[0mTypeError\u001b[0m\u001b[1;33m(\u001b[0m\u001b[1;34m'invalid training matrix: {}'\u001b[0m\u001b[1;33m.\u001b[0m\u001b[0mformat\u001b[0m\u001b[1;33m(\u001b[0m\u001b[0mtype\u001b[0m\u001b[1;33m(\u001b[0m\u001b[0mdtrain\u001b[0m\u001b[1;33m)\u001b[0m\u001b[1;33m.\u001b[0m\u001b[0m__name__\u001b[0m\u001b[1;33m)\u001b[0m\u001b[1;33m)\u001b[0m\u001b[1;33m\u001b[0m\u001b[0m\n\u001b[0;32m    522\u001b[0m         \u001b[1;32mif\u001b[0m \u001b[0mfobj\u001b[0m \u001b[1;32mis\u001b[0m \u001b[0mNone\u001b[0m\u001b[1;33m:\u001b[0m\u001b[1;33m\u001b[0m\u001b[0m\n\u001b[1;32m--> 523\u001b[1;33m             \u001b[0m_check_call\u001b[0m\u001b[1;33m(\u001b[0m\u001b[0m_LIB\u001b[0m\u001b[1;33m.\u001b[0m\u001b[0mXGBoosterUpdateOneIter\u001b[0m\u001b[1;33m(\u001b[0m\u001b[0mself\u001b[0m\u001b[1;33m.\u001b[0m\u001b[0mhandle\u001b[0m\u001b[1;33m,\u001b[0m \u001b[0miteration\u001b[0m\u001b[1;33m,\u001b[0m \u001b[0mdtrain\u001b[0m\u001b[1;33m.\u001b[0m\u001b[0mhandle\u001b[0m\u001b[1;33m)\u001b[0m\u001b[1;33m)\u001b[0m\u001b[1;33m\u001b[0m\u001b[0m\n\u001b[0m\u001b[0;32m    524\u001b[0m         \u001b[1;32melse\u001b[0m\u001b[1;33m:\u001b[0m\u001b[1;33m\u001b[0m\u001b[0m\n\u001b[0;32m    525\u001b[0m             \u001b[0mpred\u001b[0m \u001b[1;33m=\u001b[0m \u001b[0mself\u001b[0m\u001b[1;33m.\u001b[0m\u001b[0mpredict\u001b[0m\u001b[1;33m(\u001b[0m\u001b[0mdtrain\u001b[0m\u001b[1;33m)\u001b[0m\u001b[1;33m\u001b[0m\u001b[0m\n",
      "\u001b[1;31mKeyboardInterrupt\u001b[0m: "
     ]
    }
   ],
   "source": [
    "bst = xgb.train(param, dtrain, num_round, watchlist)\n",
    "print(datetime.datetime.now())"
   ]
  },
  {
   "cell_type": "code",
   "execution_count": 193,
   "metadata": {
    "collapsed": true
   },
   "outputs": [],
   "source": [
    "bst.predict?\n",
    "#preds = bst.predict(dtest, ntree_limit=bst.best_iteration)\n"
   ]
  },
  {
   "cell_type": "code",
   "execution_count": null,
   "metadata": {
    "collapsed": true
   },
   "outputs": [],
   "source": []
  },
  {
   "cell_type": "code",
   "execution_count": 257,
   "metadata": {
    "collapsed": false
   },
   "outputs": [
    {
     "name": "stdout",
     "output_type": "stream",
     "text": [
      "Object `dtrain.buffer` not found.\n"
     ]
    }
   ],
   "source": [
    "dtrain."
   ]
  },
  {
   "cell_type": "code",
   "execution_count": 187,
   "metadata": {
    "collapsed": true
   },
   "outputs": [],
   "source": [
    "#xgb.plot_importance(bst)\n",
    "#dtrain.save_binary('dtrain.buffer')\n",
    "#dtest.save_binary('dtest.buffer')"
   ]
  },
  {
   "cell_type": "code",
   "execution_count": 133,
   "metadata": {
    "collapsed": true
   },
   "outputs": [],
   "source": [
    "RandomForestClassifier?"
   ]
  },
  {
   "cell_type": "code",
   "execution_count": 84,
   "metadata": {
    "collapsed": false
   },
   "outputs": [
    {
     "data": {
      "text/plain": [
       "RandomForestClassifier(bootstrap=True, class_weight=None, criterion='gini',\n",
       "            max_depth=None, max_features='auto', max_leaf_nodes=None,\n",
       "            min_samples_leaf=1, min_samples_split=2,\n",
       "            min_weight_fraction_leaf=0.0, n_estimators=100, n_jobs=-1,\n",
       "            oob_score=False, random_state=0, verbose=0, warm_start=False)"
      ]
     },
     "execution_count": 84,
     "metadata": {},
     "output_type": "execute_result"
    }
   ],
   "source": [
    "from sklearn.ensemble import RandomForestClassifier\n",
    "clf = RandomForestClassifier(n_estimators=100, n_jobs=-1, random_state=0)\n",
    "clf.fit(DF_TRAIN, TRAIN['sponsored'])"
   ]
  },
  {
   "cell_type": "code",
   "execution_count": 85,
   "metadata": {
    "collapsed": true
   },
   "outputs": [],
   "source": [
    "predictions = clf.predict_proba(DF_CV)[:, 1]"
   ]
  },
  {
   "cell_type": "code",
   "execution_count": 86,
   "metadata": {
    "collapsed": false
   },
   "outputs": [
    {
     "data": {
      "text/plain": [
       "0.85235548381450854"
      ]
     },
     "execution_count": 86,
     "metadata": {},
     "output_type": "execute_result"
    }
   ],
   "source": [
    "roc_auc_score(CV['sponsored'], predictions)"
   ]
  },
  {
   "cell_type": "code",
   "execution_count": 90,
   "metadata": {
    "collapsed": true
   },
   "outputs": [],
   "source": [
    "count_vect = CountVectorizer()\n",
    "TRAIN_counts = count_vect.fit_transform(TRAIN['text'])\n",
    "CV_counts = count_vect.fit_transform(CV['text'])\n",
    "\n",
    "tfidf_transformer = TfidfTransformer()\n",
    "TRAIN_tfidf = tfidf_transformer.fit_transform(TRAIN_counts)\n",
    "CV_tfidf = tfidf_transformer.fit_transform(CV_counts)"
   ]
  },
  {
   "cell_type": "code",
   "execution_count": 96,
   "metadata": {
    "collapsed": true
   },
   "outputs": [],
   "source": [
    "tfidf_transformer.transform?"
   ]
  },
  {
   "cell_type": "code",
   "execution_count": 97,
   "metadata": {
    "collapsed": true
   },
   "outputs": [],
   "source": [
    "TfidfTransformer?"
   ]
  },
  {
   "cell_type": "code",
   "execution_count": 98,
   "metadata": {
    "collapsed": true
   },
   "outputs": [],
   "source": [
    "CountVectorizer?"
   ]
  },
  {
   "cell_type": "code",
   "execution_count": 94,
   "metadata": {
    "collapsed": false
   },
   "outputs": [
    {
     "data": {
      "text/plain": [
       "(33702, 545537)"
      ]
     },
     "execution_count": 94,
     "metadata": {},
     "output_type": "execute_result"
    }
   ],
   "source": [
    "TRAIN_tfidf.shape"
   ]
  },
  {
   "cell_type": "code",
   "execution_count": 91,
   "metadata": {
    "collapsed": false
   },
   "outputs": [
    {
     "ename": "TypeError",
     "evalue": "cannot concatenate a non-NDFrame object",
     "output_type": "error",
     "traceback": [
      "\u001b[1;31m---------------------------------------------------------------------------\u001b[0m",
      "\u001b[1;31mTypeError\u001b[0m                                 Traceback (most recent call last)",
      "\u001b[1;32m<ipython-input-91-66bc776640cd>\u001b[0m in \u001b[0;36m<module>\u001b[1;34m()\u001b[0m\n\u001b[1;32m----> 1\u001b[1;33m \u001b[0mDF_DF_TRAIN\u001b[0m \u001b[1;33m=\u001b[0m \u001b[0mpd\u001b[0m\u001b[1;33m.\u001b[0m\u001b[0mconcat\u001b[0m\u001b[1;33m(\u001b[0m\u001b[1;33m[\u001b[0m\u001b[0mDF_TRAIN\u001b[0m\u001b[1;33m,\u001b[0m \u001b[0mTRAIN_tfidf\u001b[0m\u001b[1;33m]\u001b[0m\u001b[1;33m,\u001b[0m \u001b[0maxis\u001b[0m\u001b[1;33m=\u001b[0m\u001b[1;36m1\u001b[0m\u001b[1;33m,\u001b[0m \u001b[0mignore_index\u001b[0m\u001b[1;33m=\u001b[0m\u001b[0mTrue\u001b[0m\u001b[1;33m)\u001b[0m\u001b[1;33m\u001b[0m\u001b[0m\n\u001b[0m\u001b[0;32m      2\u001b[0m \u001b[0mDF_DF_CV\u001b[0m \u001b[1;33m=\u001b[0m \u001b[0mpd\u001b[0m\u001b[1;33m.\u001b[0m\u001b[0mconcat\u001b[0m\u001b[1;33m(\u001b[0m\u001b[1;33m[\u001b[0m\u001b[0mDF_CV\u001b[0m\u001b[1;33m,\u001b[0m \u001b[0mCV_tfidf\u001b[0m\u001b[1;33m]\u001b[0m\u001b[1;33m,\u001b[0m \u001b[0maxis\u001b[0m\u001b[1;33m=\u001b[0m\u001b[1;36m1\u001b[0m\u001b[1;33m,\u001b[0m \u001b[0mignore_index\u001b[0m\u001b[1;33m=\u001b[0m\u001b[0mTrue\u001b[0m\u001b[1;33m)\u001b[0m\u001b[1;33m\u001b[0m\u001b[0m\n",
      "\u001b[1;32m/usr/local/lib64/python2.7/site-packages/pandas/tools/merge.pyc\u001b[0m in \u001b[0;36mconcat\u001b[1;34m(objs, axis, join, join_axes, ignore_index, keys, levels, names, verify_integrity, copy)\u001b[0m\n\u001b[0;32m    752\u001b[0m                        \u001b[0mkeys\u001b[0m\u001b[1;33m=\u001b[0m\u001b[0mkeys\u001b[0m\u001b[1;33m,\u001b[0m \u001b[0mlevels\u001b[0m\u001b[1;33m=\u001b[0m\u001b[0mlevels\u001b[0m\u001b[1;33m,\u001b[0m \u001b[0mnames\u001b[0m\u001b[1;33m=\u001b[0m\u001b[0mnames\u001b[0m\u001b[1;33m,\u001b[0m\u001b[1;33m\u001b[0m\u001b[0m\n\u001b[0;32m    753\u001b[0m                        \u001b[0mverify_integrity\u001b[0m\u001b[1;33m=\u001b[0m\u001b[0mverify_integrity\u001b[0m\u001b[1;33m,\u001b[0m\u001b[1;33m\u001b[0m\u001b[0m\n\u001b[1;32m--> 754\u001b[1;33m                        copy=copy)\n\u001b[0m\u001b[0;32m    755\u001b[0m     \u001b[1;32mreturn\u001b[0m \u001b[0mop\u001b[0m\u001b[1;33m.\u001b[0m\u001b[0mget_result\u001b[0m\u001b[1;33m(\u001b[0m\u001b[1;33m)\u001b[0m\u001b[1;33m\u001b[0m\u001b[0m\n\u001b[0;32m    756\u001b[0m \u001b[1;33m\u001b[0m\u001b[0m\n",
      "\u001b[1;32m/usr/local/lib64/python2.7/site-packages/pandas/tools/merge.pyc\u001b[0m in \u001b[0;36m__init__\u001b[1;34m(self, objs, axis, join, join_axes, keys, levels, names, ignore_index, verify_integrity, copy)\u001b[0m\n\u001b[0;32m    803\u001b[0m         \u001b[1;32mfor\u001b[0m \u001b[0mobj\u001b[0m \u001b[1;32min\u001b[0m \u001b[0mobjs\u001b[0m\u001b[1;33m:\u001b[0m\u001b[1;33m\u001b[0m\u001b[0m\n\u001b[0;32m    804\u001b[0m             \u001b[1;32mif\u001b[0m \u001b[1;32mnot\u001b[0m \u001b[0misinstance\u001b[0m\u001b[1;33m(\u001b[0m\u001b[0mobj\u001b[0m\u001b[1;33m,\u001b[0m \u001b[0mNDFrame\u001b[0m\u001b[1;33m)\u001b[0m\u001b[1;33m:\u001b[0m\u001b[1;33m\u001b[0m\u001b[0m\n\u001b[1;32m--> 805\u001b[1;33m                 \u001b[1;32mraise\u001b[0m \u001b[0mTypeError\u001b[0m\u001b[1;33m(\u001b[0m\u001b[1;34m\"cannot concatenate a non-NDFrame object\"\u001b[0m\u001b[1;33m)\u001b[0m\u001b[1;33m\u001b[0m\u001b[0m\n\u001b[0m\u001b[0;32m    806\u001b[0m \u001b[1;33m\u001b[0m\u001b[0m\n\u001b[0;32m    807\u001b[0m             \u001b[1;31m# consolidate\u001b[0m\u001b[1;33m\u001b[0m\u001b[1;33m\u001b[0m\u001b[0m\n",
      "\u001b[1;31mTypeError\u001b[0m: cannot concatenate a non-NDFrame object"
     ]
    }
   ],
   "source": [
    "DF_DF_TRAIN = pd.concat([DF_TRAIN, TRAIN_tfidf], axis=1, ignore_index=True)\n",
    "DF_DF_CV = pd.concat([DF_CV, CV_tfidf], axis=1, ignore_index=True)"
   ]
  },
  {
   "cell_type": "code",
   "execution_count": 88,
   "metadata": {
    "collapsed": false
   },
   "outputs": [
    {
     "data": {
      "text/plain": [
       "Index([u'num_words', u'a_href', u'par', u'title', u'img', u'btn', u'input',\n",
       "       u'li', u'link', u'meta', u'script_avg', u'script_b_avg', u'script_cnt',\n",
       "       u'script_b_cnt', u'style_avg', u'style_cnt', u'word_set_size',\n",
       "       u'word_set_size_ratio', u'word_set_size2', u'word_set_size2_ratio',\n",
       "       u'shinn.braces', u'shinn.brackets', u'shinn.cheap', u'shinn.col',\n",
       "       u'shinn.commas', u'shinn.get', u'shinn.length', u'shinn.lines',\n",
       "       u'shinn.parens', u'shinn.periods', u'shinn.sale', u'shinn.semi',\n",
       "       u'shinn.shop', u'shinn.spaces', u'shinn.tabs', u'shinn.uppers',\n",
       "       u'shinn.words', u'shinn.you'],\n",
       "      dtype='object')"
      ]
     },
     "execution_count": 88,
     "metadata": {},
     "output_type": "execute_result"
    }
   ],
   "source": [
    "DF_TRAIN.shape, TRAIN_tfidf.shape, CV_tfidf.shape, DF_DF_TRAIN.shape, DF_DF_CV.shape"
   ]
  },
  {
   "cell_type": "code",
   "execution_count": null,
   "metadata": {
    "collapsed": true
   },
   "outputs": [],
   "source": [
    "submission = test[['file']].reset_index(drop=True)\n",
    "submission['sponsored'] = clf.predict_proba(test.drop(['file', 'sponsored'], 1))[:, 1]"
   ]
  },
  {
   "cell_type": "code",
   "execution_count": 42,
   "metadata": {
    "collapsed": true
   },
   "outputs": [],
   "source": [
    "from sklearn.naive_bayes import MultinomialNB\n",
    "clf = MultinomialNB().fit(TRAIN_tfidf, TRAIN['sponsored'])"
   ]
  },
  {
   "cell_type": "code",
   "execution_count": null,
   "metadata": {
    "collapsed": true
   },
   "outputs": [],
   "source": [
    "from sklearn.pipeline import Pipeline\n",
    "text_clf = Pipeline([('vect', CountVectorizer()), ('tfidf', TfidfTransformer()), ('clf', MultinomialNB())])\n",
    "predicted = text_clf.predict(docs_test)"
   ]
  },
  {
   "cell_type": "code",
   "execution_count": null,
   "metadata": {
    "collapsed": true
   },
   "outputs": [],
   "source": [
    "X_new_counts = count_vect.transform(CV['text'])\n",
    "X_new_tfidf = tfidf_transformer.transform(X_new_counts)"
   ]
  },
  {
   "cell_type": "code",
   "execution_count": 65,
   "metadata": {
    "collapsed": false
   },
   "outputs": [],
   "source": [
    "predicted = clf.predict_proba(X_new_tfidf)[:, 1]\n",
    "#np.mean(predicted == CV['sponsored'])       "
   ]
  },
  {
   "cell_type": "code",
   "execution_count": 66,
   "metadata": {
    "collapsed": false
   },
   "outputs": [
    {
     "data": {
      "text/plain": [
       "0.51081647721840828"
      ]
     },
     "execution_count": 66,
     "metadata": {},
     "output_type": "execute_result"
    }
   ],
   "source": [
    "from sklearn.metrics import roc_auc_score\n",
    "roc_auc_score(CV['sponsored'], predicted)"
   ]
  },
  {
   "cell_type": "code",
   "execution_count": 56,
   "metadata": {
    "collapsed": true
   },
   "outputs": [],
   "source": [
    "from sklearn.pipeline import Pipeline\n",
    "from sklearn.linear_model import SGDClassifier\n",
    "text_clf = Pipeline([('vect', CountVectorizer()),\n",
    "                     ('tfidf', TfidfTransformer()),\n",
    "                     ('clf', SGDClassifier(loss='squared_loss', penalty='l2', alpha=1e-3, n_iter=5, random_state=42))])\n",
    "_ = text_clf.fit(TRAIN['text'], TRAIN['sponsored'])"
   ]
  },
  {
   "cell_type": "code",
   "execution_count": 58,
   "metadata": {
    "collapsed": false
   },
   "outputs": [
    {
     "ename": "SyntaxError",
     "evalue": "invalid syntax (<ipython-input-58-4b815ce93677>, line 1)",
     "output_type": "error",
     "traceback": [
      "\u001b[1;36m  File \u001b[1;32m\"<ipython-input-58-4b815ce93677>\"\u001b[1;36m, line \u001b[1;32m1\u001b[0m\n\u001b[1;33m    predicted = text_clf.predict_proba? # (CV['text'])[:, 1]\u001b[0m\n\u001b[1;37m                                      ^\u001b[0m\n\u001b[1;31mSyntaxError\u001b[0m\u001b[1;31m:\u001b[0m invalid syntax\n"
     ]
    }
   ],
   "source": [
    "predicted = text_clf.predict_proba? # (CV['text'])[:, 1]\n",
    "np.mean(predicted == CV['sponsored'])          "
   ]
  },
  {
   "cell_type": "code",
   "execution_count": 61,
   "metadata": {
    "collapsed": false
   },
   "outputs": [],
   "source": [
    "clf.predict_proba?"
   ]
  },
  {
   "cell_type": "code",
   "execution_count": 53,
   "metadata": {
    "collapsed": false
   },
   "outputs": [
    {
     "data": {
      "text/plain": [
       "0.5"
      ]
     },
     "execution_count": 53,
     "metadata": {},
     "output_type": "execute_result"
    }
   ],
   "source": [
    "from sklearn.metrics import roc_auc_score\n",
    "roc_auc_score(CV['sponsored'], predicted)"
   ]
  },
  {
   "cell_type": "code",
   "execution_count": 49,
   "metadata": {
    "collapsed": false
   },
   "outputs": [
    {
     "name": "stdout",
     "output_type": "stream",
     "text": [
      "'God is love' => 0\n",
      "'OpenGL on the GPU is fast' => 0\n",
      "'shop account support view from captain clark toll free sinc product sold europ union must' => 0\n"
     ]
    }
   ],
   "source": [
    "docs_new = ['God is love', 'OpenGL on the GPU is fast', 'shop account support view from captain clark toll free sinc product sold europ union must']\n",
    "X_new_counts = count_vect.transform(docs_new)\n",
    "X_new_tfidf = tfidf_transformer.transform(X_new_counts)\n",
    "\n",
    "predicted = clf.predict(X_new_tfidf)\n",
    "\n",
    "for doc, category in zip(docs_new, predicted):\n",
    "    print('%r => %s' % (doc, str(category)))"
   ]
  }
 ],
 "metadata": {
  "kernelspec": {
   "display_name": "Python 2",
   "language": "python",
   "name": "python2"
  },
  "language_info": {
   "codemirror_mode": {
    "name": "ipython",
    "version": 2
   },
   "file_extension": ".py",
   "mimetype": "text/x-python",
   "name": "python",
   "nbconvert_exporter": "python",
   "pygments_lexer": "ipython2",
   "version": "2.7.9"
  }
 },
 "nbformat": 4,
 "nbformat_minor": 0
}
