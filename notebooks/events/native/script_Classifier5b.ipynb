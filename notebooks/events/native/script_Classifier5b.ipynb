{
 "cells": [
  {
   "cell_type": "code",
   "execution_count": 1,
   "metadata": {
    "collapsed": false
   },
   "outputs": [
    {
     "name": "stderr",
     "output_type": "stream",
     "text": [
      "[WARNING] This Python session does not appear to be running in an interactive IPython Notebook. Use of the 'ipynb' target may behave unexpectedly or result in errors.\n"
     ]
    }
   ],
   "source": [
    "%matplotlib inline\n",
    "\n",
    "import matplotlib\n",
    "import numpy as np\n",
    "import matplotlib.pyplot as plt\n",
    "import pandas as pd\n",
    "import re\n",
    "import graphlab as gl\n",
    "from graphlab.toolkits.feature_engineering import TFIDF, FeatureHasher, QuadraticFeatures\n",
    "\n",
    "gl.canvas.set_target('ipynb')\n",
    "\n",
    "PATH_TO_JSON2 = \"docs_prod_02/\"\n",
    "PATH_TO_JSON = \"docs_prod_03/\"\n",
    "PATH_TO_TRAIN_LABELS = \"input/train.csv\"\n",
    "PATH_TO_TEST_LABELS = \"input/sampleSubmission.csv\""
   ]
  },
  {
   "cell_type": "markdown",
   "metadata": {},
   "source": [
    "### Read processed documents"
   ]
  },
  {
   "cell_type": "code",
   "execution_count": 5,
   "metadata": {
    "collapsed": false
   },
   "outputs": [],
   "source": [
    "gl.set_runtime_config('GRAPHLAB_DEFAULT_NUM_PYLAMBDA_WORKERS', 32)"
   ]
  },
  {
   "cell_type": "code",
   "execution_count": 2,
   "metadata": {
    "collapsed": false,
    "scrolled": false
   },
   "outputs": [
    {
     "name": "stderr",
     "output_type": "stream",
     "text": [
      "[INFO] This trial license of GraphLab Create is assigned to renatbek@gmail.com and will expire on October 08, 2015. Please contact trial@dato.com for licensing options or to request a free non-commercial license for personal or academic use.\n",
      "\n",
      "[INFO] Start server at: ipc:///tmp/graphlab_server-6405 - Server binary: /usr/local/lib/python2.7/site-packages/graphlab/unity_server - Server log: /tmp/graphlab_server_1442647186.log\n",
      "[INFO] GraphLab Server Version: 1.5.2\n"
     ]
    },
    {
     "name": "stdout",
     "output_type": "stream",
     "text": [
      "------------------------------------------------------\n",
      "Inferred types from first line of file as \n",
      "column_type_hints=[dict]\n",
      "If parsing fails due to incorrect types, you can correct\n",
      "the inferred type list above and pass it to read_csv in\n",
      "the column_type_hints argument\n",
      "------------------------------------------------------\n",
      "PROGRESS: Finished parsing file /mnt/data/docs_prod_03/20\n",
      "PROGRESS: Read 5681 lines. Lines per second: 25195.9\n",
      "PROGRESS: Finished parsing file /mnt/data/docs_prod_03/7\n",
      "PROGRESS: Finished parsing file /mnt/data/docs_prod_03/24\n",
      "PROGRESS: Finished parsing file /mnt/data/docs_prod_03/2\n",
      "PROGRESS: Finished parsing file /mnt/data/docs_prod_03/0\n",
      "PROGRESS: Finished parsing file /mnt/data/docs_prod_03/54\n",
      "PROGRESS: Finished parsing file /mnt/data/docs_prod_03/51\n",
      "PROGRESS: Finished parsing file /mnt/data/docs_prod_03/42\n",
      "PROGRESS: Finished parsing file /mnt/data/docs_prod_03/67\n",
      "PROGRESS: Finished parsing file /mnt/data/docs_prod_03/44\n",
      "PROGRESS: Finished parsing file /mnt/data/docs_prod_03/27\n",
      "PROGRESS: Finished parsing file /mnt/data/docs_prod_03/16\n",
      "PROGRESS: Finished parsing file /mnt/data/docs_prod_03/31\n",
      "PROGRESS: Finished parsing file /mnt/data/docs_prod_03/35\n",
      "PROGRESS: Finished parsing file /mnt/data/docs_prod_03/69\n",
      "PROGRESS: Finished parsing file /mnt/data/docs_prod_03/64\n",
      "PROGRESS: Finished parsing file /mnt/data/docs_prod_03/61\n",
      "PROGRESS: Finished parsing file /mnt/data/docs_prod_03/57\n",
      "PROGRESS: Finished parsing file /mnt/data/docs_prod_03/40\n",
      "PROGRESS: Finished parsing file /mnt/data/docs_prod_03/55\n",
      "PROGRESS: Finished parsing file /mnt/data/docs_prod_03/53\n",
      "PROGRESS: Finished parsing file /mnt/data/docs_prod_03/4\n",
      "PROGRESS: Finished parsing file /mnt/data/docs_prod_03/34\n",
      "PROGRESS: Finished parsing file /mnt/data/docs_prod_03/41\n",
      "PROGRESS: Finished parsing file /mnt/data/docs_prod_03/38\n",
      "PROGRESS: Finished parsing file /mnt/data/docs_prod_03/33\n",
      "PROGRESS: Finished parsing file /mnt/data/docs_prod_03/28\n",
      "PROGRESS: Finished parsing file /mnt/data/docs_prod_03/52\n",
      "PROGRESS: Read 159170 lines. Lines per second: 29988.1\n",
      "PROGRESS: Finished parsing file /mnt/data/docs_prod_03/12\n",
      "PROGRESS: Finished parsing file /mnt/data/docs_prod_03/13\n",
      "PROGRESS: Finished parsing file /mnt/data/docs_prod_03/39\n",
      "PROGRESS: Finished parsing file /mnt/data/docs_prod_03/60\n",
      "PROGRESS: Finished parsing file /mnt/data/docs_prod_03/8\n",
      "PROGRESS: Finished parsing file /mnt/data/docs_prod_03/65\n",
      "PROGRESS: Finished parsing file /mnt/data/docs_prod_03/50\n",
      "PROGRESS: Finished parsing file /mnt/data/docs_prod_03/1\n",
      "PROGRESS: Finished parsing file /mnt/data/docs_prod_03/45\n",
      "PROGRESS: Finished parsing file /mnt/data/docs_prod_03/63\n",
      "PROGRESS: Finished parsing file /mnt/data/docs_prod_03/3\n",
      "PROGRESS: Finished parsing file /mnt/data/docs_prod_03/22\n",
      "PROGRESS: Finished parsing file /mnt/data/docs_prod_03/49\n",
      "PROGRESS: Finished parsing file /mnt/data/docs_prod_03/59\n",
      "PROGRESS: Finished parsing file /mnt/data/docs_prod_03/9\n",
      "PROGRESS: Finished parsing file /mnt/data/docs_prod_03/68\n",
      "PROGRESS: Finished parsing file /mnt/data/docs_prod_03/26\n",
      "PROGRESS: Finished parsing file /mnt/data/docs_prod_03/18\n",
      "PROGRESS: Finished parsing file /mnt/data/docs_prod_03/29\n",
      "PROGRESS: Finished parsing file /mnt/data/docs_prod_03/15\n",
      "PROGRESS: Finished parsing file /mnt/data/docs_prod_03/70\n",
      "PROGRESS: Finished parsing file /mnt/data/docs_prod_03/58\n",
      "PROGRESS: Finished parsing file /mnt/data/docs_prod_03/37\n",
      "PROGRESS: Finished parsing file /mnt/data/docs_prod_03/25\n",
      "PROGRESS: Finished parsing file /mnt/data/docs_prod_03/5\n",
      "PROGRESS: Finished parsing file /mnt/data/docs_prod_03/48\n",
      "PROGRESS: Finished parsing file /mnt/data/docs_prod_03/47\n",
      "PROGRESS: Read 312641 lines. Lines per second: 30125.1\n",
      "PROGRESS: Finished parsing file /mnt/data/docs_prod_03/32\n",
      "PROGRESS: Finished parsing file /mnt/data/docs_prod_03/17\n",
      "PROGRESS: Finished parsing file /mnt/data/docs_prod_03/14\n",
      "PROGRESS: Finished parsing file /mnt/data/docs_prod_03/66\n",
      "PROGRESS: Finished parsing file /mnt/data/docs_prod_03/6\n",
      "PROGRESS: Finished parsing file /mnt/data/docs_prod_03/10\n",
      "PROGRESS: Finished parsing file /mnt/data/docs_prod_03/62\n",
      "PROGRESS: Finished parsing file /mnt/data/docs_prod_03/30\n",
      "PROGRESS: Finished parsing file /mnt/data/docs_prod_03/56\n",
      "PROGRESS: Finished parsing file /mnt/data/docs_prod_03/21\n",
      "PROGRESS: Finished parsing file /mnt/data/docs_prod_03/19\n",
      "PROGRESS: Finished parsing file /mnt/data/docs_prod_03/23\n",
      "PROGRESS: Finished parsing file /mnt/data/docs_prod_03/46\n",
      "PROGRESS: Finished parsing file /mnt/data/docs_prod_03/43\n",
      "PROGRESS: Finished parsing file /mnt/data/docs_prod_03/11\n",
      "PROGRESS: Finished parsing file /mnt/data/docs_prod_03/36\n",
      "PROGRESS: Parsing completed. Parsed 403618 lines in 13.7627 secs.\n",
      "PROGRESS: Using default 16 lambda workers.\n",
      "PROGRESS: To maximize the degree of parallelism, add the following code to the beginning of the program:\n",
      "PROGRESS: \"graphlab.set_runtime_config('GRAPHLAB_DEFAULT_NUM_PYLAMBDA_WORKERS', 32)\"\n",
      "PROGRESS: Note that increasing the degree of parallelism also increases the memory footprint.\n",
      "------------------------------------------------------\n",
      "Inferred types from first line of file as \n",
      "column_type_hints=[dict]\n",
      "If parsing fails due to incorrect types, you can correct\n",
      "the inferred type list above and pass it to read_csv in\n",
      "the column_type_hints argument\n",
      "------------------------------------------------------\n",
      "PROGRESS: Read 2300 lines. Lines per second: 6286.28\n",
      "PROGRESS: Finished parsing file /mnt/data/docs_prod_02/20\n",
      "PROGRESS: Finished parsing file /mnt/data/docs_prod_02/7\n",
      "PROGRESS: Finished parsing file /mnt/data/docs_prod_02/24\n",
      "PROGRESS: Finished parsing file /mnt/data/docs_prod_02/2\n",
      "PROGRESS: Finished parsing file /mnt/data/docs_prod_02/0\n",
      "PROGRESS: Finished parsing file /mnt/data/docs_prod_02/54\n",
      "PROGRESS: Read 42524 lines. Lines per second: 7671.29\n",
      "PROGRESS: Finished parsing file /mnt/data/docs_prod_02/51\n",
      "PROGRESS: Finished parsing file /mnt/data/docs_prod_02/42\n",
      "PROGRESS: Finished parsing file /mnt/data/docs_prod_02/44\n",
      "PROGRESS: Finished parsing file /mnt/data/docs_prod_02/27\n",
      "PROGRESS: Finished parsing file /mnt/data/docs_prod_02/16\n",
      "PROGRESS: Finished parsing file /mnt/data/docs_prod_02/31\n",
      "PROGRESS: Read 80719 lines. Lines per second: 7474.71\n",
      "PROGRESS: Finished parsing file /mnt/data/docs_prod_02/35\n",
      "PROGRESS: Finished parsing file /mnt/data/docs_prod_02/57\n",
      "PROGRESS: Finished parsing file /mnt/data/docs_prod_02/40\n",
      "PROGRESS: Finished parsing file /mnt/data/docs_prod_02/55\n",
      "PROGRESS: Finished parsing file /mnt/data/docs_prod_02/53\n",
      "PROGRESS: Read 119154 lines. Lines per second: 7152.6\n",
      "PROGRESS: Finished parsing file /mnt/data/docs_prod_02/4\n",
      "PROGRESS: Finished parsing file /mnt/data/docs_prod_02/34\n",
      "PROGRESS: Finished parsing file /mnt/data/docs_prod_02/41\n",
      "PROGRESS: Finished parsing file /mnt/data/docs_prod_02/38\n",
      "PROGRESS: Finished parsing file /mnt/data/docs_prod_02/33\n",
      "PROGRESS: Finished parsing file /mnt/data/docs_prod_02/28\n",
      "PROGRESS: Read 154741 lines. Lines per second: 7140.24\n",
      "PROGRESS: Finished parsing file /mnt/data/docs_prod_02/52\n",
      "PROGRESS: Finished parsing file /mnt/data/docs_prod_02/12\n",
      "PROGRESS: Finished parsing file /mnt/data/docs_prod_02/13\n",
      "PROGRESS: Finished parsing file /mnt/data/docs_prod_02/39\n",
      "PROGRESS: Finished parsing file /mnt/data/docs_prod_02/8\n",
      "PROGRESS: Read 188380 lines. Lines per second: 7042.6\n",
      "PROGRESS: Finished parsing file /mnt/data/docs_prod_02/50\n",
      "PROGRESS: Finished parsing file /mnt/data/docs_prod_02/1\n",
      "PROGRESS: Finished parsing file /mnt/data/docs_prod_02/45\n",
      "PROGRESS: Finished parsing file /mnt/data/docs_prod_02/3\n",
      "PROGRESS: Finished parsing file /mnt/data/docs_prod_02/22\n",
      "PROGRESS: Read 224363 lines. Lines per second: 7033.15\n",
      "PROGRESS: Finished parsing file /mnt/data/docs_prod_02/49\n",
      "PROGRESS: Finished parsing file /mnt/data/docs_prod_02/59\n",
      "PROGRESS: Finished parsing file /mnt/data/docs_prod_02/9\n",
      "PROGRESS: Read 244518 lines. Lines per second: 6631.07\n",
      "PROGRESS: Finished parsing file /mnt/data/docs_prod_02/26\n",
      "PROGRESS: Finished parsing file /mnt/data/docs_prod_02/18\n",
      "PROGRESS: Finished parsing file /mnt/data/docs_prod_02/29\n",
      "PROGRESS: Finished parsing file /mnt/data/docs_prod_02/15\n",
      "PROGRESS: Finished parsing file /mnt/data/docs_prod_02/58\n",
      "PROGRESS: Read 275827 lines. Lines per second: 6584.75\n",
      "PROGRESS: Finished parsing file /mnt/data/docs_prod_02/37\n",
      "PROGRESS: Finished parsing file /mnt/data/docs_prod_02/25\n",
      "PROGRESS: Finished parsing file /mnt/data/docs_prod_02/5\n",
      "PROGRESS: Finished parsing file /mnt/data/docs_prod_02/48\n",
      "PROGRESS: Finished parsing file /mnt/data/docs_prod_02/47\n",
      "PROGRESS: Read 309447 lines. Lines per second: 6594.74\n",
      "PROGRESS: Finished parsing file /mnt/data/docs_prod_02/32\n",
      "PROGRESS: Finished parsing file /mnt/data/docs_prod_02/17\n",
      "PROGRESS: Finished parsing file /mnt/data/docs_prod_02/14\n",
      "PROGRESS: Finished parsing file /mnt/data/docs_prod_02/6\n",
      "PROGRESS: Finished parsing file /mnt/data/docs_prod_02/10\n",
      "PROGRESS: Read 345521 lines. Lines per second: 6626.11\n",
      "PROGRESS: Finished parsing file /mnt/data/docs_prod_02/30\n",
      "PROGRESS: Finished parsing file /mnt/data/docs_prod_02/56\n",
      "PROGRESS: Finished parsing file /mnt/data/docs_prod_02/21\n",
      "PROGRESS: Finished parsing file /mnt/data/docs_prod_02/19\n",
      "PROGRESS: Finished parsing file /mnt/data/docs_prod_02/23\n",
      "PROGRESS: Read 379176 lines. Lines per second: 6634.7\n",
      "PROGRESS: Finished parsing file /mnt/data/docs_prod_02/46\n",
      "PROGRESS: Finished parsing file /mnt/data/docs_prod_02/43\n",
      "PROGRESS: Finished parsing file /mnt/data/docs_prod_02/11\n",
      "PROGRESS: Finished parsing file /mnt/data/docs_prod_02/36\n",
      "PROGRESS: Parsing completed. Parsed 403618 lines in 60.7375 secs.\n"
     ]
    }
   ],
   "source": [
    "# documents\n",
    "sf = gl.SFrame.read_csv(PATH_TO_JSON, header=False, verbose=False)\n",
    "sf = sf.unpack('X1',column_name_prefix='')\n",
    "sf['id'] = sf['id'].apply(lambda x: str(x.split('_')[0] ))\n",
    "\n",
    "sf2 = gl.SFrame.read_csv(PATH_TO_JSON2, header=False, verbose=False)\n",
    "sf2 = sf2.unpack('X1',column_name_prefix='')\n",
    "sf2['id'] = sf2['id'].apply(lambda x: str(x.split('_')[0] ))"
   ]
  },
  {
   "cell_type": "code",
   "execution_count": 17,
   "metadata": {
    "collapsed": false
   },
   "outputs": [],
   "source": [
    "def transf(x):\n",
    "    return 50.0 * np.log1p(np.log1p(x))\n",
    "\n",
    "sf_cnt = gl.SFrame()\n",
    "sf_cnt['id'] = sf2['id']\n",
    "\n",
    "sf_cnt['a_href'] = sf2['ahref'].apply(lambda x: transf(len(x)))\n",
    "sf_cnt['par'] = sf2['par'].apply(lambda x: transf(len(x)))\n",
    "sf_cnt['title'] = sf2['title'].apply(lambda x: transf(len(x)))\n",
    "\n",
    "sf_cnt['img'] = sf2['img_cnt'].apply(transf)\n",
    "sf_cnt['btn'] = sf2['misc_button'].apply(transf)\n",
    "sf_cnt['input'] = sf2['misc_input'].apply(transf)\n",
    "sf_cnt['li'] = sf2['misc_li'].apply(transf)\n",
    "sf_cnt['link'] = sf2['misc_link'].apply(transf)\n",
    "sf_cnt['meta'] = sf2['misc_meta'].apply(transf)\n",
    "\n",
    "sf_cnt['script_avg'] = sf2['script_avg'].apply(transf)\n",
    "sf_cnt['script_b_avg'] = sf2['script_b_avg'].apply(transf)\n",
    "sf_cnt['script_cnt'] = sf2['script_cnt'].apply(transf)\n",
    "sf_cnt['script_b_cnt'] = sf2['script_b_cnt'].apply(transf)\n",
    "\n",
    "sf_cnt['style_avg'] = sf2['style_avg'].apply(transf)\n",
    "sf_cnt['style_cnt'] = sf2['style_cnt'].apply(transf)"
   ]
  },
  {
   "cell_type": "code",
   "execution_count": 46,
   "metadata": {
    "collapsed": false
   },
   "outputs": [
    {
     "data": {
      "text/html": [
       "<div style=\"max-height:1000px;max-width:1500px;overflow:auto;\"><table frame=\"box\" rules=\"cols\">\n",
       "    <tr>\n",
       "        <th style=\"padding-left: 1em; padding-right: 1em; text-align: center\">id</th>\n",
       "        <th style=\"padding-left: 1em; padding-right: 1em; text-align: center\">a_href</th>\n",
       "        <th style=\"padding-left: 1em; padding-right: 1em; text-align: center\">par</th>\n",
       "        <th style=\"padding-left: 1em; padding-right: 1em; text-align: center\">title</th>\n",
       "        <th style=\"padding-left: 1em; padding-right: 1em; text-align: center\">img</th>\n",
       "        <th style=\"padding-left: 1em; padding-right: 1em; text-align: center\">btn</th>\n",
       "        <th style=\"padding-left: 1em; padding-right: 1em; text-align: center\">input</th>\n",
       "        <th style=\"padding-left: 1em; padding-right: 1em; text-align: center\">li</th>\n",
       "        <th style=\"padding-left: 1em; padding-right: 1em; text-align: center\">link</th>\n",
       "        <th style=\"padding-left: 1em; padding-right: 1em; text-align: center\">meta</th>\n",
       "        <th style=\"padding-left: 1em; padding-right: 1em; text-align: center\">script_avg</th>\n",
       "        <th style=\"padding-left: 1em; padding-right: 1em; text-align: center\">script_b_avg</th>\n",
       "    </tr>\n",
       "</table>\n",
       "<table frame=\"box\" rules=\"cols\">\n",
       "    <tr>\n",
       "        <th style=\"padding-left: 1em; padding-right: 1em; text-align: center\">script_cnt</th>\n",
       "        <th style=\"padding-left: 1em; padding-right: 1em; text-align: center\">script_b_cnt</th>\n",
       "        <th style=\"padding-left: 1em; padding-right: 1em; text-align: center\">style_avg</th>\n",
       "        <th style=\"padding-left: 1em; padding-right: 1em; text-align: center\">style_cnt</th>\n",
       "    </tr>\n",
       "</table>\n",
       "[0 rows x 16 columns]<br/>\n",
       "</div>"
      ],
      "text/plain": [
       "Columns:\n",
       "\tid\tstr\n",
       "\ta_href\tfloat\n",
       "\tpar\tfloat\n",
       "\ttitle\tfloat\n",
       "\timg\tfloat\n",
       "\tbtn\tfloat\n",
       "\tinput\tfloat\n",
       "\tli\tfloat\n",
       "\tlink\tfloat\n",
       "\tmeta\tfloat\n",
       "\tscript_avg\tfloat\n",
       "\tscript_b_avg\tfloat\n",
       "\tscript_cnt\tfloat\n",
       "\tscript_b_cnt\tfloat\n",
       "\tstyle_avg\tfloat\n",
       "\tstyle_cnt\tfloat\n",
       "\n",
       "Rows: 0\n",
       "\n",
       "Data:\n",
       "\t[]"
      ]
     },
     "execution_count": 46,
     "metadata": {},
     "output_type": "execute_result"
    }
   ],
   "source": [
    "sf_cnt[(sf_cnt['a_href'] == None)].head()"
   ]
  },
  {
   "cell_type": "code",
   "execution_count": 15,
   "metadata": {
    "collapsed": false
   },
   "outputs": [
    {
     "data": {
      "text/html": [
       "<div style=\"max-height:1000px;max-width:1500px;overflow:auto;\"><table frame=\"box\" rules=\"cols\">\n",
       "    <tr>\n",
       "        <th style=\"padding-left: 1em; padding-right: 1em; text-align: center\">id</th>\n",
       "        <th style=\"padding-left: 1em; padding-right: 1em; text-align: center\">a_href</th>\n",
       "        <th style=\"padding-left: 1em; padding-right: 1em; text-align: center\">img</th>\n",
       "        <th style=\"padding-left: 1em; padding-right: 1em; text-align: center\">btn</th>\n",
       "        <th style=\"padding-left: 1em; padding-right: 1em; text-align: center\">input</th>\n",
       "        <th style=\"padding-left: 1em; padding-right: 1em; text-align: center\">li</th>\n",
       "        <th style=\"padding-left: 1em; padding-right: 1em; text-align: center\">link</th>\n",
       "        <th style=\"padding-left: 1em; padding-right: 1em; text-align: center\">meta</th>\n",
       "        <th style=\"padding-left: 1em; padding-right: 1em; text-align: center\">par</th>\n",
       "        <th style=\"padding-left: 1em; padding-right: 1em; text-align: center\">script_avg</th>\n",
       "        <th style=\"padding-left: 1em; padding-right: 1em; text-align: center\">script_b_avg</th>\n",
       "        <th style=\"padding-left: 1em; padding-right: 1em; text-align: center\">script_cnt</th>\n",
       "        <th style=\"padding-left: 1em; padding-right: 1em; text-align: center\">script_b_cnt</th>\n",
       "    </tr>\n",
       "    <tr>\n",
       "        <td style=\"padding-left: 1em; padding-right: 1em; text-align: center; vertical-align: top\">2459274</td>\n",
       "        <td style=\"padding-left: 1em; padding-right: 1em; text-align: center; vertical-align: top\">123</td>\n",
       "        <td style=\"padding-left: 1em; padding-right: 1em; text-align: center; vertical-align: top\">14</td>\n",
       "        <td style=\"padding-left: 1em; padding-right: 1em; text-align: center; vertical-align: top\">16</td>\n",
       "        <td style=\"padding-left: 1em; padding-right: 1em; text-align: center; vertical-align: top\">101</td>\n",
       "        <td style=\"padding-left: 1em; padding-right: 1em; text-align: center; vertical-align: top\">107</td>\n",
       "        <td style=\"padding-left: 1em; padding-right: 1em; text-align: center; vertical-align: top\">40</td>\n",
       "        <td style=\"padding-left: 1em; padding-right: 1em; text-align: center; vertical-align: top\">54</td>\n",
       "        <td style=\"padding-left: 1em; padding-right: 1em; text-align: center; vertical-align: top\">20</td>\n",
       "        <td style=\"padding-left: 1em; padding-right: 1em; text-align: center; vertical-align: top\">1024.3</td>\n",
       "        <td style=\"padding-left: 1em; padding-right: 1em; text-align: center; vertical-align: top\">2092.0</td>\n",
       "        <td style=\"padding-left: 1em; padding-right: 1em; text-align: center; vertical-align: top\">47</td>\n",
       "        <td style=\"padding-left: 1em; padding-right: 1em; text-align: center; vertical-align: top\">23</td>\n",
       "    </tr>\n",
       "    <tr>\n",
       "        <td style=\"padding-left: 1em; padding-right: 1em; text-align: center; vertical-align: top\">2459283</td>\n",
       "        <td style=\"padding-left: 1em; padding-right: 1em; text-align: center; vertical-align: top\">82</td>\n",
       "        <td style=\"padding-left: 1em; padding-right: 1em; text-align: center; vertical-align: top\">33</td>\n",
       "        <td style=\"padding-left: 1em; padding-right: 1em; text-align: center; vertical-align: top\">0</td>\n",
       "        <td style=\"padding-left: 1em; padding-right: 1em; text-align: center; vertical-align: top\">14</td>\n",
       "        <td style=\"padding-left: 1em; padding-right: 1em; text-align: center; vertical-align: top\">45</td>\n",
       "        <td style=\"padding-left: 1em; padding-right: 1em; text-align: center; vertical-align: top\">14</td>\n",
       "        <td style=\"padding-left: 1em; padding-right: 1em; text-align: center; vertical-align: top\">3</td>\n",
       "        <td style=\"padding-left: 1em; padding-right: 1em; text-align: center; vertical-align: top\">19</td>\n",
       "        <td style=\"padding-left: 1em; padding-right: 1em; text-align: center; vertical-align: top\">63.0</td>\n",
       "        <td style=\"padding-left: 1em; padding-right: 1em; text-align: center; vertical-align: top\">373.0</td>\n",
       "        <td style=\"padding-left: 1em; padding-right: 1em; text-align: center; vertical-align: top\">6</td>\n",
       "        <td style=\"padding-left: 1em; padding-right: 1em; text-align: center; vertical-align: top\">1</td>\n",
       "    </tr>\n",
       "    <tr>\n",
       "        <td style=\"padding-left: 1em; padding-right: 1em; text-align: center; vertical-align: top\">2459284</td>\n",
       "        <td style=\"padding-left: 1em; padding-right: 1em; text-align: center; vertical-align: top\">97</td>\n",
       "        <td style=\"padding-left: 1em; padding-right: 1em; text-align: center; vertical-align: top\">19</td>\n",
       "        <td style=\"padding-left: 1em; padding-right: 1em; text-align: center; vertical-align: top\">0</td>\n",
       "        <td style=\"padding-left: 1em; padding-right: 1em; text-align: center; vertical-align: top\">13</td>\n",
       "        <td style=\"padding-left: 1em; padding-right: 1em; text-align: center; vertical-align: top\">34</td>\n",
       "        <td style=\"padding-left: 1em; padding-right: 1em; text-align: center; vertical-align: top\">16</td>\n",
       "        <td style=\"padding-left: 1em; padding-right: 1em; text-align: center; vertical-align: top\">5</td>\n",
       "        <td style=\"padding-left: 1em; padding-right: 1em; text-align: center; vertical-align: top\">25</td>\n",
       "        <td style=\"padding-left: 1em; padding-right: 1em; text-align: center; vertical-align: top\">172.3</td>\n",
       "        <td style=\"padding-left: 1em; padding-right: 1em; text-align: center; vertical-align: top\">480.7</td>\n",
       "        <td style=\"padding-left: 1em; padding-right: 1em; text-align: center; vertical-align: top\">28</td>\n",
       "        <td style=\"padding-left: 1em; padding-right: 1em; text-align: center; vertical-align: top\">10</td>\n",
       "    </tr>\n",
       "</table>\n",
       "<table frame=\"box\" rules=\"cols\">\n",
       "    <tr>\n",
       "        <th style=\"padding-left: 1em; padding-right: 1em; text-align: center\">style_avg</th>\n",
       "        <th style=\"padding-left: 1em; padding-right: 1em; text-align: center\">style_cnt</th>\n",
       "    </tr>\n",
       "    <tr>\n",
       "        <td style=\"padding-left: 1em; padding-right: 1em; text-align: center; vertical-align: top\">0.0</td>\n",
       "        <td style=\"padding-left: 1em; padding-right: 1em; text-align: center; vertical-align: top\">0</td>\n",
       "    </tr>\n",
       "    <tr>\n",
       "        <td style=\"padding-left: 1em; padding-right: 1em; text-align: center; vertical-align: top\">589.4</td>\n",
       "        <td style=\"padding-left: 1em; padding-right: 1em; text-align: center; vertical-align: top\">5</td>\n",
       "    </tr>\n",
       "    <tr>\n",
       "        <td style=\"padding-left: 1em; padding-right: 1em; text-align: center; vertical-align: top\">190.5</td>\n",
       "        <td style=\"padding-left: 1em; padding-right: 1em; text-align: center; vertical-align: top\">2</td>\n",
       "    </tr>\n",
       "</table>\n",
       "[3 rows x 15 columns]<br/>\n",
       "</div>"
      ],
      "text/plain": [
       "Columns:\n",
       "\tid\tstr\n",
       "\ta_href\tint\n",
       "\timg\tint\n",
       "\tbtn\tint\n",
       "\tinput\tint\n",
       "\tli\tint\n",
       "\tlink\tint\n",
       "\tmeta\tint\n",
       "\tpar\tint\n",
       "\tscript_avg\tfloat\n",
       "\tscript_b_avg\tfloat\n",
       "\tscript_cnt\tint\n",
       "\tscript_b_cnt\tint\n",
       "\tstyle_avg\tfloat\n",
       "\tstyle_cnt\tint\n",
       "\n",
       "Rows: 3\n",
       "\n",
       "Data:\n",
       "+---------+--------+-----+-----+-------+-----+------+------+-----+------------+\n",
       "|    id   | a_href | img | btn | input |  li | link | meta | par | script_avg |\n",
       "+---------+--------+-----+-----+-------+-----+------+------+-----+------------+\n",
       "| 2459274 |  123   |  14 |  16 |  101  | 107 |  40  |  54  |  20 |   1024.3   |\n",
       "| 2459283 |   82   |  33 |  0  |   14  |  45 |  14  |  3   |  19 |    63.0    |\n",
       "| 2459284 |   97   |  19 |  0  |   13  |  34 |  16  |  5   |  25 |   172.3    |\n",
       "+---------+--------+-----+-----+-------+-----+------+------+-----+------------+\n",
       "+--------------+------------+--------------+-----------+-----------+\n",
       "| script_b_avg | script_cnt | script_b_cnt | style_avg | style_cnt |\n",
       "+--------------+------------+--------------+-----------+-----------+\n",
       "|    2092.0    |     47     |      23      |    0.0    |     0     |\n",
       "|    373.0     |     6      |      1       |   589.4   |     5     |\n",
       "|    480.7     |     28     |      10      |   190.5   |     2     |\n",
       "+--------------+------------+--------------+-----------+-----------+\n",
       "[3 rows x 15 columns]"
      ]
     },
     "execution_count": 15,
     "metadata": {},
     "output_type": "execute_result"
    }
   ],
   "source": [
    "['a_href', '']"
   ]
  },
  {
   "cell_type": "markdown",
   "metadata": {},
   "source": [
    "### Read train/test labels and merge into documents"
   ]
  },
  {
   "cell_type": "code",
   "execution_count": 20,
   "metadata": {
    "collapsed": false,
    "scrolled": true
   },
   "outputs": [
    {
     "name": "stdout",
     "output_type": "stream",
     "text": [
      "------------------------------------------------------\n",
      "Inferred types from first line of file as \n",
      "column_type_hints=[str,int]\n",
      "If parsing fails due to incorrect types, you can correct\n",
      "the inferred type list above and pass it to read_csv in\n",
      "the column_type_hints argument\n",
      "------------------------------------------------------\n",
      "PROGRESS: Finished parsing file /mnt/data/input/train.csv\n",
      "PROGRESS: Parsing completed. Parsed 337024 lines in 0.115068 secs.\n",
      "------------------------------------------------------\n",
      "Inferred types from first line of file as \n",
      "column_type_hints=[str,int]\n",
      "If parsing fails due to incorrect types, you can correct\n",
      "the inferred type list above and pass it to read_csv in\n",
      "the column_type_hints argument\n",
      "------------------------------------------------------\n",
      "PROGRESS: Finished parsing file /mnt/data/input/sampleSubmission.csv\n",
      "PROGRESS: Parsing completed. Parsed 66772 lines in 0.04483 secs.\n"
     ]
    }
   ],
   "source": [
    "# train/test labels\n",
    "train_labels = gl.SFrame.read_csv(PATH_TO_TRAIN_LABELS, verbose=False)\n",
    "test_labels = gl.SFrame.read_csv(PATH_TO_TEST_LABELS, verbose=False)\n",
    "train_labels['id'] = train_labels['file'].apply(lambda x: str(x.split('_')[0] ))\n",
    "train_labels = train_labels.remove_column('file')\n",
    "test_labels['id'] = test_labels['file'].apply(lambda x: str(x.split('_')[0] ))\n",
    "test_labels = test_labels.remove_column('file')\n",
    "\n",
    "# join\n",
    "train = train_labels.join(sf, on='id', how='left')\n",
    "test = test_labels.join(sf, on='id', how='left')\n",
    "\n",
    "train = train.join(sf_cnt, on='id', how='left')\n",
    "test = test.join(sf_cnt, on='id', how='left')"
   ]
  },
  {
   "cell_type": "code",
   "execution_count": 27,
   "metadata": {
    "collapsed": false,
    "scrolled": true
   },
   "outputs": [
    {
     "data": {
      "text/html": [
       "<div style=\"max-height:1000px;max-width:1500px;overflow:auto;\"><table frame=\"box\" rules=\"cols\">\n",
       "    <tr>\n",
       "        <th style=\"padding-left: 1em; padding-right: 1em; text-align: center\">sponsored</th>\n",
       "        <th style=\"padding-left: 1em; padding-right: 1em; text-align: center\">id</th>\n",
       "        <th style=\"padding-left: 1em; padding-right: 1em; text-align: center\">text</th>\n",
       "        <th style=\"padding-left: 1em; padding-right: 1em; text-align: center\">a_href</th>\n",
       "        <th style=\"padding-left: 1em; padding-right: 1em; text-align: center\">par</th>\n",
       "        <th style=\"padding-left: 1em; padding-right: 1em; text-align: center\">title</th>\n",
       "        <th style=\"padding-left: 1em; padding-right: 1em; text-align: center\">img</th>\n",
       "    </tr>\n",
       "    <tr>\n",
       "        <td style=\"padding-left: 1em; padding-right: 1em; text-align: center; vertical-align: top\">0</td>\n",
       "        <td style=\"padding-left: 1em; padding-right: 1em; text-align: center; vertical-align: top\">2459274</td>\n",
       "        <td style=\"padding-left: 1em; padding-right: 1em; text-align: center; vertical-align: top\">sign will allow your<br>friend find etsi never ...</td>\n",
       "        <td style=\"padding-left: 1em; padding-right: 1em; text-align: center; vertical-align: top\">88.0674319772</td>\n",
       "        <td style=\"padding-left: 1em; padding-right: 1em; text-align: center; vertical-align: top\">69.8681740587</td>\n",
       "        <td style=\"padding-left: 1em; padding-right: 1em; text-align: center; vertical-align: top\">82.1860465094</td>\n",
       "        <td style=\"padding-left: 1em; padding-right: 1em; text-align: center; vertical-align: top\">65.5253093102</td>\n",
       "    </tr>\n",
       "    <tr>\n",
       "        <td style=\"padding-left: 1em; padding-right: 1em; text-align: center; vertical-align: top\">0</td>\n",
       "        <td style=\"padding-left: 1em; padding-right: 1em; text-align: center; vertical-align: top\">2459283</td>\n",
       "        <td style=\"padding-left: 1em; padding-right: 1em; text-align: center; vertical-align: top\">post admin decemb<br>determin video host ...</td>\n",
       "        <td style=\"padding-left: 1em; padding-right: 1em; text-align: center; vertical-align: top\">84.4940941284</td>\n",
       "        <td style=\"padding-left: 1em; padding-right: 1em; text-align: center; vertical-align: top\">69.2613429966</td>\n",
       "        <td style=\"padding-left: 1em; padding-right: 1em; text-align: center; vertical-align: top\">81.883138126</td>\n",
       "        <td style=\"padding-left: 1em; padding-right: 1em; text-align: center; vertical-align: top\">75.4959100192</td>\n",
       "    </tr>\n",
       "    <tr>\n",
       "        <td style=\"padding-left: 1em; padding-right: 1em; text-align: center; vertical-align: top\">0</td>\n",
       "        <td style=\"padding-left: 1em; padding-right: 1em; text-align: center; vertical-align: top\">2459284</td>\n",
       "        <td style=\"padding-left: 1em; padding-right: 1em; text-align: center; vertical-align: top\">fish tie blog weed<br>easiest place locat pike ...</td>\n",
       "        <td style=\"padding-left: 1em; padding-right: 1em; text-align: center; vertical-align: top\">86.0039304763</td>\n",
       "        <td style=\"padding-left: 1em; padding-right: 1em; text-align: center; vertical-align: top\">72.4411119183</td>\n",
       "        <td style=\"padding-left: 1em; padding-right: 1em; text-align: center; vertical-align: top\">72.8823191511</td>\n",
       "        <td style=\"padding-left: 1em; padding-right: 1em; text-align: center; vertical-align: top\">69.2613429966</td>\n",
       "    </tr>\n",
       "    <tr>\n",
       "        <td style=\"padding-left: 1em; padding-right: 1em; text-align: center; vertical-align: top\">0</td>\n",
       "        <td style=\"padding-left: 1em; padding-right: 1em; text-align: center; vertical-align: top\">2459293</td>\n",
       "        <td style=\"padding-left: 1em; padding-right: 1em; text-align: center; vertical-align: top\">paul mcnamara addit edit<br>duti have written ...</td>\n",
       "        <td style=\"padding-left: 1em; padding-right: 1em; text-align: center; vertical-align: top\">94.2851553363</td>\n",
       "        <td style=\"padding-left: 1em; padding-right: 1em; text-align: center; vertical-align: top\">74.8217008302</td>\n",
       "        <td style=\"padding-left: 1em; padding-right: 1em; text-align: center; vertical-align: top\">83.917488081</td>\n",
       "        <td style=\"padding-left: 1em; padding-right: 1em; text-align: center; vertical-align: top\">73.7072007182</td>\n",
       "    </tr>\n",
       "    <tr>\n",
       "        <td style=\"padding-left: 1em; padding-right: 1em; text-align: center; vertical-align: top\">0</td>\n",
       "        <td style=\"padding-left: 1em; padding-right: 1em; text-align: center; vertical-align: top\">245932</td>\n",
       "        <td style=\"padding-left: 1em; padding-right: 1em; text-align: center; vertical-align: top\">cancel spring break here<br>lot peopl will hit road ...</td>\n",
       "        <td style=\"padding-left: 1em; padding-right: 1em; text-align: center; vertical-align: top\">90.2105300189</td>\n",
       "        <td style=\"padding-left: 1em; padding-right: 1em; text-align: center; vertical-align: top\">64.5862336364</td>\n",
       "        <td style=\"padding-left: 1em; padding-right: 1em; text-align: center; vertical-align: top\">77.5223010581</td>\n",
       "        <td style=\"padding-left: 1em; padding-right: 1em; text-align: center; vertical-align: top\">75.1650499002</td>\n",
       "    </tr>\n",
       "    <tr>\n",
       "        <td style=\"padding-left: 1em; padding-right: 1em; text-align: center; vertical-align: top\">0</td>\n",
       "        <td style=\"padding-left: 1em; padding-right: 1em; text-align: center; vertical-align: top\">2459356</td>\n",
       "        <td style=\"padding-left: 1em; padding-right: 1em; text-align: center; vertical-align: top\"> ferment serv<br>dailypicdump ...</td>\n",
       "        <td style=\"padding-left: 1em; padding-right: 1em; text-align: center; vertical-align: top\">71.9784350174</td>\n",
       "        <td style=\"padding-left: 1em; padding-right: 1em; text-align: center; vertical-align: top\">0.0</td>\n",
       "        <td style=\"padding-left: 1em; padding-right: 1em; text-align: center; vertical-align: top\">75.4959100192</td>\n",
       "        <td style=\"padding-left: 1em; padding-right: 1em; text-align: center; vertical-align: top\">65.5253093102</td>\n",
       "    </tr>\n",
       "    <tr>\n",
       "        <td style=\"padding-left: 1em; padding-right: 1em; text-align: center; vertical-align: top\">0</td>\n",
       "        <td style=\"padding-left: 1em; padding-right: 1em; text-align: center; vertical-align: top\">2459361</td>\n",
       "        <td style=\"padding-left: 1em; padding-right: 1em; text-align: center; vertical-align: top\">optim your larg gif your<br>imag there internet anim ...</td>\n",
       "        <td style=\"padding-left: 1em; padding-right: 1em; text-align: center; vertical-align: top\">79.981940065</td>\n",
       "        <td style=\"padding-left: 1em; padding-right: 1em; text-align: center; vertical-align: top\">37.0638155688</td>\n",
       "        <td style=\"padding-left: 1em; padding-right: 1em; text-align: center; vertical-align: top\">69.8681740587</td>\n",
       "        <td style=\"padding-left: 1em; padding-right: 1em; text-align: center; vertical-align: top\">37.0638155688</td>\n",
       "    </tr>\n",
       "    <tr>\n",
       "        <td style=\"padding-left: 1em; padding-right: 1em; text-align: center; vertical-align: top\">0</td>\n",
       "        <td style=\"padding-left: 1em; padding-right: 1em; text-align: center; vertical-align: top\">2459371</td>\n",
       "        <td style=\"padding-left: 1em; padding-right: 1em; text-align: center; vertical-align: top\">timelaps filmer sind sowa<br>portrtmal erd einer ...</td>\n",
       "        <td style=\"padding-left: 1em; padding-right: 1em; text-align: center; vertical-align: top\">80.5451737509</td>\n",
       "        <td style=\"padding-left: 1em; padding-right: 1em; text-align: center; vertical-align: top\">85.3360300647</td>\n",
       "        <td style=\"padding-left: 1em; padding-right: 1em; text-align: center; vertical-align: top\">88.2723753401</td>\n",
       "        <td style=\"padding-left: 1em; padding-right: 1em; text-align: center; vertical-align: top\">58.1141556942</td>\n",
       "    </tr>\n",
       "    <tr>\n",
       "        <td style=\"padding-left: 1em; padding-right: 1em; text-align: center; vertical-align: top\">0</td>\n",
       "        <td style=\"padding-left: 1em; padding-right: 1em; text-align: center; vertical-align: top\">2459374</td>\n",
       "        <td style=\"padding-left: 1em; padding-right: 1em; text-align: center; vertical-align: top\">politica privacidad<br>problema cultur ...</td>\n",
       "        <td style=\"padding-left: 1em; padding-right: 1em; text-align: center; vertical-align: top\">85.3360300647</td>\n",
       "        <td style=\"padding-left: 1em; padding-right: 1em; text-align: center; vertical-align: top\">37.0638155688</td>\n",
       "        <td style=\"padding-left: 1em; padding-right: 1em; text-align: center; vertical-align: top\">69.8681740587</td>\n",
       "        <td style=\"padding-left: 1em; padding-right: 1em; text-align: center; vertical-align: top\">81.2413194461</td>\n",
       "    </tr>\n",
       "    <tr>\n",
       "        <td style=\"padding-left: 1em; padding-right: 1em; text-align: center; vertical-align: top\">0</td>\n",
       "        <td style=\"padding-left: 1em; padding-right: 1em; text-align: center; vertical-align: top\">245938</td>\n",
       "        <td style=\"padding-left: 1em; padding-right: 1em; text-align: center; vertical-align: top\">there lot excit thing<br>happen here trivedi ...</td>\n",
       "        <td style=\"padding-left: 1em; padding-right: 1em; text-align: center; vertical-align: top\">86.0947381235</td>\n",
       "        <td style=\"padding-left: 1em; padding-right: 1em; text-align: center; vertical-align: top\">59.7352761659</td>\n",
       "        <td style=\"padding-left: 1em; padding-right: 1em; text-align: center; vertical-align: top\">79.981940065</td>\n",
       "        <td style=\"padding-left: 1em; padding-right: 1em; text-align: center; vertical-align: top\">62.4220628783</td>\n",
       "    </tr>\n",
       "</table>\n",
       "<table frame=\"box\" rules=\"cols\">\n",
       "    <tr>\n",
       "        <th style=\"padding-left: 1em; padding-right: 1em; text-align: center\">btn</th>\n",
       "        <th style=\"padding-left: 1em; padding-right: 1em; text-align: center\">input</th>\n",
       "        <th style=\"padding-left: 1em; padding-right: 1em; text-align: center\">li</th>\n",
       "        <th style=\"padding-left: 1em; padding-right: 1em; text-align: center\">link</th>\n",
       "        <th style=\"padding-left: 1em; padding-right: 1em; text-align: center\">meta</th>\n",
       "        <th style=\"padding-left: 1em; padding-right: 1em; text-align: center\">script_avg</th>\n",
       "        <th style=\"padding-left: 1em; padding-right: 1em; text-align: center\">script_b_avg</th>\n",
       "    </tr>\n",
       "    <tr>\n",
       "        <td style=\"padding-left: 1em; padding-right: 1em; text-align: center; vertical-align: top\">67.185172233</td>\n",
       "        <td style=\"padding-left: 1em; padding-right: 1em; text-align: center; vertical-align: top\">86.3608057442</td>\n",
       "        <td style=\"padding-left: 1em; padding-right: 1em; text-align: center; vertical-align: top\">86.86631892</td>\n",
       "        <td style=\"padding-left: 1em; padding-right: 1em; text-align: center; vertical-align: top\">77.5223010581</td>\n",
       "        <td style=\"padding-left: 1em; padding-right: 1em; text-align: center; vertical-align: top\">80.5451737509</td>\n",
       "        <td style=\"padding-left: 1em; padding-right: 1em; text-align: center; vertical-align: top\">103.549928316</td>\n",
       "        <td style=\"padding-left: 1em; padding-right: 1em; text-align: center; vertical-align: top\">107.856884855</td>\n",
       "    </tr>\n",
       "    <tr>\n",
       "        <td style=\"padding-left: 1em; padding-right: 1em; text-align: center; vertical-align: top\">0.0</td>\n",
       "        <td style=\"padding-left: 1em; padding-right: 1em; text-align: center; vertical-align: top\">65.5253093102</td>\n",
       "        <td style=\"padding-left: 1em; padding-right: 1em; text-align: center; vertical-align: top\">78.7282571863</td>\n",
       "        <td style=\"padding-left: 1em; padding-right: 1em; text-align: center; vertical-align: top\">65.5253093102</td>\n",
       "        <td style=\"padding-left: 1em; padding-right: 1em; text-align: center; vertical-align: top\">43.4870843096</td>\n",
       "        <td style=\"padding-left: 1em; padding-right: 1em; text-align: center; vertical-align: top\">82.0360049675</td>\n",
       "        <td style=\"padding-left: 1em; padding-right: 1em; text-align: center; vertical-align: top\">96.7515290111</td>\n",
       "    </tr>\n",
       "    <tr>\n",
       "        <td style=\"padding-left: 1em; padding-right: 1em; text-align: center; vertical-align: top\">0.0</td>\n",
       "        <td style=\"padding-left: 1em; padding-right: 1em; text-align: center; vertical-align: top\">64.5862336364</td>\n",
       "        <td style=\"padding-left: 1em; padding-right: 1em; text-align: center; vertical-align: top\">75.8150970426</td>\n",
       "        <td style=\"padding-left: 1em; padding-right: 1em; text-align: center; vertical-align: top\">67.185172233</td>\n",
       "        <td style=\"padding-left: 1em; padding-right: 1em; text-align: center; vertical-align: top\">51.33360156</td>\n",
       "        <td style=\"padding-left: 1em; padding-right: 1em; text-align: center; vertical-align: top\">90.8634345429</td>\n",
       "        <td style=\"padding-left: 1em; padding-right: 1em; text-align: center; vertical-align: top\">98.546313261</td>\n",
       "    </tr>\n",
       "    <tr>\n",
       "        <td style=\"padding-left: 1em; padding-right: 1em; text-align: center; vertical-align: top\">43.4870843096</td>\n",
       "        <td style=\"padding-left: 1em; padding-right: 1em; text-align: center; vertical-align: top\">66.3880714769</td>\n",
       "        <td style=\"padding-left: 1em; padding-right: 1em; text-align: center; vertical-align: top\">92.7650899224</td>\n",
       "        <td style=\"padding-left: 1em; padding-right: 1em; text-align: center; vertical-align: top\">69.8681740587</td>\n",
       "        <td style=\"padding-left: 1em; padding-right: 1em; text-align: center; vertical-align: top\">75.1650499002</td>\n",
       "        <td style=\"padding-left: 1em; padding-right: 1em; text-align: center; vertical-align: top\">101.014110549</td>\n",
       "        <td style=\"padding-left: 1em; padding-right: 1em; text-align: center; vertical-align: top\">105.402390967</td>\n",
       "    </tr>\n",
       "    <tr>\n",
       "        <td style=\"padding-left: 1em; padding-right: 1em; text-align: center; vertical-align: top\">0.0</td>\n",
       "        <td style=\"padding-left: 1em; padding-right: 1em; text-align: center; vertical-align: top\">47.956741946</td>\n",
       "        <td style=\"padding-left: 1em; padding-right: 1em; text-align: center; vertical-align: top\">83.6744408005</td>\n",
       "        <td style=\"padding-left: 1em; padding-right: 1em; text-align: center; vertical-align: top\">59.7352761659</td>\n",
       "        <td style=\"padding-left: 1em; padding-right: 1em; text-align: center; vertical-align: top\">81.5685200098</td>\n",
       "        <td style=\"padding-left: 1em; padding-right: 1em; text-align: center; vertical-align: top\">97.6310628446</td>\n",
       "        <td style=\"padding-left: 1em; padding-right: 1em; text-align: center; vertical-align: top\">99.7220173038</td>\n",
       "    </tr>\n",
       "    <tr>\n",
       "        <td style=\"padding-left: 1em; padding-right: 1em; text-align: center; vertical-align: top\">26.329451707</td>\n",
       "        <td style=\"padding-left: 1em; padding-right: 1em; text-align: center; vertical-align: top\">26.329451707</td>\n",
       "        <td style=\"padding-left: 1em; padding-right: 1em; text-align: center; vertical-align: top\">70.4399908075</td>\n",
       "        <td style=\"padding-left: 1em; padding-right: 1em; text-align: center; vertical-align: top\">43.4870843096</td>\n",
       "        <td style=\"padding-left: 1em; padding-right: 1em; text-align: center; vertical-align: top\">56.2374131455</td>\n",
       "        <td style=\"padding-left: 1em; padding-right: 1em; text-align: center; vertical-align: top\">87.9627697036</td>\n",
       "        <td style=\"padding-left: 1em; padding-right: 1em; text-align: center; vertical-align: top\">92.1243740114</td>\n",
       "    </tr>\n",
       "    <tr>\n",
       "        <td style=\"padding-left: 1em; padding-right: 1em; text-align: center; vertical-align: top\">43.4870843096</td>\n",
       "        <td style=\"padding-left: 1em; padding-right: 1em; text-align: center; vertical-align: top\">67.185172233</td>\n",
       "        <td style=\"padding-left: 1em; padding-right: 1em; text-align: center; vertical-align: top\">79.981940065</td>\n",
       "        <td style=\"padding-left: 1em; padding-right: 1em; text-align: center; vertical-align: top\">62.4220628783</td>\n",
       "        <td style=\"padding-left: 1em; padding-right: 1em; text-align: center; vertical-align: top\">75.1650499002</td>\n",
       "        <td style=\"padding-left: 1em; padding-right: 1em; text-align: center; vertical-align: top\">99.1174256486</td>\n",
       "        <td style=\"padding-left: 1em; padding-right: 1em; text-align: center; vertical-align: top\">100.411737961</td>\n",
       "    </tr>\n",
       "    <tr>\n",
       "        <td style=\"padding-left: 1em; padding-right: 1em; text-align: center; vertical-align: top\">26.329451707</td>\n",
       "        <td style=\"padding-left: 1em; padding-right: 1em; text-align: center; vertical-align: top\">26.329451707</td>\n",
       "        <td style=\"padding-left: 1em; padding-right: 1em; text-align: center; vertical-align: top\">79.3782241661</td>\n",
       "        <td style=\"padding-left: 1em; padding-right: 1em; text-align: center; vertical-align: top\">66.3880714769</td>\n",
       "        <td style=\"padding-left: 1em; padding-right: 1em; text-align: center; vertical-align: top\">71.4922773645</td>\n",
       "        <td style=\"padding-left: 1em; padding-right: 1em; text-align: center; vertical-align: top\">95.6010993755</td>\n",
       "        <td style=\"padding-left: 1em; padding-right: 1em; text-align: center; vertical-align: top\">99.5037405649</td>\n",
       "    </tr>\n",
       "    <tr>\n",
       "        <td style=\"padding-left: 1em; padding-right: 1em; text-align: center; vertical-align: top\">0.0</td>\n",
       "        <td style=\"padding-left: 1em; padding-right: 1em; text-align: center; vertical-align: top\">51.33360156</td>\n",
       "        <td style=\"padding-left: 1em; padding-right: 1em; text-align: center; vertical-align: top\">84.1532500568</td>\n",
       "        <td style=\"padding-left: 1em; padding-right: 1em; text-align: center; vertical-align: top\">68.615336679</td>\n",
       "        <td style=\"padding-left: 1em; padding-right: 1em; text-align: center; vertical-align: top\">74.4649612709</td>\n",
       "        <td style=\"padding-left: 1em; padding-right: 1em; text-align: center; vertical-align: top\">94.7732465469</td>\n",
       "        <td style=\"padding-left: 1em; padding-right: 1em; text-align: center; vertical-align: top\">99.702933412</td>\n",
       "    </tr>\n",
       "    <tr>\n",
       "        <td style=\"padding-left: 1em; padding-right: 1em; text-align: center; vertical-align: top\">0.0</td>\n",
       "        <td style=\"padding-left: 1em; padding-right: 1em; text-align: center; vertical-align: top\">65.5253093102</td>\n",
       "        <td style=\"padding-left: 1em; padding-right: 1em; text-align: center; vertical-align: top\">82.4780322726</td>\n",
       "        <td style=\"padding-left: 1em; padding-right: 1em; text-align: center; vertical-align: top\">68.615336679</td>\n",
       "        <td style=\"padding-left: 1em; padding-right: 1em; text-align: center; vertical-align: top\">75.4959100192</td>\n",
       "        <td style=\"padding-left: 1em; padding-right: 1em; text-align: center; vertical-align: top\">101.263385938</td>\n",
       "        <td style=\"padding-left: 1em; padding-right: 1em; text-align: center; vertical-align: top\">104.361928222</td>\n",
       "    </tr>\n",
       "</table>\n",
       "<table frame=\"box\" rules=\"cols\">\n",
       "    <tr>\n",
       "        <th style=\"padding-left: 1em; padding-right: 1em; text-align: center\">script_cnt</th>\n",
       "        <th style=\"padding-left: 1em; padding-right: 1em; text-align: center\">script_b_cnt</th>\n",
       "        <th style=\"padding-left: 1em; padding-right: 1em; text-align: center\">style_avg</th>\n",
       "        <th style=\"padding-left: 1em; padding-right: 1em; text-align: center\">style_cnt</th>\n",
       "        <th style=\"padding-left: 1em; padding-right: 1em; text-align: center\">bow</th>\n",
       "    </tr>\n",
       "    <tr>\n",
       "        <td style=\"padding-left: 1em; padding-right: 1em; text-align: center; vertical-align: top\">79.167026042</td>\n",
       "        <td style=\"padding-left: 1em; padding-right: 1em; text-align: center; vertical-align: top\">71.4922773645</td>\n",
       "        <td style=\"padding-left: 1em; padding-right: 1em; text-align: center; vertical-align: top\">0.0</td>\n",
       "        <td style=\"padding-left: 1em; padding-right: 1em; text-align: center; vertical-align: top\">0.0</td>\n",
       "        <td style=\"padding-left: 1em; padding-right: 1em; text-align: center; vertical-align: top\">{'pleas': 2, 'shop': 14,<br>'fashion': 3, 'creat' ...</td>\n",
       "    </tr>\n",
       "    <tr>\n",
       "        <td style=\"padding-left: 1em; padding-right: 1em; text-align: center; vertical-align: top\">54.0208909136</td>\n",
       "        <td style=\"padding-left: 1em; padding-right: 1em; text-align: center; vertical-align: top\">26.329451707</td>\n",
       "        <td style=\"padding-left: 1em; padding-right: 1em; text-align: center; vertical-align: top\">99.9441035424</td>\n",
       "        <td style=\"padding-left: 1em; padding-right: 1em; text-align: center; vertical-align: top\">51.33360156</td>\n",
       "        <td style=\"padding-left: 1em; padding-right: 1em; text-align: center; vertical-align: top\">{'comment': 3, 'code': 1,<br>'text': 1, 'categori': ...</td>\n",
       "    </tr>\n",
       "    <tr>\n",
       "        <td style=\"padding-left: 1em; padding-right: 1em; text-align: center; vertical-align: top\">73.7072007182</td>\n",
       "        <td style=\"padding-left: 1em; padding-right: 1em; text-align: center; vertical-align: top\">61.1578101264</td>\n",
       "        <td style=\"padding-left: 1em; padding-right: 1em; text-align: center; vertical-align: top\">91.6681603743</td>\n",
       "        <td style=\"padding-left: 1em; padding-right: 1em; text-align: center; vertical-align: top\">37.0638155688</td>\n",
       "        <td style=\"padding-left: 1em; padding-right: 1em; text-align: center; vertical-align: top\">{'feed': 2, 'fairy-<br>river.com': 1, 'deform': ...</td>\n",
       "    </tr>\n",
       "    <tr>\n",
       "        <td style=\"padding-left: 1em; padding-right: 1em; text-align: center; vertical-align: top\">84.9265138876</td>\n",
       "        <td style=\"padding-left: 1em; padding-right: 1em; text-align: center; vertical-align: top\">78.265832753</td>\n",
       "        <td style=\"padding-left: 1em; padding-right: 1em; text-align: center; vertical-align: top\">80.9005654591</td>\n",
       "        <td style=\"padding-left: 1em; padding-right: 1em; text-align: center; vertical-align: top\">26.329451707</td>\n",
       "        <td style=\"padding-left: 1em; padding-right: 1em; text-align: center; vertical-align: top\">{'illustr': 1, 'steve':<br>4, 'follow': 1, 'vent ...</td>\n",
       "    </tr>\n",
       "    <tr>\n",
       "        <td style=\"padding-left: 1em; padding-right: 1em; text-align: center; vertical-align: top\">82.8970707479</td>\n",
       "        <td style=\"padding-left: 1em; padding-right: 1em; text-align: center; vertical-align: top\">79.981940065</td>\n",
       "        <td style=\"padding-left: 1em; padding-right: 1em; text-align: center; vertical-align: top\">76.421347528</td>\n",
       "        <td style=\"padding-left: 1em; padding-right: 1em; text-align: center; vertical-align: top\">26.329451707</td>\n",
       "        <td style=\"padding-left: 1em; padding-right: 1em; text-align: center; vertical-align: top\">{'alfalfa': 2, 'mexican':<br>1, 'rotat': 1, 'movi' ...</td>\n",
       "    </tr>\n",
       "    <tr>\n",
       "        <td style=\"padding-left: 1em; padding-right: 1em; text-align: center; vertical-align: top\">61.1578101264</td>\n",
       "        <td style=\"padding-left: 1em; padding-right: 1em; text-align: center; vertical-align: top\">54.0208909136</td>\n",
       "        <td style=\"padding-left: 1em; padding-right: 1em; text-align: center; vertical-align: top\">0.0</td>\n",
       "        <td style=\"padding-left: 1em; padding-right: 1em; text-align: center; vertical-align: top\">0.0</td>\n",
       "        <td style=\"padding-left: 1em; padding-right: 1em; text-align: center; vertical-align: top\">{'compil': 1, 'shop': 1,<br>'angel': 1, 'movi': 1, ...</td>\n",
       "    </tr>\n",
       "    <tr>\n",
       "        <td style=\"padding-left: 1em; padding-right: 1em; text-align: center; vertical-align: top\">71.4922773645</td>\n",
       "        <td style=\"padding-left: 1em; padding-right: 1em; text-align: center; vertical-align: top\">69.2613429966</td>\n",
       "        <td style=\"padding-left: 1em; padding-right: 1em; text-align: center; vertical-align: top\">0.0</td>\n",
       "        <td style=\"padding-left: 1em; padding-right: 1em; text-align: center; vertical-align: top\">0.0</td>\n",
       "        <td style=\"padding-left: 1em; padding-right: 1em; text-align: center; vertical-align: top\">{'anim': 1, 'develop': 1,<br>'optim': 1, 'imag': 1, ...</td>\n",
       "    </tr>\n",
       "    <tr>\n",
       "        <td style=\"padding-left: 1em; padding-right: 1em; text-align: center; vertical-align: top\">75.4959100192</td>\n",
       "        <td style=\"padding-left: 1em; padding-right: 1em; text-align: center; vertical-align: top\">69.2613429966</td>\n",
       "        <td style=\"padding-left: 1em; padding-right: 1em; text-align: center; vertical-align: top\">107.570635218</td>\n",
       "        <td style=\"padding-left: 1em; padding-right: 1em; text-align: center; vertical-align: top\">51.33360156</td>\n",
       "        <td style=\"padding-left: 1em; padding-right: 1em; text-align: center; vertical-align: top\">{'angenehmen': 1,<br>'gemeingefhrlich': 1, ...</td>\n",
       "    </tr>\n",
       "    <tr>\n",
       "        <td style=\"padding-left: 1em; padding-right: 1em; text-align: center; vertical-align: top\">79.3782241661</td>\n",
       "        <td style=\"padding-left: 1em; padding-right: 1em; text-align: center; vertical-align: top\">71.9784350174</td>\n",
       "        <td style=\"padding-left: 1em; padding-right: 1em; text-align: center; vertical-align: top\">103.595235617</td>\n",
       "        <td style=\"padding-left: 1em; padding-right: 1em; text-align: center; vertical-align: top\">43.4870843096</td>\n",
       "        <td style=\"padding-left: 1em; padding-right: 1em; text-align: center; vertical-align: top\">{'publicidad': 1,<br>'ahnegao.com.br': 1, ...</td>\n",
       "    </tr>\n",
       "    <tr>\n",
       "        <td style=\"padding-left: 1em; padding-right: 1em; text-align: center; vertical-align: top\">64.5862336364</td>\n",
       "        <td style=\"padding-left: 1em; padding-right: 1em; text-align: center; vertical-align: top\">58.1141556942</td>\n",
       "        <td style=\"padding-left: 1em; padding-right: 1em; text-align: center; vertical-align: top\">103.869500632</td>\n",
       "        <td style=\"padding-left: 1em; padding-right: 1em; text-align: center; vertical-align: top\">51.33360156</td>\n",
       "        <td style=\"padding-left: 1em; padding-right: 1em; text-align: center; vertical-align: top\">{'pursuit': 2,<br>'mahendratrivedi': 1, ...</td>\n",
       "    </tr>\n",
       "</table>\n",
       "<table frame=\"box\" rules=\"cols\">\n",
       "    <tr>\n",
       "        <th style=\"padding-left: 1em; padding-right: 1em; text-align: center\">tfidf</th>\n",
       "        <th style=\"padding-left: 1em; padding-right: 1em; text-align: center\">tfidf_hashed</th>\n",
       "    </tr>\n",
       "    <tr>\n",
       "        <td style=\"padding-left: 1em; padding-right: 1em; text-align: center; vertical-align: top\">{'pleas':<br>3.3030746756742024, ...</td>\n",
       "        <td style=\"padding-left: 1em; padding-right: 1em; text-align: center; vertical-align: top\">{1024: 5.47677925727902,<br>33793: ...</td>\n",
       "    </tr>\n",
       "    <tr>\n",
       "        <td style=\"padding-left: 1em; padding-right: 1em; text-align: center; vertical-align: top\">{'comment':<br>3.27217249369531, 'co ...</td>\n",
       "        <td style=\"padding-left: 1em; padding-right: 1em; text-align: center; vertical-align: top\">{6660:<br>-11.525245623589933, ...</td>\n",
       "    </tr>\n",
       "    <tr>\n",
       "        <td style=\"padding-left: 1em; padding-right: 1em; text-align: center; vertical-align: top\">{'feed':<br>2.9074723878861244, ...</td>\n",
       "        <td style=\"padding-left: 1em; padding-right: 1em; text-align: center; vertical-align: top\">{6660:<br>-1.4406557029487417, ...</td>\n",
       "    </tr>\n",
       "    <tr>\n",
       "        <td style=\"padding-left: 1em; padding-right: 1em; text-align: center; vertical-align: top\">{'illustr':<br>3.178528686712821, ...</td>\n",
       "        <td style=\"padding-left: 1em; padding-right: 1em; text-align: center; vertical-align: top\">{15872:<br>7.099852047273182, 58 ...</td>\n",
       "    </tr>\n",
       "    <tr>\n",
       "        <td style=\"padding-left: 1em; padding-right: 1em; text-align: center; vertical-align: top\">{'alfalfa':<br>13.762941296716404, ...</td>\n",
       "        <td style=\"padding-left: 1em; padding-right: 1em; text-align: center; vertical-align: top\">{55835:<br>3.3826885692459254, ...</td>\n",
       "    </tr>\n",
       "    <tr>\n",
       "        <td style=\"padding-left: 1em; padding-right: 1em; text-align: center; vertical-align: top\">{'compil':<br>3.9802396333186874, ...</td>\n",
       "        <td style=\"padding-left: 1em; padding-right: 1em; text-align: center; vertical-align: top\">{15446: 2.33023636495581,<br>29830: ...</td>\n",
       "    </tr>\n",
       "    <tr>\n",
       "        <td style=\"padding-left: 1em; padding-right: 1em; text-align: center; vertical-align: top\">{'anim':<br>2.1333017434044854, ...</td>\n",
       "        <td style=\"padding-left: 1em; padding-right: 1em; text-align: center; vertical-align: top\">{47424:<br>-2.0340118726996432, ...</td>\n",
       "    </tr>\n",
       "    <tr>\n",
       "        <td style=\"padding-left: 1em; padding-right: 1em; text-align: center; vertical-align: top\">{'angenehmen':<br>10.243002773627927, ...</td>\n",
       "        <td style=\"padding-left: 1em; padding-right: 1em; text-align: center; vertical-align: top\">{2049:<br>10.936149954187872, 8 ...</td>\n",
       "    </tr>\n",
       "    <tr>\n",
       "        <td style=\"padding-left: 1em; padding-right: 1em; text-align: center; vertical-align: top\">{'publicidad':<br>5.771363980264358, ...</td>\n",
       "        <td style=\"padding-left: 1em; padding-right: 1em; text-align: center; vertical-align: top\">{48129:<br>8.371200596726334, 26 ...</td>\n",
       "    </tr>\n",
       "    <tr>\n",
       "        <td style=\"padding-left: 1em; padding-right: 1em; text-align: center; vertical-align: top\">{'pursuit':<br>9.153728955461807, ...</td>\n",
       "        <td style=\"padding-left: 1em; padding-right: 1em; text-align: center; vertical-align: top\">{36979:<br>-1.5724020355823765, ...</td>\n",
       "    </tr>\n",
       "</table>\n",
       "[10 rows x 21 columns]<br/>\n",
       "</div>"
      ],
      "text/plain": [
       "Columns:\n",
       "\tsponsored\tint\n",
       "\tid\tstr\n",
       "\ttext\tstr\n",
       "\ta_href\tfloat\n",
       "\tpar\tfloat\n",
       "\ttitle\tfloat\n",
       "\timg\tfloat\n",
       "\tbtn\tfloat\n",
       "\tinput\tfloat\n",
       "\tli\tfloat\n",
       "\tlink\tfloat\n",
       "\tmeta\tfloat\n",
       "\tscript_avg\tfloat\n",
       "\tscript_b_avg\tfloat\n",
       "\tscript_cnt\tfloat\n",
       "\tscript_b_cnt\tfloat\n",
       "\tstyle_avg\tfloat\n",
       "\tstyle_cnt\tfloat\n",
       "\tbow\tdict\n",
       "\ttfidf\tdict\n",
       "\ttfidf_hashed\tdict\n",
       "\n",
       "Rows: 10\n",
       "\n",
       "Data:\n",
       "+-----------+---------+-------------------------------+---------------+\n",
       "| sponsored |    id   |              text             |     a_href    |\n",
       "+-----------+---------+-------------------------------+---------------+\n",
       "|     0     | 2459274 | sign will allow your frien... | 88.0674319772 |\n",
       "|     0     | 2459283 | post admin decemb determin... | 84.4940941284 |\n",
       "|     0     | 2459284 | fish tie blog weed easiest... | 86.0039304763 |\n",
       "|     0     | 2459293 | paul mcnamara addit edit d... | 94.2851553363 |\n",
       "|     0     |  245932 | cancel spring break here l... | 90.2105300189 |\n",
       "|     0     | 2459356 |  ferment serv dailypicdump... | 71.9784350174 |\n",
       "|     0     | 2459361 | optim your larg gif your i... |  79.981940065 |\n",
       "|     0     | 2459371 | timelaps filmer sind sowa ... | 80.5451737509 |\n",
       "|     0     | 2459374 | politica privacidad proble... | 85.3360300647 |\n",
       "|     0     |  245938 | there lot excit thing happ... | 86.0947381235 |\n",
       "+-----------+---------+-------------------------------+---------------+\n",
       "+---------------+---------------+---------------+---------------+---------------+\n",
       "|      par      |     title     |      img      |      btn      |     input     |\n",
       "+---------------+---------------+---------------+---------------+---------------+\n",
       "| 69.8681740587 | 82.1860465094 | 65.5253093102 |  67.185172233 | 86.3608057442 |\n",
       "| 69.2613429966 |  81.883138126 | 75.4959100192 |      0.0      | 65.5253093102 |\n",
       "| 72.4411119183 | 72.8823191511 | 69.2613429966 |      0.0      | 64.5862336364 |\n",
       "| 74.8217008302 |  83.917488081 | 73.7072007182 | 43.4870843096 | 66.3880714769 |\n",
       "| 64.5862336364 | 77.5223010581 | 75.1650499002 |      0.0      |  47.956741946 |\n",
       "|      0.0      | 75.4959100192 | 65.5253093102 |  26.329451707 |  26.329451707 |\n",
       "| 37.0638155688 | 69.8681740587 | 37.0638155688 | 43.4870843096 |  67.185172233 |\n",
       "| 85.3360300647 | 88.2723753401 | 58.1141556942 |  26.329451707 |  26.329451707 |\n",
       "| 37.0638155688 | 69.8681740587 | 81.2413194461 |      0.0      |  51.33360156  |\n",
       "| 59.7352761659 |  79.981940065 | 62.4220628783 |      0.0      | 65.5253093102 |\n",
       "+---------------+---------------+---------------+---------------+---------------+\n",
       "+---------------+---------------+---------------+---------------+---------------+\n",
       "|       li      |      link     |      meta     |   script_avg  |  script_b_avg |\n",
       "+---------------+---------------+---------------+---------------+---------------+\n",
       "|  86.86631892  | 77.5223010581 | 80.5451737509 | 103.549928316 | 107.856884855 |\n",
       "| 78.7282571863 | 65.5253093102 | 43.4870843096 | 82.0360049675 | 96.7515290111 |\n",
       "| 75.8150970426 |  67.185172233 |  51.33360156  | 90.8634345429 |  98.546313261 |\n",
       "| 92.7650899224 | 69.8681740587 | 75.1650499002 | 101.014110549 | 105.402390967 |\n",
       "| 83.6744408005 | 59.7352761659 | 81.5685200098 | 97.6310628446 | 99.7220173038 |\n",
       "| 70.4399908075 | 43.4870843096 | 56.2374131455 | 87.9627697036 | 92.1243740114 |\n",
       "|  79.981940065 | 62.4220628783 | 75.1650499002 | 99.1174256486 | 100.411737961 |\n",
       "| 79.3782241661 | 66.3880714769 | 71.4922773645 | 95.6010993755 | 99.5037405649 |\n",
       "| 84.1532500568 |  68.615336679 | 74.4649612709 | 94.7732465469 |  99.702933412 |\n",
       "| 82.4780322726 |  68.615336679 | 75.4959100192 | 101.263385938 | 104.361928222 |\n",
       "+---------------+---------------+---------------+---------------+---------------+\n",
       "+---------------+---------------+---------------+---------------+\n",
       "|   script_cnt  |  script_b_cnt |   style_avg   |   style_cnt   |\n",
       "+---------------+---------------+---------------+---------------+\n",
       "|  79.167026042 | 71.4922773645 |      0.0      |      0.0      |\n",
       "| 54.0208909136 |  26.329451707 | 99.9441035424 |  51.33360156  |\n",
       "| 73.7072007182 | 61.1578101264 | 91.6681603743 | 37.0638155688 |\n",
       "| 84.9265138876 |  78.265832753 | 80.9005654591 |  26.329451707 |\n",
       "| 82.8970707479 |  79.981940065 |  76.421347528 |  26.329451707 |\n",
       "| 61.1578101264 | 54.0208909136 |      0.0      |      0.0      |\n",
       "| 71.4922773645 | 69.2613429966 |      0.0      |      0.0      |\n",
       "| 75.4959100192 | 69.2613429966 | 107.570635218 |  51.33360156  |\n",
       "| 79.3782241661 | 71.9784350174 | 103.595235617 | 43.4870843096 |\n",
       "| 64.5862336364 | 58.1141556942 | 103.869500632 |  51.33360156  |\n",
       "+---------------+---------------+---------------+---------------+\n",
       "+-------------------------------+-------------------------------+-----+\n",
       "|              bow              |             tfidf             | ... |\n",
       "+-------------------------------+-------------------------------+-----+\n",
       "| {'pleas': 2, 'shop': 14, '... | {'pleas': 3.30307467567420... | ... |\n",
       "| {'comment': 3, 'code': 1, ... | {'comment': 3.272172493695... | ... |\n",
       "| {'feed': 2, 'fairy-river.c... | {'feed': 2.907472387886124... | ... |\n",
       "| {'illustr': 1, 'steve': 4,... | {'illustr': 3.178528686712... | ... |\n",
       "| {'alfalfa': 2, 'mexican': ... | {'alfalfa': 13.76294129671... | ... |\n",
       "| {'compil': 1, 'shop': 1, '... | {'compil': 3.9802396333186... | ... |\n",
       "| {'anim': 1, 'develop': 1, ... | {'anim': 2.133301743404485... | ... |\n",
       "| {'angenehmen': 1, 'gemeing... | {'angenehmen': 10.24300277... | ... |\n",
       "| {'publicidad': 1, 'ahnegao... | {'publicidad': 5.771363980... | ... |\n",
       "| {'pursuit': 2, 'mahendratr... | {'pursuit': 9.153728955461... | ... |\n",
       "+-------------------------------+-------------------------------+-----+\n",
       "[10 rows x 21 columns]"
      ]
     },
     "execution_count": 27,
     "metadata": {},
     "output_type": "execute_result"
    }
   ],
   "source": [
    "features = ['a_href',\n",
    "            'par',\n",
    "            'title',\n",
    "            'img',\n",
    "            'btn',\n",
    "            'input',\n",
    "            'li',\n",
    "            'link',\n",
    "            'meta',\n",
    "            'script_avg',\n",
    "            'script_b_avg',\n",
    "            'script_cnt',\n",
    "            'script_b_cnt',\n",
    "            'style_avg',\n",
    "            'style_cnt']\n",
    "\n",
    "for f in features:\n",
    "    train_train = train_train.fillna(f, 0.0)     \n",
    "    train_cv = train_cv.fillna(f, 0.0)"
   ]
  },
  {
   "cell_type": "markdown",
   "metadata": {},
   "source": [
    "### Generate BOW"
   ]
  },
  {
   "cell_type": "code",
   "execution_count": 24,
   "metadata": {
    "collapsed": false
   },
   "outputs": [],
   "source": [
    "bow_trn = gl.text_analytics.count_words(train['text'])\n",
    "bow_trn = bow_trn.dict_trim_by_keys(gl.text_analytics.stopwords())\n",
    "\n",
    "bow_tst = gl.text_analytics.count_words(test['text'])\n",
    "bow_tst = bow_tst.dict_trim_by_keys(gl.text_analytics.stopwords())\n",
    "\n",
    "train['bow'] = bow_trn\n",
    "test['bow'] = bow_tst"
   ]
  },
  {
   "cell_type": "markdown",
   "metadata": {},
   "source": [
    "### Generate TF-IDF"
   ]
  },
  {
   "cell_type": "code",
   "execution_count": 25,
   "metadata": {
    "collapsed": false
   },
   "outputs": [],
   "source": [
    "encoder = gl.feature_engineering.create(train, TFIDF('bow', output_column_name='tfidf', min_document_frequency=1e-5))\n",
    "train = encoder.transform(train)\n",
    "test = encoder.transform(test)"
   ]
  },
  {
   "cell_type": "markdown",
   "metadata": {},
   "source": [
    "### Hash TF-IDF"
   ]
  },
  {
   "cell_type": "code",
   "execution_count": 26,
   "metadata": {
    "collapsed": false
   },
   "outputs": [],
   "source": [
    "hash_encoder = gl.feature_engineering.create(train, FeatureHasher(features = ['tfidf'], num_bits=16, \n",
    "                                                                  output_column_name='tfidf_hashed'))\n",
    "train['tfidf_hashed'] = hash_encoder.transform(train)['tfidf_hashed']\n",
    "test['tfidf_hashed'] = hash_encoder.transform(test)['tfidf_hashed']"
   ]
  },
  {
   "cell_type": "markdown",
   "metadata": {},
   "source": [
    "# Generate Submission Model"
   ]
  },
  {
   "cell_type": "code",
   "execution_count": null,
   "metadata": {
    "collapsed": false
   },
   "outputs": [],
   "source": [
    "model = gl.logistic_classifier.create(train, target='sponsored', \n",
    "                                      features=['tfidf_hashed'],\n",
    "                                      validation_set=None,\n",
    "                                      class_weights='auto',\n",
    "                                      max_iterations=10,\n",
    "                                      l2_penalty=0.00,\n",
    "                                      l1_penalty=0.00)"
   ]
  },
  {
   "cell_type": "code",
   "execution_count": null,
   "metadata": {
    "collapsed": false
   },
   "outputs": [],
   "source": [
    "svm_model = gl.svm_classifier.create(train, target='sponsored', \n",
    "                                      features=['tfidf_hashed'],\n",
    "                                      validation_set=None,                                           \n",
    "                                      class_weights='auto',\n",
    "                                      max_iterations=20)"
   ]
  },
  {
   "cell_type": "markdown",
   "metadata": {},
   "source": [
    "### Output model"
   ]
  },
  {
   "cell_type": "code",
   "execution_count": null,
   "metadata": {
    "collapsed": true
   },
   "outputs": [],
   "source": [
    "ypred = model.predict(test, 'probability')\n",
    "\n",
    "submission = gl.SFrame()\n",
    "submission['file'] = test['id'].apply(lambda x: x + '_raw_html.txt')\n",
    "submission['sponsored'] = ypred \n",
    "submission.save('submission_version_4.csv', format='csv')\n",
    "\n",
    "submission = submission.to_dataframe()\n",
    "submission.to_csv('submission_version_4.csv', index=False, float_format='%1.8f')"
   ]
  },
  {
   "cell_type": "markdown",
   "metadata": {},
   "source": [
    "# Experiment"
   ]
  },
  {
   "cell_type": "markdown",
   "metadata": {},
   "source": [
    "### Split train into *train_train*/*train_cv*"
   ]
  },
  {
   "cell_type": "code",
   "execution_count": 28,
   "metadata": {
    "collapsed": false
   },
   "outputs": [],
   "source": [
    "train_train, train_cv = train.random_split(0.80, seed=107)"
   ]
  },
  {
   "cell_type": "code",
   "execution_count": 73,
   "metadata": {
    "collapsed": false
   },
   "outputs": [
    {
     "name": "stdout",
     "output_type": "stream",
     "text": [
      "PROGRESS: Logistic regression:\n",
      "PROGRESS: --------------------------------------------------------\n",
      "PROGRESS: Number of examples          : 269988\n",
      "PROGRESS: Number of classes           : 2\n",
      "PROGRESS: Number of feature columns   : 15\n",
      "PROGRESS: Number of unpacked features : 15\n",
      "PROGRESS: Number of coefficients    : 16\n",
      "PROGRESS: Starting Newton Method\n",
      "PROGRESS: --------------------------------------------------------\n",
      "PROGRESS: +-----------+----------+--------------+-------------------+---------------------+\n",
      "PROGRESS: | Iteration | Passes   | Elapsed Time | Training-accuracy | Validation-accuracy |\n",
      "PROGRESS: +-----------+----------+--------------+-------------------+---------------------+\n",
      "PROGRESS: | 1         | 2        | 0.150984     | 0.594289          | 0.595919            |\n",
      "PROGRESS: | 2         | 3        | 0.246028     | 0.596282          | 0.597619            |\n",
      "PROGRESS: | 3         | 4        | 0.342764     | 0.596389          | 0.597679            |\n",
      "PROGRESS: +-----------+----------+--------------+-------------------+---------------------+\n"
     ]
    }
   ],
   "source": [
    "model = gl.logistic_classifier.create(train_train, target='sponsored', \n",
    "                                      features=features, # + ['tfidf_hashed'],\n",
    "                                      validation_set=train_cv,\n",
    "                                      class_weights='auto',\n",
    "                                      max_iterations=10,\n",
    "                                      feature_rescaling=True,\n",
    "                                      l2_penalty=0.00,\n",
    "                                      l1_penalty=0.00)"
   ]
  },
  {
   "cell_type": "code",
   "execution_count": 66,
   "metadata": {
    "collapsed": true
   },
   "outputs": [],
   "source": [
    "results = gl.SFrame()\n",
    "results['id'] = train_cv['id']\n",
    "results['actual'] = train_cv['sponsored']\n",
    "results['predicted'] = model.predict(train_cv)"
   ]
  },
  {
   "cell_type": "code",
   "execution_count": null,
   "metadata": {
    "collapsed": true
   },
   "outputs": [],
   "source": [
    "train_cv.unpack('tfidf')"
   ]
  },
  {
   "cell_type": "code",
   "execution_count": 71,
   "metadata": {
    "collapsed": false,
    "scrolled": true
   },
   "outputs": [
    {
     "data": {
      "text/plain": [
       "((2207, 3), (2942, 3))"
      ]
     },
     "execution_count": 71,
     "metadata": {},
     "output_type": "execute_result"
    }
   ],
   "source": [
    "FN.shape, FP.shape"
   ]
  },
  {
   "cell_type": "code",
   "execution_count": 70,
   "metadata": {
    "collapsed": false
   },
   "outputs": [],
   "source": [
    "FN = results[results['actual'] > results['predicted']]\n",
    "FP = results[results['actual'] < results['predicted']]"
   ]
  },
  {
   "cell_type": "code",
   "execution_count": 83,
   "metadata": {
    "collapsed": false
   },
   "outputs": [
    {
     "data": {
      "text/html": [
       "<div style=\"max-height:1000px;max-width:1500px;overflow:auto;\"><table frame=\"box\" rules=\"cols\">\n",
       "    <tr>\n",
       "        <th style=\"padding-left: 1em; padding-right: 1em; text-align: center\">id</th>\n",
       "        <th style=\"padding-left: 1em; padding-right: 1em; text-align: center\">actual</th>\n",
       "        <th style=\"padding-left: 1em; padding-right: 1em; text-align: center\">predicted</th>\n",
       "    </tr>\n",
       "    <tr>\n",
       "        <td style=\"padding-left: 1em; padding-right: 1em; text-align: center; vertical-align: top\">3461541</td>\n",
       "        <td style=\"padding-left: 1em; padding-right: 1em; text-align: center; vertical-align: top\">1</td>\n",
       "        <td style=\"padding-left: 1em; padding-right: 1em; text-align: center; vertical-align: top\">0</td>\n",
       "    </tr>\n",
       "    <tr>\n",
       "        <td style=\"padding-left: 1em; padding-right: 1em; text-align: center; vertical-align: top\">3463519</td>\n",
       "        <td style=\"padding-left: 1em; padding-right: 1em; text-align: center; vertical-align: top\">1</td>\n",
       "        <td style=\"padding-left: 1em; padding-right: 1em; text-align: center; vertical-align: top\">0</td>\n",
       "    </tr>\n",
       "    <tr>\n",
       "        <td style=\"padding-left: 1em; padding-right: 1em; text-align: center; vertical-align: top\">3468303</td>\n",
       "        <td style=\"padding-left: 1em; padding-right: 1em; text-align: center; vertical-align: top\">1</td>\n",
       "        <td style=\"padding-left: 1em; padding-right: 1em; text-align: center; vertical-align: top\">0</td>\n",
       "    </tr>\n",
       "    <tr>\n",
       "        <td style=\"padding-left: 1em; padding-right: 1em; text-align: center; vertical-align: top\">3470298</td>\n",
       "        <td style=\"padding-left: 1em; padding-right: 1em; text-align: center; vertical-align: top\">1</td>\n",
       "        <td style=\"padding-left: 1em; padding-right: 1em; text-align: center; vertical-align: top\">0</td>\n",
       "    </tr>\n",
       "    <tr>\n",
       "        <td style=\"padding-left: 1em; padding-right: 1em; text-align: center; vertical-align: top\">3471498</td>\n",
       "        <td style=\"padding-left: 1em; padding-right: 1em; text-align: center; vertical-align: top\">1</td>\n",
       "        <td style=\"padding-left: 1em; padding-right: 1em; text-align: center; vertical-align: top\">0</td>\n",
       "    </tr>\n",
       "    <tr>\n",
       "        <td style=\"padding-left: 1em; padding-right: 1em; text-align: center; vertical-align: top\">3475884</td>\n",
       "        <td style=\"padding-left: 1em; padding-right: 1em; text-align: center; vertical-align: top\">1</td>\n",
       "        <td style=\"padding-left: 1em; padding-right: 1em; text-align: center; vertical-align: top\">0</td>\n",
       "    </tr>\n",
       "    <tr>\n",
       "        <td style=\"padding-left: 1em; padding-right: 1em; text-align: center; vertical-align: top\">3476245</td>\n",
       "        <td style=\"padding-left: 1em; padding-right: 1em; text-align: center; vertical-align: top\">1</td>\n",
       "        <td style=\"padding-left: 1em; padding-right: 1em; text-align: center; vertical-align: top\">0</td>\n",
       "    </tr>\n",
       "    <tr>\n",
       "        <td style=\"padding-left: 1em; padding-right: 1em; text-align: center; vertical-align: top\">3476668</td>\n",
       "        <td style=\"padding-left: 1em; padding-right: 1em; text-align: center; vertical-align: top\">1</td>\n",
       "        <td style=\"padding-left: 1em; padding-right: 1em; text-align: center; vertical-align: top\">0</td>\n",
       "    </tr>\n",
       "    <tr>\n",
       "        <td style=\"padding-left: 1em; padding-right: 1em; text-align: center; vertical-align: top\">3476910</td>\n",
       "        <td style=\"padding-left: 1em; padding-right: 1em; text-align: center; vertical-align: top\">1</td>\n",
       "        <td style=\"padding-left: 1em; padding-right: 1em; text-align: center; vertical-align: top\">0</td>\n",
       "    </tr>\n",
       "    <tr>\n",
       "        <td style=\"padding-left: 1em; padding-right: 1em; text-align: center; vertical-align: top\">3477147</td>\n",
       "        <td style=\"padding-left: 1em; padding-right: 1em; text-align: center; vertical-align: top\">1</td>\n",
       "        <td style=\"padding-left: 1em; padding-right: 1em; text-align: center; vertical-align: top\">0</td>\n",
       "    </tr>\n",
       "</table>\n",
       "[10 rows x 3 columns]<br/>\n",
       "</div>"
      ],
      "text/plain": [
       "Columns:\n",
       "\tid\tstr\n",
       "\tactual\tint\n",
       "\tpredicted\tint\n",
       "\n",
       "Rows: 10\n",
       "\n",
       "Data:\n",
       "+---------+--------+-----------+\n",
       "|    id   | actual | predicted |\n",
       "+---------+--------+-----------+\n",
       "| 3461541 |   1    |     0     |\n",
       "| 3463519 |   1    |     0     |\n",
       "| 3468303 |   1    |     0     |\n",
       "| 3470298 |   1    |     0     |\n",
       "| 3471498 |   1    |     0     |\n",
       "| 3475884 |   1    |     0     |\n",
       "| 3476245 |   1    |     0     |\n",
       "| 3476668 |   1    |     0     |\n",
       "| 3476910 |   1    |     0     |\n",
       "| 3477147 |   1    |     0     |\n",
       "+---------+--------+-----------+\n",
       "[10 rows x 3 columns]"
      ]
     },
     "execution_count": 83,
     "metadata": {},
     "output_type": "execute_result"
    }
   ],
   "source": [
    "FN[720:730]"
   ]
  },
  {
   "cell_type": "code",
   "execution_count": 78,
   "metadata": {
    "collapsed": false
   },
   "outputs": [
    {
     "data": {
      "text/html": [
       "<div style=\"max-height:1000px;max-width:1500px;overflow:auto;\"><table frame=\"box\" rules=\"cols\">\n",
       "    <tr>\n",
       "        <th style=\"padding-left: 1em; padding-right: 1em; text-align: center\">id</th>\n",
       "        <th style=\"padding-left: 1em; padding-right: 1em; text-align: center\">actual</th>\n",
       "        <th style=\"padding-left: 1em; padding-right: 1em; text-align: center\">predicted</th>\n",
       "    </tr>\n",
       "    <tr>\n",
       "        <td style=\"padding-left: 1em; padding-right: 1em; text-align: center; vertical-align: top\">2459719</td>\n",
       "        <td style=\"padding-left: 1em; padding-right: 1em; text-align: center; vertical-align: top\">0</td>\n",
       "        <td style=\"padding-left: 1em; padding-right: 1em; text-align: center; vertical-align: top\">1</td>\n",
       "    </tr>\n",
       "    <tr>\n",
       "        <td style=\"padding-left: 1em; padding-right: 1em; text-align: center; vertical-align: top\">2462395</td>\n",
       "        <td style=\"padding-left: 1em; padding-right: 1em; text-align: center; vertical-align: top\">0</td>\n",
       "        <td style=\"padding-left: 1em; padding-right: 1em; text-align: center; vertical-align: top\">1</td>\n",
       "    </tr>\n",
       "    <tr>\n",
       "        <td style=\"padding-left: 1em; padding-right: 1em; text-align: center; vertical-align: top\">2463741</td>\n",
       "        <td style=\"padding-left: 1em; padding-right: 1em; text-align: center; vertical-align: top\">0</td>\n",
       "        <td style=\"padding-left: 1em; padding-right: 1em; text-align: center; vertical-align: top\">1</td>\n",
       "    </tr>\n",
       "    <tr>\n",
       "        <td style=\"padding-left: 1em; padding-right: 1em; text-align: center; vertical-align: top\">2465064</td>\n",
       "        <td style=\"padding-left: 1em; padding-right: 1em; text-align: center; vertical-align: top\">0</td>\n",
       "        <td style=\"padding-left: 1em; padding-right: 1em; text-align: center; vertical-align: top\">1</td>\n",
       "    </tr>\n",
       "    <tr>\n",
       "        <td style=\"padding-left: 1em; padding-right: 1em; text-align: center; vertical-align: top\">2465306</td>\n",
       "        <td style=\"padding-left: 1em; padding-right: 1em; text-align: center; vertical-align: top\">0</td>\n",
       "        <td style=\"padding-left: 1em; padding-right: 1em; text-align: center; vertical-align: top\">1</td>\n",
       "    </tr>\n",
       "    <tr>\n",
       "        <td style=\"padding-left: 1em; padding-right: 1em; text-align: center; vertical-align: top\">2466792</td>\n",
       "        <td style=\"padding-left: 1em; padding-right: 1em; text-align: center; vertical-align: top\">0</td>\n",
       "        <td style=\"padding-left: 1em; padding-right: 1em; text-align: center; vertical-align: top\">1</td>\n",
       "    </tr>\n",
       "    <tr>\n",
       "        <td style=\"padding-left: 1em; padding-right: 1em; text-align: center; vertical-align: top\">2467320</td>\n",
       "        <td style=\"padding-left: 1em; padding-right: 1em; text-align: center; vertical-align: top\">0</td>\n",
       "        <td style=\"padding-left: 1em; padding-right: 1em; text-align: center; vertical-align: top\">1</td>\n",
       "    </tr>\n",
       "    <tr>\n",
       "        <td style=\"padding-left: 1em; padding-right: 1em; text-align: center; vertical-align: top\">246733</td>\n",
       "        <td style=\"padding-left: 1em; padding-right: 1em; text-align: center; vertical-align: top\">0</td>\n",
       "        <td style=\"padding-left: 1em; padding-right: 1em; text-align: center; vertical-align: top\">1</td>\n",
       "    </tr>\n",
       "    <tr>\n",
       "        <td style=\"padding-left: 1em; padding-right: 1em; text-align: center; vertical-align: top\">2471402</td>\n",
       "        <td style=\"padding-left: 1em; padding-right: 1em; text-align: center; vertical-align: top\">0</td>\n",
       "        <td style=\"padding-left: 1em; padding-right: 1em; text-align: center; vertical-align: top\">1</td>\n",
       "    </tr>\n",
       "    <tr>\n",
       "        <td style=\"padding-left: 1em; padding-right: 1em; text-align: center; vertical-align: top\">2472738</td>\n",
       "        <td style=\"padding-left: 1em; padding-right: 1em; text-align: center; vertical-align: top\">0</td>\n",
       "        <td style=\"padding-left: 1em; padding-right: 1em; text-align: center; vertical-align: top\">1</td>\n",
       "    </tr>\n",
       "</table>\n",
       "[2942 rows x 3 columns]<br/>Note: Only the head of the SFrame is printed.<br/>You can use print_rows(num_rows=m, num_columns=n) to print more rows and columns.\n",
       "</div>"
      ],
      "text/plain": [
       "Columns:\n",
       "\tid\tstr\n",
       "\tactual\tint\n",
       "\tpredicted\tint\n",
       "\n",
       "Rows: 2942\n",
       "\n",
       "Data:\n",
       "+---------+--------+-----------+\n",
       "|    id   | actual | predicted |\n",
       "+---------+--------+-----------+\n",
       "| 2459719 |   0    |     1     |\n",
       "| 2462395 |   0    |     1     |\n",
       "| 2463741 |   0    |     1     |\n",
       "| 2465064 |   0    |     1     |\n",
       "| 2465306 |   0    |     1     |\n",
       "| 2466792 |   0    |     1     |\n",
       "| 2467320 |   0    |     1     |\n",
       "|  246733 |   0    |     1     |\n",
       "| 2471402 |   0    |     1     |\n",
       "| 2472738 |   0    |     1     |\n",
       "+---------+--------+-----------+\n",
       "[2942 rows x 3 columns]\n",
       "Note: Only the head of the SFrame is printed.\n",
       "You can use print_rows(num_rows=m, num_columns=n) to print more rows and columns."
      ]
     },
     "execution_count": 78,
     "metadata": {},
     "output_type": "execute_result"
    }
   ],
   "source": [
    "FP"
   ]
  },
  {
   "cell_type": "code",
   "execution_count": null,
   "metadata": {
    "collapsed": false
   },
   "outputs": [],
   "source": [
    "model.evaluate(train_cv)"
   ]
  },
  {
   "cell_type": "code",
   "execution_count": 64,
   "metadata": {
    "collapsed": false,
    "scrolled": true
   },
   "outputs": [
    {
     "name": "stdout",
     "output_type": "stream",
     "text": [
      "AUC = 0.880905\n"
     ]
    },
    {
     "data": {
      "image/png": "[encoded data removed]",
      "text/plain": [
       "<matplotlib.figure.Figure at 0x7f08289d7650>"
      ]
     },
     "metadata": {},
     "output_type": "display_data"
    }
   ],
   "source": [
    "results = model.evaluate(train_cv, metric='roc_curve')\n",
    "a = results['roc_curve']\n",
    "\n",
    "fpr = list(a['fpr'])\n",
    "tpr = list(a['tpr'])\n",
    "fpr[0] = 1.0\n",
    "tpr[0] = 1.0\n",
    "fpr = np.array(fpr)\n",
    "tpr = np.array(tpr)\n",
    "\n",
    "AUC = np.sum((fpr[:-1] - fpr[1:]) * (tpr[:-1] + (tpr[:-1] - tpr[1:])/2))\n",
    "plt.plot(fpr, tpr)\n",
    "print('AUC = %f'%AUC)"
   ]
  },
  {
   "cell_type": "code",
   "execution_count": null,
   "metadata": {
    "collapsed": true
   },
   "outputs": [],
   "source": [
    "train_cv.remove_column('tfidf_hashed17')"
   ]
  },
  {
   "cell_type": "code",
   "execution_count": 57,
   "metadata": {
    "collapsed": false
   },
   "outputs": [
    {
     "name": "stdout",
     "output_type": "stream",
     "text": [
      "PROGRESS: SVM:\n",
      "PROGRESS: --------------------------------------------------------\n",
      "PROGRESS: Number of examples          : 269988\n",
      "PROGRESS: Number of classes           : 2\n",
      "PROGRESS: Number of feature columns   : 16\n",
      "PROGRESS: Number of unpacked features : 65479\n",
      "PROGRESS: Number of coefficients    : 65480\n",
      "PROGRESS: Starting L-BFGS\n",
      "PROGRESS: --------------------------------------------------------\n",
      "PROGRESS: +-----------+----------+-----------+--------------+-------------------+---------------------+\n",
      "PROGRESS: | Iteration | Passes   | Step size | Elapsed Time | Training-accuracy | Validation-accuracy |\n",
      "PROGRESS: +-----------+----------+-----------+--------------+-------------------+---------------------+\n",
      "PROGRESS: | 1         | 3        | 0.000004  | 3.007788     | 0.499826          | 0.490319            |\n",
      "PROGRESS: | 2         | 5        | 1.000000  | 5.184788     | 0.930797          | 0.919983            |\n",
      "PROGRESS: | 3         | 6        | 1.000000  | 6.704534     | 0.922900          | 0.909929            |\n",
      "PROGRESS: | 4         | 7        | 1.000000  | 8.252736     | 0.893395          | 0.876052            |\n",
      "PROGRESS: | 5         | 8        | 1.000000  | 9.788779     | 0.915948          | 0.897622            |\n",
      "PROGRESS: | 6         | 9        | 1.000000  | 11.330098    | 0.937219          | 0.916314            |\n",
      "PROGRESS: | 7         | 10       | 1.000000  | 12.882430    | 0.938227          | 0.913867            |\n",
      "PROGRESS: | 8         | 11       | 1.000000  | 14.435389    | 0.940275          | 0.912241            |\n",
      "PROGRESS: | 9         | 12       | 1.000000  | 15.998724    | 0.940064          | 0.908601            |\n",
      "PROGRESS: | 10        | 13       | 1.000000  | 17.549818    | 0.940831          | 0.907005            |\n",
      "PROGRESS: | 11        | 14       | 1.000000  | 19.116012    | 0.942479          | 0.907602            |\n",
      "PROGRESS: | 12        | 15       | 1.000000  | 20.683897    | 0.945149          | 0.909019            |\n",
      "PROGRESS: | 13        | 16       | 1.000000  | 22.255559    | 0.947742          | 0.909646            |\n",
      "PROGRESS: | 14        | 17       | 1.000000  | 23.828869    | 0.949031          | 0.908900            |\n",
      "PROGRESS: | 15        | 18       | 1.000000  | 25.386489    | 0.949353          | 0.908020            |\n",
      "PROGRESS: +-----------+----------+-----------+--------------+-------------------+---------------------+\n"
     ]
    }
   ],
   "source": [
    "svm_model = gl.svm_classifier.create(train_train, target='sponsored', \n",
    "                                      features=features + ['tfidf_hashed'],\n",
    "                                      validation_set=train_cv,                                           \n",
    "                                      class_weights='auto',\n",
    "                                      max_iterations=15)"
   ]
  },
  {
   "cell_type": "code",
   "execution_count": 60,
   "metadata": {
    "collapsed": false
   },
   "outputs": [
    {
     "data": {
      "text/plain": [
       "Class                         : SVMClassifier\n",
       "\n",
       "Schema\n",
       "------\n",
       "Number of coefficients        : 65480\n",
       "Number of examples            : 269988\n",
       "Number of classes             : 2\n",
       "Number of feature columns     : 16\n",
       "Number of unpacked features   : 65479\n",
       "\n",
       "Hyperparameters\n",
       "---------------\n",
       "Mis-classification penalty    : 1.0\n",
       "\n",
       "Training Summary\n",
       "----------------\n",
       "Solver                        : auto\n",
       "Solver iterations             : 15\n",
       "Solver status                 : TERMINATED: Iteration limit reached.\n",
       "Training time (sec)           : 26.2553\n",
       "\n",
       "Settings\n",
       "--------\n",
       "Train Loss                    : 10182.9826\n",
       "\n",
       "Highest Positive Coefficients\n",
       "-----------------------------\n",
       "tfidf_hashed[32859]           : 0.6915\n",
       "tfidf_hashed[7681]            : 0.4172\n",
       "tfidf_hashed[6147]            : 0.3726\n",
       "tfidf_hashed[51081]           : 0.3615\n",
       "tfidf_hashed[24142]           : 0.3589\n",
       "\n",
       "Lowest Negative Coefficients\n",
       "----------------------------\n",
       "tfidf_hashed[52880]           : -0.4636\n",
       "(intercept)                   : -0.439\n",
       "tfidf_hashed[819]             : -0.3618\n",
       "tfidf_hashed[50470]           : -0.3429\n",
       "tfidf_hashed[48565]           : -0.3288"
      ]
     },
     "execution_count": 60,
     "metadata": {},
     "output_type": "execute_result"
    }
   ],
   "source": [
    "svm_model"
   ]
  },
  {
   "cell_type": "code",
   "execution_count": 58,
   "metadata": {
    "collapsed": false
   },
   "outputs": [],
   "source": [
    "train_cv['margin'] = svm_model.predict(train_cv, output_type='margin')\n",
    "preds = train_cv[['sponsored', 'margin']].sort('margin')\n",
    "train_cv.remove_column('margin')\n",
    "\n",
    "pd_preds = preds.to_dataframe()\n",
    "pd_preds['number'] = 1.0\n",
    "\n",
    "pd_preds_cum = pd_preds.cumsum()\n",
    "\n",
    "total_positives = np.asarray(pd_preds_cum['sponsored'])[-1]\n",
    "total = np.asarray(pd_preds_cum['number'])[-1]\n",
    "total_negatives = total - total_positives\n",
    "\n",
    "pd_preds_cum['FN'] = pd_preds_cum['sponsored']\n",
    "pd_preds_cum['TN'] = pd_preds_cum['number'] - pd_preds_cum['sponsored']\n",
    "\n",
    "pd_preds_cum['TP'] = total_positives - pd_preds_cum['FN']\n",
    "pd_preds_cum['FP'] = total - total_positives - pd_preds_cum['TN']\n",
    "\n",
    "pd_preds_cum['fpr'] = pd_preds_cum['FP'] / (pd_preds_cum['FP'] + pd_preds_cum['TN'])\n",
    "pd_preds_cum['tpr'] = pd_preds_cum['TP'] / (pd_preds_cum['TP'] + pd_preds_cum['FN'])\n",
    "\n"
   ]
  },
  {
   "cell_type": "code",
   "execution_count": 59,
   "metadata": {
    "collapsed": false
   },
   "outputs": [
    {
     "name": "stdout",
     "output_type": "stream",
     "text": [
      "AUC = 0.894249\n"
     ]
    },
    {
     "data": {
      "image/png": "[encoded data removed]",
      "text/plain": [
       "<matplotlib.figure.Figure at 0x7f0821ea4850>"
      ]
     },
     "metadata": {},
     "output_type": "display_data"
    }
   ],
   "source": [
    "a = pd_preds_cum\n",
    "\n",
    "fpr = list(a['fpr'])\n",
    "tpr = list(a['tpr'])\n",
    "fpr[0] = 1.0\n",
    "tpr[0] = 1.0\n",
    "fpr = np.array(fpr)\n",
    "tpr = np.array(tpr)\n",
    "\n",
    "AUC = np.sum((fpr[:-1] - fpr[1:]) * (tpr[:-1] + (tpr[:-1] - tpr[1:])/2))\n",
    "plt.plot(fpr, tpr)\n",
    "print('AUC = %f'%AUC)"
   ]
  },
  {
   "cell_type": "code",
   "execution_count": null,
   "metadata": {
    "collapsed": true
   },
   "outputs": [],
   "source": [
    "train_cv['margin'] = svm_model.predict(train_cv, output_type='margin')\n",
    "preds = train_cv[['sponsored', 'margin']]\n",
    "preds['margin'].show()"
   ]
  },
  {
   "cell_type": "code",
   "execution_count": null,
   "metadata": {
    "collapsed": false
   },
   "outputs": [],
   "source": [
    "(preds[preds['margin'] < 55]['sponsored']).sum()"
   ]
  },
  {
   "cell_type": "code",
   "execution_count": null,
   "metadata": {
    "collapsed": false
   },
   "outputs": [],
   "source": [
    "ts = np.arange(-22, 50, 0.1)\n",
    "[for t in ts]"
   ]
  },
  {
   "cell_type": "code",
   "execution_count": null,
   "metadata": {
    "collapsed": false
   },
   "outputs": [],
   "source": [
    "svm_model.evaluate(train_cv)"
   ]
  },
  {
   "cell_type": "code",
   "execution_count": null,
   "metadata": {
    "collapsed": false
   },
   "outputs": [],
   "source": [
    "results = svm_model.evaluate(train_cv, metric='roc_curve')\n",
    "a = results['roc_curve']\n",
    "\n",
    "fpr = list(a['fpr'])\n",
    "tpr = list(a['tpr'])\n",
    "fpr[0] = 1.0\n",
    "tpr[0] = 1.0\n",
    "fpr = np.array(fpr)\n",
    "tpr = np.array(tpr)\n",
    "\n",
    "AUC = np.sum((fpr[:-1] - fpr[1:]) * (tpr[:-1] + (tpr[:-1] - tpr[1:])/2))\n",
    "plt.plot(fpr, tpr)\n",
    "print('AUC = %f'%AUC)"
   ]
  },
  {
   "cell_type": "code",
   "execution_count": null,
   "metadata": {
    "collapsed": false
   },
   "outputs": [],
   "source": [
    "results"
   ]
  },
  {
   "cell_type": "markdown",
   "metadata": {},
   "source": [
    "# Save Datasets?"
   ]
  },
  {
   "cell_type": "code",
   "execution_count": null,
   "metadata": {
    "collapsed": true
   },
   "outputs": [],
   "source": [
    "train_train.save('dataset_train_train')\n",
    "train_cv.save('dataset_train_cv')\n",
    "test.save('dataset_test')"
   ]
  },
  {
   "cell_type": "markdown",
   "metadata": {},
   "source": [
    "# Junk"
   ]
  },
  {
   "cell_type": "code",
   "execution_count": null,
   "metadata": {
    "collapsed": true
   },
   "outputs": [],
   "source": [
    "hash_encoder = gl.feature_engineering.create(train_train, FeatureHasher(features = ['tfidf'], num_bits=17, \n",
    "                                                                  output_column_name='tfidf_hashed_17'))\n",
    "train_train['tfidf_hashed_17'] = hash_encoder.transform(train_train)['tfidf_hashed_17']\n",
    "train_cv['tfidf_hashed_17'] = hash_encoder.transform(train_cv)['tfidf_hashed_17']"
   ]
  },
  {
   "cell_type": "code",
   "execution_count": null,
   "metadata": {
    "collapsed": false
   },
   "outputs": [],
   "source": [
    "train_train.head()"
   ]
  },
  {
   "cell_type": "code",
   "execution_count": null,
   "metadata": {
    "collapsed": false
   },
   "outputs": [],
   "source": [
    "model_15 = gl.logistic_classifier.create(train_train, target='sponsored', \n",
    "                                      features=['tfidf_hashed_15'],\n",
    "                                      validation_set=train_cv,\n",
    "                                      class_weights='auto',\n",
    "                                      max_iterations=40,\n",
    "                                      feature_rescaling=True,\n",
    "                                      l2_penalty=0.00,\n",
    "                                      l1_penalty=0.00)"
   ]
  },
  {
   "cell_type": "code",
   "execution_count": null,
   "metadata": {
    "collapsed": false,
    "scrolled": true
   },
   "outputs": [],
   "source": [
    "model_15"
   ]
  },
  {
   "cell_type": "code",
   "execution_count": null,
   "metadata": {
    "collapsed": false
   },
   "outputs": [],
   "source": [
    "model_15.evaluate(train_cv)"
   ]
  },
  {
   "cell_type": "code",
   "execution_count": null,
   "metadata": {
    "collapsed": false
   },
   "outputs": [],
   "source": [
    "results = model_15.evaluate(train_cv, metric='roc_curve')\n",
    "a = results['roc_curve']\n",
    "\n",
    "fpr = list(a['fpr'])\n",
    "tpr = list(a['tpr'])\n",
    "fpr[0] = 1.0\n",
    "tpr[0] = 1.0\n",
    "fpr = np.array(fpr)\n",
    "tpr = np.array(tpr)\n",
    "\n",
    "AUC = np.sum((fpr[:-1] - fpr[1:]) * (tpr[:-1] + (tpr[:-1] - tpr[1:])/2))\n",
    "plt.plot(fpr, tpr)\n",
    "print('AUC = %f'%AUC)"
   ]
  },
  {
   "cell_type": "code",
   "execution_count": null,
   "metadata": {
    "collapsed": false
   },
   "outputs": [],
   "source": [
    "model_16 = gl.logistic_classifier.create(train_train, target='sponsored', \n",
    "                                      features=['tfidf_hashed_16'],\n",
    "                                      validation_set=train_cv,\n",
    "                                      class_weights='auto',\n",
    "                                      max_iterations=20,\n",
    "                                      feature_rescaling=True,\n",
    "                                      l2_penalty=0.00,\n",
    "                                      l1_penalty=0.00)"
   ]
  },
  {
   "cell_type": "code",
   "execution_count": null,
   "metadata": {
    "collapsed": false
   },
   "outputs": [],
   "source": [
    "model_16.evaluate(train_cv)"
   ]
  },
  {
   "cell_type": "code",
   "execution_count": null,
   "metadata": {
    "collapsed": false
   },
   "outputs": [],
   "source": [
    "results = model_16.evaluate(train_cv, metric='roc_curve')\n",
    "a = results['roc_curve']\n",
    "\n",
    "fpr = list(a['fpr'])\n",
    "tpr = list(a['tpr'])\n",
    "fpr[0] = 1.0\n",
    "tpr[0] = 1.0\n",
    "fpr = np.array(fpr)\n",
    "tpr = np.array(tpr)\n",
    "\n",
    "AUC = np.sum((fpr[:-1] - fpr[1:]) * (tpr[:-1] + (tpr[:-1] - tpr[1:])/2))\n",
    "plt.plot(fpr, tpr)\n",
    "print('AUC = %f'%AUC)"
   ]
  },
  {
   "cell_type": "code",
   "execution_count": null,
   "metadata": {
    "collapsed": false
   },
   "outputs": [],
   "source": [
    "model_17 = gl.logistic_classifier.create(train_train, target='sponsored', \n",
    "                                      features=['tfidf_hashed_17'],\n",
    "                                      validation_set=train_cv,\n",
    "                                      class_weights=None, #'auto',\n",
    "                                      max_iterations=8,\n",
    "                                      feature_rescaling=True,\n",
    "                                      l2_penalty=0.00,\n",
    "                                      l1_penalty=0.00)"
   ]
  },
  {
   "cell_type": "code",
   "execution_count": null,
   "metadata": {
    "collapsed": false
   },
   "outputs": [],
   "source": [
    "model_17 = gl.logistic_classifier.create(train_train, target='sponsored', \n",
    "                                      features=['tfidf_hashed_17'],\n",
    "                                      validation_set=train_cv,\n",
    "                                      class_weights=None, #'auto',\n",
    "                                      max_iterations=7,\n",
    "                                      feature_rescaling=True,\n",
    "                                      l2_penalty=0.00,\n",
    "                                      l1_penalty=0.00)"
   ]
  },
  {
   "cell_type": "code",
   "execution_count": null,
   "metadata": {
    "collapsed": false
   },
   "outputs": [],
   "source": [
    "model_17.evaluate(train_cv)"
   ]
  },
  {
   "cell_type": "code",
   "execution_count": null,
   "metadata": {
    "collapsed": false
   },
   "outputs": [],
   "source": [
    "results = model_17.evaluate(train_cv, metric='roc_curve')\n",
    "a = results['roc_curve']\n",
    "\n",
    "fpr = list(a['fpr'])\n",
    "tpr = list(a['tpr'])\n",
    "fpr[0] = 1.0\n",
    "tpr[0] = 1.0\n",
    "fpr = np.array(fpr)\n",
    "tpr = np.array(tpr)\n",
    "\n",
    "AUC = np.sum((fpr[:-1] - fpr[1:]) * (tpr[:-1] + (tpr[:-1] - tpr[1:])/2))\n",
    "plt.plot(fpr, tpr)\n",
    "print('AUC = %f'%AUC)"
   ]
  },
  {
   "cell_type": "code",
   "execution_count": null,
   "metadata": {
    "collapsed": false
   },
   "outputs": [],
   "source": [
    "gl.svm_classifier.create(train_train, target='sponsored', \n",
    "                                      features=['tfidf_hashed_15'],\n",
    "                                      validation_set=train_cv,                                           \n",
    "                                      class_weights='auto',\n",
    "                                      max_iterations=40)"
   ]
  },
  {
   "cell_type": "code",
   "execution_count": null,
   "metadata": {
    "collapsed": false,
    "scrolled": true
   },
   "outputs": [],
   "source": [
    "gl.svm_classifier.create(train_train, target='sponsored', \n",
    "                                      features=['tfidf_hashed_16'],\n",
    "                                      validation_set=train_cv,                                           \n",
    "                                      class_weights='auto',\n",
    "                                      max_iterations=40)"
   ]
  },
  {
   "cell_type": "code",
   "execution_count": null,
   "metadata": {
    "collapsed": false
   },
   "outputs": [],
   "source": [
    "gl.svm_classifier.create(train_train, target='sponsored', \n",
    "                                      features=['tfidf_hashed_17'],\n",
    "                                      validation_set=train_cv,                                           \n",
    "                                      class_weights='auto',\n",
    "                                      max_iterations=40)"
   ]
  },
  {
   "cell_type": "code",
   "execution_count": null,
   "metadata": {
    "collapsed": false
   },
   "outputs": [],
   "source": [
    "train.head()"
   ]
  },
  {
   "cell_type": "code",
   "execution_count": null,
   "metadata": {
    "collapsed": true
   },
   "outputs": [],
   "source": [
    "train.save('tfidf_hashed_16_train')\n",
    "test.save('tfidf_hashed_16_test')"
   ]
  },
  {
   "cell_type": "code",
   "execution_count": null,
   "metadata": {
    "collapsed": true
   },
   "outputs": [],
   "source": [
    "train_train.save('tfidf_hashed_16_split_train_train')\n",
    "train_cv.save('tfidf_hashed_16_split_train_cv')"
   ]
  }
 ],
 "metadata": {
  "kernelspec": {
   "display_name": "Python 2",
   "language": "python",
   "name": "python2"
  },
  "language_info": {
   "codemirror_mode": {
    "name": "ipython",
    "version": 2
   },
   "file_extension": ".py",
   "mimetype": "text/x-python",
   "name": "python",
   "nbconvert_exporter": "python",
   "pygments_lexer": "ipython2",
   "version": "2.7.9"
  }
 },
 "nbformat": 4,
 "nbformat_minor": 0
}
