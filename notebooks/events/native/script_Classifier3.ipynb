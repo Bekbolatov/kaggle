{
 "cells": [
  {
   "cell_type": "code",
   "execution_count": 1,
   "metadata": {
    "collapsed": false
   },
   "outputs": [
    {
     "name": "stderr",
     "output_type": "stream",
     "text": [
      "[WARNING] This Python session does not appear to be running in an interactive IPython Notebook. Use of the 'ipynb' target may behave unexpectedly or result in errors.\n"
     ]
    }
   ],
   "source": [
    "%matplotlib inline\n",
    "\n",
    "import matplotlib\n",
    "import numpy as np\n",
    "import matplotlib.pyplot as plt\n",
    "import pandas as pd\n",
    "\n",
    "import re\n",
    "import graphlab as gl\n",
    "from graphlab.toolkits.feature_engineering import TFIDF, FeatureHasher, QuadraticFeatures\n",
    "\n",
    "gl.canvas.set_target('ipynb')\n",
    "\n",
    "# put in the path to the kaggle data\n",
    "PATH_TO_JSON = \"docs_prod_03/\"\n",
    "PATH_TO_TRAIN_LABELS = \"input/train.csv\"\n",
    "PATH_TO_TEST_LABELS = \"input/sampleSubmission.csv\""
   ]
  },
  {
   "cell_type": "code",
   "execution_count": 3,
   "metadata": {
    "collapsed": false
   },
   "outputs": [
    {
     "name": "stderr",
     "output_type": "stream",
     "text": [
      "[INFO] This trial license of GraphLab Create is assigned to renatbek@gmail.com and will expire on October 08, 2015. Please contact trial@dato.com for licensing options or to request a free non-commercial license for personal or academic use.\n",
      "\n",
      "[INFO] Start server at: ipc:///tmp/graphlab_server-11891 - Server binary: /usr/local/lib/python2.7/site-packages/graphlab/unity_server - Server log: /tmp/graphlab_server_1442443952.log\n",
      "[INFO] GraphLab Server Version: 1.5.2\n"
     ]
    },
    {
     "name": "stdout",
     "output_type": "stream",
     "text": [
      "PROGRESS: Finished parsing file /mnt/data/docs_prod_03/20\n",
      "PROGRESS: Parsing completed. Parsed 100 lines in 0.144866 secs.\n",
      "------------------------------------------------------\n",
      "Inferred types from first line of file as \n",
      "column_type_hints=[dict]\n",
      "If parsing fails due to incorrect types, you can correct\n",
      "the inferred type list above and pass it to read_csv in\n",
      "the column_type_hints argument\n",
      "------------------------------------------------------\n",
      "PROGRESS: Finished parsing file /mnt/data/docs_prod_03/20\n",
      "PROGRESS: Read 5681 lines. Lines per second: 14785.2\n",
      "PROGRESS: Finished parsing file /mnt/data/docs_prod_03/7\n",
      "PROGRESS: Finished parsing file /mnt/data/docs_prod_03/24\n",
      "PROGRESS: Finished parsing file /mnt/data/docs_prod_03/2\n",
      "PROGRESS: Finished parsing file /mnt/data/docs_prod_03/0\n",
      "PROGRESS: Finished parsing file /mnt/data/docs_prod_03/54\n",
      "PROGRESS: Finished parsing file /mnt/data/docs_prod_03/51\n",
      "PROGRESS: Finished parsing file /mnt/data/docs_prod_03/42\n",
      "PROGRESS: Finished parsing file /mnt/data/docs_prod_03/67\n",
      "PROGRESS: Finished parsing file /mnt/data/docs_prod_03/44\n",
      "PROGRESS: Finished parsing file /mnt/data/docs_prod_03/27\n",
      "PROGRESS: Finished parsing file /mnt/data/docs_prod_03/16\n",
      "PROGRESS: Finished parsing file /mnt/data/docs_prod_03/31\n",
      "PROGRESS: Finished parsing file /mnt/data/docs_prod_03/35\n",
      "PROGRESS: Finished parsing file /mnt/data/docs_prod_03/69\n",
      "PROGRESS: Finished parsing file /mnt/data/docs_prod_03/64\n",
      "PROGRESS: Finished parsing file /mnt/data/docs_prod_03/61\n",
      "PROGRESS: Finished parsing file /mnt/data/docs_prod_03/57\n",
      "PROGRESS: Finished parsing file /mnt/data/docs_prod_03/40\n",
      "PROGRESS: Finished parsing file /mnt/data/docs_prod_03/55\n",
      "PROGRESS: Read 113689 lines. Lines per second: 20874.1\n",
      "PROGRESS: Finished parsing file /mnt/data/docs_prod_03/53\n",
      "PROGRESS: Finished parsing file /mnt/data/docs_prod_03/4\n",
      "PROGRESS: Finished parsing file /mnt/data/docs_prod_03/34\n",
      "PROGRESS: Finished parsing file /mnt/data/docs_prod_03/41\n",
      "PROGRESS: Finished parsing file /mnt/data/docs_prod_03/38\n",
      "PROGRESS: Finished parsing file /mnt/data/docs_prod_03/33\n",
      "PROGRESS: Finished parsing file /mnt/data/docs_prod_03/28\n",
      "PROGRESS: Finished parsing file /mnt/data/docs_prod_03/52\n",
      "PROGRESS: Finished parsing file /mnt/data/docs_prod_03/12\n",
      "PROGRESS: Finished parsing file /mnt/data/docs_prod_03/13\n",
      "PROGRESS: Finished parsing file /mnt/data/docs_prod_03/39\n",
      "PROGRESS: Finished parsing file /mnt/data/docs_prod_03/60\n",
      "PROGRESS: Finished parsing file /mnt/data/docs_prod_03/8\n",
      "PROGRESS: Finished parsing file /mnt/data/docs_prod_03/65\n",
      "PROGRESS: Finished parsing file /mnt/data/docs_prod_03/50\n",
      "PROGRESS: Finished parsing file /mnt/data/docs_prod_03/1\n",
      "PROGRESS: Finished parsing file /mnt/data/docs_prod_03/45\n",
      "PROGRESS: Finished parsing file /mnt/data/docs_prod_03/63\n",
      "PROGRESS: Finished parsing file /mnt/data/docs_prod_03/3\n",
      "PROGRESS: Read 221721 lines. Lines per second: 21137.5\n",
      "PROGRESS: Finished parsing file /mnt/data/docs_prod_03/22\n",
      "PROGRESS: Finished parsing file /mnt/data/docs_prod_03/49\n",
      "PROGRESS: Finished parsing file /mnt/data/docs_prod_03/59\n",
      "PROGRESS: Finished parsing file /mnt/data/docs_prod_03/9\n",
      "PROGRESS: Finished parsing file /mnt/data/docs_prod_03/68\n",
      "PROGRESS: Finished parsing file /mnt/data/docs_prod_03/26\n",
      "PROGRESS: Finished parsing file /mnt/data/docs_prod_03/18\n",
      "PROGRESS: Finished parsing file /mnt/data/docs_prod_03/29\n",
      "PROGRESS: Finished parsing file /mnt/data/docs_prod_03/15\n",
      "PROGRESS: Finished parsing file /mnt/data/docs_prod_03/70\n",
      "PROGRESS: Finished parsing file /mnt/data/docs_prod_03/58\n",
      "PROGRESS: Finished parsing file /mnt/data/docs_prod_03/37\n",
      "PROGRESS: Finished parsing file /mnt/data/docs_prod_03/25\n",
      "PROGRESS: Finished parsing file /mnt/data/docs_prod_03/5\n",
      "PROGRESS: Finished parsing file /mnt/data/docs_prod_03/48\n",
      "PROGRESS: Finished parsing file /mnt/data/docs_prod_03/47\n",
      "PROGRESS: Finished parsing file /mnt/data/docs_prod_03/32\n",
      "PROGRESS: Finished parsing file /mnt/data/docs_prod_03/17\n",
      "PROGRESS: Finished parsing file /mnt/data/docs_prod_03/14\n",
      "PROGRESS: Finished parsing file /mnt/data/docs_prod_03/66\n",
      "PROGRESS: Read 335384 lines. Lines per second: 21583.2\n",
      "PROGRESS: Finished parsing file /mnt/data/docs_prod_03/6\n",
      "PROGRESS: Finished parsing file /mnt/data/docs_prod_03/10\n",
      "PROGRESS: Finished parsing file /mnt/data/docs_prod_03/62\n",
      "PROGRESS: Finished parsing file /mnt/data/docs_prod_03/30\n",
      "PROGRESS: Finished parsing file /mnt/data/docs_prod_03/56\n",
      "PROGRESS: Finished parsing file /mnt/data/docs_prod_03/21\n",
      "PROGRESS: Finished parsing file /mnt/data/docs_prod_03/19\n",
      "PROGRESS: Finished parsing file /mnt/data/docs_prod_03/23\n",
      "PROGRESS: Finished parsing file /mnt/data/docs_prod_03/46\n",
      "PROGRESS: Finished parsing file /mnt/data/docs_prod_03/43\n",
      "PROGRESS: Finished parsing file /mnt/data/docs_prod_03/11\n",
      "PROGRESS: Finished parsing file /mnt/data/docs_prod_03/36\n",
      "PROGRESS: Parsing completed. Parsed 403618 lines in 19.0693 secs.\n"
     ]
    }
   ],
   "source": [
    "sf = gl.SFrame.read_csv(PATH_TO_JSON, header=False)\n",
    "sf = sf.unpack('X1',column_name_prefix='')"
   ]
  },
  {
   "cell_type": "code",
   "execution_count": 5,
   "metadata": {
    "collapsed": false
   },
   "outputs": [
    {
     "name": "stdout",
     "output_type": "stream",
     "text": [
      "PROGRESS: Finished parsing file /mnt/data/input/train.csv\n",
      "PROGRESS: Parsing completed. Parsed 100 lines in 0.156808 secs.\n",
      "------------------------------------------------------\n",
      "Inferred types from first line of file as \n",
      "column_type_hints=[str,int]\n",
      "If parsing fails due to incorrect types, you can correct\n",
      "the inferred type list above and pass it to read_csv in\n",
      "the column_type_hints argument\n",
      "------------------------------------------------------\n",
      "PROGRESS: Finished parsing file /mnt/data/input/train.csv\n",
      "PROGRESS: Parsing completed. Parsed 337024 lines in 0.1385 secs.\n",
      "PROGRESS: Finished parsing file /mnt/data/input/sampleSubmission.csv\n",
      "PROGRESS: Parsing completed. Parsed 100 lines in 0.054045 secs.\n",
      "------------------------------------------------------\n",
      "Inferred types from first line of file as \n",
      "column_type_hints=[str,int]\n",
      "If parsing fails due to incorrect types, you can correct\n",
      "the inferred type list above and pass it to read_csv in\n",
      "the column_type_hints argument\n",
      "------------------------------------------------------\n",
      "PROGRESS: Finished parsing file /mnt/data/input/sampleSubmission.csv\n",
      "PROGRESS: Parsing completed. Parsed 66772 lines in 0.047736 secs.\n"
     ]
    }
   ],
   "source": [
    "train_labels = gl.SFrame.read_csv(PATH_TO_TRAIN_LABELS)\n",
    "test_labels = gl.SFrame.read_csv(PATH_TO_TEST_LABELS)"
   ]
  },
  {
   "cell_type": "code",
   "execution_count": 6,
   "metadata": {
    "collapsed": true
   },
   "outputs": [],
   "source": [
    "train_labels['id'] = train_labels['file'].apply(lambda x: str(x.split('_')[0] ))\n",
    "train_labels = train_labels.remove_column('file')\n",
    "test_labels['id'] = test_labels['file'].apply(lambda x: str(x.split('_')[0] ))\n",
    "test_labels = test_labels.remove_column('file')"
   ]
  },
  {
   "cell_type": "code",
   "execution_count": 7,
   "metadata": {
    "collapsed": true
   },
   "outputs": [],
   "source": [
    "sf['id'] = sf['id'].apply(lambda x: str(x.split('_')[0] ))"
   ]
  },
  {
   "cell_type": "code",
   "execution_count": 9,
   "metadata": {
    "collapsed": true
   },
   "outputs": [],
   "source": [
    "train = train_labels.join(sf, on='id', how='left')\n",
    "test = test_labels.join(sf, on='id', how='left')"
   ]
  },
  {
   "cell_type": "code",
   "execution_count": 12,
   "metadata": {
    "collapsed": true
   },
   "outputs": [],
   "source": [
    "bow_trn = gl.text_analytics.count_words(train['text'])\n",
    "bow_trn = bow_trn.dict_trim_by_keys(gl.text_analytics.stopwords())\n",
    "\n",
    "bow_tst = gl.text_analytics.count_words(test['text'])\n",
    "bow_tst = bow_tst.dict_trim_by_keys(gl.text_analytics.stopwords())\n",
    "\n",
    "train['bow'] = bow_trn\n",
    "test['bow'] = bow_tst"
   ]
  },
  {
   "cell_type": "code",
   "execution_count": 14,
   "metadata": {
    "collapsed": true
   },
   "outputs": [],
   "source": [
    "encoder = gl.feature_engineering.create(train, TFIDF('bow', output_column_name='tfidf'))\n",
    "train = encoder.transform(train)\n",
    "test = encoder.transform(test)"
   ]
  },
  {
   "cell_type": "code",
   "execution_count": 32,
   "metadata": {
    "collapsed": false
   },
   "outputs": [],
   "source": [
    "hash_encoder = gl.feature_engineering.create(train, FeatureHasher(features = ['tfidf'], num_bits=14, \n",
    "                                                                  output_column_name='tfidf_hashed_14'))\n",
    "train['tfidf_hashed_14'] = hash_encoder.transform(train)['tfidf_hashed_14']\n",
    "test['tfidf_hashed_14'] = hash_encoder.transform(test)['tfidf_hashed_14']"
   ]
  },
  {
   "cell_type": "code",
   "execution_count": 32,
   "metadata": {
    "collapsed": false
   },
   "outputs": [],
   "source": [
    "hash_encoder = gl.feature_engineering.create(train, FeatureHasher(features = ['tfidf'], num_bits=13, \n",
    "                                                                  output_column_name='tfidf_hashed_13'))\n",
    "train['tfidf_hashed_13'] = hash_encoder.transform(train)['tfidf_hashed_13']\n",
    "test['tfidf_hashed_13'] = hash_encoder.transform(test)['tfidf_hashed_13']"
   ]
  },
  {
   "cell_type": "code",
   "execution_count": 35,
   "metadata": {
    "collapsed": true
   },
   "outputs": [],
   "source": [
    "train_train_2, train_cv_2 = train.random_split(0.86, seed=103)"
   ]
  },
  {
   "cell_type": "code",
   "execution_count": 25,
   "metadata": {
    "collapsed": true
   },
   "outputs": [],
   "source": [
    "train_train.save('dataset_3_train_train')\n",
    "train_cv.save('dataset_3_train_cv')\n",
    "test.save('dataset_3_test')\n",
    "#gl.logistic_classifier.create?"
   ]
  },
  {
   "cell_type": "code",
   "execution_count": 57,
   "metadata": {
    "collapsed": false
   },
   "outputs": [
    {
     "name": "stdout",
     "output_type": "stream",
     "text": [
      "PROGRESS: Logistic regression:\n",
      "PROGRESS: --------------------------------------------------------\n",
      "PROGRESS: Number of examples          : 289704\n",
      "PROGRESS: Number of classes           : 2\n",
      "PROGRESS: Number of feature columns   : 1\n",
      "PROGRESS: Number of unpacked features : 16384\n",
      "PROGRESS: Number of coefficients    : 16385\n",
      "PROGRESS: Starting L-BFGS\n",
      "PROGRESS: --------------------------------------------------------\n",
      "PROGRESS: +-----------+----------+-----------+--------------+-------------------+---------------------+\n",
      "PROGRESS: | Iteration | Passes   | Step size | Elapsed Time | Training-accuracy | Validation-accuracy |\n",
      "PROGRESS: +-----------+----------+-----------+--------------+-------------------+---------------------+\n",
      "PROGRESS: | 1         | 3        | 0.000003  | 3.573601     | 0.543513          | 0.534214            |\n",
      "PROGRESS: | 2         | 5        | 1.000000  | 7.060986     | 0.845798          | 0.836010            |\n",
      "PROGRESS: | 3         | 6        | 1.000000  | 9.366140     | 0.744277          | 0.732185            |\n",
      "PROGRESS: | 4         | 7        | 1.000000  | 11.652005    | 0.832508          | 0.819315            |\n",
      "PROGRESS: | 5         | 8        | 1.000000  | 13.952780    | 0.858235          | 0.843745            |\n",
      "PROGRESS: | 6         | 9        | 1.000000  | 16.245382    | 0.852753          | 0.836074            |\n",
      "PROGRESS: | 7         | 10       | 1.000000  | 18.535520    | 0.888655          | 0.870330            |\n",
      "PROGRESS: | 8         | 11       | 1.000000  | 20.826240    | 0.885162          | 0.866145            |\n",
      "PROGRESS: | 9         | 12       | 1.000000  | 23.123289    | 0.872656          | 0.852578            |\n",
      "PROGRESS: | 10        | 13       | 1.000000  | 25.420755    | 0.874928          | 0.853994            |\n",
      "PROGRESS: | 11        | 14       | 1.000000  | 27.715258    | 0.881448          | 0.855790            |\n",
      "PROGRESS: | 12        | 15       | 1.000000  | 29.995745    | 0.887962          | 0.862532            |\n",
      "PROGRESS: | 13        | 16       | 1.000000  | 32.304476    | 0.890754          | 0.865152            |\n",
      "PROGRESS: | 14        | 17       | 1.000000  | 34.607982    | 0.891234          | 0.865152            |\n",
      "PROGRESS: | 15        | 18       | 1.000000  | 36.908601    | 0.890723          | 0.863779            |\n",
      "PROGRESS: | 16        | 19       | 1.000000  | 39.201335    | 0.889846          | 0.862616            |\n",
      "PROGRESS: | 17        | 20       | 1.000000  | 41.497404    | 0.889805          | 0.861560            |\n",
      "PROGRESS: | 18        | 21       | 1.000000  | 43.801901    | 0.890702          | 0.861348            |\n",
      "PROGRESS: | 19        | 22       | 1.000000  | 46.095671    | 0.890361          | 0.859848            |\n",
      "PROGRESS: | 20        | 23       | 1.000000  | 48.387576    | 0.889349          | 0.858728            |\n",
      "PROGRESS: | 21        | 24       | 1.000000  | 50.690551    | 0.891762          | 0.860672            |\n",
      "PROGRESS: | 22        | 25       | 1.000000  | 52.976745    | 0.888390          | 0.856298            |\n",
      "PROGRESS: | 23        | 26       | 1.000000  | 55.277359    | 0.888914          | 0.856615            |\n",
      "PROGRESS: | 24        | 27       | 1.000000  | 57.574592    | 0.891683          | 0.859827            |\n",
      "PROGRESS: | 25        | 28       | 1.000000  | 59.854485    | 0.892770          | 0.860609            |\n",
      "PROGRESS: | 26        | 29       | 1.000000  | 62.140920    | 0.892262          | 0.859658            |\n",
      "PROGRESS: | 27        | 30       | 1.000000  | 64.440153    | 0.891268          | 0.859150            |\n",
      "PROGRESS: | 28        | 31       | 1.000000  | 66.741231    | 0.890119          | 0.858601            |\n",
      "PROGRESS: | 29        | 33       | 1.000000  | 70.219886    | 0.891676          | 0.859150            |\n",
      "PROGRESS: | 30        | 34       | 1.000000  | 72.497101    | 0.892587          | 0.859784            |\n",
      "PROGRESS: | 31        | 35       | 1.000000  | 74.789458    | 0.893522          | 0.860947            |\n",
      "PROGRESS: | 32        | 37       | 1.000000  | 78.271759    | 0.890150          | 0.858474            |\n",
      "PROGRESS: | 33        | 38       | 1.000000  | 80.580525    | 0.892031          | 0.858643            |\n",
      "PROGRESS: | 34        | 39       | 1.000000  | 82.872319    | 0.892908          | 0.859700            |\n",
      "PROGRESS: | 35        | 40       | 1.000000  | 85.164985    | 0.892376          | 0.859108            |\n",
      "PROGRESS: | 36        | 41       | 1.000000  | 87.455208    | 0.893464          | 0.859911            |\n",
      "PROGRESS: | 37        | 42       | 1.000000  | 89.763325    | 0.892811          | 0.858686            |\n",
      "PROGRESS: | 38        | 43       | 1.000000  | 92.053594    | 0.892877          | 0.858643            |\n",
      "PROGRESS: | 39        | 44       | 1.000000  | 94.348191    | 0.893219          | 0.859404            |\n",
      "PROGRESS: | 40        | 45       | 1.000000  | 96.647424    | 0.893674          | 0.859932            |\n",
      "PROGRESS: | 41        | 46       | 1.000000  | 98.948513    | 0.893412          | 0.859911            |\n",
      "PROGRESS: | 42        | 47       | 1.000000  | 101.240661   | 0.893522          | 0.859806            |\n",
      "PROGRESS: | 43        | 48       | 1.000000  | 103.538558   | 0.893930          | 0.860545            |\n",
      "PROGRESS: | 44        | 49       | 1.000000  | 105.831698   | 0.892632          | 0.858812            |\n",
      "PROGRESS: | 45        | 50       | 1.000000  | 108.123436   | 0.892953          | 0.859341            |\n",
      "PROGRESS: | 46        | 51       | 1.000000  | 110.399392   | 0.893291          | 0.859573            |\n",
      "PROGRESS: | 47        | 52       | 1.000000  | 112.695365   | 0.893408          | 0.859277            |\n",
      "PROGRESS: | 48        | 53       | 1.000000  | 115.004343   | 0.894164          | 0.860376            |\n",
      "PROGRESS: | 49        | 54       | 1.000000  | 117.284074   | 0.894461          | 0.860376            |\n",
      "PROGRESS: | 50        | 55       | 1.000000  | 119.583226   | 0.892242          | 0.858728            |\n",
      "PROGRESS: | 51        | 57       | 1.000000  | 123.068089   | 0.891772          | 0.858622            |\n",
      "PROGRESS: | 52        | 58       | 1.000000  | 125.360363   | 0.893253          | 0.859383            |\n",
      "PROGRESS: | 53        | 59       | 1.000000  | 127.669407   | 0.894306          | 0.860461            |\n",
      "PROGRESS: | 54        | 60       | 1.000000  | 129.961137   | 0.894133          | 0.860904            |\n",
      "PROGRESS: | 55        | 62       | 1.000000  | 133.431848   | 0.893816          | 0.860503            |\n",
      "PROGRESS: | 56        | 63       | 1.000000  | 135.743016   | 0.893940          | 0.860524            |\n",
      "PROGRESS: | 57        | 64       | 1.000000  | 138.045383   | 0.894030          | 0.860292            |\n",
      "PROGRESS: | 58        | 65       | 1.000000  | 140.340790   | 0.894216          | 0.860651            |\n",
      "PROGRESS: | 59        | 66       | 1.000000  | 142.635669   | 0.894061          | 0.860249            |\n",
      "PROGRESS: | 60        | 67       | 1.000000  | 144.921219   | 0.893581          | 0.859848            |\n",
      "PROGRESS: +-----------+----------+-----------+--------------+-------------------+---------------------+\n"
     ]
    }
   ],
   "source": [
    "model = gl.logistic_classifier.create(train_train_2, target='sponsored', \n",
    "                                      features=['tfidf_hashed'],\n",
    "                                      validation_set=train_cv_2,\n",
    "                                      class_weights='auto',\n",
    "                                      max_iterations=60,\n",
    "                                      feature_rescaling=True,\n",
    "                                      l2_penalty=0.00,\n",
    "                                      l1_penalty=0.00)"
   ]
  },
  {
   "cell_type": "code",
   "execution_count": 39,
   "metadata": {
    "collapsed": true
   },
   "outputs": [],
   "source": [
    "results = model.evaluate(train_cv_2, metric='roc_curve')"
   ]
  },
  {
   "cell_type": "code",
   "execution_count": 48,
   "metadata": {
    "collapsed": false
   },
   "outputs": [],
   "source": [
    "a = results['roc_curve']"
   ]
  },
  {
   "cell_type": "code",
   "execution_count": 56,
   "metadata": {
    "collapsed": false
   },
   "outputs": [
    {
     "data": {
      "text/html": [
       "<div style=\"max-height:1000px;max-width:1500px;overflow:auto;\"><table frame=\"box\" rules=\"cols\">\n",
       "    <tr>\n",
       "        <th style=\"padding-left: 1em; padding-right: 1em; text-align: center\">threshold</th>\n",
       "        <th style=\"padding-left: 1em; padding-right: 1em; text-align: center\">fpr</th>\n",
       "        <th style=\"padding-left: 1em; padding-right: 1em; text-align: center\">tpr</th>\n",
       "        <th style=\"padding-left: 1em; padding-right: 1em; text-align: center\">p</th>\n",
       "        <th style=\"padding-left: 1em; padding-right: 1em; text-align: center\">n</th>\n",
       "    </tr>\n",
       "    <tr>\n",
       "        <td style=\"padding-left: 1em; padding-right: 1em; text-align: center; vertical-align: top\">0.0</td>\n",
       "        <td style=\"padding-left: 1em; padding-right: 1em; text-align: center; vertical-align: top\">0.174656331233</td>\n",
       "        <td style=\"padding-left: 1em; padding-right: 1em; text-align: center; vertical-align: top\">0.0269155632733</td>\n",
       "        <td style=\"padding-left: 1em; padding-right: 1em; text-align: center; vertical-align: top\">4607</td>\n",
       "        <td style=\"padding-left: 1em; padding-right: 1em; text-align: center; vertical-align: top\">42701</td>\n",
       "    </tr>\n",
       "    <tr>\n",
       "        <td style=\"padding-left: 1em; padding-right: 1em; text-align: center; vertical-align: top\">0.0010000000475</td>\n",
       "        <td style=\"padding-left: 1em; padding-right: 1em; text-align: center; vertical-align: top\">0.825343668767</td>\n",
       "        <td style=\"padding-left: 1em; padding-right: 1em; text-align: center; vertical-align: top\">0.973084436727</td>\n",
       "        <td style=\"padding-left: 1em; padding-right: 1em; text-align: center; vertical-align: top\">4607</td>\n",
       "        <td style=\"padding-left: 1em; padding-right: 1em; text-align: center; vertical-align: top\">42701</td>\n",
       "    </tr>\n",
       "    <tr>\n",
       "        <td style=\"padding-left: 1em; padding-right: 1em; text-align: center; vertical-align: top\">0.00200000009499</td>\n",
       "        <td style=\"padding-left: 1em; padding-right: 1em; text-align: center; vertical-align: top\">0.800332544905</td>\n",
       "        <td style=\"padding-left: 1em; padding-right: 1em; text-align: center; vertical-align: top\">0.969394399826</td>\n",
       "        <td style=\"padding-left: 1em; padding-right: 1em; text-align: center; vertical-align: top\">4607</td>\n",
       "        <td style=\"padding-left: 1em; padding-right: 1em; text-align: center; vertical-align: top\">42701</td>\n",
       "    </tr>\n",
       "    <tr>\n",
       "        <td style=\"padding-left: 1em; padding-right: 1em; text-align: center; vertical-align: top\">0.00300000002608</td>\n",
       "        <td style=\"padding-left: 1em; padding-right: 1em; text-align: center; vertical-align: top\">0.784150254092</td>\n",
       "        <td style=\"padding-left: 1em; padding-right: 1em; text-align: center; vertical-align: top\">0.968309094856</td>\n",
       "        <td style=\"padding-left: 1em; padding-right: 1em; text-align: center; vertical-align: top\">4607</td>\n",
       "        <td style=\"padding-left: 1em; padding-right: 1em; text-align: center; vertical-align: top\">42701</td>\n",
       "    </tr>\n",
       "    <tr>\n",
       "        <td style=\"padding-left: 1em; padding-right: 1em; text-align: center; vertical-align: top\">0.00400000018999</td>\n",
       "        <td style=\"padding-left: 1em; padding-right: 1em; text-align: center; vertical-align: top\">0.771340249643</td>\n",
       "        <td style=\"padding-left: 1em; padding-right: 1em; text-align: center; vertical-align: top\">0.966355545908</td>\n",
       "        <td style=\"padding-left: 1em; padding-right: 1em; text-align: center; vertical-align: top\">4607</td>\n",
       "        <td style=\"padding-left: 1em; padding-right: 1em; text-align: center; vertical-align: top\">42701</td>\n",
       "    </tr>\n",
       "    <tr>\n",
       "        <td style=\"padding-left: 1em; padding-right: 1em; text-align: center; vertical-align: top\">0.00499999988824</td>\n",
       "        <td style=\"padding-left: 1em; padding-right: 1em; text-align: center; vertical-align: top\">0.760450574928</td>\n",
       "        <td style=\"padding-left: 1em; padding-right: 1em; text-align: center; vertical-align: top\">0.964836118949</td>\n",
       "        <td style=\"padding-left: 1em; padding-right: 1em; text-align: center; vertical-align: top\">4607</td>\n",
       "        <td style=\"padding-left: 1em; padding-right: 1em; text-align: center; vertical-align: top\">42701</td>\n",
       "    </tr>\n",
       "    <tr>\n",
       "        <td style=\"padding-left: 1em; padding-right: 1em; text-align: center; vertical-align: top\">0.00600000005215</td>\n",
       "        <td style=\"padding-left: 1em; padding-right: 1em; text-align: center; vertical-align: top\">0.75127046205</td>\n",
       "        <td style=\"padding-left: 1em; padding-right: 1em; text-align: center; vertical-align: top\">0.963533752985</td>\n",
       "        <td style=\"padding-left: 1em; padding-right: 1em; text-align: center; vertical-align: top\">4607</td>\n",
       "        <td style=\"padding-left: 1em; padding-right: 1em; text-align: center; vertical-align: top\">42701</td>\n",
       "    </tr>\n",
       "    <tr>\n",
       "        <td style=\"padding-left: 1em; padding-right: 1em; text-align: center; vertical-align: top\">0.00700000021607</td>\n",
       "        <td style=\"padding-left: 1em; padding-right: 1em; text-align: center; vertical-align: top\">0.74234795438</td>\n",
       "        <td style=\"padding-left: 1em; padding-right: 1em; text-align: center; vertical-align: top\">0.962665509008</td>\n",
       "        <td style=\"padding-left: 1em; padding-right: 1em; text-align: center; vertical-align: top\">4607</td>\n",
       "        <td style=\"padding-left: 1em; padding-right: 1em; text-align: center; vertical-align: top\">42701</td>\n",
       "    </tr>\n",
       "    <tr>\n",
       "        <td style=\"padding-left: 1em; padding-right: 1em; text-align: center; vertical-align: top\">0.00800000037998</td>\n",
       "        <td style=\"padding-left: 1em; padding-right: 1em; text-align: center; vertical-align: top\">0.733940657127</td>\n",
       "        <td style=\"padding-left: 1em; padding-right: 1em; text-align: center; vertical-align: top\">0.961363143043</td>\n",
       "        <td style=\"padding-left: 1em; padding-right: 1em; text-align: center; vertical-align: top\">4607</td>\n",
       "        <td style=\"padding-left: 1em; padding-right: 1em; text-align: center; vertical-align: top\">42701</td>\n",
       "    </tr>\n",
       "    <tr>\n",
       "        <td style=\"padding-left: 1em; padding-right: 1em; text-align: center; vertical-align: top\">0.00899999961257</td>\n",
       "        <td style=\"padding-left: 1em; padding-right: 1em; text-align: center; vertical-align: top\">0.726423268776</td>\n",
       "        <td style=\"padding-left: 1em; padding-right: 1em; text-align: center; vertical-align: top\">0.960494899067</td>\n",
       "        <td style=\"padding-left: 1em; padding-right: 1em; text-align: center; vertical-align: top\">4607</td>\n",
       "        <td style=\"padding-left: 1em; padding-right: 1em; text-align: center; vertical-align: top\">42701</td>\n",
       "    </tr>\n",
       "</table>\n",
       "[1001 rows x 5 columns]<br/>Note: Only the head of the SFrame is printed.<br/>You can use print_rows(num_rows=m, num_columns=n) to print more rows and columns.\n",
       "</div>"
      ],
      "text/plain": [
       "Columns:\n",
       "\tthreshold\tfloat\n",
       "\tfpr\tfloat\n",
       "\ttpr\tfloat\n",
       "\tp\tint\n",
       "\tn\tint\n",
       "\n",
       "Rows: 1001\n",
       "\n",
       "Data:\n",
       "+------------------+----------------+-----------------+------+-------+\n",
       "|    threshold     |      fpr       |       tpr       |  p   |   n   |\n",
       "+------------------+----------------+-----------------+------+-------+\n",
       "|       0.0        | 0.174656331233 | 0.0269155632733 | 4607 | 42701 |\n",
       "| 0.0010000000475  | 0.825343668767 |  0.973084436727 | 4607 | 42701 |\n",
       "| 0.00200000009499 | 0.800332544905 |  0.969394399826 | 4607 | 42701 |\n",
       "| 0.00300000002608 | 0.784150254092 |  0.968309094856 | 4607 | 42701 |\n",
       "| 0.00400000018999 | 0.771340249643 |  0.966355545908 | 4607 | 42701 |\n",
       "| 0.00499999988824 | 0.760450574928 |  0.964836118949 | 4607 | 42701 |\n",
       "| 0.00600000005215 | 0.75127046205  |  0.963533752985 | 4607 | 42701 |\n",
       "| 0.00700000021607 | 0.74234795438  |  0.962665509008 | 4607 | 42701 |\n",
       "| 0.00800000037998 | 0.733940657127 |  0.961363143043 | 4607 | 42701 |\n",
       "| 0.00899999961257 | 0.726423268776 |  0.960494899067 | 4607 | 42701 |\n",
       "+------------------+----------------+-----------------+------+-------+\n",
       "[1001 rows x 5 columns]\n",
       "Note: Only the head of the SFrame is printed.\n",
       "You can use print_rows(num_rows=m, num_columns=n) to print more rows and columns."
      ]
     },
     "execution_count": 56,
     "metadata": {},
     "output_type": "execute_result"
    }
   ],
   "source": [
    "a"
   ]
  },
  {
   "cell_type": "code",
   "execution_count": 75,
   "metadata": {
    "collapsed": false
   },
   "outputs": [
    {
     "name": "stdout",
     "output_type": "stream",
     "text": [
      "AUC = 0.864690\n"
     ]
    },
    {
     "data": {
      "image/png": "[encoded data removed]",
      "text/plain": [
       "<matplotlib.figure.Figure at 0x7f69402159d0>"
      ]
     },
     "metadata": {},
     "output_type": "display_data"
    }
   ],
   "source": [
    "fpr = list(a['fpr'])\n",
    "tpr = list(a['tpr'])\n",
    "fpr[0] = 1.0\n",
    "tpr[0] = 1.0\n",
    "fpr = np.array(fpr)\n",
    "tpr = np.array(tpr)\n",
    "\n",
    "AUC = np.sum((fpr[:-1] - fpr[1:]) * (tpr[:-1] + (tpr[:-1] - tpr[1:])/2))\n",
    "plt.plot(fpr, tpr)\n",
    "print('AUC = %f'%AUC)"
   ]
  },
  {
   "cell_type": "code",
   "execution_count": 74,
   "metadata": {
    "collapsed": false
   },
   "outputs": [
    {
     "name": "stdout",
     "output_type": "stream",
     "text": [
      "AUC = 0.864690\n"
     ]
    },
    {
     "data": {
      "image/png": "[encoded data removed]",
      "text/plain": [
       "<matplotlib.figure.Figure at 0x7f69401eabd0>"
      ]
     },
     "metadata": {},
     "output_type": "display_data"
    }
   ],
   "source": []
  },
  {
   "cell_type": "code",
   "execution_count": 67,
   "metadata": {
    "collapsed": false
   },
   "outputs": [
    {
     "data": {
      "text/plain": [
       "[<matplotlib.lines.Line2D at 0x7f6940128d50>]"
      ]
     },
     "execution_count": 67,
     "metadata": {},
     "output_type": "execute_result"
    },
    {
     "data": {
      "image/png": "[encoded data removed]",
      "text/plain": [
       "<matplotlib.figure.Figure at 0x7f694039d3d0>"
      ]
     },
     "metadata": {},
     "output_type": "display_data"
    }
   ],
   "source": []
  },
  {
   "cell_type": "markdown",
   "metadata": {},
   "source": [
    "## model"
   ]
  },
  {
   "cell_type": "code",
   "execution_count": null,
   "metadata": {
    "collapsed": true
   },
   "outputs": [],
   "source": [
    "ypred = model.predict(test)"
   ]
  },
  {
   "cell_type": "code",
   "execution_count": null,
   "metadata": {
    "collapsed": true
   },
   "outputs": [],
   "source": [
    "submission = gl.SFrame()\n",
    "submission['sponsored'] = ypred \n",
    "submission['file'] = test['id'].apply(lambda x: x + '_raw_html.txt')\n",
    "submission.save('submission_version_4.csv', format='csv')"
   ]
  },
  {
   "cell_type": "code",
   "execution_count": 33,
   "metadata": {
    "collapsed": false
   },
   "outputs": [
    {
     "data": {
      "text/html": [
       "<div style=\"max-height:1000px;max-width:1500px;overflow:auto;\"><table frame=\"box\" rules=\"cols\">\n",
       "    <tr>\n",
       "        <th style=\"padding-left: 1em; padding-right: 1em; text-align: center\">sponsored</th>\n",
       "        <th style=\"padding-left: 1em; padding-right: 1em; text-align: center\">id</th>\n",
       "        <th style=\"padding-left: 1em; padding-right: 1em; text-align: center\">text</th>\n",
       "        <th style=\"padding-left: 1em; padding-right: 1em; text-align: center\">bow</th>\n",
       "        <th style=\"padding-left: 1em; padding-right: 1em; text-align: center\">tfidf</th>\n",
       "    </tr>\n",
       "    <tr>\n",
       "        <td style=\"padding-left: 1em; padding-right: 1em; text-align: center; vertical-align: top\">0</td>\n",
       "        <td style=\"padding-left: 1em; padding-right: 1em; text-align: center; vertical-align: top\">3232985</td>\n",
       "        <td style=\"padding-left: 1em; padding-right: 1em; text-align: center; vertical-align: top\">follow shoe tale food<br>famili serious serious ...</td>\n",
       "        <td style=\"padding-left: 1em; padding-right: 1em; text-align: center; vertical-align: top\">{'trifl': 4, 'forget': 1,<br>'laci': 11, 'global': 2, ...</td>\n",
       "        <td style=\"padding-left: 1em; padding-right: 1em; text-align: center; vertical-align: top\">{'trifl':<br>25.981845627461617, ...</td>\n",
       "    </tr>\n",
       "    <tr>\n",
       "        <td style=\"padding-left: 1em; padding-right: 1em; text-align: center; vertical-align: top\">0</td>\n",
       "        <td style=\"padding-left: 1em; padding-right: 1em; text-align: center; vertical-align: top\">3232805</td>\n",
       "        <td style=\"padding-left: 1em; padding-right: 1em; text-align: center; vertical-align: top\">watch hous hear iran<br>nuclear deal watch au ...</td>\n",
       "        <td style=\"padding-left: 1em; padding-right: 1em; text-align: center; vertical-align: top\">{'shop': 1, 'peacock': 1,<br>'code': 1, 'feedback' ...</td>\n",
       "        <td style=\"padding-left: 1em; padding-right: 1em; text-align: center; vertical-align: top\">{'shop':<br>1.7292320990130188, ...</td>\n",
       "    </tr>\n",
       "    <tr>\n",
       "        <td style=\"padding-left: 1em; padding-right: 1em; text-align: center; vertical-align: top\">0</td>\n",
       "        <td style=\"padding-left: 1em; padding-right: 1em; text-align: center; vertical-align: top\">3232793</td>\n",
       "        <td style=\"padding-left: 1em; padding-right: 1em; text-align: center; vertical-align: top\">beij municip commiss<br>tourism develop ...</td>\n",
       "        <td style=\"padding-left: 1em; padding-right: 1em; text-align: center; vertical-align: top\">{'shop': 1, 'summer': 1,<br>'code': 1, 'show': 1, ...</td>\n",
       "        <td style=\"padding-left: 1em; padding-right: 1em; text-align: center; vertical-align: top\">{'shop':<br>1.7292320990130188, ...</td>\n",
       "    </tr>\n",
       "    <tr>\n",
       "        <td style=\"padding-left: 1em; padding-right: 1em; text-align: center; vertical-align: top\">0</td>\n",
       "        <td style=\"padding-left: 1em; padding-right: 1em; text-align: center; vertical-align: top\">3232745</td>\n",
       "        <td style=\"padding-left: 1em; padding-right: 1em; text-align: center; vertical-align: top\">creat post particip<br>discuss free sign ...</td>\n",
       "        <td style=\"padding-left: 1em; padding-right: 1em; text-align: center; vertical-align: top\">{'photoshop': 1,<br>'feedback': 1, 'john' ...</td>\n",
       "        <td style=\"padding-left: 1em; padding-right: 1em; text-align: center; vertical-align: top\">{'photoshop':<br>4.2047341603221415, ...</td>\n",
       "    </tr>\n",
       "    <tr>\n",
       "        <td style=\"padding-left: 1em; padding-right: 1em; text-align: center; vertical-align: top\">0</td>\n",
       "        <td style=\"padding-left: 1em; padding-right: 1em; text-align: center; vertical-align: top\">3232715</td>\n",
       "        <td style=\"padding-left: 1em; padding-right: 1em; text-align: center; vertical-align: top\">webmast resourc host<br>statu updat click here ...</td>\n",
       "        <td style=\"padding-left: 1em; padding-right: 1em; text-align: center; vertical-align: top\">{'coach': 9, 'queri': 5,<br>'code': 9, ...</td>\n",
       "        <td style=\"padding-left: 1em; padding-right: 1em; text-align: center; vertical-align: top\">{'coach':<br>33.32100230896354, ...</td>\n",
       "    </tr>\n",
       "    <tr>\n",
       "        <td style=\"padding-left: 1em; padding-right: 1em; text-align: center; vertical-align: top\">0</td>\n",
       "        <td style=\"padding-left: 1em; padding-right: 1em; text-align: center; vertical-align: top\">3232625</td>\n",
       "        <td style=\"padding-left: 1em; padding-right: 1em; text-align: center; vertical-align: top\">revpart prototyp made<br>easi kathryn leav com ...</td>\n",
       "        <td style=\"padding-left: 1em; padding-right: 1em; text-align: center; vertical-align: top\">{'explor': 1, 'comment':<br>4, 'liquid': 1, 'code': ...</td>\n",
       "        <td style=\"padding-left: 1em; padding-right: 1em; text-align: center; vertical-align: top\">{'explor':<br>2.510998954935867, ...</td>\n",
       "    </tr>\n",
       "    <tr>\n",
       "        <td style=\"padding-left: 1em; padding-right: 1em; text-align: center; vertical-align: top\">0</td>\n",
       "        <td style=\"padding-left: 1em; padding-right: 1em; text-align: center; vertical-align: top\">3232577</td>\n",
       "        <td style=\"padding-left: 1em; padding-right: 1em; text-align: center; vertical-align: top\">sign thi item your<br>wishlist follow mark ...</td>\n",
       "        <td style=\"padding-left: 1em; padding-right: 1em; text-align: center; vertical-align: top\">{'vietgam': 1, 'albion':<br>1, 'violenc': 1, ...</td>\n",
       "        <td style=\"padding-left: 1em; padding-right: 1em; text-align: center; vertical-align: top\">{'refund':<br>9.408058861362097, ...</td>\n",
       "    </tr>\n",
       "    <tr>\n",
       "        <td style=\"padding-left: 1em; padding-right: 1em; text-align: center; vertical-align: top\">0</td>\n",
       "        <td style=\"padding-left: 1em; padding-right: 1em; text-align: center; vertical-align: top\">3232529</td>\n",
       "        <td style=\"padding-left: 1em; padding-right: 1em; text-align: center; vertical-align: top\">issu year save cover<br>price soccer player have ...</td>\n",
       "        <td style=\"padding-left: 1em; padding-right: 1em; text-align: center; vertical-align: top\">{'peacock': 1,<br>'cincinnati': 2, ...</td>\n",
       "        <td style=\"padding-left: 1em; padding-right: 1em; text-align: center; vertical-align: top\">{'peacock':<br>5.937812187902022, ...</td>\n",
       "    </tr>\n",
       "    <tr>\n",
       "        <td style=\"padding-left: 1em; padding-right: 1em; text-align: center; vertical-align: top\">0</td>\n",
       "        <td style=\"padding-left: 1em; padding-right: 1em; text-align: center; vertical-align: top\">323249</td>\n",
       "        <td style=\"padding-left: 1em; padding-right: 1em; text-align: center; vertical-align: top\">philadelph convent center<br>philadelph aacr annual ...</td>\n",
       "        <td style=\"padding-left: 1em; padding-right: 1em; text-align: center; vertical-align: top\">{'follow': 1,<br>'marinesci': 2, ...</td>\n",
       "        <td style=\"padding-left: 1em; padding-right: 1em; text-align: center; vertical-align: top\">{'sector':<br>4.078460652879218, ...</td>\n",
       "    </tr>\n",
       "    <tr>\n",
       "        <td style=\"padding-left: 1em; padding-right: 1em; text-align: center; vertical-align: top\">0</td>\n",
       "        <td style=\"padding-left: 1em; padding-right: 1em; text-align: center; vertical-align: top\">3232475</td>\n",
       "        <td style=\"padding-left: 1em; padding-right: 1em; text-align: center; vertical-align: top\">just look cute they<br>viciou without regret ...</td>\n",
       "        <td style=\"padding-left: 1em; padding-right: 1em; text-align: center; vertical-align: top\">{'ouch': 1, 'yellow': 3,<br>'soften': 3, 'laura': 1, ...</td>\n",
       "        <td style=\"padding-left: 1em; padding-right: 1em; text-align: center; vertical-align: top\">{'ouch':<br>6.1389829458824074, ...</td>\n",
       "    </tr>\n",
       "</table>\n",
       "<table frame=\"box\" rules=\"cols\">\n",
       "    <tr>\n",
       "        <th style=\"padding-left: 1em; padding-right: 1em; text-align: center\">tfidf_hashed</th>\n",
       "        <th style=\"padding-left: 1em; padding-right: 1em; text-align: center\">tfidf_hashed_13</th>\n",
       "    </tr>\n",
       "    <tr>\n",
       "        <td style=\"padding-left: 1em; padding-right: 1em; text-align: center; vertical-align: top\">{12295:<br>3.6935077186614804, 23: ...</td>\n",
       "        <td style=\"padding-left: 1em; padding-right: 1em; text-align: center; vertical-align: top\">{4103:<br>3.6935077186614804, 23: ...</td>\n",
       "    </tr>\n",
       "    <tr>\n",
       "        <td style=\"padding-left: 1em; padding-right: 1em; text-align: center; vertical-align: top\">{1024:<br>1.8255930857596734, 5 ...</td>\n",
       "        <td style=\"padding-left: 1em; padding-right: 1em; text-align: center; vertical-align: top\">{1024:<br>1.8255930857596734, 5 ...</td>\n",
       "    </tr>\n",
       "    <tr>\n",
       "        <td style=\"padding-left: 1em; padding-right: 1em; text-align: center; vertical-align: top\">{12544:<br>8.653152236188449, 9731: ...</td>\n",
       "        <td style=\"padding-left: 1em; padding-right: 1em; text-align: center; vertical-align: top\">{7936: 4.334240718285186,<br>1539: 4.381741829051792, ...</td>\n",
       "    </tr>\n",
       "    <tr>\n",
       "        <td style=\"padding-left: 1em; padding-right: 1em; text-align: center; vertical-align: top\">{13825:<br>-6.666831679633638, ...</td>\n",
       "        <td style=\"padding-left: 1em; padding-right: 1em; text-align: center; vertical-align: top\">{5633:<br>-6.666831679633638, 6 ...</td>\n",
       "    </tr>\n",
       "    <tr>\n",
       "        <td style=\"padding-left: 1em; padding-right: 1em; text-align: center; vertical-align: top\">{4099:<br>-10.936149954187872, ...</td>\n",
       "        <td style=\"padding-left: 1em; padding-right: 1em; text-align: center; vertical-align: top\">{4099:<br>-10.936149954187872, ...</td>\n",
       "    </tr>\n",
       "    <tr>\n",
       "        <td style=\"padding-left: 1em; padding-right: 1em; text-align: center; vertical-align: top\">{1024:<br>1.8255930857596734, ...</td>\n",
       "        <td style=\"padding-left: 1em; padding-right: 1em; text-align: center; vertical-align: top\">{1024:<br>1.8255930857596734, 4 ...</td>\n",
       "    </tr>\n",
       "    <tr>\n",
       "        <td style=\"padding-left: 1em; padding-right: 1em; text-align: center; vertical-align: top\">{1024:<br>12.779151600317714, ...</td>\n",
       "        <td style=\"padding-left: 1em; padding-right: 1em; text-align: center; vertical-align: top\">{1024:<br>12.779151600317714, 5 ...</td>\n",
       "    </tr>\n",
       "    <tr>\n",
       "        <td style=\"padding-left: 1em; padding-right: 1em; text-align: center; vertical-align: top\">{0: 3.5446319709894327,<br>14337: ...</td>\n",
       "        <td style=\"padding-left: 1em; padding-right: 1em; text-align: center; vertical-align: top\">{0: 3.5446319709894327,<br>6145: ...</td>\n",
       "    </tr>\n",
       "    <tr>\n",
       "        <td style=\"padding-left: 1em; padding-right: 1em; text-align: center; vertical-align: top\">{512: -6.243274187780675,<br>13825: ...</td>\n",
       "        <td style=\"padding-left: 1em; padding-right: 1em; text-align: center; vertical-align: top\">{512: -6.243274187780675,<br>5633: ...</td>\n",
       "    </tr>\n",
       "    <tr>\n",
       "        <td style=\"padding-left: 1em; padding-right: 1em; text-align: center; vertical-align: top\">{12288:<br>11.426190144280763, 4 ...</td>\n",
       "        <td style=\"padding-left: 1em; padding-right: 1em; text-align: center; vertical-align: top\">{4096:<br>11.426190144280763, 4 ...</td>\n",
       "    </tr>\n",
       "</table>\n",
       "[10 rows x 7 columns]<br/>\n",
       "</div>"
      ],
      "text/plain": [
       "Columns:\n",
       "\tsponsored\tint\n",
       "\tid\tstr\n",
       "\ttext\tstr\n",
       "\tbow\tdict\n",
       "\ttfidf\tdict\n",
       "\ttfidf_hashed\tdict\n",
       "\ttfidf_hashed_13\tdict\n",
       "\n",
       "Rows: 10\n",
       "\n",
       "Data:\n",
       "+-----------+---------+-------------------------------+\n",
       "| sponsored |    id   |              text             |\n",
       "+-----------+---------+-------------------------------+\n",
       "|     0     | 3232985 | follow shoe tale food fami... |\n",
       "|     0     | 3232805 | watch hous hear iran nucle... |\n",
       "|     0     | 3232793 | beij municip commiss touri... |\n",
       "|     0     | 3232745 | creat post particip discus... |\n",
       "|     0     | 3232715 | webmast resourc host statu... |\n",
       "|     0     | 3232625 | revpart prototyp made easi... |\n",
       "|     0     | 3232577 | sign thi item your wishlis... |\n",
       "|     0     | 3232529 | issu year save cover price... |\n",
       "|     0     |  323249 | philadelph convent center ... |\n",
       "|     0     | 3232475 | just look cute they viciou... |\n",
       "+-----------+---------+-------------------------------+\n",
       "+-------------------------------+-------------------------------+\n",
       "|              bow              |             tfidf             |\n",
       "+-------------------------------+-------------------------------+\n",
       "| {'trifl': 4, 'forget': 1, ... | {'trifl': 25.9818456274616... |\n",
       "| {'shop': 1, 'peacock': 1, ... | {'shop': 1.729232099013018... |\n",
       "| {'shop': 1, 'summer': 1, '... | {'shop': 1.729232099013018... |\n",
       "| {'photoshop': 1, 'feedback... | {'photoshop': 4.2047341603... |\n",
       "| {'coach': 9, 'queri': 5, '... | {'coach': 33.3210023089635... |\n",
       "| {'explor': 1, 'comment': 4... | {'explor': 2.5109989549358... |\n",
       "| {'vietgam': 1, 'albion': 1... | {'refund': 9.4080588613620... |\n",
       "| {'peacock': 1, 'cincinnati... | {'peacock': 5.937812187902... |\n",
       "| {'follow': 1, 'marinesci':... | {'sector': 4.0784606528792... |\n",
       "| {'ouch': 1, 'yellow': 3, '... | {'ouch': 6.138982945882407... |\n",
       "+-------------------------------+-------------------------------+\n",
       "+-------------------------------+-------------------------------+\n",
       "|          tfidf_hashed         |        tfidf_hashed_13        |\n",
       "+-------------------------------+-------------------------------+\n",
       "| {12295: 3.6935077186614804... | {4103: 3.6935077186614804,... |\n",
       "| {1024: 1.8255930857596734,... | {1024: 1.8255930857596734,... |\n",
       "| {12544: 8.653152236188449,... | {7936: 4.334240718285186, ... |\n",
       "| {13825: -6.666831679633638... | {5633: -6.666831679633638,... |\n",
       "| {4099: -10.936149954187872... | {4099: -10.936149954187872... |\n",
       "| {1024: 1.8255930857596734,... | {1024: 1.8255930857596734,... |\n",
       "| {1024: 12.779151600317714,... | {1024: 12.779151600317714,... |\n",
       "| {0: 3.5446319709894327, 14... | {0: 3.5446319709894327, 61... |\n",
       "| {512: -6.243274187780675, ... | {512: -6.243274187780675, ... |\n",
       "| {12288: 11.426190144280763... | {4096: 11.426190144280763,... |\n",
       "+-------------------------------+-------------------------------+\n",
       "[10 rows x 7 columns]"
      ]
     },
     "execution_count": 33,
     "metadata": {},
     "output_type": "execute_result"
    }
   ],
   "source": [
    "test.head()"
   ]
  }
 ],
 "metadata": {
  "kernelspec": {
   "display_name": "Python 2",
   "language": "python",
   "name": "python2"
  },
  "language_info": {
   "codemirror_mode": {
    "name": "ipython",
    "version": 2
   },
   "file_extension": ".py",
   "mimetype": "text/x-python",
   "name": "python",
   "nbconvert_exporter": "python",
   "pygments_lexer": "ipython2",
   "version": "2.7.9"
  }
 },
 "nbformat": 4,
 "nbformat_minor": 0
}
