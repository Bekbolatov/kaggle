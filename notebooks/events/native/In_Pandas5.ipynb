{
 "cells": [
  {
   "cell_type": "code",
   "execution_count": 1,
   "metadata": {
    "collapsed": true
   },
   "outputs": [],
   "source": [
    "%matplotlib inline\n",
    "\n",
    "import datetime\n",
    "\n",
    "import matplotlib\n",
    "import numpy as np\n",
    "import matplotlib.pyplot as plt\n",
    "import pandas as pd\n",
    "import scipy.sparse as sp\n",
    "\n",
    "from sklearn.cross_validation import train_test_split\n",
    "from sklearn.metrics import roc_auc_score\n",
    "from sklearn.feature_extraction.text import CountVectorizer, TfidfTransformer\n",
    "\n",
    "import xgboost as xgb"
   ]
  },
  {
   "cell_type": "markdown",
   "metadata": {},
   "source": [
    "## A: Start"
   ]
  },
  {
   "cell_type": "code",
   "execution_count": 11,
   "metadata": {
    "collapsed": false
   },
   "outputs": [
    {
     "name": "stdout",
     "output_type": "stream",
     "text": [
      "start\n"
     ]
    }
   ],
   "source": [
    "print(\"start\")\n",
    "df_train = pd.read_pickle('/mnt/sframe/df_train')\n",
    "df_test = pd.read_pickle('/mnt/sframe/df_test')\n",
    "\n",
    "df_train['text'].fillna('', inplace=True)\n",
    "df_test['text'].fillna('', inplace=True)\n",
    "\n",
    "df_train['meta_names'].fillna('', inplace=True)\n",
    "df_test['meta_names'].fillna('', inplace=True)\n",
    "\n",
    "for f in [u'viewport.0', u'viewport.1',\n",
    "       u'viewport.2', u'links_profile.bad_domain',\n",
    "       u'links_profile.candidate_rank', u'links_profile.candidate_ratio',\n",
    "       u'links_profile.candidate_score', u'links_profile.candidate_site',\n",
    "       u'links_profile.domain_set_size', u'links_profile.no_domain',\n",
    "       u'links_profile.total_ratio']:\n",
    "    df_train[f].fillna(0, inplace=True)\n",
    "    df_test[f].fillna(0, inplace=True)"
   ]
  },
  {
   "cell_type": "code",
   "execution_count": 9,
   "metadata": {
    "collapsed": false
   },
   "outputs": [
    {
     "data": {
      "text/plain": [
       "Index([u'sponsored', u'id', u'text', u'num_words', u'a_href', u'par', u'title',\n",
       "       u'img', u'btn', u'input', u'li', u'link', u'meta', u'script_avg',\n",
       "       u'script_b_avg', u'script_cnt', u'script_b_cnt', u'style_avg',\n",
       "       u'style_cnt', u'fb_id', u'ga_cnt', u'ga_id', u'ga_len', u'ga_line',\n",
       "       u'ga_subid', u'word_set_size', u'word_set_size_ratio',\n",
       "       u'word_set_size2', u'word_set_size2_ratio', u'shinn.braces',\n",
       "       u'shinn.brackets', u'shinn.cheap', u'shinn.col', u'shinn.commas',\n",
       "       u'shinn.get', u'shinn.length', u'shinn.lines', u'shinn.parens',\n",
       "       u'shinn.periods', u'shinn.sale', u'shinn.semi', u'shinn.shop',\n",
       "       u'shinn.spaces', u'shinn.tabs', u'shinn.uppers', u'shinn.words',\n",
       "       u'shinn.you', u'basic.0', u'basic.1', u'basic.2', u'basic.3',\n",
       "       u'basic.4', u'basic.5', u'meta_names', u'viewport.0', u'viewport.1',\n",
       "       u'viewport.2', u'links_profile.bad_domain',\n",
       "       u'links_profile.candidate_rank', u'links_profile.candidate_ratio',\n",
       "       u'links_profile.candidate_score', u'links_profile.candidate_site',\n",
       "       u'links_profile.domain_set_size', u'links_profile.no_domain',\n",
       "       u'links_profile.total_ratio'],\n",
       "      dtype='object')"
      ]
     },
     "execution_count": 9,
     "metadata": {},
     "output_type": "execute_result"
    }
   ],
   "source": [
    "df_train.columns"
   ]
  },
  {
   "cell_type": "code",
   "execution_count": 12,
   "metadata": {
    "collapsed": false
   },
   "outputs": [
    {
     "data": {
      "text/plain": [
       "(0, 65)"
      ]
     },
     "execution_count": 12,
     "metadata": {},
     "output_type": "execute_result"
    }
   ],
   "source": [
    "df_train[df_train['links_profile.total_ratio'].isnull()].shape"
   ]
  },
  {
   "cell_type": "markdown",
   "metadata": {},
   "source": [
    "### B.1: test"
   ]
  },
  {
   "cell_type": "code",
   "execution_count": null,
   "metadata": {
    "collapsed": true
   },
   "outputs": [],
   "source": [
    "print(\"split\")\n",
    "train_train, train_cv = train_test_split(df_train, test_size=0.2, random_state=107)"
   ]
  },
  {
   "cell_type": "code",
   "execution_count": 13,
   "metadata": {
    "collapsed": false
   },
   "outputs": [
    {
     "name": "stdout",
     "output_type": "stream",
     "text": [
      "split\n"
     ]
    }
   ],
   "source": [
    "TRAIN = train_train\n",
    "CV = train_cv"
   ]
  },
  {
   "cell_type": "markdown",
   "metadata": {},
   "source": [
    "### B.2: deploy"
   ]
  },
  {
   "cell_type": "code",
   "execution_count": 26,
   "metadata": {
    "collapsed": false
   },
   "outputs": [],
   "source": [
    "TRAIN = df_train\n",
    "CV = df_test"
   ]
  },
  {
   "cell_type": "markdown",
   "metadata": {},
   "source": [
    "## C: Model"
   ]
  },
  {
   "cell_type": "code",
   "execution_count": 27,
   "metadata": {
    "collapsed": false
   },
   "outputs": [
    {
     "name": "stdout",
     "output_type": "stream",
     "text": [
      "BOW\n",
      "shape TRAIN_counts: (337024, 108062)\n"
     ]
    }
   ],
   "source": [
    "print(\"BOW\")\n",
    "count_vect = CountVectorizer(stop_words='english', min_df=20)\n",
    "TRAIN_counts = count_vect.fit_transform(TRAIN['text'])\n",
    "CV_counts = count_vect.transform(CV['text'])\n",
    "print(\"shape TRAIN_counts: %s\" % (str(TRAIN_counts.shape)))"
   ]
  },
  {
   "cell_type": "code",
   "execution_count": 28,
   "metadata": {
    "collapsed": false
   },
   "outputs": [
    {
     "name": "stdout",
     "output_type": "stream",
     "text": [
      "BOW meta\n",
      "shape TRAIN_meta_counts: (337024, 3898)\n"
     ]
    }
   ],
   "source": [
    "print(\"BOW meta\")\n",
    "def my_tokenizer(s):\n",
    "    return s.split(',')\n",
    "count_vect_meta = CountVectorizer(tokenizer=my_tokenizer, min_df=10)\n",
    "TRAIN_meta_counts = count_vect_meta.fit_transform(TRAIN['meta_names'])\n",
    "CV_meta_counts = count_vect_meta.transform(CV['meta_names'])\n",
    "print(\"shape TRAIN_meta_counts: %s\" % (str(TRAIN_meta_counts.shape)))"
   ]
  },
  {
   "cell_type": "code",
   "execution_count": 29,
   "metadata": {
    "collapsed": false
   },
   "outputs": [
    {
     "name": "stdout",
     "output_type": "stream",
     "text": [
      "TF-IDF\n",
      "shape TRAIN_tfidf: (337024, 108062)\n"
     ]
    }
   ],
   "source": [
    "print(\"TF-IDF\")\n",
    "tfidf_transformer = TfidfTransformer()\n",
    "TRAIN_tfidf = tfidf_transformer.fit_transform(TRAIN_counts)\n",
    "CV_tfidf = tfidf_transformer.transform(CV_counts)\n",
    "print(\"shape TRAIN_tfidf: %s\" % (str(TRAIN_tfidf.shape)))"
   ]
  },
  {
   "cell_type": "code",
   "execution_count": 30,
   "metadata": {
    "collapsed": false
   },
   "outputs": [
    {
     "name": "stdout",
     "output_type": "stream",
     "text": [
      "Combine features\n",
      "shape DF_TRAIN: (337024, 61)\n"
     ]
    }
   ],
   "source": [
    "print(\"Combine features\")\n",
    "bad_cols = [col for col in list(TRAIN.columns) \n",
    "            if col.startswith('word2vec') or col in set(['text_words', 'text', 'id', 'sponsored', 'meta_names'])]\n",
    "\n",
    "DF_TRAIN = TRAIN.drop(bad_cols, 1).fillna(0)\n",
    "DF_CV = CV.drop(bad_cols, 1).fillna(0)\n",
    "\n",
    "DF_TRAIN = DF_TRAIN.astype('float64')\n",
    "DF_CV = DF_CV.astype('float64')\n",
    "\n",
    "DF_DF_TRAIN = sp.hstack( [TRAIN_meta_counts, TRAIN_tfidf,  sp.csr_matrix(np.array(DF_TRAIN)) ] )\n",
    "DF_DF_CV = sp.hstack( [CV_meta_counts, CV_tfidf,  sp.csr_matrix(np.array(DF_CV)) ] )\n",
    "\n",
    "print(\"shape DF_TRAIN: %s\" % (str(DF_TRAIN.shape)))"
   ]
  },
  {
   "cell_type": "code",
   "execution_count": 31,
   "metadata": {
    "collapsed": false
   },
   "outputs": [
    {
     "name": "stdout",
     "output_type": "stream",
     "text": [
      "shape DF_DF_TRAIN: (337024, 112021)\n"
     ]
    }
   ],
   "source": [
    "print(\"shape DF_DF_TRAIN: %s\" % (str(DF_DF_TRAIN.shape)))"
   ]
  },
  {
   "cell_type": "markdown",
   "metadata": {},
   "source": [
    "## D: Combine"
   ]
  },
  {
   "cell_type": "markdown",
   "metadata": {},
   "source": [
    "### D.1: test"
   ]
  },
  {
   "cell_type": "code",
   "execution_count": 21,
   "metadata": {
    "collapsed": true
   },
   "outputs": [],
   "source": [
    "dtrain = xgb.DMatrix(DF_DF_TRAIN, label = TRAIN['sponsored'])\n",
    "dtest = xgb.DMatrix(DF_DF_CV, label = CV['sponsored'])\n",
    "watchlist  = [(dtest,'eval'), (dtrain,'train')]"
   ]
  },
  {
   "cell_type": "code",
   "execution_count": 22,
   "metadata": {
    "collapsed": true
   },
   "outputs": [],
   "source": [
    "dtrain.save_binary('dtrain_train.buffer_mindf20')\n",
    "dtest.save_binary('dtrain_cv.buffer_mindf20')"
   ]
  },
  {
   "cell_type": "code",
   "execution_count": 34,
   "metadata": {
    "collapsed": false
   },
   "outputs": [
    {
     "data": {
      "text/plain": [
       "(269619L, 67405L)"
      ]
     },
     "execution_count": 34,
     "metadata": {},
     "output_type": "execute_result"
    }
   ],
   "source": [
    "dtrain = xgb.DMatrix('dtrain_train.buffer_mindf20')\n",
    "dtest = xgb.DMatrix('dtrain_cv.buffer_mindf20')\n",
    "watchlist  = [(dtest,'eval'), (dtrain,'train')]\n",
    "dtrain.num_row(), dtest.num_row()"
   ]
  },
  {
   "cell_type": "markdown",
   "metadata": {},
   "source": [
    "### D.2: deploy"
   ]
  },
  {
   "cell_type": "code",
   "execution_count": 32,
   "metadata": {
    "collapsed": true
   },
   "outputs": [],
   "source": [
    "dtrain = xgb.DMatrix(DF_DF_TRAIN, label = TRAIN['sponsored'])\n",
    "dtest = xgb.DMatrix(DF_DF_CV)\n",
    "watchlist  = [(dtrain,'train')]"
   ]
  },
  {
   "cell_type": "code",
   "execution_count": 33,
   "metadata": {
    "collapsed": true
   },
   "outputs": [],
   "source": [
    "# Save for later:\n",
    "dtrain.save_binary('orig_dtrain.buffer_mindf20')\n",
    "dtest.save_binary('orig_dtest.buffer_mindf20')"
   ]
  },
  {
   "cell_type": "code",
   "execution_count": null,
   "metadata": {
    "collapsed": false
   },
   "outputs": [],
   "source": [
    "dtrain = xgb.DMatrix('orig_dtrain.buffer_mindf20')\n",
    "dtest = xgb.DMatrix('orig_dtest.buffer_mindf20')\n",
    "watchlist  = [(dtrain,'train')]\n",
    "dtrain.num_row(), dtest.num_row()"
   ]
  },
  {
   "cell_type": "markdown",
   "metadata": {},
   "source": [
    "---\n",
    "\n",
    "## E: Params\n",
    "\n",
    "---"
   ]
  },
  {
   "cell_type": "markdown",
   "metadata": {},
   "source": [
    "## M-base-version"
   ]
  },
  {
   "cell_type": "code",
   "execution_count": 23,
   "metadata": {
    "collapsed": false
   },
   "outputs": [
    {
     "name": "stdout",
     "output_type": "stream",
     "text": [
      "2015-10-09 08:01:23.839742\n"
     ]
    }
   ],
   "source": [
    "#max depth [8], eta 0.2, colsample_bytree 0.5, subsample: 1.0\n",
    "# match g\n",
    "# max depth [8], eta 0.2, colsample_bytree 0.5, subsample: 1.0 \n",
    "param = {'max_depth': 17, \n",
    "         'eta': 0.05, \n",
    "         #'gamma': 1.0,\n",
    "         'colsample_bytree': 0.6,\n",
    "         'subsample': 1.0,\n",
    "         'min_child_weight': 7,\n",
    "         'silent':1, \n",
    "         'objective':'binary:logistic', \n",
    "         'eval_metric':'auc',\n",
    "         'early_stopping_rounds':20}\n",
    "num_round = 800\n",
    "\n",
    "print(datetime.datetime.now())"
   ]
  },
  {
   "cell_type": "code",
   "execution_count": 48,
   "metadata": {
    "collapsed": false
   },
   "outputs": [
    {
     "name": "stdout",
     "output_type": "stream",
     "text": [
      "2015-10-09 08:36:56.302354\n"
     ]
    }
   ],
   "source": [
    "#max depth [8], eta 0.2, colsample_bytree 0.5, subsample: 1.0\n",
    "# match g\n",
    "# max depth [8], eta 0.2, colsample_bytree 0.5, subsample: 1.0 \n",
    "param = {'max_depth': 18, \n",
    "         'eta': 0.01, \n",
    "         'colsample_bytree': 0.6,\n",
    "         'subsample': 1.0,\n",
    "         #'min_child_weight': 15,\n",
    "         'silent':1, \n",
    "         'objective':'binary:logistic', \n",
    "         'eval_metric':'auc',\n",
    "         'early_stopping_rounds':20}\n",
    "num_round = 200\n",
    "\n",
    "print(datetime.datetime.now())"
   ]
  },
  {
   "cell_type": "code",
   "execution_count": 46,
   "metadata": {
    "collapsed": false,
    "scrolled": true
   },
   "outputs": [
    {
     "name": "stderr",
     "output_type": "stream",
     "text": [
      "[0]\teval-auc:0.725346\ttrain-auc:0.735978\n",
      "[1]\teval-auc:0.771739\ttrain-auc:0.789144\n",
      "[2]\teval-auc:0.787437\ttrain-auc:0.803569\n",
      "[3]\teval-auc:0.804280\ttrain-auc:0.821485\n",
      "[4]\teval-auc:0.809663\ttrain-auc:0.827755\n",
      "[5]\teval-auc:0.821946\ttrain-auc:0.841887\n",
      "[6]\teval-auc:0.823833\ttrain-auc:0.843401\n",
      "[7]\teval-auc:0.825634\ttrain-auc:0.845887\n",
      "[8]\teval-auc:0.828254\ttrain-auc:0.848978\n",
      "[9]\teval-auc:0.830688\ttrain-auc:0.852131\n",
      "[10]\teval-auc:0.830293\ttrain-auc:0.851779\n",
      "[11]\teval-auc:0.830594\ttrain-auc:0.852338\n",
      "[12]\teval-auc:0.829838\ttrain-auc:0.851645\n",
      "[13]\teval-auc:0.832120\ttrain-auc:0.854238\n",
      "[14]\teval-auc:0.831608\ttrain-auc:0.853528\n",
      "[15]\teval-auc:0.831258\ttrain-auc:0.853727\n",
      "[16]\teval-auc:0.831494\ttrain-auc:0.854315\n",
      "[17]\teval-auc:0.832392\ttrain-auc:0.855494\n",
      "[18]\teval-auc:0.834110\ttrain-auc:0.858004\n",
      "[19]\teval-auc:0.834666\ttrain-auc:0.858457\n",
      "[20]\teval-auc:0.835382\ttrain-auc:0.859379\n",
      "[21]\teval-auc:0.836420\ttrain-auc:0.860188\n",
      "[22]\teval-auc:0.835976\ttrain-auc:0.859704\n",
      "[23]\teval-auc:0.836558\ttrain-auc:0.860223\n",
      "[24]\teval-auc:0.836383\ttrain-auc:0.860009\n",
      "[25]\teval-auc:0.836580\ttrain-auc:0.860643\n",
      "[26]\teval-auc:0.837806\ttrain-auc:0.862104\n",
      "[27]\teval-auc:0.838024\ttrain-auc:0.862217\n",
      "[28]\teval-auc:0.838724\ttrain-auc:0.863078\n",
      "[29]\teval-auc:0.839630\ttrain-auc:0.863825\n",
      "[30]\teval-auc:0.839556\ttrain-auc:0.863715\n",
      "[31]\teval-auc:0.841946\ttrain-auc:0.866292\n",
      "[32]\teval-auc:0.842200\ttrain-auc:0.866439\n",
      "[33]\teval-auc:0.843542\ttrain-auc:0.867952\n",
      "[34]\teval-auc:0.843283\ttrain-auc:0.867656\n",
      "[35]\teval-auc:0.843356\ttrain-auc:0.867787\n",
      "[36]\teval-auc:0.844879\ttrain-auc:0.869449\n"
     ]
    },
    {
     "ename": "KeyboardInterrupt",
     "evalue": "",
     "output_type": "error",
     "traceback": [
      "\u001b[1;31m---------------------------------------------------------------------------\u001b[0m",
      "\u001b[1;31mKeyboardInterrupt\u001b[0m                         Traceback (most recent call last)",
      "\u001b[1;32m<ipython-input-46-b9a96c08b359>\u001b[0m in \u001b[0;36m<module>\u001b[1;34m()\u001b[0m\n\u001b[1;32m----> 1\u001b[1;33m \u001b[0mbst\u001b[0m \u001b[1;33m=\u001b[0m \u001b[0mxgb\u001b[0m\u001b[1;33m.\u001b[0m\u001b[0mtrain\u001b[0m\u001b[1;33m(\u001b[0m\u001b[0mparam\u001b[0m\u001b[1;33m,\u001b[0m \u001b[0mdtrain\u001b[0m\u001b[1;33m,\u001b[0m \u001b[0mnum_round\u001b[0m\u001b[1;33m,\u001b[0m \u001b[0mwatchlist\u001b[0m\u001b[1;33m)\u001b[0m \u001b[1;31m#0.5\u001b[0m\u001b[1;33m\u001b[0m\u001b[0m\n\u001b[0m",
      "\u001b[1;32m/usr/local/lib/python2.7/site-packages/xgboost/training.pyc\u001b[0m in \u001b[0;36mtrain\u001b[1;34m(params, dtrain, num_boost_round, evals, obj, feval, early_stopping_rounds, evals_result, verbose_eval)\u001b[0m\n\u001b[0;32m     60\u001b[0m     \u001b[1;32mif\u001b[0m \u001b[1;32mnot\u001b[0m \u001b[0mearly_stopping_rounds\u001b[0m\u001b[1;33m:\u001b[0m\u001b[1;33m\u001b[0m\u001b[0m\n\u001b[0;32m     61\u001b[0m         \u001b[1;32mfor\u001b[0m \u001b[0mi\u001b[0m \u001b[1;32min\u001b[0m \u001b[0mrange\u001b[0m\u001b[1;33m(\u001b[0m\u001b[0mnum_boost_round\u001b[0m\u001b[1;33m)\u001b[0m\u001b[1;33m:\u001b[0m\u001b[1;33m\u001b[0m\u001b[0m\n\u001b[1;32m---> 62\u001b[1;33m             \u001b[0mbst\u001b[0m\u001b[1;33m.\u001b[0m\u001b[0mupdate\u001b[0m\u001b[1;33m(\u001b[0m\u001b[0mdtrain\u001b[0m\u001b[1;33m,\u001b[0m \u001b[0mi\u001b[0m\u001b[1;33m,\u001b[0m \u001b[0mobj\u001b[0m\u001b[1;33m)\u001b[0m\u001b[1;33m\u001b[0m\u001b[0m\n\u001b[0m\u001b[0;32m     63\u001b[0m             \u001b[1;32mif\u001b[0m \u001b[0mlen\u001b[0m\u001b[1;33m(\u001b[0m\u001b[0mevals\u001b[0m\u001b[1;33m)\u001b[0m \u001b[1;33m!=\u001b[0m \u001b[1;36m0\u001b[0m\u001b[1;33m:\u001b[0m\u001b[1;33m\u001b[0m\u001b[0m\n\u001b[0;32m     64\u001b[0m                 \u001b[0mbst_eval_set\u001b[0m \u001b[1;33m=\u001b[0m \u001b[0mbst\u001b[0m\u001b[1;33m.\u001b[0m\u001b[0meval_set\u001b[0m\u001b[1;33m(\u001b[0m\u001b[0mevals\u001b[0m\u001b[1;33m,\u001b[0m \u001b[0mi\u001b[0m\u001b[1;33m,\u001b[0m \u001b[0mfeval\u001b[0m\u001b[1;33m)\u001b[0m\u001b[1;33m\u001b[0m\u001b[0m\n",
      "\u001b[1;32m/usr/local/lib/python2.7/site-packages/xgboost/core.pyc\u001b[0m in \u001b[0;36mupdate\u001b[1;34m(self, dtrain, iteration, fobj)\u001b[0m\n\u001b[0;32m    521\u001b[0m             \u001b[1;32mraise\u001b[0m \u001b[0mTypeError\u001b[0m\u001b[1;33m(\u001b[0m\u001b[1;34m'invalid training matrix: {}'\u001b[0m\u001b[1;33m.\u001b[0m\u001b[0mformat\u001b[0m\u001b[1;33m(\u001b[0m\u001b[0mtype\u001b[0m\u001b[1;33m(\u001b[0m\u001b[0mdtrain\u001b[0m\u001b[1;33m)\u001b[0m\u001b[1;33m.\u001b[0m\u001b[0m__name__\u001b[0m\u001b[1;33m)\u001b[0m\u001b[1;33m)\u001b[0m\u001b[1;33m\u001b[0m\u001b[0m\n\u001b[0;32m    522\u001b[0m         \u001b[1;32mif\u001b[0m \u001b[0mfobj\u001b[0m \u001b[1;32mis\u001b[0m \u001b[0mNone\u001b[0m\u001b[1;33m:\u001b[0m\u001b[1;33m\u001b[0m\u001b[0m\n\u001b[1;32m--> 523\u001b[1;33m             \u001b[0m_check_call\u001b[0m\u001b[1;33m(\u001b[0m\u001b[0m_LIB\u001b[0m\u001b[1;33m.\u001b[0m\u001b[0mXGBoosterUpdateOneIter\u001b[0m\u001b[1;33m(\u001b[0m\u001b[0mself\u001b[0m\u001b[1;33m.\u001b[0m\u001b[0mhandle\u001b[0m\u001b[1;33m,\u001b[0m \u001b[0miteration\u001b[0m\u001b[1;33m,\u001b[0m \u001b[0mdtrain\u001b[0m\u001b[1;33m.\u001b[0m\u001b[0mhandle\u001b[0m\u001b[1;33m)\u001b[0m\u001b[1;33m)\u001b[0m\u001b[1;33m\u001b[0m\u001b[0m\n\u001b[0m\u001b[0;32m    524\u001b[0m         \u001b[1;32melse\u001b[0m\u001b[1;33m:\u001b[0m\u001b[1;33m\u001b[0m\u001b[0m\n\u001b[0;32m    525\u001b[0m             \u001b[0mpred\u001b[0m \u001b[1;33m=\u001b[0m \u001b[0mself\u001b[0m\u001b[1;33m.\u001b[0m\u001b[0mpredict\u001b[0m\u001b[1;33m(\u001b[0m\u001b[0mdtrain\u001b[0m\u001b[1;33m)\u001b[0m\u001b[1;33m\u001b[0m\u001b[0m\n",
      "\u001b[1;31mKeyboardInterrupt\u001b[0m: "
     ]
    }
   ],
   "source": [
    "bst = xgb.train(param, dtrain, num_round, watchlist) #0.5"
   ]
  },
  {
   "cell_type": "code",
   "execution_count": 40,
   "metadata": {
    "collapsed": false,
    "scrolled": true
   },
   "outputs": [
    {
     "name": "stderr",
     "output_type": "stream",
     "text": [
      "[0]\teval-auc:0.725346\ttrain-auc:0.735978\n",
      "[1]\teval-auc:0.771739\ttrain-auc:0.789144\n",
      "[2]\teval-auc:0.796940\ttrain-auc:0.813029\n",
      "[3]\teval-auc:0.803177\ttrain-auc:0.818240\n",
      "[4]\teval-auc:0.807779\ttrain-auc:0.823322\n",
      "[5]\teval-auc:0.812233\ttrain-auc:0.828694\n",
      "[6]\teval-auc:0.817412\ttrain-auc:0.834790\n",
      "[7]\teval-auc:0.818460\ttrain-auc:0.836556\n",
      "[8]\teval-auc:0.821835\ttrain-auc:0.840497\n",
      "[9]\teval-auc:0.820524\ttrain-auc:0.839721\n",
      "[10]\teval-auc:0.822254\ttrain-auc:0.842438\n",
      "[11]\teval-auc:0.825392\ttrain-auc:0.847585\n",
      "[12]\teval-auc:0.825772\ttrain-auc:0.847922\n",
      "[13]\teval-auc:0.827668\ttrain-auc:0.849291\n",
      "[14]\teval-auc:0.829314\ttrain-auc:0.850923\n",
      "[15]\teval-auc:0.830189\ttrain-auc:0.852203\n",
      "[16]\teval-auc:0.832998\ttrain-auc:0.855660\n",
      "[17]\teval-auc:0.833215\ttrain-auc:0.855924\n",
      "[18]\teval-auc:0.835164\ttrain-auc:0.857554\n",
      "[19]\teval-auc:0.834785\ttrain-auc:0.857204\n",
      "[20]\teval-auc:0.834745\ttrain-auc:0.857545\n",
      "[21]\teval-auc:0.836459\ttrain-auc:0.860131\n",
      "[22]\teval-auc:0.837202\ttrain-auc:0.861413\n",
      "[23]\teval-auc:0.838766\ttrain-auc:0.863654\n",
      "[24]\teval-auc:0.839931\ttrain-auc:0.865259\n"
     ]
    },
    {
     "ename": "KeyboardInterrupt",
     "evalue": "",
     "output_type": "error",
     "traceback": [
      "\u001b[1;31m---------------------------------------------------------------------------\u001b[0m",
      "\u001b[1;31mKeyboardInterrupt\u001b[0m                         Traceback (most recent call last)",
      "\u001b[1;32m<ipython-input-40-e578d47b3b73>\u001b[0m in \u001b[0;36m<module>\u001b[1;34m()\u001b[0m\n\u001b[1;32m----> 1\u001b[1;33m \u001b[0mbst\u001b[0m \u001b[1;33m=\u001b[0m \u001b[0mxgb\u001b[0m\u001b[1;33m.\u001b[0m\u001b[0mtrain\u001b[0m\u001b[1;33m(\u001b[0m\u001b[0mparam\u001b[0m\u001b[1;33m,\u001b[0m \u001b[0mdtrain\u001b[0m\u001b[1;33m,\u001b[0m \u001b[0mnum_round\u001b[0m\u001b[1;33m,\u001b[0m \u001b[0mwatchlist\u001b[0m\u001b[1;33m)\u001b[0m\u001b[1;33m\u001b[0m\u001b[0m\n\u001b[0m",
      "\u001b[1;32m/usr/local/lib/python2.7/site-packages/xgboost/training.pyc\u001b[0m in \u001b[0;36mtrain\u001b[1;34m(params, dtrain, num_boost_round, evals, obj, feval, early_stopping_rounds, evals_result, verbose_eval)\u001b[0m\n\u001b[0;32m     60\u001b[0m     \u001b[1;32mif\u001b[0m \u001b[1;32mnot\u001b[0m \u001b[0mearly_stopping_rounds\u001b[0m\u001b[1;33m:\u001b[0m\u001b[1;33m\u001b[0m\u001b[0m\n\u001b[0;32m     61\u001b[0m         \u001b[1;32mfor\u001b[0m \u001b[0mi\u001b[0m \u001b[1;32min\u001b[0m \u001b[0mrange\u001b[0m\u001b[1;33m(\u001b[0m\u001b[0mnum_boost_round\u001b[0m\u001b[1;33m)\u001b[0m\u001b[1;33m:\u001b[0m\u001b[1;33m\u001b[0m\u001b[0m\n\u001b[1;32m---> 62\u001b[1;33m             \u001b[0mbst\u001b[0m\u001b[1;33m.\u001b[0m\u001b[0mupdate\u001b[0m\u001b[1;33m(\u001b[0m\u001b[0mdtrain\u001b[0m\u001b[1;33m,\u001b[0m \u001b[0mi\u001b[0m\u001b[1;33m,\u001b[0m \u001b[0mobj\u001b[0m\u001b[1;33m)\u001b[0m\u001b[1;33m\u001b[0m\u001b[0m\n\u001b[0m\u001b[0;32m     63\u001b[0m             \u001b[1;32mif\u001b[0m \u001b[0mlen\u001b[0m\u001b[1;33m(\u001b[0m\u001b[0mevals\u001b[0m\u001b[1;33m)\u001b[0m \u001b[1;33m!=\u001b[0m \u001b[1;36m0\u001b[0m\u001b[1;33m:\u001b[0m\u001b[1;33m\u001b[0m\u001b[0m\n\u001b[0;32m     64\u001b[0m                 \u001b[0mbst_eval_set\u001b[0m \u001b[1;33m=\u001b[0m \u001b[0mbst\u001b[0m\u001b[1;33m.\u001b[0m\u001b[0meval_set\u001b[0m\u001b[1;33m(\u001b[0m\u001b[0mevals\u001b[0m\u001b[1;33m,\u001b[0m \u001b[0mi\u001b[0m\u001b[1;33m,\u001b[0m \u001b[0mfeval\u001b[0m\u001b[1;33m)\u001b[0m\u001b[1;33m\u001b[0m\u001b[0m\n",
      "\u001b[1;32m/usr/local/lib/python2.7/site-packages/xgboost/core.pyc\u001b[0m in \u001b[0;36mupdate\u001b[1;34m(self, dtrain, iteration, fobj)\u001b[0m\n\u001b[0;32m    521\u001b[0m             \u001b[1;32mraise\u001b[0m \u001b[0mTypeError\u001b[0m\u001b[1;33m(\u001b[0m\u001b[1;34m'invalid training matrix: {}'\u001b[0m\u001b[1;33m.\u001b[0m\u001b[0mformat\u001b[0m\u001b[1;33m(\u001b[0m\u001b[0mtype\u001b[0m\u001b[1;33m(\u001b[0m\u001b[0mdtrain\u001b[0m\u001b[1;33m)\u001b[0m\u001b[1;33m.\u001b[0m\u001b[0m__name__\u001b[0m\u001b[1;33m)\u001b[0m\u001b[1;33m)\u001b[0m\u001b[1;33m\u001b[0m\u001b[0m\n\u001b[0;32m    522\u001b[0m         \u001b[1;32mif\u001b[0m \u001b[0mfobj\u001b[0m \u001b[1;32mis\u001b[0m \u001b[0mNone\u001b[0m\u001b[1;33m:\u001b[0m\u001b[1;33m\u001b[0m\u001b[0m\n\u001b[1;32m--> 523\u001b[1;33m             \u001b[0m_check_call\u001b[0m\u001b[1;33m(\u001b[0m\u001b[0m_LIB\u001b[0m\u001b[1;33m.\u001b[0m\u001b[0mXGBoosterUpdateOneIter\u001b[0m\u001b[1;33m(\u001b[0m\u001b[0mself\u001b[0m\u001b[1;33m.\u001b[0m\u001b[0mhandle\u001b[0m\u001b[1;33m,\u001b[0m \u001b[0miteration\u001b[0m\u001b[1;33m,\u001b[0m \u001b[0mdtrain\u001b[0m\u001b[1;33m.\u001b[0m\u001b[0mhandle\u001b[0m\u001b[1;33m)\u001b[0m\u001b[1;33m)\u001b[0m\u001b[1;33m\u001b[0m\u001b[0m\n\u001b[0m\u001b[0;32m    524\u001b[0m         \u001b[1;32melse\u001b[0m\u001b[1;33m:\u001b[0m\u001b[1;33m\u001b[0m\u001b[0m\n\u001b[0;32m    525\u001b[0m             \u001b[0mpred\u001b[0m \u001b[1;33m=\u001b[0m \u001b[0mself\u001b[0m\u001b[1;33m.\u001b[0m\u001b[0mpredict\u001b[0m\u001b[1;33m(\u001b[0m\u001b[0mdtrain\u001b[0m\u001b[1;33m)\u001b[0m\u001b[1;33m\u001b[0m\u001b[0m\n",
      "\u001b[1;31mKeyboardInterrupt\u001b[0m: "
     ]
    }
   ],
   "source": [
    "bst = xgb.train(param, dtrain, num_round, watchlist)  #0.4"
   ]
  },
  {
   "cell_type": "code",
   "execution_count": 42,
   "metadata": {
    "collapsed": false,
    "scrolled": true
   },
   "outputs": [
    {
     "name": "stderr",
     "output_type": "stream",
     "text": [
      "[0]\teval-auc:0.729769\ttrain-auc:0.743844\n",
      "[1]\teval-auc:0.770522\ttrain-auc:0.790120\n",
      "[2]\teval-auc:0.780034\ttrain-auc:0.800657\n",
      "[3]\teval-auc:0.803350\ttrain-auc:0.821476\n",
      "[4]\teval-auc:0.806560\ttrain-auc:0.825656\n",
      "[5]\teval-auc:0.811846\ttrain-auc:0.829909\n",
      "[6]\teval-auc:0.811101\ttrain-auc:0.830896\n",
      "[7]\teval-auc:0.816652\ttrain-auc:0.837054\n",
      "[8]\teval-auc:0.815831\ttrain-auc:0.837278\n",
      "[9]\teval-auc:0.816979\ttrain-auc:0.837958\n",
      "[10]\teval-auc:0.820713\ttrain-auc:0.842588\n",
      "[11]\teval-auc:0.822022\ttrain-auc:0.843522\n",
      "[12]\teval-auc:0.822302\ttrain-auc:0.844085\n",
      "[13]\teval-auc:0.828519\ttrain-auc:0.851191\n",
      "[14]\teval-auc:0.828639\ttrain-auc:0.850900\n",
      "[15]\teval-auc:0.832367\ttrain-auc:0.855613\n",
      "[16]\teval-auc:0.832864\ttrain-auc:0.856781\n",
      "[17]\teval-auc:0.835240\ttrain-auc:0.859067\n",
      "[18]\teval-auc:0.835793\ttrain-auc:0.860321\n",
      "[19]\teval-auc:0.834950\ttrain-auc:0.859506\n",
      "[20]\teval-auc:0.836435\ttrain-auc:0.861130\n",
      "[21]\teval-auc:0.839450\ttrain-auc:0.863966\n",
      "[22]\teval-auc:0.841697\ttrain-auc:0.866013\n",
      "[23]\teval-auc:0.842129\ttrain-auc:0.866310\n",
      "[24]\teval-auc:0.842199\ttrain-auc:0.866214\n",
      "[25]\teval-auc:0.843033\ttrain-auc:0.867412\n",
      "[26]\teval-auc:0.843669\ttrain-auc:0.868768\n",
      "[27]\teval-auc:0.844218\ttrain-auc:0.869433\n",
      "[28]\teval-auc:0.843839\ttrain-auc:0.869085\n",
      "[29]\teval-auc:0.844540\ttrain-auc:0.869805\n",
      "[30]\teval-auc:0.845778\ttrain-auc:0.871489\n",
      "[31]\teval-auc:0.845673\ttrain-auc:0.871525\n",
      "[32]\teval-auc:0.845834\ttrain-auc:0.871822\n",
      "[33]\teval-auc:0.845492\ttrain-auc:0.871847\n"
     ]
    },
    {
     "ename": "KeyboardInterrupt",
     "evalue": "",
     "output_type": "error",
     "traceback": [
      "\u001b[1;31m---------------------------------------------------------------------------\u001b[0m",
      "\u001b[1;31mKeyboardInterrupt\u001b[0m                         Traceback (most recent call last)",
      "\u001b[1;32m<ipython-input-42-e578d47b3b73>\u001b[0m in \u001b[0;36m<module>\u001b[1;34m()\u001b[0m\n\u001b[1;32m----> 1\u001b[1;33m \u001b[0mbst\u001b[0m \u001b[1;33m=\u001b[0m \u001b[0mxgb\u001b[0m\u001b[1;33m.\u001b[0m\u001b[0mtrain\u001b[0m\u001b[1;33m(\u001b[0m\u001b[0mparam\u001b[0m\u001b[1;33m,\u001b[0m \u001b[0mdtrain\u001b[0m\u001b[1;33m,\u001b[0m \u001b[0mnum_round\u001b[0m\u001b[1;33m,\u001b[0m \u001b[0mwatchlist\u001b[0m\u001b[1;33m)\u001b[0m\u001b[1;33m\u001b[0m\u001b[0m\n\u001b[0m",
      "\u001b[1;32m/usr/local/lib/python2.7/site-packages/xgboost/training.pyc\u001b[0m in \u001b[0;36mtrain\u001b[1;34m(params, dtrain, num_boost_round, evals, obj, feval, early_stopping_rounds, evals_result, verbose_eval)\u001b[0m\n\u001b[0;32m     60\u001b[0m     \u001b[1;32mif\u001b[0m \u001b[1;32mnot\u001b[0m \u001b[0mearly_stopping_rounds\u001b[0m\u001b[1;33m:\u001b[0m\u001b[1;33m\u001b[0m\u001b[0m\n\u001b[0;32m     61\u001b[0m         \u001b[1;32mfor\u001b[0m \u001b[0mi\u001b[0m \u001b[1;32min\u001b[0m \u001b[0mrange\u001b[0m\u001b[1;33m(\u001b[0m\u001b[0mnum_boost_round\u001b[0m\u001b[1;33m)\u001b[0m\u001b[1;33m:\u001b[0m\u001b[1;33m\u001b[0m\u001b[0m\n\u001b[1;32m---> 62\u001b[1;33m             \u001b[0mbst\u001b[0m\u001b[1;33m.\u001b[0m\u001b[0mupdate\u001b[0m\u001b[1;33m(\u001b[0m\u001b[0mdtrain\u001b[0m\u001b[1;33m,\u001b[0m \u001b[0mi\u001b[0m\u001b[1;33m,\u001b[0m \u001b[0mobj\u001b[0m\u001b[1;33m)\u001b[0m\u001b[1;33m\u001b[0m\u001b[0m\n\u001b[0m\u001b[0;32m     63\u001b[0m             \u001b[1;32mif\u001b[0m \u001b[0mlen\u001b[0m\u001b[1;33m(\u001b[0m\u001b[0mevals\u001b[0m\u001b[1;33m)\u001b[0m \u001b[1;33m!=\u001b[0m \u001b[1;36m0\u001b[0m\u001b[1;33m:\u001b[0m\u001b[1;33m\u001b[0m\u001b[0m\n\u001b[0;32m     64\u001b[0m                 \u001b[0mbst_eval_set\u001b[0m \u001b[1;33m=\u001b[0m \u001b[0mbst\u001b[0m\u001b[1;33m.\u001b[0m\u001b[0meval_set\u001b[0m\u001b[1;33m(\u001b[0m\u001b[0mevals\u001b[0m\u001b[1;33m,\u001b[0m \u001b[0mi\u001b[0m\u001b[1;33m,\u001b[0m \u001b[0mfeval\u001b[0m\u001b[1;33m)\u001b[0m\u001b[1;33m\u001b[0m\u001b[0m\n",
      "\u001b[1;32m/usr/local/lib/python2.7/site-packages/xgboost/core.pyc\u001b[0m in \u001b[0;36mupdate\u001b[1;34m(self, dtrain, iteration, fobj)\u001b[0m\n\u001b[0;32m    521\u001b[0m             \u001b[1;32mraise\u001b[0m \u001b[0mTypeError\u001b[0m\u001b[1;33m(\u001b[0m\u001b[1;34m'invalid training matrix: {}'\u001b[0m\u001b[1;33m.\u001b[0m\u001b[0mformat\u001b[0m\u001b[1;33m(\u001b[0m\u001b[0mtype\u001b[0m\u001b[1;33m(\u001b[0m\u001b[0mdtrain\u001b[0m\u001b[1;33m)\u001b[0m\u001b[1;33m.\u001b[0m\u001b[0m__name__\u001b[0m\u001b[1;33m)\u001b[0m\u001b[1;33m)\u001b[0m\u001b[1;33m\u001b[0m\u001b[0m\n\u001b[0;32m    522\u001b[0m         \u001b[1;32mif\u001b[0m \u001b[0mfobj\u001b[0m \u001b[1;32mis\u001b[0m \u001b[0mNone\u001b[0m\u001b[1;33m:\u001b[0m\u001b[1;33m\u001b[0m\u001b[0m\n\u001b[1;32m--> 523\u001b[1;33m             \u001b[0m_check_call\u001b[0m\u001b[1;33m(\u001b[0m\u001b[0m_LIB\u001b[0m\u001b[1;33m.\u001b[0m\u001b[0mXGBoosterUpdateOneIter\u001b[0m\u001b[1;33m(\u001b[0m\u001b[0mself\u001b[0m\u001b[1;33m.\u001b[0m\u001b[0mhandle\u001b[0m\u001b[1;33m,\u001b[0m \u001b[0miteration\u001b[0m\u001b[1;33m,\u001b[0m \u001b[0mdtrain\u001b[0m\u001b[1;33m.\u001b[0m\u001b[0mhandle\u001b[0m\u001b[1;33m)\u001b[0m\u001b[1;33m)\u001b[0m\u001b[1;33m\u001b[0m\u001b[0m\n\u001b[0m\u001b[0;32m    524\u001b[0m         \u001b[1;32melse\u001b[0m\u001b[1;33m:\u001b[0m\u001b[1;33m\u001b[0m\u001b[0m\n\u001b[0;32m    525\u001b[0m             \u001b[0mpred\u001b[0m \u001b[1;33m=\u001b[0m \u001b[0mself\u001b[0m\u001b[1;33m.\u001b[0m\u001b[0mpredict\u001b[0m\u001b[1;33m(\u001b[0m\u001b[0mdtrain\u001b[0m\u001b[1;33m)\u001b[0m\u001b[1;33m\u001b[0m\u001b[0m\n",
      "\u001b[1;31mKeyboardInterrupt\u001b[0m: "
     ]
    }
   ],
   "source": [
    "bst = xgb.train(param, dtrain, num_round, watchlist) #0.3"
   ]
  },
  {
   "cell_type": "code",
   "execution_count": 36,
   "metadata": {
    "collapsed": false,
    "scrolled": false
   },
   "outputs": [
    {
     "name": "stderr",
     "output_type": "stream",
     "text": [
      "[0]\teval-auc:0.725346\ttrain-auc:0.735978\n",
      "[1]\teval-auc:0.791019\ttrain-auc:0.817665\n",
      "[2]\teval-auc:0.829401\ttrain-auc:0.865907\n",
      "[3]\teval-auc:0.856240\ttrain-auc:0.902103\n",
      "[4]\teval-auc:0.878392\ttrain-auc:0.940189\n",
      "[5]\teval-auc:0.895176\ttrain-auc:0.963277\n",
      "[6]\teval-auc:0.906432\ttrain-auc:0.975436\n",
      "[7]\teval-auc:0.913355\ttrain-auc:0.982984\n",
      "[8]\teval-auc:0.918611\ttrain-auc:0.988754\n",
      "[9]\teval-auc:0.921459\ttrain-auc:0.991592\n",
      "[10]\teval-auc:0.923668\ttrain-auc:0.992822\n",
      "[11]\teval-auc:0.925038\ttrain-auc:0.993741\n",
      "[12]\teval-auc:0.925857\ttrain-auc:0.994206\n",
      "[13]\teval-auc:0.926644\ttrain-auc:0.994610\n",
      "[14]\teval-auc:0.927549\ttrain-auc:0.995402\n",
      "[15]\teval-auc:0.928319\ttrain-auc:0.995672\n",
      "[16]\teval-auc:0.928710\ttrain-auc:0.995926\n",
      "[17]\teval-auc:0.929151\ttrain-auc:0.996104\n",
      "[18]\teval-auc:0.929450\ttrain-auc:0.996254\n",
      "[19]\teval-auc:0.929864\ttrain-auc:0.996386\n",
      "[20]\teval-auc:0.930132\ttrain-auc:0.996631\n",
      "[21]\teval-auc:0.930153\ttrain-auc:0.996905\n",
      "[22]\teval-auc:0.931099\ttrain-auc:0.997078\n",
      "[23]\teval-auc:0.931638\ttrain-auc:0.997151\n",
      "[24]\teval-auc:0.932000\ttrain-auc:0.997267\n",
      "[25]\teval-auc:0.932456\ttrain-auc:0.997837\n"
     ]
    },
    {
     "ename": "KeyboardInterrupt",
     "evalue": "",
     "output_type": "error",
     "traceback": [
      "\u001b[1;31m---------------------------------------------------------------------------\u001b[0m",
      "\u001b[1;31mKeyboardInterrupt\u001b[0m                         Traceback (most recent call last)",
      "\u001b[1;32m<ipython-input-36-e578d47b3b73>\u001b[0m in \u001b[0;36m<module>\u001b[1;34m()\u001b[0m\n\u001b[1;32m----> 1\u001b[1;33m \u001b[0mbst\u001b[0m \u001b[1;33m=\u001b[0m \u001b[0mxgb\u001b[0m\u001b[1;33m.\u001b[0m\u001b[0mtrain\u001b[0m\u001b[1;33m(\u001b[0m\u001b[0mparam\u001b[0m\u001b[1;33m,\u001b[0m \u001b[0mdtrain\u001b[0m\u001b[1;33m,\u001b[0m \u001b[0mnum_round\u001b[0m\u001b[1;33m,\u001b[0m \u001b[0mwatchlist\u001b[0m\u001b[1;33m)\u001b[0m\u001b[1;33m\u001b[0m\u001b[0m\n\u001b[0m",
      "\u001b[1;32m/usr/local/lib/python2.7/site-packages/xgboost/training.pyc\u001b[0m in \u001b[0;36mtrain\u001b[1;34m(params, dtrain, num_boost_round, evals, obj, feval, early_stopping_rounds, evals_result, verbose_eval)\u001b[0m\n\u001b[0;32m     60\u001b[0m     \u001b[1;32mif\u001b[0m \u001b[1;32mnot\u001b[0m \u001b[0mearly_stopping_rounds\u001b[0m\u001b[1;33m:\u001b[0m\u001b[1;33m\u001b[0m\u001b[0m\n\u001b[0;32m     61\u001b[0m         \u001b[1;32mfor\u001b[0m \u001b[0mi\u001b[0m \u001b[1;32min\u001b[0m \u001b[0mrange\u001b[0m\u001b[1;33m(\u001b[0m\u001b[0mnum_boost_round\u001b[0m\u001b[1;33m)\u001b[0m\u001b[1;33m:\u001b[0m\u001b[1;33m\u001b[0m\u001b[0m\n\u001b[1;32m---> 62\u001b[1;33m             \u001b[0mbst\u001b[0m\u001b[1;33m.\u001b[0m\u001b[0mupdate\u001b[0m\u001b[1;33m(\u001b[0m\u001b[0mdtrain\u001b[0m\u001b[1;33m,\u001b[0m \u001b[0mi\u001b[0m\u001b[1;33m,\u001b[0m \u001b[0mobj\u001b[0m\u001b[1;33m)\u001b[0m\u001b[1;33m\u001b[0m\u001b[0m\n\u001b[0m\u001b[0;32m     63\u001b[0m             \u001b[1;32mif\u001b[0m \u001b[0mlen\u001b[0m\u001b[1;33m(\u001b[0m\u001b[0mevals\u001b[0m\u001b[1;33m)\u001b[0m \u001b[1;33m!=\u001b[0m \u001b[1;36m0\u001b[0m\u001b[1;33m:\u001b[0m\u001b[1;33m\u001b[0m\u001b[0m\n\u001b[0;32m     64\u001b[0m                 \u001b[0mbst_eval_set\u001b[0m \u001b[1;33m=\u001b[0m \u001b[0mbst\u001b[0m\u001b[1;33m.\u001b[0m\u001b[0meval_set\u001b[0m\u001b[1;33m(\u001b[0m\u001b[0mevals\u001b[0m\u001b[1;33m,\u001b[0m \u001b[0mi\u001b[0m\u001b[1;33m,\u001b[0m \u001b[0mfeval\u001b[0m\u001b[1;33m)\u001b[0m\u001b[1;33m\u001b[0m\u001b[0m\n",
      "\u001b[1;32m/usr/local/lib/python2.7/site-packages/xgboost/core.pyc\u001b[0m in \u001b[0;36mupdate\u001b[1;34m(self, dtrain, iteration, fobj)\u001b[0m\n\u001b[0;32m    521\u001b[0m             \u001b[1;32mraise\u001b[0m \u001b[0mTypeError\u001b[0m\u001b[1;33m(\u001b[0m\u001b[1;34m'invalid training matrix: {}'\u001b[0m\u001b[1;33m.\u001b[0m\u001b[0mformat\u001b[0m\u001b[1;33m(\u001b[0m\u001b[0mtype\u001b[0m\u001b[1;33m(\u001b[0m\u001b[0mdtrain\u001b[0m\u001b[1;33m)\u001b[0m\u001b[1;33m.\u001b[0m\u001b[0m__name__\u001b[0m\u001b[1;33m)\u001b[0m\u001b[1;33m)\u001b[0m\u001b[1;33m\u001b[0m\u001b[0m\n\u001b[0;32m    522\u001b[0m         \u001b[1;32mif\u001b[0m \u001b[0mfobj\u001b[0m \u001b[1;32mis\u001b[0m \u001b[0mNone\u001b[0m\u001b[1;33m:\u001b[0m\u001b[1;33m\u001b[0m\u001b[0m\n\u001b[1;32m--> 523\u001b[1;33m             \u001b[0m_check_call\u001b[0m\u001b[1;33m(\u001b[0m\u001b[0m_LIB\u001b[0m\u001b[1;33m.\u001b[0m\u001b[0mXGBoosterUpdateOneIter\u001b[0m\u001b[1;33m(\u001b[0m\u001b[0mself\u001b[0m\u001b[1;33m.\u001b[0m\u001b[0mhandle\u001b[0m\u001b[1;33m,\u001b[0m \u001b[0miteration\u001b[0m\u001b[1;33m,\u001b[0m \u001b[0mdtrain\u001b[0m\u001b[1;33m.\u001b[0m\u001b[0mhandle\u001b[0m\u001b[1;33m)\u001b[0m\u001b[1;33m)\u001b[0m\u001b[1;33m\u001b[0m\u001b[0m\n\u001b[0m\u001b[0;32m    524\u001b[0m         \u001b[1;32melse\u001b[0m\u001b[1;33m:\u001b[0m\u001b[1;33m\u001b[0m\u001b[0m\n\u001b[0;32m    525\u001b[0m             \u001b[0mpred\u001b[0m \u001b[1;33m=\u001b[0m \u001b[0mself\u001b[0m\u001b[1;33m.\u001b[0m\u001b[0mpredict\u001b[0m\u001b[1;33m(\u001b[0m\u001b[0mdtrain\u001b[0m\u001b[1;33m)\u001b[0m\u001b[1;33m\u001b[0m\u001b[0m\n",
      "\u001b[1;31mKeyboardInterrupt\u001b[0m: "
     ]
    }
   ],
   "source": [
    "bst = xgb.train(param, dtrain, num_round, watchlist)"
   ]
  },
  {
   "cell_type": "code",
   "execution_count": null,
   "metadata": {
    "collapsed": false
   },
   "outputs": [],
   "source": [
    "print(datetime.datetime.now())\n",
    "preds = bst.predict(dtest) #, ntree_limit=bst.boost .best_iteration)"
   ]
  },
  {
   "cell_type": "code",
   "execution_count": null,
   "metadata": {
    "collapsed": true
   },
   "outputs": [],
   "source": [
    "roc_auc_score(CV['sponsored'], preds)"
   ]
  },
  {
   "cell_type": "markdown",
   "metadata": {},
   "source": [
    "---\n",
    "\n",
    "## M-version"
   ]
  },
  {
   "cell_type": "code",
   "execution_count": null,
   "metadata": {
    "collapsed": false
   },
   "outputs": [],
   "source": [
    "#max depth [8], eta 0.2, colsample_bytree 0.5, subsample: 1.0\n",
    "param = {'max_depth': 18, \n",
    "         'eta': 0.02, \n",
    "         #'gamma': 1.0,\n",
    "         'colsample_bytree': 0.6,\n",
    "         'subsample': 1.0,\n",
    "         'min_child_weight': 7,\n",
    "         'silent':1, \n",
    "         'objective':'binary:logistic', \n",
    "         'eval_metric':'auc',\n",
    "         'early_stopping_rounds':20}\n",
    "num_round = 1800\n",
    "\n",
    "print(datetime.datetime.now())"
   ]
  },
  {
   "cell_type": "code",
   "execution_count": null,
   "metadata": {
    "collapsed": false
   },
   "outputs": [],
   "source": [
    "bst2 = xgb.train(param, dtrain, num_round, watchlist)"
   ]
  },
  {
   "cell_type": "code",
   "execution_count": null,
   "metadata": {
    "collapsed": false
   },
   "outputs": [],
   "source": [
    "print(datetime.datetime.now())\n",
    "preds = bst2.predict(dtest) #, ntree_limit=bst.boost .best_iteration)"
   ]
  },
  {
   "cell_type": "markdown",
   "metadata": {},
   "source": [
    "---\n",
    "\n",
    "## M2-version"
   ]
  },
  {
   "cell_type": "code",
   "execution_count": null,
   "metadata": {
    "collapsed": false
   },
   "outputs": [],
   "source": [
    "param = {'max_depth': 20, \n",
    "         'eta': 1, \n",
    "         'num_parallel_tree': 10,\n",
    "         #'gamma': 1.0,\n",
    "         'colsample_bytree': 0.8,\n",
    "         'subsample': 1.0,\n",
    "         'min_child_weight': 10,\n",
    "         'silent':1, \n",
    "         'objective':'binary:logistic', \n",
    "         'eval_metric':'auc',\n",
    "         'early_stopping_rounds':20}\n",
    "num_round = 20\n",
    "\n",
    "print(datetime.datetime.now())"
   ]
  },
  {
   "cell_type": "code",
   "execution_count": null,
   "metadata": {
    "collapsed": false,
    "scrolled": true
   },
   "outputs": [],
   "source": [
    "bst2 = xgb.train(param, dtrain, num_round, watchlist)"
   ]
  },
  {
   "cell_type": "code",
   "execution_count": null,
   "metadata": {
    "collapsed": false
   },
   "outputs": [],
   "source": [
    "a = datetime.datetime.now()\n",
    "\n",
    "#max depth [8], eta 0.2, colsample_bytree 0.5, subsample: 1.0\n",
    "#max depth [19], eta 0.02, colsample_bytree 0.6, subsample: 1.0, min_child_weight: 7\n",
    "param = {'max_depth': 19, \n",
    "         'eta': 0.1, \n",
    "         'num_parallel_tree': 10,\n",
    "         #'gamma': 1.0,\n",
    "         'colsample_bytree': 0.5, #0.8,\n",
    "         'subsample': 1.0,\n",
    "         'min_child_weight': 1, #10,\n",
    "         'silent':1, \n",
    "         'objective':'binary:logistic', \n",
    "         'eval_metric':'auc',\n",
    "         'early_stopping_rounds':20}\n",
    "num_round = 300\n",
    "\n",
    "print(datetime.datetime.now())\n",
    "b = datetime.datetime.now() - a\n",
    "print(b)"
   ]
  },
  {
   "cell_type": "code",
   "execution_count": null,
   "metadata": {
    "collapsed": false,
    "scrolled": false
   },
   "outputs": [],
   "source": [
    "a = datetime.datetime.now()\n",
    "%time bst2 = xgb.train(param, dtrain, num_round, watchlist)\n",
    "print(datetime.datetime.now())\n",
    "b = datetime.datetime.now() - a\n",
    "print(b)"
   ]
  },
  {
   "cell_type": "code",
   "execution_count": null,
   "metadata": {
    "collapsed": false,
    "scrolled": true
   },
   "outputs": [],
   "source": [
    "bst2 = xgb.train(param, dtrain, num_round, watchlist)"
   ]
  },
  {
   "cell_type": "code",
   "execution_count": null,
   "metadata": {
    "collapsed": false
   },
   "outputs": [],
   "source": [
    "print(datetime.datetime.now())\n",
    "preds = bst2.predict(dtest) #, ntree_limit=bst.boost .best_iteration)"
   ]
  },
  {
   "cell_type": "code",
   "execution_count": null,
   "metadata": {
    "collapsed": false
   },
   "outputs": [],
   "source": [
    "3"
   ]
  },
  {
   "cell_type": "markdown",
   "metadata": {},
   "source": [
    "# Submission"
   ]
  },
  {
   "cell_type": "code",
   "execution_count": null,
   "metadata": {
    "collapsed": false
   },
   "outputs": [],
   "source": [
    "submission = pd.DataFrame({\n",
    "        'file': df_test['id'].map(lambda s: s + '_raw_html.txt').reset_index(drop=True),\n",
    "        'sponsored': preds\n",
    "    })\n",
    "submission.to_csv('submission_xgb_Oct_07_01.csv', index=False)\n",
    "print(datetime.datetime.now())"
   ]
  },
  {
   "cell_type": "code",
   "execution_count": null,
   "metadata": {
    "collapsed": true
   },
   "outputs": [],
   "source": [
    "#submission = df_test[['id']].map(lambda s: s + '_raw_html.txt'). reset_index(drop=True)\n",
    "#submission['sponsored'] = clf.predict_proba(test.drop(['file', 'sponsored'], 1))[:, 1]\n",
    "#submission.to_csv('submission_xgb_Oct_06_01.csv', index=False)"
   ]
  },
  {
   "cell_type": "markdown",
   "metadata": {},
   "source": [
    "# train_train version"
   ]
  },
  {
   "cell_type": "code",
   "execution_count": null,
   "metadata": {
    "collapsed": false,
    "scrolled": true
   },
   "outputs": [],
   "source": [
    "#max depth [8], eta 0.2, colsample_bytree 0.5, subsample: 1.0\n",
    "param = {'max_depth': 18, \n",
    "         'eta': 0.02, \n",
    "         #'gamma': 1.0,\n",
    "         'colsample_bytree': 0.6,\n",
    "         'subsample': 1.0,\n",
    "         'min_child_weight': 7,\n",
    "         'silent':1, \n",
    "         'objective':'binary:logistic', \n",
    "         'eval_metric':'auc',\n",
    "         'early_stopping_rounds':20}\n",
    "num_round = 1800\n",
    "\n",
    "print(datetime.datetime.now())"
   ]
  },
  {
   "cell_type": "code",
   "execution_count": null,
   "metadata": {
    "collapsed": false,
    "scrolled": true
   },
   "outputs": [],
   "source": [
    "bst = xgb.train(param, dtrain, num_round, watchlist)"
   ]
  },
  {
   "cell_type": "code",
   "execution_count": null,
   "metadata": {
    "collapsed": false
   },
   "outputs": [],
   "source": [
    "print(datetime.datetime.now())\n",
    "preds = bst.predict(dtest) #, ntree_limit=bst.boost .best_iteration)\n",
    "roc_auc_score(CV['sponsored'], preds)"
   ]
  },
  {
   "cell_type": "markdown",
   "metadata": {},
   "source": [
    "# T"
   ]
  },
  {
   "cell_type": "code",
   "execution_count": null,
   "metadata": {
    "collapsed": false
   },
   "outputs": [],
   "source": [
    "#max depth [8], eta 0.2, colsample_bytree 0.5, subsample: 1.0\n",
    "param = {'max_depth': 16, \n",
    "         'eta': 0.1, \n",
    "         #'gamma': 1.0,\n",
    "         'colsample_bytree': 0.5,\n",
    "         'subsample': 1.0,\n",
    "         'min_child_weight': 5,\n",
    "         'silent':1, \n",
    "         'objective':'binary:logistic', \n",
    "         'eval_metric':'auc',\n",
    "         'early_stopping_rounds':20}\n",
    "num_round = 300\n",
    "\n",
    "print(datetime.datetime.now())"
   ]
  },
  {
   "cell_type": "code",
   "execution_count": null,
   "metadata": {
    "collapsed": false
   },
   "outputs": [],
   "source": [
    "3"
   ]
  },
  {
   "cell_type": "code",
   "execution_count": null,
   "metadata": {
    "collapsed": true
   },
   "outputs": [],
   "source": [
    "dtrain.save_binary('dtrain.buffer_mindf20')\n",
    "dtest.save_binary('dtest.buffer_mindf20')\n",
    "#a = xgb.DMatrix('dtest.buffer')"
   ]
  },
  {
   "cell_type": "code",
   "execution_count": null,
   "metadata": {
    "collapsed": true
   },
   "outputs": [],
   "source": [
    "submission = test[['file']].reset_index(drop=True)\n",
    "submission['sponsored'] = clf.predict_proba(test.drop(['file', 'sponsored'], 1))[:, 1]"
   ]
  },
  {
   "cell_type": "markdown",
   "metadata": {},
   "source": [
    "## etc"
   ]
  },
  {
   "cell_type": "code",
   "execution_count": null,
   "metadata": {
    "collapsed": false
   },
   "outputs": [],
   "source": [
    "df_train.columns"
   ]
  },
  {
   "cell_type": "code",
   "execution_count": null,
   "metadata": {
    "collapsed": false
   },
   "outputs": [],
   "source": [
    "np.mean(df_train[df_train['basic.2'] == 0]['sponsored'])"
   ]
  },
  {
   "cell_type": "code",
   "execution_count": null,
   "metadata": {
    "collapsed": false
   },
   "outputs": [],
   "source": [
    "df_train['basic.1'].value_counts()"
   ]
  },
  {
   "cell_type": "code",
   "execution_count": null,
   "metadata": {
    "collapsed": false
   },
   "outputs": [],
   "source": [
    "a= bst.get_fscore()"
   ]
  },
  {
   "cell_type": "code",
   "execution_count": null,
   "metadata": {
    "collapsed": false
   },
   "outputs": [],
   "source": [
    "len(a)"
   ]
  },
  {
   "cell_type": "code",
   "execution_count": 4,
   "metadata": {
    "collapsed": false
   },
   "outputs": [],
   "source": [
    "f1 = pd.read_csv('/Users/rbekbolatov/tmp/sub_Oct09_depth19_eta_0.02_colsam0.4_minchild4_par4.csv', index_col='file')\n",
    "f2 = pd.read_csv('/Users/rbekbolatov/tmp/sub_Oct09_depth19_eta_0.02_colsam0.5_minchild4_par4.csv', index_col='file')\n",
    "f3 = pd.read_csv('/Users/rbekbolatov/tmp/sub_Oct09_depth20_eta_0.01_colsam0.5_minchild1_par4.csv', index_col='file')"
   ]
  },
  {
   "cell_type": "code",
   "execution_count": 25,
   "metadata": {
    "collapsed": false
   },
   "outputs": [],
   "source": [
    "comb = f1.join(f2, rsuffix='_f2').join(f3, rsuffix=\"_f3\")\n",
    "comb.rename(columns={'sponsored':'sponsored_f1'}, inplace=True)\n",
    "comb['sponsored'] = comb['sponsored_f1'] * 0.2 + comb['sponsored_f2'] * 0.3 + comb['sponsored_f3'] * 0.5"
   ]
  },
  {
   "cell_type": "code",
   "execution_count": null,
   "metadata": {
    "collapsed": true
   },
   "outputs": [],
   "source": [
    "submission = pd.DataFrame({\n",
    "        'file': df_test['id'].map(lambda s: s + '_raw_html.txt').reset_index(drop=True),\n",
    "        'sponsored': preds\n",
    "    })\n",
    "submission.to_csv('submission_xgb_Oct_07_01.csv', index=False)"
   ]
  },
  {
   "cell_type": "code",
   "execution_count": 29,
   "metadata": {
    "collapsed": true
   },
   "outputs": [],
   "source": [
    "comb['sponsored'].to_csv('/Users/rbekbolatov/tmp/sub__comb.csv', header=True )"
   ]
  },
  {
   "cell_type": "code",
   "execution_count": 26,
   "metadata": {
    "collapsed": false
   },
   "outputs": [
    {
     "data": {
      "text/html": [
       "<div>\n",
       "<table border=\"1\" class=\"dataframe\">\n",
       "  <thead>\n",
       "    <tr style=\"text-align: right;\">\n",
       "      <th></th>\n",
       "      <th>sponsored_f1</th>\n",
       "      <th>sponsored_f2</th>\n",
       "      <th>sponsored_f3</th>\n",
       "      <th>sponsored</th>\n",
       "    </tr>\n",
       "    <tr>\n",
       "      <th>file</th>\n",
       "      <th></th>\n",
       "      <th></th>\n",
       "      <th></th>\n",
       "      <th></th>\n",
       "    </tr>\n",
       "  </thead>\n",
       "  <tbody>\n",
       "    <tr>\n",
       "      <th>3450965_raw_html.txt</th>\n",
       "      <td>0.049543</td>\n",
       "      <td>0.049217</td>\n",
       "      <td>0.034372</td>\n",
       "      <td>0.041860</td>\n",
       "    </tr>\n",
       "    <tr>\n",
       "      <th>3450935_raw_html.txt</th>\n",
       "      <td>0.000470</td>\n",
       "      <td>0.000464</td>\n",
       "      <td>0.000097</td>\n",
       "      <td>0.000282</td>\n",
       "    </tr>\n",
       "    <tr>\n",
       "      <th>345089_raw_html.txt</th>\n",
       "      <td>0.001974</td>\n",
       "      <td>0.002045</td>\n",
       "      <td>0.001014</td>\n",
       "      <td>0.001515</td>\n",
       "    </tr>\n",
       "    <tr>\n",
       "      <th>3450887_raw_html.txt</th>\n",
       "      <td>0.004902</td>\n",
       "      <td>0.004075</td>\n",
       "      <td>0.002680</td>\n",
       "      <td>0.003543</td>\n",
       "    </tr>\n",
       "    <tr>\n",
       "      <th>3450851_raw_html.txt</th>\n",
       "      <td>0.000690</td>\n",
       "      <td>0.000749</td>\n",
       "      <td>0.000401</td>\n",
       "      <td>0.000563</td>\n",
       "    </tr>\n",
       "    <tr>\n",
       "      <th>3450803_raw_html.txt</th>\n",
       "      <td>0.011811</td>\n",
       "      <td>0.013911</td>\n",
       "      <td>0.006742</td>\n",
       "      <td>0.009906</td>\n",
       "    </tr>\n",
       "    <tr>\n",
       "      <th>3450743_raw_html.txt</th>\n",
       "      <td>0.002740</td>\n",
       "      <td>0.002191</td>\n",
       "      <td>0.001066</td>\n",
       "      <td>0.001738</td>\n",
       "    </tr>\n",
       "    <tr>\n",
       "      <th>3450695_raw_html.txt</th>\n",
       "      <td>0.018568</td>\n",
       "      <td>0.017423</td>\n",
       "      <td>0.007354</td>\n",
       "      <td>0.012617</td>\n",
       "    </tr>\n",
       "    <tr>\n",
       "      <th>3450671_raw_html.txt</th>\n",
       "      <td>0.007270</td>\n",
       "      <td>0.005685</td>\n",
       "      <td>0.003319</td>\n",
       "      <td>0.004819</td>\n",
       "    </tr>\n",
       "    <tr>\n",
       "      <th>3450623_raw_html.txt</th>\n",
       "      <td>0.008046</td>\n",
       "      <td>0.007950</td>\n",
       "      <td>0.003219</td>\n",
       "      <td>0.005604</td>\n",
       "    </tr>\n",
       "    <tr>\n",
       "      <th>3450617_raw_html.txt</th>\n",
       "      <td>0.217406</td>\n",
       "      <td>0.204600</td>\n",
       "      <td>0.149095</td>\n",
       "      <td>0.179409</td>\n",
       "    </tr>\n",
       "    <tr>\n",
       "      <th>3450569_raw_html.txt</th>\n",
       "      <td>0.000577</td>\n",
       "      <td>0.000703</td>\n",
       "      <td>0.000433</td>\n",
       "      <td>0.000543</td>\n",
       "    </tr>\n",
       "    <tr>\n",
       "      <th>3450539_raw_html.txt</th>\n",
       "      <td>0.008383</td>\n",
       "      <td>0.008967</td>\n",
       "      <td>0.005373</td>\n",
       "      <td>0.007053</td>\n",
       "    </tr>\n",
       "    <tr>\n",
       "      <th>3450533_raw_html.txt</th>\n",
       "      <td>0.034103</td>\n",
       "      <td>0.027849</td>\n",
       "      <td>0.019292</td>\n",
       "      <td>0.024821</td>\n",
       "    </tr>\n",
       "    <tr>\n",
       "      <th>3450515_raw_html.txt</th>\n",
       "      <td>0.001337</td>\n",
       "      <td>0.001167</td>\n",
       "      <td>0.000448</td>\n",
       "      <td>0.000841</td>\n",
       "    </tr>\n",
       "    <tr>\n",
       "      <th>3450503_raw_html.txt</th>\n",
       "      <td>0.008895</td>\n",
       "      <td>0.008569</td>\n",
       "      <td>0.003692</td>\n",
       "      <td>0.006196</td>\n",
       "    </tr>\n",
       "    <tr>\n",
       "      <th>3450479_raw_html.txt</th>\n",
       "      <td>0.010327</td>\n",
       "      <td>0.011428</td>\n",
       "      <td>0.005789</td>\n",
       "      <td>0.008388</td>\n",
       "    </tr>\n",
       "    <tr>\n",
       "      <th>3450437_raw_html.txt</th>\n",
       "      <td>0.059743</td>\n",
       "      <td>0.057982</td>\n",
       "      <td>0.029959</td>\n",
       "      <td>0.044323</td>\n",
       "    </tr>\n",
       "    <tr>\n",
       "      <th>3450425_raw_html.txt</th>\n",
       "      <td>0.001850</td>\n",
       "      <td>0.001870</td>\n",
       "      <td>0.000962</td>\n",
       "      <td>0.001412</td>\n",
       "    </tr>\n",
       "    <tr>\n",
       "      <th>3450299_raw_html.txt</th>\n",
       "      <td>0.011256</td>\n",
       "      <td>0.013591</td>\n",
       "      <td>0.006712</td>\n",
       "      <td>0.009685</td>\n",
       "    </tr>\n",
       "    <tr>\n",
       "      <th>3450275_raw_html.txt</th>\n",
       "      <td>0.016005</td>\n",
       "      <td>0.018786</td>\n",
       "      <td>0.010834</td>\n",
       "      <td>0.014254</td>\n",
       "    </tr>\n",
       "    <tr>\n",
       "      <th>3450215_raw_html.txt</th>\n",
       "      <td>0.058401</td>\n",
       "      <td>0.056812</td>\n",
       "      <td>0.040489</td>\n",
       "      <td>0.048968</td>\n",
       "    </tr>\n",
       "    <tr>\n",
       "      <th>3450065_raw_html.txt</th>\n",
       "      <td>0.009177</td>\n",
       "      <td>0.008908</td>\n",
       "      <td>0.005251</td>\n",
       "      <td>0.007133</td>\n",
       "    </tr>\n",
       "    <tr>\n",
       "      <th>3450059_raw_html.txt</th>\n",
       "      <td>0.004758</td>\n",
       "      <td>0.004440</td>\n",
       "      <td>0.002788</td>\n",
       "      <td>0.003677</td>\n",
       "    </tr>\n",
       "    <tr>\n",
       "      <th>3449933_raw_html.txt</th>\n",
       "      <td>0.002349</td>\n",
       "      <td>0.002260</td>\n",
       "      <td>0.001381</td>\n",
       "      <td>0.001838</td>\n",
       "    </tr>\n",
       "    <tr>\n",
       "      <th>3449879_raw_html.txt</th>\n",
       "      <td>0.000273</td>\n",
       "      <td>0.000293</td>\n",
       "      <td>0.000154</td>\n",
       "      <td>0.000220</td>\n",
       "    </tr>\n",
       "    <tr>\n",
       "      <th>3449753_raw_html.txt</th>\n",
       "      <td>0.985008</td>\n",
       "      <td>0.985469</td>\n",
       "      <td>0.993265</td>\n",
       "      <td>0.989275</td>\n",
       "    </tr>\n",
       "    <tr>\n",
       "      <th>3449585_raw_html.txt</th>\n",
       "      <td>0.037405</td>\n",
       "      <td>0.033209</td>\n",
       "      <td>0.023054</td>\n",
       "      <td>0.028971</td>\n",
       "    </tr>\n",
       "    <tr>\n",
       "      <th>3449381_raw_html.txt</th>\n",
       "      <td>0.041086</td>\n",
       "      <td>0.033598</td>\n",
       "      <td>0.029112</td>\n",
       "      <td>0.032853</td>\n",
       "    </tr>\n",
       "    <tr>\n",
       "      <th>3449351_raw_html.txt</th>\n",
       "      <td>0.112469</td>\n",
       "      <td>0.098265</td>\n",
       "      <td>0.062197</td>\n",
       "      <td>0.083072</td>\n",
       "    </tr>\n",
       "    <tr>\n",
       "      <th>...</th>\n",
       "      <td>...</td>\n",
       "      <td>...</td>\n",
       "      <td>...</td>\n",
       "      <td>...</td>\n",
       "    </tr>\n",
       "    <tr>\n",
       "      <th>2869457_raw_html.txt</th>\n",
       "      <td>0.002610</td>\n",
       "      <td>0.002933</td>\n",
       "      <td>0.001623</td>\n",
       "      <td>0.002213</td>\n",
       "    </tr>\n",
       "    <tr>\n",
       "      <th>2869349_raw_html.txt</th>\n",
       "      <td>0.013682</td>\n",
       "      <td>0.014615</td>\n",
       "      <td>0.008786</td>\n",
       "      <td>0.011514</td>\n",
       "    </tr>\n",
       "    <tr>\n",
       "      <th>2869313_raw_html.txt</th>\n",
       "      <td>0.010364</td>\n",
       "      <td>0.009534</td>\n",
       "      <td>0.005400</td>\n",
       "      <td>0.007633</td>\n",
       "    </tr>\n",
       "    <tr>\n",
       "      <th>2869235_raw_html.txt</th>\n",
       "      <td>0.020247</td>\n",
       "      <td>0.022267</td>\n",
       "      <td>0.013623</td>\n",
       "      <td>0.017541</td>\n",
       "    </tr>\n",
       "    <tr>\n",
       "      <th>286919_raw_html.txt</th>\n",
       "      <td>0.075701</td>\n",
       "      <td>0.077452</td>\n",
       "      <td>0.041864</td>\n",
       "      <td>0.059308</td>\n",
       "    </tr>\n",
       "    <tr>\n",
       "      <th>2868995_raw_html.txt</th>\n",
       "      <td>0.027244</td>\n",
       "      <td>0.024322</td>\n",
       "      <td>0.019817</td>\n",
       "      <td>0.022654</td>\n",
       "    </tr>\n",
       "    <tr>\n",
       "      <th>2868803_raw_html.txt</th>\n",
       "      <td>0.000346</td>\n",
       "      <td>0.000348</td>\n",
       "      <td>0.000145</td>\n",
       "      <td>0.000246</td>\n",
       "    </tr>\n",
       "    <tr>\n",
       "      <th>2868737_raw_html.txt</th>\n",
       "      <td>0.067559</td>\n",
       "      <td>0.068224</td>\n",
       "      <td>0.037518</td>\n",
       "      <td>0.052738</td>\n",
       "    </tr>\n",
       "    <tr>\n",
       "      <th>2868689_raw_html.txt</th>\n",
       "      <td>0.005986</td>\n",
       "      <td>0.007150</td>\n",
       "      <td>0.002836</td>\n",
       "      <td>0.004760</td>\n",
       "    </tr>\n",
       "    <tr>\n",
       "      <th>2868641_raw_html.txt</th>\n",
       "      <td>0.119832</td>\n",
       "      <td>0.128955</td>\n",
       "      <td>0.101777</td>\n",
       "      <td>0.113541</td>\n",
       "    </tr>\n",
       "    <tr>\n",
       "      <th>2868455_raw_html.txt</th>\n",
       "      <td>0.006786</td>\n",
       "      <td>0.006881</td>\n",
       "      <td>0.003492</td>\n",
       "      <td>0.005167</td>\n",
       "    </tr>\n",
       "    <tr>\n",
       "      <th>286841_raw_html.txt</th>\n",
       "      <td>0.011784</td>\n",
       "      <td>0.012785</td>\n",
       "      <td>0.006225</td>\n",
       "      <td>0.009305</td>\n",
       "    </tr>\n",
       "    <tr>\n",
       "      <th>2868377_raw_html.txt</th>\n",
       "      <td>0.000905</td>\n",
       "      <td>0.001139</td>\n",
       "      <td>0.000627</td>\n",
       "      <td>0.000836</td>\n",
       "    </tr>\n",
       "    <tr>\n",
       "      <th>2868329_raw_html.txt</th>\n",
       "      <td>0.012932</td>\n",
       "      <td>0.012171</td>\n",
       "      <td>0.010993</td>\n",
       "      <td>0.011734</td>\n",
       "    </tr>\n",
       "    <tr>\n",
       "      <th>2868323_raw_html.txt</th>\n",
       "      <td>0.000354</td>\n",
       "      <td>0.000366</td>\n",
       "      <td>0.000156</td>\n",
       "      <td>0.000259</td>\n",
       "    </tr>\n",
       "    <tr>\n",
       "      <th>2868317_raw_html.txt</th>\n",
       "      <td>0.005127</td>\n",
       "      <td>0.004746</td>\n",
       "      <td>0.003478</td>\n",
       "      <td>0.004188</td>\n",
       "    </tr>\n",
       "    <tr>\n",
       "      <th>2868269_raw_html.txt</th>\n",
       "      <td>0.001581</td>\n",
       "      <td>0.001421</td>\n",
       "      <td>0.000769</td>\n",
       "      <td>0.001127</td>\n",
       "    </tr>\n",
       "    <tr>\n",
       "      <th>2868251_raw_html.txt</th>\n",
       "      <td>0.038127</td>\n",
       "      <td>0.040591</td>\n",
       "      <td>0.024917</td>\n",
       "      <td>0.032261</td>\n",
       "    </tr>\n",
       "    <tr>\n",
       "      <th>2868245_raw_html.txt</th>\n",
       "      <td>0.011165</td>\n",
       "      <td>0.011624</td>\n",
       "      <td>0.007369</td>\n",
       "      <td>0.009404</td>\n",
       "    </tr>\n",
       "    <tr>\n",
       "      <th>2868113_raw_html.txt</th>\n",
       "      <td>0.890043</td>\n",
       "      <td>0.912331</td>\n",
       "      <td>0.945572</td>\n",
       "      <td>0.924494</td>\n",
       "    </tr>\n",
       "    <tr>\n",
       "      <th>2868059_raw_html.txt</th>\n",
       "      <td>0.807759</td>\n",
       "      <td>0.832624</td>\n",
       "      <td>0.818015</td>\n",
       "      <td>0.820346</td>\n",
       "    </tr>\n",
       "    <tr>\n",
       "      <th>2868041_raw_html.txt</th>\n",
       "      <td>0.001371</td>\n",
       "      <td>0.001318</td>\n",
       "      <td>0.000757</td>\n",
       "      <td>0.001048</td>\n",
       "    </tr>\n",
       "    <tr>\n",
       "      <th>2867993_raw_html.txt</th>\n",
       "      <td>0.121240</td>\n",
       "      <td>0.090129</td>\n",
       "      <td>0.053641</td>\n",
       "      <td>0.078107</td>\n",
       "    </tr>\n",
       "    <tr>\n",
       "      <th>2867873_raw_html.txt</th>\n",
       "      <td>0.971783</td>\n",
       "      <td>0.969004</td>\n",
       "      <td>0.982180</td>\n",
       "      <td>0.976148</td>\n",
       "    </tr>\n",
       "    <tr>\n",
       "      <th>2867729_raw_html.txt</th>\n",
       "      <td>0.980061</td>\n",
       "      <td>0.986283</td>\n",
       "      <td>0.991562</td>\n",
       "      <td>0.987678</td>\n",
       "    </tr>\n",
       "    <tr>\n",
       "      <th>2867639_raw_html.txt</th>\n",
       "      <td>0.925141</td>\n",
       "      <td>0.906273</td>\n",
       "      <td>0.918908</td>\n",
       "      <td>0.916364</td>\n",
       "    </tr>\n",
       "    <tr>\n",
       "      <th>286751_raw_html.txt</th>\n",
       "      <td>0.040381</td>\n",
       "      <td>0.038056</td>\n",
       "      <td>0.034328</td>\n",
       "      <td>0.036657</td>\n",
       "    </tr>\n",
       "    <tr>\n",
       "      <th>2867495_raw_html.txt</th>\n",
       "      <td>0.075991</td>\n",
       "      <td>0.071592</td>\n",
       "      <td>0.047749</td>\n",
       "      <td>0.060550</td>\n",
       "    </tr>\n",
       "    <tr>\n",
       "      <th>2867315_raw_html.txt</th>\n",
       "      <td>0.011000</td>\n",
       "      <td>0.010283</td>\n",
       "      <td>0.004824</td>\n",
       "      <td>0.007697</td>\n",
       "    </tr>\n",
       "    <tr>\n",
       "      <th>2867297_raw_html.txt</th>\n",
       "      <td>0.093588</td>\n",
       "      <td>0.076173</td>\n",
       "      <td>0.058799</td>\n",
       "      <td>0.070969</td>\n",
       "    </tr>\n",
       "  </tbody>\n",
       "</table>\n",
       "<p>66772 rows × 4 columns</p>\n",
       "</div>"
      ],
      "text/plain": [
       "                      sponsored_f1  sponsored_f2  sponsored_f3  sponsored\n",
       "file                                                                     \n",
       "3450965_raw_html.txt      0.049543      0.049217      0.034372   0.041860\n",
       "3450935_raw_html.txt      0.000470      0.000464      0.000097   0.000282\n",
       "345089_raw_html.txt       0.001974      0.002045      0.001014   0.001515\n",
       "3450887_raw_html.txt      0.004902      0.004075      0.002680   0.003543\n",
       "3450851_raw_html.txt      0.000690      0.000749      0.000401   0.000563\n",
       "3450803_raw_html.txt      0.011811      0.013911      0.006742   0.009906\n",
       "3450743_raw_html.txt      0.002740      0.002191      0.001066   0.001738\n",
       "3450695_raw_html.txt      0.018568      0.017423      0.007354   0.012617\n",
       "3450671_raw_html.txt      0.007270      0.005685      0.003319   0.004819\n",
       "3450623_raw_html.txt      0.008046      0.007950      0.003219   0.005604\n",
       "3450617_raw_html.txt      0.217406      0.204600      0.149095   0.179409\n",
       "3450569_raw_html.txt      0.000577      0.000703      0.000433   0.000543\n",
       "3450539_raw_html.txt      0.008383      0.008967      0.005373   0.007053\n",
       "3450533_raw_html.txt      0.034103      0.027849      0.019292   0.024821\n",
       "3450515_raw_html.txt      0.001337      0.001167      0.000448   0.000841\n",
       "3450503_raw_html.txt      0.008895      0.008569      0.003692   0.006196\n",
       "3450479_raw_html.txt      0.010327      0.011428      0.005789   0.008388\n",
       "3450437_raw_html.txt      0.059743      0.057982      0.029959   0.044323\n",
       "3450425_raw_html.txt      0.001850      0.001870      0.000962   0.001412\n",
       "3450299_raw_html.txt      0.011256      0.013591      0.006712   0.009685\n",
       "3450275_raw_html.txt      0.016005      0.018786      0.010834   0.014254\n",
       "3450215_raw_html.txt      0.058401      0.056812      0.040489   0.048968\n",
       "3450065_raw_html.txt      0.009177      0.008908      0.005251   0.007133\n",
       "3450059_raw_html.txt      0.004758      0.004440      0.002788   0.003677\n",
       "3449933_raw_html.txt      0.002349      0.002260      0.001381   0.001838\n",
       "3449879_raw_html.txt      0.000273      0.000293      0.000154   0.000220\n",
       "3449753_raw_html.txt      0.985008      0.985469      0.993265   0.989275\n",
       "3449585_raw_html.txt      0.037405      0.033209      0.023054   0.028971\n",
       "3449381_raw_html.txt      0.041086      0.033598      0.029112   0.032853\n",
       "3449351_raw_html.txt      0.112469      0.098265      0.062197   0.083072\n",
       "...                            ...           ...           ...        ...\n",
       "2869457_raw_html.txt      0.002610      0.002933      0.001623   0.002213\n",
       "2869349_raw_html.txt      0.013682      0.014615      0.008786   0.011514\n",
       "2869313_raw_html.txt      0.010364      0.009534      0.005400   0.007633\n",
       "2869235_raw_html.txt      0.020247      0.022267      0.013623   0.017541\n",
       "286919_raw_html.txt       0.075701      0.077452      0.041864   0.059308\n",
       "2868995_raw_html.txt      0.027244      0.024322      0.019817   0.022654\n",
       "2868803_raw_html.txt      0.000346      0.000348      0.000145   0.000246\n",
       "2868737_raw_html.txt      0.067559      0.068224      0.037518   0.052738\n",
       "2868689_raw_html.txt      0.005986      0.007150      0.002836   0.004760\n",
       "2868641_raw_html.txt      0.119832      0.128955      0.101777   0.113541\n",
       "2868455_raw_html.txt      0.006786      0.006881      0.003492   0.005167\n",
       "286841_raw_html.txt       0.011784      0.012785      0.006225   0.009305\n",
       "2868377_raw_html.txt      0.000905      0.001139      0.000627   0.000836\n",
       "2868329_raw_html.txt      0.012932      0.012171      0.010993   0.011734\n",
       "2868323_raw_html.txt      0.000354      0.000366      0.000156   0.000259\n",
       "2868317_raw_html.txt      0.005127      0.004746      0.003478   0.004188\n",
       "2868269_raw_html.txt      0.001581      0.001421      0.000769   0.001127\n",
       "2868251_raw_html.txt      0.038127      0.040591      0.024917   0.032261\n",
       "2868245_raw_html.txt      0.011165      0.011624      0.007369   0.009404\n",
       "2868113_raw_html.txt      0.890043      0.912331      0.945572   0.924494\n",
       "2868059_raw_html.txt      0.807759      0.832624      0.818015   0.820346\n",
       "2868041_raw_html.txt      0.001371      0.001318      0.000757   0.001048\n",
       "2867993_raw_html.txt      0.121240      0.090129      0.053641   0.078107\n",
       "2867873_raw_html.txt      0.971783      0.969004      0.982180   0.976148\n",
       "2867729_raw_html.txt      0.980061      0.986283      0.991562   0.987678\n",
       "2867639_raw_html.txt      0.925141      0.906273      0.918908   0.916364\n",
       "286751_raw_html.txt       0.040381      0.038056      0.034328   0.036657\n",
       "2867495_raw_html.txt      0.075991      0.071592      0.047749   0.060550\n",
       "2867315_raw_html.txt      0.011000      0.010283      0.004824   0.007697\n",
       "2867297_raw_html.txt      0.093588      0.076173      0.058799   0.070969\n",
       "\n",
       "[66772 rows x 4 columns]"
      ]
     },
     "execution_count": 26,
     "metadata": {},
     "output_type": "execute_result"
    }
   ],
   "source": [
    "comb"
   ]
  }
 ],
 "metadata": {
  "kernelspec": {
   "display_name": "Python 2",
   "language": "python",
   "name": "python2"
  },
  "language_info": {
   "codemirror_mode": {
    "name": "ipython",
    "version": 2
   },
   "file_extension": ".py",
   "mimetype": "text/x-python",
   "name": "python",
   "nbconvert_exporter": "python",
   "pygments_lexer": "ipython2",
   "version": "2.7.6"
  }
 },
 "nbformat": 4,
 "nbformat_minor": 0
}
