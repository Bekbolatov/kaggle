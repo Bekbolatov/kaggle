{
 "cells": [
  {
   "cell_type": "code",
   "execution_count": 1,
   "metadata": {
    "collapsed": true
   },
   "outputs": [],
   "source": [
    "import boto.ec2\n",
    "import boto3"
   ]
  },
  {
   "cell_type": "code",
   "execution_count": 2,
   "metadata": {
    "collapsed": true
   },
   "outputs": [],
   "source": [
    "%run aws_helper.py"
   ]
  },
  {
   "cell_type": "code",
   "execution_count": 3,
   "metadata": {
    "collapsed": true
   },
   "outputs": [],
   "source": [
    "si = SpotInstances()\n",
    "ctq = ClusterTaskQueue()"
   ]
  },
  {
   "cell_type": "code",
   "execution_count": 4,
   "metadata": {
    "collapsed": false
   },
   "outputs": [],
   "source": [
    "sqs = boto3.resource('sqs')  "
   ]
  },
  {
   "cell_type": "code",
   "execution_count": 5,
   "metadata": {
    "collapsed": false
   },
   "outputs": [],
   "source": [
    "new_member_queue = sqs.get_queue_by_name(QueueName='cluster_new_member')\n",
    "task_commitment_queue = sqs.get_queue_by_name(QueueName='cluster_task_commitment')\n",
    "task_queue = sqs.get_queue_by_name(QueueName='cluster_task_queue')\n",
    "# instance metadata: http://docs.aws.amazon.com/AWSEC2/latest/UserGuide/ec2-instance-metadata.html\n",
    "# ipython setup: http://ipython.org/ipython-doc/dev/notebook/public_server.html#running-a-public-notebook-server"
   ]
  },
  {
   "cell_type": "code",
   "execution_count": 187,
   "metadata": {
    "collapsed": false
   },
   "outputs": [],
   "source": [
    "si.request(num_instances=1, subnet='b')"
   ]
  },
  {
   "cell_type": "code",
   "execution_count": 188,
   "metadata": {
    "collapsed": false
   },
   "outputs": [
    {
     "name": "stdout",
     "output_type": "stream",
     "text": [
      "ec2-52-25-178-60.us-west-2.compute.amazonaws.com\n",
      "ec2-52-27-130-165.us-west-2.compute.amazonaws.com\n"
     ]
    }
   ],
   "source": [
    "si.print_public_dns_names()"
   ]
  },
  {
   "cell_type": "code",
   "execution_count": null,
   "metadata": {
    "collapsed": true
   },
   "outputs": [],
   "source": [
    "ctq.add_task('hello yejllow 17:27')"
   ]
  },
  {
   "cell_type": "code",
   "execution_count": 190,
   "metadata": {
    "collapsed": true
   },
   "outputs": [],
   "source": [
    "ctq.add_task('git:pull')"
   ]
  },
  {
   "cell_type": "code",
   "execution_count": 191,
   "metadata": {
    "collapsed": true
   },
   "outputs": [],
   "source": [
    "#ctq.add_task('parse:01')\n",
    "ctq.add_task('parse:test/01:0:400400')"
   ]
  },
  {
   "cell_type": "code",
   "execution_count": null,
   "metadata": {
    "collapsed": true
   },
   "outputs": [],
   "source": [
    "ctq.add_task('XXXparse:tmp/01:404075:405000')"
   ]
  },
  {
   "cell_type": "code",
   "execution_count": 186,
   "metadata": {
    "collapsed": false
   },
   "outputs": [],
   "source": [
    "run_id = 'test/01'\n",
    "total_ids = 60\n",
    "for i in range(total_ids):\n",
    "    ctq.add_task('quit')\n",
    "    #ctq.add_task('git:pull')\n",
    "    #ctq.add_task('XXXparse:%s:%d:%d' % (run_id, i, total_ids))\n",
    "    #ctq.add_task('parse:%s' % (run_id))"
   ]
  },
  {
   "cell_type": "code",
   "execution_count": null,
   "metadata": {
    "collapsed": true
   },
   "outputs": [],
   "source": [
    "#ctq.add_task('quit')"
   ]
  },
  {
   "cell_type": "code",
   "execution_count": 189,
   "metadata": {
    "collapsed": false
   },
   "outputs": [
    {
     "name": "stdout",
     "output_type": "stream",
     "text": [
      "ec2-52-27-130-165.us-west-2.compute.amazonaws.com: new_member\n"
     ]
    }
   ],
   "source": [
    "msgs = new_member_queue.receive_messages(MessageAttributeNames=['Worker'])\n",
    "for msg in msgs:\n",
    "    worker_dns_name = 'unknown'\n",
    "    if msg.message_attributes is not None:\n",
    "        worker_dns_name = msg.message_attributes.get('Worker')['StringValue']\n",
    "    print('%s: %s' % (worker_dns_name, msg.body))\n",
    "    msg.delete()"
   ]
  },
  {
   "cell_type": "code",
   "execution_count": 184,
   "metadata": {
    "collapsed": false
   },
   "outputs": [],
   "source": [
    "msgs = task_commitment_queue.receive_messages(MessageAttributeNames=['Worker'])\n",
    "for msg in msgs:\n",
    "    worker_dns_name = 'unknown'\n",
    "    if msg.message_attributes is not None:\n",
    "        worker_dns_name = msg.message_attributes.get('Worker')['StringValue']\n",
    "    print('%s: %s' % (worker_dns_name, msg.body))\n",
    "    msg.delete()"
   ]
  },
  {
   "cell_type": "code",
   "execution_count": 161,
   "metadata": {
    "collapsed": false
   },
   "outputs": [],
   "source": [
    "#Delete 'quit' message after the end\n",
    "msgs = task_queue.receive_messages(MessageAttributeNames=['Worker'])\n",
    "for msg in msgs:\n",
    "    worker_dns_name = 'unknown'\n",
    "    if msg.message_attributes is not None:\n",
    "        worker_dns_name = msg.message_attributes.get('Worker')['StringValue']\n",
    "    print('%s: %s' % (worker_dns_name, msg.body))\n",
    "    #msg.delete()"
   ]
  },
  {
   "cell_type": "code",
   "execution_count": 20,
   "metadata": {
    "collapsed": false
   },
   "outputs": [
    {
     "data": {
      "text/plain": [
       "{'ResponseMetadata': {'HTTPStatusCode': 200,\n",
       "  'RequestId': '57dca50e-55aa-5863-ba44-eb7fea2400f3'}}"
      ]
     },
     "execution_count": 20,
     "metadata": {},
     "output_type": "execute_result"
    }
   ],
   "source": [
    "#new_member_queue.purge()\n",
    "task_queue.purge()\n",
    "#task_commitment_queue.purge()"
   ]
  },
  {
   "cell_type": "code",
   "execution_count": null,
   "metadata": {
    "collapsed": true
   },
   "outputs": [],
   "source": []
  }
 ],
 "metadata": {
  "kernelspec": {
   "display_name": "Python 2",
   "language": "python",
   "name": "python2"
  },
  "language_info": {
   "codemirror_mode": {
    "name": "ipython",
    "version": 2
   },
   "file_extension": ".py",
   "mimetype": "text/x-python",
   "name": "python",
   "nbconvert_exporter": "python",
   "pygments_lexer": "ipython2",
   "version": "2.7.6"
  }
 },
 "nbformat": 4,
 "nbformat_minor": 0
}
