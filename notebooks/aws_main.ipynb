{
 "cells": [
  {
   "cell_type": "code",
   "execution_count": 1,
   "metadata": {
    "collapsed": true
   },
   "outputs": [],
   "source": [
    "import boto.ec2\n",
    "import boto3"
   ]
  },
  {
   "cell_type": "code",
   "execution_count": 2,
   "metadata": {
    "collapsed": true
   },
   "outputs": [],
   "source": [
    "%run aws_helper.py"
   ]
  },
  {
   "cell_type": "code",
   "execution_count": 3,
   "metadata": {
    "collapsed": true
   },
   "outputs": [],
   "source": [
    "si = SpotInstances()\n",
    "ctq = ClusterTaskQueue()"
   ]
  },
  {
   "cell_type": "code",
   "execution_count": 4,
   "metadata": {
    "collapsed": false
   },
   "outputs": [],
   "source": [
    "sqs = boto3.resource('sqs')  "
   ]
  },
  {
   "cell_type": "code",
   "execution_count": 5,
   "metadata": {
    "collapsed": false
   },
   "outputs": [],
   "source": [
    "new_member_queue = sqs.get_queue_by_name(QueueName='cluster_new_member')\n",
    "task_commitment_queue = sqs.get_queue_by_name(QueueName='cluster_task_commitment')\n",
    "task_queue = sqs.get_queue_by_name(QueueName='cluster_task_queue')\n",
    "# instance metadata: http://docs.aws.amazon.com/AWSEC2/latest/UserGuide/ec2-instance-metadata.html\n",
    "# ipython setup: http://ipython.org/ipython-doc/dev/notebook/public_server.html#running-a-public-notebook-server"
   ]
  },
  {
   "cell_type": "code",
   "execution_count": 6,
   "metadata": {
    "collapsed": false
   },
   "outputs": [
    {
     "name": "stdout",
     "output_type": "stream",
     "text": [
      "The following script will be run on startup\n",
      "#!/bin/bash\n",
      "\n",
      "echo \"===========================\"\n",
      "echo \"Starting service 'worker-server'.\"\n",
      "initctl status worker-server\n",
      "echo \"===========================\"\n",
      "\n"
     ]
    }
   ],
   "source": [
    "si.request(num_instances=1, subnet='c')"
   ]
  },
  {
   "cell_type": "code",
   "execution_count": null,
   "metadata": {
    "collapsed": true
   },
   "outputs": [],
   "source": [
    "reqs = si.conn.get_all_spot_instance_requests()"
   ]
  },
  {
   "cell_type": "code",
   "execution_count": null,
   "metadata": {
    "collapsed": false
   },
   "outputs": [],
   "source": [
    "len(reqs)"
   ]
  },
  {
   "cell_type": "code",
   "execution_count": null,
   "metadata": {
    "collapsed": false
   },
   "outputs": [],
   "source": [
    "len([req.instance_id for req in reqs[1:]])"
   ]
  },
  {
   "cell_type": "code",
   "execution_count": null,
   "metadata": {
    "collapsed": false
   },
   "outputs": [],
   "source": [
    "reservations = si.conn.get_all_reservations(instance_ids = [req.instance_id for req in reqs[1:]])"
   ]
  },
  {
   "cell_type": "code",
   "execution_count": null,
   "metadata": {
    "collapsed": false
   },
   "outputs": [],
   "source": [
    "instances = [instance.public_dns_name for res in reservations for instance in res.instances]\n",
    "#for res in reservations:\n",
    "#    for instance in res.instances:\n",
    "#        print(instance.public_dns_name)"
   ]
  },
  {
   "cell_type": "code",
   "execution_count": null,
   "metadata": {
    "collapsed": false
   },
   "outputs": [],
   "source": [
    "instances[0:5]"
   ]
  },
  {
   "cell_type": "code",
   "execution_count": null,
   "metadata": {
    "collapsed": false
   },
   "outputs": [],
   "source": [
    "si.print_public_dns_names()"
   ]
  },
  {
   "cell_type": "code",
   "execution_count": null,
   "metadata": {
    "collapsed": true
   },
   "outputs": [],
   "source": [
    "ctq.add_task('hello yejllow 17:27')"
   ]
  },
  {
   "cell_type": "code",
   "execution_count": 12,
   "metadata": {
    "collapsed": true
   },
   "outputs": [],
   "source": [
    "ctq.add_task('git:pull')"
   ]
  },
  {
   "cell_type": "code",
   "execution_count": 16,
   "metadata": {
    "collapsed": true
   },
   "outputs": [],
   "source": [
    "#ctq.add_task('parse:01')\n",
    "ctq.add_task('parse:test/008:645:10100')"
   ]
  },
  {
   "cell_type": "code",
   "execution_count": null,
   "metadata": {
    "collapsed": true
   },
   "outputs": [],
   "source": [
    "ctq.add_task('XXXparse:tmp/01:404075:405000')"
   ]
  },
  {
   "cell_type": "code",
   "execution_count": null,
   "metadata": {
    "collapsed": false
   },
   "outputs": [],
   "source": [
    "run_id = 'prod/07'\n",
    "total_ids = 200\n",
    "for i in range(total_ids):\n",
    "    #ctq.add_task('quit')\n",
    "    #ctq.add_task('git:pull')\n",
    "    ctq.add_task('parse:%s:%d:%d' % (run_id, i, total_ids))\n",
    "    #ctq.add_task('parse:%s' % (run_id))"
   ]
  },
  {
   "cell_type": "code",
   "execution_count": null,
   "metadata": {
    "collapsed": true
   },
   "outputs": [],
   "source": [
    "ctq.add_task('quit')"
   ]
  },
  {
   "cell_type": "code",
   "execution_count": 7,
   "metadata": {
    "collapsed": true
   },
   "outputs": [],
   "source": [
    "started = []"
   ]
  },
  {
   "cell_type": "code",
   "execution_count": 9,
   "metadata": {
    "collapsed": false
   },
   "outputs": [],
   "source": [
    "for i in range(5):\n",
    "    msgs = new_member_queue.receive_messages(MessageAttributeNames=['Worker'])\n",
    "    for msg in msgs:\n",
    "        worker_dns_name = 'unknown'\n",
    "        if msg.message_attributes is not None:\n",
    "            worker_dns_name = msg.message_attributes.get('Worker')['StringValue']\n",
    "        print('%s: %s' % (worker_dns_name, msg.body))\n",
    "        msg.delete()\n",
    "        started.append(worker_dns_name)"
   ]
  },
  {
   "cell_type": "code",
   "execution_count": null,
   "metadata": {
    "collapsed": false
   },
   "outputs": [],
   "source": [
    "len(started)"
   ]
  },
  {
   "cell_type": "code",
   "execution_count": null,
   "metadata": {
    "collapsed": false
   },
   "outputs": [],
   "source": [
    "'ec2-52-27-130-165.us-west-2.compute.amazonaws.com' in started"
   ]
  },
  {
   "cell_type": "code",
   "execution_count": null,
   "metadata": {
    "collapsed": false
   },
   "outputs": [],
   "source": [
    "list(set(instances) - set(started))"
   ]
  },
  {
   "cell_type": "code",
   "execution_count": 10,
   "metadata": {
    "collapsed": true
   },
   "outputs": [],
   "source": [
    "res = []"
   ]
  },
  {
   "cell_type": "code",
   "execution_count": 15,
   "metadata": {
    "collapsed": false
   },
   "outputs": [],
   "source": [
    "for i in range(5):\n",
    "    msgs = task_commitment_queue.receive_messages(MessageAttributeNames=['Worker'])\n",
    "    for msg in msgs:\n",
    "        worker_dns_name = 'unknown'\n",
    "        if msg.message_attributes is not None:\n",
    "            worker_dns_name = msg.message_attributes.get('Worker')['StringValue']\n",
    "        print('%s: %s' % (worker_dns_name, msg.body))\n",
    "        res.append((worker_dns_name, msg.body))\n",
    "        msg.delete()"
   ]
  },
  {
   "cell_type": "code",
   "execution_count": null,
   "metadata": {
    "collapsed": true
   },
   "outputs": [],
   "source": [
    "#res.append(('ec2-54-68-173-118.us-west-2.compute.amazonaws.com','parse:prod/07:3:200' ))"
   ]
  },
  {
   "cell_type": "code",
   "execution_count": null,
   "metadata": {
    "collapsed": false
   },
   "outputs": [],
   "source": [
    "len(res)"
   ]
  },
  {
   "cell_type": "code",
   "execution_count": null,
   "metadata": {
    "collapsed": false
   },
   "outputs": [],
   "source": [
    "len(set([a[0] for a in accepted]))"
   ]
  },
  {
   "cell_type": "code",
   "execution_count": null,
   "metadata": {
    "collapsed": false
   },
   "outputs": [],
   "source": [
    "workers = [r[0] for r in res]"
   ]
  },
  {
   "cell_type": "code",
   "execution_count": null,
   "metadata": {
    "collapsed": false
   },
   "outputs": [],
   "source": [
    "set(hosts) - set(workers)"
   ]
  },
  {
   "cell_type": "code",
   "execution_count": null,
   "metadata": {
    "collapsed": false
   },
   "outputs": [],
   "source": [
    "#Delete 'quit' message after the end\n",
    "msgs = task_queue.receive_messages(MessageAttributeNames=['Worker'])\n",
    "for msg in msgs:\n",
    "    worker_dns_name = 'unknown'\n",
    "    if msg.message_attributes is not None:\n",
    "        worker_dns_name = msg.message_attributes.get('Worker')['StringValue']\n",
    "    print('%s: %s' % (worker_dns_name, msg.body))\n",
    "    #msg.delete()"
   ]
  },
  {
   "cell_type": "code",
   "execution_count": null,
   "metadata": {
    "collapsed": false
   },
   "outputs": [],
   "source": [
    "new_member_queue.purge()\n",
    "task_queue.purge()\n",
    "task_commitment_queue.purge()"
   ]
  },
  {
   "cell_type": "code",
   "execution_count": null,
   "metadata": {
    "collapsed": true
   },
   "outputs": [],
   "source": [
    "hosts = [\n",
    "    \"ec2-52-89-193-15.us-west-2.compute.amazonaws.com\",\n",
    "    \"ec2-54-69-136-78.us-west-2.compute.amazonaws.com\",\n",
    "    \"ec2-54-68-193-159.us-west-2.compute.amazonaws.com\",\n",
    "    \"ec2-52-88-201-154.us-west-2.compute.amazonaws.com\",\n",
    "    \"ec2-52-89-15-13.us-west-2.compute.amazonaws.com\",\n",
    "    \"ec2-52-89-45-252.us-west-2.compute.amazonaws.com\",\n",
    "    \"ec2-54-69-129-216.us-west-2.compute.amazonaws.com\",\n",
    "    \"ec2-52-89-235-49.us-west-2.compute.amazonaws.com\",\n",
    "    \"ec2-54-68-201-203.us-west-2.compute.amazonaws.com\",\n",
    "    \"ec2-52-10-43-242.us-west-2.compute.amazonaws.com\",\n",
    "    \"ec2-52-88-239-14.us-west-2.compute.amazonaws.com\",\n",
    "    \"ec2-54-69-13-4.us-west-2.compute.amazonaws.com\",\n",
    "    \"ec2-52-89-133-116.us-west-2.compute.amazonaws.com\",\n",
    "    \"ec2-54-68-203-141.us-west-2.compute.amazonaws.com\",\n",
    "    \"ec2-54-69-128-40.us-west-2.compute.amazonaws.com\",\n",
    "    \"ec2-52-89-243-103.us-west-2.compute.amazonaws.com\",\n",
    "    \"ec2-54-68-167-111.us-west-2.compute.amazonaws.com\",\n",
    "    \"ec2-54-68-149-49.us-west-2.compute.amazonaws.com\",\n",
    "    \"ec2-52-88-140-31.us-west-2.compute.amazonaws.com\",\n",
    "    \"ec2-54-69-13-17.us-west-2.compute.amazonaws.com\",\n",
    "    \"ec2-54-68-108-253.us-west-2.compute.amazonaws.com\",\n",
    "    \"ec2-52-89-135-95.us-west-2.compute.amazonaws.com\",\n",
    "    \"ec2-52-89-221-244.us-west-2.compute.amazonaws.com\",\n",
    "    \"ec2-52-89-254-95.us-west-2.compute.amazonaws.com\",\n",
    "    \"ec2-54-68-166-47.us-west-2.compute.amazonaws.com\",\n",
    "    \"ec2-54-69-43-170.us-west-2.compute.amazonaws.com\",\n",
    "    \"ec2-52-89-151-225.us-west-2.compute.amazonaws.com\",\n",
    "    \"ec2-54-69-133-194.us-west-2.compute.amazonaws.com\",\n",
    "    \"ec2-52-26-206-14.us-west-2.compute.amazonaws.com\",\n",
    "    \"ec2-52-88-57-125.us-west-2.compute.amazonaws.com\",\n",
    "    \"ec2-54-69-102-121.us-west-2.compute.amazonaws.com\",\n",
    "    \"ec2-52-88-5-19.us-west-2.compute.amazonaws.com\",\n",
    "    \"ec2-52-25-5-100.us-west-2.compute.amazonaws.com\",\n",
    "    \"ec2-54-68-125-99.us-west-2.compute.amazonaws.com\",\n",
    "    \"ec2-52-89-55-24.us-west-2.compute.amazonaws.com\",\n",
    "    \"ec2-54-68-179-101.us-west-2.compute.amazonaws.com\",\n",
    "    \"ec2-54-69-7-70.us-west-2.compute.amazonaws.com\",\n",
    "    \"ec2-54-68-46-25.us-west-2.compute.amazonaws.com\",\n",
    "    \"ec2-52-27-101-119.us-west-2.compute.amazonaws.com\",\n",
    "    \"ec2-54-69-16-198.us-west-2.compute.amazonaws.com\",\n",
    "    \"ec2-52-27-202-38.us-west-2.compute.amazonaws.com\",\n",
    "    \"ec2-52-89-241-245.us-west-2.compute.amazonaws.com\",\n",
    "    \"ec2-52-89-188-228.us-west-2.compute.amazonaws.com\",\n",
    "    \"ec2-54-68-163-25.us-west-2.compute.amazonaws.com\",\n",
    "    \"ec2-54-69-100-163.us-west-2.compute.amazonaws.com\",\n",
    "    \"ec2-52-89-215-11.us-west-2.compute.amazonaws.com\",\n",
    "    \"ec2-52-89-93-129.us-west-2.compute.amazonaws.com\",\n",
    "    \"ec2-54-68-148-244.us-west-2.compute.amazonaws.com\",\n",
    "    \"ec2-54-68-205-216.us-west-2.compute.amazonaws.com\",\n",
    "    \"ec2-54-69-111-80.us-west-2.compute.amazonaws.com\",\n",
    "    \"ec2-54-69-16-189.us-west-2.compute.amazonaws.com\",\n",
    "    \"ec2-54-69-13-59.us-west-2.compute.amazonaws.com\",\n",
    "    \"ec2-52-89-248-201.us-west-2.compute.amazonaws.com\",\n",
    "    \"ec2-52-88-167-15.us-west-2.compute.amazonaws.com\",\n",
    "    \"ec2-54-68-102-238.us-west-2.compute.amazonaws.com\",\n",
    "    \"ec2-54-68-197-197.us-west-2.compute.amazonaws.com\",\n",
    "    \"ec2-52-24-252-202.us-west-2.compute.amazonaws.com\",\n",
    "    \"ec2-52-26-56-255.us-west-2.compute.amazonaws.com\",\n",
    "    \"ec2-52-11-188-93.us-west-2.compute.amazonaws.com\",\n",
    "    \"ec2-52-89-37-225.us-west-2.compute.amazonaws.com\",\n",
    "    \"ec2-54-69-134-170.us-west-2.compute.amazonaws.com\",\n",
    "    \"ec2-54-68-230-132.us-west-2.compute.amazonaws.com\",\n",
    "    \"ec2-52-26-247-58.us-west-2.compute.amazonaws.com\",\n",
    "    \"ec2-54-69-22-62.us-west-2.compute.amazonaws.com\",\n",
    "    \"ec2-52-88-148-10.us-west-2.compute.amazonaws.com\",\n",
    "    \"ec2-54-68-104-52.us-west-2.compute.amazonaws.com\",\n",
    "    \"ec2-54-68-115-107.us-west-2.compute.amazonaws.com\",\n",
    "    \"ec2-52-89-241-191.us-west-2.compute.amazonaws.com\",\n",
    "    \"ec2-54-69-136-58.us-west-2.compute.amazonaws.com\",\n",
    "    \"ec2-54-69-11-201.us-west-2.compute.amazonaws.com\",\n",
    "    \"ec2-52-10-114-136.us-west-2.compute.amazonaws.com\",\n",
    "    \"ec2-54-68-202-216.us-west-2.compute.amazonaws.com\",\n",
    "    \"ec2-54-69-136-34.us-west-2.compute.amazonaws.com\",\n",
    "    \"ec2-52-88-34-128.us-west-2.compute.amazonaws.com\",\n",
    "    \"ec2-52-88-176-236.us-west-2.compute.amazonaws.com\",\n",
    "    \"ec2-52-89-208-176.us-west-2.compute.amazonaws.com\",\n",
    "    \"ec2-52-24-102-152.us-west-2.compute.amazonaws.com\",\n",
    "    \"ec2-52-89-227-161.us-west-2.compute.amazonaws.com\",\n",
    "    \"ec2-54-68-203-253.us-west-2.compute.amazonaws.com\",\n",
    "    \"ec2-52-89-90-171.us-west-2.compute.amazonaws.com\",\n",
    "    \"ec2-52-89-196-70.us-west-2.compute.amazonaws.com\",\n",
    "    \"ec2-52-88-12-15.us-west-2.compute.amazonaws.com\",\n",
    "    \"ec2-52-89-175-90.us-west-2.compute.amazonaws.com\",\n",
    "    \"ec2-52-89-230-26.us-west-2.compute.amazonaws.com\",\n",
    "    \"ec2-54-68-156-176.us-west-2.compute.amazonaws.com\",\n",
    "    \"ec2-52-89-163-39.us-west-2.compute.amazonaws.com\",\n",
    "    \"ec2-54-69-112-242.us-west-2.compute.amazonaws.com\",\n",
    "    \"ec2-52-25-123-5.us-west-2.compute.amazonaws.com\",\n",
    "    \"ec2-52-88-216-208.us-west-2.compute.amazonaws.com\",\n",
    "    \"ec2-52-25-242-153.us-west-2.compute.amazonaws.com\",\n",
    "    \"ec2-54-68-131-38.us-west-2.compute.amazonaws.com\",\n",
    "    \"ec2-52-88-135-209.us-west-2.compute.amazonaws.com\",\n",
    "    \"ec2-52-27-6-21.us-west-2.compute.amazonaws.com\",\n",
    "    \"ec2-54-69-136-66.us-west-2.compute.amazonaws.com\",\n",
    "    \"ec2-52-89-222-49.us-west-2.compute.amazonaws.com\",\n",
    "    \"ec2-52-89-226-215.us-west-2.compute.amazonaws.com\",\n",
    "    \"ec2-52-89-187-92.us-west-2.compute.amazonaws.com\",\n",
    "    \"ec2-52-24-99-129.us-west-2.compute.amazonaws.com\",\n",
    "    \"ec2-52-89-132-66.us-west-2.compute.amazonaws.com\",\n",
    "    \"ec2-52-89-73-242.us-west-2.compute.amazonaws.com\"   \n",
    "    ]\n"
   ]
  }
 ],
 "metadata": {
  "kernelspec": {
   "display_name": "Python 2",
   "language": "python",
   "name": "python2"
  },
  "language_info": {
   "codemirror_mode": {
    "name": "ipython",
    "version": 2
   },
   "file_extension": ".py",
   "mimetype": "text/x-python",
   "name": "python",
   "nbconvert_exporter": "python",
   "pygments_lexer": "ipython2",
   "version": "2.7.6"
  }
 },
 "nbformat": 4,
 "nbformat_minor": 0
}
