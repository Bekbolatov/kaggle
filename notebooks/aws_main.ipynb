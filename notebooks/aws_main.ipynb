{
 "cells": [
  {
   "cell_type": "code",
   "execution_count": 1,
   "metadata": {
    "collapsed": true
   },
   "outputs": [],
   "source": [
    "import boto.ec2\n",
    "import boto3"
   ]
  },
  {
   "cell_type": "code",
   "execution_count": 2,
   "metadata": {
    "collapsed": true
   },
   "outputs": [],
   "source": [
    "%run aws_helper.py"
   ]
  },
  {
   "cell_type": "code",
   "execution_count": 3,
   "metadata": {
    "collapsed": true
   },
   "outputs": [],
   "source": [
    "si = SpotInstances()\n",
    "ctq = ClusterTaskQueue()"
   ]
  },
  {
   "cell_type": "code",
   "execution_count": 4,
   "metadata": {
    "collapsed": false
   },
   "outputs": [],
   "source": [
    "sqs = boto3.resource('sqs')  "
   ]
  },
  {
   "cell_type": "code",
   "execution_count": 5,
   "metadata": {
    "collapsed": false
   },
   "outputs": [],
   "source": [
    "new_member_queue = sqs.get_queue_by_name(QueueName='cluster_new_member')\n",
    "task_commitment_queue = sqs.get_queue_by_name(QueueName='cluster_task_commitment')\n",
    "task_queue = sqs.get_queue_by_name(QueueName='cluster_task_queue')\n",
    "# instance metadata: http://docs.aws.amazon.com/AWSEC2/latest/UserGuide/ec2-instance-metadata.html\n",
    "# ipython setup: http://ipython.org/ipython-doc/dev/notebook/public_server.html#running-a-public-notebook-server"
   ]
  },
  {
   "cell_type": "code",
   "execution_count": 8,
   "metadata": {
    "collapsed": false
   },
   "outputs": [
    {
     "name": "stdout",
     "output_type": "stream",
     "text": [
      "The following script will be run on startup\n",
      "#!/bin/bash\n",
      "\n",
      "echo \"===========================\"\n",
      "echo \"Starting service 'worker-server'.\"\n",
      "initctl status worker-server\n",
      "echo \"===========================\"\n",
      "\n"
     ]
    }
   ],
   "source": [
    "si.request(num_instances=50, subnet='a')"
   ]
  },
  {
   "cell_type": "code",
   "execution_count": 14,
   "metadata": {
    "collapsed": true
   },
   "outputs": [],
   "source": [
    "reqs = si.conn.get_all_spot_instance_requests()"
   ]
  },
  {
   "cell_type": "code",
   "execution_count": 15,
   "metadata": {
    "collapsed": false
   },
   "outputs": [
    {
     "data": {
      "text/plain": [
       "151"
      ]
     },
     "execution_count": 15,
     "metadata": {},
     "output_type": "execute_result"
    }
   ],
   "source": [
    "len(reqs)"
   ]
  },
  {
   "cell_type": "code",
   "execution_count": 17,
   "metadata": {
    "collapsed": true
   },
   "outputs": [
    {
     "data": {
      "text/plain": [
       "[u'i-251b49fe',\n",
       " u'i-000a58db',\n",
       " u'i-0a0b59d1',\n",
       " u'i-0e0b59d5',\n",
       " u'i-49085a92',\n",
       " u'i-170a58cc',\n",
       " u'i-a40b597f',\n",
       " u'i-b40b596f',\n",
       " u'i-180a58c3',\n",
       " u'i-b00b596b',\n",
       " u'i-b2085a69',\n",
       " u'i-a50b597e',\n",
       " u'i-360b59ed',\n",
       " u'i-0b0b59d0',\n",
       " u'i-130a58c8',\n",
       " u'i-9a0b5941',\n",
       " u'i-1c0a58c7',\n",
       " u'i-ae0b5975',\n",
       " u'i-a90b5972',\n",
       " u'i-bb0b5960',\n",
       " u'i-0c0a58d7',\n",
       " u'i-980b5943',\n",
       " u'i-0b0a58d0',\n",
       " u'i-61095bba',\n",
       " u'i-1b0a58c0',\n",
       " u'i-56085a8d',\n",
       " u'i-080b59d3',\n",
       " u'i-1e0a58c5',\n",
       " u'i-69095bb2',\n",
       " u'i-b0085a6b',\n",
       " u'i-8b085a50',\n",
       " u'i-120a58c9',\n",
       " u'i-5d085a86',\n",
       " u'i-500b598b',\n",
       " u'i-110a58ca',\n",
       " u'i-990b5942',\n",
       " u'i-1f0a58c4',\n",
       " u'i-3f0b59e4',\n",
       " u'i-b30b5968',\n",
       " u'i-330b59e8',\n",
       " u'i-62095bb9',\n",
       " u'i-ab0b5970',\n",
       " u'i-040a58df',\n",
       " u'i-b6085a6d',\n",
       " u'i-240a58ff',\n",
       " u'i-59085a82',\n",
       " u'i-6a095bb1',\n",
       " u'i-b5085a6e',\n",
       " u'i-8f085a54',\n",
       " u'i-a20b5979',\n",
       " u'i-0c0b59d7',\n",
       " u'i-5cb74398',\n",
       " u'i-5fb7439b',\n",
       " u'i-5ab7439e',\n",
       " u'i-fcb04438',\n",
       " u'i-68b044ac',\n",
       " u'i-cdb74309',\n",
       " u'i-81b74345',\n",
       " u'i-d9b0441d',\n",
       " u'i-87b74343',\n",
       " u'i-dcb04418',\n",
       " u'i-6db044a9',\n",
       " u'i-57b74393',\n",
       " u'i-62b044a6',\n",
       " u'i-74b743b0',\n",
       " u'i-5db74399',\n",
       " u'i-91b74355',\n",
       " u'i-63b044a7',\n",
       " u'i-deb0441a',\n",
       " u'i-e6b04422',\n",
       " u'i-09b743cd',\n",
       " u'i-f9b0443d',\n",
       " u'i-63b743a7',\n",
       " u'i-7db044b9',\n",
       " u'i-0bb743cf',\n",
       " u'i-75b743b1',\n",
       " u'i-77b743b3',\n",
       " u'i-ddb04419',\n",
       " u'i-6bb044af',\n",
       " u'i-84b74340',\n",
       " u'i-80b74344',\n",
       " u'i-f4b04430',\n",
       " u'i-8bb7434f',\n",
       " u'i-5eb7439a',\n",
       " u'i-0ab743ce',\n",
       " u'i-7db743b9',\n",
       " u'i-ebb0442f',\n",
       " u'i-edb04429',\n",
       " u'i-92b74356',\n",
       " u'i-c6b74302',\n",
       " u'i-f5b04431',\n",
       " u'i-65b743a1',\n",
       " u'i-73b743b7',\n",
       " u'i-6cb044a8',\n",
       " u'i-fab0443e',\n",
       " u'i-ceb7430a',\n",
       " u'i-60b044a4',\n",
       " u'i-c5b74301',\n",
       " u'i-8cb74348',\n",
       " u'i-61b044a5',\n",
       " u'i-83b74347',\n",
       " u'i-6cdcecaa',\n",
       " u'i-1ddbebdb',\n",
       " u'i-f8daea3e',\n",
       " u'i-75dcecb3',\n",
       " u'i-76dcecb0',\n",
       " u'i-ecdcec2a',\n",
       " u'i-68dcecae',\n",
       " u'i-58dbeb9e',\n",
       " u'i-fedaea38',\n",
       " u'i-53dbeb95',\n",
       " u'i-b0dbeb76',\n",
       " u'i-5cdbeb9a',\n",
       " u'i-bddbeb7b',\n",
       " u'i-7fdaeab9',\n",
       " u'i-1cdbebda',\n",
       " u'i-79dcecbf',\n",
       " u'i-54dbeb92',\n",
       " u'i-f9daea3f',\n",
       " u'i-77dcecb1',\n",
       " u'i-e0dcec26',\n",
       " u'i-6edceca8',\n",
       " u'i-73daeab5',\n",
       " u'i-64dceca2',\n",
       " u'i-7cdcecba',\n",
       " u'i-71dcecb7',\n",
       " u'i-b8dbeb7e',\n",
       " u'i-fbdcec3d',\n",
       " u'i-65dceca3',\n",
       " u'i-7edcecb8',\n",
       " u'i-fddaea3b',\n",
       " u'i-bbdbeb7d',\n",
       " u'i-60dceca6',\n",
       " u'i-b3dbeb75',\n",
       " u'i-7edaeab8',\n",
       " u'i-78daeabe',\n",
       " u'i-e3dcec25',\n",
       " u'i-74daeab2',\n",
       " u'i-45dcec83',\n",
       " u'i-74dcecb2',\n",
       " u'i-eadcec2c',\n",
       " u'i-ffdaea39',\n",
       " u'i-7ddaeabb',\n",
       " u'i-69dcecaf',\n",
       " u'i-57dbeb91',\n",
       " u'i-b1dbeb77',\n",
       " u'i-6fdceca9',\n",
       " u'i-eedcec28',\n",
       " u'i-79daeabf',\n",
       " u'i-5edbeb98',\n",
       " u'i-5ddbeb9b']"
      ]
     },
     "execution_count": 17,
     "metadata": {},
     "output_type": "execute_result"
    }
   ],
   "source": [
    "[req.instance_id for req in reqs]"
   ]
  },
  {
   "cell_type": "code",
   "execution_count": 34,
   "metadata": {
    "collapsed": false
   },
   "outputs": [],
   "source": [
    "reservations = si.conn.get_all_reservations(instance_ids = [req.instance_id for req in reqs[0:]])"
   ]
  },
  {
   "cell_type": "code",
   "execution_count": 35,
   "metadata": {
    "collapsed": false
   },
   "outputs": [],
   "source": [
    "instances = [instance.public_dns_name for res in reservations for instance in res.instances]\n",
    "#for res in reservations:\n",
    "#    for instance in res.instances:\n",
    "#        print(instance.public_dns_name)"
   ]
  },
  {
   "cell_type": "code",
   "execution_count": 20,
   "metadata": {
    "collapsed": false
   },
   "outputs": [
    {
     "data": {
      "text/plain": [
       "[u'ec2-52-89-6-110.us-west-2.compute.amazonaws.com',\n",
       " u'ec2-52-89-172-242.us-west-2.compute.amazonaws.com',\n",
       " u'ec2-54-148-156-123.us-west-2.compute.amazonaws.com',\n",
       " u'ec2-52-26-21-38.us-west-2.compute.amazonaws.com',\n",
       " u'ec2-52-88-167-229.us-west-2.compute.amazonaws.com']"
      ]
     },
     "execution_count": 20,
     "metadata": {},
     "output_type": "execute_result"
    }
   ],
   "source": [
    "instances[0:5]"
   ]
  },
  {
   "cell_type": "code",
   "execution_count": null,
   "metadata": {
    "collapsed": false
   },
   "outputs": [],
   "source": [
    "si.print_public_dns_names()"
   ]
  },
  {
   "cell_type": "code",
   "execution_count": null,
   "metadata": {
    "collapsed": true
   },
   "outputs": [],
   "source": [
    "ctq.add_task('hello yejllow 17:27')"
   ]
  },
  {
   "cell_type": "code",
   "execution_count": null,
   "metadata": {
    "collapsed": true
   },
   "outputs": [],
   "source": [
    "ctq.add_task('git:pull')"
   ]
  },
  {
   "cell_type": "code",
   "execution_count": null,
   "metadata": {
    "collapsed": true
   },
   "outputs": [],
   "source": [
    "#ctq.add_task('parse:01')\n",
    "ctq.add_task('parse:test/008:5644:10100')"
   ]
  },
  {
   "cell_type": "code",
   "execution_count": null,
   "metadata": {
    "collapsed": true
   },
   "outputs": [],
   "source": [
    "ctq.add_task('XXXparse:tmp/01:404075:405000')"
   ]
  },
  {
   "cell_type": "code",
   "execution_count": 37,
   "metadata": {
    "collapsed": false
   },
   "outputs": [],
   "source": [
    "run_id = 'prod/08'\n",
    "total_ids = 151\n",
    "for i in range(total_ids):\n",
    "    #ctq.add_task('quit')\n",
    "    #ctq.add_task('git:pull')\n",
    "    ctq.add_task('parse:%s:%d:%d' % (run_id, i, total_ids))\n",
    "    #ctq.add_task('parse:%s' % (run_id))"
   ]
  },
  {
   "cell_type": "code",
   "execution_count": null,
   "metadata": {
    "collapsed": true
   },
   "outputs": [],
   "source": [
    "ctq.add_task('quit')"
   ]
  },
  {
   "cell_type": "code",
   "execution_count": 21,
   "metadata": {
    "collapsed": true
   },
   "outputs": [],
   "source": [
    "started = []"
   ]
  },
  {
   "cell_type": "code",
   "execution_count": 29,
   "metadata": {
    "collapsed": false
   },
   "outputs": [
    {
     "name": "stdout",
     "output_type": "stream",
     "text": [
      "ec2-54-68-252-179.us-west-2.compute.amazonaws.com: new_member\n"
     ]
    }
   ],
   "source": [
    "for i in range(5):\n",
    "    msgs = new_member_queue.receive_messages(MessageAttributeNames=['Worker'])\n",
    "    for msg in msgs:\n",
    "        worker_dns_name = 'unknown'\n",
    "        if msg.message_attributes is not None:\n",
    "            worker_dns_name = msg.message_attributes.get('Worker')['StringValue']\n",
    "        print('%s: %s' % (worker_dns_name, msg.body))\n",
    "        msg.delete()\n",
    "        started.append(worker_dns_name)"
   ]
  },
  {
   "cell_type": "code",
   "execution_count": 30,
   "metadata": {
    "collapsed": false
   },
   "outputs": [
    {
     "data": {
      "text/plain": [
       "151"
      ]
     },
     "execution_count": 30,
     "metadata": {},
     "output_type": "execute_result"
    }
   ],
   "source": [
    "len(started)"
   ]
  },
  {
   "cell_type": "code",
   "execution_count": null,
   "metadata": {
    "collapsed": false
   },
   "outputs": [],
   "source": [
    "'ec2-52-27-130-165.us-west-2.compute.amazonaws.com' in started"
   ]
  },
  {
   "cell_type": "code",
   "execution_count": 36,
   "metadata": {
    "collapsed": false
   },
   "outputs": [
    {
     "data": {
      "text/plain": [
       "([], [])"
      ]
     },
     "execution_count": 36,
     "metadata": {},
     "output_type": "execute_result"
    }
   ],
   "source": [
    "list(set(instances) - set(started)), list(set(started) - set(instances))"
   ]
  },
  {
   "cell_type": "code",
   "execution_count": null,
   "metadata": {
    "collapsed": true
   },
   "outputs": [],
   "source": [
    "res = []"
   ]
  },
  {
   "cell_type": "code",
   "execution_count": null,
   "metadata": {
    "collapsed": false
   },
   "outputs": [],
   "source": [
    "for i in range(5):\n",
    "    msgs = task_commitment_queue.receive_messages(MessageAttributeNames=['Worker'])\n",
    "    for msg in msgs:\n",
    "        worker_dns_name = 'unknown'\n",
    "        if msg.message_attributes is not None:\n",
    "            worker_dns_name = msg.message_attributes.get('Worker')['StringValue']\n",
    "        print('%s: %s' % (worker_dns_name, msg.body))\n",
    "        res.append((worker_dns_name, msg.body))\n",
    "        msg.delete()"
   ]
  },
  {
   "cell_type": "code",
   "execution_count": null,
   "metadata": {
    "collapsed": true
   },
   "outputs": [],
   "source": [
    "#res.append(('ec2-54-68-173-118.us-west-2.compute.amazonaws.com','parse:prod/07:3:200' ))"
   ]
  },
  {
   "cell_type": "code",
   "execution_count": null,
   "metadata": {
    "collapsed": false
   },
   "outputs": [],
   "source": [
    "len(res)"
   ]
  },
  {
   "cell_type": "code",
   "execution_count": null,
   "metadata": {
    "collapsed": false
   },
   "outputs": [],
   "source": [
    "len(set([a[0] for a in accepted]))"
   ]
  },
  {
   "cell_type": "code",
   "execution_count": null,
   "metadata": {
    "collapsed": false
   },
   "outputs": [],
   "source": [
    "workers = [r[0] for r in res]"
   ]
  },
  {
   "cell_type": "code",
   "execution_count": null,
   "metadata": {
    "collapsed": false
   },
   "outputs": [],
   "source": [
    "set(hosts) - set(workers)"
   ]
  },
  {
   "cell_type": "code",
   "execution_count": null,
   "metadata": {
    "collapsed": false
   },
   "outputs": [],
   "source": [
    "#Delete 'quit' message after the end\n",
    "msgs = task_queue.receive_messages(MessageAttributeNames=['Worker'])\n",
    "for msg in msgs:\n",
    "    worker_dns_name = 'unknown'\n",
    "    if msg.message_attributes is not None:\n",
    "        worker_dns_name = msg.message_attributes.get('Worker')['StringValue']\n",
    "    print('%s: %s' % (worker_dns_name, msg.body))\n",
    "    #msg.delete()"
   ]
  },
  {
   "cell_type": "code",
   "execution_count": null,
   "metadata": {
    "collapsed": false
   },
   "outputs": [],
   "source": [
    "new_member_queue.purge()\n",
    "task_queue.purge()\n",
    "task_commitment_queue.purge()"
   ]
  },
  {
   "cell_type": "code",
   "execution_count": null,
   "metadata": {
    "collapsed": true
   },
   "outputs": [],
   "source": [
    "hosts = [\n",
    "    \"ec2-52-89-193-15.us-west-2.compute.amazonaws.com\",\n",
    "    \"ec2-54-69-136-78.us-west-2.compute.amazonaws.com\",\n",
    "    \"ec2-54-68-193-159.us-west-2.compute.amazonaws.com\",\n",
    "    \"ec2-52-88-201-154.us-west-2.compute.amazonaws.com\",\n",
    "    \"ec2-52-89-15-13.us-west-2.compute.amazonaws.com\",\n",
    "    \"ec2-52-89-45-252.us-west-2.compute.amazonaws.com\",\n",
    "    \"ec2-54-69-129-216.us-west-2.compute.amazonaws.com\",\n",
    "    \"ec2-52-89-235-49.us-west-2.compute.amazonaws.com\",\n",
    "    \"ec2-54-68-201-203.us-west-2.compute.amazonaws.com\",\n",
    "    \"ec2-52-10-43-242.us-west-2.compute.amazonaws.com\",\n",
    "    \"ec2-52-88-239-14.us-west-2.compute.amazonaws.com\",\n",
    "    \"ec2-54-69-13-4.us-west-2.compute.amazonaws.com\",\n",
    "    \"ec2-52-89-133-116.us-west-2.compute.amazonaws.com\",\n",
    "    \"ec2-54-68-203-141.us-west-2.compute.amazonaws.com\",\n",
    "    \"ec2-54-69-128-40.us-west-2.compute.amazonaws.com\",\n",
    "    \"ec2-52-89-243-103.us-west-2.compute.amazonaws.com\",\n",
    "    \"ec2-54-68-167-111.us-west-2.compute.amazonaws.com\",\n",
    "    \"ec2-54-68-149-49.us-west-2.compute.amazonaws.com\",\n",
    "    \"ec2-52-88-140-31.us-west-2.compute.amazonaws.com\",\n",
    "    \"ec2-54-69-13-17.us-west-2.compute.amazonaws.com\",\n",
    "    \"ec2-54-68-108-253.us-west-2.compute.amazonaws.com\",\n",
    "    \"ec2-52-89-135-95.us-west-2.compute.amazonaws.com\",\n",
    "    \"ec2-52-89-221-244.us-west-2.compute.amazonaws.com\",\n",
    "    \"ec2-52-89-254-95.us-west-2.compute.amazonaws.com\",\n",
    "    \"ec2-54-68-166-47.us-west-2.compute.amazonaws.com\",\n",
    "    \"ec2-54-69-43-170.us-west-2.compute.amazonaws.com\",\n",
    "    \"ec2-52-89-151-225.us-west-2.compute.amazonaws.com\",\n",
    "    \"ec2-54-69-133-194.us-west-2.compute.amazonaws.com\",\n",
    "    \"ec2-52-26-206-14.us-west-2.compute.amazonaws.com\",\n",
    "    \"ec2-52-88-57-125.us-west-2.compute.amazonaws.com\",\n",
    "    \"ec2-54-69-102-121.us-west-2.compute.amazonaws.com\",\n",
    "    \"ec2-52-88-5-19.us-west-2.compute.amazonaws.com\",\n",
    "    \"ec2-52-25-5-100.us-west-2.compute.amazonaws.com\",\n",
    "    \"ec2-54-68-125-99.us-west-2.compute.amazonaws.com\",\n",
    "    \"ec2-52-89-55-24.us-west-2.compute.amazonaws.com\",\n",
    "    \"ec2-54-68-179-101.us-west-2.compute.amazonaws.com\",\n",
    "    \"ec2-54-69-7-70.us-west-2.compute.amazonaws.com\",\n",
    "    \"ec2-54-68-46-25.us-west-2.compute.amazonaws.com\",\n",
    "    \"ec2-52-27-101-119.us-west-2.compute.amazonaws.com\",\n",
    "    \"ec2-54-69-16-198.us-west-2.compute.amazonaws.com\",\n",
    "    \"ec2-52-27-202-38.us-west-2.compute.amazonaws.com\",\n",
    "    \"ec2-52-89-241-245.us-west-2.compute.amazonaws.com\",\n",
    "    \"ec2-52-89-188-228.us-west-2.compute.amazonaws.com\",\n",
    "    \"ec2-54-68-163-25.us-west-2.compute.amazonaws.com\",\n",
    "    \"ec2-54-69-100-163.us-west-2.compute.amazonaws.com\",\n",
    "    \"ec2-52-89-215-11.us-west-2.compute.amazonaws.com\",\n",
    "    \"ec2-52-89-93-129.us-west-2.compute.amazonaws.com\",\n",
    "    \"ec2-54-68-148-244.us-west-2.compute.amazonaws.com\",\n",
    "    \"ec2-54-68-205-216.us-west-2.compute.amazonaws.com\",\n",
    "    \"ec2-54-69-111-80.us-west-2.compute.amazonaws.com\",\n",
    "    \"ec2-54-69-16-189.us-west-2.compute.amazonaws.com\",\n",
    "    \"ec2-54-69-13-59.us-west-2.compute.amazonaws.com\",\n",
    "    \"ec2-52-89-248-201.us-west-2.compute.amazonaws.com\",\n",
    "    \"ec2-52-88-167-15.us-west-2.compute.amazonaws.com\",\n",
    "    \"ec2-54-68-102-238.us-west-2.compute.amazonaws.com\",\n",
    "    \"ec2-54-68-197-197.us-west-2.compute.amazonaws.com\",\n",
    "    \"ec2-52-24-252-202.us-west-2.compute.amazonaws.com\",\n",
    "    \"ec2-52-26-56-255.us-west-2.compute.amazonaws.com\",\n",
    "    \"ec2-52-11-188-93.us-west-2.compute.amazonaws.com\",\n",
    "    \"ec2-52-89-37-225.us-west-2.compute.amazonaws.com\",\n",
    "    \"ec2-54-69-134-170.us-west-2.compute.amazonaws.com\",\n",
    "    \"ec2-54-68-230-132.us-west-2.compute.amazonaws.com\",\n",
    "    \"ec2-52-26-247-58.us-west-2.compute.amazonaws.com\",\n",
    "    \"ec2-54-69-22-62.us-west-2.compute.amazonaws.com\",\n",
    "    \"ec2-52-88-148-10.us-west-2.compute.amazonaws.com\",\n",
    "    \"ec2-54-68-104-52.us-west-2.compute.amazonaws.com\",\n",
    "    \"ec2-54-68-115-107.us-west-2.compute.amazonaws.com\",\n",
    "    \"ec2-52-89-241-191.us-west-2.compute.amazonaws.com\",\n",
    "    \"ec2-54-69-136-58.us-west-2.compute.amazonaws.com\",\n",
    "    \"ec2-54-69-11-201.us-west-2.compute.amazonaws.com\",\n",
    "    \"ec2-52-10-114-136.us-west-2.compute.amazonaws.com\",\n",
    "    \"ec2-54-68-202-216.us-west-2.compute.amazonaws.com\",\n",
    "    \"ec2-54-69-136-34.us-west-2.compute.amazonaws.com\",\n",
    "    \"ec2-52-88-34-128.us-west-2.compute.amazonaws.com\",\n",
    "    \"ec2-52-88-176-236.us-west-2.compute.amazonaws.com\",\n",
    "    \"ec2-52-89-208-176.us-west-2.compute.amazonaws.com\",\n",
    "    \"ec2-52-24-102-152.us-west-2.compute.amazonaws.com\",\n",
    "    \"ec2-52-89-227-161.us-west-2.compute.amazonaws.com\",\n",
    "    \"ec2-54-68-203-253.us-west-2.compute.amazonaws.com\",\n",
    "    \"ec2-52-89-90-171.us-west-2.compute.amazonaws.com\",\n",
    "    \"ec2-52-89-196-70.us-west-2.compute.amazonaws.com\",\n",
    "    \"ec2-52-88-12-15.us-west-2.compute.amazonaws.com\",\n",
    "    \"ec2-52-89-175-90.us-west-2.compute.amazonaws.com\",\n",
    "    \"ec2-52-89-230-26.us-west-2.compute.amazonaws.com\",\n",
    "    \"ec2-54-68-156-176.us-west-2.compute.amazonaws.com\",\n",
    "    \"ec2-52-89-163-39.us-west-2.compute.amazonaws.com\",\n",
    "    \"ec2-54-69-112-242.us-west-2.compute.amazonaws.com\",\n",
    "    \"ec2-52-25-123-5.us-west-2.compute.amazonaws.com\",\n",
    "    \"ec2-52-88-216-208.us-west-2.compute.amazonaws.com\",\n",
    "    \"ec2-52-25-242-153.us-west-2.compute.amazonaws.com\",\n",
    "    \"ec2-54-68-131-38.us-west-2.compute.amazonaws.com\",\n",
    "    \"ec2-52-88-135-209.us-west-2.compute.amazonaws.com\",\n",
    "    \"ec2-52-27-6-21.us-west-2.compute.amazonaws.com\",\n",
    "    \"ec2-54-69-136-66.us-west-2.compute.amazonaws.com\",\n",
    "    \"ec2-52-89-222-49.us-west-2.compute.amazonaws.com\",\n",
    "    \"ec2-52-89-226-215.us-west-2.compute.amazonaws.com\",\n",
    "    \"ec2-52-89-187-92.us-west-2.compute.amazonaws.com\",\n",
    "    \"ec2-52-24-99-129.us-west-2.compute.amazonaws.com\",\n",
    "    \"ec2-52-89-132-66.us-west-2.compute.amazonaws.com\",\n",
    "    \"ec2-52-89-73-242.us-west-2.compute.amazonaws.com\"   \n",
    "    ]\n"
   ]
  }
 ],
 "metadata": {
  "kernelspec": {
   "display_name": "Python 2",
   "language": "python",
   "name": "python2"
  },
  "language_info": {
   "codemirror_mode": {
    "name": "ipython",
    "version": 2
   },
   "file_extension": ".py",
   "mimetype": "text/x-python",
   "name": "python",
   "nbconvert_exporter": "python",
   "pygments_lexer": "ipython2",
   "version": "2.7.6"
  }
 },
 "nbformat": 4,
 "nbformat_minor": 0
}
