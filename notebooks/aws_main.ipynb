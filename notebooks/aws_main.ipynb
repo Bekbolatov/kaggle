{
 "cells": [
  {
   "cell_type": "code",
   "execution_count": 1,
   "metadata": {
    "collapsed": true
   },
   "outputs": [],
   "source": [
    "import boto.ec2\n",
    "import boto3"
   ]
  },
  {
   "cell_type": "code",
   "execution_count": 2,
   "metadata": {
    "collapsed": true
   },
   "outputs": [],
   "source": [
    "%run aws_helper.py"
   ]
  },
  {
   "cell_type": "code",
   "execution_count": 3,
   "metadata": {
    "collapsed": true
   },
   "outputs": [],
   "source": [
    "si = SpotInstances()\n",
    "ctq = ClusterTaskQueue()"
   ]
  },
  {
   "cell_type": "code",
   "execution_count": 4,
   "metadata": {
    "collapsed": false
   },
   "outputs": [],
   "source": [
    "sqs = boto3.resource('sqs')  "
   ]
  },
  {
   "cell_type": "code",
   "execution_count": 5,
   "metadata": {
    "collapsed": false
   },
   "outputs": [],
   "source": [
    "new_member_queue = sqs.get_queue_by_name(QueueName='cluster_new_member')\n",
    "task_commitment_queue = sqs.get_queue_by_name(QueueName='cluster_task_commitment')\n",
    "task_queue = sqs.get_queue_by_name(QueueName='cluster_task_queue')\n",
    "# instance metadata: http://docs.aws.amazon.com/AWSEC2/latest/UserGuide/ec2-instance-metadata.html\n",
    "# ipython setup: http://ipython.org/ipython-doc/dev/notebook/public_server.html#running-a-public-notebook-server"
   ]
  },
  {
   "cell_type": "code",
   "execution_count": 10,
   "metadata": {
    "collapsed": false
   },
   "outputs": [],
   "source": [
    "si.request(num_instances=70, subnet='b')"
   ]
  },
  {
   "cell_type": "code",
   "execution_count": 14,
   "metadata": {
    "collapsed": false
   },
   "outputs": [
    {
     "name": "stdout",
     "output_type": "stream",
     "text": [
      "ec2-52-89-109-187.us-west-2.compute.amazonaws.com\n",
      "ec2-52-89-109-170.us-west-2.compute.amazonaws.com\n",
      "ec2-52-89-109-184.us-west-2.compute.amazonaws.com\n",
      "ec2-52-11-209-125.us-west-2.compute.amazonaws.com\n",
      "ec2-52-89-109-202.us-west-2.compute.amazonaws.com\n",
      "ec2-52-89-109-61.us-west-2.compute.amazonaws.com\n",
      "ec2-52-89-109-146.us-west-2.compute.amazonaws.com\n",
      "ec2-52-89-109-179.us-west-2.compute.amazonaws.com\n",
      "ec2-52-89-109-182.us-west-2.compute.amazonaws.com\n",
      "ec2-52-25-58-77.us-west-2.compute.amazonaws.com\n",
      "ec2-52-89-109-195.us-west-2.compute.amazonaws.com\n",
      "ec2-52-89-109-180.us-west-2.compute.amazonaws.com\n",
      "ec2-52-89-109-110.us-west-2.compute.amazonaws.com\n",
      "ec2-52-24-26-170.us-west-2.compute.amazonaws.com\n",
      "ec2-52-89-86-231.us-west-2.compute.amazonaws.com\n",
      "ec2-52-89-109-122.us-west-2.compute.amazonaws.com\n",
      "ec2-52-89-109-167.us-west-2.compute.amazonaws.com\n",
      "ec2-52-88-244-17.us-west-2.compute.amazonaws.com\n",
      "ec2-52-89-85-182.us-west-2.compute.amazonaws.com\n",
      "ec2-52-88-205-245.us-west-2.compute.amazonaws.com\n",
      "ec2-52-89-98-56.us-west-2.compute.amazonaws.com\n",
      "ec2-52-27-179-76.us-west-2.compute.amazonaws.com\n",
      "ec2-52-89-95-232.us-west-2.compute.amazonaws.com\n",
      "ec2-52-89-109-159.us-west-2.compute.amazonaws.com\n",
      "ec2-52-89-109-117.us-west-2.compute.amazonaws.com\n",
      "ec2-52-89-83-74.us-west-2.compute.amazonaws.com\n",
      "ec2-52-89-103-159.us-west-2.compute.amazonaws.com\n",
      "ec2-52-27-130-165.us-west-2.compute.amazonaws.com\n",
      "ec2-52-89-109-177.us-west-2.compute.amazonaws.com\n",
      "ec2-52-89-109-176.us-west-2.compute.amazonaws.com\n",
      "ec2-52-89-109-150.us-west-2.compute.amazonaws.com\n",
      "ec2-52-11-123-225.us-west-2.compute.amazonaws.com\n",
      "ec2-52-89-109-213.us-west-2.compute.amazonaws.com\n",
      "ec2-52-89-31-158.us-west-2.compute.amazonaws.com\n",
      "ec2-52-89-109-174.us-west-2.compute.amazonaws.com\n",
      "ec2-52-89-37-106.us-west-2.compute.amazonaws.com\n",
      "ec2-52-88-192-88.us-west-2.compute.amazonaws.com\n",
      "ec2-52-89-102-179.us-west-2.compute.amazonaws.com\n",
      "ec2-52-89-109-196.us-west-2.compute.amazonaws.com\n",
      "ec2-52-89-109-192.us-west-2.compute.amazonaws.com\n",
      "ec2-52-27-87-249.us-west-2.compute.amazonaws.com\n",
      "ec2-52-89-109-216.us-west-2.compute.amazonaws.com\n",
      "ec2-52-89-33-170.us-west-2.compute.amazonaws.com\n",
      "ec2-52-89-109-211.us-west-2.compute.amazonaws.com\n",
      "ec2-52-89-78-197.us-west-2.compute.amazonaws.com\n",
      "ec2-52-89-108-31.us-west-2.compute.amazonaws.com\n",
      "ec2-52-89-47-29.us-west-2.compute.amazonaws.com\n",
      "ec2-52-89-109-156.us-west-2.compute.amazonaws.com\n",
      "ec2-52-89-109-121.us-west-2.compute.amazonaws.com\n",
      "ec2-52-88-66-252.us-west-2.compute.amazonaws.com\n",
      "ec2-52-89-109-140.us-west-2.compute.amazonaws.com\n",
      "ec2-52-89-109-183.us-west-2.compute.amazonaws.com\n",
      "ec2-52-89-109-59.us-west-2.compute.amazonaws.com\n",
      "ec2-52-89-109-208.us-west-2.compute.amazonaws.com\n",
      "ec2-52-89-109-171.us-west-2.compute.amazonaws.com\n",
      "ec2-52-89-109-142.us-west-2.compute.amazonaws.com\n",
      "ec2-52-89-109-206.us-west-2.compute.amazonaws.com\n",
      "ec2-52-89-109-181.us-west-2.compute.amazonaws.com\n",
      "ec2-52-89-109-201.us-west-2.compute.amazonaws.com\n",
      "ec2-52-89-98-159.us-west-2.compute.amazonaws.com\n",
      "ec2-52-89-109-197.us-west-2.compute.amazonaws.com\n",
      "ec2-52-89-109-234.us-west-2.compute.amazonaws.com\n",
      "ec2-52-89-109-66.us-west-2.compute.amazonaws.com\n",
      "ec2-52-25-178-60.us-west-2.compute.amazonaws.com\n",
      "ec2-52-89-109-102.us-west-2.compute.amazonaws.com\n",
      "ec2-52-89-91-43.us-west-2.compute.amazonaws.com\n",
      "ec2-52-89-109-188.us-west-2.compute.amazonaws.com\n",
      "ec2-52-89-109-135.us-west-2.compute.amazonaws.com\n",
      "ec2-52-89-109-186.us-west-2.compute.amazonaws.com\n",
      "ec2-52-89-109-63.us-west-2.compute.amazonaws.com\n",
      "ec2-52-89-109-194.us-west-2.compute.amazonaws.com\n",
      "ec2-52-89-109-113.us-west-2.compute.amazonaws.com\n"
     ]
    }
   ],
   "source": [
    "si.print_public_dns_names()"
   ]
  },
  {
   "cell_type": "code",
   "execution_count": null,
   "metadata": {
    "collapsed": true
   },
   "outputs": [],
   "source": [
    "ctq.add_task('hello yejllow 17:27')"
   ]
  },
  {
   "cell_type": "code",
   "execution_count": null,
   "metadata": {
    "collapsed": true
   },
   "outputs": [],
   "source": [
    "ctq.add_task('git:pull')"
   ]
  },
  {
   "cell_type": "code",
   "execution_count": null,
   "metadata": {
    "collapsed": true
   },
   "outputs": [],
   "source": [
    "#ctq.add_task('parse:01')\n",
    "ctq.add_task('parse:test/01:3:40100')"
   ]
  },
  {
   "cell_type": "code",
   "execution_count": null,
   "metadata": {
    "collapsed": true
   },
   "outputs": [],
   "source": [
    "ctq.add_task('XXXparse:tmp/01:404075:405000')"
   ]
  },
  {
   "cell_type": "code",
   "execution_count": 34,
   "metadata": {
    "collapsed": false
   },
   "outputs": [],
   "source": [
    "run_id = 'prod/03'\n",
    "total_ids = 71\n",
    "for i in range(total_ids):\n",
    "    #ctq.add_task('quit')\n",
    "    #ctq.add_task('git:pull')\n",
    "    ctq.add_task('parse:%s:%d:%d' % (run_id, i, total_ids))\n",
    "    #ctq.add_task('parse:%s' % (run_id))"
   ]
  },
  {
   "cell_type": "code",
   "execution_count": null,
   "metadata": {
    "collapsed": true
   },
   "outputs": [],
   "source": [
    "#ctq.add_task('quit')"
   ]
  },
  {
   "cell_type": "code",
   "execution_count": 15,
   "metadata": {
    "collapsed": true
   },
   "outputs": [],
   "source": [
    "started = []"
   ]
  },
  {
   "cell_type": "code",
   "execution_count": 27,
   "metadata": {
    "collapsed": false
   },
   "outputs": [],
   "source": [
    "for i in range(30):\n",
    "    msgs = new_member_queue.receive_messages(MessageAttributeNames=['Worker'])\n",
    "    for msg in msgs:\n",
    "        worker_dns_name = 'unknown'\n",
    "        if msg.message_attributes is not None:\n",
    "            worker_dns_name = msg.message_attributes.get('Worker')['StringValue']\n",
    "        #print('%s: %s' % (worker_dns_name, msg.body))\n",
    "        msg.delete()\n",
    "        started.append(worker_dns_name)"
   ]
  },
  {
   "cell_type": "code",
   "execution_count": 28,
   "metadata": {
    "collapsed": false
   },
   "outputs": [
    {
     "data": {
      "text/plain": [
       "70"
      ]
     },
     "execution_count": 28,
     "metadata": {},
     "output_type": "execute_result"
    }
   ],
   "source": [
    "len(started)"
   ]
  },
  {
   "cell_type": "code",
   "execution_count": 33,
   "metadata": {
    "collapsed": false
   },
   "outputs": [
    {
     "data": {
      "text/plain": [
       "False"
      ]
     },
     "execution_count": 33,
     "metadata": {},
     "output_type": "execute_result"
    }
   ],
   "source": [
    "'ec2-52-27-130-165.us-west-2.compute.amazonaws.com' in started"
   ]
  },
  {
   "cell_type": "code",
   "execution_count": 32,
   "metadata": {
    "collapsed": false
   },
   "outputs": [
    {
     "data": {
      "text/plain": [
       "{'ec2-52-27-130-165.us-west-2.compute.amazonaws.com'}"
      ]
     },
     "execution_count": 32,
     "metadata": {},
     "output_type": "execute_result"
    }
   ],
   "source": [
    "set(hosts) - set(started)"
   ]
  },
  {
   "cell_type": "code",
   "execution_count": null,
   "metadata": {
    "collapsed": false
   },
   "outputs": [],
   "source": [
    "msgs = task_commitment_queue.receive_messages(MessageAttributeNames=['Worker'])\n",
    "for msg in msgs:\n",
    "    worker_dns_name = 'unknown'\n",
    "    if msg.message_attributes is not None:\n",
    "        worker_dns_name = msg.message_attributes.get('Worker')['StringValue']\n",
    "    print('%s: %s' % (worker_dns_name, msg.body))\n",
    "    msg.delete()"
   ]
  },
  {
   "cell_type": "code",
   "execution_count": null,
   "metadata": {
    "collapsed": false
   },
   "outputs": [],
   "source": [
    "#Delete 'quit' message after the end\n",
    "msgs = task_queue.receive_messages(MessageAttributeNames=['Worker'])\n",
    "for msg in msgs:\n",
    "    worker_dns_name = 'unknown'\n",
    "    if msg.message_attributes is not None:\n",
    "        worker_dns_name = msg.message_attributes.get('Worker')['StringValue']\n",
    "    print('%s: %s' % (worker_dns_name, msg.body))\n",
    "    #msg.delete()"
   ]
  },
  {
   "cell_type": "code",
   "execution_count": null,
   "metadata": {
    "collapsed": false
   },
   "outputs": [],
   "source": [
    "#new_member_queue.purge()\n",
    "task_queue.purge()\n",
    "#task_commitment_queue.purge()"
   ]
  },
  {
   "cell_type": "code",
   "execution_count": 31,
   "metadata": {
    "collapsed": true
   },
   "outputs": [],
   "source": [
    "hosts = [\n",
    "    \"ec2-52-89-109-187.us-west-2.compute.amazonaws.com\",\n",
    "    \"ec2-52-89-109-170.us-west-2.compute.amazonaws.com\",\n",
    "    \"ec2-52-89-109-184.us-west-2.compute.amazonaws.com\",\n",
    "    \"ec2-52-11-209-125.us-west-2.compute.amazonaws.com\",\n",
    "    \"ec2-52-89-109-202.us-west-2.compute.amazonaws.com\",\n",
    "    \"ec2-52-89-109-61.us-west-2.compute.amazonaws.com\",\n",
    "    \"ec2-52-89-109-146.us-west-2.compute.amazonaws.com\",\n",
    "    \"ec2-52-89-109-179.us-west-2.compute.amazonaws.com\",\n",
    "    \"ec2-52-89-109-182.us-west-2.compute.amazonaws.com\",\n",
    "    \"ec2-52-25-58-77.us-west-2.compute.amazonaws.com\",\n",
    "    \"ec2-52-89-109-195.us-west-2.compute.amazonaws.com\",\n",
    "    \"ec2-52-89-109-180.us-west-2.compute.amazonaws.com\",\n",
    "    \"ec2-52-89-109-110.us-west-2.compute.amazonaws.com\",\n",
    "    \"ec2-52-24-26-170.us-west-2.compute.amazonaws.com\",\n",
    "    \"ec2-52-89-86-231.us-west-2.compute.amazonaws.com\",\n",
    "    \"ec2-52-89-109-122.us-west-2.compute.amazonaws.com\",\n",
    "    \"ec2-52-89-109-167.us-west-2.compute.amazonaws.com\",\n",
    "    \"ec2-52-88-244-17.us-west-2.compute.amazonaws.com\",\n",
    "    \"ec2-52-89-85-182.us-west-2.compute.amazonaws.com\",\n",
    "    \"ec2-52-88-205-245.us-west-2.compute.amazonaws.com\",\n",
    "    \"ec2-52-89-98-56.us-west-2.compute.amazonaws.com\",\n",
    "    \"ec2-52-27-179-76.us-west-2.compute.amazonaws.com\",\n",
    "    \"ec2-52-89-95-232.us-west-2.compute.amazonaws.com\",\n",
    "    \"ec2-52-89-109-159.us-west-2.compute.amazonaws.com\",\n",
    "    \"ec2-52-89-109-117.us-west-2.compute.amazonaws.com\",\n",
    "    \"ec2-52-89-83-74.us-west-2.compute.amazonaws.com\",\n",
    "    \"ec2-52-89-103-159.us-west-2.compute.amazonaws.com\",\n",
    "    \"ec2-52-27-130-165.us-west-2.compute.amazonaws.com\",\n",
    "    \"ec2-52-89-109-177.us-west-2.compute.amazonaws.com\",\n",
    "    \"ec2-52-89-109-176.us-west-2.compute.amazonaws.com\",\n",
    "    \"ec2-52-89-109-150.us-west-2.compute.amazonaws.com\",\n",
    "    \"ec2-52-11-123-225.us-west-2.compute.amazonaws.com\",\n",
    "    \"ec2-52-89-109-213.us-west-2.compute.amazonaws.com\",\n",
    "    \"ec2-52-89-31-158.us-west-2.compute.amazonaws.com\",\n",
    "    \"ec2-52-89-109-174.us-west-2.compute.amazonaws.com\",\n",
    "    \"ec2-52-89-37-106.us-west-2.compute.amazonaws.com\",\n",
    "    \"ec2-52-88-192-88.us-west-2.compute.amazonaws.com\",\n",
    "    \"ec2-52-89-102-179.us-west-2.compute.amazonaws.com\",\n",
    "    \"ec2-52-89-109-196.us-west-2.compute.amazonaws.com\",\n",
    "    \"ec2-52-89-109-192.us-west-2.compute.amazonaws.com\",\n",
    "    \"ec2-52-27-87-249.us-west-2.compute.amazonaws.com\",\n",
    "    \"ec2-52-89-109-216.us-west-2.compute.amazonaws.com\",\n",
    "    \"ec2-52-89-33-170.us-west-2.compute.amazonaws.com\",\n",
    "    \"ec2-52-89-109-211.us-west-2.compute.amazonaws.com\",\n",
    "    \"ec2-52-89-78-197.us-west-2.compute.amazonaws.com\",\n",
    "    \"ec2-52-89-108-31.us-west-2.compute.amazonaws.com\",\n",
    "    \"ec2-52-89-47-29.us-west-2.compute.amazonaws.com\",\n",
    "    \"ec2-52-89-109-156.us-west-2.compute.amazonaws.com\",\n",
    "    \"ec2-52-89-109-121.us-west-2.compute.amazonaws.com\",\n",
    "    \"ec2-52-88-66-252.us-west-2.compute.amazonaws.com\",\n",
    "    \"ec2-52-89-109-140.us-west-2.compute.amazonaws.com\",\n",
    "    \"ec2-52-89-109-183.us-west-2.compute.amazonaws.com\",\n",
    "    \"ec2-52-89-109-59.us-west-2.compute.amazonaws.com\",\n",
    "    \"ec2-52-89-109-208.us-west-2.compute.amazonaws.com\",\n",
    "    \"ec2-52-89-109-171.us-west-2.compute.amazonaws.com\",\n",
    "    \"ec2-52-89-109-142.us-west-2.compute.amazonaws.com\",\n",
    "    \"ec2-52-89-109-206.us-west-2.compute.amazonaws.com\",\n",
    "    \"ec2-52-89-109-181.us-west-2.compute.amazonaws.com\",\n",
    "    \"ec2-52-89-109-201.us-west-2.compute.amazonaws.com\",\n",
    "    \"ec2-52-89-98-159.us-west-2.compute.amazonaws.com\",\n",
    "    \"ec2-52-89-109-197.us-west-2.compute.amazonaws.com\",\n",
    "    \"ec2-52-89-109-234.us-west-2.compute.amazonaws.com\",\n",
    "    \"ec2-52-89-109-66.us-west-2.compute.amazonaws.com\",\n",
    "    \"ec2-52-89-109-102.us-west-2.compute.amazonaws.com\",\n",
    "    \"ec2-52-89-91-43.us-west-2.compute.amazonaws.com\",\n",
    "    \"ec2-52-89-109-188.us-west-2.compute.amazonaws.com\",\n",
    "    \"ec2-52-89-109-135.us-west-2.compute.amazonaws.com\",\n",
    "    \"ec2-52-89-109-186.us-west-2.compute.amazonaws.com\",\n",
    "    \"ec2-52-89-109-63.us-west-2.compute.amazonaws.com\",\n",
    "    \"ec2-52-89-109-194.us-west-2.compute.amazonaws.com\",\n",
    "    \"ec2-52-89-109-113.us-west-2.compute.amazonaws.com\"\n",
    "    ]\n"
   ]
  }
 ],
 "metadata": {
  "kernelspec": {
   "display_name": "Python 2",
   "language": "python",
   "name": "python2"
  },
  "language_info": {
   "codemirror_mode": {
    "name": "ipython",
    "version": 2
   },
   "file_extension": ".py",
   "mimetype": "text/x-python",
   "name": "python",
   "nbconvert_exporter": "python",
   "pygments_lexer": "ipython2",
   "version": "2.7.6"
  }
 },
 "nbformat": 4,
 "nbformat_minor": 0
}
