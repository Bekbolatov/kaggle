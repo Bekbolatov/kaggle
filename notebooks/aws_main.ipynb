{
 "cells": [
  {
   "cell_type": "code",
   "execution_count": 1,
   "metadata": {
    "collapsed": true
   },
   "outputs": [],
   "source": [
    "import boto.ec2\n",
    "import boto3"
   ]
  },
  {
   "cell_type": "code",
   "execution_count": 2,
   "metadata": {
    "collapsed": true
   },
   "outputs": [],
   "source": [
    "%run aws_helper.py"
   ]
  },
  {
   "cell_type": "code",
   "execution_count": 3,
   "metadata": {
    "collapsed": true
   },
   "outputs": [],
   "source": [
    "si = SpotInstances()\n",
    "ctq = ClusterTaskQueue()"
   ]
  },
  {
   "cell_type": "code",
   "execution_count": 4,
   "metadata": {
    "collapsed": false
   },
   "outputs": [],
   "source": [
    "sqs = boto3.resource('sqs')  "
   ]
  },
  {
   "cell_type": "code",
   "execution_count": 5,
   "metadata": {
    "collapsed": false
   },
   "outputs": [],
   "source": [
    "new_member_queue = sqs.get_queue_by_name(QueueName='cluster_new_member')\n",
    "task_commitment_queue = sqs.get_queue_by_name(QueueName='cluster_task_commitment')\n",
    "task_queue = sqs.get_queue_by_name(QueueName='cluster_task_queue')"
   ]
  },
  {
   "cell_type": "code",
   "execution_count": 6,
   "metadata": {
    "collapsed": true
   },
   "outputs": [],
   "source": [
    "#si.request(num_instances=50, subnet='b')"
   ]
  },
  {
   "cell_type": "code",
   "execution_count": 7,
   "metadata": {
    "collapsed": false
   },
   "outputs": [
    {
     "name": "stdout",
     "output_type": "stream",
     "text": [
      "ec2-52-89-10-42.us-west-2.compute.amazonaws.com\n",
      "ec2-52-88-240-67.us-west-2.compute.amazonaws.com\n",
      "ec2-52-89-2-13.us-west-2.compute.amazonaws.com\n",
      "ec2-52-89-11-170.us-west-2.compute.amazonaws.com\n",
      "ec2-52-89-11-193.us-west-2.compute.amazonaws.com\n",
      "ec2-52-89-7-152.us-west-2.compute.amazonaws.com\n",
      "ec2-52-89-5-149.us-west-2.compute.amazonaws.com\n",
      "ec2-52-26-26-62.us-west-2.compute.amazonaws.com\n",
      "ec2-52-89-11-195.us-west-2.compute.amazonaws.com\n",
      "ec2-52-89-11-32.us-west-2.compute.amazonaws.com\n",
      "ec2-52-88-250-249.us-west-2.compute.amazonaws.com\n",
      "ec2-52-88-254-166.us-west-2.compute.amazonaws.com\n",
      "ec2-52-89-2-4.us-west-2.compute.amazonaws.com\n",
      "ec2-52-88-254-121.us-west-2.compute.amazonaws.com\n",
      "ec2-52-88-248-214.us-west-2.compute.amazonaws.com\n",
      "ec2-52-89-2-24.us-west-2.compute.amazonaws.com\n",
      "ec2-52-88-254-160.us-west-2.compute.amazonaws.com\n",
      "ec2-52-88-243-239.us-west-2.compute.amazonaws.com\n",
      "ec2-52-89-1-250.us-west-2.compute.amazonaws.com\n",
      "ec2-52-89-11-189.us-west-2.compute.amazonaws.com\n",
      "ec2-52-88-215-233.us-west-2.compute.amazonaws.com\n",
      "ec2-52-88-238-161.us-west-2.compute.amazonaws.com\n",
      "ec2-52-89-1-202.us-west-2.compute.amazonaws.com\n",
      "ec2-52-89-9-126.us-west-2.compute.amazonaws.com\n",
      "ec2-52-89-11-168.us-west-2.compute.amazonaws.com\n",
      "ec2-52-88-254-150.us-west-2.compute.amazonaws.com\n",
      "ec2-52-89-8-213.us-west-2.compute.amazonaws.com\n",
      "ec2-52-89-11-164.us-west-2.compute.amazonaws.com\n",
      "ec2-52-88-249-97.us-west-2.compute.amazonaws.com\n",
      "ec2-52-89-10-150.us-west-2.compute.amazonaws.com\n",
      "\n",
      "ec2-52-88-240-4.us-west-2.compute.amazonaws.com\n",
      "ec2-52-88-255-106.us-west-2.compute.amazonaws.com\n",
      "ec2-52-89-11-41.us-west-2.compute.amazonaws.com\n",
      "ec2-52-89-8-82.us-west-2.compute.amazonaws.com\n",
      "ec2-52-88-248-53.us-west-2.compute.amazonaws.com\n",
      "ec2-52-88-246-97.us-west-2.compute.amazonaws.com\n",
      "ec2-52-27-243-204.us-west-2.compute.amazonaws.com\n",
      "ec2-52-88-104-26.us-west-2.compute.amazonaws.com\n",
      "ec2-52-89-9-244.us-west-2.compute.amazonaws.com\n",
      "ec2-52-88-215-242.us-west-2.compute.amazonaws.com\n",
      "ec2-52-89-9-125.us-west-2.compute.amazonaws.com\n",
      "ec2-52-88-249-93.us-west-2.compute.amazonaws.com\n",
      "ec2-52-88-215-234.us-west-2.compute.amazonaws.com\n",
      "ec2-52-26-213-218.us-west-2.compute.amazonaws.com\n",
      "ec2-52-88-139-148.us-west-2.compute.amazonaws.com\n",
      "ec2-52-88-253-8.us-west-2.compute.amazonaws.com\n",
      "ec2-52-89-1-48.us-west-2.compute.amazonaws.com\n",
      "ec2-52-88-226-124.us-west-2.compute.amazonaws.com\n",
      "ec2-52-89-9-127.us-west-2.compute.amazonaws.com\n",
      "ec2-52-89-2-12.us-west-2.compute.amazonaws.com\n",
      "ec2-52-88-254-162.us-west-2.compute.amazonaws.com\n"
     ]
    }
   ],
   "source": [
    "si.print_public_dns_names()"
   ]
  },
  {
   "cell_type": "code",
   "execution_count": null,
   "metadata": {
    "collapsed": true
   },
   "outputs": [],
   "source": [
    "ctq.add_task('hello yejllow 17:27')"
   ]
  },
  {
   "cell_type": "code",
   "execution_count": 262,
   "metadata": {
    "collapsed": true
   },
   "outputs": [],
   "source": [
    "ctq.add_task('git:pull')"
   ]
  },
  {
   "cell_type": "code",
   "execution_count": 285,
   "metadata": {
    "collapsed": true
   },
   "outputs": [],
   "source": [
    "ctq.add_task('parse:01and2:0:20')"
   ]
  },
  {
   "cell_type": "code",
   "execution_count": 263,
   "metadata": {
    "collapsed": true
   },
   "outputs": [],
   "source": [
    "ctq.add_task('parse:01and2')"
   ]
  },
  {
   "cell_type": "code",
   "execution_count": 80,
   "metadata": {
    "collapsed": false
   },
   "outputs": [],
   "source": [
    "run_id = '05'\n",
    "total_ids = 20\n",
    "for i in range(total_ids):\n",
    "    ctq.add_task('parse:%s:%d:%d' % (run_id, i, total_ids))"
   ]
  },
  {
   "cell_type": "code",
   "execution_count": 264,
   "metadata": {
    "collapsed": true
   },
   "outputs": [],
   "source": [
    "ctq.add_task('quit')"
   ]
  },
  {
   "cell_type": "code",
   "execution_count": 284,
   "metadata": {
    "collapsed": false
   },
   "outputs": [
    {
     "name": "stdout",
     "output_type": "stream",
     "text": [
      "ec2-52-88-104-26.us-west-2.compute.amazonaws.com: new_member\n"
     ]
    }
   ],
   "source": [
    "msgs = new_member_queue.receive_messages(MessageAttributeNames=['Worker'])\n",
    "for msg in msgs:\n",
    "    worker_dns_name = 'unknown'\n",
    "    if msg.message_attributes is not None:\n",
    "        worker_dns_name = msg.message_attributes.get('Worker')['StringValue']\n",
    "    print('%s: %s' % (worker_dns_name, msg.body))\n",
    "    msg.delete()"
   ]
  },
  {
   "cell_type": "code",
   "execution_count": 279,
   "metadata": {
    "collapsed": false
   },
   "outputs": [],
   "source": [
    "msgs = task_commitment_queue.receive_messages(MessageAttributeNames=['Worker'])\n",
    "for msg in msgs:\n",
    "    worker_dns_name = 'unknown'\n",
    "    if msg.message_attributes is not None:\n",
    "        worker_dns_name = msg.message_attributes.get('Worker')['StringValue']\n",
    "    print('%s: %s' % (worker_dns_name, msg.body))\n",
    "    msg.delete()"
   ]
  },
  {
   "cell_type": "code",
   "execution_count": 283,
   "metadata": {
    "collapsed": false
   },
   "outputs": [],
   "source": [
    "#Delete 'quit' message after the end\n",
    "msgs = task_queue.receive_messages(MessageAttributeNames=['Worker'])\n",
    "for msg in msgs:\n",
    "    worker_dns_name = 'unknown'\n",
    "    if msg.message_attributes is not None:\n",
    "        worker_dns_name = msg.message_attributes.get('Worker')['StringValue']\n",
    "    print('%s: %s' % (worker_dns_name, msg.body))\n",
    "    #msg.delete()"
   ]
  },
  {
   "cell_type": "code",
   "execution_count": null,
   "metadata": {
    "collapsed": true
   },
   "outputs": [],
   "source": []
  }
 ],
 "metadata": {
  "kernelspec": {
   "display_name": "Python 2",
   "language": "python",
   "name": "python2"
  },
  "language_info": {
   "codemirror_mode": {
    "name": "ipython",
    "version": 2
   },
   "file_extension": ".py",
   "mimetype": "text/x-python",
   "name": "python",
   "nbconvert_exporter": "python",
   "pygments_lexer": "ipython2",
   "version": "2.7.6"
  }
 },
 "nbformat": 4,
 "nbformat_minor": 0
}
