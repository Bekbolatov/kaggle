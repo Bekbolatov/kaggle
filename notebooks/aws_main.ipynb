{
 "cells": [
  {
   "cell_type": "code",
   "execution_count": 1,
   "metadata": {
    "collapsed": true
   },
   "outputs": [],
   "source": [
    "import boto.ec2\n",
    "import boto3"
   ]
  },
  {
   "cell_type": "code",
   "execution_count": 2,
   "metadata": {
    "collapsed": true
   },
   "outputs": [],
   "source": [
    "%run aws_helper.py"
   ]
  },
  {
   "cell_type": "code",
   "execution_count": 3,
   "metadata": {
    "collapsed": true
   },
   "outputs": [],
   "source": [
    "si = SpotInstances()\n",
    "ctq = ClusterTaskQueue()"
   ]
  },
  {
   "cell_type": "code",
   "execution_count": 4,
   "metadata": {
    "collapsed": false
   },
   "outputs": [],
   "source": [
    "sqs = boto3.resource('sqs')  "
   ]
  },
  {
   "cell_type": "code",
   "execution_count": 5,
   "metadata": {
    "collapsed": false
   },
   "outputs": [],
   "source": [
    "new_member_queue = sqs.get_queue_by_name(QueueName='cluster_new_member')\n",
    "task_commitment_queue = sqs.get_queue_by_name(QueueName='cluster_task_commitment')\n",
    "task_queue = sqs.get_queue_by_name(QueueName='cluster_task_queue')\n",
    "# instance metadata: http://docs.aws.amazon.com/AWSEC2/latest/UserGuide/ec2-instance-metadata.html\n",
    "# ipython setup: http://ipython.org/ipython-doc/dev/notebook/public_server.html#running-a-public-notebook-server"
   ]
  },
  {
   "cell_type": "code",
   "execution_count": 6,
   "metadata": {
    "collapsed": false
   },
   "outputs": [
    {
     "name": "stdout",
     "output_type": "stream",
     "text": [
      "The following script will be run on startup\n",
      "#!/bin/bash\n",
      "\n",
      "echo \"===========================\"\n",
      "echo \"Starting service 'worker-server'.\"\n",
      "initctl status worker-server\n",
      "echo \"===========================\"\n",
      "\n"
     ]
    }
   ],
   "source": [
    "si.request(num_instances=100, subnet='b')"
   ]
  },
  {
   "cell_type": "code",
   "execution_count": 8,
   "metadata": {
    "collapsed": true
   },
   "outputs": [],
   "source": [
    "reqs = si.conn.get_all_spot_instance_requests()"
   ]
  },
  {
   "cell_type": "code",
   "execution_count": 13,
   "metadata": {
    "collapsed": false
   },
   "outputs": [
    {
     "data": {
      "text/plain": [
       "101"
      ]
     },
     "execution_count": 13,
     "metadata": {},
     "output_type": "execute_result"
    }
   ],
   "source": [
    "len([req.instance_id for req in reqs[3:]])"
   ]
  },
  {
   "cell_type": "code",
   "execution_count": 15,
   "metadata": {
    "collapsed": false
   },
   "outputs": [],
   "source": [
    "reservations = si.conn.get_all_reservations(instance_ids = [req.instance_id for req in reqs[4:]])"
   ]
  },
  {
   "cell_type": "code",
   "execution_count": 16,
   "metadata": {
    "collapsed": false
   },
   "outputs": [
    {
     "name": "stdout",
     "output_type": "stream",
     "text": [
      "ec2-52-89-193-15.us-west-2.compute.amazonaws.com\n",
      "ec2-54-69-136-78.us-west-2.compute.amazonaws.com\n",
      "ec2-54-68-193-159.us-west-2.compute.amazonaws.com\n",
      "ec2-52-88-201-154.us-west-2.compute.amazonaws.com\n",
      "ec2-52-89-15-13.us-west-2.compute.amazonaws.com\n",
      "ec2-52-89-45-252.us-west-2.compute.amazonaws.com\n",
      "ec2-54-69-129-216.us-west-2.compute.amazonaws.com\n",
      "ec2-52-89-235-49.us-west-2.compute.amazonaws.com\n",
      "ec2-54-68-201-203.us-west-2.compute.amazonaws.com\n",
      "ec2-52-10-43-242.us-west-2.compute.amazonaws.com\n",
      "ec2-52-88-239-14.us-west-2.compute.amazonaws.com\n",
      "ec2-54-69-13-4.us-west-2.compute.amazonaws.com\n",
      "ec2-52-89-133-116.us-west-2.compute.amazonaws.com\n",
      "ec2-54-68-203-141.us-west-2.compute.amazonaws.com\n",
      "ec2-54-69-128-40.us-west-2.compute.amazonaws.com\n",
      "ec2-52-89-243-103.us-west-2.compute.amazonaws.com\n",
      "ec2-54-68-167-111.us-west-2.compute.amazonaws.com\n",
      "ec2-54-68-149-49.us-west-2.compute.amazonaws.com\n",
      "ec2-52-88-140-31.us-west-2.compute.amazonaws.com\n",
      "ec2-54-69-13-17.us-west-2.compute.amazonaws.com\n",
      "ec2-54-68-108-253.us-west-2.compute.amazonaws.com\n",
      "ec2-52-89-135-95.us-west-2.compute.amazonaws.com\n",
      "ec2-52-89-221-244.us-west-2.compute.amazonaws.com\n",
      "ec2-52-89-254-95.us-west-2.compute.amazonaws.com\n",
      "ec2-54-68-166-47.us-west-2.compute.amazonaws.com\n",
      "ec2-54-69-43-170.us-west-2.compute.amazonaws.com\n",
      "ec2-52-89-151-225.us-west-2.compute.amazonaws.com\n",
      "ec2-54-69-133-194.us-west-2.compute.amazonaws.com\n",
      "ec2-52-26-206-14.us-west-2.compute.amazonaws.com\n",
      "ec2-52-88-57-125.us-west-2.compute.amazonaws.com\n",
      "ec2-54-69-102-121.us-west-2.compute.amazonaws.com\n",
      "ec2-52-88-5-19.us-west-2.compute.amazonaws.com\n",
      "ec2-52-25-5-100.us-west-2.compute.amazonaws.com\n",
      "ec2-54-68-125-99.us-west-2.compute.amazonaws.com\n",
      "ec2-52-89-55-24.us-west-2.compute.amazonaws.com\n",
      "ec2-54-68-179-101.us-west-2.compute.amazonaws.com\n",
      "ec2-54-69-7-70.us-west-2.compute.amazonaws.com\n",
      "ec2-54-68-46-25.us-west-2.compute.amazonaws.com\n",
      "ec2-52-27-101-119.us-west-2.compute.amazonaws.com\n",
      "ec2-54-69-16-198.us-west-2.compute.amazonaws.com\n",
      "ec2-52-27-202-38.us-west-2.compute.amazonaws.com\n",
      "ec2-52-89-241-245.us-west-2.compute.amazonaws.com\n",
      "ec2-52-89-188-228.us-west-2.compute.amazonaws.com\n",
      "ec2-54-68-163-25.us-west-2.compute.amazonaws.com\n",
      "ec2-54-69-100-163.us-west-2.compute.amazonaws.com\n",
      "ec2-52-89-215-11.us-west-2.compute.amazonaws.com\n",
      "ec2-52-89-93-129.us-west-2.compute.amazonaws.com\n",
      "ec2-54-68-148-244.us-west-2.compute.amazonaws.com\n",
      "ec2-54-68-205-216.us-west-2.compute.amazonaws.com\n",
      "ec2-54-69-111-80.us-west-2.compute.amazonaws.com\n",
      "ec2-54-69-16-189.us-west-2.compute.amazonaws.com\n",
      "ec2-54-69-13-59.us-west-2.compute.amazonaws.com\n",
      "ec2-52-89-248-201.us-west-2.compute.amazonaws.com\n",
      "ec2-52-88-167-15.us-west-2.compute.amazonaws.com\n",
      "ec2-54-68-102-238.us-west-2.compute.amazonaws.com\n",
      "ec2-54-68-197-197.us-west-2.compute.amazonaws.com\n",
      "ec2-52-24-252-202.us-west-2.compute.amazonaws.com\n",
      "ec2-52-26-56-255.us-west-2.compute.amazonaws.com\n",
      "ec2-52-11-188-93.us-west-2.compute.amazonaws.com\n",
      "ec2-52-89-37-225.us-west-2.compute.amazonaws.com\n",
      "ec2-54-69-134-170.us-west-2.compute.amazonaws.com\n",
      "ec2-54-68-230-132.us-west-2.compute.amazonaws.com\n",
      "ec2-52-26-247-58.us-west-2.compute.amazonaws.com\n",
      "ec2-54-69-22-62.us-west-2.compute.amazonaws.com\n",
      "ec2-52-88-148-10.us-west-2.compute.amazonaws.com\n",
      "ec2-54-68-104-52.us-west-2.compute.amazonaws.com\n",
      "ec2-54-68-115-107.us-west-2.compute.amazonaws.com\n",
      "ec2-52-89-241-191.us-west-2.compute.amazonaws.com\n",
      "ec2-54-69-136-58.us-west-2.compute.amazonaws.com\n",
      "ec2-54-69-11-201.us-west-2.compute.amazonaws.com\n",
      "ec2-52-10-114-136.us-west-2.compute.amazonaws.com\n",
      "ec2-54-68-202-216.us-west-2.compute.amazonaws.com\n",
      "ec2-54-69-136-34.us-west-2.compute.amazonaws.com\n",
      "ec2-52-88-34-128.us-west-2.compute.amazonaws.com\n",
      "ec2-52-88-176-236.us-west-2.compute.amazonaws.com\n",
      "ec2-52-89-208-176.us-west-2.compute.amazonaws.com\n",
      "ec2-52-24-102-152.us-west-2.compute.amazonaws.com\n",
      "ec2-52-89-227-161.us-west-2.compute.amazonaws.com\n",
      "ec2-54-68-203-253.us-west-2.compute.amazonaws.com\n",
      "ec2-52-89-90-171.us-west-2.compute.amazonaws.com\n",
      "ec2-52-89-196-70.us-west-2.compute.amazonaws.com\n",
      "ec2-52-88-12-15.us-west-2.compute.amazonaws.com\n",
      "ec2-52-89-175-90.us-west-2.compute.amazonaws.com\n",
      "ec2-52-89-230-26.us-west-2.compute.amazonaws.com\n",
      "ec2-54-68-156-176.us-west-2.compute.amazonaws.com\n",
      "ec2-52-89-163-39.us-west-2.compute.amazonaws.com\n",
      "ec2-54-69-112-242.us-west-2.compute.amazonaws.com\n",
      "ec2-52-25-123-5.us-west-2.compute.amazonaws.com\n",
      "ec2-52-88-216-208.us-west-2.compute.amazonaws.com\n",
      "ec2-52-25-242-153.us-west-2.compute.amazonaws.com\n",
      "ec2-54-68-131-38.us-west-2.compute.amazonaws.com\n",
      "ec2-52-88-135-209.us-west-2.compute.amazonaws.com\n",
      "ec2-52-27-6-21.us-west-2.compute.amazonaws.com\n",
      "ec2-54-69-136-66.us-west-2.compute.amazonaws.com\n",
      "ec2-52-89-222-49.us-west-2.compute.amazonaws.com\n",
      "ec2-52-89-226-215.us-west-2.compute.amazonaws.com\n",
      "ec2-52-89-187-92.us-west-2.compute.amazonaws.com\n",
      "ec2-52-24-99-129.us-west-2.compute.amazonaws.com\n",
      "ec2-52-89-132-66.us-west-2.compute.amazonaws.com\n",
      "ec2-52-89-73-242.us-west-2.compute.amazonaws.com\n"
     ]
    }
   ],
   "source": [
    "for res in reservations:\n",
    "    for instance in res.instances:\n",
    "        print(instance.public_dns_name)"
   ]
  },
  {
   "cell_type": "code",
   "execution_count": 7,
   "metadata": {
    "collapsed": false
   },
   "outputs": [
    {
     "name": "stderr",
     "output_type": "stream",
     "text": [
      "ERROR:boto:400 Bad Request\n",
      "ERROR:boto:<?xml version=\"1.0\" encoding=\"UTF-8\"?>\n",
      "<Response><Errors><Error><Code>InvalidInstanceID.Malformed</Code><Message>Invalid id: \"None\"</Message></Error></Errors><RequestID>21f92871-234e-4e6c-80ba-b87276e86de3</RequestID></Response>\n"
     ]
    },
    {
     "ename": "EC2ResponseError",
     "evalue": "EC2ResponseError: 400 Bad Request\n<?xml version=\"1.0\" encoding=\"UTF-8\"?>\n<Response><Errors><Error><Code>InvalidInstanceID.Malformed</Code><Message>Invalid id: \"None\"</Message></Error></Errors><RequestID>21f92871-234e-4e6c-80ba-b87276e86de3</RequestID></Response>",
     "output_type": "error",
     "traceback": [
      "\u001b[0;31m---------------------------------------------------------------------------\u001b[0m",
      "\u001b[0;31mEC2ResponseError\u001b[0m                          Traceback (most recent call last)",
      "\u001b[0;32m<ipython-input-7-d9993c262b6b>\u001b[0m in \u001b[0;36m<module>\u001b[0;34m()\u001b[0m\n\u001b[0;32m----> 1\u001b[0;31m \u001b[0msi\u001b[0m\u001b[0;34m.\u001b[0m\u001b[0mprint_public_dns_names\u001b[0m\u001b[0;34m(\u001b[0m\u001b[0;34m)\u001b[0m\u001b[0;34m\u001b[0m\u001b[0m\n\u001b[0m",
      "\u001b[0;32m/Users/rbekbolatov/repos/gh/bekbolatov/kaggle/notebooks/aws_helper.py\u001b[0m in \u001b[0;36mprint_public_dns_names\u001b[0;34m(self)\u001b[0m\n\u001b[1;32m     87\u001b[0m     \u001b[0;32mdef\u001b[0m \u001b[0mprint_public_dns_names\u001b[0m\u001b[0;34m(\u001b[0m\u001b[0mself\u001b[0m\u001b[0;34m)\u001b[0m\u001b[0;34m:\u001b[0m\u001b[0;34m\u001b[0m\u001b[0m\n\u001b[1;32m     88\u001b[0m         \u001b[0mself\u001b[0m\u001b[0;34m.\u001b[0m\u001b[0mupdate_requests\u001b[0m\u001b[0;34m(\u001b[0m\u001b[0;34m)\u001b[0m\u001b[0;34m\u001b[0m\u001b[0m\n\u001b[0;32m---> 89\u001b[0;31m         \u001b[0mreservations\u001b[0m \u001b[0;34m=\u001b[0m \u001b[0mself\u001b[0m\u001b[0;34m.\u001b[0m\u001b[0mconn\u001b[0m\u001b[0;34m.\u001b[0m\u001b[0mget_all_reservations\u001b[0m\u001b[0;34m(\u001b[0m\u001b[0minstance_ids\u001b[0m \u001b[0;34m=\u001b[0m \u001b[0;34m[\u001b[0m\u001b[0mreq\u001b[0m\u001b[0;34m.\u001b[0m\u001b[0minstance_id\u001b[0m \u001b[0;32mfor\u001b[0m \u001b[0mreq\u001b[0m \u001b[0;32min\u001b[0m \u001b[0mself\u001b[0m\u001b[0;34m.\u001b[0m\u001b[0mreqs\u001b[0m\u001b[0;34m]\u001b[0m\u001b[0;34m)\u001b[0m\u001b[0;34m\u001b[0m\u001b[0m\n\u001b[0m\u001b[1;32m     90\u001b[0m         \u001b[0;32mfor\u001b[0m \u001b[0mres\u001b[0m \u001b[0;32min\u001b[0m \u001b[0mreservations\u001b[0m\u001b[0;34m:\u001b[0m\u001b[0;34m\u001b[0m\u001b[0m\n\u001b[1;32m     91\u001b[0m             \u001b[0;32mfor\u001b[0m \u001b[0minstance\u001b[0m \u001b[0;32min\u001b[0m \u001b[0mres\u001b[0m\u001b[0;34m.\u001b[0m\u001b[0minstances\u001b[0m\u001b[0;34m:\u001b[0m\u001b[0;34m\u001b[0m\u001b[0m\n",
      "\u001b[0;32m/Library/Python/2.7/site-packages/boto/ec2/connection.pyc\u001b[0m in \u001b[0;36mget_all_reservations\u001b[0;34m(self, instance_ids, filters, dry_run, max_results, next_token)\u001b[0m\n\u001b[1;32m    680\u001b[0m             \u001b[0mparams\u001b[0m\u001b[0;34m[\u001b[0m\u001b[0;34m'NextToken'\u001b[0m\u001b[0;34m]\u001b[0m \u001b[0;34m=\u001b[0m \u001b[0mnext_token\u001b[0m\u001b[0;34m\u001b[0m\u001b[0m\n\u001b[1;32m    681\u001b[0m         return self.get_list('DescribeInstances', params,\n\u001b[0;32m--> 682\u001b[0;31m                              [('item', Reservation)], verb='POST')\n\u001b[0m\u001b[1;32m    683\u001b[0m \u001b[0;34m\u001b[0m\u001b[0m\n\u001b[1;32m    684\u001b[0m     def get_all_instance_status(self, instance_ids=None,\n",
      "\u001b[0;32m/Library/Python/2.7/site-packages/boto/connection.pyc\u001b[0m in \u001b[0;36mget_list\u001b[0;34m(self, action, params, markers, path, parent, verb)\u001b[0m\n\u001b[1;32m   1180\u001b[0m             \u001b[0mboto\u001b[0m\u001b[0;34m.\u001b[0m\u001b[0mlog\u001b[0m\u001b[0;34m.\u001b[0m\u001b[0merror\u001b[0m\u001b[0;34m(\u001b[0m\u001b[0;34m'%s %s'\u001b[0m \u001b[0;34m%\u001b[0m \u001b[0;34m(\u001b[0m\u001b[0mresponse\u001b[0m\u001b[0;34m.\u001b[0m\u001b[0mstatus\u001b[0m\u001b[0;34m,\u001b[0m \u001b[0mresponse\u001b[0m\u001b[0;34m.\u001b[0m\u001b[0mreason\u001b[0m\u001b[0;34m)\u001b[0m\u001b[0;34m)\u001b[0m\u001b[0;34m\u001b[0m\u001b[0m\n\u001b[1;32m   1181\u001b[0m             \u001b[0mboto\u001b[0m\u001b[0;34m.\u001b[0m\u001b[0mlog\u001b[0m\u001b[0;34m.\u001b[0m\u001b[0merror\u001b[0m\u001b[0;34m(\u001b[0m\u001b[0;34m'%s'\u001b[0m \u001b[0;34m%\u001b[0m \u001b[0mbody\u001b[0m\u001b[0;34m)\u001b[0m\u001b[0;34m\u001b[0m\u001b[0m\n\u001b[0;32m-> 1182\u001b[0;31m             \u001b[0;32mraise\u001b[0m \u001b[0mself\u001b[0m\u001b[0;34m.\u001b[0m\u001b[0mResponseError\u001b[0m\u001b[0;34m(\u001b[0m\u001b[0mresponse\u001b[0m\u001b[0;34m.\u001b[0m\u001b[0mstatus\u001b[0m\u001b[0;34m,\u001b[0m \u001b[0mresponse\u001b[0m\u001b[0;34m.\u001b[0m\u001b[0mreason\u001b[0m\u001b[0;34m,\u001b[0m \u001b[0mbody\u001b[0m\u001b[0;34m)\u001b[0m\u001b[0;34m\u001b[0m\u001b[0m\n\u001b[0m\u001b[1;32m   1183\u001b[0m \u001b[0;34m\u001b[0m\u001b[0m\n\u001b[1;32m   1184\u001b[0m     def get_object(self, action, params, cls, path='/',\n",
      "\u001b[0;31mEC2ResponseError\u001b[0m: EC2ResponseError: 400 Bad Request\n<?xml version=\"1.0\" encoding=\"UTF-8\"?>\n<Response><Errors><Error><Code>InvalidInstanceID.Malformed</Code><Message>Invalid id: \"None\"</Message></Error></Errors><RequestID>21f92871-234e-4e6c-80ba-b87276e86de3</RequestID></Response>"
     ]
    }
   ],
   "source": [
    "si.print_public_dns_names()"
   ]
  },
  {
   "cell_type": "code",
   "execution_count": null,
   "metadata": {
    "collapsed": true
   },
   "outputs": [],
   "source": [
    "ctq.add_task('hello yejllow 17:27')"
   ]
  },
  {
   "cell_type": "code",
   "execution_count": null,
   "metadata": {
    "collapsed": true
   },
   "outputs": [],
   "source": [
    "ctq.add_task('git:pull')"
   ]
  },
  {
   "cell_type": "code",
   "execution_count": null,
   "metadata": {
    "collapsed": true
   },
   "outputs": [],
   "source": [
    "#ctq.add_task('parse:01')\n",
    "ctq.add_task('parse:test/006:6457:40100')"
   ]
  },
  {
   "cell_type": "code",
   "execution_count": null,
   "metadata": {
    "collapsed": true
   },
   "outputs": [],
   "source": [
    "ctq.add_task('XXXparse:tmp/01:404075:405000')"
   ]
  },
  {
   "cell_type": "code",
   "execution_count": 23,
   "metadata": {
    "collapsed": false
   },
   "outputs": [],
   "source": [
    "run_id = 'prod/06'\n",
    "total_ids = 100\n",
    "for i in range(total_ids):\n",
    "    #ctq.add_task('quit')\n",
    "    #ctq.add_task('git:pull')\n",
    "    ctq.add_task('parse:%s:%d:%d' % (run_id, i, total_ids))\n",
    "    #ctq.add_task('parse:%s' % (run_id))"
   ]
  },
  {
   "cell_type": "code",
   "execution_count": null,
   "metadata": {
    "collapsed": true
   },
   "outputs": [],
   "source": [
    "ctq.add_task('quit')"
   ]
  },
  {
   "cell_type": "code",
   "execution_count": 18,
   "metadata": {
    "collapsed": true
   },
   "outputs": [],
   "source": [
    "started = []"
   ]
  },
  {
   "cell_type": "code",
   "execution_count": 21,
   "metadata": {
    "collapsed": true
   },
   "outputs": [
    {
     "name": "stdout",
     "output_type": "stream",
     "text": [
      "ec2-52-88-57-125.us-west-2.compute.amazonaws.com: new_member\n",
      "ec2-54-68-156-176.us-west-2.compute.amazonaws.com: new_member\n",
      "ec2-52-89-45-252.us-west-2.compute.amazonaws.com: new_member\n",
      "ec2-52-25-5-100.us-west-2.compute.amazonaws.com: new_member\n",
      "ec2-52-24-99-129.us-west-2.compute.amazonaws.com: new_member\n",
      "ec2-54-69-22-62.us-west-2.compute.amazonaws.com: new_member\n",
      "ec2-54-68-203-253.us-west-2.compute.amazonaws.com: new_member\n",
      "ec2-52-88-140-31.us-west-2.compute.amazonaws.com: new_member\n",
      "ec2-52-89-133-116.us-west-2.compute.amazonaws.com: new_member\n",
      "ec2-54-68-167-111.us-west-2.compute.amazonaws.com: new_member\n",
      "ec2-54-69-7-70.us-west-2.compute.amazonaws.com: new_member\n",
      "ec2-54-68-46-25.us-west-2.compute.amazonaws.com: new_member\n",
      "ec2-52-25-242-153.us-west-2.compute.amazonaws.com: new_member\n",
      "ec2-52-88-201-154.us-west-2.compute.amazonaws.com: new_member\n",
      "ec2-52-27-101-119.us-west-2.compute.amazonaws.com: new_member\n",
      "ec2-54-68-202-216.us-west-2.compute.amazonaws.com: new_member\n",
      "ec2-54-69-100-163.us-west-2.compute.amazonaws.com: new_member\n",
      "ec2-54-69-128-40.us-west-2.compute.amazonaws.com: new_member\n",
      "ec2-52-89-241-245.us-west-2.compute.amazonaws.com: new_member\n",
      "ec2-54-68-149-49.us-west-2.compute.amazonaws.com: new_member\n",
      "ec2-54-68-205-216.us-west-2.compute.amazonaws.com: new_member\n",
      "ec2-52-27-6-21.us-west-2.compute.amazonaws.com: new_member\n",
      "ec2-52-89-132-66.us-west-2.compute.amazonaws.com: new_member\n",
      "ec2-52-89-188-228.us-west-2.compute.amazonaws.com: new_member\n",
      "ec2-54-69-16-198.us-west-2.compute.amazonaws.com: new_member\n",
      "ec2-52-10-43-242.us-west-2.compute.amazonaws.com: new_member\n",
      "ec2-54-69-134-170.us-west-2.compute.amazonaws.com: new_member\n",
      "ec2-52-89-187-92.us-west-2.compute.amazonaws.com: new_member\n",
      "ec2-52-88-216-208.us-west-2.compute.amazonaws.com: new_member\n",
      "ec2-54-68-148-244.us-west-2.compute.amazonaws.com: new_member\n",
      "ec2-52-11-188-93.us-west-2.compute.amazonaws.com: new_member\n",
      "ec2-52-89-248-201.us-west-2.compute.amazonaws.com: new_member\n",
      "ec2-54-69-136-34.us-west-2.compute.amazonaws.com: new_member\n",
      "ec2-52-24-102-152.us-west-2.compute.amazonaws.com: new_member\n",
      "ec2-52-24-252-202.us-west-2.compute.amazonaws.com: new_member\n",
      "ec2-54-69-13-4.us-west-2.compute.amazonaws.com: new_member\n",
      "ec2-52-89-208-176.us-west-2.compute.amazonaws.com: new_member\n",
      "ec2-54-68-108-253.us-west-2.compute.amazonaws.com: new_member\n",
      "ec2-54-68-104-52.us-west-2.compute.amazonaws.com: new_member\n",
      "ec2-54-69-136-66.us-west-2.compute.amazonaws.com: new_member\n",
      "ec2-52-26-56-255.us-west-2.compute.amazonaws.com: new_member\n",
      "ec2-52-88-176-236.us-west-2.compute.amazonaws.com: new_member\n",
      "ec2-52-89-226-215.us-west-2.compute.amazonaws.com: new_member\n",
      "ec2-54-69-13-17.us-west-2.compute.amazonaws.com: new_member\n",
      "ec2-52-89-135-95.us-west-2.compute.amazonaws.com: new_member\n",
      "ec2-52-88-12-15.us-west-2.compute.amazonaws.com: new_member\n",
      "ec2-52-89-163-39.us-west-2.compute.amazonaws.com: new_member\n",
      "ec2-52-89-175-90.us-west-2.compute.amazonaws.com: new_member\n",
      "ec2-52-89-93-129.us-west-2.compute.amazonaws.com: new_member\n",
      "ec2-52-89-241-191.us-west-2.compute.amazonaws.com: new_member\n",
      "ec2-52-88-148-10.us-west-2.compute.amazonaws.com: new_member\n",
      "ec2-52-89-221-244.us-west-2.compute.amazonaws.com: new_member\n",
      "ec2-54-68-201-203.us-west-2.compute.amazonaws.com: new_member\n",
      "ec2-52-10-114-136.us-west-2.compute.amazonaws.com: new_member\n",
      "ec2-54-68-166-47.us-west-2.compute.amazonaws.com: new_member\n",
      "ec2-52-26-206-14.us-west-2.compute.amazonaws.com: new_member\n",
      "ec2-52-89-37-225.us-west-2.compute.amazonaws.com: new_member\n",
      "ec2-52-88-135-209.us-west-2.compute.amazonaws.com: new_member\n",
      "ec2-54-68-163-25.us-west-2.compute.amazonaws.com: new_member\n",
      "ec2-54-69-11-201.us-west-2.compute.amazonaws.com: new_member\n",
      "ec2-54-69-133-194.us-west-2.compute.amazonaws.com: new_member\n",
      "ec2-52-88-239-14.us-west-2.compute.amazonaws.com: new_member\n",
      "ec2-54-69-43-170.us-west-2.compute.amazonaws.com: new_member\n",
      "ec2-52-89-230-26.us-west-2.compute.amazonaws.com: new_member\n",
      "ec2-54-68-125-99.us-west-2.compute.amazonaws.com: new_member\n",
      "ec2-52-89-55-24.us-west-2.compute.amazonaws.com: new_member\n",
      "ec2-52-89-196-70.us-west-2.compute.amazonaws.com: new_member\n",
      "ec2-52-25-123-5.us-west-2.compute.amazonaws.com: new_member\n",
      "ec2-52-88-34-128.us-west-2.compute.amazonaws.com: new_member\n",
      "ec2-52-88-5-19.us-west-2.compute.amazonaws.com: new_member\n",
      "ec2-54-69-136-58.us-west-2.compute.amazonaws.com: new_member\n",
      "ec2-52-89-222-49.us-west-2.compute.amazonaws.com: new_member\n",
      "ec2-52-89-215-11.us-west-2.compute.amazonaws.com: new_member\n",
      "ec2-52-26-247-58.us-west-2.compute.amazonaws.com: new_member\n",
      "ec2-54-68-197-197.us-west-2.compute.amazonaws.com: new_member\n",
      "ec2-54-68-230-132.us-west-2.compute.amazonaws.com: new_member\n",
      "ec2-54-69-16-189.us-west-2.compute.amazonaws.com: new_member\n",
      "ec2-54-69-136-78.us-west-2.compute.amazonaws.com: new_member\n",
      "ec2-54-68-115-107.us-west-2.compute.amazonaws.com: new_member\n",
      "ec2-54-68-102-238.us-west-2.compute.amazonaws.com: new_member\n",
      "ec2-52-89-243-103.us-west-2.compute.amazonaws.com: new_member\n",
      "ec2-54-69-111-80.us-west-2.compute.amazonaws.com: new_member\n",
      "ec2-52-89-73-242.us-west-2.compute.amazonaws.com: new_member\n",
      "ec2-52-89-227-161.us-west-2.compute.amazonaws.com: new_member\n",
      "ec2-54-69-112-242.us-west-2.compute.amazonaws.com: new_member\n",
      "ec2-54-68-203-141.us-west-2.compute.amazonaws.com: new_member\n",
      "ec2-54-69-102-121.us-west-2.compute.amazonaws.com: new_member\n",
      "ec2-54-68-193-159.us-west-2.compute.amazonaws.com: new_member\n",
      "ec2-52-89-151-225.us-west-2.compute.amazonaws.com: new_member\n",
      "ec2-52-89-193-15.us-west-2.compute.amazonaws.com: new_member\n",
      "ec2-54-69-13-59.us-west-2.compute.amazonaws.com: new_member\n",
      "ec2-52-89-15-13.us-west-2.compute.amazonaws.com: new_member\n",
      "ec2-54-68-179-101.us-west-2.compute.amazonaws.com: new_member\n",
      "ec2-54-69-129-216.us-west-2.compute.amazonaws.com: new_member\n",
      "ec2-54-68-131-38.us-west-2.compute.amazonaws.com: new_member\n",
      "ec2-52-89-90-171.us-west-2.compute.amazonaws.com: new_member\n",
      "ec2-52-89-235-49.us-west-2.compute.amazonaws.com: new_member\n",
      "ec2-52-88-167-15.us-west-2.compute.amazonaws.com: new_member\n",
      "ec2-52-89-254-95.us-west-2.compute.amazonaws.com: new_member\n"
     ]
    }
   ],
   "source": [
    "for i in range(100):\n",
    "    msgs = new_member_queue.receive_messages(MessageAttributeNames=['Worker'])\n",
    "    for msg in msgs:\n",
    "        worker_dns_name = 'unknown'\n",
    "        if msg.message_attributes is not None:\n",
    "            worker_dns_name = msg.message_attributes.get('Worker')['StringValue']\n",
    "        print('%s: %s' % (worker_dns_name, msg.body))\n",
    "        msg.delete()\n",
    "        started.append(worker_dns_name)"
   ]
  },
  {
   "cell_type": "code",
   "execution_count": 22,
   "metadata": {
    "collapsed": false
   },
   "outputs": [
    {
     "data": {
      "text/plain": [
       "100"
      ]
     },
     "execution_count": 22,
     "metadata": {},
     "output_type": "execute_result"
    }
   ],
   "source": [
    "len(started)"
   ]
  },
  {
   "cell_type": "code",
   "execution_count": null,
   "metadata": {
    "collapsed": false
   },
   "outputs": [],
   "source": [
    "'ec2-52-27-130-165.us-west-2.compute.amazonaws.com' in started"
   ]
  },
  {
   "cell_type": "code",
   "execution_count": null,
   "metadata": {
    "collapsed": false
   },
   "outputs": [],
   "source": [
    "set(hosts) - set(started)"
   ]
  },
  {
   "cell_type": "code",
   "execution_count": 24,
   "metadata": {
    "collapsed": true
   },
   "outputs": [],
   "source": [
    "res = []"
   ]
  },
  {
   "cell_type": "code",
   "execution_count": 27,
   "metadata": {
    "collapsed": true
   },
   "outputs": [
    {
     "name": "stdout",
     "output_type": "stream",
     "text": [
      "ec2-54-68-201-203.us-west-2.compute.amazonaws.com: parse:prod/06:26:100\n",
      "ec2-54-69-136-58.us-west-2.compute.amazonaws.com: parse:prod/06:7:100\n",
      "ec2-52-88-57-125.us-west-2.compute.amazonaws.com: parse:prod/06:14:100\n",
      "ec2-54-69-22-62.us-west-2.compute.amazonaws.com: parse:prod/06:10:100\n",
      "ec2-54-68-149-49.us-west-2.compute.amazonaws.com: parse:prod/06:23:100\n",
      "ec2-52-89-151-225.us-west-2.compute.amazonaws.com: parse:prod/06:15:100\n",
      "ec2-52-89-241-245.us-west-2.compute.amazonaws.com: parse:prod/06:17:100\n",
      "ec2-54-68-167-111.us-west-2.compute.amazonaws.com: parse:prod/06:30:100\n",
      "ec2-54-69-102-121.us-west-2.compute.amazonaws.com: parse:prod/06:19:100\n",
      "ec2-54-69-13-17.us-west-2.compute.amazonaws.com: parse:prod/06:3:100\n",
      "ec2-52-88-167-15.us-west-2.compute.amazonaws.com: parse:prod/06:31:100\n",
      "ec2-52-10-114-136.us-west-2.compute.amazonaws.com: parse:prod/06:28:100\n",
      "ec2-54-68-197-197.us-west-2.compute.amazonaws.com: parse:prod/06:0:100\n",
      "ec2-54-68-115-107.us-west-2.compute.amazonaws.com: parse:prod/06:34:100\n",
      "ec2-54-69-7-70.us-west-2.compute.amazonaws.com: parse:prod/06:41:100\n",
      "ec2-54-68-156-176.us-west-2.compute.amazonaws.com: parse:prod/06:1:100\n",
      "ec2-52-88-5-19.us-west-2.compute.amazonaws.com: parse:prod/06:42:100\n",
      "ec2-52-89-227-161.us-west-2.compute.amazonaws.com: parse:prod/06:38:100\n",
      "ec2-52-89-248-201.us-west-2.compute.amazonaws.com: parse:prod/06:47:100\n",
      "ec2-54-69-136-34.us-west-2.compute.amazonaws.com: parse:prod/06:2:100\n",
      "ec2-52-88-239-14.us-west-2.compute.amazonaws.com: parse:prod/06:4:100\n",
      "ec2-52-24-99-129.us-west-2.compute.amazonaws.com: parse:prod/06:43:100\n",
      "ec2-52-27-202-38.us-west-2.compute.amazonaws.com: parse:prod/06:21:100\n",
      "ec2-52-89-55-24.us-west-2.compute.amazonaws.com: parse:prod/06:6:100\n",
      "ec2-52-88-140-31.us-west-2.compute.amazonaws.com: parse:prod/06:51:100\n",
      "ec2-54-69-13-4.us-west-2.compute.amazonaws.com: parse:prod/06:24:100\n",
      "ec2-54-68-102-238.us-west-2.compute.amazonaws.com: parse:prod/06:12:100\n",
      "ec2-54-69-136-78.us-west-2.compute.amazonaws.com: parse:prod/06:44:100\n",
      "ec2-54-69-134-170.us-west-2.compute.amazonaws.com: parse:prod/06:8:100\n",
      "ec2-52-89-215-11.us-west-2.compute.amazonaws.com: parse:prod/06:56:100\n",
      "ec2-54-69-43-170.us-west-2.compute.amazonaws.com: parse:prod/06:27:100\n",
      "ec2-52-26-56-255.us-west-2.compute.amazonaws.com: parse:prod/06:18:100\n",
      "ec2-52-88-216-208.us-west-2.compute.amazonaws.com: parse:prod/06:25:100\n",
      "ec2-52-89-93-129.us-west-2.compute.amazonaws.com: parse:prod/06:37:100\n",
      "ec2-52-89-175-90.us-west-2.compute.amazonaws.com: parse:prod/06:39:100\n",
      "ec2-52-25-123-5.us-west-2.compute.amazonaws.com: parse:prod/06:45:100\n",
      "ec2-54-68-125-99.us-west-2.compute.amazonaws.com: parse:prod/06:40:100\n",
      "ec2-54-69-11-201.us-west-2.compute.amazonaws.com: parse:prod/06:60:100\n",
      "ec2-52-89-243-103.us-west-2.compute.amazonaws.com: parse:prod/06:9:100\n",
      "ec2-54-69-136-66.us-west-2.compute.amazonaws.com: parse:prod/06:33:100\n",
      "ec2-52-26-206-14.us-west-2.compute.amazonaws.com: parse:prod/06:35:100\n",
      "ec2-52-89-241-191.us-west-2.compute.amazonaws.com: parse:prod/06:48:100\n",
      "ec2-52-89-235-49.us-west-2.compute.amazonaws.com: parse:prod/06:55:100\n",
      "ec2-54-68-131-38.us-west-2.compute.amazonaws.com: parse:prod/06:74:100\n",
      "ec2-52-89-193-15.us-west-2.compute.amazonaws.com: parse:prod/06:11:100\n",
      "ec2-54-68-203-253.us-west-2.compute.amazonaws.com: parse:prod/06:13:100\n",
      "ec2-54-68-179-101.us-west-2.compute.amazonaws.com: parse:prod/06:36:100\n",
      "ec2-52-89-135-95.us-west-2.compute.amazonaws.com: parse:prod/06:50:100\n",
      "ec2-52-11-188-93.us-west-2.compute.amazonaws.com: parse:prod/06:16:100\n",
      "ec2-54-68-104-52.us-west-2.compute.amazonaws.com: parse:prod/06:75:100\n",
      "ec2-52-88-34-128.us-west-2.compute.amazonaws.com: parse:prod/06:52:100\n",
      "ec2-52-10-43-242.us-west-2.compute.amazonaws.com: parse:prod/06:77:100\n",
      "ec2-52-88-148-10.us-west-2.compute.amazonaws.com: parse:prod/06:57:100\n",
      "ec2-54-69-112-242.us-west-2.compute.amazonaws.com: parse:prod/06:65:100\n",
      "ec2-52-89-188-228.us-west-2.compute.amazonaws.com: parse:prod/06:70:100\n",
      "ec2-54-69-13-59.us-west-2.compute.amazonaws.com: parse:prod/06:58:100\n",
      "ec2-52-89-132-66.us-west-2.compute.amazonaws.com: parse:prod/06:66:100\n",
      "ec2-52-27-6-21.us-west-2.compute.amazonaws.com: parse:prod/06:78:100\n",
      "ec2-52-89-187-92.us-west-2.compute.amazonaws.com: parse:prod/06:86:100\n",
      "ec2-52-88-176-236.us-west-2.compute.amazonaws.com: parse:prod/06:61:100\n",
      "ec2-54-68-163-25.us-west-2.compute.amazonaws.com: parse:prod/06:90:100\n",
      "ec2-54-68-203-141.us-west-2.compute.amazonaws.com: parse:prod/06:69:100\n",
      "ec2-54-68-202-216.us-west-2.compute.amazonaws.com: parse:prod/06:79:100\n",
      "ec2-52-89-196-70.us-west-2.compute.amazonaws.com: parse:prod/06:81:100\n",
      "ec2-54-69-100-163.us-west-2.compute.amazonaws.com: parse:prod/06:71:100\n",
      "ec2-52-89-90-171.us-west-2.compute.amazonaws.com: parse:prod/06:73:100\n",
      "ec2-52-89-221-244.us-west-2.compute.amazonaws.com: parse:prod/06:76:100\n",
      "ec2-54-68-148-244.us-west-2.compute.amazonaws.com: parse:prod/06:62:100\n",
      "ec2-54-68-46-25.us-west-2.compute.amazonaws.com: parse:prod/06:93:100\n",
      "ec2-52-89-73-242.us-west-2.compute.amazonaws.com: parse:prod/06:68:100\n",
      "ec2-52-89-37-225.us-west-2.compute.amazonaws.com: parse:prod/06:20:100\n",
      "ec2-54-69-128-40.us-west-2.compute.amazonaws.com: parse:prod/06:84:100\n",
      "ec2-54-69-133-194.us-west-2.compute.amazonaws.com: parse:prod/06:85:100\n",
      "ec2-52-89-226-215.us-west-2.compute.amazonaws.com: parse:prod/06:87:100\n",
      "ec2-54-69-111-80.us-west-2.compute.amazonaws.com: parse:prod/06:88:100\n",
      "ec2-54-68-166-47.us-west-2.compute.amazonaws.com: parse:prod/06:98:100\n",
      "ec2-52-26-247-58.us-west-2.compute.amazonaws.com: parse:prod/06:83:100\n",
      "ec2-52-27-101-119.us-west-2.compute.amazonaws.com: parse:prod/06:91:100\n",
      "ec2-52-88-201-154.us-west-2.compute.amazonaws.com: parse:prod/06:94:100\n",
      "ec2-52-89-222-49.us-west-2.compute.amazonaws.com: parse:prod/06:95:100\n",
      "ec2-52-24-102-152.us-west-2.compute.amazonaws.com: parse:prod/06:22:100\n",
      "ec2-54-68-193-159.us-west-2.compute.amazonaws.com: parse:prod/06:89:100\n",
      "ec2-52-89-254-95.us-west-2.compute.amazonaws.com: parse:prod/06:96:100\n",
      "ec2-52-88-12-15.us-west-2.compute.amazonaws.com: parse:prod/06:92:100\n",
      "ec2-52-89-45-252.us-west-2.compute.amazonaws.com: parse:prod/06:29:100\n",
      "ec2-54-69-16-189.us-west-2.compute.amazonaws.com: parse:prod/06:32:100\n",
      "ec2-52-24-252-202.us-west-2.compute.amazonaws.com: parse:prod/06:46:100\n",
      "ec2-54-68-205-216.us-west-2.compute.amazonaws.com: parse:prod/06:49:100\n",
      "ec2-52-89-133-116.us-west-2.compute.amazonaws.com: parse:prod/06:53:100\n",
      "ec2-52-25-242-153.us-west-2.compute.amazonaws.com: parse:prod/06:54:100\n",
      "ec2-52-89-15-13.us-west-2.compute.amazonaws.com: parse:prod/06:59:100\n",
      "ec2-54-68-230-132.us-west-2.compute.amazonaws.com: parse:prod/06:63:100\n",
      "ec2-52-88-135-209.us-west-2.compute.amazonaws.com: parse:prod/06:64:100\n",
      "ec2-52-89-163-39.us-west-2.compute.amazonaws.com: parse:prod/06:67:100\n",
      "ec2-52-89-208-176.us-west-2.compute.amazonaws.com: parse:prod/06:72:100\n",
      "ec2-52-89-230-26.us-west-2.compute.amazonaws.com: parse:prod/06:80:100\n",
      "ec2-54-69-16-198.us-west-2.compute.amazonaws.com: parse:prod/06:82:100\n",
      "ec2-52-25-5-100.us-west-2.compute.amazonaws.com: parse:prod/06:97:100\n",
      "ec2-54-69-129-216.us-west-2.compute.amazonaws.com: parse:prod/06:99:100\n"
     ]
    }
   ],
   "source": [
    "for i in range(100):\n",
    "    msgs = task_commitment_queue.receive_messages(MessageAttributeNames=['Worker'])\n",
    "    for msg in msgs:\n",
    "        worker_dns_name = 'unknown'\n",
    "        if msg.message_attributes is not None:\n",
    "            worker_dns_name = msg.message_attributes.get('Worker')['StringValue']\n",
    "        print('%s: %s' % (worker_dns_name, msg.body))\n",
    "        res.append((worker_dns_name, msg.body))\n",
    "        msg.delete()"
   ]
  },
  {
   "cell_type": "code",
   "execution_count": 31,
   "metadata": {
    "collapsed": false
   },
   "outputs": [],
   "source": [
    "workers = [r[0] for r in res]"
   ]
  },
  {
   "cell_type": "code",
   "execution_count": 34,
   "metadata": {
    "collapsed": false
   },
   "outputs": [
    {
     "data": {
      "text/plain": [
       "set()"
      ]
     },
     "execution_count": 34,
     "metadata": {},
     "output_type": "execute_result"
    }
   ],
   "source": [
    "set(hosts) - set(workers)"
   ]
  },
  {
   "cell_type": "code",
   "execution_count": null,
   "metadata": {
    "collapsed": false
   },
   "outputs": [],
   "source": [
    "#Delete 'quit' message after the end\n",
    "msgs = task_queue.receive_messages(MessageAttributeNames=['Worker'])\n",
    "for msg in msgs:\n",
    "    worker_dns_name = 'unknown'\n",
    "    if msg.message_attributes is not None:\n",
    "        worker_dns_name = msg.message_attributes.get('Worker')['StringValue']\n",
    "    print('%s: %s' % (worker_dns_name, msg.body))\n",
    "    #msg.delete()"
   ]
  },
  {
   "cell_type": "code",
   "execution_count": null,
   "metadata": {
    "collapsed": false
   },
   "outputs": [],
   "source": [
    "new_member_queue.purge()\n",
    "task_queue.purge()\n",
    "task_commitment_queue.purge()"
   ]
  },
  {
   "cell_type": "code",
   "execution_count": 17,
   "metadata": {
    "collapsed": true
   },
   "outputs": [],
   "source": [
    "hosts = [\n",
    "    \"ec2-52-89-193-15.us-west-2.compute.amazonaws.com\",\n",
    "    \"ec2-54-69-136-78.us-west-2.compute.amazonaws.com\",\n",
    "    \"ec2-54-68-193-159.us-west-2.compute.amazonaws.com\",\n",
    "    \"ec2-52-88-201-154.us-west-2.compute.amazonaws.com\",\n",
    "    \"ec2-52-89-15-13.us-west-2.compute.amazonaws.com\",\n",
    "    \"ec2-52-89-45-252.us-west-2.compute.amazonaws.com\",\n",
    "    \"ec2-54-69-129-216.us-west-2.compute.amazonaws.com\",\n",
    "    \"ec2-52-89-235-49.us-west-2.compute.amazonaws.com\",\n",
    "    \"ec2-54-68-201-203.us-west-2.compute.amazonaws.com\",\n",
    "    \"ec2-52-10-43-242.us-west-2.compute.amazonaws.com\",\n",
    "    \"ec2-52-88-239-14.us-west-2.compute.amazonaws.com\",\n",
    "    \"ec2-54-69-13-4.us-west-2.compute.amazonaws.com\",\n",
    "    \"ec2-52-89-133-116.us-west-2.compute.amazonaws.com\",\n",
    "    \"ec2-54-68-203-141.us-west-2.compute.amazonaws.com\",\n",
    "    \"ec2-54-69-128-40.us-west-2.compute.amazonaws.com\",\n",
    "    \"ec2-52-89-243-103.us-west-2.compute.amazonaws.com\",\n",
    "    \"ec2-54-68-167-111.us-west-2.compute.amazonaws.com\",\n",
    "    \"ec2-54-68-149-49.us-west-2.compute.amazonaws.com\",\n",
    "    \"ec2-52-88-140-31.us-west-2.compute.amazonaws.com\",\n",
    "    \"ec2-54-69-13-17.us-west-2.compute.amazonaws.com\",\n",
    "    \"ec2-54-68-108-253.us-west-2.compute.amazonaws.com\",\n",
    "    \"ec2-52-89-135-95.us-west-2.compute.amazonaws.com\",\n",
    "    \"ec2-52-89-221-244.us-west-2.compute.amazonaws.com\",\n",
    "    \"ec2-52-89-254-95.us-west-2.compute.amazonaws.com\",\n",
    "    \"ec2-54-68-166-47.us-west-2.compute.amazonaws.com\",\n",
    "    \"ec2-54-69-43-170.us-west-2.compute.amazonaws.com\",\n",
    "    \"ec2-52-89-151-225.us-west-2.compute.amazonaws.com\",\n",
    "    \"ec2-54-69-133-194.us-west-2.compute.amazonaws.com\",\n",
    "    \"ec2-52-26-206-14.us-west-2.compute.amazonaws.com\",\n",
    "    \"ec2-52-88-57-125.us-west-2.compute.amazonaws.com\",\n",
    "    \"ec2-54-69-102-121.us-west-2.compute.amazonaws.com\",\n",
    "    \"ec2-52-88-5-19.us-west-2.compute.amazonaws.com\",\n",
    "    \"ec2-52-25-5-100.us-west-2.compute.amazonaws.com\",\n",
    "    \"ec2-54-68-125-99.us-west-2.compute.amazonaws.com\",\n",
    "    \"ec2-52-89-55-24.us-west-2.compute.amazonaws.com\",\n",
    "    \"ec2-54-68-179-101.us-west-2.compute.amazonaws.com\",\n",
    "    \"ec2-54-69-7-70.us-west-2.compute.amazonaws.com\",\n",
    "    \"ec2-54-68-46-25.us-west-2.compute.amazonaws.com\",\n",
    "    \"ec2-52-27-101-119.us-west-2.compute.amazonaws.com\",\n",
    "    \"ec2-54-69-16-198.us-west-2.compute.amazonaws.com\",\n",
    "    \"ec2-52-27-202-38.us-west-2.compute.amazonaws.com\",\n",
    "    \"ec2-52-89-241-245.us-west-2.compute.amazonaws.com\",\n",
    "    \"ec2-52-89-188-228.us-west-2.compute.amazonaws.com\",\n",
    "    \"ec2-54-68-163-25.us-west-2.compute.amazonaws.com\",\n",
    "    \"ec2-54-69-100-163.us-west-2.compute.amazonaws.com\",\n",
    "    \"ec2-52-89-215-11.us-west-2.compute.amazonaws.com\",\n",
    "    \"ec2-52-89-93-129.us-west-2.compute.amazonaws.com\",\n",
    "    \"ec2-54-68-148-244.us-west-2.compute.amazonaws.com\",\n",
    "    \"ec2-54-68-205-216.us-west-2.compute.amazonaws.com\",\n",
    "    \"ec2-54-69-111-80.us-west-2.compute.amazonaws.com\",\n",
    "    \"ec2-54-69-16-189.us-west-2.compute.amazonaws.com\",\n",
    "    \"ec2-54-69-13-59.us-west-2.compute.amazonaws.com\",\n",
    "    \"ec2-52-89-248-201.us-west-2.compute.amazonaws.com\",\n",
    "    \"ec2-52-88-167-15.us-west-2.compute.amazonaws.com\",\n",
    "    \"ec2-54-68-102-238.us-west-2.compute.amazonaws.com\",\n",
    "    \"ec2-54-68-197-197.us-west-2.compute.amazonaws.com\",\n",
    "    \"ec2-52-24-252-202.us-west-2.compute.amazonaws.com\",\n",
    "    \"ec2-52-26-56-255.us-west-2.compute.amazonaws.com\",\n",
    "    \"ec2-52-11-188-93.us-west-2.compute.amazonaws.com\",\n",
    "    \"ec2-52-89-37-225.us-west-2.compute.amazonaws.com\",\n",
    "    \"ec2-54-69-134-170.us-west-2.compute.amazonaws.com\",\n",
    "    \"ec2-54-68-230-132.us-west-2.compute.amazonaws.com\",\n",
    "    \"ec2-52-26-247-58.us-west-2.compute.amazonaws.com\",\n",
    "    \"ec2-54-69-22-62.us-west-2.compute.amazonaws.com\",\n",
    "    \"ec2-52-88-148-10.us-west-2.compute.amazonaws.com\",\n",
    "    \"ec2-54-68-104-52.us-west-2.compute.amazonaws.com\",\n",
    "    \"ec2-54-68-115-107.us-west-2.compute.amazonaws.com\",\n",
    "    \"ec2-52-89-241-191.us-west-2.compute.amazonaws.com\",\n",
    "    \"ec2-54-69-136-58.us-west-2.compute.amazonaws.com\",\n",
    "    \"ec2-54-69-11-201.us-west-2.compute.amazonaws.com\",\n",
    "    \"ec2-52-10-114-136.us-west-2.compute.amazonaws.com\",\n",
    "    \"ec2-54-68-202-216.us-west-2.compute.amazonaws.com\",\n",
    "    \"ec2-54-69-136-34.us-west-2.compute.amazonaws.com\",\n",
    "    \"ec2-52-88-34-128.us-west-2.compute.amazonaws.com\",\n",
    "    \"ec2-52-88-176-236.us-west-2.compute.amazonaws.com\",\n",
    "    \"ec2-52-89-208-176.us-west-2.compute.amazonaws.com\",\n",
    "    \"ec2-52-24-102-152.us-west-2.compute.amazonaws.com\",\n",
    "    \"ec2-52-89-227-161.us-west-2.compute.amazonaws.com\",\n",
    "    \"ec2-54-68-203-253.us-west-2.compute.amazonaws.com\",\n",
    "    \"ec2-52-89-90-171.us-west-2.compute.amazonaws.com\",\n",
    "    \"ec2-52-89-196-70.us-west-2.compute.amazonaws.com\",\n",
    "    \"ec2-52-88-12-15.us-west-2.compute.amazonaws.com\",\n",
    "    \"ec2-52-89-175-90.us-west-2.compute.amazonaws.com\",\n",
    "    \"ec2-52-89-230-26.us-west-2.compute.amazonaws.com\",\n",
    "    \"ec2-54-68-156-176.us-west-2.compute.amazonaws.com\",\n",
    "    \"ec2-52-89-163-39.us-west-2.compute.amazonaws.com\",\n",
    "    \"ec2-54-69-112-242.us-west-2.compute.amazonaws.com\",\n",
    "    \"ec2-52-25-123-5.us-west-2.compute.amazonaws.com\",\n",
    "    \"ec2-52-88-216-208.us-west-2.compute.amazonaws.com\",\n",
    "    \"ec2-52-25-242-153.us-west-2.compute.amazonaws.com\",\n",
    "    \"ec2-54-68-131-38.us-west-2.compute.amazonaws.com\",\n",
    "    \"ec2-52-88-135-209.us-west-2.compute.amazonaws.com\",\n",
    "    \"ec2-52-27-6-21.us-west-2.compute.amazonaws.com\",\n",
    "    \"ec2-54-69-136-66.us-west-2.compute.amazonaws.com\",\n",
    "    \"ec2-52-89-222-49.us-west-2.compute.amazonaws.com\",\n",
    "    \"ec2-52-89-226-215.us-west-2.compute.amazonaws.com\",\n",
    "    \"ec2-52-89-187-92.us-west-2.compute.amazonaws.com\",\n",
    "    \"ec2-52-24-99-129.us-west-2.compute.amazonaws.com\",\n",
    "    \"ec2-52-89-132-66.us-west-2.compute.amazonaws.com\",\n",
    "    \"ec2-52-89-73-242.us-west-2.compute.amazonaws.com\"   \n",
    "    ]\n"
   ]
  }
 ],
 "metadata": {
  "kernelspec": {
   "display_name": "Python 2",
   "language": "python",
   "name": "python2"
  },
  "language_info": {
   "codemirror_mode": {
    "name": "ipython",
    "version": 2
   },
   "file_extension": ".py",
   "mimetype": "text/x-python",
   "name": "python",
   "nbconvert_exporter": "python",
   "pygments_lexer": "ipython2",
   "version": "2.7.6"
  }
 },
 "nbformat": 4,
 "nbformat_minor": 0
}
