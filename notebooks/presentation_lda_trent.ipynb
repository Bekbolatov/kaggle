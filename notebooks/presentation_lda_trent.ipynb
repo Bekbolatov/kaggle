{
 "cells": [
  {
   "cell_type": "markdown",
   "metadata": {},
   "source": [
    "This was presented on Tue Sep 1, 2015 at Galvanize (meetup)\n",
    "Trent Hauck was presenting"
   ]
  },
  {
   "cell_type": "markdown",
   "metadata": {},
   "source": [
    "LDA  -  more interpretable\n",
    "generative model RBM (neural net)\n",
    "Word2Vec:  Cont. BagofWords + Skip-gram  - less interpretable\n",
    "\n",
    "Also useful to look at: Doc2Vec\n",
    "\n",
    "For LDA, pick number of topics by minimizing \"perplexity\"\n",
    "smart_open: for iterating over large files\n",
    "nltk: for test cleaning in python\n",
    "flask API:\n",
    "http post ...  < input.json\n",
    "TSNE - PCA alternative, visualize\n",
    "Seaborn graphics/chart"
   ]
  },
  {
   "cell_type": "code",
   "execution_count": 20,
   "metadata": {
    "collapsed": true
   },
   "outputs": [],
   "source": [
    "import scipy.stats as st\n",
    "import numpy as np\n",
    "from numpy import random as r\n",
    "\n",
    "np.set_printoptions(precision=2)"
   ]
  },
  {
   "cell_type": "code",
   "execution_count": 21,
   "metadata": {
    "collapsed": false
   },
   "outputs": [],
   "source": [
    "K = 5  # number of topics\n",
    "M = 10 # number of documents\n",
    "V = 20 # number of terms\n",
    "\n",
    "alpha = [1./K for i in np.arange(K)]\n",
    "theta = [1./M for i in np.arange(M)]"
   ]
  },
  {
   "cell_type": "code",
   "execution_count": 22,
   "metadata": {
    "collapsed": true
   },
   "outputs": [],
   "source": [
    "document_topic_distributions = r.dirichlet(alpha, M)  #( 10, 5)\n",
    "topic_word_distributions = r.dirichlet(theta, V)      # (5, 20)"
   ]
  },
  {
   "cell_type": "code",
   "execution_count": 23,
   "metadata": {
    "collapsed": false
   },
   "outputs": [
    {
     "data": {
      "text/plain": [
       "array([[  1.53e-01,   4.05e-02,   2.85e-01,   4.22e-02,   4.79e-01],\n",
       "       [  1.89e-04,   2.03e-02,   2.20e-03,   9.16e-01,   6.16e-02],\n",
       "       [  6.19e-01,   3.35e-02,   2.83e-01,   1.53e-07,   6.42e-02],\n",
       "       [  6.54e-03,   1.25e-07,   9.36e-01,   1.40e-05,   5.72e-02],\n",
       "       [  9.23e-01,   3.55e-02,   3.81e-02,   5.51e-04,   2.69e-03],\n",
       "       [  2.84e-08,   4.39e-09,   6.60e-01,   5.92e-04,   3.40e-01],\n",
       "       [  1.12e-02,   7.17e-02,   9.05e-01,   1.23e-02,   3.55e-09],\n",
       "       [  9.10e-04,   6.78e-03,   1.16e-02,   4.41e-04,   9.80e-01],\n",
       "       [  2.59e-01,   7.37e-01,   1.44e-04,   1.62e-04,   3.50e-03],\n",
       "       [  9.99e-01,   4.25e-08,   3.19e-05,   7.88e-04,   2.77e-11]])"
      ]
     },
     "execution_count": 23,
     "metadata": {},
     "output_type": "execute_result"
    }
   ],
   "source": [
    "document_topic_distributions"
   ]
  },
  {
   "cell_type": "code",
   "execution_count": null,
   "metadata": {
    "collapsed": true
   },
   "outputs": [],
   "source": [
    "# On tshauk website there will be code\n",
    "for i in range(M):\n",
    "    for j in range(V):\n",
    "        topic = r.multinomial(1, document_topic_distributions[i])\n",
    "        word = r.multinomial(1, topic_word_distributions[topic])\n"
   ]
  },
  {
   "cell_type": "raw",
   "metadata": {},
   "source": []
  }
 ],
 "metadata": {
  "kernelspec": {
   "display_name": "Python 2",
   "language": "python",
   "name": "python2"
  },
  "language_info": {
   "codemirror_mode": {
    "name": "ipython",
    "version": 2
   },
   "file_extension": ".py",
   "mimetype": "text/x-python",
   "name": "python",
   "nbconvert_exporter": "python",
   "pygments_lexer": "ipython2",
   "version": "2.7.6"
  }
 },
 "nbformat": 4,
 "nbformat_minor": 0
}
