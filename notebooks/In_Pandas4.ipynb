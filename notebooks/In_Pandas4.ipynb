{
 "cells": [
  {
   "cell_type": "code",
   "execution_count": 1,
   "metadata": {
    "collapsed": true
   },
   "outputs": [],
   "source": [
    "%matplotlib inline\n",
    "\n",
    "import datetime\n",
    "\n",
    "import matplotlib\n",
    "import numpy as np\n",
    "import matplotlib.pyplot as plt\n",
    "import pandas as pd\n",
    "import scipy.sparse as sp\n",
    "\n",
    "from sklearn.cross_validation import train_test_split\n",
    "from sklearn.metrics import roc_auc_score\n",
    "from sklearn.feature_extraction.text import CountVectorizer, TfidfTransformer\n",
    "\n",
    "import xgboost as xgb"
   ]
  },
  {
   "cell_type": "markdown",
   "metadata": {},
   "source": [
    "## A: Start"
   ]
  },
  {
   "cell_type": "code",
   "execution_count": 2,
   "metadata": {
    "collapsed": false
   },
   "outputs": [
    {
     "name": "stdout",
     "output_type": "stream",
     "text": [
      "start\n"
     ]
    }
   ],
   "source": [
    "print(\"start\")\n",
    "df_train = pd.read_pickle('/mnt/sframe/df_train')\n",
    "df_test = pd.read_pickle('/mnt/sframe/df_test')\n",
    "\n",
    "df_train['text'].fillna('', inplace=True)\n",
    "df_test['text'].fillna('', inplace=True)"
   ]
  },
  {
   "cell_type": "markdown",
   "metadata": {},
   "source": [
    "### B.1: test"
   ]
  },
  {
   "cell_type": "code",
   "execution_count": null,
   "metadata": {
    "collapsed": true
   },
   "outputs": [],
   "source": [
    "print(\"split\")\n",
    "train_train, train_cv = train_test_split(df_train, test_size=0.2, random_state=107)\n",
    "\n",
    "TRAIN = train_train\n",
    "CV = train_cv"
   ]
  },
  {
   "cell_type": "markdown",
   "metadata": {},
   "source": [
    "### B.2: deploy"
   ]
  },
  {
   "cell_type": "code",
   "execution_count": 3,
   "metadata": {
    "collapsed": false
   },
   "outputs": [],
   "source": [
    "TRAIN = df_train\n",
    "CV = df_test"
   ]
  },
  {
   "cell_type": "markdown",
   "metadata": {},
   "source": [
    "## C: Model"
   ]
  },
  {
   "cell_type": "code",
   "execution_count": 4,
   "metadata": {
    "collapsed": false
   },
   "outputs": [
    {
     "name": "stdout",
     "output_type": "stream",
     "text": [
      "BOW\n",
      "shape TRAIN_counts: (337024, 108062)\n",
      "TF-IDF\n",
      "shape TRAIN_tfidf: (337024, 108062)\n"
     ]
    }
   ],
   "source": [
    "print(\"BOW\")\n",
    "count_vect = CountVectorizer(stop_words='english', min_df=20)\n",
    "TRAIN_counts = count_vect.fit_transform(TRAIN['text'])\n",
    "CV_counts = count_vect.transform(CV['text'])\n",
    "print(\"shape TRAIN_counts: %s\" % (str(TRAIN_counts.shape)))\n",
    "\n",
    "print(\"TF-IDF\")\n",
    "tfidf_transformer = TfidfTransformer()\n",
    "TRAIN_tfidf = tfidf_transformer.fit_transform(TRAIN_counts)\n",
    "CV_tfidf = tfidf_transformer.transform(CV_counts)\n",
    "print(\"shape TRAIN_tfidf: %s\" % (str(TRAIN_tfidf.shape)))"
   ]
  },
  {
   "cell_type": "code",
   "execution_count": 5,
   "metadata": {
    "collapsed": false
   },
   "outputs": [
    {
     "name": "stdout",
     "output_type": "stream",
     "text": [
      "Combine features\n",
      "shape DF_TRAIN: (337024, 50)\n"
     ]
    }
   ],
   "source": [
    "print(\"Combine features\")\n",
    "bad_cols = [col for col in list(TRAIN.columns) \n",
    "            if col.startswith('word2vec') or col in set(['text_words', 'text', 'id', 'sponsored'])]\n",
    "\n",
    "DF_TRAIN = TRAIN.drop(bad_cols, 1).fillna(0)\n",
    "DF_CV = CV.drop(bad_cols, 1).fillna(0)\n",
    "\n",
    "DF_TRAIN = DF_TRAIN.astype('float64')\n",
    "DF_CV = DF_CV.astype('float64')\n",
    "\n",
    "DF_DF_TRAIN = sp.hstack( [TRAIN_tfidf,  sp.csr_matrix(np.array(DF_TRAIN)) ] )\n",
    "DF_DF_CV = sp.hstack( [CV_tfidf,  sp.csr_matrix(np.array(DF_CV)) ] )\n",
    "\n",
    "print(\"shape DF_TRAIN: %s\" % (str(DF_TRAIN.shape)))"
   ]
  },
  {
   "cell_type": "code",
   "execution_count": 6,
   "metadata": {
    "collapsed": false
   },
   "outputs": [
    {
     "name": "stdout",
     "output_type": "stream",
     "text": [
      "shape DF_DF_TRAIN: (337024, 108112)\n"
     ]
    }
   ],
   "source": [
    "print(\"shape DF_DF_TRAIN: %s\" % (str(DF_DF_TRAIN.shape)))"
   ]
  },
  {
   "cell_type": "markdown",
   "metadata": {},
   "source": [
    "## D: Combine"
   ]
  },
  {
   "cell_type": "markdown",
   "metadata": {},
   "source": [
    "### D.1: test"
   ]
  },
  {
   "cell_type": "code",
   "execution_count": null,
   "metadata": {
    "collapsed": true
   },
   "outputs": [],
   "source": [
    "dtrain = xgb.DMatrix(DF_DF_TRAIN, label = TRAIN['sponsored'])\n",
    "dtest = xgb.DMatrix(DF_DF_CV, label = CV['sponsored'])\n",
    "watchlist  = [(dtest,'eval'), (dtrain,'train')]"
   ]
  },
  {
   "cell_type": "markdown",
   "metadata": {},
   "source": [
    "### D.2: deploy"
   ]
  },
  {
   "cell_type": "code",
   "execution_count": 8,
   "metadata": {
    "collapsed": true
   },
   "outputs": [],
   "source": [
    "dtrain = xgb.DMatrix(DF_DF_TRAIN, label = TRAIN['sponsored'])\n",
    "dtest = xgb.DMatrix(DF_DF_CV)\n",
    "watchlist  = [(dtrain,'train')]"
   ]
  },
  {
   "cell_type": "code",
   "execution_count": 9,
   "metadata": {
    "collapsed": true
   },
   "outputs": [],
   "source": [
    "# Save for later:\n",
    "dtrain.save_binary('orig_dtrain.buffer_mindf20')\n",
    "dtest.save_binary('orig_dtest.buffer_mindf20')"
   ]
  },
  {
   "cell_type": "markdown",
   "metadata": {},
   "source": [
    "## E: Params"
   ]
  },
  {
   "cell_type": "code",
   "execution_count": null,
   "metadata": {
    "collapsed": false
   },
   "outputs": [
    {
     "name": "stdout",
     "output_type": "stream",
     "text": [
      "2015-10-06 16:41:57.080669\n"
     ]
    }
   ],
   "source": [
    "#max depth [8], eta 0.2, colsample_bytree 0.5, subsample: 1.0\n",
    "param = {'max_depth': 17, \n",
    "         'eta': 0.05, \n",
    "         #'gamma': 1.0,\n",
    "         'colsample_bytree': 0.6,\n",
    "         'subsample': 1.0,\n",
    "         'min_child_weight': 7,\n",
    "         'silent':1, \n",
    "         'objective':'binary:logistic', \n",
    "         'eval_metric':'auc',\n",
    "         'early_stopping_rounds':20}\n",
    "num_round = 800\n",
    "\n",
    "print(datetime.datetime.now())"
   ]
  },
  {
   "cell_type": "code",
   "execution_count": null,
   "metadata": {
    "collapsed": false,
    "scrolled": false
   },
   "outputs": [
    {
     "name": "stderr",
     "output_type": "stream",
     "text": [
      "[0]\ttrain-auc:0.750854\n",
      "[1]\ttrain-auc:0.803894\n",
      "[2]\ttrain-auc:0.809665\n",
      "[3]\ttrain-auc:0.818385\n",
      "[4]\ttrain-auc:0.827795\n",
      "[5]\ttrain-auc:0.830302\n",
      "[6]\ttrain-auc:0.834035\n",
      "[7]\ttrain-auc:0.839013\n",
      "[8]\ttrain-auc:0.844391\n",
      "[9]\ttrain-auc:0.848326\n",
      "[10]\ttrain-auc:0.851132\n",
      "[11]\ttrain-auc:0.852845\n",
      "[12]\ttrain-auc:0.854122\n",
      "[13]\ttrain-auc:0.857297\n",
      "[14]\ttrain-auc:0.860236\n",
      "[15]\ttrain-auc:0.866022\n",
      "[16]\ttrain-auc:0.871069\n",
      "[17]\ttrain-auc:0.874039\n",
      "[18]\ttrain-auc:0.878415\n",
      "[19]\ttrain-auc:0.885498\n",
      "[20]\ttrain-auc:0.891266\n",
      "[21]\ttrain-auc:0.893285\n",
      "[22]\ttrain-auc:0.898215\n",
      "[23]\ttrain-auc:0.900397\n",
      "[24]\ttrain-auc:0.906033\n",
      "[25]\ttrain-auc:0.911527\n",
      "[26]\ttrain-auc:0.914070\n",
      "[27]\ttrain-auc:0.915713\n",
      "[28]\ttrain-auc:0.918840\n",
      "[29]\ttrain-auc:0.920841\n",
      "[30]\ttrain-auc:0.924216\n",
      "[31]\ttrain-auc:0.927562\n",
      "[32]\ttrain-auc:0.929592\n",
      "[33]\ttrain-auc:0.931161\n",
      "[34]\ttrain-auc:0.932303\n",
      "[35]\ttrain-auc:0.934801\n",
      "[36]\ttrain-auc:0.936846\n",
      "[37]\ttrain-auc:0.937568\n",
      "[38]\ttrain-auc:0.939899\n",
      "[39]\ttrain-auc:0.941443\n",
      "[40]\ttrain-auc:0.943318\n",
      "[41]\ttrain-auc:0.944972\n",
      "[42]\ttrain-auc:0.946216\n",
      "[43]\ttrain-auc:0.948093\n",
      "[44]\ttrain-auc:0.950176\n",
      "[45]\ttrain-auc:0.951618\n",
      "[46]\ttrain-auc:0.953196\n",
      "[47]\ttrain-auc:0.954128\n",
      "[48]\ttrain-auc:0.955436\n",
      "[49]\ttrain-auc:0.956133\n",
      "[50]\ttrain-auc:0.957336\n",
      "[51]\ttrain-auc:0.958716\n",
      "[52]\ttrain-auc:0.959985\n",
      "[53]\ttrain-auc:0.960965\n",
      "[54]\ttrain-auc:0.962089\n",
      "[55]\ttrain-auc:0.963040\n",
      "[56]\ttrain-auc:0.964010\n",
      "[57]\ttrain-auc:0.964879\n",
      "[58]\ttrain-auc:0.965695\n",
      "[59]\ttrain-auc:0.966299\n",
      "[60]\ttrain-auc:0.966930\n",
      "[61]\ttrain-auc:0.967707\n"
     ]
    }
   ],
   "source": [
    "bst = xgb.train(param, dtrain, num_round, watchlist)"
   ]
  },
  {
   "cell_type": "code",
   "execution_count": null,
   "metadata": {
    "collapsed": true
   },
   "outputs": [],
   "source": [
    "print(datetime.datetime.now())\n",
    "preds = bst.predict(dtest) #, ntree_limit=bst.boost .best_iteration)"
   ]
  },
  {
   "cell_type": "code",
   "execution_count": null,
   "metadata": {
    "collapsed": true
   },
   "outputs": [],
   "source": [
    "roc_auc_score(CV['sponsored'], preds)"
   ]
  },
  {
   "cell_type": "markdown",
   "metadata": {},
   "source": [
    "# S"
   ]
  },
  {
   "cell_type": "code",
   "execution_count": null,
   "metadata": {
    "collapsed": true
   },
   "outputs": [],
   "source": [
    "submission = pd.DataFrame({\n",
    "        'file': df_test['id'].map(lambda s: s + '_raw_html.txt').reset_index(drop=True),\n",
    "        'sponsored': preds\n",
    "    })\n",
    "submission.to_csv('submission_xgb_Oct_06_01.csv', index=False)\n",
    "print(datetime.datetime.now())"
   ]
  },
  {
   "cell_type": "code",
   "execution_count": null,
   "metadata": {
    "collapsed": true
   },
   "outputs": [],
   "source": [
    "#submission = df_test[['id']].map(lambda s: s + '_raw_html.txt'). reset_index(drop=True)\n",
    "#submission['sponsored'] = clf.predict_proba(test.drop(['file', 'sponsored'], 1))[:, 1]\n",
    "#submission.to_csv('submission_xgb_Oct_06_01.csv', index=False)"
   ]
  },
  {
   "cell_type": "markdown",
   "metadata": {},
   "source": [
    "# T"
   ]
  },
  {
   "cell_type": "code",
   "execution_count": null,
   "metadata": {
    "collapsed": false
   },
   "outputs": [],
   "source": [
    "#max depth [8], eta 0.2, colsample_bytree 0.5, subsample: 1.0\n",
    "param = {'max_depth': 16, \n",
    "         'eta': 0.1, \n",
    "         #'gamma': 1.0,\n",
    "         'colsample_bytree': 0.5,\n",
    "         'subsample': 1.0,\n",
    "         'min_child_weight': 5,\n",
    "         'silent':1, \n",
    "         'objective':'binary:logistic', \n",
    "         'eval_metric':'auc',\n",
    "         'early_stopping_rounds':20}\n",
    "num_round = 300\n",
    "\n",
    "print(datetime.datetime.now())"
   ]
  },
  {
   "cell_type": "code",
   "execution_count": null,
   "metadata": {
    "collapsed": true
   },
   "outputs": [],
   "source": []
  },
  {
   "cell_type": "code",
   "execution_count": null,
   "metadata": {
    "collapsed": true
   },
   "outputs": [],
   "source": [
    "dtrain.save_binary('dtrain.buffer_mindf20')\n",
    "dtest.save_binary('dtest.buffer_mindf20')\n",
    "#a = xgb.DMatrix('dtest.buffer')"
   ]
  },
  {
   "cell_type": "code",
   "execution_count": null,
   "metadata": {
    "collapsed": true
   },
   "outputs": [],
   "source": [
    "submission = test[['file']].reset_index(drop=True)\n",
    "submission['sponsored'] = clf.predict_proba(test.drop(['file', 'sponsored'], 1))[:, 1]"
   ]
  }
 ],
 "metadata": {
  "kernelspec": {
   "display_name": "Python 2",
   "language": "python",
   "name": "python2"
  },
  "language_info": {
   "codemirror_mode": {
    "name": "ipython",
    "version": 2
   },
   "file_extension": ".py",
   "mimetype": "text/x-python",
   "name": "python",
   "nbconvert_exporter": "python",
   "pygments_lexer": "ipython2",
   "version": "2.7.9"
  }
 },
 "nbformat": 4,
 "nbformat_minor": 0
}
